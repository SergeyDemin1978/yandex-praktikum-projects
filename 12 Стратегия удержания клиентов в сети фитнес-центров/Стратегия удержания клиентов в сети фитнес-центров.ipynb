{
 "cells": [
  {
   "cell_type": "markdown",
   "metadata": {},
   "source": [
    "<H1 align=\"center\">Основы машинного обучения. <br><br>Стратегия удержания клиентов в сети фитнес-центров.</H1><br><br>\n",
    "\n",
    "**Цель исследования:** \n",
    "\n",
    "*Провести анализ и подготовить план действий по удержанию клиентов:*\n",
    "- *научиться прогнозировать вероятность оттока (на уровне следующего месяца) для каждого клиента;*\n",
    "- *сформировать типичные портреты пользователей: выделить несколько наиболее ярких групп и охарактеризовать их основные свойства;*\n",
    "- *проанализировать основные признаки, наиболее сильно влияющие на отток;*\n",
    "- *сформулировать основные выводы и разработать рекомендации по повышению качества работы с клиентами:*\n",
    " - *выделить целевые группы клиентов;*\n",
    " - *предложить меры по снижению оттока;*\n",
    " - *определить другие особенности взаимодействия с клиентами.*\n",
    "\n",
    "**Описание данных:**\n",
    "\n",
    "- Заказчик подготовил данные, которые содержат данные на месяц до оттока и факт оттока на определённый месяц:\n",
    " - **'Churn'** — факт оттока в текущем месяце;\n",
    "   - **'Churn' == 1** - ушедшие пользователи;\n",
    "   - **'Churn' == 0** - оставшиеся пользователи.\n",
    "\n",
    "\n",
    "- Данные пользователя за предыдущий до проверки факта оттока месяц:\n",
    " - **'gender'** — пол;\n",
    " - **'Near_Location'** — проживание или работа в районе, где находится фитнес-центр;\n",
    " - **'Partner'** — сотрудник компании-партнёра клуба (сотрудничество с компаниями, чьи сотрудники могут получать скидки на абонемент — в таком случае фитнес-центр хранит информацию о работодателе клиента);\n",
    " - **'Promo_friends'** — факт первоначальной записи в рамках акции «приведи друга» (использовал промо-код от знакомого при оплате первого абонемента);\n",
    " - **'Phone'** — наличие контактного телефона;\n",
    " - **'Age'** — возраст;\n",
    " - **'Lifetime'** — время с момента первого обращения в фитнес-центр (в месяцах).\n",
    "\n",
    "\n",
    "- Информация на основе журнала посещений, покупок и информация о текущем статусе абонемента клиента:\n",
    " - **'Contract_period'** — длительность текущего действующего абонемента (месяц, 3 месяца, 6 месяцев, год);\n",
    " - **'Month_to_end_contract'** — срок до окончания текущего действующего абонемента (в месяцах);\n",
    " - **'Group_visits'** — факт посещения групповых занятий;\n",
    " - **'Avg_class_frequency_total'** — средняя частота посещений в неделю за все время с начала действия абонемента\n",
    " - **'Avg_class_frequency_current_month'** — средняя частота посещений в неделю за предыдущий месяц;\n",
    " - **'Avg_additional_charges_total'** — суммарная выручка от других услуг фитнес-центра: кафе, спорт-товары, косметический и массажный салон."
   ]
  },
  {
   "cell_type": "markdown",
   "metadata": {},
   "source": [
    "**Оглавление:**<br>\n",
    "    \n",
    "1 [Загрузим данные.](#num1)\n",
    "   \n",
    "2 [Проведём исследовательский анализ данных (EDA).](#num2)\n",
    "    \n",
    "   2.1 [Вывод.](#num21)\n",
    "    \n",
    "3 [Построим модель прогнозирования оттока пользователей.](#num3)\n",
    "\n",
    "   3.1 [Вывод.](#num31)\n",
    "    \n",
    "4 [Выполним кластеризацию пользователей.](#num4)\n",
    "    \n",
    "5 [Общие выводы.](#num5)\n",
    "        \n"
   ]
  },
  {
   "cell_type": "markdown",
   "metadata": {},
   "source": [
    "<a id=\"num1\"></a>\n",
    "## Загрузим данные."
   ]
  },
  {
   "cell_type": "code",
   "execution_count": 1,
   "metadata": {},
   "outputs": [],
   "source": [
    "# импортируем необходимые библиотеки\n",
    "import pandas as pd\n",
    "import numpy as np\n",
    "from IPython.display import display\n",
    "\n",
    "# ML\n",
    "from sklearn.preprocessing import StandardScaler\n",
    "from sklearn.model_selection import train_test_split\n",
    "from sklearn.linear_model import Lasso, LogisticRegression\n",
    "from sklearn.ensemble import RandomForestClassifier\n",
    "from scipy.cluster.hierarchy import dendrogram, linkage\n",
    "from sklearn.cluster import KMeans\n",
    "from sklearn.metrics import silhouette_score, accuracy_score, precision_score, recall_score\n",
    "\n",
    "# визуализация\n",
    "%matplotlib inline\n",
    "import matplotlib.pyplot as plt\n",
    "import seaborn as sns"
   ]
  },
  {
   "cell_type": "code",
   "execution_count": 2,
   "metadata": {},
   "outputs": [],
   "source": [
    "# прочтём датафрейм\n",
    "data = pd.read_csv('gym_churn.csv')\n",
    "df = data.copy()"
   ]
  },
  {
   "cell_type": "code",
   "execution_count": 3,
   "metadata": {},
   "outputs": [],
   "source": [
    "pd.set_option('display.max_columns', None) # уберём лимит на изображаемое количество столбцов\n",
    "pd.set_option('display.max_rows', 100)     # повысим лимит на изображаемое количество строк\n",
    "pd.set_option('max_colwidth', 110)         # установим максимальную ширину столбца для таблиц"
   ]
  },
  {
   "cell_type": "code",
   "execution_count": 4,
   "metadata": {},
   "outputs": [],
   "source": [
    "# функции для выделения текста цветом (восьмеричные escape-символы '\\ 033')\n",
    "def colorRB(colorR, colorB): print(\"\\033[1;91m {} \\033[0m \\033[1;90m {} \\033[0m\".format(colorR, colorB))\n",
    "def colorR(colorR): print(\"\\033[1;91m {} \\033[0m\" .format(colorR))\n",
    "def colorB(colorB): print(\"\\033[1;98m {} \\033[0m\" .format(colorB))"
   ]
  },
  {
   "cell_type": "markdown",
   "metadata": {},
   "source": [
    "<a id=\"num2\"></a>\n",
    "## Проведём исследовательский анализ данных (EDA)."
   ]
  },
  {
   "cell_type": "markdown",
   "metadata": {},
   "source": [
    "<font size=3>Напишем функцию для получения основной информации о датафрейме.</font>"
   ]
  },
  {
   "cell_type": "code",
   "execution_count": 5,
   "metadata": {},
   "outputs": [],
   "source": [
    "def datainfo(data):\n",
    "    \n",
    "    \"\"\"\n",
    "       функция для получения основной информации о датафрейме, \n",
    "       функции передаётся датафрейм\n",
    "       \n",
    "    \"\"\"\n",
    "    \n",
    "    # переменные для выделения цветом (восьмеричные escape-символы '\\ 033')\n",
    "    BB = '\\033[1;90m'          # Черный, жирный цвет\n",
    "    BR = '\\033[1;91m'          # Красный, жирный цвет\n",
    "    Clr_Off = '\\033[0m'        # Сброс выделения (ставится в конце выделяемой строки)\n",
    "    \n",
    "    # приведём названия столбцов к нижнему регистру\n",
    "    #data.columns = data.columns.str.lower()\n",
    "    data.columns = data.columns.str.replace(\" \", \"_\").str.lower()\n",
    "    \n",
    "    print(BR + '\\n\\nСтруктура датафрейма:' + Clr_Off, end='\\n\\n')\n",
    "    data.info()\n",
    "    \n",
    "    print(BR + '\\n\\nДатафрейм:' + Clr_Off)\n",
    "    display(data.sample(5).T)\n",
    "    \n",
    "    # количество пропущенных значений\n",
    "    data_full_isna = data.isna()\n",
    "    if data_full_isna.sum().sum() == 0:\n",
    "        print(BR + '\\n\\nОбщее количество пропущенных значений: ' + Clr_Off, BB, data_full_isna.sum().sum(), Clr_Off)\n",
    "    else:\n",
    "        # найдём все пропуски в процентном отношении ко всему датафрейму\n",
    "        print(BR + '\\n\\nОбщее количество пропущенных значений: ' + Clr_Off, BB, data_full_isna.sum().sum(), Clr_Off)\n",
    "        print(BR + 'Процент пропущенных значений в колонках: ' + Clr_Off)\n",
    "        display(data[data_full_isna].sum().astype(str) + '%')\n",
    "    \n",
    "    # количество дубликатов\n",
    "    data_full_duplicated = data.duplicated().sum()\n",
    "    if data_full_duplicated == 0:\n",
    "        print(BR + '\\n\\nОбщее количество дубликатов: ' + Clr_Off, BB, data_full_duplicated, Clr_Off)\n",
    "    else:\n",
    "        print(BR + '\\n\\nОбщее количество дубликатов: ' + Clr_Off, BB, data_full_duplicated, Clr_Off)\n",
    "        # процент дубликатов\n",
    "        print(BR + 'Общий процент дубликатов: ' + Clr_Off, BB, '{:.1%}'.format(data_full_duplicated / len(data)), Clr_Off)\n",
    "        # количество полных дубликатов по колонкам\n",
    "        print(BR + 'Количество дубликатов в колонках: ' + Clr_Off)\n",
    "        display(data[data.duplicated()].iloc[:, 0].value_counts())\n",
    "    \n",
    "    # количество уникальных значений в датафрейме\n",
    "    print(BR + '\\n\\nКоличество уникальных значений в датафрейме:' + Clr_Off)\n",
    "    display(data.nunique())"
   ]
  },
  {
   "cell_type": "code",
   "execution_count": 6,
   "metadata": {},
   "outputs": [
    {
     "name": "stdout",
     "output_type": "stream",
     "text": [
      "\u001b[1;91m\n",
      "\n",
      "Структура датафрейма:\u001b[0m\n",
      "\n",
      "<class 'pandas.core.frame.DataFrame'>\n",
      "RangeIndex: 4000 entries, 0 to 3999\n",
      "Data columns (total 14 columns):\n",
      " #   Column                             Non-Null Count  Dtype  \n",
      "---  ------                             --------------  -----  \n",
      " 0   gender                             4000 non-null   int64  \n",
      " 1   near_location                      4000 non-null   int64  \n",
      " 2   partner                            4000 non-null   int64  \n",
      " 3   promo_friends                      4000 non-null   int64  \n",
      " 4   phone                              4000 non-null   int64  \n",
      " 5   contract_period                    4000 non-null   int64  \n",
      " 6   group_visits                       4000 non-null   int64  \n",
      " 7   age                                4000 non-null   int64  \n",
      " 8   avg_additional_charges_total       4000 non-null   float64\n",
      " 9   month_to_end_contract              4000 non-null   float64\n",
      " 10  lifetime                           4000 non-null   int64  \n",
      " 11  avg_class_frequency_total          4000 non-null   float64\n",
      " 12  avg_class_frequency_current_month  4000 non-null   float64\n",
      " 13  churn                              4000 non-null   int64  \n",
      "dtypes: float64(4), int64(10)\n",
      "memory usage: 437.6 KB\n",
      "\u001b[1;91m\n",
      "\n",
      "Датафрейм:\u001b[0m\n"
     ]
    },
    {
     "data": {
      "text/html": [
       "<div>\n",
       "<style scoped>\n",
       "    .dataframe tbody tr th:only-of-type {\n",
       "        vertical-align: middle;\n",
       "    }\n",
       "\n",
       "    .dataframe tbody tr th {\n",
       "        vertical-align: top;\n",
       "    }\n",
       "\n",
       "    .dataframe thead th {\n",
       "        text-align: right;\n",
       "    }\n",
       "</style>\n",
       "<table border=\"1\" class=\"dataframe\">\n",
       "  <thead>\n",
       "    <tr style=\"text-align: right;\">\n",
       "      <th></th>\n",
       "      <th>2216</th>\n",
       "      <th>2738</th>\n",
       "      <th>1958</th>\n",
       "      <th>3285</th>\n",
       "      <th>1324</th>\n",
       "    </tr>\n",
       "  </thead>\n",
       "  <tbody>\n",
       "    <tr>\n",
       "      <th>gender</th>\n",
       "      <td>0.000000</td>\n",
       "      <td>0.000000</td>\n",
       "      <td>0.000000</td>\n",
       "      <td>1.000000</td>\n",
       "      <td>0.000000</td>\n",
       "    </tr>\n",
       "    <tr>\n",
       "      <th>near_location</th>\n",
       "      <td>1.000000</td>\n",
       "      <td>1.000000</td>\n",
       "      <td>0.000000</td>\n",
       "      <td>1.000000</td>\n",
       "      <td>1.000000</td>\n",
       "    </tr>\n",
       "    <tr>\n",
       "      <th>partner</th>\n",
       "      <td>0.000000</td>\n",
       "      <td>0.000000</td>\n",
       "      <td>1.000000</td>\n",
       "      <td>0.000000</td>\n",
       "      <td>1.000000</td>\n",
       "    </tr>\n",
       "    <tr>\n",
       "      <th>promo_friends</th>\n",
       "      <td>0.000000</td>\n",
       "      <td>1.000000</td>\n",
       "      <td>0.000000</td>\n",
       "      <td>0.000000</td>\n",
       "      <td>1.000000</td>\n",
       "    </tr>\n",
       "    <tr>\n",
       "      <th>phone</th>\n",
       "      <td>1.000000</td>\n",
       "      <td>1.000000</td>\n",
       "      <td>0.000000</td>\n",
       "      <td>1.000000</td>\n",
       "      <td>1.000000</td>\n",
       "    </tr>\n",
       "    <tr>\n",
       "      <th>contract_period</th>\n",
       "      <td>1.000000</td>\n",
       "      <td>1.000000</td>\n",
       "      <td>1.000000</td>\n",
       "      <td>1.000000</td>\n",
       "      <td>12.000000</td>\n",
       "    </tr>\n",
       "    <tr>\n",
       "      <th>group_visits</th>\n",
       "      <td>0.000000</td>\n",
       "      <td>1.000000</td>\n",
       "      <td>1.000000</td>\n",
       "      <td>0.000000</td>\n",
       "      <td>1.000000</td>\n",
       "    </tr>\n",
       "    <tr>\n",
       "      <th>age</th>\n",
       "      <td>30.000000</td>\n",
       "      <td>28.000000</td>\n",
       "      <td>26.000000</td>\n",
       "      <td>26.000000</td>\n",
       "      <td>29.000000</td>\n",
       "    </tr>\n",
       "    <tr>\n",
       "      <th>avg_additional_charges_total</th>\n",
       "      <td>177.759353</td>\n",
       "      <td>198.874967</td>\n",
       "      <td>464.068749</td>\n",
       "      <td>114.092768</td>\n",
       "      <td>301.036014</td>\n",
       "    </tr>\n",
       "    <tr>\n",
       "      <th>month_to_end_contract</th>\n",
       "      <td>1.000000</td>\n",
       "      <td>1.000000</td>\n",
       "      <td>1.000000</td>\n",
       "      <td>1.000000</td>\n",
       "      <td>11.000000</td>\n",
       "    </tr>\n",
       "    <tr>\n",
       "      <th>lifetime</th>\n",
       "      <td>2.000000</td>\n",
       "      <td>2.000000</td>\n",
       "      <td>4.000000</td>\n",
       "      <td>9.000000</td>\n",
       "      <td>3.000000</td>\n",
       "    </tr>\n",
       "    <tr>\n",
       "      <th>avg_class_frequency_total</th>\n",
       "      <td>1.994393</td>\n",
       "      <td>1.464452</td>\n",
       "      <td>3.350751</td>\n",
       "      <td>2.276566</td>\n",
       "      <td>1.940937</td>\n",
       "    </tr>\n",
       "    <tr>\n",
       "      <th>avg_class_frequency_current_month</th>\n",
       "      <td>1.597329</td>\n",
       "      <td>0.828874</td>\n",
       "      <td>3.259372</td>\n",
       "      <td>2.323146</td>\n",
       "      <td>1.953406</td>\n",
       "    </tr>\n",
       "    <tr>\n",
       "      <th>churn</th>\n",
       "      <td>1.000000</td>\n",
       "      <td>1.000000</td>\n",
       "      <td>0.000000</td>\n",
       "      <td>0.000000</td>\n",
       "      <td>0.000000</td>\n",
       "    </tr>\n",
       "  </tbody>\n",
       "</table>\n",
       "</div>"
      ],
      "text/plain": [
       "                                         2216        2738        1958  \\\n",
       "gender                               0.000000    0.000000    0.000000   \n",
       "near_location                        1.000000    1.000000    0.000000   \n",
       "partner                              0.000000    0.000000    1.000000   \n",
       "promo_friends                        0.000000    1.000000    0.000000   \n",
       "phone                                1.000000    1.000000    0.000000   \n",
       "contract_period                      1.000000    1.000000    1.000000   \n",
       "group_visits                         0.000000    1.000000    1.000000   \n",
       "age                                 30.000000   28.000000   26.000000   \n",
       "avg_additional_charges_total       177.759353  198.874967  464.068749   \n",
       "month_to_end_contract                1.000000    1.000000    1.000000   \n",
       "lifetime                             2.000000    2.000000    4.000000   \n",
       "avg_class_frequency_total            1.994393    1.464452    3.350751   \n",
       "avg_class_frequency_current_month    1.597329    0.828874    3.259372   \n",
       "churn                                1.000000    1.000000    0.000000   \n",
       "\n",
       "                                         3285        1324  \n",
       "gender                               1.000000    0.000000  \n",
       "near_location                        1.000000    1.000000  \n",
       "partner                              0.000000    1.000000  \n",
       "promo_friends                        0.000000    1.000000  \n",
       "phone                                1.000000    1.000000  \n",
       "contract_period                      1.000000   12.000000  \n",
       "group_visits                         0.000000    1.000000  \n",
       "age                                 26.000000   29.000000  \n",
       "avg_additional_charges_total       114.092768  301.036014  \n",
       "month_to_end_contract                1.000000   11.000000  \n",
       "lifetime                             9.000000    3.000000  \n",
       "avg_class_frequency_total            2.276566    1.940937  \n",
       "avg_class_frequency_current_month    2.323146    1.953406  \n",
       "churn                                0.000000    0.000000  "
      ]
     },
     "metadata": {},
     "output_type": "display_data"
    },
    {
     "name": "stdout",
     "output_type": "stream",
     "text": [
      "\u001b[1;91m\n",
      "\n",
      "Общее количество пропущенных значений: \u001b[0m \u001b[1;90m 0 \u001b[0m\n",
      "\u001b[1;91m\n",
      "\n",
      "Общее количество дубликатов: \u001b[0m \u001b[1;90m 0 \u001b[0m\n",
      "\u001b[1;91m\n",
      "\n",
      "Количество уникальных значений в датафрейме:\u001b[0m\n"
     ]
    },
    {
     "data": {
      "text/plain": [
       "gender                                  2\n",
       "near_location                           2\n",
       "partner                                 2\n",
       "promo_friends                           2\n",
       "phone                                   2\n",
       "contract_period                         3\n",
       "group_visits                            2\n",
       "age                                    23\n",
       "avg_additional_charges_total         4000\n",
       "month_to_end_contract                  12\n",
       "lifetime                               29\n",
       "avg_class_frequency_total            3913\n",
       "avg_class_frequency_current_month    3820\n",
       "churn                                   2\n",
       "dtype: int64"
      ]
     },
     "metadata": {},
     "output_type": "display_data"
    }
   ],
   "source": [
    "datainfo(df)"
   ]
  },
  {
   "cell_type": "markdown",
   "metadata": {},
   "source": [
    "*Датафрейм состоит из **14** колонок и **4000** строк. Колонки имеют только числовые значения, причём в семи колонках значения принимают бинарный вид. Пропущенных значений и дубликатов не обнаруженно.*"
   ]
  },
  {
   "cell_type": "markdown",
   "metadata": {},
   "source": [
    "<font size=3>Собирём краткую статистическую сводку для данных, методом describe()</font>"
   ]
  },
  {
   "cell_type": "code",
   "execution_count": 7,
   "metadata": {},
   "outputs": [],
   "source": [
    "def describe(data):\n",
    "    \n",
    "    \"\"\"\n",
    "       статистические показатели датафрейма, \n",
    "       с помощью менеджера контекста, избавимся \n",
    "       от экспоненциальной записи\n",
    "       \n",
    "    \"\"\"\n",
    "    \n",
    "    # переменные для выделения текста цветом (восьмеричные escape-символы \\ 033)\n",
    "    BB = '\\033[1;90m'          # Черный\n",
    "    BR = '\\033[1;91m'          # Красный\n",
    "    Clr_Off = '\\033[0m'        # Сброс цвета текста (ставится в конце текста)\n",
    "    \n",
    "    print(BR + '\\n\\nСтатистические показатели датафрейма:' + Clr_Off)\n",
    "    with pd.option_context('display.float_format', '{:.2f}'.format):\n",
    "        display(data.describe(include='all', datetime_is_numeric=True).T)"
   ]
  },
  {
   "cell_type": "code",
   "execution_count": 8,
   "metadata": {},
   "outputs": [
    {
     "name": "stdout",
     "output_type": "stream",
     "text": [
      "\u001b[1;91m\n",
      "\n",
      "Статистические показатели датафрейма:\u001b[0m\n"
     ]
    },
    {
     "data": {
      "text/html": [
       "<div>\n",
       "<style scoped>\n",
       "    .dataframe tbody tr th:only-of-type {\n",
       "        vertical-align: middle;\n",
       "    }\n",
       "\n",
       "    .dataframe tbody tr th {\n",
       "        vertical-align: top;\n",
       "    }\n",
       "\n",
       "    .dataframe thead th {\n",
       "        text-align: right;\n",
       "    }\n",
       "</style>\n",
       "<table border=\"1\" class=\"dataframe\">\n",
       "  <thead>\n",
       "    <tr style=\"text-align: right;\">\n",
       "      <th></th>\n",
       "      <th>count</th>\n",
       "      <th>mean</th>\n",
       "      <th>std</th>\n",
       "      <th>min</th>\n",
       "      <th>25%</th>\n",
       "      <th>50%</th>\n",
       "      <th>75%</th>\n",
       "      <th>max</th>\n",
       "    </tr>\n",
       "  </thead>\n",
       "  <tbody>\n",
       "    <tr>\n",
       "      <th>gender</th>\n",
       "      <td>4000.00</td>\n",
       "      <td>0.51</td>\n",
       "      <td>0.50</td>\n",
       "      <td>0.00</td>\n",
       "      <td>0.00</td>\n",
       "      <td>1.00</td>\n",
       "      <td>1.00</td>\n",
       "      <td>1.00</td>\n",
       "    </tr>\n",
       "    <tr>\n",
       "      <th>near_location</th>\n",
       "      <td>4000.00</td>\n",
       "      <td>0.85</td>\n",
       "      <td>0.36</td>\n",
       "      <td>0.00</td>\n",
       "      <td>1.00</td>\n",
       "      <td>1.00</td>\n",
       "      <td>1.00</td>\n",
       "      <td>1.00</td>\n",
       "    </tr>\n",
       "    <tr>\n",
       "      <th>partner</th>\n",
       "      <td>4000.00</td>\n",
       "      <td>0.49</td>\n",
       "      <td>0.50</td>\n",
       "      <td>0.00</td>\n",
       "      <td>0.00</td>\n",
       "      <td>0.00</td>\n",
       "      <td>1.00</td>\n",
       "      <td>1.00</td>\n",
       "    </tr>\n",
       "    <tr>\n",
       "      <th>promo_friends</th>\n",
       "      <td>4000.00</td>\n",
       "      <td>0.31</td>\n",
       "      <td>0.46</td>\n",
       "      <td>0.00</td>\n",
       "      <td>0.00</td>\n",
       "      <td>0.00</td>\n",
       "      <td>1.00</td>\n",
       "      <td>1.00</td>\n",
       "    </tr>\n",
       "    <tr>\n",
       "      <th>phone</th>\n",
       "      <td>4000.00</td>\n",
       "      <td>0.90</td>\n",
       "      <td>0.30</td>\n",
       "      <td>0.00</td>\n",
       "      <td>1.00</td>\n",
       "      <td>1.00</td>\n",
       "      <td>1.00</td>\n",
       "      <td>1.00</td>\n",
       "    </tr>\n",
       "    <tr>\n",
       "      <th>contract_period</th>\n",
       "      <td>4000.00</td>\n",
       "      <td>4.68</td>\n",
       "      <td>4.55</td>\n",
       "      <td>1.00</td>\n",
       "      <td>1.00</td>\n",
       "      <td>1.00</td>\n",
       "      <td>6.00</td>\n",
       "      <td>12.00</td>\n",
       "    </tr>\n",
       "    <tr>\n",
       "      <th>group_visits</th>\n",
       "      <td>4000.00</td>\n",
       "      <td>0.41</td>\n",
       "      <td>0.49</td>\n",
       "      <td>0.00</td>\n",
       "      <td>0.00</td>\n",
       "      <td>0.00</td>\n",
       "      <td>1.00</td>\n",
       "      <td>1.00</td>\n",
       "    </tr>\n",
       "    <tr>\n",
       "      <th>age</th>\n",
       "      <td>4000.00</td>\n",
       "      <td>29.18</td>\n",
       "      <td>3.26</td>\n",
       "      <td>18.00</td>\n",
       "      <td>27.00</td>\n",
       "      <td>29.00</td>\n",
       "      <td>31.00</td>\n",
       "      <td>41.00</td>\n",
       "    </tr>\n",
       "    <tr>\n",
       "      <th>avg_additional_charges_total</th>\n",
       "      <td>4000.00</td>\n",
       "      <td>146.94</td>\n",
       "      <td>96.36</td>\n",
       "      <td>0.15</td>\n",
       "      <td>68.87</td>\n",
       "      <td>136.22</td>\n",
       "      <td>210.95</td>\n",
       "      <td>552.59</td>\n",
       "    </tr>\n",
       "    <tr>\n",
       "      <th>month_to_end_contract</th>\n",
       "      <td>4000.00</td>\n",
       "      <td>4.32</td>\n",
       "      <td>4.19</td>\n",
       "      <td>1.00</td>\n",
       "      <td>1.00</td>\n",
       "      <td>1.00</td>\n",
       "      <td>6.00</td>\n",
       "      <td>12.00</td>\n",
       "    </tr>\n",
       "    <tr>\n",
       "      <th>lifetime</th>\n",
       "      <td>4000.00</td>\n",
       "      <td>3.72</td>\n",
       "      <td>3.75</td>\n",
       "      <td>0.00</td>\n",
       "      <td>1.00</td>\n",
       "      <td>3.00</td>\n",
       "      <td>5.00</td>\n",
       "      <td>31.00</td>\n",
       "    </tr>\n",
       "    <tr>\n",
       "      <th>avg_class_frequency_total</th>\n",
       "      <td>4000.00</td>\n",
       "      <td>1.88</td>\n",
       "      <td>0.97</td>\n",
       "      <td>0.00</td>\n",
       "      <td>1.18</td>\n",
       "      <td>1.83</td>\n",
       "      <td>2.54</td>\n",
       "      <td>6.02</td>\n",
       "    </tr>\n",
       "    <tr>\n",
       "      <th>avg_class_frequency_current_month</th>\n",
       "      <td>4000.00</td>\n",
       "      <td>1.77</td>\n",
       "      <td>1.05</td>\n",
       "      <td>0.00</td>\n",
       "      <td>0.96</td>\n",
       "      <td>1.72</td>\n",
       "      <td>2.51</td>\n",
       "      <td>6.15</td>\n",
       "    </tr>\n",
       "    <tr>\n",
       "      <th>churn</th>\n",
       "      <td>4000.00</td>\n",
       "      <td>0.27</td>\n",
       "      <td>0.44</td>\n",
       "      <td>0.00</td>\n",
       "      <td>0.00</td>\n",
       "      <td>0.00</td>\n",
       "      <td>1.00</td>\n",
       "      <td>1.00</td>\n",
       "    </tr>\n",
       "  </tbody>\n",
       "</table>\n",
       "</div>"
      ],
      "text/plain": [
       "                                    count   mean   std   min   25%    50%  \\\n",
       "gender                            4000.00   0.51  0.50  0.00  0.00   1.00   \n",
       "near_location                     4000.00   0.85  0.36  0.00  1.00   1.00   \n",
       "partner                           4000.00   0.49  0.50  0.00  0.00   0.00   \n",
       "promo_friends                     4000.00   0.31  0.46  0.00  0.00   0.00   \n",
       "phone                             4000.00   0.90  0.30  0.00  1.00   1.00   \n",
       "contract_period                   4000.00   4.68  4.55  1.00  1.00   1.00   \n",
       "group_visits                      4000.00   0.41  0.49  0.00  0.00   0.00   \n",
       "age                               4000.00  29.18  3.26 18.00 27.00  29.00   \n",
       "avg_additional_charges_total      4000.00 146.94 96.36  0.15 68.87 136.22   \n",
       "month_to_end_contract             4000.00   4.32  4.19  1.00  1.00   1.00   \n",
       "lifetime                          4000.00   3.72  3.75  0.00  1.00   3.00   \n",
       "avg_class_frequency_total         4000.00   1.88  0.97  0.00  1.18   1.83   \n",
       "avg_class_frequency_current_month 4000.00   1.77  1.05  0.00  0.96   1.72   \n",
       "churn                             4000.00   0.27  0.44  0.00  0.00   0.00   \n",
       "\n",
       "                                     75%    max  \n",
       "gender                              1.00   1.00  \n",
       "near_location                       1.00   1.00  \n",
       "partner                             1.00   1.00  \n",
       "promo_friends                       1.00   1.00  \n",
       "phone                               1.00   1.00  \n",
       "contract_period                     6.00  12.00  \n",
       "group_visits                        1.00   1.00  \n",
       "age                                31.00  41.00  \n",
       "avg_additional_charges_total      210.95 552.59  \n",
       "month_to_end_contract               6.00  12.00  \n",
       "lifetime                            5.00  31.00  \n",
       "avg_class_frequency_total           2.54   6.02  \n",
       "avg_class_frequency_current_month   2.51   6.15  \n",
       "churn                               1.00   1.00  "
      ]
     },
     "metadata": {},
     "output_type": "display_data"
    }
   ],
   "source": [
    "describe(df)"
   ]
  },
  {
   "cell_type": "markdown",
   "metadata": {},
   "source": [
    "***Статистическое описание датафрейма.***\n",
    "- *Распределение по полу примерно одинаково*\n",
    "- *Большинство клиентов (**85%**) живет или работает рядом с фитнес-клубом*\n",
    "- *Примерно половина клиентов являются сотрудниками партнерских организаций*\n",
    "- *Около **30%** клиентов пришли по программе \"Приведи друга\"*\n",
    "- *Известны мобильные номера примерно **90%** клиентов*\n",
    "- *Средняя длительность действующего абонемента - **4.7** месяцев*\n",
    "- *Около **40%** клиентов посещают групповые занятия*\n",
    "- *Средний возраст клиентов **29** лет (возраст клиентов от **18** до **41** года)*\n",
    "- *Средняя суммарная выручка от других услуг фитнес-центра* - **147**\n",
    "- *средняя длительность действующего абонемента - **4.3** месяцев*\n",
    "- *Среднее время с момента первого обращения в фитнес-центр - **3.7** месяцев*\n",
    "- *Средняя частота посещений за все время - **1.88** раз в неделю*\n",
    "- *Средняя частота посещений за последний месяц - **1.77** раз в неделю*\n",
    "- *Общая доля оттока* - **27%**\n",
    "\n",
    "\n",
    "*Чем ближе стандартное отклонение к 0, тем правдоподобнее среднее значение (стандартное отклонение близкое к 0, говорит о маленькой вариабельности данных).*\n",
    "\n",
    "*Наиболее изменчивые данные сосредоточены в колонках:*\n",
    "- *Длительность действующего абонемента*\n",
    "- *Возраст*\n",
    "- *Суммарная выручка от других услуг фитнес-центра*\n",
    "- *Длительность действующего абонемента*\n",
    "- *Время с момента первого обращения в фитнес-центр*\n",
    "- *Частота посещений за последний месяц*"
   ]
  },
  {
   "cell_type": "markdown",
   "metadata": {},
   "source": [
    "<font size=3>Посмотрим средние значения признаков в двух группах — тех, кто ушел в отток и тех, кто остался.</font>"
   ]
  },
  {
   "cell_type": "code",
   "execution_count": 9,
   "metadata": {
    "scrolled": false
   },
   "outputs": [
    {
     "data": {
      "text/html": [
       "<style type=\"text/css\">\n",
       "#T_6586c_row0_col0, #T_6586c_row1_col1, #T_6586c_row2_col1, #T_6586c_row3_col1, #T_6586c_row4_col1, #T_6586c_row5_col1, #T_6586c_row6_col1, #T_6586c_row7_col1, #T_6586c_row8_col1, #T_6586c_row9_col1, #T_6586c_row10_col1, #T_6586c_row11_col1, #T_6586c_row12_col1 {\n",
       "  background-color: #f7fbff;\n",
       "  color: #000000;\n",
       "}\n",
       "#T_6586c_row0_col1, #T_6586c_row1_col0, #T_6586c_row2_col0, #T_6586c_row3_col0, #T_6586c_row4_col0, #T_6586c_row5_col0, #T_6586c_row6_col0, #T_6586c_row7_col0, #T_6586c_row8_col0, #T_6586c_row9_col0, #T_6586c_row10_col0, #T_6586c_row11_col0, #T_6586c_row12_col0 {\n",
       "  background-color: #08306b;\n",
       "  color: #f1f1f1;\n",
       "}\n",
       "</style>\n",
       "<table id=\"T_6586c_\">\n",
       "  <thead>\n",
       "    <tr>\n",
       "      <th class=\"index_name level0\" >churn</th>\n",
       "      <th class=\"col_heading level0 col0\" >0</th>\n",
       "      <th class=\"col_heading level0 col1\" >1</th>\n",
       "    </tr>\n",
       "  </thead>\n",
       "  <tbody>\n",
       "    <tr>\n",
       "      <th id=\"T_6586c_level0_row0\" class=\"row_heading level0 row0\" >gender</th>\n",
       "      <td id=\"T_6586c_row0_col0\" class=\"data row0 col0\" >0.510037</td>\n",
       "      <td id=\"T_6586c_row0_col1\" class=\"data row0 col1\" >0.510839</td>\n",
       "    </tr>\n",
       "    <tr>\n",
       "      <th id=\"T_6586c_level0_row1\" class=\"row_heading level0 row1\" >near_location</th>\n",
       "      <td id=\"T_6586c_row1_col0\" class=\"data row1 col0\" >0.873086</td>\n",
       "      <td id=\"T_6586c_row1_col1\" class=\"data row1 col1\" >0.768143</td>\n",
       "    </tr>\n",
       "    <tr>\n",
       "      <th id=\"T_6586c_level0_row2\" class=\"row_heading level0 row2\" >partner</th>\n",
       "      <td id=\"T_6586c_row2_col0\" class=\"data row2 col0\" >0.534195</td>\n",
       "      <td id=\"T_6586c_row2_col1\" class=\"data row2 col1\" >0.355325</td>\n",
       "    </tr>\n",
       "    <tr>\n",
       "      <th id=\"T_6586c_level0_row3\" class=\"row_heading level0 row3\" >promo_friends</th>\n",
       "      <td id=\"T_6586c_row3_col0\" class=\"data row3 col0\" >0.353522</td>\n",
       "      <td id=\"T_6586c_row3_col1\" class=\"data row3 col1\" >0.183789</td>\n",
       "    </tr>\n",
       "    <tr>\n",
       "      <th id=\"T_6586c_level0_row4\" class=\"row_heading level0 row4\" >phone</th>\n",
       "      <td id=\"T_6586c_row4_col0\" class=\"data row4 col0\" >0.903709</td>\n",
       "      <td id=\"T_6586c_row4_col1\" class=\"data row4 col1\" >0.902922</td>\n",
       "    </tr>\n",
       "    <tr>\n",
       "      <th id=\"T_6586c_level0_row5\" class=\"row_heading level0 row5\" >contract_period</th>\n",
       "      <td id=\"T_6586c_row5_col0\" class=\"data row5 col0\" >5.747193</td>\n",
       "      <td id=\"T_6586c_row5_col1\" class=\"data row5 col1\" >1.728558</td>\n",
       "    </tr>\n",
       "    <tr>\n",
       "      <th id=\"T_6586c_level0_row6\" class=\"row_heading level0 row6\" >group_visits</th>\n",
       "      <td id=\"T_6586c_row6_col0\" class=\"data row6 col0\" >0.464103</td>\n",
       "      <td id=\"T_6586c_row6_col1\" class=\"data row6 col1\" >0.268615</td>\n",
       "    </tr>\n",
       "    <tr>\n",
       "      <th id=\"T_6586c_level0_row7\" class=\"row_heading level0 row7\" >age</th>\n",
       "      <td id=\"T_6586c_row7_col0\" class=\"data row7 col0\" >29.976523</td>\n",
       "      <td id=\"T_6586c_row7_col1\" class=\"data row7 col1\" >26.989632</td>\n",
       "    </tr>\n",
       "    <tr>\n",
       "      <th id=\"T_6586c_level0_row8\" class=\"row_heading level0 row8\" >avg_additional_charges_total</th>\n",
       "      <td id=\"T_6586c_row8_col0\" class=\"data row8 col0\" >158.445715</td>\n",
       "      <td id=\"T_6586c_row8_col1\" class=\"data row8 col1\" >115.082899</td>\n",
       "    </tr>\n",
       "    <tr>\n",
       "      <th id=\"T_6586c_level0_row9\" class=\"row_heading level0 row9\" >month_to_end_contract</th>\n",
       "      <td id=\"T_6586c_row9_col0\" class=\"data row9 col0\" >5.283089</td>\n",
       "      <td id=\"T_6586c_row9_col1\" class=\"data row9 col1\" >1.662582</td>\n",
       "    </tr>\n",
       "    <tr>\n",
       "      <th id=\"T_6586c_level0_row10\" class=\"row_heading level0 row10\" >lifetime</th>\n",
       "      <td id=\"T_6586c_row10_col0\" class=\"data row10 col0\" >4.711807</td>\n",
       "      <td id=\"T_6586c_row10_col1\" class=\"data row10 col1\" >0.990575</td>\n",
       "    </tr>\n",
       "    <tr>\n",
       "      <th id=\"T_6586c_level0_row11\" class=\"row_heading level0 row11\" >avg_class_frequency_total</th>\n",
       "      <td id=\"T_6586c_row11_col0\" class=\"data row11 col0\" >2.024876</td>\n",
       "      <td id=\"T_6586c_row11_col1\" class=\"data row11 col1\" >1.474995</td>\n",
       "    </tr>\n",
       "    <tr>\n",
       "      <th id=\"T_6586c_level0_row12\" class=\"row_heading level0 row12\" >avg_class_frequency_current_month</th>\n",
       "      <td id=\"T_6586c_row12_col0\" class=\"data row12 col0\" >2.027882</td>\n",
       "      <td id=\"T_6586c_row12_col1\" class=\"data row12 col1\" >1.044546</td>\n",
       "    </tr>\n",
       "  </tbody>\n",
       "</table>\n"
      ],
      "text/plain": [
       "<pandas.io.formats.style.Styler at 0x2cca7fdb370>"
      ]
     },
     "metadata": {},
     "output_type": "display_data"
    }
   ],
   "source": [
    "# средние значения признаков в двух группах — тех, кто ушел в отток и тех, кто остался\n",
    "display(df.groupby(['churn']).mean().T\n",
    "        .style.background_gradient(cmap='Blues', axis=1)\n",
    "       )"
   ]
  },
  {
   "cell_type": "markdown",
   "metadata": {},
   "source": [
    " *Значения признаков: **'phone'**, **'gender'** примерно одинаково для всех групп и потому не влияют на их разделение на группы.*"
   ]
  },
  {
   "cell_type": "markdown",
   "metadata": {},
   "source": [
    "<font size=3>Выберем колонки, в которых средние значения признаков в группах (тех, кто остался и тех, кто ушёл) различаются. Построим по ним график распределения признаков.</font>"
   ]
  },
  {
   "cell_type": "code",
   "execution_count": 10,
   "metadata": {
    "scrolled": false
   },
   "outputs": [
    {
     "data": {
      "image/png": "[encoded data removed]",
      "text/plain": [
       "<Figure size 1152x864 with 10 Axes>"
      ]
     },
     "metadata": {
      "needs_background": "light"
     },
     "output_type": "display_data"
    }
   ],
   "source": [
    "# построим график распределения признаков для тех, кто ушёл (отток) и тех, кто остался (не попали в отток)\n",
    "column = ['near_location',\n",
    "          'partner',\n",
    "          'promo_friends',\n",
    "          'group_visits',\n",
    "          'age',\n",
    "          'avg_additional_charges_total',\n",
    "          'month_to_end_contract',\n",
    "          'lifetime',\n",
    "          'avg_class_frequency_total',\n",
    "          'avg_class_frequency_current_month',\n",
    "         ]\n",
    "\n",
    "plt.figure(figsize=(16, 12))\n",
    "for i, j in enumerate(column):\n",
    "    # задаём положение графика в сетке, i + 1 - порядковый номер графика\n",
    "    ax = plt.subplot(4, 3, i+1)\n",
    "    for churn in df['churn'].unique():\n",
    "        current = df.query('churn == @churn')\n",
    "        sns.kdeplot(current[j], bw_adjust=.5, shade=True)\n",
    "        plt.legend(['Оставшиеся', 'Отток'])\n",
    "\n",
    "plt.suptitle('\\n\\n Распределение признаков с разбивкой по оттоку. \\n', fontsize = 16)\n",
    "plt.tight_layout()\n",
    "\n",
    "plt.show()"
   ]
  },
  {
   "cell_type": "markdown",
   "metadata": {},
   "source": [
    "***Признаки свойственные для клиентов попавших в отток и для оставшихся клиентов:***\n",
    "\n",
    "- *Близко проживающие или работающие клиенты реже уходят в отток*\n",
    "- *Сотрудники компаний-партнеров реже уходят в отток*\n",
    "- *Клиенты, пришедшие по акции \"Приведи друга\" реже уходят в отток*\n",
    "- *Сотрудники, посещающие групповые занятия, реже уходят в отток*\n",
    "- *Средний возраст клиентов выше у оставшихся пользователей*\n",
    "- *Суммарная выручка от других услуг фитнес-центра выше у оставшихся пользователей*\n",
    "- *Срок до окончания текущего абонемента больше у оставшихся пользователей*\n",
    "- *Время с момента первого обращения в фитнес-центр больше у оставшихся пользователей*\n",
    "- *Частота посещений в неделю за предыдущий месяц выше у оставшихся пользователей*"
   ]
  },
  {
   "cell_type": "markdown",
   "metadata": {},
   "source": [
    "<font size=3>Построим матрицу корреляций и отобразим её.</font>"
   ]
  },
  {
   "cell_type": "code",
   "execution_count": 11,
   "metadata": {},
   "outputs": [
    {
     "data": {
      "image/png": "[encoded data removed]",
      "text/plain": [
       "<Figure size 1152x864 with 2 Axes>"
      ]
     },
     "metadata": {
      "needs_background": "light"
     },
     "output_type": "display_data"
    }
   ],
   "source": [
    "# матрица корреляций\n",
    "plt.figure(figsize=(16, 12))\n",
    "matrix = np.triu(df.corr())\n",
    "ax = sns.heatmap(df.corr(),\n",
    "                 annot=True,\n",
    "                 fmt='.2g',\n",
    "                 square=True,\n",
    "                 mask=matrix,\n",
    "                 cmap='RdYlBu_r',\n",
    "                )\n",
    "plt.title('\\n\\n Матрица корреляций. \\n', fontsize = 16)\n",
    "\n",
    "plt.show()"
   ]
  },
  {
   "cell_type": "markdown",
   "metadata": {},
   "source": [
    "*На матрице корреляций мы видим:*\n",
    "\n",
    "- *Два мультиколлинеарных признака **'avg_class_frequency_total'** и **'contract_period'** (коэффициент корреляции больше 0,7)*\n",
    "- *Сильно коррелирующие признаки между собой:*\n",
    " - *Между сотрудниками пришедшими по программе \"Приведи друга\" и сотрудниками компании-партнёра клуба*\n",
    "- *Для целевой переменной **'churn'** характерна отрицательная корреляция, сильную корреляцию мы наблюдаем с:*\n",
    " - *Длительностью действующего абонемента*\n",
    " - *Возрастом*\n",
    " - *Сроком до окончания действующего абонемента*\n",
    " - *Временем с момента первого обращения в фитнес-центр*\n",
    " - *Средней частотой посещений в неделю за предыдущий месяц*\n",
    "\n",
    "***Мультиколлинеарность*** — *корреляция независимых переменных, которая затрудняет оценку и анализ общего результата она может стать причиной переобучаемости модели, что приведет к неверному результату.*\n",
    "*Чтобы избавиться от мультиколлинарности, необходимо исключить из модели один из коррелирующих факторов.*"
   ]
  },
  {
   "cell_type": "markdown",
   "metadata": {},
   "source": [
    "<font size=3>Уберём из датафрейма два мультиколлинеарных признака, это колонки: 'avg_class_frequency_total' и 'contract_period'.</font>"
   ]
  },
  {
   "cell_type": "code",
   "execution_count": 12,
   "metadata": {},
   "outputs": [
    {
     "data": {
      "text/html": [
       "<div>\n",
       "<style scoped>\n",
       "    .dataframe tbody tr th:only-of-type {\n",
       "        vertical-align: middle;\n",
       "    }\n",
       "\n",
       "    .dataframe tbody tr th {\n",
       "        vertical-align: top;\n",
       "    }\n",
       "\n",
       "    .dataframe thead th {\n",
       "        text-align: right;\n",
       "    }\n",
       "</style>\n",
       "<table border=\"1\" class=\"dataframe\">\n",
       "  <thead>\n",
       "    <tr style=\"text-align: right;\">\n",
       "      <th></th>\n",
       "      <th>0</th>\n",
       "      <th>1</th>\n",
       "      <th>2</th>\n",
       "      <th>3</th>\n",
       "      <th>4</th>\n",
       "    </tr>\n",
       "  </thead>\n",
       "  <tbody>\n",
       "    <tr>\n",
       "      <th>gender</th>\n",
       "      <td>1.00000</td>\n",
       "      <td>0.000000</td>\n",
       "      <td>0.000000</td>\n",
       "      <td>0.000000</td>\n",
       "      <td>1.000000</td>\n",
       "    </tr>\n",
       "    <tr>\n",
       "      <th>near_location</th>\n",
       "      <td>1.00000</td>\n",
       "      <td>1.000000</td>\n",
       "      <td>1.000000</td>\n",
       "      <td>1.000000</td>\n",
       "      <td>1.000000</td>\n",
       "    </tr>\n",
       "    <tr>\n",
       "      <th>partner</th>\n",
       "      <td>1.00000</td>\n",
       "      <td>0.000000</td>\n",
       "      <td>1.000000</td>\n",
       "      <td>1.000000</td>\n",
       "      <td>1.000000</td>\n",
       "    </tr>\n",
       "    <tr>\n",
       "      <th>promo_friends</th>\n",
       "      <td>1.00000</td>\n",
       "      <td>0.000000</td>\n",
       "      <td>0.000000</td>\n",
       "      <td>1.000000</td>\n",
       "      <td>1.000000</td>\n",
       "    </tr>\n",
       "    <tr>\n",
       "      <th>phone</th>\n",
       "      <td>0.00000</td>\n",
       "      <td>1.000000</td>\n",
       "      <td>1.000000</td>\n",
       "      <td>1.000000</td>\n",
       "      <td>1.000000</td>\n",
       "    </tr>\n",
       "    <tr>\n",
       "      <th>group_visits</th>\n",
       "      <td>1.00000</td>\n",
       "      <td>1.000000</td>\n",
       "      <td>0.000000</td>\n",
       "      <td>1.000000</td>\n",
       "      <td>0.000000</td>\n",
       "    </tr>\n",
       "    <tr>\n",
       "      <th>age</th>\n",
       "      <td>29.00000</td>\n",
       "      <td>31.000000</td>\n",
       "      <td>28.000000</td>\n",
       "      <td>33.000000</td>\n",
       "      <td>26.000000</td>\n",
       "    </tr>\n",
       "    <tr>\n",
       "      <th>avg_additional_charges_total</th>\n",
       "      <td>14.22747</td>\n",
       "      <td>113.202938</td>\n",
       "      <td>129.448479</td>\n",
       "      <td>62.669863</td>\n",
       "      <td>198.362265</td>\n",
       "    </tr>\n",
       "    <tr>\n",
       "      <th>month_to_end_contract</th>\n",
       "      <td>5.00000</td>\n",
       "      <td>12.000000</td>\n",
       "      <td>1.000000</td>\n",
       "      <td>12.000000</td>\n",
       "      <td>1.000000</td>\n",
       "    </tr>\n",
       "    <tr>\n",
       "      <th>lifetime</th>\n",
       "      <td>3.00000</td>\n",
       "      <td>7.000000</td>\n",
       "      <td>2.000000</td>\n",
       "      <td>2.000000</td>\n",
       "      <td>3.000000</td>\n",
       "    </tr>\n",
       "    <tr>\n",
       "      <th>avg_class_frequency_current_month</th>\n",
       "      <td>0.00000</td>\n",
       "      <td>1.910244</td>\n",
       "      <td>1.736502</td>\n",
       "      <td>3.357215</td>\n",
       "      <td>1.120078</td>\n",
       "    </tr>\n",
       "    <tr>\n",
       "      <th>churn</th>\n",
       "      <td>0.00000</td>\n",
       "      <td>0.000000</td>\n",
       "      <td>0.000000</td>\n",
       "      <td>0.000000</td>\n",
       "      <td>0.000000</td>\n",
       "    </tr>\n",
       "  </tbody>\n",
       "</table>\n",
       "</div>"
      ],
      "text/plain": [
       "                                          0           1           2  \\\n",
       "gender                              1.00000    0.000000    0.000000   \n",
       "near_location                       1.00000    1.000000    1.000000   \n",
       "partner                             1.00000    0.000000    1.000000   \n",
       "promo_friends                       1.00000    0.000000    0.000000   \n",
       "phone                               0.00000    1.000000    1.000000   \n",
       "group_visits                        1.00000    1.000000    0.000000   \n",
       "age                                29.00000   31.000000   28.000000   \n",
       "avg_additional_charges_total       14.22747  113.202938  129.448479   \n",
       "month_to_end_contract               5.00000   12.000000    1.000000   \n",
       "lifetime                            3.00000    7.000000    2.000000   \n",
       "avg_class_frequency_current_month   0.00000    1.910244    1.736502   \n",
       "churn                               0.00000    0.000000    0.000000   \n",
       "\n",
       "                                           3           4  \n",
       "gender                              0.000000    1.000000  \n",
       "near_location                       1.000000    1.000000  \n",
       "partner                             1.000000    1.000000  \n",
       "promo_friends                       1.000000    1.000000  \n",
       "phone                               1.000000    1.000000  \n",
       "group_visits                        1.000000    0.000000  \n",
       "age                                33.000000   26.000000  \n",
       "avg_additional_charges_total       62.669863  198.362265  \n",
       "month_to_end_contract              12.000000    1.000000  \n",
       "lifetime                            2.000000    3.000000  \n",
       "avg_class_frequency_current_month   3.357215    1.120078  \n",
       "churn                               0.000000    0.000000  "
      ]
     },
     "metadata": {},
     "output_type": "display_data"
    }
   ],
   "source": [
    "# уберём из датафрейма коррелирующие колонки 'avg_class_frequency_total' и 'contract_period' методом drop()\n",
    "df = df.drop(['avg_class_frequency_total', 'contract_period'], axis = 1)\n",
    "\n",
    "display(df.head().T)"
   ]
  },
  {
   "cell_type": "markdown",
   "metadata": {},
   "source": [
    "<a id=\"num21\"></a>\n",
    "### Вывод."
   ]
  },
  {
   "cell_type": "markdown",
   "metadata": {},
   "source": [
    "*Мы провели исследовательский анализ данных, убрали Мультиколлинеарные признаки и подготовили данные для машинного обучения.*"
   ]
  },
  {
   "cell_type": "markdown",
   "metadata": {},
   "source": [
    "<a id=\"num3\"></a>\n",
    "## Построим модель прогнозирования оттока пользователей."
   ]
  },
  {
   "cell_type": "markdown",
   "metadata": {},
   "source": [
    "<br><font size=3>Вычислим метрику логистической регрессии.</font>"
   ]
  },
  {
   "cell_type": "markdown",
   "metadata": {},
   "source": [
    "Чтобы не удалять вручную скоррелированные признаки, применим L1-регуляризацию (Lasso-регрессию). То есть минимизируем ошибку подбором оптимальных весов, дополнительно стараемся ещё и минимизировать сумму модулей этих весов."
   ]
  },
  {
   "cell_type": "code",
   "execution_count": 13,
   "metadata": {},
   "outputs": [
    {
     "data": {
      "text/html": [
       "<div>\n",
       "<style scoped>\n",
       "    .dataframe tbody tr th:only-of-type {\n",
       "        vertical-align: middle;\n",
       "    }\n",
       "\n",
       "    .dataframe tbody tr th {\n",
       "        vertical-align: top;\n",
       "    }\n",
       "\n",
       "    .dataframe thead th {\n",
       "        text-align: right;\n",
       "    }\n",
       "</style>\n",
       "<table border=\"1\" class=\"dataframe\">\n",
       "  <thead>\n",
       "    <tr style=\"text-align: right;\">\n",
       "      <th></th>\n",
       "      <th>feature</th>\n",
       "      <th>coeff</th>\n",
       "      <th>coeff_abs</th>\n",
       "    </tr>\n",
       "  </thead>\n",
       "  <tbody>\n",
       "    <tr>\n",
       "      <th>0</th>\n",
       "      <td>gender</td>\n",
       "      <td>0.0</td>\n",
       "      <td>0.0</td>\n",
       "    </tr>\n",
       "    <tr>\n",
       "      <th>1</th>\n",
       "      <td>near_location</td>\n",
       "      <td>-0.0</td>\n",
       "      <td>0.0</td>\n",
       "    </tr>\n",
       "    <tr>\n",
       "      <th>2</th>\n",
       "      <td>partner</td>\n",
       "      <td>-0.0</td>\n",
       "      <td>0.0</td>\n",
       "    </tr>\n",
       "    <tr>\n",
       "      <th>3</th>\n",
       "      <td>promo_friends</td>\n",
       "      <td>-0.0</td>\n",
       "      <td>0.0</td>\n",
       "    </tr>\n",
       "    <tr>\n",
       "      <th>4</th>\n",
       "      <td>phone</td>\n",
       "      <td>-0.0</td>\n",
       "      <td>0.0</td>\n",
       "    </tr>\n",
       "    <tr>\n",
       "      <th>5</th>\n",
       "      <td>group_visits</td>\n",
       "      <td>-0.0</td>\n",
       "      <td>0.0</td>\n",
       "    </tr>\n",
       "    <tr>\n",
       "      <th>6</th>\n",
       "      <td>age</td>\n",
       "      <td>-0.0</td>\n",
       "      <td>0.0</td>\n",
       "    </tr>\n",
       "    <tr>\n",
       "      <th>7</th>\n",
       "      <td>avg_additional_charges_total</td>\n",
       "      <td>-0.0</td>\n",
       "      <td>0.0</td>\n",
       "    </tr>\n",
       "    <tr>\n",
       "      <th>8</th>\n",
       "      <td>month_to_end_contract</td>\n",
       "      <td>-0.0</td>\n",
       "      <td>0.0</td>\n",
       "    </tr>\n",
       "    <tr>\n",
       "      <th>9</th>\n",
       "      <td>lifetime</td>\n",
       "      <td>-0.0</td>\n",
       "      <td>0.0</td>\n",
       "    </tr>\n",
       "    <tr>\n",
       "      <th>10</th>\n",
       "      <td>avg_class_frequency_current_month</td>\n",
       "      <td>-0.0</td>\n",
       "      <td>0.0</td>\n",
       "    </tr>\n",
       "  </tbody>\n",
       "</table>\n",
       "</div>"
      ],
      "text/plain": [
       "                              feature  coeff  coeff_abs\n",
       "0                              gender    0.0        0.0\n",
       "1                       near_location   -0.0        0.0\n",
       "2                             partner   -0.0        0.0\n",
       "3                       promo_friends   -0.0        0.0\n",
       "4                               phone   -0.0        0.0\n",
       "5                        group_visits   -0.0        0.0\n",
       "6                                 age   -0.0        0.0\n",
       "7        avg_additional_charges_total   -0.0        0.0\n",
       "8               month_to_end_contract   -0.0        0.0\n",
       "9                            lifetime   -0.0        0.0\n",
       "10  avg_class_frequency_current_month   -0.0        0.0"
      ]
     },
     "metadata": {},
     "output_type": "display_data"
    }
   ],
   "source": [
    "from sklearn.linear_model import Lasso\n",
    "\n",
    "# разделяем данные на признаки (матрица X) и целевую переменную (y)\n",
    "X = df.drop('churn', axis = 1)\n",
    "y = df['churn']\n",
    "\n",
    "# разделяем модель на обучающую и валидационную выборку\n",
    "X_train, X_test, y_train, y_test = train_test_split(X, y, test_size=0.2, random_state=0, stratify=y)\n",
    "\n",
    "# стандартизируем данные методом StandartScaler\n",
    "scaler = StandardScaler()\n",
    "scaler.fit(X_train)\n",
    "X_train_st = scaler.transform(X_train)\n",
    "X_test_st = scaler.transform(X_test)\n",
    "\n",
    "# зададим алгоритм для нашей модели, Lasso(alpha=1.0) — величина регуляризации (по-умолчанию)\n",
    "model = Lasso()\n",
    "\n",
    "# обучим модель\n",
    "model.fit(X_train_st, y_train)\n",
    "\n",
    "# воспользуемся уже обученной моделью, чтобы сделать прогнозы\n",
    "predictions = model.predict(X_test_st)\n",
    "\n",
    "# создадим датафрейм с признаками и их весами\n",
    "features = pd.DataFrame({'feature': X.columns, 'coeff': model.coef_}) # воспользуйтесь методом coef_\n",
    "features['coeff_abs'] = features['coeff'].abs()\n",
    "\n",
    "# выведим упорядоченный по модулю коэффициентов датафрейм с признаками\n",
    "display(features.sort_values(by='coeff_abs', ascending=False))"
   ]
  },
  {
   "cell_type": "code",
   "execution_count": 14,
   "metadata": {},
   "outputs": [],
   "source": [
    "# разделим наши данные на признаки (матрица X) и целевую переменную (y)\n",
    "X = df.drop('churn', axis = 1)\n",
    "y = df['churn']\n",
    "\n",
    "# разделяем модель на обучающую и валидационную выборки\n",
    "X_train, X_test, y_train, y_test = train_test_split(X, y, test_size=0.2, random_state=0, stratify=y)\n",
    "\n",
    "# стандартизируем данные методом StandartScaler\n",
    "scaler = StandardScaler()              # создадим объект класса StandardScaler\n",
    "scaler.fit(X_train)                    # применим его к обучающей выборке\n",
    "X_train_st = scaler.transform(X_train) # обучаем scaler и одновременно трансформируем матрицу для обучающей выборки\n",
    "X_test_st = scaler.transform(X_test)   # стандартизацию к матрице признаков для тестовой выборки"
   ]
  },
  {
   "cell_type": "code",
   "execution_count": 15,
   "metadata": {},
   "outputs": [
    {
     "name": "stdout",
     "output_type": "stream",
     "text": [
      "\u001b[1;91m \n",
      "Метрики логистической регрессии: \n",
      " \u001b[0m\n",
      "\u001b[1;91m Accuracy:  \u001b[0m \u001b[1;90m 0.91 \u001b[0m\n",
      "\u001b[1;91m Precision: \u001b[0m \u001b[1;90m 0.84 \u001b[0m\n",
      "\u001b[1;91m Recall:    \u001b[0m \u001b[1;90m 0.83 \u001b[0m\n"
     ]
    }
   ],
   "source": [
    "# зададим алгоритм для модели логистической регрессии\n",
    "lr_model = LogisticRegression(random_state=0)\n",
    "\n",
    "# обучим модель логистической регрессии\n",
    "lr_model.fit(X_train_st, y_train)\n",
    "\n",
    "# воспользуемся уже обученной моделью, чтобы сделать прогнозы\n",
    "lr_predictions = lr_model.predict(X_test_st)\n",
    "lr_probabilities = lr_model.predict_proba(X_test_st)[:, 1]\n",
    "\n",
    "# оценим метрики accuracy, precision и recall на валидационной выборке выведем все изученные метрики\n",
    "colorR('\\nМетрики логистической регрессии: \\n')\n",
    "colorRB('Accuracy: ', '{:.2f}'.format(accuracy_score(y_test, lr_predictions)))\n",
    "colorRB('Precision:', '{:.2f}'.format(precision_score(y_test, lr_predictions)))\n",
    "colorRB('Recall:   ', '{:.2f}'.format(recall_score(y_test, lr_predictions)))"
   ]
  },
  {
   "cell_type": "markdown",
   "metadata": {},
   "source": [
    "<br><font size=3>Вычислим метрику алгоритма случайного леса.</font>"
   ]
  },
  {
   "cell_type": "code",
   "execution_count": 16,
   "metadata": {
    "scrolled": false
   },
   "outputs": [
    {
     "name": "stdout",
     "output_type": "stream",
     "text": [
      "\u001b[1;91m \n",
      "Метрики алгоритма случайного леса: \n",
      " \u001b[0m\n",
      "\u001b[1;91m Accuracy:  \u001b[0m \u001b[1;90m 0.91 \u001b[0m\n",
      "\u001b[1;91m Precision: \u001b[0m \u001b[1;90m 0.85 \u001b[0m\n",
      "\u001b[1;91m Recall:    \u001b[0m \u001b[1;90m 0.80 \u001b[0m\n"
     ]
    }
   ],
   "source": [
    "# зададим алгоритм для модели на основе алгоритма случайного леса\n",
    "rf_model = RandomForestClassifier(n_estimators = 100, random_state=0)\n",
    "\n",
    "# обучите модель случайного леса\n",
    "rf_model.fit(X_train_st, y_train)\n",
    "\n",
    "# воспользуемся уже обученной моделью, чтобы сделать прогнозы\n",
    "rf_predictions = rf_model.predict(X_test_st)\n",
    "rf_probabilities = rf_model.predict_proba(X_test_st)[:, 1]\n",
    "\n",
    "# оценим метрики accuracy, precision и recall на валидационной выборке, выведем все изученные метрики\n",
    "colorR('\\nМетрики алгоритма случайного леса: \\n')\n",
    "colorRB('Accuracy: ', '{:.2f}'.format(accuracy_score(y_test, rf_predictions)))\n",
    "colorRB('Precision:', '{:.2f}'.format(precision_score(y_test, rf_predictions)))\n",
    "colorRB('Recall:   ', '{:.2f}'.format(recall_score(y_test, rf_predictions)))"
   ]
  },
  {
   "cell_type": "markdown",
   "metadata": {},
   "source": [
    "<br><font size=3>Определим коэффициенты признаков для модели логистической регрессии.</font>"
   ]
  },
  {
   "cell_type": "code",
   "execution_count": 17,
   "metadata": {
    "scrolled": false
   },
   "outputs": [
    {
     "name": "stdout",
     "output_type": "stream",
     "text": [
      "\u001b[1;91m \n",
      "\n",
      "Коэффициенты признаков для модели логистической регрессии: \u001b[0m\n"
     ]
    },
    {
     "data": {
      "text/html": [
       "<div>\n",
       "<style scoped>\n",
       "    .dataframe tbody tr th:only-of-type {\n",
       "        vertical-align: middle;\n",
       "    }\n",
       "\n",
       "    .dataframe tbody tr th {\n",
       "        vertical-align: top;\n",
       "    }\n",
       "\n",
       "    .dataframe thead th {\n",
       "        text-align: right;\n",
       "    }\n",
       "</style>\n",
       "<table border=\"1\" class=\"dataframe\">\n",
       "  <thead>\n",
       "    <tr style=\"text-align: right;\">\n",
       "      <th></th>\n",
       "      <th>feature</th>\n",
       "      <th>coef</th>\n",
       "    </tr>\n",
       "  </thead>\n",
       "  <tbody>\n",
       "    <tr>\n",
       "      <th>0</th>\n",
       "      <td>gender</td>\n",
       "      <td>0.021272</td>\n",
       "    </tr>\n",
       "    <tr>\n",
       "      <th>1</th>\n",
       "      <td>near_location</td>\n",
       "      <td>0.066987</td>\n",
       "    </tr>\n",
       "    <tr>\n",
       "      <th>2</th>\n",
       "      <td>partner</td>\n",
       "      <td>0.067407</td>\n",
       "    </tr>\n",
       "    <tr>\n",
       "      <th>3</th>\n",
       "      <td>promo_friends</td>\n",
       "      <td>0.143751</td>\n",
       "    </tr>\n",
       "    <tr>\n",
       "      <th>4</th>\n",
       "      <td>phone</td>\n",
       "      <td>0.076467</td>\n",
       "    </tr>\n",
       "    <tr>\n",
       "      <th>5</th>\n",
       "      <td>group_visits</td>\n",
       "      <td>0.386240</td>\n",
       "    </tr>\n",
       "    <tr>\n",
       "      <th>6</th>\n",
       "      <td>age</td>\n",
       "      <td>1.183315</td>\n",
       "    </tr>\n",
       "    <tr>\n",
       "      <th>7</th>\n",
       "      <td>avg_additional_charges_total</td>\n",
       "      <td>0.576592</td>\n",
       "    </tr>\n",
       "    <tr>\n",
       "      <th>8</th>\n",
       "      <td>month_to_end_contract</td>\n",
       "      <td>1.395119</td>\n",
       "    </tr>\n",
       "    <tr>\n",
       "      <th>9</th>\n",
       "      <td>lifetime</td>\n",
       "      <td>3.655744</td>\n",
       "    </tr>\n",
       "    <tr>\n",
       "      <th>10</th>\n",
       "      <td>avg_class_frequency_current_month</td>\n",
       "      <td>1.304077</td>\n",
       "    </tr>\n",
       "  </tbody>\n",
       "</table>\n",
       "</div>"
      ],
      "text/plain": [
       "                              feature      coef\n",
       "0                              gender  0.021272\n",
       "1                       near_location  0.066987\n",
       "2                             partner  0.067407\n",
       "3                       promo_friends  0.143751\n",
       "4                               phone  0.076467\n",
       "5                        group_visits  0.386240\n",
       "6                                 age  1.183315\n",
       "7        avg_additional_charges_total  0.576592\n",
       "8               month_to_end_contract  1.395119\n",
       "9                            lifetime  3.655744\n",
       "10  avg_class_frequency_current_month  1.304077"
      ]
     },
     "metadata": {},
     "output_type": "display_data"
    }
   ],
   "source": [
    "# найдём коэффициенты признаков для модели логистической регрессии\n",
    "features = pd.DataFrame(lr_model.coef_.T, X.columns).reset_index()\n",
    "features.columns = ['feature', 'coef']\n",
    "features['coef'] = features['coef'].apply(lambda x: abs(x))\n",
    "\n",
    "colorR('\\n\\nКоэффициенты признаков для модели логистической регрессии:')\n",
    "display(features)"
   ]
  },
  {
   "cell_type": "markdown",
   "metadata": {},
   "source": [
    "<a id=\"num31\"></a>\n",
    "### Вывод."
   ]
  },
  {
   "cell_type": "markdown",
   "metadata": {},
   "source": [
    "**'Accuracy'** - доля правильных ответов алгоритма.<br>\n",
    "**'Precision'** (точность) - доля объектов, названных классификатором положительными и при этом действительно являющимися положительными.<br>\n",
    "**'Recall'** (полнота) - показывает, какую долю объектов положительного класса из всех объектов положительного класса нашел алгоритм.<br>\n",
    "\n",
    "\n",
    "- *Точность метрики случайного леса оказалась чуть выше при низкой полноте.*\n",
    "- *По совокупности полноты и точности, **метрика логистической регрессии опережает метрику случайного леса**.*\n",
    "- *Определили коэффициенты признаков для модели логистической регрессии с помощью которых мы можем делать прогнозы для новых выборок.*"
   ]
  },
  {
   "cell_type": "markdown",
   "metadata": {},
   "source": [
    "<a id=\"num4\"></a>\n",
    "## Выполним кластеризацию пользователей."
   ]
  },
  {
   "cell_type": "code",
   "execution_count": 18,
   "metadata": {},
   "outputs": [],
   "source": [
    "# разделим наши данные на признаки (матрица X) и целевую переменную (y)\n",
    "X = df.drop('churn', axis = 1)\n",
    "y = df['churn']\n",
    "\n",
    "# обязательная стандартизация данных перед работой с алгоритмами\n",
    "scaler = StandardScaler()        # создаём объект класса scaler (нормализатор)\n",
    "X_sc = scaler.fit_transform(X)   # обучаем нормализатор и преобразуем набор данных\n",
    "\n",
    "# построим матрицу расстояний на стандартизованной матрице признаков\n",
    "linked = linkage(X_sc, method = 'ward') "
   ]
  },
  {
   "cell_type": "code",
   "execution_count": 19,
   "metadata": {},
   "outputs": [
    {
     "data": {
      "image/png": "[encoded data removed]",
      "text/plain": [
       "<Figure size 1152x720 with 1 Axes>"
      ]
     },
     "metadata": {
      "needs_background": "light"
     },
     "output_type": "display_data"
    }
   ],
   "source": [
    "# нарисуем дендрограмму\n",
    "plt.figure(figsize=(16, 10))  \n",
    "dendrogram(linked, orientation='top')\n",
    "plt.axhline(y=50, color='r', linestyle='--')\n",
    "plt.title('\\n\\n Иерархическая кластеризация сети фитнес-центров. \\n', fontsize = 16)\n",
    "\n",
    "plt.show() "
   ]
  },
  {
   "cell_type": "markdown",
   "metadata": {},
   "source": [
    "*Если мы нарисуем горизонтальную линию, которая проходит через самое длинное расстояние (ниже горизонтальной линии соединяющей кластеры), мы получим 5 кластеров.*"
   ]
  },
  {
   "cell_type": "markdown",
   "metadata": {},
   "source": [
    "<br><font size=3>Обучим модель кластеризации на основании алгоритма K-Means и спрогнозируем кластеры клиентов.</font>"
   ]
  },
  {
   "cell_type": "code",
   "execution_count": 20,
   "metadata": {},
   "outputs": [],
   "source": [
    "# обязательная стандартизация данных перед работой с алгоритмами\n",
    "scaler = StandardScaler()                  # создадим объект класса scaler (нормализатор)\n",
    "X_sc = scaler.fit_transform(X)             # обучим нормализатор и преобразуем набор данных\n",
    "\n",
    "# зададим число кластеров, равное 5, и зафиксируем значение 'random_state' для воспроизводимости результата\n",
    "km = KMeans(n_clusters=5, random_state=0)\n",
    "labels = km.fit_predict(X_sc)              # применим алгоритм K-Means к данным и сформируем вектор кластеров\n",
    "df['cluster_km'] = labels                  # сохраним метки кластера в поле нашего датасета"
   ]
  },
  {
   "cell_type": "markdown",
   "metadata": {},
   "source": [
    "<br><font size=3>Посчитаем метрику силуэта для нашей кластеризации.</font>"
   ]
  },
  {
   "cell_type": "code",
   "execution_count": 21,
   "metadata": {},
   "outputs": [
    {
     "name": "stdout",
     "output_type": "stream",
     "text": [
      "\u001b[1;91m Silhouette_score: \u001b[0m \u001b[1;90m 0.12 \u001b[0m\n"
     ]
    }
   ],
   "source": [
    "# посчитаем метрику силуэта для нашей кластеризации\n",
    "colorRB('Silhouette_score:', '{:.2f}'.format(silhouette_score(X_sc, labels)))"
   ]
  },
  {
   "cell_type": "markdown",
   "metadata": {},
   "source": [
    "***«Метрика силуэта»*** *показывает, насколько объект своего кластера похож на свой кластер больше, чем на чужой. \n",
    "Чем ближе значение к 1, тем качественнее кластеризация:*\n",
    "- *Лучшее значение: **1**;*\n",
    "- *Значение около **0** (указывает на перекрытие кластеров);*\n",
    "- *Худшее: **-1** (указывает на то,что выборка была назначена не тому кластеру).*\n",
    "\n",
    "*Значение метрики **0.12** не очень высокое, что может указывать на перекрытие кластеров.*"
   ]
  },
  {
   "cell_type": "markdown",
   "metadata": {},
   "source": [
    "<font size=3>Для каждого полученного кластера посчитаем средние значения признаков.<br>\n",
    "Исходя из средних значений признаков, составим портреты пользователей для каждого кластера.</font>"
   ]
  },
  {
   "cell_type": "code",
   "execution_count": 22,
   "metadata": {},
   "outputs": [
    {
     "data": {
      "text/html": [
       "<div>\n",
       "<style scoped>\n",
       "    .dataframe tbody tr th:only-of-type {\n",
       "        vertical-align: middle;\n",
       "    }\n",
       "\n",
       "    .dataframe tbody tr th {\n",
       "        vertical-align: top;\n",
       "    }\n",
       "\n",
       "    .dataframe thead th {\n",
       "        text-align: right;\n",
       "    }\n",
       "</style>\n",
       "<table border=\"1\" class=\"dataframe\">\n",
       "  <thead>\n",
       "    <tr style=\"text-align: right;\">\n",
       "      <th>cluster_km</th>\n",
       "      <th>0</th>\n",
       "      <th>1</th>\n",
       "      <th>2</th>\n",
       "      <th>3</th>\n",
       "      <th>4</th>\n",
       "    </tr>\n",
       "  </thead>\n",
       "  <tbody>\n",
       "    <tr>\n",
       "      <th>gender</th>\n",
       "      <td>0.492000</td>\n",
       "      <td>0.495352</td>\n",
       "      <td>0.511194</td>\n",
       "      <td>0.502455</td>\n",
       "      <td>0.550481</td>\n",
       "    </tr>\n",
       "    <tr>\n",
       "      <th>near_location</th>\n",
       "      <td>0.994000</td>\n",
       "      <td>0.998672</td>\n",
       "      <td>1.000000</td>\n",
       "      <td>0.000000</td>\n",
       "      <td>0.998798</td>\n",
       "    </tr>\n",
       "    <tr>\n",
       "      <th>partner</th>\n",
       "      <td>0.953000</td>\n",
       "      <td>0.378486</td>\n",
       "      <td>0.226368</td>\n",
       "      <td>0.489362</td>\n",
       "      <td>0.274038</td>\n",
       "    </tr>\n",
       "    <tr>\n",
       "      <th>promo_friends</th>\n",
       "      <td>1.000000</td>\n",
       "      <td>0.046481</td>\n",
       "      <td>0.114428</td>\n",
       "      <td>0.072013</td>\n",
       "      <td>0.075721</td>\n",
       "    </tr>\n",
       "    <tr>\n",
       "      <th>phone</th>\n",
       "      <td>0.906000</td>\n",
       "      <td>0.903054</td>\n",
       "      <td>0.899254</td>\n",
       "      <td>0.913257</td>\n",
       "      <td>0.897837</td>\n",
       "    </tr>\n",
       "    <tr>\n",
       "      <th>group_visits</th>\n",
       "      <td>0.528000</td>\n",
       "      <td>0.000000</td>\n",
       "      <td>0.182836</td>\n",
       "      <td>0.232406</td>\n",
       "      <td>1.000000</td>\n",
       "    </tr>\n",
       "    <tr>\n",
       "      <th>age</th>\n",
       "      <td>29.633000</td>\n",
       "      <td>30.342629</td>\n",
       "      <td>26.807214</td>\n",
       "      <td>28.700491</td>\n",
       "      <td>30.248798</td>\n",
       "    </tr>\n",
       "    <tr>\n",
       "      <th>avg_additional_charges_total</th>\n",
       "      <td>154.086252</td>\n",
       "      <td>174.392898</td>\n",
       "      <td>111.073289</td>\n",
       "      <td>137.375245</td>\n",
       "      <td>155.206260</td>\n",
       "    </tr>\n",
       "    <tr>\n",
       "      <th>month_to_end_contract</th>\n",
       "      <td>6.730000</td>\n",
       "      <td>4.698539</td>\n",
       "      <td>1.715174</td>\n",
       "      <td>2.826514</td>\n",
       "      <td>4.707933</td>\n",
       "    </tr>\n",
       "    <tr>\n",
       "      <th>lifetime</th>\n",
       "      <td>4.287000</td>\n",
       "      <td>5.166003</td>\n",
       "      <td>1.420398</td>\n",
       "      <td>3.027823</td>\n",
       "      <td>4.483173</td>\n",
       "    </tr>\n",
       "    <tr>\n",
       "      <th>avg_class_frequency_current_month</th>\n",
       "      <td>1.919105</td>\n",
       "      <td>2.237272</td>\n",
       "      <td>0.978977</td>\n",
       "      <td>1.599583</td>\n",
       "      <td>2.043261</td>\n",
       "    </tr>\n",
       "    <tr>\n",
       "      <th>churn</th>\n",
       "      <td>0.108000</td>\n",
       "      <td>0.046481</td>\n",
       "      <td>0.741294</td>\n",
       "      <td>0.400982</td>\n",
       "      <td>0.092548</td>\n",
       "    </tr>\n",
       "  </tbody>\n",
       "</table>\n",
       "</div>"
      ],
      "text/plain": [
       "cluster_km                                  0           1           2  \\\n",
       "gender                               0.492000    0.495352    0.511194   \n",
       "near_location                        0.994000    0.998672    1.000000   \n",
       "partner                              0.953000    0.378486    0.226368   \n",
       "promo_friends                        1.000000    0.046481    0.114428   \n",
       "phone                                0.906000    0.903054    0.899254   \n",
       "group_visits                         0.528000    0.000000    0.182836   \n",
       "age                                 29.633000   30.342629   26.807214   \n",
       "avg_additional_charges_total       154.086252  174.392898  111.073289   \n",
       "month_to_end_contract                6.730000    4.698539    1.715174   \n",
       "lifetime                             4.287000    5.166003    1.420398   \n",
       "avg_class_frequency_current_month    1.919105    2.237272    0.978977   \n",
       "churn                                0.108000    0.046481    0.741294   \n",
       "\n",
       "cluster_km                                  3           4  \n",
       "gender                               0.502455    0.550481  \n",
       "near_location                        0.000000    0.998798  \n",
       "partner                              0.489362    0.274038  \n",
       "promo_friends                        0.072013    0.075721  \n",
       "phone                                0.913257    0.897837  \n",
       "group_visits                         0.232406    1.000000  \n",
       "age                                 28.700491   30.248798  \n",
       "avg_additional_charges_total       137.375245  155.206260  \n",
       "month_to_end_contract                2.826514    4.707933  \n",
       "lifetime                             3.027823    4.483173  \n",
       "avg_class_frequency_current_month    1.599583    2.043261  \n",
       "churn                                0.400982    0.092548  "
      ]
     },
     "metadata": {},
     "output_type": "display_data"
    }
   ],
   "source": [
    "# статистика по средним значениям признаков по кластерам\n",
    "display(df.groupby('cluster_km').mean().T)"
   ]
  },
  {
   "cell_type": "markdown",
   "metadata": {},
   "source": [
    "**Типичные портреты пользователей.**\n",
    "\n",
    "\n",
    "- **Кластер 0:**\n",
    " - *Отток - 10.8%*\n",
    " - *Живут или работают недалеко от фитнес-центра*\n",
    " - *Сотрудник компании-партнёра клуба - 95%*\n",
    " - *Использовали промо-код от знакомого при оплате первого абонемента - 100%*\n",
    " - *Групповые занятия посещали - 53%*\n",
    " - *Срок до окончания абонемента - около 7 месяцев*\n",
    " - *Время с момента первого обращения в фитнес-центр - 4 месяца*\n",
    " - *Частота посещений за предыдущий месяц - 1.9 раза в неделю*\n",
    " \n",
    " \n",
    "- **Кластер 1:**\n",
    " - *Отток - 4.6% (**самый низкий**)*\n",
    " - *Живут или работают недалеко от фитнес-центра*\n",
    " - *Сотрудник компании-партнёра клуба - 38%*\n",
    " - *Использовали промо-код от знакомого при оплате первого абонемента - 4.6%*\n",
    " - *Групповые занятия посещали - 0%*\n",
    " - *Срок до окончания абонемента - около 5 месяцев*\n",
    " - *Время с момента первого обращения в фитнес-центр - 5 месяцев*\n",
    " - *Частота посещений за предыдущий месяц - **2.2** раза в неделю (чаще всего)*\n",
    "\n",
    "\n",
    "- **Кластер 2:**\n",
    " - *Отток - 74% (**самый высокий**)*\n",
    " - *Средний возраст **26** лет*\n",
    " - *Живут или работают недалеко от фитнес-центра*\n",
    " - *Сотрудник компании-партнёра клуба - 23%*\n",
    " - *Использовали промо-код от знакомого при оплате первого абонемента - 11.4%*\n",
    " - *Групповые занятия посещали - 18%*\n",
    " - *Срок до окончания абонемента - через **1.7** месяца*\n",
    " - *Время с момента первого обращения в фитнес-центр - **1.4** месяца*\n",
    " - *Частота посещений за предыдущий месяц - **0.97** раза в неделю (реже всего)*\n",
    "\n",
    "\n",
    "- **Кластер 3:**\n",
    " - *Отток - 40%*\n",
    " - *Живут или работают **ДАЛЕКО** от фитнес-центра*\n",
    " - *Сотрудник компании-партнёра клуба - 49%*\n",
    " - *Использовали промо-код от знакомого при оплате первого абонемента - 7%*\n",
    " - *Групповые занятия посещали - 23%*\n",
    " - *Срок до окончания абонемента - через 2.8 месяца*\n",
    " - *Время с момента первого обращения в фитнес-центр - 3 месяца*\n",
    " - *Частота посещений за предыдущий месяц - **1.6** раза в неделю*\n",
    "\n",
    "\n",
    "- **Кластер 4:**\n",
    " - *Отток - 9.2%*\n",
    " - *Живут или работают недалеко от фитнес-центра*\n",
    " - *Сотрудник компании-партнёра клуба - 27%*\n",
    " - *Использовали промо-код от знакомого при оплате первого абонемента - 7.5%*\n",
    " - *Групповые занятия посещали - 100%*\n",
    " - *Срок до окончания абонемента - около 4.7 месяцев*\n",
    " - *Время с момента первого обращения в фитнес-центр - 4.5 месяцев*\n",
    " - *Частота посещений за предыдущий месяц - 2 раза в неделю*\n",
    " \n",
    " *Признаки: **'phone'**, **'gender'** не влияют на разделение на кластеры, так как их значения примерно одинаковы для всех кластеров.*"
   ]
  },
  {
   "cell_type": "markdown",
   "metadata": {},
   "source": [
    "<br><font size=3>Для каждого кластера построим диаграмму распределения признаков.</font>"
   ]
  },
  {
   "cell_type": "code",
   "execution_count": 23,
   "metadata": {
    "scrolled": false
   },
   "outputs": [
    {
     "data": {
      "image/png": "[encoded data removed]",
      "text/plain": [
       "<Figure size 1152x1152 with 12 Axes>"
      ]
     },
     "metadata": {
      "needs_background": "light"
     },
     "output_type": "display_data"
    }
   ],
   "source": [
    "# построим распределения признаков для кластеров\n",
    "col_pairs = df.columns.drop(['cluster_km'])\n",
    "\n",
    "plt.figure(figsize=(16,16))\n",
    "for i, j in enumerate(col_pairs):\n",
    "    # задаём положение графика в сетке, i + 1 - порядковый номер графика\n",
    "    plt.subplot(5, 3, i+1)\n",
    "    for cluster in df['cluster_km'].unique():\n",
    "        sns.kdeplot(df[df['cluster_km'] == cluster][j],\n",
    "                    label=cluster,\n",
    "                    bw_adjust=.5,\n",
    "                    shade=True,\n",
    "                    warn_singular=False,\n",
    "                   )\n",
    "        plt.legend(['0', '1', '2', '3', '4'])\n",
    "        \n",
    "plt.suptitle('\\n\\n Распределение признаков для кластеров. \\n', fontsize = 16)\n",
    "plt.tight_layout()\n",
    "\n",
    "plt.show()"
   ]
  },
  {
   "cell_type": "markdown",
   "metadata": {},
   "source": [
    "<br>*Пользователи выполнили целевое действие – значение **1** в бинаных колонках, кроме колонки 'churn'*\n",
    "<br>*Пользователи не выполнили целевое действие – значение **0** в бинаных колонках, кроме колонки 'churn'*\n",
    "<br><br>\n",
    "*Судя по диаграммам распределения, в отток уходят чаще:*\n",
    "- *Пользователи живущие или работающие **ДАЛЕКО** от фитнес-центра*\n",
    "- *Пользователи не являюшиеся сотрудниками компании-партнёра клуба*\n",
    "- *Наличие контактного телефона **СЛАБО** влияет на отток*\n",
    "- *Пользователи которые не использовали промо-код от знакомого при оплате первого абонемента*\n",
    "- *Пользователи, средний возраст которых составляет **26** лет*\n",
    "- *Пользователи с низкими тратами на другие услуги фитнес-центра*\n",
    "- *Пользователи которые не посещали групповые занятия*\n",
    "- *Пользователи у которых срок до окончания действующего абонемента составляет **1** месяц*\n",
    "- *Самый большой отток происходит в первые **5** дней (с момента первого обращения в фитнес-центр)*\n",
    "- *Пользователи имеющие низкую частоту посещений в неделю*\n",
    "<br><br>\n",
    "\n",
    "*Признаки не влияющие на отток(имеют примерно одинаковое распределение):*\n",
    "- *Пол*"
   ]
  },
  {
   "cell_type": "markdown",
   "metadata": {},
   "source": [
    "<br><font size=3>Для каждого кластера посчитаем долю оттока.</font>"
   ]
  },
  {
   "cell_type": "code",
   "execution_count": 24,
   "metadata": {},
   "outputs": [
    {
     "data": {
      "text/html": [
       "<div>\n",
       "<style scoped>\n",
       "    .dataframe tbody tr th:only-of-type {\n",
       "        vertical-align: middle;\n",
       "    }\n",
       "\n",
       "    .dataframe tbody tr th {\n",
       "        vertical-align: top;\n",
       "    }\n",
       "\n",
       "    .dataframe thead th {\n",
       "        text-align: right;\n",
       "    }\n",
       "</style>\n",
       "<table border=\"1\" class=\"dataframe\">\n",
       "  <thead>\n",
       "    <tr style=\"text-align: right;\">\n",
       "      <th></th>\n",
       "      <th>0</th>\n",
       "      <th>1</th>\n",
       "    </tr>\n",
       "    <tr>\n",
       "      <th>cluster_km</th>\n",
       "      <th></th>\n",
       "      <th></th>\n",
       "    </tr>\n",
       "  </thead>\n",
       "  <tbody>\n",
       "    <tr>\n",
       "      <th>0</th>\n",
       "      <td>89.20</td>\n",
       "      <td>10.80</td>\n",
       "    </tr>\n",
       "    <tr>\n",
       "      <th>1</th>\n",
       "      <td>95.35</td>\n",
       "      <td>4.65</td>\n",
       "    </tr>\n",
       "    <tr>\n",
       "      <th>2</th>\n",
       "      <td>25.87</td>\n",
       "      <td>74.13</td>\n",
       "    </tr>\n",
       "    <tr>\n",
       "      <th>3</th>\n",
       "      <td>59.90</td>\n",
       "      <td>40.10</td>\n",
       "    </tr>\n",
       "    <tr>\n",
       "      <th>4</th>\n",
       "      <td>90.75</td>\n",
       "      <td>9.25</td>\n",
       "    </tr>\n",
       "  </tbody>\n",
       "</table>\n",
       "</div>"
      ],
      "text/plain": [
       "0               0      1\n",
       "cluster_km              \n",
       "0           89.20  10.80\n",
       "1           95.35   4.65\n",
       "2           25.87  74.13\n",
       "3           59.90  40.10\n",
       "4           90.75   9.25"
      ]
     },
     "metadata": {},
     "output_type": "display_data"
    }
   ],
   "source": [
    "# для каждого полученного кластера посчитаем долю оттока методом groupby()\n",
    "display(df.groupby(['cluster_km'])['churn'].apply(lambda x: x.groupby(x).size()/len(x)*100).round(2).unstack())"
   ]
  },
  {
   "cell_type": "markdown",
   "metadata": {},
   "source": [
    "*Все кластеры отличаются по доле оттока, самые низкие доли оттока у кластеров:*\n",
    "- **1 – 4.65%**\n",
    "- **4 – 9.25%**\n",
    "- **0 – 10.80%**\n",
    "\n",
    "*Кластеры склонные к оттоку:*\n",
    "- **2 – 74.13%**\n",
    "- **3 – 40.10%**"
   ]
  },
  {
   "cell_type": "markdown",
   "metadata": {},
   "source": [
    "<a id=\"num5\"></a>\n",
    "## Общие выводы."
   ]
  },
  {
   "cell_type": "markdown",
   "metadata": {},
   "source": [
    "*Проведя исследовательский анализ данных, мы построили две модели прогнозирования оттока: логистической регрессии и случайного леса. \n",
    "<br>Из двух моделей, мы выбрали метрику логистической регрессии и определили зависимости между зависимой и независимой переменными. Определили коэффициенты признаков для модели логистической регрессии. \n",
    "<br>Выполнили кластеризацию пользователей на **5** кластеров (кластеры перекрываются друг с другом). \n",
    "<br>Составили типичные портреты пользователей для каждого кластера и определили кластеры склонные к оттоку (кластеры **2** и **3**).*\n",
    "<br><br>*Определили типичные признаки пользователей уходящих в отток:*\n",
    "- *Пользователи живущие или работающие **ДАЛЕКО** от фитнес-центра*\n",
    "- *Пользователи не являюшиеся сотрудниками компании-партнёра клуба*\n",
    "- *Пользователи которые не использовали промо-код от знакомого при оплате первого абонемента*\n",
    "- *Пользователи, средний возраст которых составляет **26** лет*\n",
    "- *Пользователи с низкими тратами на другие услуги фитнес-центра*\n",
    "- *Пользователи которые не посещали групповые занятия*\n",
    "- *Пользователи у которых срок до окончания действующего абонемента составляет **1** месяц*\n",
    "- *Самый большой отток происходит в первые **5** дней (с момента первого обращения в фитнес-центр)*\n",
    "- *Пользователи имеющие низкую частоту посещений в неделю*\n",
    "\n",
    "<i>**Рекомендации по результатам исследования:**</i>\n",
    "- *Для ДАЛЕКО живущих пользователей можно организовать трансфер до фитнес-центра, удобный график работы*\n",
    "- *Молодым пользовамелям (средний возраст 26 лет) подойдёт отдельный зал для занятий или раздельное время занятий между пользователями разных возрастных категорий (непонятна причина их оттока, возможно из-за стеснительности. Чтобы точнее определить причины оттока молодых пользователей, нужно провести как минимум опрос среди них)*\n",
    "- *Более широко использовать промоакции: «приведи друга», на первую покупку в фитнес-центре*\n",
    "- *Абонемент сделать минимум на **6** месяцев*\n",
    "- *Стимулировать посещаемость фитнес-центра (например организовать сауну, бесплатные напитки)*\n",
    "- *Стимулировать траты на другие услуги фитнес-центра, например организовать магазин спортивного питания, «диетическое кафе» для спортсменов.*"
   ]
  }
 ],
 "metadata": {
  "ExecuteTimeLog": [
   {
    "duration": 1696,
    "start_time": "2022-07-02T15:59:08.900Z"
   },
   {
    "duration": 7,
    "start_time": "2022-07-02T15:59:11.260Z"
   },
   {
    "duration": 69,
    "start_time": "2022-07-02T15:59:13.484Z"
   },
   {
    "duration": 25,
    "start_time": "2022-07-02T15:59:14.748Z"
   },
   {
    "duration": 351,
    "start_time": "2022-07-02T16:07:36.829Z"
   },
   {
    "duration": 4,
    "start_time": "2022-07-02T16:07:38.967Z"
   },
   {
    "duration": 23,
    "start_time": "2022-07-02T16:07:40.601Z"
   },
   {
    "duration": 8,
    "start_time": "2022-07-02T16:07:42.176Z"
   },
   {
    "duration": 63,
    "start_time": "2022-07-02T16:07:43.854Z"
   },
   {
    "duration": 3,
    "start_time": "2022-07-02T16:44:24.754Z"
   },
   {
    "duration": 48,
    "start_time": "2022-07-02T16:44:25.688Z"
   },
   {
    "duration": 4,
    "start_time": "2022-07-02T16:45:34.643Z"
   },
   {
    "duration": 47,
    "start_time": "2022-07-02T16:45:35.107Z"
   },
   {
    "duration": 3,
    "start_time": "2022-07-02T16:45:47.282Z"
   },
   {
    "duration": 42,
    "start_time": "2022-07-02T16:45:47.679Z"
   },
   {
    "duration": 6,
    "start_time": "2022-07-02T16:48:47.810Z"
   },
   {
    "duration": 62,
    "start_time": "2022-07-02T16:48:49.290Z"
   },
   {
    "duration": 12,
    "start_time": "2022-07-02T16:51:30.256Z"
   },
   {
    "duration": 17,
    "start_time": "2022-07-02T16:57:52.999Z"
   },
   {
    "duration": 17,
    "start_time": "2022-07-02T16:57:56.786Z"
   },
   {
    "duration": 152,
    "start_time": "2022-07-02T16:59:02.002Z"
   },
   {
    "duration": 975,
    "start_time": "2022-07-02T16:59:38.473Z"
   },
   {
    "duration": 8,
    "start_time": "2022-07-02T16:59:53.396Z"
   },
   {
    "duration": 5,
    "start_time": "2022-07-02T16:59:54.625Z"
   },
   {
    "duration": 20,
    "start_time": "2022-07-02T16:59:56.505Z"
   },
   {
    "duration": 9,
    "start_time": "2022-07-02T16:59:57.451Z"
   },
   {
    "duration": 10,
    "start_time": "2022-07-02T17:00:04.228Z"
   },
   {
    "duration": 51,
    "start_time": "2022-07-02T17:00:10.041Z"
   },
   {
    "duration": 25,
    "start_time": "2022-07-02T17:02:05.697Z"
   },
   {
    "duration": 33,
    "start_time": "2022-07-02T17:02:27.197Z"
   },
   {
    "duration": 29,
    "start_time": "2022-07-02T17:03:41.184Z"
   },
   {
    "duration": 15,
    "start_time": "2022-07-02T17:04:48.055Z"
   },
   {
    "duration": 76,
    "start_time": "2022-07-02T17:05:12.226Z"
   },
   {
    "duration": 27,
    "start_time": "2022-07-02T17:12:59.827Z"
   },
   {
    "duration": 30,
    "start_time": "2022-07-02T17:13:14.187Z"
   },
   {
    "duration": 27,
    "start_time": "2022-07-02T17:13:22.451Z"
   },
   {
    "duration": 21,
    "start_time": "2022-07-02T17:13:55.383Z"
   },
   {
    "duration": 24,
    "start_time": "2022-07-02T17:14:14.982Z"
   },
   {
    "duration": 21,
    "start_time": "2022-07-02T17:14:40.140Z"
   },
   {
    "duration": 37,
    "start_time": "2022-07-02T17:15:00.025Z"
   },
   {
    "duration": 10,
    "start_time": "2022-07-02T17:16:45.865Z"
   },
   {
    "duration": 22,
    "start_time": "2022-07-02T17:22:36.344Z"
   },
   {
    "duration": 7,
    "start_time": "2022-07-02T17:22:40.674Z"
   },
   {
    "duration": 16,
    "start_time": "2022-07-02T17:22:56.839Z"
   },
   {
    "duration": 22,
    "start_time": "2022-07-02T17:23:13.781Z"
   },
   {
    "duration": 28,
    "start_time": "2022-07-02T17:27:08.620Z"
   },
   {
    "duration": 26,
    "start_time": "2022-07-02T17:27:16.689Z"
   },
   {
    "duration": 28,
    "start_time": "2022-07-02T17:27:38.659Z"
   },
   {
    "duration": 17,
    "start_time": "2022-07-02T17:27:54.412Z"
   },
   {
    "duration": 13,
    "start_time": "2022-07-02T17:28:17.012Z"
   },
   {
    "duration": 15,
    "start_time": "2022-07-02T17:28:23.578Z"
   },
   {
    "duration": 30,
    "start_time": "2022-07-02T17:30:50.025Z"
   },
   {
    "duration": 9,
    "start_time": "2022-07-02T17:30:53.395Z"
   },
   {
    "duration": 21,
    "start_time": "2022-07-02T17:30:56.466Z"
   },
   {
    "duration": 52,
    "start_time": "2022-07-02T17:31:00.708Z"
   },
   {
    "duration": 5,
    "start_time": "2022-07-02T17:31:31.419Z"
   },
   {
    "duration": 41,
    "start_time": "2022-07-02T17:31:32.483Z"
   },
   {
    "duration": 21,
    "start_time": "2022-07-02T17:32:20.795Z"
   },
   {
    "duration": 6,
    "start_time": "2022-07-02T17:32:21.995Z"
   },
   {
    "duration": 14,
    "start_time": "2022-07-02T17:32:23.009Z"
   },
   {
    "duration": 45,
    "start_time": "2022-07-02T17:32:23.652Z"
   },
   {
    "duration": 4,
    "start_time": "2022-07-02T17:32:24.174Z"
   },
   {
    "duration": 39,
    "start_time": "2022-07-02T17:32:25.237Z"
   },
   {
    "duration": 17,
    "start_time": "2022-07-02T17:36:02.944Z"
   },
   {
    "duration": 15,
    "start_time": "2022-07-02T17:36:52.087Z"
   },
   {
    "duration": 35,
    "start_time": "2022-07-02T17:37:40.179Z"
   },
   {
    "duration": 25,
    "start_time": "2022-07-02T17:47:00.296Z"
   },
   {
    "duration": 20,
    "start_time": "2022-07-02T17:47:19.189Z"
   },
   {
    "duration": 850,
    "start_time": "2022-07-02T17:49:07.118Z"
   },
   {
    "duration": 6,
    "start_time": "2022-07-02T17:55:50.363Z"
   },
   {
    "duration": 18,
    "start_time": "2022-07-02T17:56:20.651Z"
   },
   {
    "duration": 1111,
    "start_time": "2022-07-02T17:56:57.454Z"
   },
   {
    "duration": 16,
    "start_time": "2022-07-02T17:57:15.425Z"
   },
   {
    "duration": 8,
    "start_time": "2022-07-02T17:57:22.474Z"
   },
   {
    "duration": 21,
    "start_time": "2022-07-02T17:57:53.172Z"
   },
   {
    "duration": 6,
    "start_time": "2022-07-02T17:58:17.752Z"
   },
   {
    "duration": 35,
    "start_time": "2022-07-02T18:06:36.797Z"
   },
   {
    "duration": 14,
    "start_time": "2022-07-02T18:14:15.299Z"
   },
   {
    "duration": 15,
    "start_time": "2022-07-02T18:14:36.258Z"
   },
   {
    "duration": 11,
    "start_time": "2022-07-02T18:15:25.001Z"
   },
   {
    "duration": 12,
    "start_time": "2022-07-02T18:16:14.899Z"
   },
   {
    "duration": 42,
    "start_time": "2022-07-02T18:18:20.681Z"
   },
   {
    "duration": 26,
    "start_time": "2022-07-02T18:27:56.268Z"
   },
   {
    "duration": 21,
    "start_time": "2022-07-02T18:28:05.567Z"
   },
   {
    "duration": 17,
    "start_time": "2022-07-02T18:29:06.355Z"
   },
   {
    "duration": 12,
    "start_time": "2022-07-02T18:29:20.760Z"
   },
   {
    "duration": 81,
    "start_time": "2022-07-02T18:29:41.492Z"
   },
   {
    "duration": 18,
    "start_time": "2022-07-02T18:30:43.213Z"
   },
   {
    "duration": 44,
    "start_time": "2022-07-02T18:42:36.779Z"
   },
   {
    "duration": 262,
    "start_time": "2022-07-02T18:43:16.646Z"
   },
   {
    "duration": 288,
    "start_time": "2022-07-02T18:43:27.206Z"
   },
   {
    "duration": 13,
    "start_time": "2022-07-02T18:44:42.195Z"
   },
   {
    "duration": 63,
    "start_time": "2022-07-02T18:45:16.213Z"
   },
   {
    "duration": 24,
    "start_time": "2022-07-02T18:45:40.860Z"
   },
   {
    "duration": 54,
    "start_time": "2022-07-02T18:46:13.062Z"
   },
   {
    "duration": 19,
    "start_time": "2022-07-02T18:59:02.188Z"
   },
   {
    "duration": 12,
    "start_time": "2022-07-02T19:00:43.397Z"
   },
   {
    "duration": 10,
    "start_time": "2022-07-02T19:01:05.406Z"
   },
   {
    "duration": 18,
    "start_time": "2022-07-02T19:01:52.177Z"
   },
   {
    "duration": 15,
    "start_time": "2022-07-02T19:02:23.321Z"
   },
   {
    "duration": 40,
    "start_time": "2022-07-02T19:02:57.910Z"
   },
   {
    "duration": 28,
    "start_time": "2022-07-02T19:03:30.421Z"
   },
   {
    "duration": 13,
    "start_time": "2022-07-02T19:03:57.769Z"
   },
   {
    "duration": 13,
    "start_time": "2022-07-02T19:04:35.213Z"
   },
   {
    "duration": 17,
    "start_time": "2022-07-02T19:04:59.946Z"
   },
   {
    "duration": 17,
    "start_time": "2022-07-02T19:05:51.694Z"
   },
   {
    "duration": 30,
    "start_time": "2022-07-02T19:06:04.948Z"
   },
   {
    "duration": 11,
    "start_time": "2022-07-02T19:06:18.252Z"
   },
   {
    "duration": 24,
    "start_time": "2022-07-02T19:06:36.766Z"
   },
   {
    "duration": 17,
    "start_time": "2022-07-02T19:07:02.047Z"
   },
   {
    "duration": 15,
    "start_time": "2022-07-02T19:07:27.108Z"
   },
   {
    "duration": 13,
    "start_time": "2022-07-02T19:07:35.447Z"
   },
   {
    "duration": 14,
    "start_time": "2022-07-02T19:08:12.777Z"
   },
   {
    "duration": 6,
    "start_time": "2022-07-02T19:08:13.357Z"
   },
   {
    "duration": 44,
    "start_time": "2022-07-02T19:08:14.273Z"
   },
   {
    "duration": 8,
    "start_time": "2022-07-02T19:08:14.953Z"
   },
   {
    "duration": 68,
    "start_time": "2022-07-02T19:08:16.044Z"
   },
   {
    "duration": 13,
    "start_time": "2022-07-02T19:08:19.849Z"
   },
   {
    "duration": 58,
    "start_time": "2022-07-02T19:08:20.725Z"
   },
   {
    "duration": 6,
    "start_time": "2022-07-02T19:11:15.989Z"
   },
   {
    "duration": 68,
    "start_time": "2022-07-02T19:11:16.910Z"
   },
   {
    "duration": 5,
    "start_time": "2022-07-02T19:12:55.861Z"
   },
   {
    "duration": 49,
    "start_time": "2022-07-02T19:12:56.392Z"
   },
   {
    "duration": 69,
    "start_time": "2022-07-02T19:51:15.653Z"
   },
   {
    "duration": 91,
    "start_time": "2022-07-02T19:51:24.401Z"
   },
   {
    "duration": 29,
    "start_time": "2022-07-02T19:51:36.794Z"
   },
   {
    "duration": 5,
    "start_time": "2022-07-02T19:56:08.696Z"
   },
   {
    "duration": 3,
    "start_time": "2022-07-02T19:56:09.673Z"
   },
   {
    "duration": 55,
    "start_time": "2022-07-02T19:56:10.499Z"
   },
   {
    "duration": 9,
    "start_time": "2022-07-02T19:56:19.006Z"
   },
   {
    "duration": 38,
    "start_time": "2022-07-02T19:56:19.854Z"
   },
   {
    "duration": 7,
    "start_time": "2022-07-02T19:56:20.331Z"
   },
   {
    "duration": 57,
    "start_time": "2022-07-02T19:56:21.453Z"
   },
   {
    "duration": 7,
    "start_time": "2022-07-02T19:59:13.701Z"
   },
   {
    "duration": 6,
    "start_time": "2022-07-02T19:59:13.710Z"
   },
   {
    "duration": 30,
    "start_time": "2022-07-02T19:59:13.718Z"
   },
   {
    "duration": 8,
    "start_time": "2022-07-02T19:59:13.757Z"
   },
   {
    "duration": 44,
    "start_time": "2022-07-02T19:59:13.767Z"
   },
   {
    "duration": 4,
    "start_time": "2022-07-02T19:59:13.812Z"
   },
   {
    "duration": 108,
    "start_time": "2022-07-02T19:59:13.817Z"
   },
   {
    "duration": 6,
    "start_time": "2022-07-02T20:02:29.379Z"
   },
   {
    "duration": 36,
    "start_time": "2022-07-02T20:02:34.268Z"
   },
   {
    "duration": 7,
    "start_time": "2022-07-02T20:03:08.662Z"
   },
   {
    "duration": 38,
    "start_time": "2022-07-02T20:03:09.752Z"
   },
   {
    "duration": 9,
    "start_time": "2022-07-02T20:05:11.256Z"
   },
   {
    "duration": 57,
    "start_time": "2022-07-02T20:05:11.648Z"
   },
   {
    "duration": 75,
    "start_time": "2022-07-02T20:05:51.995Z"
   },
   {
    "duration": 4,
    "start_time": "2022-07-02T20:06:32.157Z"
   },
   {
    "duration": 16,
    "start_time": "2022-07-02T20:10:06.625Z"
   },
   {
    "duration": 10,
    "start_time": "2022-07-02T20:14:34.878Z"
   },
   {
    "duration": 3,
    "start_time": "2022-07-02T20:14:53.054Z"
   },
   {
    "duration": 7,
    "start_time": "2022-07-02T20:17:42.952Z"
   },
   {
    "duration": 38,
    "start_time": "2022-07-02T20:17:44.482Z"
   },
   {
    "duration": 7,
    "start_time": "2022-07-02T20:20:49.502Z"
   },
   {
    "duration": 72,
    "start_time": "2022-07-02T20:20:53.181Z"
   },
   {
    "duration": 5,
    "start_time": "2022-07-02T20:21:55.768Z"
   },
   {
    "duration": 38,
    "start_time": "2022-07-02T20:21:57.350Z"
   },
   {
    "duration": 6,
    "start_time": "2022-07-02T20:30:27.349Z"
   },
   {
    "duration": 65,
    "start_time": "2022-07-02T20:30:28.682Z"
   },
   {
    "duration": 8,
    "start_time": "2022-07-02T20:31:52.723Z"
   },
   {
    "duration": 38,
    "start_time": "2022-07-02T20:31:53.348Z"
   },
   {
    "duration": 9,
    "start_time": "2022-07-02T20:33:14.531Z"
   },
   {
    "duration": 52,
    "start_time": "2022-07-02T20:33:15.766Z"
   },
   {
    "duration": 10,
    "start_time": "2022-07-02T20:35:33.370Z"
   },
   {
    "duration": 6,
    "start_time": "2022-07-02T20:35:40.688Z"
   },
   {
    "duration": 24,
    "start_time": "2022-07-02T20:35:41.975Z"
   },
   {
    "duration": 9,
    "start_time": "2022-07-02T20:35:46.933Z"
   },
   {
    "duration": 5,
    "start_time": "2022-07-02T20:44:07.796Z"
   },
   {
    "duration": 70,
    "start_time": "2022-07-02T20:44:09.201Z"
   },
   {
    "duration": 63,
    "start_time": "2022-07-02T20:44:43.722Z"
   },
   {
    "duration": 11,
    "start_time": "2022-07-02T20:45:57.268Z"
   },
   {
    "duration": 70,
    "start_time": "2022-07-02T20:46:01.727Z"
   },
   {
    "duration": 9,
    "start_time": "2022-07-02T20:49:12.303Z"
   },
   {
    "duration": 63,
    "start_time": "2022-07-02T20:49:13.138Z"
   },
   {
    "duration": 4,
    "start_time": "2022-07-02T20:49:35.421Z"
   },
   {
    "duration": 69,
    "start_time": "2022-07-02T20:49:36.894Z"
   },
   {
    "duration": 10,
    "start_time": "2022-07-02T20:51:09.942Z"
   },
   {
    "duration": 58,
    "start_time": "2022-07-02T20:51:11.250Z"
   },
   {
    "duration": 10,
    "start_time": "2022-07-02T20:55:30.071Z"
   },
   {
    "duration": 44,
    "start_time": "2022-07-02T20:55:33.675Z"
   },
   {
    "duration": 6,
    "start_time": "2022-07-02T20:56:06.552Z"
   },
   {
    "duration": 62,
    "start_time": "2022-07-02T20:56:07.128Z"
   },
   {
    "duration": 9,
    "start_time": "2022-07-02T20:57:30.113Z"
   },
   {
    "duration": 49,
    "start_time": "2022-07-02T20:57:31.056Z"
   },
   {
    "duration": 7,
    "start_time": "2022-07-02T21:05:55.680Z"
   },
   {
    "duration": 58,
    "start_time": "2022-07-02T21:05:56.717Z"
   },
   {
    "duration": 10,
    "start_time": "2022-07-02T21:11:09.116Z"
   },
   {
    "duration": 20,
    "start_time": "2022-07-02T21:12:01.696Z"
   },
   {
    "duration": 22,
    "start_time": "2022-07-02T21:12:12.846Z"
   },
   {
    "duration": 74,
    "start_time": "2022-07-02T21:35:41.159Z"
   },
   {
    "duration": 53,
    "start_time": "2022-07-02T21:35:56.017Z"
   },
   {
    "duration": 1516,
    "start_time": "2022-07-02T21:36:34.104Z"
   },
   {
    "duration": 1456,
    "start_time": "2022-07-02T21:37:54.951Z"
   },
   {
    "duration": 1318,
    "start_time": "2022-07-02T21:38:45.975Z"
   },
   {
    "duration": 240,
    "start_time": "2022-07-02T21:41:56.940Z"
   },
   {
    "duration": 952,
    "start_time": "2022-07-02T21:43:05.073Z"
   },
   {
    "duration": 1547,
    "start_time": "2022-07-02T21:43:50.402Z"
   },
   {
    "duration": 1373,
    "start_time": "2022-07-02T21:44:30.626Z"
   },
   {
    "duration": 1502,
    "start_time": "2022-07-02T21:47:10.461Z"
   },
   {
    "duration": 1337,
    "start_time": "2022-07-02T21:51:06.995Z"
   },
   {
    "duration": 1331,
    "start_time": "2022-07-02T21:52:08.718Z"
   },
   {
    "duration": 1171,
    "start_time": "2022-07-02T21:52:42.400Z"
   },
   {
    "duration": 1109,
    "start_time": "2022-07-02T21:52:59.868Z"
   },
   {
    "duration": 1190,
    "start_time": "2022-07-02T21:53:21.395Z"
   },
   {
    "duration": 1027,
    "start_time": "2022-07-02T21:54:25.134Z"
   },
   {
    "duration": 2030,
    "start_time": "2022-07-02T21:54:41.836Z"
   },
   {
    "duration": 1390,
    "start_time": "2022-07-02T21:55:01.649Z"
   },
   {
    "duration": 1363,
    "start_time": "2022-07-02T21:55:13.377Z"
   },
   {
    "duration": 1468,
    "start_time": "2022-07-02T21:55:27.461Z"
   },
   {
    "duration": 22,
    "start_time": "2022-07-02T21:56:40.639Z"
   },
   {
    "duration": 28,
    "start_time": "2022-07-02T21:57:05.905Z"
   },
   {
    "duration": 21,
    "start_time": "2022-07-02T21:57:46.242Z"
   },
   {
    "duration": 30,
    "start_time": "2022-07-02T21:58:02.310Z"
   },
   {
    "duration": 3618,
    "start_time": "2022-07-02T21:58:10.970Z"
   },
   {
    "duration": 32,
    "start_time": "2022-07-02T21:58:34.617Z"
   },
   {
    "duration": 1538,
    "start_time": "2022-07-02T22:04:04.354Z"
   },
   {
    "duration": 6655,
    "start_time": "2022-07-02T22:05:41.239Z"
   },
   {
    "duration": 12,
    "start_time": "2022-07-02T22:14:08.509Z"
   },
   {
    "duration": 17,
    "start_time": "2022-07-02T22:14:49.226Z"
   },
   {
    "duration": 15,
    "start_time": "2022-07-02T22:15:37.579Z"
   },
   {
    "duration": 17,
    "start_time": "2022-07-02T22:15:55.435Z"
   },
   {
    "duration": 19906,
    "start_time": "2022-07-02T22:16:12.583Z"
   },
   {
    "duration": 1360,
    "start_time": "2022-07-02T22:17:03.494Z"
   },
   {
    "duration": 924,
    "start_time": "2022-07-02T22:20:25.129Z"
   },
   {
    "duration": 7129,
    "start_time": "2022-07-02T22:20:50.269Z"
   },
   {
    "duration": 13,
    "start_time": "2022-07-02T22:23:03.279Z"
   },
   {
    "duration": 10,
    "start_time": "2022-07-02T22:23:19.573Z"
   },
   {
    "duration": 5964,
    "start_time": "2022-07-02T22:23:37.725Z"
   },
   {
    "duration": 5525,
    "start_time": "2022-07-02T22:24:33.993Z"
   },
   {
    "duration": 26634,
    "start_time": "2022-07-02T22:26:37.204Z"
   },
   {
    "duration": 6752,
    "start_time": "2022-07-02T22:29:27.435Z"
   },
   {
    "duration": 4573,
    "start_time": "2022-07-02T22:30:26.298Z"
   },
   {
    "duration": 5044,
    "start_time": "2022-07-02T22:31:12.445Z"
   },
   {
    "duration": 1616,
    "start_time": "2022-07-02T22:43:41.520Z"
   },
   {
    "duration": 6638,
    "start_time": "2022-07-02T22:47:38.342Z"
   },
   {
    "duration": 6337,
    "start_time": "2022-07-02T22:50:47.125Z"
   },
   {
    "duration": 4971,
    "start_time": "2022-07-02T22:51:30.589Z"
   },
   {
    "duration": 6197,
    "start_time": "2022-07-02T22:54:03.941Z"
   },
   {
    "duration": 6433,
    "start_time": "2022-07-02T22:54:49.942Z"
   },
   {
    "duration": 6358,
    "start_time": "2022-07-02T22:58:04.084Z"
   },
   {
    "duration": 1409,
    "start_time": "2022-07-02T23:00:00.965Z"
   },
   {
    "duration": 4746,
    "start_time": "2022-07-02T23:00:17.217Z"
   },
   {
    "duration": 1402,
    "start_time": "2022-07-02T23:03:34.698Z"
   },
   {
    "duration": 6469,
    "start_time": "2022-07-02T23:05:02.338Z"
   },
   {
    "duration": 6167,
    "start_time": "2022-07-02T23:06:04.341Z"
   },
   {
    "duration": 1834,
    "start_time": "2022-07-02T23:06:35.426Z"
   },
   {
    "duration": 2557,
    "start_time": "2022-07-03T06:09:10.519Z"
   },
   {
    "duration": 132,
    "start_time": "2022-07-03T06:09:13.080Z"
   },
   {
    "duration": 7,
    "start_time": "2022-07-03T06:09:13.214Z"
   },
   {
    "duration": 183,
    "start_time": "2022-07-03T06:09:13.223Z"
   },
   {
    "duration": 151,
    "start_time": "2022-07-03T06:09:13.416Z"
   },
   {
    "duration": 5,
    "start_time": "2022-07-03T06:09:13.572Z"
   },
   {
    "duration": 196,
    "start_time": "2022-07-03T06:09:13.582Z"
   },
   {
    "duration": 0,
    "start_time": "2022-07-03T06:09:13.783Z"
   },
   {
    "duration": 0,
    "start_time": "2022-07-03T06:09:13.787Z"
   },
   {
    "duration": 0,
    "start_time": "2022-07-03T06:09:13.792Z"
   },
   {
    "duration": 0,
    "start_time": "2022-07-03T06:09:13.797Z"
   },
   {
    "duration": 11,
    "start_time": "2022-07-03T06:12:36.579Z"
   },
   {
    "duration": 70,
    "start_time": "2022-07-03T06:12:36.593Z"
   },
   {
    "duration": 20,
    "start_time": "2022-07-03T06:12:36.672Z"
   },
   {
    "duration": 18,
    "start_time": "2022-07-03T06:12:36.695Z"
   },
   {
    "duration": 80,
    "start_time": "2022-07-03T06:12:36.716Z"
   },
   {
    "duration": 6,
    "start_time": "2022-07-03T06:12:36.802Z"
   },
   {
    "duration": 100,
    "start_time": "2022-07-03T06:12:36.810Z"
   },
   {
    "duration": 26,
    "start_time": "2022-07-03T06:12:36.912Z"
   },
   {
    "duration": 2199,
    "start_time": "2022-07-03T06:12:36.941Z"
   },
   {
    "duration": 7821,
    "start_time": "2022-07-03T06:12:39.142Z"
   },
   {
    "duration": 35,
    "start_time": "2022-07-03T06:12:46.964Z"
   },
   {
    "duration": 12,
    "start_time": "2022-07-03T06:20:22.975Z"
   },
   {
    "duration": 24,
    "start_time": "2022-07-03T06:26:05.354Z"
   },
   {
    "duration": 13,
    "start_time": "2022-07-03T06:26:09.628Z"
   },
   {
    "duration": 9,
    "start_time": "2022-07-03T06:26:20.183Z"
   },
   {
    "duration": 52,
    "start_time": "2022-07-03T06:26:21.127Z"
   },
   {
    "duration": 22,
    "start_time": "2022-07-03T06:26:38.553Z"
   },
   {
    "duration": 17,
    "start_time": "2022-07-03T06:26:43.719Z"
   },
   {
    "duration": 28,
    "start_time": "2022-07-03T06:26:52.736Z"
   },
   {
    "duration": 15,
    "start_time": "2022-07-03T06:27:20.275Z"
   },
   {
    "duration": 9,
    "start_time": "2022-07-03T06:38:11.592Z"
   },
   {
    "duration": 53,
    "start_time": "2022-07-03T06:38:16.915Z"
   },
   {
    "duration": 5,
    "start_time": "2022-07-03T06:38:27.814Z"
   },
   {
    "duration": 73,
    "start_time": "2022-07-03T06:38:29.577Z"
   },
   {
    "duration": 7,
    "start_time": "2022-07-03T06:40:10.982Z"
   },
   {
    "duration": 58,
    "start_time": "2022-07-03T06:40:13.282Z"
   },
   {
    "duration": 5,
    "start_time": "2022-07-03T06:51:44.577Z"
   },
   {
    "duration": 10,
    "start_time": "2022-07-03T06:51:59.848Z"
   },
   {
    "duration": 6,
    "start_time": "2022-07-03T06:52:19.602Z"
   },
   {
    "duration": 12,
    "start_time": "2022-07-03T06:53:09.491Z"
   },
   {
    "duration": 23,
    "start_time": "2022-07-03T06:53:29.193Z"
   },
   {
    "duration": 10,
    "start_time": "2022-07-03T06:57:10.203Z"
   },
   {
    "duration": 47,
    "start_time": "2022-07-03T06:57:11.316Z"
   },
   {
    "duration": 12,
    "start_time": "2022-07-03T06:59:44.422Z"
   },
   {
    "duration": 39,
    "start_time": "2022-07-03T06:59:44.963Z"
   },
   {
    "duration": 7,
    "start_time": "2022-07-03T07:01:34.470Z"
   },
   {
    "duration": 38,
    "start_time": "2022-07-03T07:01:35.198Z"
   },
   {
    "duration": 11,
    "start_time": "2022-07-03T07:06:42.607Z"
   },
   {
    "duration": 53,
    "start_time": "2022-07-03T07:06:45.502Z"
   },
   {
    "duration": 6,
    "start_time": "2022-07-03T07:46:33.593Z"
   },
   {
    "duration": 37,
    "start_time": "2022-07-03T07:46:33.601Z"
   },
   {
    "duration": 4,
    "start_time": "2022-07-03T07:46:33.640Z"
   },
   {
    "duration": 29,
    "start_time": "2022-07-03T07:46:33.647Z"
   },
   {
    "duration": 6,
    "start_time": "2022-07-03T07:46:33.678Z"
   },
   {
    "duration": 32,
    "start_time": "2022-07-03T07:46:33.686Z"
   },
   {
    "duration": 3,
    "start_time": "2022-07-03T07:46:33.720Z"
   },
   {
    "duration": 43,
    "start_time": "2022-07-03T07:46:33.733Z"
   },
   {
    "duration": 11,
    "start_time": "2022-07-03T07:46:33.778Z"
   },
   {
    "duration": 1524,
    "start_time": "2022-07-03T07:46:33.791Z"
   },
   {
    "duration": 5162,
    "start_time": "2022-07-03T07:46:35.318Z"
   },
   {
    "duration": 20,
    "start_time": "2022-07-03T07:46:40.481Z"
   },
   {
    "duration": 1337,
    "start_time": "2022-07-03T07:51:13.980Z"
   },
   {
    "duration": 5296,
    "start_time": "2022-07-03T07:51:23.410Z"
   },
   {
    "duration": 15,
    "start_time": "2022-07-03T08:24:43.001Z"
   },
   {
    "duration": 24,
    "start_time": "2022-07-03T08:24:49.904Z"
   },
   {
    "duration": 17,
    "start_time": "2022-07-03T08:24:58.010Z"
   },
   {
    "duration": 21,
    "start_time": "2022-07-03T08:42:06.102Z"
   },
   {
    "duration": 7,
    "start_time": "2022-07-03T08:44:57.032Z"
   },
   {
    "duration": 27,
    "start_time": "2022-07-03T08:44:57.041Z"
   },
   {
    "duration": 7,
    "start_time": "2022-07-03T08:44:57.071Z"
   },
   {
    "duration": 9,
    "start_time": "2022-07-03T08:44:57.079Z"
   },
   {
    "duration": 43,
    "start_time": "2022-07-03T08:44:57.090Z"
   },
   {
    "duration": 3,
    "start_time": "2022-07-03T08:44:57.135Z"
   },
   {
    "duration": 42,
    "start_time": "2022-07-03T08:44:57.140Z"
   },
   {
    "duration": 11,
    "start_time": "2022-07-03T08:44:57.184Z"
   },
   {
    "duration": 1374,
    "start_time": "2022-07-03T08:44:57.196Z"
   },
   {
    "duration": 5461,
    "start_time": "2022-07-03T08:44:58.572Z"
   },
   {
    "duration": 16,
    "start_time": "2022-07-03T08:45:04.035Z"
   },
   {
    "duration": 20,
    "start_time": "2022-07-03T08:45:04.053Z"
   },
   {
    "duration": 7,
    "start_time": "2022-07-03T08:46:59.299Z"
   },
   {
    "duration": 30,
    "start_time": "2022-07-03T08:46:59.308Z"
   },
   {
    "duration": 5,
    "start_time": "2022-07-03T08:46:59.339Z"
   },
   {
    "duration": 11,
    "start_time": "2022-07-03T08:46:59.346Z"
   },
   {
    "duration": 44,
    "start_time": "2022-07-03T08:46:59.359Z"
   },
   {
    "duration": 4,
    "start_time": "2022-07-03T08:46:59.404Z"
   },
   {
    "duration": 49,
    "start_time": "2022-07-03T08:46:59.409Z"
   },
   {
    "duration": 11,
    "start_time": "2022-07-03T08:46:59.459Z"
   },
   {
    "duration": 1357,
    "start_time": "2022-07-03T08:46:59.471Z"
   },
   {
    "duration": 5606,
    "start_time": "2022-07-03T08:47:00.831Z"
   },
   {
    "duration": 23,
    "start_time": "2022-07-03T08:47:06.440Z"
   },
   {
    "duration": 28,
    "start_time": "2022-07-03T08:47:06.465Z"
   },
   {
    "duration": 16,
    "start_time": "2022-07-03T09:01:48.300Z"
   },
   {
    "duration": 7,
    "start_time": "2022-07-03T10:03:49.900Z"
   },
   {
    "duration": 38,
    "start_time": "2022-07-03T10:03:49.909Z"
   },
   {
    "duration": 5,
    "start_time": "2022-07-03T10:03:49.949Z"
   },
   {
    "duration": 10,
    "start_time": "2022-07-03T10:03:49.955Z"
   },
   {
    "duration": 38,
    "start_time": "2022-07-03T10:03:49.967Z"
   },
   {
    "duration": 3,
    "start_time": "2022-07-03T10:03:50.007Z"
   },
   {
    "duration": 56,
    "start_time": "2022-07-03T10:03:50.012Z"
   },
   {
    "duration": 10,
    "start_time": "2022-07-03T10:03:50.070Z"
   },
   {
    "duration": 1509,
    "start_time": "2022-07-03T10:03:50.082Z"
   },
   {
    "duration": 5997,
    "start_time": "2022-07-03T10:03:51.593Z"
   },
   {
    "duration": 39,
    "start_time": "2022-07-03T10:03:57.593Z"
   },
   {
    "duration": 28,
    "start_time": "2022-07-03T10:03:57.635Z"
   },
   {
    "duration": 5,
    "start_time": "2022-07-03T10:07:11.162Z"
   },
   {
    "duration": 4,
    "start_time": "2022-07-03T10:09:17.506Z"
   },
   {
    "duration": 69,
    "start_time": "2022-07-03T10:09:35.246Z"
   },
   {
    "duration": 14,
    "start_time": "2022-07-03T10:17:21.866Z"
   },
   {
    "duration": 4,
    "start_time": "2022-07-03T10:17:55.666Z"
   },
   {
    "duration": 4,
    "start_time": "2022-07-03T10:18:23.021Z"
   },
   {
    "duration": 4,
    "start_time": "2022-07-03T10:24:29.052Z"
   },
   {
    "duration": 4,
    "start_time": "2022-07-03T10:24:36.986Z"
   },
   {
    "duration": 4,
    "start_time": "2022-07-03T10:24:59.596Z"
   },
   {
    "duration": 4,
    "start_time": "2022-07-03T10:25:50.722Z"
   },
   {
    "duration": 31,
    "start_time": "2022-07-03T10:26:29.917Z"
   },
   {
    "duration": 13,
    "start_time": "2022-07-03T10:26:55.254Z"
   },
   {
    "duration": 4,
    "start_time": "2022-07-03T10:27:33.116Z"
   },
   {
    "duration": 5,
    "start_time": "2022-07-03T10:27:56.466Z"
   },
   {
    "duration": 5,
    "start_time": "2022-07-03T10:28:06.806Z"
   },
   {
    "duration": 6,
    "start_time": "2022-07-03T10:28:26.754Z"
   },
   {
    "duration": 145,
    "start_time": "2022-07-03T10:34:12.181Z"
   },
   {
    "duration": 7,
    "start_time": "2022-07-03T10:36:30.369Z"
   },
   {
    "duration": 45,
    "start_time": "2022-07-03T10:36:30.377Z"
   },
   {
    "duration": 6,
    "start_time": "2022-07-03T10:36:30.424Z"
   },
   {
    "duration": 32,
    "start_time": "2022-07-03T10:36:30.432Z"
   },
   {
    "duration": 62,
    "start_time": "2022-07-03T10:36:30.466Z"
   },
   {
    "duration": 4,
    "start_time": "2022-07-03T10:36:30.529Z"
   },
   {
    "duration": 58,
    "start_time": "2022-07-03T10:36:30.534Z"
   },
   {
    "duration": 4,
    "start_time": "2022-07-03T10:36:30.593Z"
   },
   {
    "duration": 29,
    "start_time": "2022-07-03T10:36:30.599Z"
   },
   {
    "duration": 1255,
    "start_time": "2022-07-03T10:36:30.629Z"
   },
   {
    "duration": 5119,
    "start_time": "2022-07-03T10:36:31.887Z"
   },
   {
    "duration": 29,
    "start_time": "2022-07-03T10:36:37.008Z"
   },
   {
    "duration": 88,
    "start_time": "2022-07-03T10:36:37.039Z"
   },
   {
    "duration": 553,
    "start_time": "2022-07-03T10:41:59.297Z"
   },
   {
    "duration": 566,
    "start_time": "2022-07-03T10:42:23.623Z"
   },
   {
    "duration": 504,
    "start_time": "2022-07-03T10:43:13.973Z"
   },
   {
    "duration": 7,
    "start_time": "2022-07-03T10:47:48.265Z"
   },
   {
    "duration": 30,
    "start_time": "2022-07-03T10:47:48.274Z"
   },
   {
    "duration": 7,
    "start_time": "2022-07-03T10:47:48.305Z"
   },
   {
    "duration": 12,
    "start_time": "2022-07-03T10:47:48.314Z"
   },
   {
    "duration": 35,
    "start_time": "2022-07-03T10:47:48.327Z"
   },
   {
    "duration": 4,
    "start_time": "2022-07-03T10:47:48.364Z"
   },
   {
    "duration": 39,
    "start_time": "2022-07-03T10:47:48.369Z"
   },
   {
    "duration": 18,
    "start_time": "2022-07-03T10:47:48.409Z"
   },
   {
    "duration": 11,
    "start_time": "2022-07-03T10:47:48.429Z"
   },
   {
    "duration": 1286,
    "start_time": "2022-07-03T10:47:48.441Z"
   },
   {
    "duration": 5126,
    "start_time": "2022-07-03T10:47:49.728Z"
   },
   {
    "duration": 15,
    "start_time": "2022-07-03T10:47:54.856Z"
   },
   {
    "duration": 649,
    "start_time": "2022-07-03T10:47:54.873Z"
   },
   {
    "duration": 663,
    "start_time": "2022-07-03T10:49:26.792Z"
   },
   {
    "duration": 515,
    "start_time": "2022-07-03T10:53:24.177Z"
   },
   {
    "duration": 10,
    "start_time": "2022-07-03T11:02:25.540Z"
   },
   {
    "duration": 31,
    "start_time": "2022-07-03T11:02:25.552Z"
   },
   {
    "duration": 4,
    "start_time": "2022-07-03T11:02:25.585Z"
   },
   {
    "duration": 12,
    "start_time": "2022-07-03T11:02:25.590Z"
   },
   {
    "duration": 43,
    "start_time": "2022-07-03T11:02:25.603Z"
   },
   {
    "duration": 4,
    "start_time": "2022-07-03T11:02:25.647Z"
   },
   {
    "duration": 41,
    "start_time": "2022-07-03T11:02:25.653Z"
   },
   {
    "duration": 4,
    "start_time": "2022-07-03T11:02:25.695Z"
   },
   {
    "duration": 31,
    "start_time": "2022-07-03T11:02:25.700Z"
   },
   {
    "duration": 1550,
    "start_time": "2022-07-03T11:02:25.732Z"
   },
   {
    "duration": 5464,
    "start_time": "2022-07-03T11:02:27.284Z"
   },
   {
    "duration": 17,
    "start_time": "2022-07-03T11:02:32.750Z"
   },
   {
    "duration": 754,
    "start_time": "2022-07-03T11:02:32.769Z"
   },
   {
    "duration": 1536,
    "start_time": "2022-07-03T14:46:51.521Z"
   },
   {
    "duration": 61,
    "start_time": "2022-07-03T14:46:53.059Z"
   },
   {
    "duration": 3,
    "start_time": "2022-07-03T14:46:53.122Z"
   },
   {
    "duration": 10,
    "start_time": "2022-07-03T14:46:53.127Z"
   },
   {
    "duration": 48,
    "start_time": "2022-07-03T14:46:53.138Z"
   },
   {
    "duration": 3,
    "start_time": "2022-07-03T14:46:53.188Z"
   },
   {
    "duration": 52,
    "start_time": "2022-07-03T14:46:53.193Z"
   },
   {
    "duration": 22,
    "start_time": "2022-07-03T14:46:53.247Z"
   },
   {
    "duration": 27,
    "start_time": "2022-07-03T14:46:53.271Z"
   },
   {
    "duration": 1492,
    "start_time": "2022-07-03T14:46:53.301Z"
   },
   {
    "duration": 5210,
    "start_time": "2022-07-03T14:46:54.795Z"
   },
   {
    "duration": 15,
    "start_time": "2022-07-03T14:47:00.007Z"
   },
   {
    "duration": 601,
    "start_time": "2022-07-03T14:47:00.024Z"
   },
   {
    "duration": 3,
    "start_time": "2022-07-03T15:12:05.513Z"
   },
   {
    "duration": 580,
    "start_time": "2022-07-03T15:12:07.498Z"
   },
   {
    "duration": 5,
    "start_time": "2022-07-03T15:19:26.305Z"
   },
   {
    "duration": 380,
    "start_time": "2022-07-03T15:19:31.053Z"
   },
   {
    "duration": 11,
    "start_time": "2022-07-03T15:20:28.093Z"
   },
   {
    "duration": 38,
    "start_time": "2022-07-03T15:20:28.107Z"
   },
   {
    "duration": 4,
    "start_time": "2022-07-03T15:20:28.147Z"
   },
   {
    "duration": 11,
    "start_time": "2022-07-03T15:20:28.153Z"
   },
   {
    "duration": 76,
    "start_time": "2022-07-03T15:20:28.166Z"
   },
   {
    "duration": 4,
    "start_time": "2022-07-03T15:20:28.244Z"
   },
   {
    "duration": 58,
    "start_time": "2022-07-03T15:20:28.250Z"
   },
   {
    "duration": 4,
    "start_time": "2022-07-03T15:20:28.309Z"
   },
   {
    "duration": 15,
    "start_time": "2022-07-03T15:20:28.315Z"
   },
   {
    "duration": 1563,
    "start_time": "2022-07-03T15:20:28.332Z"
   },
   {
    "duration": 5740,
    "start_time": "2022-07-03T15:20:29.897Z"
   },
   {
    "duration": 39,
    "start_time": "2022-07-03T15:20:35.638Z"
   },
   {
    "duration": 6,
    "start_time": "2022-07-03T15:20:35.679Z"
   },
   {
    "duration": 676,
    "start_time": "2022-07-03T15:20:35.688Z"
   },
   {
    "duration": 23,
    "start_time": "2022-07-03T16:34:56.097Z"
   },
   {
    "duration": 21,
    "start_time": "2022-07-03T16:34:56.121Z"
   },
   {
    "duration": 4,
    "start_time": "2022-07-03T16:34:56.143Z"
   },
   {
    "duration": 7,
    "start_time": "2022-07-03T16:34:56.149Z"
   },
   {
    "duration": 36,
    "start_time": "2022-07-03T16:34:56.158Z"
   },
   {
    "duration": 3,
    "start_time": "2022-07-03T16:34:56.196Z"
   },
   {
    "duration": 40,
    "start_time": "2022-07-03T16:34:56.201Z"
   },
   {
    "duration": 3,
    "start_time": "2022-07-03T16:34:56.243Z"
   },
   {
    "duration": 42,
    "start_time": "2022-07-03T16:34:56.248Z"
   },
   {
    "duration": 1421,
    "start_time": "2022-07-03T16:34:56.292Z"
   },
   {
    "duration": 5488,
    "start_time": "2022-07-03T16:34:57.715Z"
   },
   {
    "duration": 19,
    "start_time": "2022-07-03T16:35:03.205Z"
   },
   {
    "duration": 16,
    "start_time": "2022-07-03T16:35:03.226Z"
   },
   {
    "duration": 572,
    "start_time": "2022-07-03T16:35:03.244Z"
   },
   {
    "duration": 119,
    "start_time": "2022-07-03T16:35:03.817Z"
   },
   {
    "duration": 0,
    "start_time": "2022-07-03T16:35:03.937Z"
   },
   {
    "duration": 115501,
    "start_time": "2022-07-03T16:35:41.582Z"
   },
   {
    "duration": 980,
    "start_time": "2022-07-03T16:38:14.587Z"
   },
   {
    "duration": 1138,
    "start_time": "2022-07-03T16:39:56.947Z"
   },
   {
    "duration": 11,
    "start_time": "2022-07-03T16:41:21.595Z"
   },
   {
    "duration": 38533,
    "start_time": "2022-07-03T16:41:29.924Z"
   },
   {
    "duration": 151,
    "start_time": "2022-07-03T16:51:22.001Z"
   },
   {
    "duration": 145,
    "start_time": "2022-07-03T16:55:00.251Z"
   },
   {
    "duration": 754,
    "start_time": "2022-07-03T16:59:53.152Z"
   },
   {
    "duration": 3367,
    "start_time": "2022-07-03T17:00:51.847Z"
   },
   {
    "duration": 3240,
    "start_time": "2022-07-03T17:03:19.866Z"
   },
   {
    "duration": 3001,
    "start_time": "2022-07-03T17:03:48.485Z"
   },
   {
    "duration": 1067,
    "start_time": "2022-07-03T17:06:45.043Z"
   },
   {
    "duration": 1172,
    "start_time": "2022-07-03T17:07:44.431Z"
   },
   {
    "duration": 37678,
    "start_time": "2022-07-03T17:11:47.006Z"
   },
   {
    "duration": 2533,
    "start_time": "2022-07-03T17:12:59.386Z"
   },
   {
    "duration": 2815,
    "start_time": "2022-07-03T17:14:01.295Z"
   },
   {
    "duration": 117,
    "start_time": "2022-07-03T17:15:17.542Z"
   },
   {
    "duration": 141,
    "start_time": "2022-07-03T17:16:33.489Z"
   },
   {
    "duration": 2731,
    "start_time": "2022-07-03T17:16:50.130Z"
   },
   {
    "duration": 2631,
    "start_time": "2022-07-03T17:18:22.254Z"
   },
   {
    "duration": 2761,
    "start_time": "2022-07-03T17:19:08.180Z"
   },
   {
    "duration": 1038,
    "start_time": "2022-07-03T17:19:57.983Z"
   },
   {
    "duration": 18,
    "start_time": "2022-07-03T17:20:14.084Z"
   },
   {
    "duration": 17,
    "start_time": "2022-07-03T17:20:24.430Z"
   },
   {
    "duration": 133,
    "start_time": "2022-07-03T17:22:49.863Z"
   },
   {
    "duration": 154,
    "start_time": "2022-07-03T17:23:01.634Z"
   },
   {
    "duration": 118,
    "start_time": "2022-07-03T17:23:11.806Z"
   },
   {
    "duration": 145,
    "start_time": "2022-07-03T17:23:26.814Z"
   },
   {
    "duration": 2757,
    "start_time": "2022-07-03T17:23:33.352Z"
   },
   {
    "duration": 581,
    "start_time": "2022-07-03T17:28:38.700Z"
   },
   {
    "duration": 34679,
    "start_time": "2022-07-03T17:29:38.519Z"
   },
   {
    "duration": 432,
    "start_time": "2022-07-03T17:30:37.912Z"
   },
   {
    "duration": 3110,
    "start_time": "2022-07-03T17:31:12.617Z"
   },
   {
    "duration": 2036,
    "start_time": "2022-07-03T17:33:11.992Z"
   },
   {
    "duration": 2410,
    "start_time": "2022-07-03T17:34:28.529Z"
   },
   {
    "duration": 1153,
    "start_time": "2022-07-03T17:34:49.841Z"
   },
   {
    "duration": 34407,
    "start_time": "2022-07-03T17:39:41.917Z"
   },
   {
    "duration": 2582,
    "start_time": "2022-07-03T17:40:24.637Z"
   },
   {
    "duration": 3276,
    "start_time": "2022-07-03T17:40:51.561Z"
   },
   {
    "duration": 0,
    "start_time": "2022-07-03T17:52:37.235Z"
   },
   {
    "duration": 66773,
    "start_time": "2022-07-03T17:55:37.216Z"
   },
   {
    "duration": 2037,
    "start_time": "2022-07-03T17:56:59.309Z"
   },
   {
    "duration": 2656,
    "start_time": "2022-07-03T18:00:26.697Z"
   },
   {
    "duration": 2799,
    "start_time": "2022-07-03T18:00:51.720Z"
   },
   {
    "duration": 0,
    "start_time": "2022-07-03T18:06:41.990Z"
   },
   {
    "duration": 33339,
    "start_time": "2022-07-03T18:07:41.161Z"
   },
   {
    "duration": 1036,
    "start_time": "2022-07-03T18:09:10.764Z"
   },
   {
    "duration": 939,
    "start_time": "2022-07-03T18:17:13.445Z"
   },
   {
    "duration": 341,
    "start_time": "2022-07-03T18:18:01.751Z"
   },
   {
    "duration": 0,
    "start_time": "2022-07-03T18:20:23.984Z"
   },
   {
    "duration": 855,
    "start_time": "2022-07-03T18:21:28.135Z"
   },
   {
    "duration": 784,
    "start_time": "2022-07-03T18:22:07.745Z"
   },
   {
    "duration": 6,
    "start_time": "2022-07-03T18:22:37.179Z"
   },
   {
    "duration": 271720,
    "start_time": "2022-07-03T18:22:42.865Z"
   },
   {
    "duration": 0,
    "start_time": "2022-07-03T18:27:14.674Z"
   },
   {
    "duration": 11979,
    "start_time": "2022-07-03T18:27:54.417Z"
   },
   {
    "duration": 5618,
    "start_time": "2022-07-03T18:30:25.378Z"
   },
   {
    "duration": 8844,
    "start_time": "2022-07-03T18:31:59.521Z"
   },
   {
    "duration": 6313,
    "start_time": "2022-07-03T18:32:38.631Z"
   },
   {
    "duration": 5999,
    "start_time": "2022-07-03T18:33:19.590Z"
   },
   {
    "duration": 6263,
    "start_time": "2022-07-03T18:33:53.703Z"
   },
   {
    "duration": 6071,
    "start_time": "2022-07-03T18:34:15.414Z"
   },
   {
    "duration": 5923,
    "start_time": "2022-07-03T18:34:51.134Z"
   },
   {
    "duration": 6129,
    "start_time": "2022-07-03T18:36:02.418Z"
   },
   {
    "duration": 5526,
    "start_time": "2022-07-03T18:36:24.234Z"
   },
   {
    "duration": 5928,
    "start_time": "2022-07-03T18:41:24.998Z"
   },
   {
    "duration": 5576,
    "start_time": "2022-07-03T18:42:22.263Z"
   },
   {
    "duration": 6375,
    "start_time": "2022-07-03T18:42:55.947Z"
   },
   {
    "duration": 6284,
    "start_time": "2022-07-03T18:43:17.034Z"
   },
   {
    "duration": 5792,
    "start_time": "2022-07-03T18:46:12.570Z"
   },
   {
    "duration": 5841,
    "start_time": "2022-07-03T18:46:45.174Z"
   },
   {
    "duration": 6118,
    "start_time": "2022-07-03T18:47:18.599Z"
   },
   {
    "duration": 5728,
    "start_time": "2022-07-03T18:47:37.826Z"
   },
   {
    "duration": 5348,
    "start_time": "2022-07-03T18:48:24.283Z"
   },
   {
    "duration": 7825,
    "start_time": "2022-07-03T18:49:28.024Z"
   },
   {
    "duration": 32660,
    "start_time": "2022-07-03T19:00:36.700Z"
   },
   {
    "duration": 3496,
    "start_time": "2022-07-03T19:03:49.307Z"
   },
   {
    "duration": 3896,
    "start_time": "2022-07-03T19:04:07.579Z"
   },
   {
    "duration": 3374,
    "start_time": "2022-07-03T19:04:21.125Z"
   },
   {
    "duration": 98,
    "start_time": "2022-07-03T19:05:30.443Z"
   },
   {
    "duration": 3645,
    "start_time": "2022-07-03T19:07:10.719Z"
   },
   {
    "duration": 1453,
    "start_time": "2022-07-03T19:07:55.111Z"
   },
   {
    "duration": 1740,
    "start_time": "2022-07-03T19:08:15.187Z"
   },
   {
    "duration": 17205,
    "start_time": "2022-07-03T19:10:15.341Z"
   },
   {
    "duration": 3110,
    "start_time": "2022-07-03T19:12:06.388Z"
   },
   {
    "duration": 67,
    "start_time": "2022-07-03T19:13:01.952Z"
   },
   {
    "duration": 2624,
    "start_time": "2022-07-03T19:13:31.546Z"
   },
   {
    "duration": 1038,
    "start_time": "2022-07-03T19:16:19.649Z"
   },
   {
    "duration": 30139,
    "start_time": "2022-07-03T19:21:48.641Z"
   },
   {
    "duration": 2703,
    "start_time": "2022-07-03T19:26:59.012Z"
   },
   {
    "duration": 1093,
    "start_time": "2022-07-03T19:27:05.996Z"
   },
   {
    "duration": 1191,
    "start_time": "2022-07-03T19:30:01.518Z"
   },
   {
    "duration": 36299,
    "start_time": "2022-07-03T19:31:43.659Z"
   },
   {
    "duration": 34812,
    "start_time": "2022-07-03T19:36:12.395Z"
   },
   {
    "duration": 72,
    "start_time": "2022-07-03T19:48:57.803Z"
   },
   {
    "duration": 525,
    "start_time": "2022-07-03T19:49:18.070Z"
   },
   {
    "duration": 31768,
    "start_time": "2022-07-03T19:49:55.992Z"
   },
   {
    "duration": 2100,
    "start_time": "2022-07-03T19:53:35.340Z"
   },
   {
    "duration": 9,
    "start_time": "2022-07-03T19:56:05.769Z"
   },
   {
    "duration": 1704,
    "start_time": "2022-07-03T19:57:15.639Z"
   },
   {
    "duration": 1395,
    "start_time": "2022-07-03T19:57:39.643Z"
   },
   {
    "duration": 1635,
    "start_time": "2022-07-03T20:11:45.448Z"
   },
   {
    "duration": 13,
    "start_time": "2022-07-03T20:11:59.580Z"
   },
   {
    "duration": 1623,
    "start_time": "2022-07-03T20:12:19.013Z"
   },
   {
    "duration": 1692,
    "start_time": "2022-07-03T20:13:13.019Z"
   },
   {
    "duration": 1580,
    "start_time": "2022-07-03T20:13:21.000Z"
   },
   {
    "duration": 7,
    "start_time": "2022-07-03T20:13:40.709Z"
   },
   {
    "duration": 28,
    "start_time": "2022-07-03T20:13:40.718Z"
   },
   {
    "duration": 3,
    "start_time": "2022-07-03T20:13:40.748Z"
   },
   {
    "duration": 9,
    "start_time": "2022-07-03T20:13:40.753Z"
   },
   {
    "duration": 35,
    "start_time": "2022-07-03T20:13:40.764Z"
   },
   {
    "duration": 3,
    "start_time": "2022-07-03T20:13:40.801Z"
   },
   {
    "duration": 38,
    "start_time": "2022-07-03T20:13:40.806Z"
   },
   {
    "duration": 3,
    "start_time": "2022-07-03T20:13:40.846Z"
   },
   {
    "duration": 12,
    "start_time": "2022-07-03T20:13:40.867Z"
   },
   {
    "duration": 1335,
    "start_time": "2022-07-03T20:13:40.882Z"
   },
   {
    "duration": 5291,
    "start_time": "2022-07-03T20:13:42.218Z"
   },
   {
    "duration": 16,
    "start_time": "2022-07-03T20:13:47.511Z"
   },
   {
    "duration": 6,
    "start_time": "2022-07-03T20:13:47.529Z"
   },
   {
    "duration": 567,
    "start_time": "2022-07-03T20:13:47.537Z"
   },
   {
    "duration": 112543,
    "start_time": "2022-07-03T20:13:48.106Z"
   },
   {
    "duration": 1587,
    "start_time": "2022-07-03T20:15:40.650Z"
   },
   {
    "duration": 31321,
    "start_time": "2022-07-03T20:15:42.239Z"
   },
   {
    "duration": 2359,
    "start_time": "2022-07-03T20:16:13.567Z"
   },
   {
    "duration": 1589,
    "start_time": "2022-07-03T20:16:46.342Z"
   },
   {
    "duration": 1670,
    "start_time": "2022-07-03T20:17:30.408Z"
   },
   {
    "duration": 1572,
    "start_time": "2022-07-03T20:18:09.895Z"
   },
   {
    "duration": 2028,
    "start_time": "2022-07-03T20:18:23.495Z"
   },
   {
    "duration": 22,
    "start_time": "2022-07-03T20:19:43.425Z"
   },
   {
    "duration": 3,
    "start_time": "2022-07-03T20:19:48.698Z"
   },
   {
    "duration": 8,
    "start_time": "2022-07-03T20:19:49.566Z"
   },
   {
    "duration": 28,
    "start_time": "2022-07-03T20:19:50.081Z"
   },
   {
    "duration": 4,
    "start_time": "2022-07-03T20:19:50.719Z"
   },
   {
    "duration": 36,
    "start_time": "2022-07-03T20:19:51.346Z"
   },
   {
    "duration": 3,
    "start_time": "2022-07-03T20:19:51.946Z"
   },
   {
    "duration": 11,
    "start_time": "2022-07-03T20:19:52.910Z"
   },
   {
    "duration": 1379,
    "start_time": "2022-07-03T20:19:54.249Z"
   },
   {
    "duration": 1388,
    "start_time": "2022-07-03T20:24:15.754Z"
   },
   {
    "duration": 1648,
    "start_time": "2022-07-03T20:34:04.252Z"
   },
   {
    "duration": 1054,
    "start_time": "2022-07-03T20:40:18.746Z"
   },
   {
    "duration": 15,
    "start_time": "2022-07-03T20:56:08.497Z"
   },
   {
    "duration": 9,
    "start_time": "2022-07-03T21:01:51.077Z"
   },
   {
    "duration": 14,
    "start_time": "2022-07-03T21:04:42.953Z"
   },
   {
    "duration": 14,
    "start_time": "2022-07-03T21:06:54.282Z"
   },
   {
    "duration": 10,
    "start_time": "2022-07-03T21:08:05.681Z"
   },
   {
    "duration": 10,
    "start_time": "2022-07-03T21:09:09.947Z"
   },
   {
    "duration": 10,
    "start_time": "2022-07-03T21:09:47.844Z"
   },
   {
    "duration": 10,
    "start_time": "2022-07-03T21:10:08.179Z"
   },
   {
    "duration": 11,
    "start_time": "2022-07-03T21:10:55.623Z"
   },
   {
    "duration": 13,
    "start_time": "2022-07-03T21:15:42.599Z"
   },
   {
    "duration": 1498,
    "start_time": "2022-07-03T21:17:13.546Z"
   },
   {
    "duration": 16,
    "start_time": "2022-07-03T21:17:16.958Z"
   },
   {
    "duration": 15,
    "start_time": "2022-07-03T21:22:57.345Z"
   },
   {
    "duration": 12,
    "start_time": "2022-07-03T21:23:54.092Z"
   },
   {
    "duration": 21,
    "start_time": "2022-07-03T21:26:11.821Z"
   },
   {
    "duration": 31,
    "start_time": "2022-07-03T21:26:19.949Z"
   },
   {
    "duration": 18,
    "start_time": "2022-07-03T21:28:38.373Z"
   },
   {
    "duration": 792,
    "start_time": "2022-07-03T21:29:02.063Z"
   },
   {
    "duration": 889,
    "start_time": "2022-07-03T21:29:50.381Z"
   },
   {
    "duration": 2655,
    "start_time": "2022-07-03T21:32:41.447Z"
   },
   {
    "duration": 8116,
    "start_time": "2022-07-03T21:33:51.037Z"
   },
   {
    "duration": 8382,
    "start_time": "2022-07-03T21:36:49.036Z"
   },
   {
    "duration": 8565,
    "start_time": "2022-07-03T21:37:32.213Z"
   },
   {
    "duration": 10665,
    "start_time": "2022-07-03T21:38:09.416Z"
   },
   {
    "duration": 10230,
    "start_time": "2022-07-03T21:39:01.583Z"
   },
   {
    "duration": 10077,
    "start_time": "2022-07-03T21:39:22.139Z"
   },
   {
    "duration": 9834,
    "start_time": "2022-07-03T21:40:27.381Z"
   },
   {
    "duration": 3253,
    "start_time": "2022-07-03T21:50:06.989Z"
   },
   {
    "duration": 2732,
    "start_time": "2022-07-03T21:51:22.123Z"
   },
   {
    "duration": 3013,
    "start_time": "2022-07-03T21:52:28.619Z"
   },
   {
    "duration": 1099,
    "start_time": "2022-07-03T21:57:18.695Z"
   },
   {
    "duration": 29,
    "start_time": "2022-07-03T22:06:08.881Z"
   },
   {
    "duration": 11,
    "start_time": "2022-07-03T22:06:39.066Z"
   },
   {
    "duration": 45,
    "start_time": "2022-07-03T22:06:39.079Z"
   },
   {
    "duration": 4,
    "start_time": "2022-07-03T22:06:39.125Z"
   },
   {
    "duration": 7,
    "start_time": "2022-07-03T22:06:39.130Z"
   },
   {
    "duration": 41,
    "start_time": "2022-07-03T22:06:39.139Z"
   },
   {
    "duration": 5,
    "start_time": "2022-07-03T22:06:39.182Z"
   },
   {
    "duration": 59,
    "start_time": "2022-07-03T22:06:39.188Z"
   },
   {
    "duration": 4,
    "start_time": "2022-07-03T22:06:39.248Z"
   },
   {
    "duration": 57,
    "start_time": "2022-07-03T22:06:39.254Z"
   },
   {
    "duration": 1547,
    "start_time": "2022-07-03T22:06:39.313Z"
   },
   {
    "duration": 1077,
    "start_time": "2022-07-03T22:06:40.867Z"
   },
   {
    "duration": 5,
    "start_time": "2022-07-03T22:06:41.946Z"
   },
   {
    "duration": 430,
    "start_time": "2022-07-03T22:06:41.954Z"
   },
   {
    "duration": 12,
    "start_time": "2022-07-03T22:06:42.386Z"
   },
   {
    "duration": 124979,
    "start_time": "2022-07-03T22:06:42.399Z"
   },
   {
    "duration": 1466,
    "start_time": "2022-07-03T22:08:47.386Z"
   },
   {
    "duration": 10225,
    "start_time": "2022-07-03T22:08:48.854Z"
   },
   {
    "duration": 2621,
    "start_time": "2022-07-03T22:08:59.081Z"
   },
   {
    "duration": 20,
    "start_time": "2022-07-03T22:09:01.703Z"
   },
   {
    "duration": 1582,
    "start_time": "2022-07-04T16:04:22.127Z"
   },
   {
    "duration": 65,
    "start_time": "2022-07-04T16:04:25.988Z"
   },
   {
    "duration": 4,
    "start_time": "2022-07-04T16:04:28.765Z"
   },
   {
    "duration": 8,
    "start_time": "2022-07-04T16:04:38.873Z"
   },
   {
    "duration": 44,
    "start_time": "2022-07-04T16:04:44.277Z"
   },
   {
    "duration": 11,
    "start_time": "2022-07-04T16:05:34.321Z"
   },
   {
    "duration": 37,
    "start_time": "2022-07-04T16:05:36.782Z"
   },
   {
    "duration": 7,
    "start_time": "2022-07-04T16:06:38.594Z"
   },
   {
    "duration": 33,
    "start_time": "2022-07-04T16:06:42.089Z"
   },
   {
    "duration": 11,
    "start_time": "2022-07-04T16:07:01.651Z"
   },
   {
    "duration": 43,
    "start_time": "2022-07-04T16:07:04.494Z"
   },
   {
    "duration": 8,
    "start_time": "2022-07-04T16:09:13.823Z"
   },
   {
    "duration": 31,
    "start_time": "2022-07-04T16:09:15.602Z"
   },
   {
    "duration": 5,
    "start_time": "2022-07-04T16:09:37.405Z"
   },
   {
    "duration": 39,
    "start_time": "2022-07-04T16:09:38.915Z"
   },
   {
    "duration": 5,
    "start_time": "2022-07-04T16:09:56.429Z"
   },
   {
    "duration": 4,
    "start_time": "2022-07-04T16:10:04.759Z"
   },
   {
    "duration": 3,
    "start_time": "2022-07-04T16:10:23.636Z"
   },
   {
    "duration": 1064,
    "start_time": "2022-07-04T16:14:11.192Z"
   },
   {
    "duration": 1084,
    "start_time": "2022-07-04T16:14:25.066Z"
   },
   {
    "duration": 125,
    "start_time": "2022-07-04T16:14:52.724Z"
   },
   {
    "duration": 23,
    "start_time": "2022-07-04T16:15:41.939Z"
   },
   {
    "duration": 963,
    "start_time": "2022-07-04T16:16:07.412Z"
   },
   {
    "duration": 943,
    "start_time": "2022-07-04T16:17:19.835Z"
   },
   {
    "duration": 991,
    "start_time": "2022-07-04T16:17:33.490Z"
   },
   {
    "duration": 1012,
    "start_time": "2022-07-04T16:18:21.222Z"
   },
   {
    "duration": 986,
    "start_time": "2022-07-04T16:20:24.925Z"
   },
   {
    "duration": 991,
    "start_time": "2022-07-04T16:21:15.872Z"
   },
   {
    "duration": 1044,
    "start_time": "2022-07-04T16:21:44.552Z"
   },
   {
    "duration": 990,
    "start_time": "2022-07-04T16:22:29.373Z"
   },
   {
    "duration": 23,
    "start_time": "2022-07-04T16:22:50.177Z"
   },
   {
    "duration": 1152,
    "start_time": "2022-07-04T16:23:14.965Z"
   },
   {
    "duration": 993,
    "start_time": "2022-07-04T16:24:02.474Z"
   },
   {
    "duration": 1012,
    "start_time": "2022-07-04T16:24:24.578Z"
   },
   {
    "duration": 953,
    "start_time": "2022-07-04T16:24:40.080Z"
   },
   {
    "duration": 779,
    "start_time": "2022-07-04T16:29:35.261Z"
   },
   {
    "duration": 7,
    "start_time": "2022-07-04T16:29:42.075Z"
   },
   {
    "duration": 29,
    "start_time": "2022-07-04T16:29:42.084Z"
   },
   {
    "duration": 3,
    "start_time": "2022-07-04T16:29:42.114Z"
   },
   {
    "duration": 9,
    "start_time": "2022-07-04T16:29:42.119Z"
   },
   {
    "duration": 38,
    "start_time": "2022-07-04T16:29:42.130Z"
   },
   {
    "duration": 4,
    "start_time": "2022-07-04T16:29:42.169Z"
   },
   {
    "duration": 48,
    "start_time": "2022-07-04T16:29:42.174Z"
   },
   {
    "duration": 3,
    "start_time": "2022-07-04T16:29:42.224Z"
   },
   {
    "duration": 12,
    "start_time": "2022-07-04T16:29:42.228Z"
   },
   {
    "duration": 1332,
    "start_time": "2022-07-04T16:29:42.242Z"
   },
   {
    "duration": 1154,
    "start_time": "2022-07-04T16:29:43.576Z"
   },
   {
    "duration": 5,
    "start_time": "2022-07-04T16:29:44.731Z"
   },
   {
    "duration": 34,
    "start_time": "2022-07-04T16:29:44.738Z"
   },
   {
    "duration": 0,
    "start_time": "2022-07-04T16:29:44.774Z"
   },
   {
    "duration": 0,
    "start_time": "2022-07-04T16:29:44.776Z"
   },
   {
    "duration": 0,
    "start_time": "2022-07-04T16:29:44.778Z"
   },
   {
    "duration": 0,
    "start_time": "2022-07-04T16:29:44.779Z"
   },
   {
    "duration": 0,
    "start_time": "2022-07-04T16:29:44.801Z"
   },
   {
    "duration": 0,
    "start_time": "2022-07-04T16:29:44.803Z"
   },
   {
    "duration": 10,
    "start_time": "2022-07-04T16:30:29.693Z"
   },
   {
    "duration": 26,
    "start_time": "2022-07-04T16:30:29.705Z"
   },
   {
    "duration": 3,
    "start_time": "2022-07-04T16:30:29.734Z"
   },
   {
    "duration": 7,
    "start_time": "2022-07-04T16:30:29.739Z"
   },
   {
    "duration": 35,
    "start_time": "2022-07-04T16:30:29.748Z"
   },
   {
    "duration": 16,
    "start_time": "2022-07-04T16:30:29.785Z"
   },
   {
    "duration": 37,
    "start_time": "2022-07-04T16:30:29.802Z"
   },
   {
    "duration": 3,
    "start_time": "2022-07-04T16:30:29.841Z"
   },
   {
    "duration": 17,
    "start_time": "2022-07-04T16:30:29.846Z"
   },
   {
    "duration": 1266,
    "start_time": "2022-07-04T16:30:29.866Z"
   },
   {
    "duration": 965,
    "start_time": "2022-07-04T16:30:31.134Z"
   },
   {
    "duration": 4,
    "start_time": "2022-07-04T16:30:32.101Z"
   },
   {
    "duration": 46,
    "start_time": "2022-07-04T16:30:32.107Z"
   },
   {
    "duration": 0,
    "start_time": "2022-07-04T16:30:32.155Z"
   },
   {
    "duration": 0,
    "start_time": "2022-07-04T16:30:32.157Z"
   },
   {
    "duration": 0,
    "start_time": "2022-07-04T16:30:32.158Z"
   },
   {
    "duration": 1,
    "start_time": "2022-07-04T16:30:32.159Z"
   },
   {
    "duration": 0,
    "start_time": "2022-07-04T16:30:32.161Z"
   },
   {
    "duration": 0,
    "start_time": "2022-07-04T16:30:32.162Z"
   },
   {
    "duration": 7,
    "start_time": "2022-07-04T16:32:19.636Z"
   },
   {
    "duration": 22,
    "start_time": "2022-07-04T16:32:19.652Z"
   },
   {
    "duration": 4,
    "start_time": "2022-07-04T16:32:19.677Z"
   },
   {
    "duration": 10,
    "start_time": "2022-07-04T16:32:19.683Z"
   },
   {
    "duration": 41,
    "start_time": "2022-07-04T16:32:19.696Z"
   },
   {
    "duration": 3,
    "start_time": "2022-07-04T16:32:19.739Z"
   },
   {
    "duration": 43,
    "start_time": "2022-07-04T16:32:19.744Z"
   },
   {
    "duration": 4,
    "start_time": "2022-07-04T16:32:19.801Z"
   },
   {
    "duration": 16,
    "start_time": "2022-07-04T16:32:19.807Z"
   },
   {
    "duration": 1369,
    "start_time": "2022-07-04T16:32:19.825Z"
   },
   {
    "duration": 977,
    "start_time": "2022-07-04T16:32:21.200Z"
   },
   {
    "duration": 2,
    "start_time": "2022-07-04T16:32:22.179Z"
   },
   {
    "duration": 120,
    "start_time": "2022-07-04T16:32:22.182Z"
   },
   {
    "duration": 0,
    "start_time": "2022-07-04T16:32:22.304Z"
   },
   {
    "duration": 0,
    "start_time": "2022-07-04T16:32:22.306Z"
   },
   {
    "duration": 0,
    "start_time": "2022-07-04T16:32:22.307Z"
   },
   {
    "duration": 0,
    "start_time": "2022-07-04T16:32:22.308Z"
   },
   {
    "duration": 0,
    "start_time": "2022-07-04T16:32:22.309Z"
   },
   {
    "duration": 0,
    "start_time": "2022-07-04T16:32:22.310Z"
   },
   {
    "duration": 7,
    "start_time": "2022-07-04T16:34:21.772Z"
   },
   {
    "duration": 9,
    "start_time": "2022-07-04T16:34:25.765Z"
   },
   {
    "duration": 29,
    "start_time": "2022-07-04T16:34:25.776Z"
   },
   {
    "duration": 3,
    "start_time": "2022-07-04T16:34:25.807Z"
   },
   {
    "duration": 10,
    "start_time": "2022-07-04T16:34:25.812Z"
   },
   {
    "duration": 40,
    "start_time": "2022-07-04T16:34:25.823Z"
   },
   {
    "duration": 4,
    "start_time": "2022-07-04T16:34:25.865Z"
   },
   {
    "duration": 52,
    "start_time": "2022-07-04T16:34:25.870Z"
   },
   {
    "duration": 4,
    "start_time": "2022-07-04T16:34:25.924Z"
   },
   {
    "duration": 17,
    "start_time": "2022-07-04T16:34:25.929Z"
   },
   {
    "duration": 1245,
    "start_time": "2022-07-04T16:34:25.948Z"
   },
   {
    "duration": 963,
    "start_time": "2022-07-04T16:34:27.195Z"
   },
   {
    "duration": 4,
    "start_time": "2022-07-04T16:34:28.159Z"
   },
   {
    "duration": 40,
    "start_time": "2022-07-04T16:34:28.165Z"
   },
   {
    "duration": 0,
    "start_time": "2022-07-04T16:34:28.206Z"
   },
   {
    "duration": 0,
    "start_time": "2022-07-04T16:34:28.207Z"
   },
   {
    "duration": 0,
    "start_time": "2022-07-04T16:34:28.208Z"
   },
   {
    "duration": 0,
    "start_time": "2022-07-04T16:34:28.209Z"
   },
   {
    "duration": 0,
    "start_time": "2022-07-04T16:34:28.210Z"
   },
   {
    "duration": 0,
    "start_time": "2022-07-04T16:34:28.211Z"
   },
   {
    "duration": 114,
    "start_time": "2022-07-04T16:34:49.695Z"
   },
   {
    "duration": 88,
    "start_time": "2022-07-04T16:34:56.919Z"
   },
   {
    "duration": 7,
    "start_time": "2022-07-04T16:36:59.149Z"
   },
   {
    "duration": 30,
    "start_time": "2022-07-04T16:36:59.158Z"
   },
   {
    "duration": 3,
    "start_time": "2022-07-04T16:36:59.190Z"
   },
   {
    "duration": 12,
    "start_time": "2022-07-04T16:36:59.195Z"
   },
   {
    "duration": 38,
    "start_time": "2022-07-04T16:36:59.209Z"
   },
   {
    "duration": 3,
    "start_time": "2022-07-04T16:36:59.249Z"
   },
   {
    "duration": 132,
    "start_time": "2022-07-04T16:36:59.253Z"
   },
   {
    "duration": 4,
    "start_time": "2022-07-04T16:36:59.387Z"
   },
   {
    "duration": 11,
    "start_time": "2022-07-04T16:36:59.400Z"
   },
   {
    "duration": 1292,
    "start_time": "2022-07-04T16:36:59.413Z"
   },
   {
    "duration": 953,
    "start_time": "2022-07-04T16:37:00.706Z"
   },
   {
    "duration": 4,
    "start_time": "2022-07-04T16:37:01.661Z"
   },
   {
    "duration": 44,
    "start_time": "2022-07-04T16:37:01.666Z"
   },
   {
    "duration": 0,
    "start_time": "2022-07-04T16:37:01.711Z"
   },
   {
    "duration": 0,
    "start_time": "2022-07-04T16:37:01.713Z"
   },
   {
    "duration": 0,
    "start_time": "2022-07-04T16:37:01.714Z"
   },
   {
    "duration": 0,
    "start_time": "2022-07-04T16:37:01.715Z"
   },
   {
    "duration": 0,
    "start_time": "2022-07-04T16:37:01.716Z"
   },
   {
    "duration": 0,
    "start_time": "2022-07-04T16:37:01.717Z"
   },
   {
    "duration": 19,
    "start_time": "2022-07-04T16:38:44.990Z"
   },
   {
    "duration": 55,
    "start_time": "2022-07-04T16:38:45.011Z"
   },
   {
    "duration": 3,
    "start_time": "2022-07-04T16:38:45.068Z"
   },
   {
    "duration": 49,
    "start_time": "2022-07-04T16:38:45.073Z"
   },
   {
    "duration": 74,
    "start_time": "2022-07-04T16:38:45.123Z"
   },
   {
    "duration": 5,
    "start_time": "2022-07-04T16:38:45.200Z"
   },
   {
    "duration": 58,
    "start_time": "2022-07-04T16:38:45.207Z"
   },
   {
    "duration": 4,
    "start_time": "2022-07-04T16:38:45.268Z"
   },
   {
    "duration": 40,
    "start_time": "2022-07-04T16:38:45.274Z"
   },
   {
    "duration": 1316,
    "start_time": "2022-07-04T16:38:45.317Z"
   },
   {
    "duration": 1032,
    "start_time": "2022-07-04T16:38:46.635Z"
   },
   {
    "duration": 4,
    "start_time": "2022-07-04T16:38:47.669Z"
   },
   {
    "duration": 484,
    "start_time": "2022-07-04T16:38:47.675Z"
   },
   {
    "duration": 9,
    "start_time": "2022-07-04T16:38:48.161Z"
   },
   {
    "duration": 109076,
    "start_time": "2022-07-04T16:38:48.172Z"
   },
   {
    "duration": 1647,
    "start_time": "2022-07-04T16:40:37.250Z"
   },
   {
    "duration": 9393,
    "start_time": "2022-07-04T16:40:38.901Z"
   },
   {
    "duration": 1613,
    "start_time": "2022-07-04T18:21:54.403Z"
   },
   {
    "duration": 143,
    "start_time": "2022-07-04T18:21:56.018Z"
   },
   {
    "duration": 3,
    "start_time": "2022-07-04T18:21:56.163Z"
   },
   {
    "duration": 16,
    "start_time": "2022-07-04T18:21:56.168Z"
   },
   {
    "duration": 51,
    "start_time": "2022-07-04T18:21:56.185Z"
   },
   {
    "duration": 4,
    "start_time": "2022-07-04T18:21:56.237Z"
   },
   {
    "duration": 48,
    "start_time": "2022-07-04T18:21:56.242Z"
   },
   {
    "duration": 3,
    "start_time": "2022-07-04T18:21:56.292Z"
   },
   {
    "duration": 12,
    "start_time": "2022-07-04T18:21:56.297Z"
   },
   {
    "duration": 1480,
    "start_time": "2022-07-04T18:21:56.311Z"
   },
   {
    "duration": 1024,
    "start_time": "2022-07-04T18:21:57.792Z"
   },
   {
    "duration": 9,
    "start_time": "2022-07-04T18:21:58.817Z"
   },
   {
    "duration": 117,
    "start_time": "2022-07-04T18:21:58.827Z"
   },
   {
    "duration": 0,
    "start_time": "2022-07-04T18:21:58.946Z"
   },
   {
    "duration": 0,
    "start_time": "2022-07-04T18:21:58.947Z"
   },
   {
    "duration": 0,
    "start_time": "2022-07-04T18:21:58.948Z"
   },
   {
    "duration": 0,
    "start_time": "2022-07-04T18:21:58.949Z"
   },
   {
    "duration": 0,
    "start_time": "2022-07-04T18:21:58.950Z"
   },
   {
    "duration": 0,
    "start_time": "2022-07-04T18:21:58.951Z"
   },
   {
    "duration": 6,
    "start_time": "2022-07-04T18:25:10.597Z"
   },
   {
    "duration": 39,
    "start_time": "2022-07-04T18:25:10.606Z"
   },
   {
    "duration": 3,
    "start_time": "2022-07-04T18:25:10.647Z"
   },
   {
    "duration": 11,
    "start_time": "2022-07-04T18:25:10.652Z"
   },
   {
    "duration": 40,
    "start_time": "2022-07-04T18:25:10.666Z"
   },
   {
    "duration": 4,
    "start_time": "2022-07-04T18:25:10.707Z"
   },
   {
    "duration": 66,
    "start_time": "2022-07-04T18:25:10.713Z"
   },
   {
    "duration": 3,
    "start_time": "2022-07-04T18:25:10.781Z"
   },
   {
    "duration": 20,
    "start_time": "2022-07-04T18:25:10.787Z"
   },
   {
    "duration": 1067,
    "start_time": "2022-07-04T18:25:10.809Z"
   },
   {
    "duration": 1036,
    "start_time": "2022-07-04T18:25:11.878Z"
   },
   {
    "duration": 13,
    "start_time": "2022-07-04T18:25:12.916Z"
   },
   {
    "duration": 401,
    "start_time": "2022-07-04T18:25:12.931Z"
   },
   {
    "duration": 9,
    "start_time": "2022-07-04T18:25:13.334Z"
   },
   {
    "duration": 113496,
    "start_time": "2022-07-04T18:25:13.345Z"
   },
   {
    "duration": 2156,
    "start_time": "2022-07-04T18:27:06.842Z"
   },
   {
    "duration": 8805,
    "start_time": "2022-07-04T18:27:09.000Z"
   },
   {
    "duration": 2443,
    "start_time": "2022-07-04T18:27:17.806Z"
   },
   {
    "duration": 14,
    "start_time": "2022-07-04T18:27:20.251Z"
   },
   {
    "duration": 2301,
    "start_time": "2022-07-04T18:37:48.851Z"
   },
   {
    "duration": 2942,
    "start_time": "2022-07-04T18:38:13.861Z"
   },
   {
    "duration": 6,
    "start_time": "2022-07-04T18:39:21.104Z"
   },
   {
    "duration": 35,
    "start_time": "2022-07-04T18:39:22.469Z"
   },
   {
    "duration": 4,
    "start_time": "2022-07-04T18:39:23.173Z"
   },
   {
    "duration": 13,
    "start_time": "2022-07-04T18:39:26.722Z"
   },
   {
    "duration": 50,
    "start_time": "2022-07-04T18:39:27.411Z"
   },
   {
    "duration": 6,
    "start_time": "2022-07-04T18:39:28.267Z"
   },
   {
    "duration": 58,
    "start_time": "2022-07-04T18:39:28.942Z"
   },
   {
    "duration": 5,
    "start_time": "2022-07-04T18:39:30.431Z"
   },
   {
    "duration": 17,
    "start_time": "2022-07-04T18:39:33.946Z"
   },
   {
    "duration": 1330,
    "start_time": "2022-07-04T18:39:34.929Z"
   },
   {
    "duration": 1206,
    "start_time": "2022-07-04T18:39:58.689Z"
   },
   {
    "duration": 263,
    "start_time": "2022-07-04T18:40:46.515Z"
   },
   {
    "duration": 2559,
    "start_time": "2022-07-04T18:44:25.918Z"
   },
   {
    "duration": 12,
    "start_time": "2022-07-04T18:44:56.868Z"
   },
   {
    "duration": 1350,
    "start_time": "2022-07-04T18:45:23.122Z"
   },
   {
    "duration": 999,
    "start_time": "2022-07-04T18:45:28.605Z"
   },
   {
    "duration": 592,
    "start_time": "2022-07-04T18:45:36.906Z"
   },
   {
    "duration": 9,
    "start_time": "2022-07-04T18:45:39.366Z"
   },
   {
    "duration": 1830,
    "start_time": "2022-07-04T18:45:47.874Z"
   },
   {
    "duration": 2152,
    "start_time": "2022-07-04T18:45:55.263Z"
   },
   {
    "duration": 2729,
    "start_time": "2022-07-04T18:46:02.225Z"
   },
   {
    "duration": 2408,
    "start_time": "2022-07-04T18:47:25.365Z"
   },
   {
    "duration": 14,
    "start_time": "2022-07-04T18:50:36.573Z"
   },
   {
    "duration": 13,
    "start_time": "2022-07-04T18:50:49.998Z"
   },
   {
    "duration": 19,
    "start_time": "2022-07-04T18:51:40.131Z"
   },
   {
    "duration": 26,
    "start_time": "2022-07-04T18:52:06.792Z"
   },
   {
    "duration": 185,
    "start_time": "2022-07-04T18:54:02.171Z"
   },
   {
    "duration": 14,
    "start_time": "2022-07-04T19:00:20.017Z"
   },
   {
    "duration": 77,
    "start_time": "2022-07-04T19:02:46.998Z"
   },
   {
    "duration": 2862,
    "start_time": "2022-07-04T19:06:21.875Z"
   },
   {
    "duration": 129,
    "start_time": "2022-07-04T19:10:18.992Z"
   },
   {
    "duration": 111,
    "start_time": "2022-07-04T19:12:00.044Z"
   },
   {
    "duration": 2970,
    "start_time": "2022-07-04T19:18:57.828Z"
   },
   {
    "duration": 2712,
    "start_time": "2022-07-04T19:20:16.754Z"
   },
   {
    "duration": 17,
    "start_time": "2022-07-04T19:20:42.681Z"
   },
   {
    "duration": 4995,
    "start_time": "2022-07-04T19:21:01.546Z"
   },
   {
    "duration": 2939,
    "start_time": "2022-07-04T19:21:59.875Z"
   },
   {
    "duration": 149,
    "start_time": "2022-07-04T19:35:21.811Z"
   },
   {
    "duration": 134,
    "start_time": "2022-07-04T19:35:36.464Z"
   },
   {
    "duration": 2671,
    "start_time": "2022-07-04T19:36:00.966Z"
   },
   {
    "duration": 1232,
    "start_time": "2022-07-04T19:36:12.150Z"
   },
   {
    "duration": 120,
    "start_time": "2022-07-04T19:36:30.668Z"
   },
   {
    "duration": 2876,
    "start_time": "2022-07-04T19:37:13.467Z"
   },
   {
    "duration": 2900,
    "start_time": "2022-07-04T19:38:31.558Z"
   },
   {
    "duration": 9,
    "start_time": "2022-07-04T19:46:09.448Z"
   },
   {
    "duration": 12,
    "start_time": "2022-07-04T19:46:25.757Z"
   },
   {
    "duration": 842,
    "start_time": "2022-07-04T19:50:15.141Z"
   },
   {
    "duration": 517,
    "start_time": "2022-07-04T19:50:35.554Z"
   },
   {
    "duration": 4,
    "start_time": "2022-07-04T20:02:45.215Z"
   },
   {
    "duration": 2917,
    "start_time": "2022-07-04T20:02:59.230Z"
   },
   {
    "duration": 2739,
    "start_time": "2022-07-04T20:03:39.465Z"
   },
   {
    "duration": 144,
    "start_time": "2022-07-04T20:10:44.211Z"
   },
   {
    "duration": 3220,
    "start_time": "2022-07-04T20:20:55.091Z"
   },
   {
    "duration": 2935,
    "start_time": "2022-07-04T20:22:44.643Z"
   },
   {
    "duration": 3259,
    "start_time": "2022-07-04T20:23:20.588Z"
   },
   {
    "duration": 2779,
    "start_time": "2022-07-04T20:24:12.523Z"
   },
   {
    "duration": 3007,
    "start_time": "2022-07-04T20:24:42.106Z"
   },
   {
    "duration": 2950,
    "start_time": "2022-07-04T20:35:33.341Z"
   },
   {
    "duration": 376,
    "start_time": "2022-07-04T20:37:35.693Z"
   },
   {
    "duration": 349,
    "start_time": "2022-07-04T20:37:55.006Z"
   },
   {
    "duration": 22485,
    "start_time": "2022-07-04T20:38:17.584Z"
   },
   {
    "duration": 2833,
    "start_time": "2022-07-04T20:40:26.480Z"
   },
   {
    "duration": 2799,
    "start_time": "2022-07-04T20:40:54.254Z"
   },
   {
    "duration": 3365,
    "start_time": "2022-07-04T20:41:14.378Z"
   },
   {
    "duration": 2582,
    "start_time": "2022-07-04T20:41:31.301Z"
   },
   {
    "duration": 3198,
    "start_time": "2022-07-04T20:42:04.665Z"
   },
   {
    "duration": 2548,
    "start_time": "2022-07-04T20:42:34.858Z"
   },
   {
    "duration": 4447,
    "start_time": "2022-07-04T20:43:34.422Z"
   },
   {
    "duration": 2553,
    "start_time": "2022-07-04T20:44:13.120Z"
   },
   {
    "duration": 9890,
    "start_time": "2022-07-04T20:44:56.143Z"
   },
   {
    "duration": 144100,
    "start_time": "2022-07-04T20:46:33.908Z"
   },
   {
    "duration": 20,
    "start_time": "2022-07-04T20:49:08.139Z"
   },
   {
    "duration": 3947,
    "start_time": "2022-07-04T21:01:28.383Z"
   },
   {
    "duration": 2321,
    "start_time": "2022-07-04T21:01:49.546Z"
   },
   {
    "duration": 2396,
    "start_time": "2022-07-04T21:03:09.485Z"
   },
   {
    "duration": 2173,
    "start_time": "2022-07-04T21:03:18.289Z"
   },
   {
    "duration": 2447,
    "start_time": "2022-07-04T21:03:51.105Z"
   },
   {
    "duration": 2540,
    "start_time": "2022-07-04T21:04:08.752Z"
   },
   {
    "duration": 2935,
    "start_time": "2022-07-04T21:04:51.570Z"
   },
   {
    "duration": 2860,
    "start_time": "2022-07-04T21:05:14.172Z"
   },
   {
    "duration": 3051,
    "start_time": "2022-07-04T21:10:44.569Z"
   },
   {
    "duration": 2948,
    "start_time": "2022-07-04T21:16:51.877Z"
   },
   {
    "duration": 2815,
    "start_time": "2022-07-04T21:17:43.270Z"
   },
   {
    "duration": 2858,
    "start_time": "2022-07-04T21:18:20.610Z"
   },
   {
    "duration": 2740,
    "start_time": "2022-07-04T21:18:36.565Z"
   },
   {
    "duration": 2855,
    "start_time": "2022-07-04T21:19:02.910Z"
   },
   {
    "duration": 2778,
    "start_time": "2022-07-04T21:19:38.874Z"
   },
   {
    "duration": 2802,
    "start_time": "2022-07-04T21:20:16.077Z"
   },
   {
    "duration": 15,
    "start_time": "2022-07-04T21:22:22.805Z"
   },
   {
    "duration": 2491,
    "start_time": "2022-07-04T21:22:31.673Z"
   },
   {
    "duration": 3711,
    "start_time": "2022-07-04T21:22:48.003Z"
   },
   {
    "duration": 9757,
    "start_time": "2022-07-04T21:23:16.117Z"
   },
   {
    "duration": 2815,
    "start_time": "2022-07-04T21:23:37.997Z"
   },
   {
    "duration": 2846,
    "start_time": "2022-07-04T21:24:10.444Z"
   },
   {
    "duration": 1323,
    "start_time": "2022-07-04T21:27:47.573Z"
   },
   {
    "duration": 3416,
    "start_time": "2022-07-04T21:28:06.084Z"
   },
   {
    "duration": 3131,
    "start_time": "2022-07-04T21:29:04.597Z"
   },
   {
    "duration": 1246,
    "start_time": "2022-07-04T21:29:43.223Z"
   },
   {
    "duration": 3037,
    "start_time": "2022-07-04T21:29:52.852Z"
   },
   {
    "duration": 3393,
    "start_time": "2022-07-04T21:38:09.687Z"
   },
   {
    "duration": 3158,
    "start_time": "2022-07-04T21:38:31.082Z"
   },
   {
    "duration": 2843,
    "start_time": "2022-07-04T21:39:31.623Z"
   },
   {
    "duration": 3233,
    "start_time": "2022-07-04T21:39:56.947Z"
   },
   {
    "duration": 2989,
    "start_time": "2022-07-04T21:40:15.971Z"
   },
   {
    "duration": 2871,
    "start_time": "2022-07-04T21:46:04.391Z"
   },
   {
    "duration": 3334,
    "start_time": "2022-07-04T21:46:23.908Z"
   },
   {
    "duration": 120,
    "start_time": "2022-07-04T21:47:14.158Z"
   },
   {
    "duration": 120,
    "start_time": "2022-07-04T21:47:47.867Z"
   },
   {
    "duration": 123,
    "start_time": "2022-07-04T21:49:25.490Z"
   },
   {
    "duration": 2776,
    "start_time": "2022-07-04T21:54:51.538Z"
   },
   {
    "duration": 1738,
    "start_time": "2022-07-04T22:12:25.054Z"
   },
   {
    "duration": 1401,
    "start_time": "2022-07-04T22:13:13.558Z"
   },
   {
    "duration": 994,
    "start_time": "2022-07-04T22:13:28.831Z"
   },
   {
    "duration": 2833,
    "start_time": "2022-07-04T22:25:32.449Z"
   },
   {
    "duration": 13,
    "start_time": "2022-07-04T22:42:00.871Z"
   },
   {
    "duration": 7,
    "start_time": "2022-07-04T22:46:31.989Z"
   },
   {
    "duration": 11,
    "start_time": "2022-07-04T22:47:08.043Z"
   },
   {
    "duration": 5,
    "start_time": "2022-07-04T22:47:13.722Z"
   },
   {
    "duration": 7,
    "start_time": "2022-07-04T22:47:50.519Z"
   },
   {
    "duration": 34,
    "start_time": "2022-07-04T22:55:44.194Z"
   },
   {
    "duration": 10,
    "start_time": "2022-07-04T22:59:04.091Z"
   },
   {
    "duration": 79,
    "start_time": "2022-07-04T22:59:48.265Z"
   },
   {
    "duration": 12,
    "start_time": "2022-07-04T23:00:03.496Z"
   },
   {
    "duration": 425,
    "start_time": "2022-07-04T23:00:36.938Z"
   },
   {
    "duration": 11,
    "start_time": "2022-07-04T23:01:38.021Z"
   },
   {
    "duration": 11,
    "start_time": "2022-07-04T23:02:03.480Z"
   },
   {
    "duration": 8,
    "start_time": "2022-07-04T23:09:05.907Z"
   },
   {
    "duration": 10,
    "start_time": "2022-07-04T23:09:42.165Z"
   },
   {
    "duration": 10,
    "start_time": "2022-07-04T23:10:09.796Z"
   },
   {
    "duration": 7,
    "start_time": "2022-07-04T23:10:29.719Z"
   },
   {
    "duration": 11,
    "start_time": "2022-07-04T23:11:14.390Z"
   },
   {
    "duration": 14,
    "start_time": "2022-07-04T23:11:40.918Z"
   },
   {
    "duration": 18,
    "start_time": "2022-07-04T23:13:17.278Z"
   },
   {
    "duration": 7,
    "start_time": "2022-07-04T23:15:43.766Z"
   },
   {
    "duration": 8,
    "start_time": "2022-07-04T23:16:06.587Z"
   },
   {
    "duration": 1733,
    "start_time": "2022-07-05T17:28:58.301Z"
   },
   {
    "duration": 64,
    "start_time": "2022-07-05T17:29:00.036Z"
   },
   {
    "duration": 3,
    "start_time": "2022-07-05T17:29:00.102Z"
   },
   {
    "duration": 9,
    "start_time": "2022-07-05T17:29:00.107Z"
   },
   {
    "duration": 60,
    "start_time": "2022-07-05T17:29:00.118Z"
   },
   {
    "duration": 4,
    "start_time": "2022-07-05T17:29:00.179Z"
   },
   {
    "duration": 44,
    "start_time": "2022-07-05T17:29:00.185Z"
   },
   {
    "duration": 4,
    "start_time": "2022-07-05T17:29:00.230Z"
   },
   {
    "duration": 58,
    "start_time": "2022-07-05T17:29:00.235Z"
   },
   {
    "duration": 1637,
    "start_time": "2022-07-05T17:29:00.295Z"
   },
   {
    "duration": 1216,
    "start_time": "2022-07-05T17:29:01.934Z"
   },
   {
    "duration": 20,
    "start_time": "2022-07-05T17:29:03.152Z"
   },
   {
    "duration": 470,
    "start_time": "2022-07-05T17:29:03.174Z"
   },
   {
    "duration": 19,
    "start_time": "2022-07-05T17:29:03.650Z"
   },
   {
    "duration": 128233,
    "start_time": "2022-07-05T17:29:03.671Z"
   },
   {
    "duration": 1845,
    "start_time": "2022-07-05T17:31:11.906Z"
   },
   {
    "duration": 30,
    "start_time": "2022-07-05T17:31:13.764Z"
   },
   {
    "duration": 3026,
    "start_time": "2022-07-05T17:31:13.795Z"
   },
   {
    "duration": 10,
    "start_time": "2022-07-05T17:31:16.823Z"
   },
   {
    "duration": 20,
    "start_time": "2022-07-05T17:34:23.712Z"
   },
   {
    "duration": 5,
    "start_time": "2022-07-05T17:34:24.105Z"
   },
   {
    "duration": 7,
    "start_time": "2022-07-05T17:34:25.012Z"
   },
   {
    "duration": 44,
    "start_time": "2022-07-05T17:34:28.035Z"
   },
   {
    "duration": 4,
    "start_time": "2022-07-05T17:34:29.400Z"
   },
   {
    "duration": 39,
    "start_time": "2022-07-05T17:34:30.093Z"
   },
   {
    "duration": 5,
    "start_time": "2022-07-05T17:34:32.156Z"
   },
   {
    "duration": 17,
    "start_time": "2022-07-05T17:34:32.844Z"
   },
   {
    "duration": 130,
    "start_time": "2022-07-05T17:35:30.235Z"
   },
   {
    "duration": 16,
    "start_time": "2022-07-05T17:36:04.291Z"
   },
   {
    "duration": 4,
    "start_time": "2022-07-05T17:38:47.727Z"
   },
   {
    "duration": 1224,
    "start_time": "2022-07-05T17:39:05.730Z"
   },
   {
    "duration": 3416,
    "start_time": "2022-07-05T17:39:41.819Z"
   },
   {
    "duration": 1390,
    "start_time": "2022-07-05T17:41:36.231Z"
   },
   {
    "duration": 2586,
    "start_time": "2022-07-05T18:03:20.857Z"
   },
   {
    "duration": 1503,
    "start_time": "2022-07-05T18:05:36.971Z"
   },
   {
    "duration": 1371,
    "start_time": "2022-07-05T18:05:56.635Z"
   },
   {
    "duration": 1492,
    "start_time": "2022-07-05T18:06:16.382Z"
   },
   {
    "duration": 4,
    "start_time": "2022-07-05T18:11:46.852Z"
   },
   {
    "duration": 2643,
    "start_time": "2022-07-05T18:15:07.622Z"
   },
   {
    "duration": 8,
    "start_time": "2022-07-05T18:48:41.283Z"
   },
   {
    "duration": 21,
    "start_time": "2022-07-05T18:48:42.800Z"
   },
   {
    "duration": 3,
    "start_time": "2022-07-05T18:48:43.683Z"
   },
   {
    "duration": 7,
    "start_time": "2022-07-05T18:48:44.831Z"
   },
   {
    "duration": 35,
    "start_time": "2022-07-05T18:48:45.412Z"
   },
   {
    "duration": 4,
    "start_time": "2022-07-05T18:48:46.225Z"
   },
   {
    "duration": 39,
    "start_time": "2022-07-05T18:48:46.794Z"
   },
   {
    "duration": 4,
    "start_time": "2022-07-05T18:48:47.785Z"
   },
   {
    "duration": 13,
    "start_time": "2022-07-05T18:48:48.447Z"
   },
   {
    "duration": 1140,
    "start_time": "2022-07-05T18:48:50.407Z"
   },
   {
    "duration": 1089,
    "start_time": "2022-07-05T18:49:28.720Z"
   },
   {
    "duration": 8,
    "start_time": "2022-07-05T18:51:07.704Z"
   },
   {
    "duration": 20,
    "start_time": "2022-07-05T18:51:08.565Z"
   },
   {
    "duration": 7370,
    "start_time": "2022-07-05T18:51:09.125Z"
   },
   {
    "duration": 123,
    "start_time": "2022-07-05T18:51:16.497Z"
   },
   {
    "duration": 46,
    "start_time": "2022-07-05T18:51:16.621Z"
   },
   {
    "duration": 4,
    "start_time": "2022-07-05T18:51:18.724Z"
   },
   {
    "duration": 38,
    "start_time": "2022-07-05T18:51:19.685Z"
   },
   {
    "duration": 4,
    "start_time": "2022-07-05T18:51:20.781Z"
   },
   {
    "duration": 12,
    "start_time": "2022-07-05T18:51:21.364Z"
   },
   {
    "duration": 2113,
    "start_time": "2022-07-05T18:51:24.708Z"
   },
   {
    "duration": 1062,
    "start_time": "2022-07-05T18:51:33.996Z"
   },
   {
    "duration": 13,
    "start_time": "2022-07-05T18:52:06.794Z"
   },
   {
    "duration": 16,
    "start_time": "2022-07-05T19:08:59.257Z"
   },
   {
    "duration": 12,
    "start_time": "2022-07-05T19:09:26.535Z"
   },
   {
    "duration": 16,
    "start_time": "2022-07-05T19:12:30.726Z"
   },
   {
    "duration": 15,
    "start_time": "2022-07-05T19:12:45.112Z"
   },
   {
    "duration": 21,
    "start_time": "2022-07-05T19:12:54.234Z"
   },
   {
    "duration": 13,
    "start_time": "2022-07-05T19:13:11.295Z"
   },
   {
    "duration": 17,
    "start_time": "2022-07-05T19:13:26.959Z"
   },
   {
    "duration": 17,
    "start_time": "2022-07-05T19:14:01.185Z"
   },
   {
    "duration": 12,
    "start_time": "2022-07-05T19:14:16.187Z"
   },
   {
    "duration": 10,
    "start_time": "2022-07-05T19:26:12.592Z"
   },
   {
    "duration": 13,
    "start_time": "2022-07-05T19:28:13.808Z"
   },
   {
    "duration": 13,
    "start_time": "2022-07-05T19:46:56.666Z"
   },
   {
    "duration": 20,
    "start_time": "2022-07-05T19:47:21.979Z"
   },
   {
    "duration": 4,
    "start_time": "2022-07-05T19:47:22.437Z"
   },
   {
    "duration": 9,
    "start_time": "2022-07-05T19:47:23.345Z"
   },
   {
    "duration": 33,
    "start_time": "2022-07-05T19:47:23.842Z"
   },
   {
    "duration": 4,
    "start_time": "2022-07-05T19:47:24.303Z"
   },
   {
    "duration": 38,
    "start_time": "2022-07-05T19:47:24.761Z"
   },
   {
    "duration": 3,
    "start_time": "2022-07-05T19:47:26.158Z"
   },
   {
    "duration": 13,
    "start_time": "2022-07-05T19:47:26.638Z"
   },
   {
    "duration": 2431,
    "start_time": "2022-07-05T19:47:27.773Z"
   },
   {
    "duration": 1090,
    "start_time": "2022-07-05T19:47:30.206Z"
   },
   {
    "duration": 12,
    "start_time": "2022-07-05T19:47:35.111Z"
   },
   {
    "duration": 15,
    "start_time": "2022-07-05T19:48:02.685Z"
   },
   {
    "duration": 20,
    "start_time": "2022-07-05T19:48:17.684Z"
   },
   {
    "duration": 3,
    "start_time": "2022-07-05T19:48:17.943Z"
   },
   {
    "duration": 9,
    "start_time": "2022-07-05T19:48:18.459Z"
   },
   {
    "duration": 32,
    "start_time": "2022-07-05T19:48:18.742Z"
   },
   {
    "duration": 5,
    "start_time": "2022-07-05T19:48:19.010Z"
   },
   {
    "duration": 38,
    "start_time": "2022-07-05T19:48:19.407Z"
   },
   {
    "duration": 4,
    "start_time": "2022-07-05T19:48:19.731Z"
   },
   {
    "duration": 13,
    "start_time": "2022-07-05T19:48:20.083Z"
   },
   {
    "duration": 2204,
    "start_time": "2022-07-05T19:48:21.123Z"
   },
   {
    "duration": 1150,
    "start_time": "2022-07-05T19:48:23.330Z"
   },
   {
    "duration": 13,
    "start_time": "2022-07-05T19:48:26.952Z"
   },
   {
    "duration": 1408,
    "start_time": "2022-07-05T20:03:03.517Z"
   },
   {
    "duration": 842,
    "start_time": "2022-07-05T20:03:36.568Z"
   },
   {
    "duration": 844,
    "start_time": "2022-07-05T20:03:58.073Z"
   },
   {
    "duration": 853,
    "start_time": "2022-07-05T20:04:13.577Z"
   },
   {
    "duration": 860,
    "start_time": "2022-07-05T20:04:31.395Z"
   },
   {
    "duration": 1008,
    "start_time": "2022-07-05T20:05:03.041Z"
   },
   {
    "duration": 849,
    "start_time": "2022-07-05T20:05:27.074Z"
   },
   {
    "duration": 18,
    "start_time": "2022-07-05T20:05:44.578Z"
   },
   {
    "duration": 19,
    "start_time": "2022-07-05T20:06:04.239Z"
   },
   {
    "duration": 3,
    "start_time": "2022-07-05T20:06:04.711Z"
   },
   {
    "duration": 8,
    "start_time": "2022-07-05T20:06:05.493Z"
   },
   {
    "duration": 35,
    "start_time": "2022-07-05T20:06:05.973Z"
   },
   {
    "duration": 4,
    "start_time": "2022-07-05T20:06:06.509Z"
   },
   {
    "duration": 40,
    "start_time": "2022-07-05T20:06:06.936Z"
   },
   {
    "duration": 4,
    "start_time": "2022-07-05T20:06:07.387Z"
   },
   {
    "duration": 13,
    "start_time": "2022-07-05T20:06:07.837Z"
   },
   {
    "duration": 2162,
    "start_time": "2022-07-05T20:06:08.747Z"
   },
   {
    "duration": 1098,
    "start_time": "2022-07-05T20:06:10.911Z"
   },
   {
    "duration": 22,
    "start_time": "2022-07-05T20:06:15.390Z"
   },
   {
    "duration": 13,
    "start_time": "2022-07-05T20:06:20.746Z"
   },
   {
    "duration": 370,
    "start_time": "2022-07-05T20:06:25.041Z"
   },
   {
    "duration": 10,
    "start_time": "2022-07-05T20:06:42.072Z"
   },
   {
    "duration": 378,
    "start_time": "2022-07-05T20:23:22.667Z"
   },
   {
    "duration": 576,
    "start_time": "2022-07-05T20:23:48.993Z"
   },
   {
    "duration": 10,
    "start_time": "2022-07-05T20:24:16.277Z"
   },
   {
    "duration": 114285,
    "start_time": "2022-07-05T20:25:00.537Z"
   },
   {
    "duration": 402,
    "start_time": "2022-07-05T20:28:37.449Z"
   },
   {
    "duration": 11,
    "start_time": "2022-07-05T20:28:57.155Z"
   },
   {
    "duration": 147,
    "start_time": "2022-07-05T20:36:53.405Z"
   },
   {
    "duration": 475,
    "start_time": "2022-07-05T20:38:31.496Z"
   },
   {
    "duration": 1284,
    "start_time": "2022-07-05T20:40:58.106Z"
   },
   {
    "duration": 58,
    "start_time": "2022-07-05T20:50:33.132Z"
   },
   {
    "duration": 8,
    "start_time": "2022-07-05T20:51:14.944Z"
   },
   {
    "duration": 55,
    "start_time": "2022-07-05T20:51:25.652Z"
   },
   {
    "duration": 61,
    "start_time": "2022-07-05T20:52:05.967Z"
   },
   {
    "duration": 59,
    "start_time": "2022-07-05T20:53:52.398Z"
   },
   {
    "duration": 50,
    "start_time": "2022-07-05T20:55:52.261Z"
   },
   {
    "duration": 46,
    "start_time": "2022-07-05T20:56:47.793Z"
   },
   {
    "duration": 1269,
    "start_time": "2022-07-05T20:58:10.317Z"
   },
   {
    "duration": 19,
    "start_time": "2022-07-05T21:01:17.360Z"
   },
   {
    "duration": 24,
    "start_time": "2022-07-05T21:01:40.325Z"
   },
   {
    "duration": 1515,
    "start_time": "2022-07-05T21:03:17.176Z"
   },
   {
    "duration": 1469,
    "start_time": "2022-07-05T21:04:01.636Z"
   },
   {
    "duration": 1420,
    "start_time": "2022-07-05T21:05:37.177Z"
   },
   {
    "duration": 1306,
    "start_time": "2022-07-05T21:05:57.460Z"
   },
   {
    "duration": 1230,
    "start_time": "2022-07-05T21:08:09.529Z"
   },
   {
    "duration": 1580,
    "start_time": "2022-07-05T21:09:35.763Z"
   },
   {
    "duration": 19,
    "start_time": "2022-07-05T21:10:38.398Z"
   },
   {
    "duration": 19,
    "start_time": "2022-07-05T21:10:57.084Z"
   },
   {
    "duration": 1215,
    "start_time": "2022-07-05T21:11:56.582Z"
   },
   {
    "duration": 390,
    "start_time": "2022-07-05T21:19:33.499Z"
   },
   {
    "duration": 968,
    "start_time": "2022-07-05T21:37:38.084Z"
   },
   {
    "duration": 6,
    "start_time": "2022-07-05T21:39:09.951Z"
   },
   {
    "duration": 46,
    "start_time": "2022-07-05T21:39:09.958Z"
   },
   {
    "duration": 4,
    "start_time": "2022-07-05T21:39:10.005Z"
   },
   {
    "duration": 24,
    "start_time": "2022-07-05T21:39:10.011Z"
   },
   {
    "duration": 47,
    "start_time": "2022-07-05T21:39:10.038Z"
   },
   {
    "duration": 5,
    "start_time": "2022-07-05T21:39:10.087Z"
   },
   {
    "duration": 66,
    "start_time": "2022-07-05T21:39:10.093Z"
   },
   {
    "duration": 4,
    "start_time": "2022-07-05T21:39:10.161Z"
   },
   {
    "duration": 33,
    "start_time": "2022-07-05T21:39:10.166Z"
   },
   {
    "duration": 2123,
    "start_time": "2022-07-05T21:39:10.201Z"
   },
   {
    "duration": 1032,
    "start_time": "2022-07-05T21:39:12.326Z"
   },
   {
    "duration": 23,
    "start_time": "2022-07-05T21:39:13.360Z"
   },
   {
    "duration": 13,
    "start_time": "2022-07-05T21:39:13.385Z"
   },
   {
    "duration": 399,
    "start_time": "2022-07-05T21:39:13.402Z"
   },
   {
    "duration": 111615,
    "start_time": "2022-07-05T21:39:13.803Z"
   },
   {
    "duration": 2026,
    "start_time": "2022-07-05T21:41:05.420Z"
   },
   {
    "duration": 14,
    "start_time": "2022-07-05T21:41:07.448Z"
   },
   {
    "duration": 2458,
    "start_time": "2022-07-05T21:41:07.464Z"
   },
   {
    "duration": 7,
    "start_time": "2022-07-05T21:41:09.924Z"
   },
   {
    "duration": 2489,
    "start_time": "2022-07-05T21:42:06.032Z"
   },
   {
    "duration": 9,
    "start_time": "2022-07-05T21:47:06.641Z"
   },
   {
    "duration": 49,
    "start_time": "2022-07-05T21:49:37.116Z"
   },
   {
    "duration": 51,
    "start_time": "2022-07-05T21:51:05.160Z"
   },
   {
    "duration": 20,
    "start_time": "2022-07-05T21:52:35.158Z"
   },
   {
    "duration": 19,
    "start_time": "2022-07-05T21:53:15.915Z"
   },
   {
    "duration": 17,
    "start_time": "2022-07-05T21:53:42.919Z"
   },
   {
    "duration": 18,
    "start_time": "2022-07-05T21:53:49.283Z"
   },
   {
    "duration": 9,
    "start_time": "2022-07-05T21:59:23.413Z"
   },
   {
    "duration": 10,
    "start_time": "2022-07-05T21:59:53.583Z"
   },
   {
    "duration": 10,
    "start_time": "2022-07-05T22:00:59.738Z"
   },
   {
    "duration": 16,
    "start_time": "2022-07-05T22:01:43.741Z"
   },
   {
    "duration": 20,
    "start_time": "2022-07-05T22:02:20.636Z"
   },
   {
    "duration": 8,
    "start_time": "2022-07-05T22:03:34.825Z"
   },
   {
    "duration": 9,
    "start_time": "2022-07-05T22:03:53.353Z"
   },
   {
    "duration": 8,
    "start_time": "2022-07-05T22:04:08.484Z"
   },
   {
    "duration": 22,
    "start_time": "2022-07-05T22:08:36.568Z"
   },
   {
    "duration": 23,
    "start_time": "2022-07-05T22:08:55.908Z"
   },
   {
    "duration": 15,
    "start_time": "2022-07-05T22:09:57.637Z"
   },
   {
    "duration": 44,
    "start_time": "2022-07-05T22:10:13.424Z"
   },
   {
    "duration": 16,
    "start_time": "2022-07-05T22:10:20.115Z"
   },
   {
    "duration": 12,
    "start_time": "2022-07-05T22:12:25.325Z"
   },
   {
    "duration": 13,
    "start_time": "2022-07-05T22:13:09.210Z"
   },
   {
    "duration": 12,
    "start_time": "2022-07-05T22:16:09.871Z"
   },
   {
    "duration": 12,
    "start_time": "2022-07-05T22:16:43.894Z"
   },
   {
    "duration": 11,
    "start_time": "2022-07-05T22:18:48.764Z"
   },
   {
    "duration": 12,
    "start_time": "2022-07-05T22:19:26.546Z"
   },
   {
    "duration": 26,
    "start_time": "2022-07-05T22:21:30.913Z"
   },
   {
    "duration": 2443,
    "start_time": "2022-07-05T22:21:45.464Z"
   },
   {
    "duration": 8,
    "start_time": "2022-07-05T22:22:21.183Z"
   },
   {
    "duration": 7,
    "start_time": "2022-07-05T22:27:36.845Z"
   },
   {
    "duration": 7,
    "start_time": "2022-07-05T22:27:58.063Z"
   },
   {
    "duration": 11,
    "start_time": "2022-07-05T22:28:34.433Z"
   },
   {
    "duration": 7,
    "start_time": "2022-07-05T22:29:19.395Z"
   },
   {
    "duration": 4,
    "start_time": "2022-07-05T22:32:35.553Z"
   },
   {
    "duration": 7,
    "start_time": "2022-07-05T22:32:46.030Z"
   },
   {
    "duration": 51,
    "start_time": "2022-07-05T22:36:06.234Z"
   },
   {
    "duration": 11,
    "start_time": "2022-07-05T22:36:13.513Z"
   },
   {
    "duration": 11,
    "start_time": "2022-07-05T22:37:02.404Z"
   },
   {
    "duration": 8,
    "start_time": "2022-07-05T22:37:36.324Z"
   },
   {
    "duration": 13,
    "start_time": "2022-07-05T22:38:07.466Z"
   },
   {
    "duration": 8,
    "start_time": "2022-07-05T22:38:17.205Z"
   },
   {
    "duration": 7,
    "start_time": "2022-07-05T22:39:55.007Z"
   },
   {
    "duration": 7,
    "start_time": "2022-07-05T22:40:13.043Z"
   },
   {
    "duration": 6,
    "start_time": "2022-07-05T22:45:21.909Z"
   },
   {
    "duration": 36,
    "start_time": "2022-07-05T22:45:21.917Z"
   },
   {
    "duration": 4,
    "start_time": "2022-07-05T22:45:21.955Z"
   },
   {
    "duration": 7,
    "start_time": "2022-07-05T22:45:21.982Z"
   },
   {
    "duration": 44,
    "start_time": "2022-07-05T22:45:21.991Z"
   },
   {
    "duration": 4,
    "start_time": "2022-07-05T22:45:22.037Z"
   },
   {
    "duration": 47,
    "start_time": "2022-07-05T22:45:22.042Z"
   },
   {
    "duration": 3,
    "start_time": "2022-07-05T22:45:22.092Z"
   },
   {
    "duration": 17,
    "start_time": "2022-07-05T22:45:22.096Z"
   },
   {
    "duration": 2454,
    "start_time": "2022-07-05T22:45:22.115Z"
   },
   {
    "duration": 948,
    "start_time": "2022-07-05T22:45:24.570Z"
   },
   {
    "duration": 27,
    "start_time": "2022-07-05T22:45:25.520Z"
   },
   {
    "duration": 11,
    "start_time": "2022-07-05T22:45:25.549Z"
   },
   {
    "duration": 384,
    "start_time": "2022-07-05T22:45:25.562Z"
   },
   {
    "duration": 109164,
    "start_time": "2022-07-05T22:45:25.948Z"
   },
   {
    "duration": 2023,
    "start_time": "2022-07-05T22:47:15.114Z"
   },
   {
    "duration": 18,
    "start_time": "2022-07-05T22:47:17.139Z"
   },
   {
    "duration": 2812,
    "start_time": "2022-07-05T22:47:17.159Z"
   },
   {
    "duration": 9,
    "start_time": "2022-07-05T22:47:19.973Z"
   },
   {
    "duration": 11,
    "start_time": "2022-07-05T22:47:19.983Z"
   },
   {
    "duration": 1846,
    "start_time": "2022-07-06T17:13:06.150Z"
   },
   {
    "duration": 62,
    "start_time": "2022-07-06T17:13:07.998Z"
   },
   {
    "duration": 4,
    "start_time": "2022-07-06T17:13:09.149Z"
   },
   {
    "duration": 10,
    "start_time": "2022-07-06T17:13:09.848Z"
   },
   {
    "duration": 67,
    "start_time": "2022-07-06T17:13:10.582Z"
   },
   {
    "duration": 4,
    "start_time": "2022-07-06T17:13:11.346Z"
   },
   {
    "duration": 75,
    "start_time": "2022-07-06T17:13:11.978Z"
   },
   {
    "duration": 8,
    "start_time": "2022-07-06T17:13:12.738Z"
   },
   {
    "duration": 12,
    "start_time": "2022-07-06T17:13:13.368Z"
   },
   {
    "duration": 2808,
    "start_time": "2022-07-06T17:13:15.180Z"
   },
   {
    "duration": 1258,
    "start_time": "2022-07-06T17:13:20.780Z"
   },
   {
    "duration": 36,
    "start_time": "2022-07-06T17:13:24.793Z"
   },
   {
    "duration": 22,
    "start_time": "2022-07-06T17:13:26.526Z"
   },
   {
    "duration": 15,
    "start_time": "2022-07-06T17:13:30.283Z"
   },
   {
    "duration": 161,
    "start_time": "2022-07-06T17:13:31.601Z"
   },
   {
    "duration": 62,
    "start_time": "2022-07-06T17:17:44.232Z"
   },
   {
    "duration": 48,
    "start_time": "2022-07-06T17:17:52.341Z"
   },
   {
    "duration": 30,
    "start_time": "2022-07-06T17:18:22.224Z"
   },
   {
    "duration": 22,
    "start_time": "2022-07-06T17:18:29.776Z"
   },
   {
    "duration": 19,
    "start_time": "2022-07-06T17:18:45.679Z"
   },
   {
    "duration": 454,
    "start_time": "2022-07-06T17:18:47.260Z"
   },
   {
    "duration": 12,
    "start_time": "2022-07-06T17:19:46.317Z"
   },
   {
    "duration": 14,
    "start_time": "2022-07-06T17:20:05.749Z"
   },
   {
    "duration": 21,
    "start_time": "2022-07-06T17:20:06.560Z"
   },
   {
    "duration": 415,
    "start_time": "2022-07-06T17:20:07.649Z"
   },
   {
    "duration": 15,
    "start_time": "2022-07-06T17:20:13.936Z"
   },
   {
    "duration": 14,
    "start_time": "2022-07-06T17:20:26.620Z"
   },
   {
    "duration": 646,
    "start_time": "2022-07-06T17:33:34.277Z"
   },
   {
    "duration": 134888,
    "start_time": "2022-07-06T17:33:46.124Z"
   },
   {
    "duration": 10,
    "start_time": "2022-07-06T17:49:43.138Z"
   },
   {
    "duration": 4,
    "start_time": "2022-07-06T17:49:53.579Z"
   },
   {
    "duration": 1574,
    "start_time": "2022-07-06T17:50:17.699Z"
   },
   {
    "duration": 1330,
    "start_time": "2022-07-06T17:50:29.069Z"
   },
   {
    "duration": 13,
    "start_time": "2022-07-06T18:14:21.047Z"
   },
   {
    "duration": 122177,
    "start_time": "2022-07-06T18:15:39.292Z"
   },
   {
    "duration": 128202,
    "start_time": "2022-07-06T18:28:55.917Z"
   },
   {
    "duration": 2180,
    "start_time": "2022-07-06T18:39:22.926Z"
   },
   {
    "duration": 1548,
    "start_time": "2022-07-06T18:39:35.163Z"
   },
   {
    "duration": 1762,
    "start_time": "2022-07-06T18:40:00.011Z"
   },
   {
    "duration": 7,
    "start_time": "2022-07-06T18:49:54.817Z"
   },
   {
    "duration": 11,
    "start_time": "2022-07-06T18:51:39.121Z"
   },
   {
    "duration": 19,
    "start_time": "2022-07-06T19:05:49.131Z"
   },
   {
    "duration": 23,
    "start_time": "2022-07-06T19:06:11.855Z"
   },
   {
    "duration": 30,
    "start_time": "2022-07-06T19:06:37.393Z"
   },
   {
    "duration": 20,
    "start_time": "2022-07-06T19:09:57.873Z"
   },
   {
    "duration": 28,
    "start_time": "2022-07-06T19:41:52.344Z"
   },
   {
    "duration": 18,
    "start_time": "2022-07-06T19:43:19.453Z"
   },
   {
    "duration": 7,
    "start_time": "2022-07-06T19:44:07.516Z"
   },
   {
    "duration": 35,
    "start_time": "2022-07-06T19:44:07.525Z"
   },
   {
    "duration": 3,
    "start_time": "2022-07-06T19:44:07.562Z"
   },
   {
    "duration": 7,
    "start_time": "2022-07-06T19:44:07.567Z"
   },
   {
    "duration": 10,
    "start_time": "2022-07-06T19:44:07.576Z"
   },
   {
    "duration": 43,
    "start_time": "2022-07-06T19:44:07.587Z"
   },
   {
    "duration": 3,
    "start_time": "2022-07-06T19:44:07.632Z"
   },
   {
    "duration": 44,
    "start_time": "2022-07-06T19:44:07.637Z"
   },
   {
    "duration": 20,
    "start_time": "2022-07-06T19:44:07.684Z"
   },
   {
    "duration": 22,
    "start_time": "2022-07-06T19:44:07.707Z"
   },
   {
    "duration": 2497,
    "start_time": "2022-07-06T19:44:07.731Z"
   },
   {
    "duration": 32,
    "start_time": "2022-07-06T19:44:10.230Z"
   },
   {
    "duration": 1057,
    "start_time": "2022-07-06T19:44:10.264Z"
   },
   {
    "duration": 13,
    "start_time": "2022-07-06T19:44:11.324Z"
   },
   {
    "duration": 14,
    "start_time": "2022-07-06T19:44:11.339Z"
   },
   {
    "duration": 19,
    "start_time": "2022-07-06T19:44:11.355Z"
   },
   {
    "duration": 374,
    "start_time": "2022-07-06T19:44:11.375Z"
   },
   {
    "duration": 574,
    "start_time": "2022-07-06T19:44:11.750Z"
   },
   {
    "duration": 121859,
    "start_time": "2022-07-06T19:44:12.325Z"
   },
   {
    "duration": 1298,
    "start_time": "2022-07-06T19:46:14.186Z"
   },
   {
    "duration": 17,
    "start_time": "2022-07-06T19:46:15.486Z"
   },
   {
    "duration": 2937,
    "start_time": "2022-07-06T19:46:15.504Z"
   },
   {
    "duration": 19,
    "start_time": "2022-07-06T19:46:18.443Z"
   },
   {
    "duration": 4,
    "start_time": "2022-07-06T19:56:04.689Z"
   },
   {
    "duration": 2532,
    "start_time": "2022-07-06T19:59:09.793Z"
   },
   {
    "duration": 3213,
    "start_time": "2022-07-06T20:00:13.588Z"
   },
   {
    "duration": 19,
    "start_time": "2022-07-06T21:50:47.410Z"
   },
   {
    "duration": 3,
    "start_time": "2022-07-06T21:50:47.993Z"
   },
   {
    "duration": 4,
    "start_time": "2022-07-06T21:50:48.381Z"
   },
   {
    "duration": 8,
    "start_time": "2022-07-06T21:50:49.309Z"
   },
   {
    "duration": 31,
    "start_time": "2022-07-06T21:50:50.082Z"
   },
   {
    "duration": 3,
    "start_time": "2022-07-06T21:50:50.845Z"
   },
   {
    "duration": 38,
    "start_time": "2022-07-06T21:50:51.503Z"
   },
   {
    "duration": 4,
    "start_time": "2022-07-06T21:50:54.220Z"
   },
   {
    "duration": 12,
    "start_time": "2022-07-06T21:50:55.704Z"
   },
   {
    "duration": 12,
    "start_time": "2022-07-06T21:51:32.588Z"
   },
   {
    "duration": 13,
    "start_time": "2022-07-06T21:52:21.300Z"
   },
   {
    "duration": 11,
    "start_time": "2022-07-06T21:52:42.053Z"
   },
   {
    "duration": 1618,
    "start_time": "2022-07-07T16:36:27.929Z"
   },
   {
    "duration": 45,
    "start_time": "2022-07-07T16:36:29.550Z"
   },
   {
    "duration": 4,
    "start_time": "2022-07-07T16:37:08.854Z"
   },
   {
    "duration": 3,
    "start_time": "2022-07-07T16:37:09.329Z"
   },
   {
    "duration": 15,
    "start_time": "2022-07-07T16:37:12.741Z"
   },
   {
    "duration": 45,
    "start_time": "2022-07-07T16:37:16.010Z"
   },
   {
    "duration": 4,
    "start_time": "2022-07-07T17:00:08.182Z"
   },
   {
    "duration": 186,
    "start_time": "2022-07-07T17:00:10.066Z"
   },
   {
    "duration": 3,
    "start_time": "2022-07-07T17:05:36.493Z"
   },
   {
    "duration": 12,
    "start_time": "2022-07-07T17:05:37.325Z"
   },
   {
    "duration": 12,
    "start_time": "2022-07-07T17:11:03.407Z"
   },
   {
    "duration": 5,
    "start_time": "2022-07-07T17:11:39.502Z"
   },
   {
    "duration": 46,
    "start_time": "2022-07-07T17:11:40.257Z"
   },
   {
    "duration": 6,
    "start_time": "2022-07-07T17:11:47.505Z"
   },
   {
    "duration": 52,
    "start_time": "2022-07-07T17:11:49.633Z"
   },
   {
    "duration": 4,
    "start_time": "2022-07-07T17:12:10.468Z"
   },
   {
    "duration": 64,
    "start_time": "2022-07-07T17:12:11.197Z"
   },
   {
    "duration": 48,
    "start_time": "2022-07-07T17:13:20.763Z"
   },
   {
    "duration": 53,
    "start_time": "2022-07-07T17:13:57.500Z"
   },
   {
    "duration": 64,
    "start_time": "2022-07-07T17:14:19.796Z"
   },
   {
    "duration": 35,
    "start_time": "2022-07-07T17:14:36.066Z"
   },
   {
    "duration": 63,
    "start_time": "2022-07-07T17:14:48.041Z"
   },
   {
    "duration": 41,
    "start_time": "2022-07-07T17:15:04.976Z"
   },
   {
    "duration": 43,
    "start_time": "2022-07-07T17:15:24.362Z"
   },
   {
    "duration": 44,
    "start_time": "2022-07-07T17:18:21.079Z"
   },
   {
    "duration": 60,
    "start_time": "2022-07-07T17:18:29.075Z"
   },
   {
    "duration": 37,
    "start_time": "2022-07-07T17:18:58.466Z"
   },
   {
    "duration": 3,
    "start_time": "2022-07-07T17:19:21.886Z"
   },
   {
    "duration": 39,
    "start_time": "2022-07-07T17:19:22.282Z"
   },
   {
    "duration": 3,
    "start_time": "2022-07-07T17:19:25.541Z"
   },
   {
    "duration": 19,
    "start_time": "2022-07-07T17:19:41.255Z"
   },
   {
    "duration": 18,
    "start_time": "2022-07-07T17:20:02.879Z"
   },
   {
    "duration": 14,
    "start_time": "2022-07-07T17:20:41.606Z"
   },
   {
    "duration": 12,
    "start_time": "2022-07-07T17:21:01.690Z"
   },
   {
    "duration": 13,
    "start_time": "2022-07-07T17:21:12.994Z"
   },
   {
    "duration": 14,
    "start_time": "2022-07-07T17:21:23.264Z"
   },
   {
    "duration": 15,
    "start_time": "2022-07-07T17:21:52.163Z"
   },
   {
    "duration": 12,
    "start_time": "2022-07-07T17:22:22.613Z"
   },
   {
    "duration": 12,
    "start_time": "2022-07-07T17:23:07.625Z"
   },
   {
    "duration": 15,
    "start_time": "2022-07-07T17:24:11.439Z"
   },
   {
    "duration": 11,
    "start_time": "2022-07-07T17:24:24.914Z"
   },
   {
    "duration": 11,
    "start_time": "2022-07-07T17:27:19.322Z"
   },
   {
    "duration": 69,
    "start_time": "2022-07-07T17:28:29.291Z"
   },
   {
    "duration": 14,
    "start_time": "2022-07-07T17:28:37.672Z"
   },
   {
    "duration": 16,
    "start_time": "2022-07-07T17:29:04.409Z"
   },
   {
    "duration": 18,
    "start_time": "2022-07-07T17:36:10.641Z"
   },
   {
    "duration": 23,
    "start_time": "2022-07-07T17:36:29.063Z"
   },
   {
    "duration": 19,
    "start_time": "2022-07-07T17:36:47.206Z"
   },
   {
    "duration": 14,
    "start_time": "2022-07-07T17:45:49.197Z"
   },
   {
    "duration": 23,
    "start_time": "2022-07-07T17:47:33.139Z"
   },
   {
    "duration": 20,
    "start_time": "2022-07-07T17:50:02.571Z"
   },
   {
    "duration": 16,
    "start_time": "2022-07-07T17:50:24.898Z"
   },
   {
    "duration": 30,
    "start_time": "2022-07-07T17:50:46.088Z"
   },
   {
    "duration": 18,
    "start_time": "2022-07-07T17:54:14.592Z"
   },
   {
    "duration": 29,
    "start_time": "2022-07-07T17:54:25.036Z"
   },
   {
    "duration": 15,
    "start_time": "2022-07-07T17:54:40.140Z"
   },
   {
    "duration": 6,
    "start_time": "2022-07-07T17:54:50.133Z"
   },
   {
    "duration": 54,
    "start_time": "2022-07-07T17:54:50.142Z"
   },
   {
    "duration": 3,
    "start_time": "2022-07-07T17:54:50.197Z"
   },
   {
    "duration": 15,
    "start_time": "2022-07-07T17:54:50.202Z"
   },
   {
    "duration": 7,
    "start_time": "2022-07-07T17:54:50.274Z"
   },
   {
    "duration": 36,
    "start_time": "2022-07-07T17:54:50.283Z"
   },
   {
    "duration": 6,
    "start_time": "2022-07-07T17:54:50.368Z"
   },
   {
    "duration": 40,
    "start_time": "2022-07-07T17:54:50.375Z"
   },
   {
    "duration": 4,
    "start_time": "2022-07-07T17:54:50.417Z"
   },
   {
    "duration": 18,
    "start_time": "2022-07-07T17:54:50.423Z"
   },
   {
    "duration": 2398,
    "start_time": "2022-07-07T17:54:50.471Z"
   },
   {
    "duration": 22,
    "start_time": "2022-07-07T17:54:52.871Z"
   },
   {
    "duration": 977,
    "start_time": "2022-07-07T17:54:52.895Z"
   },
   {
    "duration": 16,
    "start_time": "2022-07-07T17:54:53.874Z"
   },
   {
    "duration": 13,
    "start_time": "2022-07-07T17:54:53.892Z"
   },
   {
    "duration": 23,
    "start_time": "2022-07-07T17:54:53.907Z"
   },
   {
    "duration": 371,
    "start_time": "2022-07-07T17:54:53.931Z"
   },
   {
    "duration": 650,
    "start_time": "2022-07-07T17:54:54.304Z"
   },
   {
    "duration": 113024,
    "start_time": "2022-07-07T17:54:54.959Z"
   },
   {
    "duration": 1424,
    "start_time": "2022-07-07T17:56:47.985Z"
   },
   {
    "duration": 13,
    "start_time": "2022-07-07T17:56:49.411Z"
   },
   {
    "duration": 2728,
    "start_time": "2022-07-07T17:56:49.426Z"
   },
   {
    "duration": 20,
    "start_time": "2022-07-07T17:56:52.158Z"
   },
   {
    "duration": 13,
    "start_time": "2022-07-07T18:24:21.116Z"
   },
   {
    "duration": 27,
    "start_time": "2022-07-07T18:38:08.970Z"
   },
   {
    "duration": 11,
    "start_time": "2022-07-07T18:38:44.182Z"
   },
   {
    "duration": 28,
    "start_time": "2022-07-07T18:38:54.741Z"
   },
   {
    "duration": 4,
    "start_time": "2022-07-07T18:39:50.289Z"
   },
   {
    "duration": 43,
    "start_time": "2022-07-07T18:52:07.832Z"
   },
   {
    "duration": 3,
    "start_time": "2022-07-07T18:52:13.113Z"
   },
   {
    "duration": 3,
    "start_time": "2022-07-07T18:52:14.296Z"
   },
   {
    "duration": 16,
    "start_time": "2022-07-07T18:52:29.631Z"
   },
   {
    "duration": 5,
    "start_time": "2022-07-07T18:52:48.817Z"
   },
   {
    "duration": 12,
    "start_time": "2022-07-07T18:53:19.085Z"
   },
   {
    "duration": 66,
    "start_time": "2022-07-07T18:53:41.062Z"
   },
   {
    "duration": 4,
    "start_time": "2022-07-07T18:54:08.186Z"
   },
   {
    "duration": 12,
    "start_time": "2022-07-07T18:54:09.929Z"
   },
   {
    "duration": 18,
    "start_time": "2022-07-07T18:59:39.122Z"
   },
   {
    "duration": 10,
    "start_time": "2022-07-07T18:59:43.294Z"
   },
   {
    "duration": 6,
    "start_time": "2022-07-07T19:07:20.676Z"
   },
   {
    "duration": 35,
    "start_time": "2022-07-07T19:07:23.139Z"
   },
   {
    "duration": 4,
    "start_time": "2022-07-07T19:07:51.625Z"
   },
   {
    "duration": 33,
    "start_time": "2022-07-07T19:07:53.183Z"
   },
   {
    "duration": 3,
    "start_time": "2022-07-07T19:08:19.781Z"
   },
   {
    "duration": 11,
    "start_time": "2022-07-07T19:08:20.993Z"
   },
   {
    "duration": 1936,
    "start_time": "2022-07-07T19:08:30.164Z"
   },
   {
    "duration": 19,
    "start_time": "2022-07-07T19:08:44.274Z"
   },
   {
    "duration": 964,
    "start_time": "2022-07-07T19:08:47.307Z"
   },
   {
    "duration": 13,
    "start_time": "2022-07-07T19:09:18.768Z"
   },
   {
    "duration": 11,
    "start_time": "2022-07-07T19:09:28.608Z"
   },
   {
    "duration": 15,
    "start_time": "2022-07-07T19:09:29.518Z"
   },
   {
    "duration": 355,
    "start_time": "2022-07-07T19:09:30.783Z"
   },
   {
    "duration": 564,
    "start_time": "2022-07-07T19:09:36.924Z"
   },
   {
    "duration": 112473,
    "start_time": "2022-07-07T19:09:39.457Z"
   },
   {
    "duration": 1511,
    "start_time": "2022-07-07T19:13:36.307Z"
   },
   {
    "duration": 14,
    "start_time": "2022-07-07T19:13:43.320Z"
   },
   {
    "duration": 2403,
    "start_time": "2022-07-07T19:13:52.537Z"
   },
   {
    "duration": 18,
    "start_time": "2022-07-07T19:14:20.529Z"
   },
   {
    "duration": 14,
    "start_time": "2022-07-07T19:20:53.955Z"
   },
   {
    "duration": 12,
    "start_time": "2022-07-07T19:21:07.002Z"
   },
   {
    "duration": 14,
    "start_time": "2022-07-07T19:21:26.957Z"
   },
   {
    "duration": 13,
    "start_time": "2022-07-07T19:21:48.889Z"
   },
   {
    "duration": 12,
    "start_time": "2022-07-07T19:22:14.489Z"
   },
   {
    "duration": 2520,
    "start_time": "2022-07-07T19:22:21.007Z"
   },
   {
    "duration": 1547,
    "start_time": "2022-07-07T19:23:30.841Z"
   },
   {
    "duration": 1200,
    "start_time": "2022-07-07T19:26:12.457Z"
   },
   {
    "duration": 13,
    "start_time": "2022-07-07T20:48:42.927Z"
   },
   {
    "duration": 21,
    "start_time": "2022-07-07T20:49:00.453Z"
   },
   {
    "duration": 2,
    "start_time": "2022-07-07T20:49:01.180Z"
   },
   {
    "duration": 3,
    "start_time": "2022-07-07T20:49:01.681Z"
   },
   {
    "duration": 7,
    "start_time": "2022-07-07T20:49:03.100Z"
   },
   {
    "duration": 34,
    "start_time": "2022-07-07T20:49:03.954Z"
   },
   {
    "duration": 4,
    "start_time": "2022-07-07T20:49:05.713Z"
   },
   {
    "duration": 36,
    "start_time": "2022-07-07T20:49:06.256Z"
   },
   {
    "duration": 11,
    "start_time": "2022-07-07T20:49:07.976Z"
   },
   {
    "duration": 977,
    "start_time": "2022-07-07T20:49:09.480Z"
   },
   {
    "duration": 7,
    "start_time": "2022-07-07T20:49:37.079Z"
   },
   {
    "duration": 19,
    "start_time": "2022-07-07T20:49:38.568Z"
   },
   {
    "duration": 17,
    "start_time": "2022-07-07T20:49:38.939Z"
   },
   {
    "duration": 4,
    "start_time": "2022-07-07T20:49:39.274Z"
   },
   {
    "duration": 7,
    "start_time": "2022-07-07T20:49:40.318Z"
   },
   {
    "duration": 32,
    "start_time": "2022-07-07T20:49:40.768Z"
   },
   {
    "duration": 5,
    "start_time": "2022-07-07T20:49:42.158Z"
   },
   {
    "duration": 47,
    "start_time": "2022-07-07T20:49:42.634Z"
   },
   {
    "duration": 12,
    "start_time": "2022-07-07T20:49:44.087Z"
   },
   {
    "duration": 1848,
    "start_time": "2022-07-07T20:49:45.713Z"
   },
   {
    "duration": 925,
    "start_time": "2022-07-07T20:49:51.172Z"
   },
   {
    "duration": 14,
    "start_time": "2022-07-07T20:49:54.522Z"
   },
   {
    "duration": 33,
    "start_time": "2022-07-07T21:35:29.825Z"
   },
   {
    "duration": 710,
    "start_time": "2022-07-07T21:35:39.292Z"
   },
   {
    "duration": 747,
    "start_time": "2022-07-07T22:05:33.405Z"
   },
   {
    "duration": 1297,
    "start_time": "2022-07-07T22:05:48.620Z"
   },
   {
    "duration": 958,
    "start_time": "2022-07-07T22:06:50.397Z"
   },
   {
    "duration": 438,
    "start_time": "2022-07-07T22:06:54.090Z"
   },
   {
    "duration": 701,
    "start_time": "2022-07-07T22:10:53.747Z"
   },
   {
    "duration": 438,
    "start_time": "2022-07-07T22:10:58.476Z"
   },
   {
    "duration": 863,
    "start_time": "2022-07-07T22:11:09.097Z"
   },
   {
    "duration": 440,
    "start_time": "2022-07-07T22:11:12.318Z"
   },
   {
    "duration": 1590,
    "start_time": "2022-07-07T22:11:20.288Z"
   },
   {
    "duration": 532,
    "start_time": "2022-07-07T22:11:21.882Z"
   },
   {
    "duration": 955,
    "start_time": "2022-07-07T22:11:31.015Z"
   },
   {
    "duration": 453,
    "start_time": "2022-07-07T22:11:32.167Z"
   },
   {
    "duration": 8,
    "start_time": "2022-07-07T22:39:23.590Z"
   },
   {
    "duration": 8,
    "start_time": "2022-07-07T22:43:06.395Z"
   },
   {
    "duration": 22,
    "start_time": "2022-07-07T22:43:06.405Z"
   },
   {
    "duration": 3,
    "start_time": "2022-07-07T22:43:06.429Z"
   },
   {
    "duration": 10,
    "start_time": "2022-07-07T22:43:06.434Z"
   },
   {
    "duration": 20,
    "start_time": "2022-07-07T22:43:06.446Z"
   },
   {
    "duration": 42,
    "start_time": "2022-07-07T22:43:06.468Z"
   },
   {
    "duration": 4,
    "start_time": "2022-07-07T22:43:06.511Z"
   },
   {
    "duration": 48,
    "start_time": "2022-07-07T22:43:06.516Z"
   },
   {
    "duration": 13,
    "start_time": "2022-07-07T22:43:06.566Z"
   },
   {
    "duration": 2005,
    "start_time": "2022-07-07T22:43:06.581Z"
   },
   {
    "duration": 1041,
    "start_time": "2022-07-07T22:43:08.588Z"
   },
   {
    "duration": 31,
    "start_time": "2022-07-07T22:43:09.630Z"
   },
   {
    "duration": 16,
    "start_time": "2022-07-07T22:43:09.664Z"
   },
   {
    "duration": 371,
    "start_time": "2022-07-07T22:43:09.683Z"
   },
   {
    "duration": 461,
    "start_time": "2022-07-07T22:43:10.056Z"
   },
   {
    "duration": 643,
    "start_time": "2022-07-07T22:43:10.518Z"
   },
   {
    "duration": 117757,
    "start_time": "2022-07-07T22:43:11.163Z"
   },
   {
    "duration": 1037,
    "start_time": "2022-07-07T22:45:08.921Z"
   },
   {
    "duration": 447,
    "start_time": "2022-07-07T22:45:09.960Z"
   },
   {
    "duration": 17,
    "start_time": "2022-07-07T22:45:10.408Z"
   },
   {
    "duration": 2569,
    "start_time": "2022-07-07T22:45:10.456Z"
   },
   {
    "duration": 31,
    "start_time": "2022-07-07T22:45:13.026Z"
   },
   {
    "duration": 1618,
    "start_time": "2022-07-08T19:46:21.016Z"
   },
   {
    "duration": 45,
    "start_time": "2022-07-08T19:46:22.636Z"
   },
   {
    "duration": 4,
    "start_time": "2022-07-08T19:46:23.854Z"
   },
   {
    "duration": 3,
    "start_time": "2022-07-08T19:46:24.470Z"
   },
   {
    "duration": 11,
    "start_time": "2022-07-08T19:46:26.984Z"
   },
   {
    "duration": 39,
    "start_time": "2022-07-08T19:46:28.983Z"
   },
   {
    "duration": 3,
    "start_time": "2022-07-08T19:46:34.956Z"
   },
   {
    "duration": 150,
    "start_time": "2022-07-08T19:48:06.197Z"
   },
   {
    "duration": 38,
    "start_time": "2022-07-08T19:48:23.265Z"
   },
   {
    "duration": 3,
    "start_time": "2022-07-08T19:48:55.190Z"
   },
   {
    "duration": 41,
    "start_time": "2022-07-08T19:48:57.146Z"
   },
   {
    "duration": 3,
    "start_time": "2022-07-08T19:49:04.196Z"
   },
   {
    "duration": 55,
    "start_time": "2022-07-08T19:49:07.652Z"
   },
   {
    "duration": 4,
    "start_time": "2022-07-08T19:49:22.346Z"
   },
   {
    "duration": 49,
    "start_time": "2022-07-08T19:49:23.942Z"
   },
   {
    "duration": 5,
    "start_time": "2022-07-08T19:49:47.218Z"
   },
   {
    "duration": 42,
    "start_time": "2022-07-08T19:49:48.751Z"
   },
   {
    "duration": 90,
    "start_time": "2022-07-08T19:55:20.150Z"
   },
   {
    "duration": 42,
    "start_time": "2022-07-08T19:55:27.128Z"
   },
   {
    "duration": 4,
    "start_time": "2022-07-08T19:55:35.351Z"
   },
   {
    "duration": 56,
    "start_time": "2022-07-08T19:55:37.521Z"
   },
   {
    "duration": 4,
    "start_time": "2022-07-08T19:55:56.412Z"
   },
   {
    "duration": 39,
    "start_time": "2022-07-08T19:55:57.614Z"
   },
   {
    "duration": 4,
    "start_time": "2022-07-08T19:56:20.498Z"
   },
   {
    "duration": 43,
    "start_time": "2022-07-08T19:56:21.677Z"
   },
   {
    "duration": 4,
    "start_time": "2022-07-08T19:58:46.591Z"
   },
   {
    "duration": 55,
    "start_time": "2022-07-08T19:58:47.151Z"
   },
   {
    "duration": 5,
    "start_time": "2022-07-08T19:59:14.552Z"
   },
   {
    "duration": 46,
    "start_time": "2022-07-08T19:59:14.934Z"
   },
   {
    "duration": 5,
    "start_time": "2022-07-08T20:11:19.947Z"
   },
   {
    "duration": 60,
    "start_time": "2022-07-08T20:11:21.317Z"
   },
   {
    "duration": 4,
    "start_time": "2022-07-08T20:11:34.725Z"
   },
   {
    "duration": 50,
    "start_time": "2022-07-08T20:11:36.152Z"
   },
   {
    "duration": 72,
    "start_time": "2022-07-08T20:13:27.236Z"
   },
   {
    "duration": 5,
    "start_time": "2022-07-08T20:13:32.781Z"
   },
   {
    "duration": 876,
    "start_time": "2022-07-08T20:13:34.237Z"
   },
   {
    "duration": 4,
    "start_time": "2022-07-08T20:14:34.779Z"
   },
   {
    "duration": 832,
    "start_time": "2022-07-08T20:14:36.160Z"
   },
   {
    "duration": 4,
    "start_time": "2022-07-08T20:15:48.845Z"
   },
   {
    "duration": 40,
    "start_time": "2022-07-08T20:15:50.333Z"
   },
   {
    "duration": 47,
    "start_time": "2022-07-08T20:17:05.092Z"
   },
   {
    "duration": 48,
    "start_time": "2022-07-08T20:19:02.425Z"
   },
   {
    "duration": 61,
    "start_time": "2022-07-08T20:19:12.727Z"
   },
   {
    "duration": 55,
    "start_time": "2022-07-08T20:20:16.409Z"
   },
   {
    "duration": 56,
    "start_time": "2022-07-08T20:20:31.553Z"
   },
   {
    "duration": 51,
    "start_time": "2022-07-08T20:21:37.805Z"
   },
   {
    "duration": 4,
    "start_time": "2022-07-08T20:22:04.853Z"
   },
   {
    "duration": 36,
    "start_time": "2022-07-08T20:22:05.560Z"
   },
   {
    "duration": 10,
    "start_time": "2022-07-08T20:28:24.084Z"
   },
   {
    "duration": 13,
    "start_time": "2022-07-08T20:28:37.637Z"
   },
   {
    "duration": 14,
    "start_time": "2022-07-08T20:28:56.815Z"
   },
   {
    "duration": 4,
    "start_time": "2022-07-08T20:29:49.800Z"
   },
   {
    "duration": 38,
    "start_time": "2022-07-08T20:29:50.404Z"
   },
   {
    "duration": 4,
    "start_time": "2022-07-08T20:30:12.735Z"
   },
   {
    "duration": 40,
    "start_time": "2022-07-08T20:30:14.974Z"
   },
   {
    "duration": 4,
    "start_time": "2022-07-08T20:37:19.948Z"
   },
   {
    "duration": 39,
    "start_time": "2022-07-08T20:37:21.317Z"
   },
   {
    "duration": 4,
    "start_time": "2022-07-08T20:40:14.503Z"
   },
   {
    "duration": 49,
    "start_time": "2022-07-08T20:40:14.949Z"
   },
   {
    "duration": 77,
    "start_time": "2022-07-08T20:41:13.280Z"
   },
   {
    "duration": 5,
    "start_time": "2022-07-08T20:41:22.294Z"
   },
   {
    "duration": 42,
    "start_time": "2022-07-08T20:41:23.447Z"
   },
   {
    "duration": 3,
    "start_time": "2022-07-08T20:41:37.087Z"
   },
   {
    "duration": 40,
    "start_time": "2022-07-08T20:41:37.652Z"
   },
   {
    "duration": 4,
    "start_time": "2022-07-08T20:41:56.249Z"
   },
   {
    "duration": 42,
    "start_time": "2022-07-08T20:41:56.783Z"
   },
   {
    "duration": 4,
    "start_time": "2022-07-08T20:42:07.114Z"
   },
   {
    "duration": 69,
    "start_time": "2022-07-08T20:42:07.712Z"
   },
   {
    "duration": 4,
    "start_time": "2022-07-08T20:42:13.673Z"
   },
   {
    "duration": 41,
    "start_time": "2022-07-08T20:42:14.394Z"
   },
   {
    "duration": 4,
    "start_time": "2022-07-08T20:42:36.000Z"
   },
   {
    "duration": 53,
    "start_time": "2022-07-08T20:42:36.982Z"
   },
   {
    "duration": 3,
    "start_time": "2022-07-08T20:43:02.621Z"
   },
   {
    "duration": 47,
    "start_time": "2022-07-08T20:43:03.047Z"
   },
   {
    "duration": 5,
    "start_time": "2022-07-08T20:43:24.649Z"
   },
   {
    "duration": 37,
    "start_time": "2022-07-08T20:43:25.609Z"
   },
   {
    "duration": 19,
    "start_time": "2022-07-08T20:44:43.315Z"
   },
   {
    "duration": 15,
    "start_time": "2022-07-08T20:45:06.480Z"
   },
   {
    "duration": 21,
    "start_time": "2022-07-08T20:46:34.821Z"
   },
   {
    "duration": 18,
    "start_time": "2022-07-08T20:48:00.251Z"
   },
   {
    "duration": 7,
    "start_time": "2022-07-08T20:54:10.648Z"
   },
   {
    "duration": 28,
    "start_time": "2022-07-08T20:54:10.657Z"
   },
   {
    "duration": 2,
    "start_time": "2022-07-08T20:54:10.687Z"
   },
   {
    "duration": 5,
    "start_time": "2022-07-08T20:54:10.691Z"
   },
   {
    "duration": 13,
    "start_time": "2022-07-08T20:54:10.698Z"
   },
   {
    "duration": 46,
    "start_time": "2022-07-08T20:54:10.713Z"
   },
   {
    "duration": 4,
    "start_time": "2022-07-08T20:54:10.761Z"
   },
   {
    "duration": 41,
    "start_time": "2022-07-08T20:54:10.767Z"
   },
   {
    "duration": 21,
    "start_time": "2022-07-08T20:54:10.824Z"
   },
   {
    "duration": 2134,
    "start_time": "2022-07-08T20:54:10.847Z"
   },
   {
    "duration": 1019,
    "start_time": "2022-07-08T20:54:12.983Z"
   },
   {
    "duration": 22,
    "start_time": "2022-07-08T20:54:14.004Z"
   },
   {
    "duration": 18,
    "start_time": "2022-07-08T20:54:14.028Z"
   },
   {
    "duration": 377,
    "start_time": "2022-07-08T20:54:14.048Z"
   },
   {
    "duration": 468,
    "start_time": "2022-07-08T20:54:14.427Z"
   },
   {
    "duration": 584,
    "start_time": "2022-07-08T20:54:14.897Z"
   },
   {
    "duration": 108542,
    "start_time": "2022-07-08T20:54:15.483Z"
   },
   {
    "duration": 1399,
    "start_time": "2022-07-08T20:56:04.027Z"
   },
   {
    "duration": 568,
    "start_time": "2022-07-08T20:56:05.428Z"
   },
   {
    "duration": 15,
    "start_time": "2022-07-08T20:56:05.998Z"
   },
   {
    "duration": 3210,
    "start_time": "2022-07-08T20:56:06.023Z"
   },
   {
    "duration": 31,
    "start_time": "2022-07-08T20:56:09.235Z"
   },
   {
    "duration": 2858,
    "start_time": "2022-07-08T20:56:57.171Z"
   },
   {
    "duration": 2503,
    "start_time": "2022-07-08T21:10:09.157Z"
   },
   {
    "duration": 2846,
    "start_time": "2022-07-08T21:10:29.352Z"
   },
   {
    "duration": 21,
    "start_time": "2022-07-08T21:22:19.554Z"
   },
   {
    "duration": 3,
    "start_time": "2022-07-08T21:22:20.044Z"
   },
   {
    "duration": 4,
    "start_time": "2022-07-08T21:22:20.512Z"
   },
   {
    "duration": 7,
    "start_time": "2022-07-08T21:22:21.845Z"
   },
   {
    "duration": 32,
    "start_time": "2022-07-08T21:22:22.352Z"
   },
   {
    "duration": 3,
    "start_time": "2022-07-08T21:22:24.144Z"
   },
   {
    "duration": 38,
    "start_time": "2022-07-08T21:22:24.755Z"
   },
   {
    "duration": 21,
    "start_time": "2022-07-08T21:22:26.442Z"
   },
   {
    "duration": 1950,
    "start_time": "2022-07-08T21:22:30.442Z"
   },
   {
    "duration": 32,
    "start_time": "2022-07-08T22:23:44.230Z"
   },
   {
    "duration": 14,
    "start_time": "2022-07-08T22:23:52.009Z"
   },
   {
    "duration": 6,
    "start_time": "2022-07-08T22:24:06.485Z"
   },
   {
    "duration": 26,
    "start_time": "2022-07-08T22:24:06.493Z"
   },
   {
    "duration": 3,
    "start_time": "2022-07-08T22:24:06.520Z"
   },
   {
    "duration": 8,
    "start_time": "2022-07-08T22:24:06.525Z"
   },
   {
    "duration": 8,
    "start_time": "2022-07-08T22:24:06.535Z"
   },
   {
    "duration": 34,
    "start_time": "2022-07-08T22:24:06.544Z"
   },
   {
    "duration": 3,
    "start_time": "2022-07-08T22:24:06.580Z"
   },
   {
    "duration": 55,
    "start_time": "2022-07-08T22:24:06.585Z"
   },
   {
    "duration": 19,
    "start_time": "2022-07-08T22:24:06.641Z"
   },
   {
    "duration": 1873,
    "start_time": "2022-07-08T22:24:06.662Z"
   },
   {
    "duration": 941,
    "start_time": "2022-07-08T22:24:08.536Z"
   },
   {
    "duration": 12,
    "start_time": "2022-07-08T22:24:09.479Z"
   },
   {
    "duration": 25,
    "start_time": "2022-07-08T22:24:09.493Z"
   },
   {
    "duration": 111,
    "start_time": "2022-07-08T22:24:09.519Z"
   },
   {
    "duration": 444,
    "start_time": "2022-07-08T22:24:09.631Z"
   },
   {
    "duration": 563,
    "start_time": "2022-07-08T22:24:10.076Z"
   },
   {
    "duration": 103778,
    "start_time": "2022-07-08T22:24:10.640Z"
   },
   {
    "duration": 1310,
    "start_time": "2022-07-08T22:25:54.423Z"
   },
   {
    "duration": 658,
    "start_time": "2022-07-08T22:25:55.736Z"
   },
   {
    "duration": 14,
    "start_time": "2022-07-08T22:25:56.395Z"
   },
   {
    "duration": 39,
    "start_time": "2022-07-08T22:25:56.411Z"
   },
   {
    "duration": 0,
    "start_time": "2022-07-08T22:25:56.452Z"
   },
   {
    "duration": 0,
    "start_time": "2022-07-08T22:25:56.453Z"
   },
   {
    "duration": 32,
    "start_time": "2022-07-08T22:26:28.584Z"
   },
   {
    "duration": 955,
    "start_time": "2022-07-08T22:26:52.859Z"
   },
   {
    "duration": 5026,
    "start_time": "2022-07-08T22:27:19.301Z"
   },
   {
    "duration": 3023,
    "start_time": "2022-07-08T22:27:53.352Z"
   },
   {
    "duration": 20,
    "start_time": "2022-07-08T22:35:39.253Z"
   },
   {
    "duration": 1667,
    "start_time": "2022-07-09T10:10:47.188Z"
   },
   {
    "duration": 61,
    "start_time": "2022-07-09T10:10:49.562Z"
   },
   {
    "duration": 3,
    "start_time": "2022-07-09T10:10:50.306Z"
   },
   {
    "duration": 3,
    "start_time": "2022-07-09T10:10:50.805Z"
   },
   {
    "duration": 7,
    "start_time": "2022-07-09T10:10:53.392Z"
   },
   {
    "duration": 47,
    "start_time": "2022-07-09T10:10:53.977Z"
   },
   {
    "duration": 4,
    "start_time": "2022-07-09T10:10:55.808Z"
   },
   {
    "duration": 43,
    "start_time": "2022-07-09T10:10:56.467Z"
   },
   {
    "duration": 56,
    "start_time": "2022-07-09T10:10:58.002Z"
   },
   {
    "duration": 2448,
    "start_time": "2022-07-09T10:10:59.776Z"
   },
   {
    "duration": 1057,
    "start_time": "2022-07-09T10:11:03.272Z"
   },
   {
    "duration": 13,
    "start_time": "2022-07-09T10:11:05.026Z"
   },
   {
    "duration": 14,
    "start_time": "2022-07-09T10:11:07.838Z"
   },
   {
    "duration": 348,
    "start_time": "2022-07-09T10:11:08.824Z"
   },
   {
    "duration": 386,
    "start_time": "2022-07-09T10:11:09.972Z"
   },
   {
    "duration": 11,
    "start_time": "2022-07-09T10:11:10.590Z"
   },
   {
    "duration": 24,
    "start_time": "2022-07-09T10:12:52.954Z"
   },
   {
    "duration": 16,
    "start_time": "2022-07-09T10:12:59.758Z"
   },
   {
    "duration": 12,
    "start_time": "2022-07-09T10:13:17.124Z"
   },
   {
    "duration": 12,
    "start_time": "2022-07-09T10:27:42.997Z"
   },
   {
    "duration": 7,
    "start_time": "2022-07-09T10:32:45.565Z"
   },
   {
    "duration": 42,
    "start_time": "2022-07-09T10:32:45.574Z"
   },
   {
    "duration": 3,
    "start_time": "2022-07-09T10:32:45.618Z"
   },
   {
    "duration": 6,
    "start_time": "2022-07-09T10:32:45.622Z"
   },
   {
    "duration": 8,
    "start_time": "2022-07-09T10:32:45.630Z"
   },
   {
    "duration": 39,
    "start_time": "2022-07-09T10:32:45.640Z"
   },
   {
    "duration": 5,
    "start_time": "2022-07-09T10:32:45.681Z"
   },
   {
    "duration": 42,
    "start_time": "2022-07-09T10:32:45.687Z"
   },
   {
    "duration": 43,
    "start_time": "2022-07-09T10:32:45.731Z"
   },
   {
    "duration": 2057,
    "start_time": "2022-07-09T10:32:45.776Z"
   },
   {
    "duration": 1015,
    "start_time": "2022-07-09T10:32:47.835Z"
   },
   {
    "duration": 17,
    "start_time": "2022-07-09T10:32:48.852Z"
   },
   {
    "duration": 18,
    "start_time": "2022-07-09T10:32:48.871Z"
   },
   {
    "duration": 176,
    "start_time": "2022-07-09T10:32:48.891Z"
   },
   {
    "duration": 450,
    "start_time": "2022-07-09T10:32:49.069Z"
   },
   {
    "duration": 12,
    "start_time": "2022-07-09T10:32:49.520Z"
   },
   {
    "duration": 522,
    "start_time": "2022-07-09T10:32:49.533Z"
   },
   {
    "duration": 113220,
    "start_time": "2022-07-09T10:32:50.057Z"
   },
   {
    "duration": 1488,
    "start_time": "2022-07-09T10:34:43.278Z"
   },
   {
    "duration": 1518,
    "start_time": "2022-07-09T10:34:44.769Z"
   },
   {
    "duration": 13,
    "start_time": "2022-07-09T10:34:46.289Z"
   },
   {
    "duration": 2872,
    "start_time": "2022-07-09T10:34:46.304Z"
   },
   {
    "duration": 21,
    "start_time": "2022-07-09T10:34:49.178Z"
   },
   {
    "duration": 6,
    "start_time": "2022-07-09T12:15:58.816Z"
   },
   {
    "duration": 50,
    "start_time": "2022-07-09T12:15:58.824Z"
   },
   {
    "duration": 3,
    "start_time": "2022-07-09T12:15:58.876Z"
   },
   {
    "duration": 5,
    "start_time": "2022-07-09T12:15:58.881Z"
   },
   {
    "duration": 7,
    "start_time": "2022-07-09T12:15:58.889Z"
   },
   {
    "duration": 38,
    "start_time": "2022-07-09T12:15:58.898Z"
   },
   {
    "duration": 3,
    "start_time": "2022-07-09T12:15:58.938Z"
   },
   {
    "duration": 53,
    "start_time": "2022-07-09T12:15:58.943Z"
   },
   {
    "duration": 21,
    "start_time": "2022-07-09T12:15:58.998Z"
   },
   {
    "duration": 2436,
    "start_time": "2022-07-09T12:15:59.022Z"
   },
   {
    "duration": 1016,
    "start_time": "2022-07-09T12:16:01.461Z"
   },
   {
    "duration": 14,
    "start_time": "2022-07-09T12:16:02.479Z"
   },
   {
    "duration": 15,
    "start_time": "2022-07-09T12:16:02.495Z"
   },
   {
    "duration": 165,
    "start_time": "2022-07-09T12:16:02.513Z"
   },
   {
    "duration": 454,
    "start_time": "2022-07-09T12:16:02.765Z"
   },
   {
    "duration": 11,
    "start_time": "2022-07-09T12:16:03.221Z"
   },
   {
    "duration": 618,
    "start_time": "2022-07-09T12:16:03.234Z"
   },
   {
    "duration": 111484,
    "start_time": "2022-07-09T12:16:03.854Z"
   },
   {
    "duration": 1626,
    "start_time": "2022-07-09T12:17:55.340Z"
   },
   {
    "duration": 579,
    "start_time": "2022-07-09T12:17:56.968Z"
   },
   {
    "duration": 23,
    "start_time": "2022-07-09T12:17:57.549Z"
   },
   {
    "duration": 3108,
    "start_time": "2022-07-09T12:17:57.573Z"
   },
   {
    "duration": 19,
    "start_time": "2022-07-09T12:18:00.683Z"
   },
   {
    "duration": 1681,
    "start_time": "2022-07-09T14:46:40.813Z"
   },
   {
    "duration": 154,
    "start_time": "2022-07-09T14:46:42.497Z"
   },
   {
    "duration": 3,
    "start_time": "2022-07-09T14:46:42.652Z"
   },
   {
    "duration": 7,
    "start_time": "2022-07-09T14:46:42.657Z"
   },
   {
    "duration": 8,
    "start_time": "2022-07-09T14:46:42.666Z"
   },
   {
    "duration": 46,
    "start_time": "2022-07-09T14:46:42.675Z"
   },
   {
    "duration": 4,
    "start_time": "2022-07-09T14:46:42.722Z"
   },
   {
    "duration": 41,
    "start_time": "2022-07-09T14:46:42.728Z"
   },
   {
    "duration": 81,
    "start_time": "2022-07-09T14:46:42.771Z"
   },
   {
    "duration": 2125,
    "start_time": "2022-07-09T14:46:42.856Z"
   },
   {
    "duration": 975,
    "start_time": "2022-07-09T14:46:44.984Z"
   },
   {
    "duration": 14,
    "start_time": "2022-07-09T14:46:45.961Z"
   },
   {
    "duration": 30,
    "start_time": "2022-07-09T14:46:45.977Z"
   },
   {
    "duration": 98,
    "start_time": "2022-07-09T14:46:46.009Z"
   },
   {
    "duration": 449,
    "start_time": "2022-07-09T14:46:46.108Z"
   },
   {
    "duration": 12,
    "start_time": "2022-07-09T14:46:46.559Z"
   },
   {
    "duration": 564,
    "start_time": "2022-07-09T14:46:46.573Z"
   },
   {
    "duration": 108229,
    "start_time": "2022-07-09T14:46:47.138Z"
   },
   {
    "duration": 1236,
    "start_time": "2022-07-09T14:48:35.368Z"
   },
   {
    "duration": 556,
    "start_time": "2022-07-09T14:48:36.606Z"
   },
   {
    "duration": 15,
    "start_time": "2022-07-09T14:48:37.164Z"
   },
   {
    "duration": 3075,
    "start_time": "2022-07-09T14:48:37.181Z"
   },
   {
    "duration": 18,
    "start_time": "2022-07-09T14:48:40.258Z"
   },
   {
    "duration": 1746,
    "start_time": "2022-07-09T16:42:42.497Z"
   },
   {
    "duration": 48,
    "start_time": "2022-07-09T16:42:52.405Z"
   },
   {
    "duration": 4,
    "start_time": "2022-07-09T16:42:53.769Z"
   },
   {
    "duration": 5,
    "start_time": "2022-07-09T16:42:54.198Z"
   },
   {
    "duration": 9,
    "start_time": "2022-07-09T16:42:59.393Z"
   },
   {
    "duration": 47,
    "start_time": "2022-07-09T16:43:00.294Z"
   },
   {
    "duration": 3,
    "start_time": "2022-07-09T16:43:04.396Z"
   },
   {
    "duration": 46,
    "start_time": "2022-07-09T16:43:05.001Z"
   },
   {
    "duration": 62,
    "start_time": "2022-07-09T16:43:10.861Z"
   },
   {
    "duration": 2369,
    "start_time": "2022-07-09T16:43:14.500Z"
   },
   {
    "duration": 6,
    "start_time": "2022-07-09T16:43:32.703Z"
   },
   {
    "duration": 42,
    "start_time": "2022-07-09T16:43:39.223Z"
   },
   {
    "duration": 4,
    "start_time": "2022-07-09T16:43:39.660Z"
   },
   {
    "duration": 4,
    "start_time": "2022-07-09T16:43:40.065Z"
   },
   {
    "duration": 8,
    "start_time": "2022-07-09T16:43:41.027Z"
   },
   {
    "duration": 37,
    "start_time": "2022-07-09T16:43:41.361Z"
   },
   {
    "duration": 6,
    "start_time": "2022-07-09T16:43:42.858Z"
   },
   {
    "duration": 46,
    "start_time": "2022-07-09T16:43:43.220Z"
   },
   {
    "duration": 25,
    "start_time": "2022-07-09T16:43:45.118Z"
   },
   {
    "duration": 2285,
    "start_time": "2022-07-09T16:43:47.063Z"
   },
   {
    "duration": 1164,
    "start_time": "2022-07-09T16:43:55.686Z"
   },
   {
    "duration": 188,
    "start_time": "2022-07-09T16:44:09.783Z"
   },
   {
    "duration": 15,
    "start_time": "2022-07-09T16:44:25.977Z"
   },
   {
    "duration": 719,
    "start_time": "2022-07-09T16:44:30.977Z"
   },
   {
    "duration": 1299,
    "start_time": "2022-07-09T16:44:33.666Z"
   },
   {
    "duration": 15,
    "start_time": "2022-07-09T16:44:42.001Z"
   },
   {
    "duration": 3699,
    "start_time": "2022-07-09T16:44:46.069Z"
   },
   {
    "duration": 6,
    "start_time": "2022-07-09T16:45:41.776Z"
   },
   {
    "duration": 19,
    "start_time": "2022-07-09T16:45:41.787Z"
   },
   {
    "duration": 3,
    "start_time": "2022-07-09T16:45:41.807Z"
   },
   {
    "duration": 9,
    "start_time": "2022-07-09T16:45:41.812Z"
   },
   {
    "duration": 137,
    "start_time": "2022-07-09T16:45:41.823Z"
   },
   {
    "duration": 37,
    "start_time": "2022-07-09T16:45:41.962Z"
   },
   {
    "duration": 4,
    "start_time": "2022-07-09T16:45:42.000Z"
   },
   {
    "duration": 58,
    "start_time": "2022-07-09T16:45:42.005Z"
   },
   {
    "duration": 23,
    "start_time": "2022-07-09T16:45:42.064Z"
   },
   {
    "duration": 2042,
    "start_time": "2022-07-09T16:45:42.089Z"
   },
   {
    "duration": 980,
    "start_time": "2022-07-09T16:45:44.133Z"
   },
   {
    "duration": 14,
    "start_time": "2022-07-09T16:45:45.115Z"
   },
   {
    "duration": 25,
    "start_time": "2022-07-09T16:45:45.131Z"
   },
   {
    "duration": 388,
    "start_time": "2022-07-09T16:45:45.158Z"
   },
   {
    "duration": 354,
    "start_time": "2022-07-09T16:45:45.548Z"
   },
   {
    "duration": 10,
    "start_time": "2022-07-09T16:45:45.904Z"
   },
   {
    "duration": 556,
    "start_time": "2022-07-09T16:45:45.916Z"
   },
   {
    "duration": 112927,
    "start_time": "2022-07-09T16:45:46.474Z"
   },
   {
    "duration": 1251,
    "start_time": "2022-07-09T16:47:39.402Z"
   },
   {
    "duration": 579,
    "start_time": "2022-07-09T16:47:40.655Z"
   },
   {
    "duration": 20,
    "start_time": "2022-07-09T16:47:41.235Z"
   },
   {
    "duration": 3148,
    "start_time": "2022-07-09T16:47:41.257Z"
   },
   {
    "duration": 21,
    "start_time": "2022-07-09T16:47:44.408Z"
   },
   {
    "duration": 14,
    "start_time": "2022-07-09T16:52:40.978Z"
   },
   {
    "duration": 191,
    "start_time": "2022-07-09T16:52:44.855Z"
   },
   {
    "duration": 347,
    "start_time": "2022-07-09T16:52:52.152Z"
   },
   {
    "duration": 12,
    "start_time": "2022-07-09T16:53:03.337Z"
   },
   {
    "duration": 9,
    "start_time": "2022-07-09T16:53:47.896Z"
   },
   {
    "duration": 22,
    "start_time": "2022-07-09T16:53:52.062Z"
   },
   {
    "duration": 4,
    "start_time": "2022-07-09T16:53:52.484Z"
   },
   {
    "duration": 4,
    "start_time": "2022-07-09T16:53:52.907Z"
   },
   {
    "duration": 8,
    "start_time": "2022-07-09T16:53:54.815Z"
   },
   {
    "duration": 33,
    "start_time": "2022-07-09T16:53:55.501Z"
   },
   {
    "duration": 5,
    "start_time": "2022-07-09T16:53:59.059Z"
   },
   {
    "duration": 37,
    "start_time": "2022-07-09T16:53:59.574Z"
   },
   {
    "duration": 20,
    "start_time": "2022-07-09T16:54:07.559Z"
   },
   {
    "duration": 2031,
    "start_time": "2022-07-09T16:54:12.773Z"
   },
   {
    "duration": 1167,
    "start_time": "2022-07-09T16:54:22.394Z"
   },
   {
    "duration": 16,
    "start_time": "2022-07-09T16:57:36.471Z"
   },
   {
    "duration": 47,
    "start_time": "2022-07-09T16:57:39.511Z"
   },
   {
    "duration": 409,
    "start_time": "2022-07-09T16:57:43.853Z"
   },
   {
    "duration": 12,
    "start_time": "2022-07-09T16:57:54.147Z"
   },
   {
    "duration": 1158,
    "start_time": "2022-07-09T16:59:16.188Z"
   },
   {
    "duration": 558,
    "start_time": "2022-07-09T16:59:24.967Z"
   },
   {
    "duration": 14,
    "start_time": "2022-07-09T16:59:32.261Z"
   },
   {
    "duration": 3593,
    "start_time": "2022-07-09T16:59:39.071Z"
   },
   {
    "duration": 20,
    "start_time": "2022-07-09T17:00:18.281Z"
   },
   {
    "duration": 369,
    "start_time": "2022-07-09T17:33:05.515Z"
   },
   {
    "duration": 48,
    "start_time": "2022-07-09T17:33:21.612Z"
   },
   {
    "duration": 4,
    "start_time": "2022-07-09T17:33:21.963Z"
   },
   {
    "duration": 5,
    "start_time": "2022-07-09T17:33:22.152Z"
   },
   {
    "duration": 9,
    "start_time": "2022-07-09T17:33:23.360Z"
   },
   {
    "duration": 34,
    "start_time": "2022-07-09T17:33:23.595Z"
   },
   {
    "duration": 3,
    "start_time": "2022-07-09T17:33:25.105Z"
   },
   {
    "duration": 41,
    "start_time": "2022-07-09T17:33:25.615Z"
   },
   {
    "duration": 26,
    "start_time": "2022-07-09T17:33:27.217Z"
   },
   {
    "duration": 2064,
    "start_time": "2022-07-09T17:33:28.893Z"
   },
   {
    "duration": 1009,
    "start_time": "2022-07-09T17:33:35.889Z"
   },
   {
    "duration": 179,
    "start_time": "2022-07-09T17:33:43.876Z"
   },
   {
    "duration": 162,
    "start_time": "2022-07-09T17:37:04.894Z"
   },
   {
    "duration": 37,
    "start_time": "2022-07-09T17:46:36.415Z"
   },
   {
    "duration": 17,
    "start_time": "2022-07-09T17:47:09.154Z"
   },
   {
    "duration": 142,
    "start_time": "2022-07-09T17:47:12.308Z"
   },
   {
    "duration": 373,
    "start_time": "2022-07-09T17:47:19.886Z"
   },
   {
    "duration": 11,
    "start_time": "2022-07-09T17:47:26.545Z"
   },
   {
    "duration": 144,
    "start_time": "2022-07-09T17:54:47.509Z"
   },
   {
    "duration": 234,
    "start_time": "2022-07-09T17:56:56.012Z"
   },
   {
    "duration": 14,
    "start_time": "2022-07-09T17:58:24.693Z"
   },
   {
    "duration": 79,
    "start_time": "2022-07-09T17:58:30.511Z"
   },
   {
    "duration": 15,
    "start_time": "2022-07-09T17:58:36.266Z"
   },
   {
    "duration": 97,
    "start_time": "2022-07-09T17:58:39.565Z"
   },
   {
    "duration": 13,
    "start_time": "2022-07-09T18:00:49.811Z"
   },
   {
    "duration": 40,
    "start_time": "2022-07-09T18:20:12.414Z"
   },
   {
    "duration": 6,
    "start_time": "2022-07-09T18:21:11.662Z"
   },
   {
    "duration": 19,
    "start_time": "2022-07-09T18:21:13.200Z"
   },
   {
    "duration": 4,
    "start_time": "2022-07-09T18:21:13.432Z"
   },
   {
    "duration": 4,
    "start_time": "2022-07-09T18:21:13.773Z"
   },
   {
    "duration": 12,
    "start_time": "2022-07-09T18:21:14.511Z"
   },
   {
    "duration": 46,
    "start_time": "2022-07-09T18:21:14.733Z"
   },
   {
    "duration": 5,
    "start_time": "2022-07-09T18:21:16.476Z"
   },
   {
    "duration": 41,
    "start_time": "2022-07-09T18:21:17.065Z"
   },
   {
    "duration": 24,
    "start_time": "2022-07-09T18:21:19.340Z"
   },
   {
    "duration": 2184,
    "start_time": "2022-07-09T18:21:21.543Z"
   },
   {
    "duration": 1060,
    "start_time": "2022-07-09T18:21:40.116Z"
   },
   {
    "duration": 173,
    "start_time": "2022-07-09T18:21:48.896Z"
   },
   {
    "duration": 388,
    "start_time": "2022-07-09T18:23:37.067Z"
   },
   {
    "duration": 421,
    "start_time": "2022-07-09T18:23:41.434Z"
   },
   {
    "duration": 18,
    "start_time": "2022-07-09T18:23:46.116Z"
   },
   {
    "duration": 165,
    "start_time": "2022-07-09T18:28:54.094Z"
   },
   {
    "duration": 995,
    "start_time": "2022-07-09T18:29:33.933Z"
   },
   {
    "duration": 31,
    "start_time": "2022-07-09T18:44:08.853Z"
   },
   {
    "duration": 116,
    "start_time": "2022-07-09T18:45:17.729Z"
   },
   {
    "duration": 285,
    "start_time": "2022-07-09T18:46:26.762Z"
   },
   {
    "duration": 310,
    "start_time": "2022-07-09T18:47:19.236Z"
   },
   {
    "duration": 291,
    "start_time": "2022-07-09T18:48:25.161Z"
   },
   {
    "duration": 8,
    "start_time": "2022-07-09T18:48:51.305Z"
   },
   {
    "duration": 21,
    "start_time": "2022-07-09T18:48:52.953Z"
   },
   {
    "duration": 3,
    "start_time": "2022-07-09T18:48:53.201Z"
   },
   {
    "duration": 4,
    "start_time": "2022-07-09T18:48:53.539Z"
   },
   {
    "duration": 13,
    "start_time": "2022-07-09T18:48:54.354Z"
   },
   {
    "duration": 49,
    "start_time": "2022-07-09T18:48:54.640Z"
   },
   {
    "duration": 6,
    "start_time": "2022-07-09T18:48:56.350Z"
   },
   {
    "duration": 51,
    "start_time": "2022-07-09T18:48:56.949Z"
   },
   {
    "duration": 23,
    "start_time": "2022-07-09T18:48:59.234Z"
   },
   {
    "duration": 2198,
    "start_time": "2022-07-09T18:49:03.233Z"
   },
   {
    "duration": 1103,
    "start_time": "2022-07-09T18:49:11.626Z"
   },
   {
    "duration": 324,
    "start_time": "2022-07-09T18:49:24.134Z"
   },
   {
    "duration": 415,
    "start_time": "2022-07-09T18:49:26.532Z"
   },
   {
    "duration": 170,
    "start_time": "2022-07-09T18:54:37.484Z"
   },
   {
    "duration": 114,
    "start_time": "2022-07-09T18:55:13.341Z"
   },
   {
    "duration": 208,
    "start_time": "2022-07-09T18:55:46.143Z"
   },
   {
    "duration": 363,
    "start_time": "2022-07-09T18:55:50.579Z"
   },
   {
    "duration": 11,
    "start_time": "2022-07-09T18:56:40.015Z"
   },
   {
    "duration": 529,
    "start_time": "2022-07-09T18:57:36.798Z"
   },
   {
    "duration": 112929,
    "start_time": "2022-07-09T18:57:38.733Z"
   },
   {
    "duration": 1322,
    "start_time": "2022-07-09T18:59:54.330Z"
   },
   {
    "duration": 546,
    "start_time": "2022-07-09T18:59:58.619Z"
   },
   {
    "duration": 15,
    "start_time": "2022-07-09T19:00:03.353Z"
   },
   {
    "duration": 3612,
    "start_time": "2022-07-09T19:00:48.218Z"
   },
   {
    "duration": 28,
    "start_time": "2022-07-09T19:01:22.892Z"
   },
   {
    "duration": 14,
    "start_time": "2022-07-09T19:07:22.770Z"
   },
   {
    "duration": 276,
    "start_time": "2022-07-09T19:07:25.970Z"
   },
   {
    "duration": 20,
    "start_time": "2022-07-09T19:07:43.896Z"
   },
   {
    "duration": 3,
    "start_time": "2022-07-09T19:07:45.147Z"
   },
   {
    "duration": 3,
    "start_time": "2022-07-09T19:07:45.447Z"
   },
   {
    "duration": 8,
    "start_time": "2022-07-09T19:07:46.399Z"
   },
   {
    "duration": 37,
    "start_time": "2022-07-09T19:07:46.690Z"
   },
   {
    "duration": 4,
    "start_time": "2022-07-09T19:07:48.564Z"
   },
   {
    "duration": 50,
    "start_time": "2022-07-09T19:07:48.898Z"
   },
   {
    "duration": 24,
    "start_time": "2022-07-09T19:07:50.757Z"
   },
   {
    "duration": 2270,
    "start_time": "2022-07-09T19:07:53.341Z"
   },
   {
    "duration": 956,
    "start_time": "2022-07-09T19:07:56.941Z"
   },
   {
    "duration": 150,
    "start_time": "2022-07-09T19:08:12.107Z"
   },
   {
    "duration": 15,
    "start_time": "2022-07-09T19:08:20.117Z"
   },
   {
    "duration": 147,
    "start_time": "2022-07-09T19:08:22.400Z"
   },
   {
    "duration": 386,
    "start_time": "2022-07-09T19:08:35.631Z"
   },
   {
    "duration": 11,
    "start_time": "2022-07-09T19:08:39.664Z"
   },
   {
    "duration": 628,
    "start_time": "2022-07-09T19:08:53.650Z"
   },
   {
    "duration": 645,
    "start_time": "2022-07-09T19:08:59.055Z"
   },
   {
    "duration": 1358,
    "start_time": "2022-07-09T19:09:02.995Z"
   },
   {
    "duration": 539,
    "start_time": "2022-07-09T19:09:08.904Z"
   },
   {
    "duration": 15,
    "start_time": "2022-07-09T19:09:17.464Z"
   },
   {
    "duration": 3656,
    "start_time": "2022-07-09T19:09:33.597Z"
   },
   {
    "duration": 19,
    "start_time": "2022-07-09T19:09:51.730Z"
   },
   {
    "duration": 19,
    "start_time": "2022-07-09T19:13:20.176Z"
   },
   {
    "duration": 4,
    "start_time": "2022-07-09T19:13:21.846Z"
   },
   {
    "duration": 3,
    "start_time": "2022-07-09T19:13:22.154Z"
   },
   {
    "duration": 8,
    "start_time": "2022-07-09T19:13:23.303Z"
   },
   {
    "duration": 35,
    "start_time": "2022-07-09T19:13:23.814Z"
   },
   {
    "duration": 5,
    "start_time": "2022-07-09T19:13:27.951Z"
   },
   {
    "duration": 55,
    "start_time": "2022-07-09T19:13:28.836Z"
   },
   {
    "duration": 21,
    "start_time": "2022-07-09T19:13:33.292Z"
   },
   {
    "duration": 2010,
    "start_time": "2022-07-09T19:13:46.030Z"
   },
   {
    "duration": 2209,
    "start_time": "2022-07-09T19:14:09.009Z"
   },
   {
    "duration": 1017,
    "start_time": "2022-07-09T19:14:24.999Z"
   },
   {
    "duration": 1034,
    "start_time": "2022-07-09T19:14:41.442Z"
   },
   {
    "duration": 1026,
    "start_time": "2022-07-09T19:14:53.488Z"
   },
   {
    "duration": 2144,
    "start_time": "2022-07-09T19:15:34.544Z"
   },
   {
    "duration": 1882,
    "start_time": "2022-07-09T19:15:50.358Z"
   },
   {
    "duration": 2067,
    "start_time": "2022-07-09T19:16:09.067Z"
   },
   {
    "duration": 2094,
    "start_time": "2022-07-09T19:16:28.679Z"
   },
   {
    "duration": 3309,
    "start_time": "2022-07-09T19:16:45.310Z"
   },
   {
    "duration": 2063,
    "start_time": "2022-07-09T19:16:53.433Z"
   },
   {
    "duration": 1936,
    "start_time": "2022-07-09T19:17:06.383Z"
   }
  ],
  "kernelspec": {
   "display_name": "Python 3 (ipykernel)",
   "language": "python",
   "name": "python3"
  },
  "language_info": {
   "codemirror_mode": {
    "name": "ipython",
    "version": 3
   },
   "file_extension": ".py",
   "mimetype": "text/x-python",
   "name": "python",
   "nbconvert_exporter": "python",
   "pygments_lexer": "ipython3",
   "version": "3.9.7"
  },
  "toc": {
   "base_numbering": 1,
   "nav_menu": {},
   "number_sections": true,
   "sideBar": true,
   "skip_h1_title": true,
   "title_cell": "Table of Contents",
   "title_sidebar": "Содержание:",
   "toc_cell": false,
   "toc_position": {
    "height": "calc(100% - 180px)",
    "left": "10px",
    "top": "150px",
    "width": "302.391px"
   },
   "toc_section_display": true,
   "toc_window_display": true
  }
 },
 "nbformat": 4,
 "nbformat_minor": 2
}
