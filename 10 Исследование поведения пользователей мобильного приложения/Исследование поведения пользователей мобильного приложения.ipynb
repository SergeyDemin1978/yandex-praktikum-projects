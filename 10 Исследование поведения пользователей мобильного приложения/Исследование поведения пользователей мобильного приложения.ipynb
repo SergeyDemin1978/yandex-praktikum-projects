{
 "cells": [
  {
   "cell_type": "markdown",
   "metadata": {},
   "source": [
    "<H1 align=\"center\">Исследование поведения пользователей мобильного приложения.</H1><br><br>\n",
    "\n",
    "\n",
    "**Цель исследования:**\n",
    "- *Изучить воронку продаж внутри мобильного приложения.*\n",
    "- *Узнать, как пользователи доходят до покупки. Сколько пользователей доходит до покупки и сколько «застревает» на предыдущих шагах. Определить на каких именно шагах у пользователей возникают трудности.*\n",
    "- *Исследовать результаты A/A/B-эксперимента и определить наиболее эффективную группу тестирования.*\n",
    "\n",
    "**Описание данных:**\n",
    "- **EventName** — название события;\n",
    "- **DeviceIDHash** — уникальный идентификатор пользователя;\n",
    "- **EventTimestamp** — время события;\n",
    "- **ExpId** — номер эксперимента: **246** и **247** — контрольные группы, а **248** — экспериментальная."
   ]
  },
  {
   "cell_type": "markdown",
   "metadata": {},
   "source": [
    "**Оглавление:**<br>\n",
    "- [1. Изучение общей информации](#num1)<br>\n",
    "- [2. Подготовка данных](#num2)<br>\n",
    " - [2.1 Вывод](#num21)<br>\n",
    "- [3. Изучение и проверка данных](#num3)<br>\n",
    " - [3.1 Вывод](#num31)<br>\n",
    "- [4. Изучение воронки событий](#num4)<br>\n",
    " - [4.1 Вывод](#num41)<br>\n",
    "- [5. Изучение результатов эксперимента](#num5)<br>\n",
    "- [6. Общий вывод](#num6)<br>"
   ]
  },
  {
   "cell_type": "markdown",
   "metadata": {},
   "source": [
    "<a id=\"num1\"></a>\n",
    "## Изучение общей информации"
   ]
  },
  {
   "cell_type": "code",
   "execution_count": 44,
   "metadata": {},
   "outputs": [],
   "source": [
    "# импортируем библиотеки\n",
    "import pandas as pd\n",
    "import numpy as np\n",
    "from datetime import datetime, timedelta\n",
    "from IPython.display import display\n",
    "\n",
    "from scipy import stats as st\n",
    "import math as mth\n",
    "\n",
    "import matplotlib.pyplot as plt\n",
    "%matplotlib inline\n",
    "import seaborn as sns\n",
    "import plotly.express as px \n",
    "from plotly import graph_objects as go\n",
    "\n",
    "from pandas.plotting import register_matplotlib_converters\n",
    "register_matplotlib_converters() # регистрация форматеров и конвертеров pandas в matplotlib"
   ]
  },
  {
   "cell_type": "code",
   "execution_count": 45,
   "metadata": {},
   "outputs": [
    {
     "name": "stdout",
     "output_type": "stream",
     "text": [
      "<class 'pandas.core.frame.DataFrame'>\n",
      "RangeIndex: 244126 entries, 0 to 244125\n",
      "Data columns (total 4 columns):\n",
      " #   Column          Non-Null Count   Dtype \n",
      "---  ------          --------------   ----- \n",
      " 0   EventName       244126 non-null  object\n",
      " 1   DeviceIDHash    244126 non-null  int64 \n",
      " 2   EventTimestamp  244126 non-null  int64 \n",
      " 3   ExpId           244126 non-null  int64 \n",
      "dtypes: int64(3), object(1)\n",
      "memory usage: 7.5+ MB\n"
     ]
    },
    {
     "data": {
      "text/plain": [
       "None"
      ]
     },
     "metadata": {},
     "output_type": "display_data"
    },
    {
     "data": {
      "text/html": [
       "<div>\n",
       "<style scoped>\n",
       "    .dataframe tbody tr th:only-of-type {\n",
       "        vertical-align: middle;\n",
       "    }\n",
       "\n",
       "    .dataframe tbody tr th {\n",
       "        vertical-align: top;\n",
       "    }\n",
       "\n",
       "    .dataframe thead th {\n",
       "        text-align: right;\n",
       "    }\n",
       "</style>\n",
       "<table border=\"1\" class=\"dataframe\">\n",
       "  <thead>\n",
       "    <tr style=\"text-align: right;\">\n",
       "      <th></th>\n",
       "      <th>EventName</th>\n",
       "      <th>DeviceIDHash</th>\n",
       "      <th>EventTimestamp</th>\n",
       "      <th>ExpId</th>\n",
       "    </tr>\n",
       "  </thead>\n",
       "  <tbody>\n",
       "    <tr>\n",
       "      <th>0</th>\n",
       "      <td>MainScreenAppear</td>\n",
       "      <td>4575588528974610257</td>\n",
       "      <td>1564029816</td>\n",
       "      <td>246</td>\n",
       "    </tr>\n",
       "    <tr>\n",
       "      <th>1</th>\n",
       "      <td>MainScreenAppear</td>\n",
       "      <td>7416695313311560658</td>\n",
       "      <td>1564053102</td>\n",
       "      <td>246</td>\n",
       "    </tr>\n",
       "    <tr>\n",
       "      <th>2</th>\n",
       "      <td>PaymentScreenSuccessful</td>\n",
       "      <td>3518123091307005509</td>\n",
       "      <td>1564054127</td>\n",
       "      <td>248</td>\n",
       "    </tr>\n",
       "    <tr>\n",
       "      <th>3</th>\n",
       "      <td>CartScreenAppear</td>\n",
       "      <td>3518123091307005509</td>\n",
       "      <td>1564054127</td>\n",
       "      <td>248</td>\n",
       "    </tr>\n",
       "    <tr>\n",
       "      <th>4</th>\n",
       "      <td>PaymentScreenSuccessful</td>\n",
       "      <td>6217807653094995999</td>\n",
       "      <td>1564055322</td>\n",
       "      <td>248</td>\n",
       "    </tr>\n",
       "  </tbody>\n",
       "</table>\n",
       "</div>"
      ],
      "text/plain": [
       "                 EventName         DeviceIDHash  EventTimestamp  ExpId\n",
       "0         MainScreenAppear  4575588528974610257      1564029816    246\n",
       "1         MainScreenAppear  7416695313311560658      1564053102    246\n",
       "2  PaymentScreenSuccessful  3518123091307005509      1564054127    248\n",
       "3         CartScreenAppear  3518123091307005509      1564054127    248\n",
       "4  PaymentScreenSuccessful  6217807653094995999      1564055322    248"
      ]
     },
     "metadata": {},
     "output_type": "display_data"
    }
   ],
   "source": [
    "# прочтём датафрейм, уберём из него нестандартный разделитель '\\t'\n",
    "data = pd.read_csv('logs_exp.csv', sep='\\t')\n",
    "df = data.copy()\n",
    "\n",
    "# установим максимальную ширину столбца для таблиц\n",
    "pd.set_option('max_colwidth', 110)\n",
    "\n",
    "ClrR = '\\033[1;91m'  # переменная для выделения текста красным и жирным цветом \n",
    "ClrB = '\\033[1m'     # переменная для выделения текста жирным цветом \n",
    "ClrD = '\\033[0m'     # переменная для выделения текста с настройками по-умолчанию\n",
    "\n",
    "# выведем общую информацию датафрейма на экран\n",
    "display(df.info())\n",
    "display(df.head())"
   ]
  },
  {
   "cell_type": "markdown",
   "metadata": {},
   "source": [
    "*Датафрейм состоит из 4 колонок и 244126 строк, пропущенных значений не обнаружено. Названия колонок находятся в верхнем регистре.*"
   ]
  },
  {
   "cell_type": "markdown",
   "metadata": {},
   "source": [
    "<a id=\"num2\"></a>\n",
    "## Подготовка данных"
   ]
  },
  {
   "cell_type": "markdown",
   "metadata": {},
   "source": [
    "Для проведения анализа данных, нам нужно очистить датафрейм и привести его к корректному виду:\n",
    "\n",
    "- Изменить названия колонок на более удобные, привести их к нижнему регистру;\n",
    "- Добавить новые столбцы с датой и временем совершения события;\n",
    "- Удалить дубликаты, проверить пропуски и типы данных."
   ]
  },
  {
   "cell_type": "code",
   "execution_count": 46,
   "metadata": {},
   "outputs": [
    {
     "data": {
      "text/html": [
       "<div>\n",
       "<style scoped>\n",
       "    .dataframe tbody tr th:only-of-type {\n",
       "        vertical-align: middle;\n",
       "    }\n",
       "\n",
       "    .dataframe tbody tr th {\n",
       "        vertical-align: top;\n",
       "    }\n",
       "\n",
       "    .dataframe thead th {\n",
       "        text-align: right;\n",
       "    }\n",
       "</style>\n",
       "<table border=\"1\" class=\"dataframe\">\n",
       "  <thead>\n",
       "    <tr style=\"text-align: right;\">\n",
       "      <th></th>\n",
       "      <th>event</th>\n",
       "      <th>user</th>\n",
       "      <th>exp_id</th>\n",
       "      <th>datetime</th>\n",
       "      <th>date</th>\n",
       "    </tr>\n",
       "  </thead>\n",
       "  <tbody>\n",
       "    <tr>\n",
       "      <th>0</th>\n",
       "      <td>MainScreenAppear</td>\n",
       "      <td>4575588528974610257</td>\n",
       "      <td>246</td>\n",
       "      <td>2019-07-25 04:43:36</td>\n",
       "      <td>2019-07-25</td>\n",
       "    </tr>\n",
       "    <tr>\n",
       "      <th>1</th>\n",
       "      <td>MainScreenAppear</td>\n",
       "      <td>7416695313311560658</td>\n",
       "      <td>246</td>\n",
       "      <td>2019-07-25 11:11:42</td>\n",
       "      <td>2019-07-25</td>\n",
       "    </tr>\n",
       "    <tr>\n",
       "      <th>2</th>\n",
       "      <td>PaymentScreenSuccessful</td>\n",
       "      <td>3518123091307005509</td>\n",
       "      <td>248</td>\n",
       "      <td>2019-07-25 11:28:47</td>\n",
       "      <td>2019-07-25</td>\n",
       "    </tr>\n",
       "    <tr>\n",
       "      <th>3</th>\n",
       "      <td>CartScreenAppear</td>\n",
       "      <td>3518123091307005509</td>\n",
       "      <td>248</td>\n",
       "      <td>2019-07-25 11:28:47</td>\n",
       "      <td>2019-07-25</td>\n",
       "    </tr>\n",
       "    <tr>\n",
       "      <th>4</th>\n",
       "      <td>PaymentScreenSuccessful</td>\n",
       "      <td>6217807653094995999</td>\n",
       "      <td>248</td>\n",
       "      <td>2019-07-25 11:48:42</td>\n",
       "      <td>2019-07-25</td>\n",
       "    </tr>\n",
       "  </tbody>\n",
       "</table>\n",
       "</div>"
      ],
      "text/plain": [
       "                     event                 user  exp_id            datetime  \\\n",
       "0         MainScreenAppear  4575588528974610257     246 2019-07-25 04:43:36   \n",
       "1         MainScreenAppear  7416695313311560658     246 2019-07-25 11:11:42   \n",
       "2  PaymentScreenSuccessful  3518123091307005509     248 2019-07-25 11:28:47   \n",
       "3         CartScreenAppear  3518123091307005509     248 2019-07-25 11:28:47   \n",
       "4  PaymentScreenSuccessful  6217807653094995999     248 2019-07-25 11:48:42   \n",
       "\n",
       "         date  \n",
       "0  2019-07-25  \n",
       "1  2019-07-25  \n",
       "2  2019-07-25  \n",
       "3  2019-07-25  \n",
       "4  2019-07-25  "
      ]
     },
     "metadata": {},
     "output_type": "display_data"
    }
   ],
   "source": [
    "# переименуем колонки\n",
    "df = df.rename(columns={\n",
    "    'EventName': 'event', \n",
    "    'DeviceIDHash': 'user', \n",
    "    'EventTimestamp': 'timestamp',\n",
    "    'ExpId': 'exp_id',\n",
    "}\n",
    "              )\n",
    "\n",
    "# приведём колонку 'eventtimestamp' к типу 'datetime'\n",
    "df['datetime'] = pd.to_datetime(df['timestamp'], unit='s')\n",
    "df['date'] = pd.to_datetime(df['timestamp'], unit='s').dt.date\n",
    "\n",
    "\n",
    "# разместим колонки датафрейма в нужном порядке, колонку 'timestamp' исключим из датафрейма\n",
    "df = df[['event', 'user', 'exp_id', 'datetime', 'date']]\n",
    "\n",
    "\n",
    "display(df.head())"
   ]
  },
  {
   "cell_type": "code",
   "execution_count": 47,
   "metadata": {
    "scrolled": false
   },
   "outputs": [
    {
     "name": "stdout",
     "output_type": "stream",
     "text": [
      "Количество пропущенных значений: \u001b[1m 0 \u001b[0m\n",
      "Количество дубликатов:  \u001b[1m 413 \u001b[0m\n",
      "Процент дубликатов: \u001b[1m 0.2% \u001b[0m\n"
     ]
    }
   ],
   "source": [
    "# найдём количество пропущенных значений и дубликатов\n",
    "print('Количество пропущенных значений:', ClrB, df.isna().sum().sum(), ClrD) \n",
    "print('Количество дубликатов: ', ClrB, df.duplicated().sum(), ClrD)\n",
    "print('Процент дубликатов:', ClrB, '{:.1%}'.format((df.duplicated().sum() / len(df))), ClrD)"
   ]
  },
  {
   "cell_type": "code",
   "execution_count": 48,
   "metadata": {},
   "outputs": [
    {
     "data": {
      "text/plain": [
       "PaymentScreenSuccessful    195\n",
       "MainScreenAppear           104\n",
       "CartScreenAppear            63\n",
       "Tutorial                    34\n",
       "OffersScreenAppear          17\n",
       "Name: event, dtype: int64"
      ]
     },
     "metadata": {},
     "output_type": "display_data"
    }
   ],
   "source": [
    "# посмотрим распределение дубликатов по колонке 'event'\n",
    "display(df[df.duplicated()]['event'].value_counts())"
   ]
  },
  {
   "cell_type": "code",
   "execution_count": 49,
   "metadata": {},
   "outputs": [
    {
     "name": "stdout",
     "output_type": "stream",
     "text": [
      "Количество дубликатов после удаления:  \u001b[1m 0 \u001b[0m\n",
      "\n"
     ]
    }
   ],
   "source": [
    "# удалим дубликаты\n",
    "df = df.drop_duplicates().reset_index(drop=True)\n",
    "print('Количество дубликатов после удаления: ', ClrB, df.duplicated().sum(), ClrD, end='\\n\\n')"
   ]
  },
  {
   "cell_type": "code",
   "execution_count": 50,
   "metadata": {},
   "outputs": [
    {
     "name": "stdout",
     "output_type": "stream",
     "text": [
      "Количество пользователей, входящих более, чем в одну группу: \u001b[1m 0 \u001b[0m\n"
     ]
    }
   ],
   "source": [
    "# проверим, входят ли пользователи более чем в одну группу\n",
    "print('Количество пользователей, входящих более, чем в одну группу:', \\\n",
    "      ClrB, len(df.groupby('user').agg({'exp_id': 'nunique'}).query('exp_id > 1')), ClrD)"
   ]
  },
  {
   "cell_type": "code",
   "execution_count": 51,
   "metadata": {},
   "outputs": [
    {
     "name": "stdout",
     "output_type": "stream",
     "text": [
      "<class 'pandas.core.frame.DataFrame'>\n",
      "RangeIndex: 243713 entries, 0 to 243712\n",
      "Data columns (total 5 columns):\n",
      " #   Column    Non-Null Count   Dtype         \n",
      "---  ------    --------------   -----         \n",
      " 0   event     243713 non-null  object        \n",
      " 1   user      243713 non-null  int64         \n",
      " 2   exp_id    243713 non-null  int64         \n",
      " 3   datetime  243713 non-null  datetime64[ns]\n",
      " 4   date      243713 non-null  object        \n",
      "dtypes: datetime64[ns](1), int64(2), object(2)\n",
      "memory usage: 9.3+ MB\n"
     ]
    },
    {
     "data": {
      "text/plain": [
       "None"
      ]
     },
     "metadata": {},
     "output_type": "display_data"
    }
   ],
   "source": [
    "# выведем общую информацию датафрейма на экран\n",
    "display(df.info())"
   ]
  },
  {
   "cell_type": "markdown",
   "metadata": {},
   "source": [
    "<a id=\"num21\"></a>\n",
    "### Вывод\n",
    "\n",
    "*В ходе подготовки данных, были изменены названия колонок фатафрейма, добавлены столбцы **datetime** и **date**, найденно и удалено **413** дубликатов или **0.2%**. После удаления дубликатов, из **244126** строк исходного датафрейма, осталось **243713** строк.*"
   ]
  },
  {
   "cell_type": "markdown",
   "metadata": {},
   "source": [
    "<a id=\"num3\"></a>\n",
    "## Изучение и проверка данных"
   ]
  },
  {
   "cell_type": "markdown",
   "metadata": {},
   "source": [
    "Определим период исследования."
   ]
  },
  {
   "cell_type": "code",
   "execution_count": 52,
   "metadata": {},
   "outputs": [
    {
     "name": "stdout",
     "output_type": "stream",
     "text": [
      "Начало проведения исследования:  \u001b[1m 2019-07-25 04:43:36 \u001b[0m\n",
      "Конец проведения исследования:  \u001b[1m 2019-08-07 21:15:17 \u001b[0m\n"
     ]
    }
   ],
   "source": [
    "# найдём начало и конец проведения исследования\n",
    "print('Начало проведения исследования: ', ClrB, df['datetime'].min(), ClrD)\n",
    "print('Конец проведения исследования: ', ClrB, df['datetime'].max(), ClrD)"
   ]
  },
  {
   "cell_type": "markdown",
   "metadata": {},
   "source": [
    "*Таким образом в датафрейме представлены данные за две недели: с **25 июля 04:43** по **7 августа 21:15 2019** года.*"
   ]
  },
  {
   "cell_type": "markdown",
   "metadata": {},
   "source": [
    "Изучим, насколько имеющиеся данные являются полными, рассмотрим распределение количества пользователей для каждого события по дате и времени начала."
   ]
  },
  {
   "cell_type": "code",
   "execution_count": 53,
   "metadata": {},
   "outputs": [],
   "source": [
    "# напишем функцию для постройки гистограмм\n",
    "def buildHist(data, xname, yname, title):\n",
    "    plt.figure(figsize=(16, 6))\n",
    "    data.hist(bins=150)\n",
    "    plt.title(title)\n",
    "    plt.xlabel(xname)\n",
    "    plt.ylabel(yname)\n",
    "    plt.ticklabel_format(style='plain', axis='y')\n",
    "    plt.xticks(rotation=45, horizontalalignment='center')\n",
    "    plt.yticks(horizontalalignment='right')\n",
    "    plt.show()\n",
    "    \n",
    "# напишем функцию для постройки сдолбчатой диаграммы\n",
    "def buildBar(data, xname, yname, title):\n",
    "    data.plot(kind='bar', width=0.8, figsize=(16, 6), legend=False)\n",
    "    plt.title(title)\n",
    "    plt.xlabel(xname)\n",
    "    plt.ylabel(yname)\n",
    "    plt.xticks(rotation=0, horizontalalignment='center')\n",
    "    plt.yticks(horizontalalignment='right')\n",
    "    plt.show()"
   ]
  },
  {
   "cell_type": "code",
   "execution_count": 54,
   "metadata": {},
   "outputs": [
    {
     "data": {
      "image/png": "[encoded data removed]",
      "text/plain": [
       "<Figure size 1152x432 with 1 Axes>"
      ]
     },
     "metadata": {
      "needs_background": "light"
     },
     "output_type": "display_data"
    }
   ],
   "source": [
    "# построим гистограму для 'datetime'\n",
    "buildHist(\n",
    "    df.datetime, \n",
    "    'Дата события', \n",
    "    'Количество событий', \n",
    "    'Распределение событий в логах', \n",
    ")"
   ]
  },
  {
   "cell_type": "markdown",
   "metadata": {},
   "source": [
    "*Из гистограммы видно, что наш лог состоит из неполных данных. Резкий подъём графика начинается от середины графика, с **2019-08-01** до **2019-08-07**. То есть мы распологаем данными только за семь дней. Это может быть связано с перекосом данных, вследствии перехода событий из предыдущего периода времени.*"
   ]
  },
  {
   "cell_type": "markdown",
   "metadata": {},
   "source": [
    "Отбросим более старые данные."
   ]
  },
  {
   "cell_type": "code",
   "execution_count": 55,
   "metadata": {},
   "outputs": [
    {
     "data": {
      "text/html": [
       "<div>\n",
       "<style scoped>\n",
       "    .dataframe tbody tr th:only-of-type {\n",
       "        vertical-align: middle;\n",
       "    }\n",
       "\n",
       "    .dataframe tbody tr th {\n",
       "        vertical-align: top;\n",
       "    }\n",
       "\n",
       "    .dataframe thead th {\n",
       "        text-align: right;\n",
       "    }\n",
       "</style>\n",
       "<table border=\"1\" class=\"dataframe\">\n",
       "  <thead>\n",
       "    <tr style=\"text-align: right;\">\n",
       "      <th></th>\n",
       "      <th>event</th>\n",
       "      <th>user</th>\n",
       "      <th>exp_id</th>\n",
       "      <th>datetime</th>\n",
       "      <th>date</th>\n",
       "    </tr>\n",
       "  </thead>\n",
       "  <tbody>\n",
       "    <tr>\n",
       "      <th>0</th>\n",
       "      <td>MainScreenAppear</td>\n",
       "      <td>3737462046622621720</td>\n",
       "      <td>246</td>\n",
       "      <td>2019-08-01 00:08:00</td>\n",
       "      <td>2019-08-01</td>\n",
       "    </tr>\n",
       "    <tr>\n",
       "      <th>1</th>\n",
       "      <td>MainScreenAppear</td>\n",
       "      <td>3737462046622621720</td>\n",
       "      <td>246</td>\n",
       "      <td>2019-08-01 00:08:55</td>\n",
       "      <td>2019-08-01</td>\n",
       "    </tr>\n",
       "    <tr>\n",
       "      <th>2</th>\n",
       "      <td>OffersScreenAppear</td>\n",
       "      <td>3737462046622621720</td>\n",
       "      <td>246</td>\n",
       "      <td>2019-08-01 00:08:58</td>\n",
       "      <td>2019-08-01</td>\n",
       "    </tr>\n",
       "    <tr>\n",
       "      <th>3</th>\n",
       "      <td>MainScreenAppear</td>\n",
       "      <td>1433840883824088890</td>\n",
       "      <td>247</td>\n",
       "      <td>2019-08-01 00:08:59</td>\n",
       "      <td>2019-08-01</td>\n",
       "    </tr>\n",
       "    <tr>\n",
       "      <th>4</th>\n",
       "      <td>MainScreenAppear</td>\n",
       "      <td>4899590676214355127</td>\n",
       "      <td>247</td>\n",
       "      <td>2019-08-01 00:10:15</td>\n",
       "      <td>2019-08-01</td>\n",
       "    </tr>\n",
       "  </tbody>\n",
       "</table>\n",
       "</div>"
      ],
      "text/plain": [
       "                event                 user  exp_id            datetime  \\\n",
       "0    MainScreenAppear  3737462046622621720     246 2019-08-01 00:08:00   \n",
       "1    MainScreenAppear  3737462046622621720     246 2019-08-01 00:08:55   \n",
       "2  OffersScreenAppear  3737462046622621720     246 2019-08-01 00:08:58   \n",
       "3    MainScreenAppear  1433840883824088890     247 2019-08-01 00:08:59   \n",
       "4    MainScreenAppear  4899590676214355127     247 2019-08-01 00:10:15   \n",
       "\n",
       "         date  \n",
       "0  2019-08-01  \n",
       "1  2019-08-01  \n",
       "2  2019-08-01  \n",
       "3  2019-08-01  \n",
       "4  2019-08-01  "
      ]
     },
     "metadata": {},
     "output_type": "display_data"
    },
    {
     "data": {
      "image/png": "[encoded data removed]",
      "text/plain": [
       "<Figure size 1152x432 with 1 Axes>"
      ]
     },
     "metadata": {
      "needs_background": "light"
     },
     "output_type": "display_data"
    }
   ],
   "source": [
    "# определим неполные данные и отбросим их методом shift(), fillna(), dropna()\n",
    "df = df.groupby('date').apply(lambda x: x[(x['datetime'] > '2019-08-01').shift().fillna(False)])\n",
    "df = df.dropna().reset_index(drop=True)\n",
    "\n",
    "display(df.head())\n",
    "\n",
    "# построим гистограму для 'datetime'\n",
    "buildHist(\n",
    "    df.datetime, \n",
    "    'Дата события', \n",
    "    'Количество событий', \n",
    "    'Распределение событий в логах', \n",
    ")"
   ]
  },
  {
   "cell_type": "markdown",
   "metadata": {},
   "source": [
    "Проверим, много ли событий и пользователей потерялось, если отбросить старые данные."
   ]
  },
  {
   "cell_type": "code",
   "execution_count": 56,
   "metadata": {},
   "outputs": [
    {
     "name": "stdout",
     "output_type": "stream",
     "text": [
      "<class 'pandas.core.frame.DataFrame'>\n",
      "RangeIndex: 240880 entries, 0 to 240879\n",
      "Data columns (total 5 columns):\n",
      " #   Column    Non-Null Count   Dtype         \n",
      "---  ------    --------------   -----         \n",
      " 0   event     240880 non-null  object        \n",
      " 1   user      240880 non-null  int64         \n",
      " 2   exp_id    240880 non-null  int64         \n",
      " 3   datetime  240880 non-null  datetime64[ns]\n",
      " 4   date      240880 non-null  object        \n",
      "dtypes: datetime64[ns](1), int64(2), object(2)\n",
      "memory usage: 9.2+ MB\n"
     ]
    }
   ],
   "source": [
    "# выведем общую информацию датафрейма на экран\n",
    "df.info()"
   ]
  },
  {
   "cell_type": "markdown",
   "metadata": {},
   "source": [
    "*По итогам проверки, были отброшены строки до **31 июля 2019 года** включительно, так как количество зарегистрированных событий в этот период, было намного меньше, чем за период с **1 по 7 августа 2019 года**.*\n",
    "\n",
    "*В датафрейме осталось **240880** событий из **243713**, всего мы потеряли **2833** событий или **0.99%**, что не повлияет на результат тестирования.*"
   ]
  },
  {
   "cell_type": "markdown",
   "metadata": {},
   "source": [
    "Проверим, что в датафрейме есть пользователи из всех трёх экспериментальных групп."
   ]
  },
  {
   "cell_type": "code",
   "execution_count": 57,
   "metadata": {
    "scrolled": false
   },
   "outputs": [
    {
     "data": {
      "image/png": "[encoded data removed]",
      "text/plain": [
       "<Figure size 1152x432 with 1 Axes>"
      ]
     },
     "metadata": {
      "needs_background": "light"
     },
     "output_type": "display_data"
    }
   ],
   "source": [
    "# построим гистограму для экспериментальных групп\n",
    "buildBar(\n",
    "    df['exp_id'].value_counts(), \n",
    "    'Номера экспериментальных групп', \n",
    "    'Количество событий', \n",
    "    'Распределение событий в экспериментальных группах', \n",
    ")"
   ]
  },
  {
   "cell_type": "markdown",
   "metadata": {},
   "source": [
    "*По графику распределения событий в группах мы можем видеть, что в датафрейме находятся данные всех групп.*"
   ]
  },
  {
   "cell_type": "markdown",
   "metadata": {},
   "source": [
    "Найдём, сколько всего событий и пользователей в логе. Сколько в среднем событий приходится на одного пользователя."
   ]
  },
  {
   "cell_type": "code",
   "execution_count": 58,
   "metadata": {},
   "outputs": [
    {
     "name": "stdout",
     "output_type": "stream",
     "text": [
      "Количество событий в логе: \u001b[1m 240880 \u001b[0m\n",
      "Количество пользователей в логе: \u001b[1m 7534 \u001b[0m\n",
      "Сколько в среднем событий приходится на пользователя: \u001b[1m 32 \u001b[0m\n"
     ]
    }
   ],
   "source": [
    "# найдём количество событий в логе\n",
    "print('Количество событий в логе:', ClrB, df['event'].count(), ClrD)\n",
    "\n",
    "# найдём количество пользователей в логе\n",
    "print('Количество пользователей в логе:', ClrB, df['user'].value_counts().count(), ClrD)\n",
    "\n",
    "# найдём сколько в среднем событий приходится на пользователя\n",
    "print('Сколько в среднем событий приходится на пользователя:',\n",
    "      ClrB, round(df['event'].count() / df['user'].value_counts().count()), ClrD)"
   ]
  },
  {
   "cell_type": "markdown",
   "metadata": {},
   "source": [
    "<a id=\"num31\"></a>\n",
    "### Вывод\n",
    "\n",
    "1. *В результате проверки, отброшены строки с данными до **31 июля 2019 года** включительно. В датафрейме осталось **240880** событий из **243713**, всего мы потеряли **2833** событий или **0.99%**.*\n",
    "2. *При изучении данных мы определили, что:*\n",
    " * *Количество событий в логе: **240880**.*\n",
    " * *Количество пользователей в логе:  **7534**.*\n",
    " * *Сколько в среднем событий приходится на пользователя:  **32**.*\n",
    " * *В датафрейме находятся данные всех групп*"
   ]
  },
  {
   "cell_type": "markdown",
   "metadata": {},
   "source": [
    "<a id=\"num4\"></a>\n",
    "## Изучение воронки событий"
   ]
  },
  {
   "cell_type": "markdown",
   "metadata": {},
   "source": [
    "Определим: \n",
    "- какие события есть в логах \n",
    "- как часто события встречаются, отсортируем их по частоте \n",
    "- сколько пользователей совершали каждое из этих событий, отсортируем события по числу пользователей\n",
    "- долю пользователей, которые хоть раз совершали событие."
   ]
  },
  {
   "cell_type": "code",
   "execution_count": 59,
   "metadata": {
    "scrolled": false
   },
   "outputs": [
    {
     "data": {
      "text/html": [
       "<div>\n",
       "<style scoped>\n",
       "    .dataframe tbody tr th:only-of-type {\n",
       "        vertical-align: middle;\n",
       "    }\n",
       "\n",
       "    .dataframe tbody tr th {\n",
       "        vertical-align: top;\n",
       "    }\n",
       "\n",
       "    .dataframe thead th {\n",
       "        text-align: right;\n",
       "    }\n",
       "</style>\n",
       "<table border=\"1\" class=\"dataframe\">\n",
       "  <thead>\n",
       "    <tr style=\"text-align: right;\">\n",
       "      <th></th>\n",
       "      <th>События</th>\n",
       "      <th>Количество событий</th>\n",
       "      <th>Количество пользователей</th>\n",
       "      <th>Доля пользователей на событие, %</th>\n",
       "    </tr>\n",
       "  </thead>\n",
       "  <tbody>\n",
       "    <tr>\n",
       "      <th>0</th>\n",
       "      <td>MainScreenAppear</td>\n",
       "      <td>117324</td>\n",
       "      <td>7419</td>\n",
       "      <td>98.47</td>\n",
       "    </tr>\n",
       "    <tr>\n",
       "      <th>1</th>\n",
       "      <td>OffersScreenAppear</td>\n",
       "      <td>46332</td>\n",
       "      <td>4593</td>\n",
       "      <td>60.96</td>\n",
       "    </tr>\n",
       "    <tr>\n",
       "      <th>3</th>\n",
       "      <td>CartScreenAppear</td>\n",
       "      <td>42302</td>\n",
       "      <td>3734</td>\n",
       "      <td>49.56</td>\n",
       "    </tr>\n",
       "    <tr>\n",
       "      <th>4</th>\n",
       "      <td>PaymentScreenSuccessful</td>\n",
       "      <td>33918</td>\n",
       "      <td>3539</td>\n",
       "      <td>46.97</td>\n",
       "    </tr>\n",
       "    <tr>\n",
       "      <th>2</th>\n",
       "      <td>Tutorial</td>\n",
       "      <td>1004</td>\n",
       "      <td>840</td>\n",
       "      <td>11.15</td>\n",
       "    </tr>\n",
       "  </tbody>\n",
       "</table>\n",
       "</div>"
      ],
      "text/plain": [
       "                   События  Количество событий  Количество пользователей  \\\n",
       "0         MainScreenAppear              117324                      7419   \n",
       "1       OffersScreenAppear               46332                      4593   \n",
       "3         CartScreenAppear               42302                      3734   \n",
       "4  PaymentScreenSuccessful               33918                      3539   \n",
       "2                 Tutorial                1004                       840   \n",
       "\n",
       "   Доля пользователей на событие, %  \n",
       "0                             98.47  \n",
       "1                             60.96  \n",
       "3                             49.56  \n",
       "4                             46.97  \n",
       "2                             11.15  "
      ]
     },
     "metadata": {},
     "output_type": "display_data"
    }
   ],
   "source": [
    "# сгруппируем датафрейм по колонке 'event'\n",
    "result = df.groupby('event', sort=False).agg({'event': ['count'], 'user': ['nunique']}).reset_index()\n",
    "result.columns = ['События', 'Количество событий', 'Количество пользователей']\n",
    "result = result.sort_values(by='Количество событий', ascending=False)\n",
    "\n",
    "# посчитаем долю пользователей, которые хоть раз совершали событие\n",
    "result['Доля пользователей на событие, %'] = round(result['Количество пользователей'] / df.user.nunique() * 100, 2)\n",
    "\n",
    "display(result)"
   ]
  },
  {
   "cell_type": "markdown",
   "metadata": {},
   "source": [
    "*В логах находится **243713** событий в **5** вариантах, это:*\n",
    "\n",
    "- **MainScreenAppear** – «Посещение главного экрана» (главаная страница приложения);\n",
    "- **OffersScreenAppear** – «Предложение на главном экране» (каталог);\n",
    "- **CartScreenAppear** – «Появление экрана корзины» (добавление товара в корзину);\n",
    "- **PaymentScreenSuccessful** – «Экран успешной оплаты» (оплата товара);\n",
    "- **Tutorial** – «Руководство».\n",
    "\n",
    "*Вероятно, что пользователи, открыв приложение, попадают на главную страницу приложения (**MainScreenAppear**). Там они должны прочитать руководство пользователя (**Tutorial**), затем перейти в каталог, выбрать (**CartScreenAppear**) и оплатить товар (**PaymentScreenSuccessful**).*\n",
    "\n",
    "*Однако, только часть пользователей проходит последовательно все варианты событий, а часть пользователей по каким-либо причинам вообще не заходит в приложение, так например:*\n",
    "\n",
    "- **MainScreenAppear** – **98,47%** от всех зарегистрированных пользователей попали на главную страницу приложения;\n",
    "- **OffersScreenAppear** – **60,96%** в каталог;\n",
    "- **CartScreenAppear** – **49,56%** добавили товар в корзину;\n",
    "- **PaymentScreenSuccessful** – **46,97%** купили товар;\n",
    "- **Tutorial** – **11,15%** зашли в руководство пользователя.\n",
    "\n",
    "*На практике, «руководство» (**Tutorial**) мало кто читает, такое событие нарушает последовательность событий при расчёте воронки событий. Поэтому, «руководство» мы можем не учитывать при расчёте воронки событий.*"
   ]
  },
  {
   "cell_type": "code",
   "execution_count": 60,
   "metadata": {
    "scrolled": true
   },
   "outputs": [
    {
     "data": {
      "text/html": [
       "<div>\n",
       "<style scoped>\n",
       "    .dataframe tbody tr th:only-of-type {\n",
       "        vertical-align: middle;\n",
       "    }\n",
       "\n",
       "    .dataframe tbody tr th {\n",
       "        vertical-align: top;\n",
       "    }\n",
       "\n",
       "    .dataframe thead th {\n",
       "        text-align: right;\n",
       "    }\n",
       "</style>\n",
       "<table border=\"1\" class=\"dataframe\">\n",
       "  <thead>\n",
       "    <tr style=\"text-align: right;\">\n",
       "      <th></th>\n",
       "      <th>События</th>\n",
       "      <th>Количество событий</th>\n",
       "      <th>Количество пользователей</th>\n",
       "      <th>Доля пользователей на событие, %</th>\n",
       "    </tr>\n",
       "  </thead>\n",
       "  <tbody>\n",
       "    <tr>\n",
       "      <th>0</th>\n",
       "      <td>MainScreenAppear</td>\n",
       "      <td>117324</td>\n",
       "      <td>7419</td>\n",
       "      <td>98.53</td>\n",
       "    </tr>\n",
       "    <tr>\n",
       "      <th>1</th>\n",
       "      <td>OffersScreenAppear</td>\n",
       "      <td>46332</td>\n",
       "      <td>4593</td>\n",
       "      <td>61.00</td>\n",
       "    </tr>\n",
       "    <tr>\n",
       "      <th>2</th>\n",
       "      <td>CartScreenAppear</td>\n",
       "      <td>42302</td>\n",
       "      <td>3734</td>\n",
       "      <td>49.59</td>\n",
       "    </tr>\n",
       "    <tr>\n",
       "      <th>3</th>\n",
       "      <td>PaymentScreenSuccessful</td>\n",
       "      <td>33918</td>\n",
       "      <td>3539</td>\n",
       "      <td>47.00</td>\n",
       "    </tr>\n",
       "  </tbody>\n",
       "</table>\n",
       "</div>"
      ],
      "text/plain": [
       "                   События  Количество событий  Количество пользователей  \\\n",
       "0         MainScreenAppear              117324                      7419   \n",
       "1       OffersScreenAppear               46332                      4593   \n",
       "2         CartScreenAppear               42302                      3734   \n",
       "3  PaymentScreenSuccessful               33918                      3539   \n",
       "\n",
       "   Доля пользователей на событие, %  \n",
       "0                             98.53  \n",
       "1                             61.00  \n",
       "2                             49.59  \n",
       "3                             47.00  "
      ]
     },
     "metadata": {},
     "output_type": "display_data"
    }
   ],
   "source": [
    "# исключим «руководство» из датафрейма\n",
    "df = df[df['event'] != 'Tutorial']\n",
    "\n",
    "# перепишем таблицу\n",
    "result = df.groupby('event', sort=False).agg({'event': ['count'], 'user': ['nunique']}).reset_index()\n",
    "result.columns = ['События', 'Количество событий', 'Количество пользователей']\n",
    "result = result.sort_values(by='Количество событий', ascending=False)\n",
    "# посчитаем долю пользователей, которые хоть раз совершали событие\n",
    "result['Доля пользователей на событие, %'] = round(result['Количество пользователей'] / df.user.nunique() * 100, 2)\n",
    "\n",
    "display(result)"
   ]
  },
  {
   "cell_type": "markdown",
   "metadata": {},
   "source": [
    "Построим диаграмму воронки событий."
   ]
  },
  {
   "cell_type": "code",
   "execution_count": 61,
   "metadata": {
    "scrolled": false
   },
   "outputs": [
    {
     "data": {
      "application/vnd.plotly.v1+json": {
       "config": {
        "plotlyServerURL": "https://plot.ly"
       },
       "data": [
        {
         "marker": {
          "color": [
           "#3366cc",
           "#dc3912",
           "#ff9900",
           "#109618",
           "#990099"
          ],
          "line": {
           "color": [
            "wheat",
            "blue",
            "wheat",
            "wheat",
            "wheat"
           ],
           "width": [
            4,
            2,
            2,
            3,
            1,
            1
           ]
          }
         },
         "textinfo": "value+percent initial",
         "type": "funnel",
         "x": [
          7419,
          4593,
          3734,
          3539
         ],
         "y": [
          "Посещение главного экрана",
          "Предложение на главном экране",
          "Появление экрана корзины",
          "Экран успешной оплаты"
         ]
        }
       ],
       "layout": {
        "template": {
         "data": {
          "bar": [
           {
            "error_x": {
             "color": "rgb(36,36,36)"
            },
            "error_y": {
             "color": "rgb(36,36,36)"
            },
            "marker": {
             "line": {
              "color": "white",
              "width": 0.5
             },
             "pattern": {
              "fillmode": "overlay",
              "size": 10,
              "solidity": 0.2
             }
            },
            "type": "bar"
           }
          ],
          "barpolar": [
           {
            "marker": {
             "line": {
              "color": "white",
              "width": 0.5
             },
             "pattern": {
              "fillmode": "overlay",
              "size": 10,
              "solidity": 0.2
             }
            },
            "type": "barpolar"
           }
          ],
          "carpet": [
           {
            "aaxis": {
             "endlinecolor": "rgb(36,36,36)",
             "gridcolor": "white",
             "linecolor": "white",
             "minorgridcolor": "white",
             "startlinecolor": "rgb(36,36,36)"
            },
            "baxis": {
             "endlinecolor": "rgb(36,36,36)",
             "gridcolor": "white",
             "linecolor": "white",
             "minorgridcolor": "white",
             "startlinecolor": "rgb(36,36,36)"
            },
            "type": "carpet"
           }
          ],
          "choropleth": [
           {
            "colorbar": {
             "outlinewidth": 1,
             "tickcolor": "rgb(36,36,36)",
             "ticks": "outside"
            },
            "type": "choropleth"
           }
          ],
          "contour": [
           {
            "colorbar": {
             "outlinewidth": 1,
             "tickcolor": "rgb(36,36,36)",
             "ticks": "outside"
            },
            "colorscale": [
             [
              0,
              "#440154"
             ],
             [
              0.1111111111111111,
              "#482878"
             ],
             [
              0.2222222222222222,
              "#3e4989"
             ],
             [
              0.3333333333333333,
              "#31688e"
             ],
             [
              0.4444444444444444,
              "#26828e"
             ],
             [
              0.5555555555555556,
              "#1f9e89"
             ],
             [
              0.6666666666666666,
              "#35b779"
             ],
             [
              0.7777777777777778,
              "#6ece58"
             ],
             [
              0.8888888888888888,
              "#b5de2b"
             ],
             [
              1,
              "#fde725"
             ]
            ],
            "type": "contour"
           }
          ],
          "contourcarpet": [
           {
            "colorbar": {
             "outlinewidth": 1,
             "tickcolor": "rgb(36,36,36)",
             "ticks": "outside"
            },
            "type": "contourcarpet"
           }
          ],
          "heatmap": [
           {
            "colorbar": {
             "outlinewidth": 1,
             "tickcolor": "rgb(36,36,36)",
             "ticks": "outside"
            },
            "colorscale": [
             [
              0,
              "#440154"
             ],
             [
              0.1111111111111111,
              "#482878"
             ],
             [
              0.2222222222222222,
              "#3e4989"
             ],
             [
              0.3333333333333333,
              "#31688e"
             ],
             [
              0.4444444444444444,
              "#26828e"
             ],
             [
              0.5555555555555556,
              "#1f9e89"
             ],
             [
              0.6666666666666666,
              "#35b779"
             ],
             [
              0.7777777777777778,
              "#6ece58"
             ],
             [
              0.8888888888888888,
              "#b5de2b"
             ],
             [
              1,
              "#fde725"
             ]
            ],
            "type": "heatmap"
           }
          ],
          "heatmapgl": [
           {
            "colorbar": {
             "outlinewidth": 1,
             "tickcolor": "rgb(36,36,36)",
             "ticks": "outside"
            },
            "colorscale": [
             [
              0,
              "#440154"
             ],
             [
              0.1111111111111111,
              "#482878"
             ],
             [
              0.2222222222222222,
              "#3e4989"
             ],
             [
              0.3333333333333333,
              "#31688e"
             ],
             [
              0.4444444444444444,
              "#26828e"
             ],
             [
              0.5555555555555556,
              "#1f9e89"
             ],
             [
              0.6666666666666666,
              "#35b779"
             ],
             [
              0.7777777777777778,
              "#6ece58"
             ],
             [
              0.8888888888888888,
              "#b5de2b"
             ],
             [
              1,
              "#fde725"
             ]
            ],
            "type": "heatmapgl"
           }
          ],
          "histogram": [
           {
            "marker": {
             "line": {
              "color": "white",
              "width": 0.6
             }
            },
            "type": "histogram"
           }
          ],
          "histogram2d": [
           {
            "colorbar": {
             "outlinewidth": 1,
             "tickcolor": "rgb(36,36,36)",
             "ticks": "outside"
            },
            "colorscale": [
             [
              0,
              "#440154"
             ],
             [
              0.1111111111111111,
              "#482878"
             ],
             [
              0.2222222222222222,
              "#3e4989"
             ],
             [
              0.3333333333333333,
              "#31688e"
             ],
             [
              0.4444444444444444,
              "#26828e"
             ],
             [
              0.5555555555555556,
              "#1f9e89"
             ],
             [
              0.6666666666666666,
              "#35b779"
             ],
             [
              0.7777777777777778,
              "#6ece58"
             ],
             [
              0.8888888888888888,
              "#b5de2b"
             ],
             [
              1,
              "#fde725"
             ]
            ],
            "type": "histogram2d"
           }
          ],
          "histogram2dcontour": [
           {
            "colorbar": {
             "outlinewidth": 1,
             "tickcolor": "rgb(36,36,36)",
             "ticks": "outside"
            },
            "colorscale": [
             [
              0,
              "#440154"
             ],
             [
              0.1111111111111111,
              "#482878"
             ],
             [
              0.2222222222222222,
              "#3e4989"
             ],
             [
              0.3333333333333333,
              "#31688e"
             ],
             [
              0.4444444444444444,
              "#26828e"
             ],
             [
              0.5555555555555556,
              "#1f9e89"
             ],
             [
              0.6666666666666666,
              "#35b779"
             ],
             [
              0.7777777777777778,
              "#6ece58"
             ],
             [
              0.8888888888888888,
              "#b5de2b"
             ],
             [
              1,
              "#fde725"
             ]
            ],
            "type": "histogram2dcontour"
           }
          ],
          "mesh3d": [
           {
            "colorbar": {
             "outlinewidth": 1,
             "tickcolor": "rgb(36,36,36)",
             "ticks": "outside"
            },
            "type": "mesh3d"
           }
          ],
          "parcoords": [
           {
            "line": {
             "colorbar": {
              "outlinewidth": 1,
              "tickcolor": "rgb(36,36,36)",
              "ticks": "outside"
             }
            },
            "type": "parcoords"
           }
          ],
          "pie": [
           {
            "automargin": true,
            "type": "pie"
           }
          ],
          "scatter": [
           {
            "fillpattern": {
             "fillmode": "overlay",
             "size": 10,
             "solidity": 0.2
            },
            "type": "scatter"
           }
          ],
          "scatter3d": [
           {
            "line": {
             "colorbar": {
              "outlinewidth": 1,
              "tickcolor": "rgb(36,36,36)",
              "ticks": "outside"
             }
            },
            "marker": {
             "colorbar": {
              "outlinewidth": 1,
              "tickcolor": "rgb(36,36,36)",
              "ticks": "outside"
             }
            },
            "type": "scatter3d"
           }
          ],
          "scattercarpet": [
           {
            "marker": {
             "colorbar": {
              "outlinewidth": 1,
              "tickcolor": "rgb(36,36,36)",
              "ticks": "outside"
             }
            },
            "type": "scattercarpet"
           }
          ],
          "scattergeo": [
           {
            "marker": {
             "colorbar": {
              "outlinewidth": 1,
              "tickcolor": "rgb(36,36,36)",
              "ticks": "outside"
             }
            },
            "type": "scattergeo"
           }
          ],
          "scattergl": [
           {
            "marker": {
             "colorbar": {
              "outlinewidth": 1,
              "tickcolor": "rgb(36,36,36)",
              "ticks": "outside"
             }
            },
            "type": "scattergl"
           }
          ],
          "scattermapbox": [
           {
            "marker": {
             "colorbar": {
              "outlinewidth": 1,
              "tickcolor": "rgb(36,36,36)",
              "ticks": "outside"
             }
            },
            "type": "scattermapbox"
           }
          ],
          "scatterpolar": [
           {
            "marker": {
             "colorbar": {
              "outlinewidth": 1,
              "tickcolor": "rgb(36,36,36)",
              "ticks": "outside"
             }
            },
            "type": "scatterpolar"
           }
          ],
          "scatterpolargl": [
           {
            "marker": {
             "colorbar": {
              "outlinewidth": 1,
              "tickcolor": "rgb(36,36,36)",
              "ticks": "outside"
             }
            },
            "type": "scatterpolargl"
           }
          ],
          "scatterternary": [
           {
            "marker": {
             "colorbar": {
              "outlinewidth": 1,
              "tickcolor": "rgb(36,36,36)",
              "ticks": "outside"
             }
            },
            "type": "scatterternary"
           }
          ],
          "surface": [
           {
            "colorbar": {
             "outlinewidth": 1,
             "tickcolor": "rgb(36,36,36)",
             "ticks": "outside"
            },
            "colorscale": [
             [
              0,
              "#440154"
             ],
             [
              0.1111111111111111,
              "#482878"
             ],
             [
              0.2222222222222222,
              "#3e4989"
             ],
             [
              0.3333333333333333,
              "#31688e"
             ],
             [
              0.4444444444444444,
              "#26828e"
             ],
             [
              0.5555555555555556,
              "#1f9e89"
             ],
             [
              0.6666666666666666,
              "#35b779"
             ],
             [
              0.7777777777777778,
              "#6ece58"
             ],
             [
              0.8888888888888888,
              "#b5de2b"
             ],
             [
              1,
              "#fde725"
             ]
            ],
            "type": "surface"
           }
          ],
          "table": [
           {
            "cells": {
             "fill": {
              "color": "rgb(237,237,237)"
             },
             "line": {
              "color": "white"
             }
            },
            "header": {
             "fill": {
              "color": "rgb(217,217,217)"
             },
             "line": {
              "color": "white"
             }
            },
            "type": "table"
           }
          ]
         },
         "layout": {
          "annotationdefaults": {
           "arrowhead": 0,
           "arrowwidth": 1
          },
          "autotypenumbers": "strict",
          "coloraxis": {
           "colorbar": {
            "outlinewidth": 1,
            "tickcolor": "rgb(36,36,36)",
            "ticks": "outside"
           }
          },
          "colorscale": {
           "diverging": [
            [
             0,
             "rgb(103,0,31)"
            ],
            [
             0.1,
             "rgb(178,24,43)"
            ],
            [
             0.2,
             "rgb(214,96,77)"
            ],
            [
             0.3,
             "rgb(244,165,130)"
            ],
            [
             0.4,
             "rgb(253,219,199)"
            ],
            [
             0.5,
             "rgb(247,247,247)"
            ],
            [
             0.6,
             "rgb(209,229,240)"
            ],
            [
             0.7,
             "rgb(146,197,222)"
            ],
            [
             0.8,
             "rgb(67,147,195)"
            ],
            [
             0.9,
             "rgb(33,102,172)"
            ],
            [
             1,
             "rgb(5,48,97)"
            ]
           ],
           "sequential": [
            [
             0,
             "#440154"
            ],
            [
             0.1111111111111111,
             "#482878"
            ],
            [
             0.2222222222222222,
             "#3e4989"
            ],
            [
             0.3333333333333333,
             "#31688e"
            ],
            [
             0.4444444444444444,
             "#26828e"
            ],
            [
             0.5555555555555556,
             "#1f9e89"
            ],
            [
             0.6666666666666666,
             "#35b779"
            ],
            [
             0.7777777777777778,
             "#6ece58"
            ],
            [
             0.8888888888888888,
             "#b5de2b"
            ],
            [
             1,
             "#fde725"
            ]
           ],
           "sequentialminus": [
            [
             0,
             "#440154"
            ],
            [
             0.1111111111111111,
             "#482878"
            ],
            [
             0.2222222222222222,
             "#3e4989"
            ],
            [
             0.3333333333333333,
             "#31688e"
            ],
            [
             0.4444444444444444,
             "#26828e"
            ],
            [
             0.5555555555555556,
             "#1f9e89"
            ],
            [
             0.6666666666666666,
             "#35b779"
            ],
            [
             0.7777777777777778,
             "#6ece58"
            ],
            [
             0.8888888888888888,
             "#b5de2b"
            ],
            [
             1,
             "#fde725"
            ]
           ]
          },
          "colorway": [
           "#1F77B4",
           "#FF7F0E",
           "#2CA02C",
           "#D62728",
           "#9467BD",
           "#8C564B",
           "#E377C2",
           "#7F7F7F",
           "#BCBD22",
           "#17BECF"
          ],
          "font": {
           "color": "rgb(36,36,36)"
          },
          "geo": {
           "bgcolor": "white",
           "lakecolor": "white",
           "landcolor": "white",
           "showlakes": true,
           "showland": true,
           "subunitcolor": "white"
          },
          "hoverlabel": {
           "align": "left"
          },
          "hovermode": "closest",
          "mapbox": {
           "style": "light"
          },
          "paper_bgcolor": "white",
          "plot_bgcolor": "white",
          "polar": {
           "angularaxis": {
            "gridcolor": "rgb(232,232,232)",
            "linecolor": "rgb(36,36,36)",
            "showgrid": false,
            "showline": true,
            "ticks": "outside"
           },
           "bgcolor": "white",
           "radialaxis": {
            "gridcolor": "rgb(232,232,232)",
            "linecolor": "rgb(36,36,36)",
            "showgrid": false,
            "showline": true,
            "ticks": "outside"
           }
          },
          "scene": {
           "xaxis": {
            "backgroundcolor": "white",
            "gridcolor": "rgb(232,232,232)",
            "gridwidth": 2,
            "linecolor": "rgb(36,36,36)",
            "showbackground": true,
            "showgrid": false,
            "showline": true,
            "ticks": "outside",
            "zeroline": false,
            "zerolinecolor": "rgb(36,36,36)"
           },
           "yaxis": {
            "backgroundcolor": "white",
            "gridcolor": "rgb(232,232,232)",
            "gridwidth": 2,
            "linecolor": "rgb(36,36,36)",
            "showbackground": true,
            "showgrid": false,
            "showline": true,
            "ticks": "outside",
            "zeroline": false,
            "zerolinecolor": "rgb(36,36,36)"
           },
           "zaxis": {
            "backgroundcolor": "white",
            "gridcolor": "rgb(232,232,232)",
            "gridwidth": 2,
            "linecolor": "rgb(36,36,36)",
            "showbackground": true,
            "showgrid": false,
            "showline": true,
            "ticks": "outside",
            "zeroline": false,
            "zerolinecolor": "rgb(36,36,36)"
           }
          },
          "shapedefaults": {
           "fillcolor": "black",
           "line": {
            "width": 0
           },
           "opacity": 0.3
          },
          "ternary": {
           "aaxis": {
            "gridcolor": "rgb(232,232,232)",
            "linecolor": "rgb(36,36,36)",
            "showgrid": false,
            "showline": true,
            "ticks": "outside"
           },
           "baxis": {
            "gridcolor": "rgb(232,232,232)",
            "linecolor": "rgb(36,36,36)",
            "showgrid": false,
            "showline": true,
            "ticks": "outside"
           },
           "bgcolor": "white",
           "caxis": {
            "gridcolor": "rgb(232,232,232)",
            "linecolor": "rgb(36,36,36)",
            "showgrid": false,
            "showline": true,
            "ticks": "outside"
           }
          },
          "title": {
           "x": 0.05
          },
          "xaxis": {
           "automargin": true,
           "gridcolor": "rgb(232,232,232)",
           "linecolor": "rgb(36,36,36)",
           "showgrid": false,
           "showline": true,
           "ticks": "outside",
           "title": {
            "standoff": 15
           },
           "zeroline": false,
           "zerolinecolor": "rgb(36,36,36)"
          },
          "yaxis": {
           "automargin": true,
           "gridcolor": "rgb(232,232,232)",
           "linecolor": "rgb(36,36,36)",
           "showgrid": false,
           "showline": true,
           "ticks": "outside",
           "title": {
            "standoff": 15
           },
           "zeroline": false,
           "zerolinecolor": "rgb(36,36,36)"
          }
         }
        },
        "title": {
         "text": "<b>Воронка событий в приложении.</b>"
        }
       }
      },
      "text/html": [
       "<div>                            <div id=\"cac341fa-4420-423d-95dc-d680ec81ae45\" class=\"plotly-graph-div\" style=\"height:525px; width:100%;\"></div>            <script type=\"text/javascript\">                require([\"plotly\"], function(Plotly) {                    window.PLOTLYENV=window.PLOTLYENV || {};                                    if (document.getElementById(\"cac341fa-4420-423d-95dc-d680ec81ae45\")) {                    Plotly.newPlot(                        \"cac341fa-4420-423d-95dc-d680ec81ae45\",                        [{\"marker\":{\"color\":[\"#3366cc\",\"#dc3912\",\"#ff9900\",\"#109618\",\"#990099\"],\"line\":{\"color\":[\"wheat\",\"blue\",\"wheat\",\"wheat\",\"wheat\"],\"width\":[4,2,2,3,1,1]}},\"textinfo\":\"value+percent initial\",\"x\":[7419,4593,3734,3539],\"y\":[\"\\u041f\\u043e\\u0441\\u0435\\u0449\\u0435\\u043d\\u0438\\u0435 \\u0433\\u043b\\u0430\\u0432\\u043d\\u043e\\u0433\\u043e \\u044d\\u043a\\u0440\\u0430\\u043d\\u0430\",\"\\u041f\\u0440\\u0435\\u0434\\u043b\\u043e\\u0436\\u0435\\u043d\\u0438\\u0435 \\u043d\\u0430 \\u0433\\u043b\\u0430\\u0432\\u043d\\u043e\\u043c \\u044d\\u043a\\u0440\\u0430\\u043d\\u0435\",\"\\u041f\\u043e\\u044f\\u0432\\u043b\\u0435\\u043d\\u0438\\u0435 \\u044d\\u043a\\u0440\\u0430\\u043d\\u0430 \\u043a\\u043e\\u0440\\u0437\\u0438\\u043d\\u044b\",\"\\u042d\\u043a\\u0440\\u0430\\u043d \\u0443\\u0441\\u043f\\u0435\\u0448\\u043d\\u043e\\u0439 \\u043e\\u043f\\u043b\\u0430\\u0442\\u044b\"],\"type\":\"funnel\"}],                        {\"template\":{\"data\":{\"barpolar\":[{\"marker\":{\"line\":{\"color\":\"white\",\"width\":0.5},\"pattern\":{\"fillmode\":\"overlay\",\"size\":10,\"solidity\":0.2}},\"type\":\"barpolar\"}],\"bar\":[{\"error_x\":{\"color\":\"rgb(36,36,36)\"},\"error_y\":{\"color\":\"rgb(36,36,36)\"},\"marker\":{\"line\":{\"color\":\"white\",\"width\":0.5},\"pattern\":{\"fillmode\":\"overlay\",\"size\":10,\"solidity\":0.2}},\"type\":\"bar\"}],\"carpet\":[{\"aaxis\":{\"endlinecolor\":\"rgb(36,36,36)\",\"gridcolor\":\"white\",\"linecolor\":\"white\",\"minorgridcolor\":\"white\",\"startlinecolor\":\"rgb(36,36,36)\"},\"baxis\":{\"endlinecolor\":\"rgb(36,36,36)\",\"gridcolor\":\"white\",\"linecolor\":\"white\",\"minorgridcolor\":\"white\",\"startlinecolor\":\"rgb(36,36,36)\"},\"type\":\"carpet\"}],\"choropleth\":[{\"colorbar\":{\"outlinewidth\":1,\"tickcolor\":\"rgb(36,36,36)\",\"ticks\":\"outside\"},\"type\":\"choropleth\"}],\"contourcarpet\":[{\"colorbar\":{\"outlinewidth\":1,\"tickcolor\":\"rgb(36,36,36)\",\"ticks\":\"outside\"},\"type\":\"contourcarpet\"}],\"contour\":[{\"colorbar\":{\"outlinewidth\":1,\"tickcolor\":\"rgb(36,36,36)\",\"ticks\":\"outside\"},\"colorscale\":[[0.0,\"#440154\"],[0.1111111111111111,\"#482878\"],[0.2222222222222222,\"#3e4989\"],[0.3333333333333333,\"#31688e\"],[0.4444444444444444,\"#26828e\"],[0.5555555555555556,\"#1f9e89\"],[0.6666666666666666,\"#35b779\"],[0.7777777777777778,\"#6ece58\"],[0.8888888888888888,\"#b5de2b\"],[1.0,\"#fde725\"]],\"type\":\"contour\"}],\"heatmapgl\":[{\"colorbar\":{\"outlinewidth\":1,\"tickcolor\":\"rgb(36,36,36)\",\"ticks\":\"outside\"},\"colorscale\":[[0.0,\"#440154\"],[0.1111111111111111,\"#482878\"],[0.2222222222222222,\"#3e4989\"],[0.3333333333333333,\"#31688e\"],[0.4444444444444444,\"#26828e\"],[0.5555555555555556,\"#1f9e89\"],[0.6666666666666666,\"#35b779\"],[0.7777777777777778,\"#6ece58\"],[0.8888888888888888,\"#b5de2b\"],[1.0,\"#fde725\"]],\"type\":\"heatmapgl\"}],\"heatmap\":[{\"colorbar\":{\"outlinewidth\":1,\"tickcolor\":\"rgb(36,36,36)\",\"ticks\":\"outside\"},\"colorscale\":[[0.0,\"#440154\"],[0.1111111111111111,\"#482878\"],[0.2222222222222222,\"#3e4989\"],[0.3333333333333333,\"#31688e\"],[0.4444444444444444,\"#26828e\"],[0.5555555555555556,\"#1f9e89\"],[0.6666666666666666,\"#35b779\"],[0.7777777777777778,\"#6ece58\"],[0.8888888888888888,\"#b5de2b\"],[1.0,\"#fde725\"]],\"type\":\"heatmap\"}],\"histogram2dcontour\":[{\"colorbar\":{\"outlinewidth\":1,\"tickcolor\":\"rgb(36,36,36)\",\"ticks\":\"outside\"},\"colorscale\":[[0.0,\"#440154\"],[0.1111111111111111,\"#482878\"],[0.2222222222222222,\"#3e4989\"],[0.3333333333333333,\"#31688e\"],[0.4444444444444444,\"#26828e\"],[0.5555555555555556,\"#1f9e89\"],[0.6666666666666666,\"#35b779\"],[0.7777777777777778,\"#6ece58\"],[0.8888888888888888,\"#b5de2b\"],[1.0,\"#fde725\"]],\"type\":\"histogram2dcontour\"}],\"histogram2d\":[{\"colorbar\":{\"outlinewidth\":1,\"tickcolor\":\"rgb(36,36,36)\",\"ticks\":\"outside\"},\"colorscale\":[[0.0,\"#440154\"],[0.1111111111111111,\"#482878\"],[0.2222222222222222,\"#3e4989\"],[0.3333333333333333,\"#31688e\"],[0.4444444444444444,\"#26828e\"],[0.5555555555555556,\"#1f9e89\"],[0.6666666666666666,\"#35b779\"],[0.7777777777777778,\"#6ece58\"],[0.8888888888888888,\"#b5de2b\"],[1.0,\"#fde725\"]],\"type\":\"histogram2d\"}],\"histogram\":[{\"marker\":{\"line\":{\"color\":\"white\",\"width\":0.6}},\"type\":\"histogram\"}],\"mesh3d\":[{\"colorbar\":{\"outlinewidth\":1,\"tickcolor\":\"rgb(36,36,36)\",\"ticks\":\"outside\"},\"type\":\"mesh3d\"}],\"parcoords\":[{\"line\":{\"colorbar\":{\"outlinewidth\":1,\"tickcolor\":\"rgb(36,36,36)\",\"ticks\":\"outside\"}},\"type\":\"parcoords\"}],\"pie\":[{\"automargin\":true,\"type\":\"pie\"}],\"scatter3d\":[{\"line\":{\"colorbar\":{\"outlinewidth\":1,\"tickcolor\":\"rgb(36,36,36)\",\"ticks\":\"outside\"}},\"marker\":{\"colorbar\":{\"outlinewidth\":1,\"tickcolor\":\"rgb(36,36,36)\",\"ticks\":\"outside\"}},\"type\":\"scatter3d\"}],\"scattercarpet\":[{\"marker\":{\"colorbar\":{\"outlinewidth\":1,\"tickcolor\":\"rgb(36,36,36)\",\"ticks\":\"outside\"}},\"type\":\"scattercarpet\"}],\"scattergeo\":[{\"marker\":{\"colorbar\":{\"outlinewidth\":1,\"tickcolor\":\"rgb(36,36,36)\",\"ticks\":\"outside\"}},\"type\":\"scattergeo\"}],\"scattergl\":[{\"marker\":{\"colorbar\":{\"outlinewidth\":1,\"tickcolor\":\"rgb(36,36,36)\",\"ticks\":\"outside\"}},\"type\":\"scattergl\"}],\"scattermapbox\":[{\"marker\":{\"colorbar\":{\"outlinewidth\":1,\"tickcolor\":\"rgb(36,36,36)\",\"ticks\":\"outside\"}},\"type\":\"scattermapbox\"}],\"scatterpolargl\":[{\"marker\":{\"colorbar\":{\"outlinewidth\":1,\"tickcolor\":\"rgb(36,36,36)\",\"ticks\":\"outside\"}},\"type\":\"scatterpolargl\"}],\"scatterpolar\":[{\"marker\":{\"colorbar\":{\"outlinewidth\":1,\"tickcolor\":\"rgb(36,36,36)\",\"ticks\":\"outside\"}},\"type\":\"scatterpolar\"}],\"scatter\":[{\"fillpattern\":{\"fillmode\":\"overlay\",\"size\":10,\"solidity\":0.2},\"type\":\"scatter\"}],\"scatterternary\":[{\"marker\":{\"colorbar\":{\"outlinewidth\":1,\"tickcolor\":\"rgb(36,36,36)\",\"ticks\":\"outside\"}},\"type\":\"scatterternary\"}],\"surface\":[{\"colorbar\":{\"outlinewidth\":1,\"tickcolor\":\"rgb(36,36,36)\",\"ticks\":\"outside\"},\"colorscale\":[[0.0,\"#440154\"],[0.1111111111111111,\"#482878\"],[0.2222222222222222,\"#3e4989\"],[0.3333333333333333,\"#31688e\"],[0.4444444444444444,\"#26828e\"],[0.5555555555555556,\"#1f9e89\"],[0.6666666666666666,\"#35b779\"],[0.7777777777777778,\"#6ece58\"],[0.8888888888888888,\"#b5de2b\"],[1.0,\"#fde725\"]],\"type\":\"surface\"}],\"table\":[{\"cells\":{\"fill\":{\"color\":\"rgb(237,237,237)\"},\"line\":{\"color\":\"white\"}},\"header\":{\"fill\":{\"color\":\"rgb(217,217,217)\"},\"line\":{\"color\":\"white\"}},\"type\":\"table\"}]},\"layout\":{\"annotationdefaults\":{\"arrowhead\":0,\"arrowwidth\":1},\"autotypenumbers\":\"strict\",\"coloraxis\":{\"colorbar\":{\"outlinewidth\":1,\"tickcolor\":\"rgb(36,36,36)\",\"ticks\":\"outside\"}},\"colorscale\":{\"diverging\":[[0.0,\"rgb(103,0,31)\"],[0.1,\"rgb(178,24,43)\"],[0.2,\"rgb(214,96,77)\"],[0.3,\"rgb(244,165,130)\"],[0.4,\"rgb(253,219,199)\"],[0.5,\"rgb(247,247,247)\"],[0.6,\"rgb(209,229,240)\"],[0.7,\"rgb(146,197,222)\"],[0.8,\"rgb(67,147,195)\"],[0.9,\"rgb(33,102,172)\"],[1.0,\"rgb(5,48,97)\"]],\"sequential\":[[0.0,\"#440154\"],[0.1111111111111111,\"#482878\"],[0.2222222222222222,\"#3e4989\"],[0.3333333333333333,\"#31688e\"],[0.4444444444444444,\"#26828e\"],[0.5555555555555556,\"#1f9e89\"],[0.6666666666666666,\"#35b779\"],[0.7777777777777778,\"#6ece58\"],[0.8888888888888888,\"#b5de2b\"],[1.0,\"#fde725\"]],\"sequentialminus\":[[0.0,\"#440154\"],[0.1111111111111111,\"#482878\"],[0.2222222222222222,\"#3e4989\"],[0.3333333333333333,\"#31688e\"],[0.4444444444444444,\"#26828e\"],[0.5555555555555556,\"#1f9e89\"],[0.6666666666666666,\"#35b779\"],[0.7777777777777778,\"#6ece58\"],[0.8888888888888888,\"#b5de2b\"],[1.0,\"#fde725\"]]},\"colorway\":[\"#1F77B4\",\"#FF7F0E\",\"#2CA02C\",\"#D62728\",\"#9467BD\",\"#8C564B\",\"#E377C2\",\"#7F7F7F\",\"#BCBD22\",\"#17BECF\"],\"font\":{\"color\":\"rgb(36,36,36)\"},\"geo\":{\"bgcolor\":\"white\",\"lakecolor\":\"white\",\"landcolor\":\"white\",\"showlakes\":true,\"showland\":true,\"subunitcolor\":\"white\"},\"hoverlabel\":{\"align\":\"left\"},\"hovermode\":\"closest\",\"mapbox\":{\"style\":\"light\"},\"paper_bgcolor\":\"white\",\"plot_bgcolor\":\"white\",\"polar\":{\"angularaxis\":{\"gridcolor\":\"rgb(232,232,232)\",\"linecolor\":\"rgb(36,36,36)\",\"showgrid\":false,\"showline\":true,\"ticks\":\"outside\"},\"bgcolor\":\"white\",\"radialaxis\":{\"gridcolor\":\"rgb(232,232,232)\",\"linecolor\":\"rgb(36,36,36)\",\"showgrid\":false,\"showline\":true,\"ticks\":\"outside\"}},\"scene\":{\"xaxis\":{\"backgroundcolor\":\"white\",\"gridcolor\":\"rgb(232,232,232)\",\"gridwidth\":2,\"linecolor\":\"rgb(36,36,36)\",\"showbackground\":true,\"showgrid\":false,\"showline\":true,\"ticks\":\"outside\",\"zeroline\":false,\"zerolinecolor\":\"rgb(36,36,36)\"},\"yaxis\":{\"backgroundcolor\":\"white\",\"gridcolor\":\"rgb(232,232,232)\",\"gridwidth\":2,\"linecolor\":\"rgb(36,36,36)\",\"showbackground\":true,\"showgrid\":false,\"showline\":true,\"ticks\":\"outside\",\"zeroline\":false,\"zerolinecolor\":\"rgb(36,36,36)\"},\"zaxis\":{\"backgroundcolor\":\"white\",\"gridcolor\":\"rgb(232,232,232)\",\"gridwidth\":2,\"linecolor\":\"rgb(36,36,36)\",\"showbackground\":true,\"showgrid\":false,\"showline\":true,\"ticks\":\"outside\",\"zeroline\":false,\"zerolinecolor\":\"rgb(36,36,36)\"}},\"shapedefaults\":{\"fillcolor\":\"black\",\"line\":{\"width\":0},\"opacity\":0.3},\"ternary\":{\"aaxis\":{\"gridcolor\":\"rgb(232,232,232)\",\"linecolor\":\"rgb(36,36,36)\",\"showgrid\":false,\"showline\":true,\"ticks\":\"outside\"},\"baxis\":{\"gridcolor\":\"rgb(232,232,232)\",\"linecolor\":\"rgb(36,36,36)\",\"showgrid\":false,\"showline\":true,\"ticks\":\"outside\"},\"bgcolor\":\"white\",\"caxis\":{\"gridcolor\":\"rgb(232,232,232)\",\"linecolor\":\"rgb(36,36,36)\",\"showgrid\":false,\"showline\":true,\"ticks\":\"outside\"}},\"title\":{\"x\":0.05},\"xaxis\":{\"automargin\":true,\"gridcolor\":\"rgb(232,232,232)\",\"linecolor\":\"rgb(36,36,36)\",\"showgrid\":false,\"showline\":true,\"ticks\":\"outside\",\"title\":{\"standoff\":15},\"zeroline\":false,\"zerolinecolor\":\"rgb(36,36,36)\"},\"yaxis\":{\"automargin\":true,\"gridcolor\":\"rgb(232,232,232)\",\"linecolor\":\"rgb(36,36,36)\",\"showgrid\":false,\"showline\":true,\"ticks\":\"outside\",\"title\":{\"standoff\":15},\"zeroline\":false,\"zerolinecolor\":\"rgb(36,36,36)\"}}},\"title\":{\"text\":\"<b>\\u0412\\u043e\\u0440\\u043e\\u043d\\u043a\\u0430 \\u0441\\u043e\\u0431\\u044b\\u0442\\u0438\\u0439 \\u0432 \\u043f\\u0440\\u0438\\u043b\\u043e\\u0436\\u0435\\u043d\\u0438\\u0438.</b>\"}},                        {\"responsive\": true}                    ).then(function(){\n",
       "                            \n",
       "var gd = document.getElementById('cac341fa-4420-423d-95dc-d680ec81ae45');\n",
       "var x = new MutationObserver(function (mutations, observer) {{\n",
       "        var display = window.getComputedStyle(gd).display;\n",
       "        if (!display || display === 'none') {{\n",
       "            console.log([gd, 'removed!']);\n",
       "            Plotly.purge(gd);\n",
       "            observer.disconnect();\n",
       "        }}\n",
       "}});\n",
       "\n",
       "// Listen for the removal of the full notebook cells\n",
       "var notebookContainer = gd.closest('#notebook-container');\n",
       "if (notebookContainer) {{\n",
       "    x.observe(notebookContainer, {childList: true});\n",
       "}}\n",
       "\n",
       "// Listen for the clearing of the current output cell\n",
       "var outputEl = gd.closest('.output');\n",
       "if (outputEl) {{\n",
       "    x.observe(outputEl, {childList: true});\n",
       "}}\n",
       "\n",
       "                        })                };                });            </script>        </div>"
      ]
     },
     "metadata": {},
     "output_type": "display_data"
    }
   ],
   "source": [
    "# переименуем названия событий в колонке 'События'\n",
    "col_funnel = result.rename(index={0: 'Посещение главного экрана', \n",
    "                                  1: 'Предложение на главном экране', \n",
    "                                  2: 'Появление экрана корзины', \n",
    "                                  3: 'Экран успешной оплаты', \n",
    "                                 }\n",
    "                          ).reset_index()\n",
    "\n",
    "# построим график воронки\n",
    "fig = go.Figure(go.Funnel(\n",
    "    y = col_funnel['index'], \n",
    "    x = col_funnel['Количество пользователей'], \n",
    "    textinfo = 'value+percent initial', \n",
    "    marker = {'color': ['#3366cc', '#dc3912', '#ff9900', '#109618', '#990099'], \n",
    "              'line': {'width': [4, 2, 2, 3, 1, 1], \n",
    "                       'color': ['wheat', 'blue', 'wheat', 'wheat', 'wheat'], \n",
    "                      }\n",
    "             }\n",
    ")\n",
    "               )\n",
    "fig.update_layout(template='simple_white',\n",
    "                  title='<b>Воронка событий в приложении.</b>')\n",
    "\n",
    "fig.show()"
   ]
  },
  {
   "cell_type": "markdown",
   "metadata": {},
   "source": [
    "![Воронка событий в приложении](img/funnel.png)"
   ]
  },
  {
   "cell_type": "code",
   "execution_count": 62,
   "metadata": {},
   "outputs": [
    {
     "data": {
      "text/html": [
       "<div>\n",
       "<style scoped>\n",
       "    .dataframe tbody tr th:only-of-type {\n",
       "        vertical-align: middle;\n",
       "    }\n",
       "\n",
       "    .dataframe tbody tr th {\n",
       "        vertical-align: top;\n",
       "    }\n",
       "\n",
       "    .dataframe thead th {\n",
       "        text-align: right;\n",
       "    }\n",
       "</style>\n",
       "<table border=\"1\" class=\"dataframe\">\n",
       "  <thead>\n",
       "    <tr style=\"text-align: right;\">\n",
       "      <th></th>\n",
       "      <th>События</th>\n",
       "      <th>Количество событий</th>\n",
       "      <th>Количество пользователей</th>\n",
       "      <th>Доля пользователей на событие, %</th>\n",
       "      <th>Конверсия</th>\n",
       "      <th>Конверсия в шаг, %</th>\n",
       "    </tr>\n",
       "  </thead>\n",
       "  <tbody>\n",
       "    <tr>\n",
       "      <th>0</th>\n",
       "      <td>MainScreenAppear</td>\n",
       "      <td>117324</td>\n",
       "      <td>7419</td>\n",
       "      <td>98.53</td>\n",
       "      <td>0</td>\n",
       "      <td>100.00</td>\n",
       "    </tr>\n",
       "    <tr>\n",
       "      <th>1</th>\n",
       "      <td>OffersScreenAppear</td>\n",
       "      <td>46332</td>\n",
       "      <td>4593</td>\n",
       "      <td>61.00</td>\n",
       "      <td>7419</td>\n",
       "      <td>61.91</td>\n",
       "    </tr>\n",
       "    <tr>\n",
       "      <th>2</th>\n",
       "      <td>CartScreenAppear</td>\n",
       "      <td>42302</td>\n",
       "      <td>3734</td>\n",
       "      <td>49.59</td>\n",
       "      <td>4593</td>\n",
       "      <td>81.30</td>\n",
       "    </tr>\n",
       "    <tr>\n",
       "      <th>3</th>\n",
       "      <td>PaymentScreenSuccessful</td>\n",
       "      <td>33918</td>\n",
       "      <td>3539</td>\n",
       "      <td>47.00</td>\n",
       "      <td>3734</td>\n",
       "      <td>94.78</td>\n",
       "    </tr>\n",
       "  </tbody>\n",
       "</table>\n",
       "</div>"
      ],
      "text/plain": [
       "                   События  Количество событий  Количество пользователей  \\\n",
       "0         MainScreenAppear              117324                      7419   \n",
       "1       OffersScreenAppear               46332                      4593   \n",
       "2         CartScreenAppear               42302                      3734   \n",
       "3  PaymentScreenSuccessful               33918                      3539   \n",
       "\n",
       "   Доля пользователей на событие, %  Конверсия  Конверсия в шаг, %  \n",
       "0                             98.53          0              100.00  \n",
       "1                             61.00       7419               61.91  \n",
       "2                             49.59       4593               81.30  \n",
       "3                             47.00       3734               94.78  "
      ]
     },
     "metadata": {},
     "output_type": "display_data"
    },
    {
     "name": "stdout",
     "output_type": "stream",
     "text": [
      "\n",
      "Доля пользователей дошедшая от первого события до оплаты: \u001b[1m 47.7 % \u001b[0m\n"
     ]
    }
   ],
   "source": [
    "# посчитаем, какая доля пользователей проходит на следующий шаг воронки\n",
    "result['Конверсия'] = result['Количество пользователей'].shift(periods=1, fill_value=0)\n",
    "\n",
    "def cr(row):\n",
    "    \n",
    "    '''Функция для нахождения конверсии в шаг'''\n",
    "    \n",
    "    count_cr = row['Конверсия']\n",
    "    count = row['Количество пользователей']\n",
    "    if count_cr == 0:\n",
    "        return 100\n",
    "    else:\n",
    "        return (count / count_cr) * 100\n",
    "\n",
    "result['Конверсия в шаг, %'] = result.apply(cr, axis=1).round(2)\n",
    "\n",
    "display(result)\n",
    "print()\n",
    "\n",
    "# найдём долю пользователей дошедших от первого события до оплаты\n",
    "share_cr = round(result['Количество пользователей'][3] / result['Количество пользователей'][0] * 100, 2)\n",
    "print(f'Доля пользователей дошедшая от первого события до оплаты:', ClrB, f'{share_cr} %', ClrD)"
   ]
  },
  {
   "cell_type": "markdown",
   "metadata": {},
   "source": [
    "<a id=\"num41\"></a>\n",
    "### Вывод\n",
    "*Исследование воронки показывает, что после главной страницы, в каталог заходят только **61.91%** посетителей приложения, в корзину добавляет товар - **81.30%** от количества посетителей предыдущего шага. Оплачивают **94,78%** посетителей от добавивших товар в корзину. Самые большие потери происходят на этапе перехода из главной страницы на страницу каталога - **38%** не доходят до второго этапа.*\n",
    "\n",
    "*Доля пользователей дошедшая от первого события до оплаты - **47.7 %**.*"
   ]
  },
  {
   "cell_type": "markdown",
   "metadata": {},
   "source": [
    "<a id=\"num5\"></a>\n",
    "## Изучение результатов эксперимента"
   ]
  },
  {
   "cell_type": "markdown",
   "metadata": {},
   "source": [
    "Посмотрим сколько пользователей в каждой экспериментальной группе."
   ]
  },
  {
   "cell_type": "code",
   "execution_count": 63,
   "metadata": {
    "scrolled": true
   },
   "outputs": [
    {
     "name": "stdout",
     "output_type": "stream",
     "text": [
      "\u001b[1m Количество уникальных пользователей: \u001b[0m\n",
      " В группе 246 составляет: \u001b[1m 2483 \u001b[0m человек;\n",
      " В группе 247 составляет: \u001b[1m 2512 \u001b[0m человек;\n",
      " В группе 248 составляет: \u001b[1m 2535 \u001b[0m человек.\n",
      "\n",
      "\n",
      "\u001b[1m Количество пользователей совершивших каждое событие в группах: \u001b[0m\n"
     ]
    },
    {
     "data": {
      "text/html": [
       "<div>\n",
       "<style scoped>\n",
       "    .dataframe tbody tr th:only-of-type {\n",
       "        vertical-align: middle;\n",
       "    }\n",
       "\n",
       "    .dataframe tbody tr th {\n",
       "        vertical-align: top;\n",
       "    }\n",
       "\n",
       "    .dataframe thead th {\n",
       "        text-align: right;\n",
       "    }\n",
       "</style>\n",
       "<table border=\"1\" class=\"dataframe\">\n",
       "  <thead>\n",
       "    <tr style=\"text-align: right;\">\n",
       "      <th>exp_id</th>\n",
       "      <th>event</th>\n",
       "      <th>246</th>\n",
       "      <th>247</th>\n",
       "      <th>248</th>\n",
       "    </tr>\n",
       "  </thead>\n",
       "  <tbody>\n",
       "    <tr>\n",
       "      <th>1</th>\n",
       "      <td>MainScreenAppear</td>\n",
       "      <td>2450</td>\n",
       "      <td>2476</td>\n",
       "      <td>2493</td>\n",
       "    </tr>\n",
       "    <tr>\n",
       "      <th>2</th>\n",
       "      <td>OffersScreenAppear</td>\n",
       "      <td>1542</td>\n",
       "      <td>1520</td>\n",
       "      <td>1531</td>\n",
       "    </tr>\n",
       "    <tr>\n",
       "      <th>0</th>\n",
       "      <td>CartScreenAppear</td>\n",
       "      <td>1266</td>\n",
       "      <td>1238</td>\n",
       "      <td>1230</td>\n",
       "    </tr>\n",
       "    <tr>\n",
       "      <th>3</th>\n",
       "      <td>PaymentScreenSuccessful</td>\n",
       "      <td>1200</td>\n",
       "      <td>1158</td>\n",
       "      <td>1181</td>\n",
       "    </tr>\n",
       "  </tbody>\n",
       "</table>\n",
       "</div>"
      ],
      "text/plain": [
       "exp_id                    event   246   247   248\n",
       "1              MainScreenAppear  2450  2476  2493\n",
       "2            OffersScreenAppear  1542  1520  1531\n",
       "0              CartScreenAppear  1266  1238  1230\n",
       "3       PaymentScreenSuccessful  1200  1158  1181"
      ]
     },
     "metadata": {},
     "output_type": "display_data"
    }
   ],
   "source": [
    "# составим сводную таблицу количества пользователей совершивших каждое событие в группах\n",
    "funnel = (\n",
    "    df\n",
    "    .groupby(['exp_id', 'event']).agg({'user':'nunique'})\n",
    "    .pivot_table(index='event', columns='exp_id', values='user')\n",
    "    .reset_index()\n",
    "    .sort_values(246, ascending=False)\n",
    ")\n",
    "\n",
    "# количество уникальных пользователей в каждой экспериментальной группе\n",
    "trials = df.groupby('exp_id').agg({'user':'nunique'}).reset_index()\n",
    "\n",
    "print(ClrB, 'Количество уникальных пользователей:', ClrD)\n",
    "print(' В группе 246 составляет:', ClrB, trials.iloc[0]['user'], ClrD, 'человек;')\n",
    "print(' В группе 247 составляет:', ClrB, trials.iloc[1]['user'], ClrD, 'человек;')\n",
    "print(' В группе 248 составляет:', ClrB, trials.iloc[2]['user'], ClrD, 'человек.', end='\\n\\n\\n')\n",
    "\n",
    "print(ClrB, 'Количество пользователей совершивших каждое событие в группах:', ClrD)\n",
    "display(funnel)"
   ]
  },
  {
   "cell_type": "markdown",
   "metadata": {},
   "source": [
    "Напишем функцию для расчёта статистически значимой разницы между долями двух генеральных совокупностей."
   ]
  },
  {
   "cell_type": "code",
   "execution_count": 64,
   "metadata": {},
   "outputs": [],
   "source": [
    "# списки с количеством пользователей для каждого события в каждой группе\n",
    "# 246 экспериментальная группа:\n",
    "A1_list = [trials.iloc[0]['user'], funnel.iloc[0][246], funnel.iloc[1][246], funnel.iloc[2][246], funnel.iloc[3][246]]\n",
    "# 247 экспериментальная группа:\n",
    "A2_list = [trials.iloc[1]['user'], funnel.iloc[0][247], funnel.iloc[1][247], funnel.iloc[2][247], funnel.iloc[3][247]]\n",
    "# 248 экспериментальная группа:\n",
    "B_list = [trials.iloc[2]['user'], funnel.iloc[0][248], funnel.iloc[1][248], funnel.iloc[2][248], funnel.iloc[3][248]]\n",
    "\n",
    "\n",
    "def check_hypothesis(first_list, second_list):\n",
    "    \n",
    "    '''функция для расчёта статистически значимой разницы\n",
    "       между долями двух генеральных совокупностей\n",
    "    '''\n",
    "    \n",
    "    # список событий  \n",
    "    event_list = ['MainScreenAppear', 'OffersScreenAppear', 'CartScreenAppear', 'PaymentScreenSuccessful']\n",
    "    \n",
    "    # цикл для вычисления p-value и проверки нулевой гипотезы каждого события \n",
    "    for x in range(0, len(first_list)-1):\n",
    "        x1 = first_list[x+1]  # второе значение в первой группе \n",
    "        x2 = second_list[x+1] # второе значение во второй группе\n",
    "        y1 = first_list[x]    # первое значение в первой группе\n",
    "        y2 = second_list[x]   # первое значение во второй группе\n",
    "    \n",
    "        alpha = .01 # критический уровень статистической значимости\n",
    "        successes = np.array([x1, x2])\n",
    "        trials = np.array([y1, y2])\n",
    "        p1 = successes[0]/trials[0] # пропорция успехов в первой группе\n",
    "        p2 = successes[1]/trials[1] # пропорция успехов во второй группе\n",
    "        \n",
    "        # пропорция успехов в комбинированном датасете\n",
    "        p_combined = (successes[0] + successes[1]) / (trials[0] + trials[1])\n",
    "        difference = p1 - p2  # разница пропорций в датасетах\n",
    "        \n",
    "        # считаем статистику в ст.отклонениях стандартного нормального распределения\n",
    "        z_value = difference / mth.sqrt(p_combined * (1 - p_combined) * (1/trials[0] + 1/trials[1]))\n",
    "        # стандартное нормальное распределение (среднее - 0, ст.отклонение - 1)\n",
    "        distr = st.norm(0, 1)\n",
    "        # расчёт значения статистической разницы между группами\n",
    "        p_value = 1 - distr.cdf(z_value)\n",
    "        \n",
    "        # выведем результаты на экран\n",
    "        print('Событие:  ', ClrB, event_list[x], ClrD)\n",
    "        print('p_value:  ', ClrB, p_value, ClrD)\n",
    "        \n",
    "        # сравненим p-value с установленным уровнем статистической значимости \n",
    "        if (p_value < alpha):\n",
    "            print('Результат:', ClrB, 'Нулевая гипотеза отвергнута: между долями есть значимая разница', ClrD)\n",
    "        else:\n",
    "            print('Результат:', ClrB, 'Нулевая гипотеза не отвергнута: нет оснований считать доли разными', ClrD)\n",
    "        print()"
   ]
  },
  {
   "cell_type": "markdown",
   "metadata": {},
   "source": [
    "Проверим, находят ли статистические критерии, разницу между выборками **246** и **247** (A/A – тест)."
   ]
  },
  {
   "cell_type": "code",
   "execution_count": 65,
   "metadata": {},
   "outputs": [
    {
     "name": "stdout",
     "output_type": "stream",
     "text": [
      "Событие:   \u001b[1m MainScreenAppear \u001b[0m\n",
      "p_value:   \u001b[1m 0.3763351718241519 \u001b[0m\n",
      "Результат: \u001b[1m Нулевая гипотеза не отвергнута: нет оснований считать доли разными \u001b[0m\n",
      "\n",
      "Событие:   \u001b[1m OffersScreenAppear \u001b[0m\n",
      "p_value:   \u001b[1m 0.1311172479627889 \u001b[0m\n",
      "Результат: \u001b[1m Нулевая гипотеза не отвергнута: нет оснований считать доли разными \u001b[0m\n",
      "\n",
      "Событие:   \u001b[1m CartScreenAppear \u001b[0m\n",
      "p_value:   \u001b[1m 0.31968773565726316 \u001b[0m\n",
      "Результат: \u001b[1m Нулевая гипотеза не отвергнута: нет оснований считать доли разными \u001b[0m\n",
      "\n",
      "Событие:   \u001b[1m PaymentScreenSuccessful \u001b[0m\n",
      "p_value:   \u001b[1m 0.09121719704033826 \u001b[0m\n",
      "Результат: \u001b[1m Нулевая гипотеза не отвергнута: нет оснований считать доли разными \u001b[0m\n",
      "\n"
     ]
    }
   ],
   "source": [
    "# применим функцию 'check_hypothesis' для групп А1 и А2 [246 и 247]\n",
    "check_hypothesis(A1_list, A2_list)"
   ]
  },
  {
   "cell_type": "markdown",
   "metadata": {},
   "source": [
    "Найдём самое популярное событие."
   ]
  },
  {
   "cell_type": "code",
   "execution_count": 66,
   "metadata": {},
   "outputs": [
    {
     "data": {
      "text/html": [
       "<div>\n",
       "<style scoped>\n",
       "    .dataframe tbody tr th:only-of-type {\n",
       "        vertical-align: middle;\n",
       "    }\n",
       "\n",
       "    .dataframe tbody tr th {\n",
       "        vertical-align: top;\n",
       "    }\n",
       "\n",
       "    .dataframe thead th {\n",
       "        text-align: right;\n",
       "    }\n",
       "</style>\n",
       "<table border=\"1\" class=\"dataframe\">\n",
       "  <thead>\n",
       "    <tr style=\"text-align: right;\">\n",
       "      <th></th>\n",
       "      <th>event</th>\n",
       "      <th>user</th>\n",
       "    </tr>\n",
       "  </thead>\n",
       "  <tbody>\n",
       "    <tr>\n",
       "      <th>0</th>\n",
       "      <td>MainScreenAppear</td>\n",
       "      <td>7419</td>\n",
       "    </tr>\n",
       "    <tr>\n",
       "      <th>1</th>\n",
       "      <td>OffersScreenAppear</td>\n",
       "      <td>4593</td>\n",
       "    </tr>\n",
       "    <tr>\n",
       "      <th>2</th>\n",
       "      <td>CartScreenAppear</td>\n",
       "      <td>3734</td>\n",
       "    </tr>\n",
       "    <tr>\n",
       "      <th>3</th>\n",
       "      <td>PaymentScreenSuccessful</td>\n",
       "      <td>3539</td>\n",
       "    </tr>\n",
       "  </tbody>\n",
       "</table>\n",
       "</div>"
      ],
      "text/plain": [
       "                     event  user\n",
       "0         MainScreenAppear  7419\n",
       "1       OffersScreenAppear  4593\n",
       "2         CartScreenAppear  3734\n",
       "3  PaymentScreenSuccessful  3539"
      ]
     },
     "metadata": {},
     "output_type": "display_data"
    }
   ],
   "source": [
    "# составим сводную таблицу количества пользователей совершивших событие\n",
    "display(df.groupby('event', sort=False).agg({'user': 'nunique'}).reset_index())"
   ]
  },
  {
   "cell_type": "markdown",
   "metadata": {},
   "source": [
    "*Самое популярное событие — **MainScreenAppear** (Посещение главной страницы), его совершили **7419** пользователей.*"
   ]
  },
  {
   "cell_type": "markdown",
   "metadata": {},
   "source": [
    "Посчитаем число пользователей, совершивших события в каждой из контрольных групп. Посчитаем долю пользователей, совершивших эти события."
   ]
  },
  {
   "cell_type": "code",
   "execution_count": 67,
   "metadata": {},
   "outputs": [
    {
     "data": {
      "text/html": [
       "<div>\n",
       "<style scoped>\n",
       "    .dataframe tbody tr th:only-of-type {\n",
       "        vertical-align: middle;\n",
       "    }\n",
       "\n",
       "    .dataframe tbody tr th {\n",
       "        vertical-align: top;\n",
       "    }\n",
       "\n",
       "    .dataframe thead th {\n",
       "        text-align: right;\n",
       "    }\n",
       "</style>\n",
       "<table border=\"1\" class=\"dataframe\">\n",
       "  <thead>\n",
       "    <tr style=\"text-align: right;\">\n",
       "      <th></th>\n",
       "      <th>События</th>\n",
       "      <th>Эксперимент</th>\n",
       "      <th>Количество пользователей</th>\n",
       "      <th>Доля пользователей на событие, %</th>\n",
       "    </tr>\n",
       "  </thead>\n",
       "  <tbody>\n",
       "    <tr>\n",
       "      <th>0</th>\n",
       "      <td>MainScreenAppear</td>\n",
       "      <td>246</td>\n",
       "      <td>2450</td>\n",
       "      <td>32.54</td>\n",
       "    </tr>\n",
       "    <tr>\n",
       "      <th>1</th>\n",
       "      <td>OffersScreenAppear</td>\n",
       "      <td>246</td>\n",
       "      <td>1542</td>\n",
       "      <td>20.48</td>\n",
       "    </tr>\n",
       "    <tr>\n",
       "      <th>3</th>\n",
       "      <td>CartScreenAppear</td>\n",
       "      <td>246</td>\n",
       "      <td>1266</td>\n",
       "      <td>16.81</td>\n",
       "    </tr>\n",
       "    <tr>\n",
       "      <th>2</th>\n",
       "      <td>PaymentScreenSuccessful</td>\n",
       "      <td>246</td>\n",
       "      <td>1200</td>\n",
       "      <td>15.94</td>\n",
       "    </tr>\n",
       "  </tbody>\n",
       "</table>\n",
       "</div>"
      ],
      "text/plain": [
       "                   События  Эксперимент  Количество пользователей  \\\n",
       "0         MainScreenAppear          246                      2450   \n",
       "1       OffersScreenAppear          246                      1542   \n",
       "3         CartScreenAppear          246                      1266   \n",
       "2  PaymentScreenSuccessful          246                      1200   \n",
       "\n",
       "   Доля пользователей на событие, %  \n",
       "0                             32.54  \n",
       "1                             20.48  \n",
       "3                             16.81  \n",
       "2                             15.94  "
      ]
     },
     "metadata": {},
     "output_type": "display_data"
    },
    {
     "data": {
      "text/html": [
       "<div>\n",
       "<style scoped>\n",
       "    .dataframe tbody tr th:only-of-type {\n",
       "        vertical-align: middle;\n",
       "    }\n",
       "\n",
       "    .dataframe tbody tr th {\n",
       "        vertical-align: top;\n",
       "    }\n",
       "\n",
       "    .dataframe thead th {\n",
       "        text-align: right;\n",
       "    }\n",
       "</style>\n",
       "<table border=\"1\" class=\"dataframe\">\n",
       "  <thead>\n",
       "    <tr style=\"text-align: right;\">\n",
       "      <th></th>\n",
       "      <th>События</th>\n",
       "      <th>Эксперимент</th>\n",
       "      <th>Количество пользователей</th>\n",
       "      <th>Доля пользователей на событие, %</th>\n",
       "    </tr>\n",
       "  </thead>\n",
       "  <tbody>\n",
       "    <tr>\n",
       "      <th>0</th>\n",
       "      <td>MainScreenAppear</td>\n",
       "      <td>247</td>\n",
       "      <td>2476</td>\n",
       "      <td>32.88</td>\n",
       "    </tr>\n",
       "    <tr>\n",
       "      <th>1</th>\n",
       "      <td>OffersScreenAppear</td>\n",
       "      <td>247</td>\n",
       "      <td>1520</td>\n",
       "      <td>20.19</td>\n",
       "    </tr>\n",
       "    <tr>\n",
       "      <th>3</th>\n",
       "      <td>CartScreenAppear</td>\n",
       "      <td>247</td>\n",
       "      <td>1238</td>\n",
       "      <td>16.44</td>\n",
       "    </tr>\n",
       "    <tr>\n",
       "      <th>2</th>\n",
       "      <td>PaymentScreenSuccessful</td>\n",
       "      <td>247</td>\n",
       "      <td>1158</td>\n",
       "      <td>15.38</td>\n",
       "    </tr>\n",
       "  </tbody>\n",
       "</table>\n",
       "</div>"
      ],
      "text/plain": [
       "                   События  Эксперимент  Количество пользователей  \\\n",
       "0         MainScreenAppear          247                      2476   \n",
       "1       OffersScreenAppear          247                      1520   \n",
       "3         CartScreenAppear          247                      1238   \n",
       "2  PaymentScreenSuccessful          247                      1158   \n",
       "\n",
       "   Доля пользователей на событие, %  \n",
       "0                             32.88  \n",
       "1                             20.19  \n",
       "3                             16.44  \n",
       "2                             15.38  "
      ]
     },
     "metadata": {},
     "output_type": "display_data"
    },
    {
     "data": {
      "text/html": [
       "<div>\n",
       "<style scoped>\n",
       "    .dataframe tbody tr th:only-of-type {\n",
       "        vertical-align: middle;\n",
       "    }\n",
       "\n",
       "    .dataframe tbody tr th {\n",
       "        vertical-align: top;\n",
       "    }\n",
       "\n",
       "    .dataframe thead th {\n",
       "        text-align: right;\n",
       "    }\n",
       "</style>\n",
       "<table border=\"1\" class=\"dataframe\">\n",
       "  <thead>\n",
       "    <tr style=\"text-align: right;\">\n",
       "      <th></th>\n",
       "      <th>События</th>\n",
       "      <th>Эксперимент</th>\n",
       "      <th>Количество пользователей</th>\n",
       "      <th>Доля пользователей на событие, %</th>\n",
       "    </tr>\n",
       "  </thead>\n",
       "  <tbody>\n",
       "    <tr>\n",
       "      <th>0</th>\n",
       "      <td>MainScreenAppear</td>\n",
       "      <td>248</td>\n",
       "      <td>2493</td>\n",
       "      <td>33.11</td>\n",
       "    </tr>\n",
       "    <tr>\n",
       "      <th>3</th>\n",
       "      <td>OffersScreenAppear</td>\n",
       "      <td>248</td>\n",
       "      <td>1531</td>\n",
       "      <td>20.33</td>\n",
       "    </tr>\n",
       "    <tr>\n",
       "      <th>1</th>\n",
       "      <td>CartScreenAppear</td>\n",
       "      <td>248</td>\n",
       "      <td>1230</td>\n",
       "      <td>16.33</td>\n",
       "    </tr>\n",
       "    <tr>\n",
       "      <th>2</th>\n",
       "      <td>PaymentScreenSuccessful</td>\n",
       "      <td>248</td>\n",
       "      <td>1181</td>\n",
       "      <td>15.68</td>\n",
       "    </tr>\n",
       "  </tbody>\n",
       "</table>\n",
       "</div>"
      ],
      "text/plain": [
       "                   События  Эксперимент  Количество пользователей  \\\n",
       "0         MainScreenAppear          248                      2493   \n",
       "3       OffersScreenAppear          248                      1531   \n",
       "1         CartScreenAppear          248                      1230   \n",
       "2  PaymentScreenSuccessful          248                      1181   \n",
       "\n",
       "   Доля пользователей на событие, %  \n",
       "0                             33.11  \n",
       "3                             20.33  \n",
       "1                             16.33  \n",
       "2                             15.68  "
      ]
     },
     "metadata": {},
     "output_type": "display_data"
    }
   ],
   "source": [
    "# посчитаем долю пользователей, которые хоть раз совершали событие в каждой группе\n",
    "# группа 246\n",
    "result_246 = df.query(\"exp_id == 246\").groupby(['event', 'exp_id'], sort=False).agg({'user': ['nunique']}).reset_index()\n",
    "result_246.columns = ['События', 'Эксперимент', 'Количество пользователей']\n",
    "result_246 = result_246.sort_values(by=['Количество пользователей'], ascending=False)\n",
    "result_246['Доля пользователей на событие, %'] = round(result_246['Количество пользователей'] / df.user.nunique() * 100, 2)\n",
    "\n",
    "# группа 247\n",
    "result_247 = df.query(\"exp_id == 247\").groupby(['event', 'exp_id'], sort=False).agg({'user': ['nunique']}).reset_index()\n",
    "result_247.columns = ['События', 'Эксперимент', 'Количество пользователей']\n",
    "result_247 = result_247.sort_values(by=['Количество пользователей'], ascending=False)\n",
    "result_247['Доля пользователей на событие, %'] = round(result_247['Количество пользователей'] / df.user.nunique() * 100, 2)\n",
    "\n",
    "# группа 248\n",
    "result_248 = df.query(\"exp_id == 248\").groupby(['event', 'exp_id'], sort=False).agg({'user': ['nunique']}).reset_index()\n",
    "result_248.columns = ['События', 'Эксперимент', 'Количество пользователей']\n",
    "result_248 = result_248.sort_values(by=['Количество пользователей'], ascending=False)\n",
    "result_248['Доля пользователей на событие, %'] = round(result_248['Количество пользователей'] / df.user.nunique() * 100, 2)\n",
    "\n",
    "display(result_246)\n",
    "display(result_247)\n",
    "display(result_248)"
   ]
  },
  {
   "cell_type": "markdown",
   "metadata": {},
   "source": [
    "*Значимые отличия по количеству пользователей, по доле пользователей совершивших событие между группами отсутствуют.*"
   ]
  },
  {
   "cell_type": "markdown",
   "metadata": {},
   "source": [
    "Определим гипотезы:\n",
    "\n",
    "- **H0** — доли пользователей, выполнивших Событие в группах A и B равны;\n",
    "- **H1** — доли пользователей, выполнивших Событие в группах A и B не равны."
   ]
  },
  {
   "cell_type": "code",
   "execution_count": 68,
   "metadata": {},
   "outputs": [
    {
     "name": "stdout",
     "output_type": "stream",
     "text": [
      "Событие:   \u001b[1m MainScreenAppear \u001b[0m\n",
      "p_value:   \u001b[1m 0.1693557038079644 \u001b[0m\n",
      "Результат: \u001b[1m Нулевая гипотеза не отвергнута: нет оснований считать доли разными \u001b[0m\n",
      "\n",
      "Событие:   \u001b[1m OffersScreenAppear \u001b[0m\n",
      "p_value:   \u001b[1m 0.13421407936246155 \u001b[0m\n",
      "Результат: \u001b[1m Нулевая гипотеза не отвергнута: нет оснований считать доли разными \u001b[0m\n",
      "\n",
      "Событие:   \u001b[1m CartScreenAppear \u001b[0m\n",
      "p_value:   \u001b[1m 0.1056085409027343 \u001b[0m\n",
      "Результат: \u001b[1m Нулевая гипотеза не отвергнута: нет оснований считать доли разными \u001b[0m\n",
      "\n",
      "Событие:   \u001b[1m PaymentScreenSuccessful \u001b[0m\n",
      "p_value:   \u001b[1m 0.928523293647905 \u001b[0m\n",
      "Результат: \u001b[1m Нулевая гипотеза не отвергнута: нет оснований считать доли разными \u001b[0m\n",
      "\n"
     ]
    }
   ],
   "source": [
    "# применим функцию 'check_hypothesis' для групп А1 и B [246 и 248]\n",
    "check_hypothesis(A1_list, B_list)"
   ]
  },
  {
   "cell_type": "code",
   "execution_count": 69,
   "metadata": {},
   "outputs": [
    {
     "name": "stdout",
     "output_type": "stream",
     "text": [
      "Событие:   \u001b[1m MainScreenAppear \u001b[0m\n",
      "p_value:   \u001b[1m 0.25974821770258516 \u001b[0m\n",
      "Результат: \u001b[1m Нулевая гипотеза не отвергнута: нет оснований считать доли разными \u001b[0m\n",
      "\n",
      "Событие:   \u001b[1m OffersScreenAppear \u001b[0m\n",
      "p_value:   \u001b[1m 0.5065317373577742 \u001b[0m\n",
      "Результат: \u001b[1m Нулевая гипотеза не отвергнута: нет оснований считать доли разными \u001b[0m\n",
      "\n",
      "Событие:   \u001b[1m CartScreenAppear \u001b[0m\n",
      "p_value:   \u001b[1m 0.21824517565311274 \u001b[0m\n",
      "Результат: \u001b[1m Нулевая гипотеза не отвергнута: нет оснований считать доли разными \u001b[0m\n",
      "\n",
      "Событие:   \u001b[1m PaymentScreenSuccessful \u001b[0m\n",
      "p_value:   \u001b[1m 0.9971612673021318 \u001b[0m\n",
      "Результат: \u001b[1m Нулевая гипотеза не отвергнута: нет оснований считать доли разными \u001b[0m\n",
      "\n"
     ]
    }
   ],
   "source": [
    "# применим функцию 'check_hypothesis' для групп А2 и B [247 и 248]\n",
    "check_hypothesis(A2_list, B_list)"
   ]
  },
  {
   "cell_type": "markdown",
   "metadata": {},
   "source": [
    "Сравним результаты теста с объединённой контрольной группой."
   ]
  },
  {
   "cell_type": "code",
   "execution_count": 70,
   "metadata": {},
   "outputs": [
    {
     "name": "stdout",
     "output_type": "stream",
     "text": [
      "Событие:   \u001b[1m MainScreenAppear \u001b[0m\n",
      "p_value:   \u001b[1m 0.1743342145546628 \u001b[0m\n",
      "Результат: \u001b[1m Нулевая гипотеза не отвергнута: нет оснований считать доли разными \u001b[0m\n",
      "\n",
      "Событие:   \u001b[1m OffersScreenAppear \u001b[0m\n",
      "p_value:   \u001b[1m 0.2654294716038812 \u001b[0m\n",
      "Результат: \u001b[1m Нулевая гипотеза не отвергнута: нет оснований считать доли разными \u001b[0m\n",
      "\n",
      "Событие:   \u001b[1m CartScreenAppear \u001b[0m\n",
      "p_value:   \u001b[1m 0.11952977139973686 \u001b[0m\n",
      "Результат: \u001b[1m Нулевая гипотеза не отвергнута: нет оснований считать доли разными \u001b[0m\n",
      "\n",
      "Событие:   \u001b[1m PaymentScreenSuccessful \u001b[0m\n",
      "p_value:   \u001b[1m 0.9914427828402265 \u001b[0m\n",
      "Результат: \u001b[1m Нулевая гипотеза не отвергнута: нет оснований считать доли разными \u001b[0m\n",
      "\n"
     ]
    }
   ],
   "source": [
    "# создадим объединенную экспериментальную группу А\n",
    "A_list = []\n",
    "for x in range(len(A1_list)):\n",
    "    A_list.append(A1_list[x] + A2_list[x])\n",
    "\n",
    "# применим функцию 'check_hypothesis' для групп А и B\n",
    "check_hypothesis(A_list, B_list)"
   ]
  },
  {
   "cell_type": "markdown",
   "metadata": {},
   "source": [
    "*Статистически значимых различий между группами **246** и **248**, группами **247** и **248**, объединенной контрольной группой и **248** при p-value, равному **0.01**, не выявлено.* \n",
    "\n",
    "*Таким образом, изменение шрифта не повлияло на поведение пользователей.*"
   ]
  },
  {
   "cell_type": "markdown",
   "metadata": {},
   "source": [
    "<a id=\"num6\"></a>\n",
    "## Общий вывод"
   ]
  },
  {
   "cell_type": "markdown",
   "metadata": {},
   "source": [
    "*Мы провели анализ логов пользователей мобильного приложения стартапа по продаже продуктов питания за период с **1** по **7 августа 2019 года**. Данные за период с **25** по **31 июля 2019 года** нам пришлось отбросить из-за их неполноты.*\n",
    "\n",
    "*В результате анализа мы определили последовательность действий пользователей: чаще всего они заходят на главную страницу, потом в каталог, затем в корзину и оплачивают заказ. «Руководством» воспользовались только **11%** пользователей. В среднем, каждый пользователь совершает **32** события в приложении.*\n",
    "\n",
    "*Исследование воронки показывает, что после главной страницы, в каталог заходят только **61.91%** посетителей приложения, в корзину добавляет товар - **81.30%** от количества посетителей предыдущего шага. Оплачивают **94,78%** посетителей от добавивших товар в корзину. Самые большие потери происходят на этапе перехода из главной страницы на страницу каталога - **38%** не доходят до второго шага. От первого шага до оплаты доходят только **47,7%** пользователей. Необходимо изучить проблемы связанные с переходом с главной страницы (событие **MainScreenAppear**) в каталог (событие **OffersScreenAppear**).*\n",
    "\n",
    "*Все группы распределены почти равномерно: в 246 группе - **32.54%** пользователей, в 247 группе - **32.88%**, в 248 группе - **33.11%** от общего числа пользователей. При проведении **12** экспериментов (A/А/В–тестов) статистически значимые различия между тестируемыми группами при p-value, равном **0.01**, не выявлено. Таким образом, изменение шрифта не повлияло на поведение пользователей.*\n",
    "\n"
   ]
  }
 ],
 "metadata": {
  "ExecuteTimeLog": [
   {
    "duration": 1202,
    "start_time": "2022-06-01T17:16:07.004Z"
   },
   {
    "duration": 660,
    "start_time": "2022-06-01T17:16:09.175Z"
   },
   {
    "duration": 134,
    "start_time": "2022-06-01T17:16:15.206Z"
   },
   {
    "duration": 23,
    "start_time": "2022-06-01T17:16:30.195Z"
   },
   {
    "duration": 31,
    "start_time": "2022-06-01T17:16:32.755Z"
   },
   {
    "duration": 4,
    "start_time": "2022-06-01T17:16:41.460Z"
   },
   {
    "duration": 634,
    "start_time": "2022-06-01T17:16:44.208Z"
   },
   {
    "duration": 176,
    "start_time": "2022-06-01T17:27:37.398Z"
   },
   {
    "duration": 109,
    "start_time": "2022-06-01T17:27:47.899Z"
   },
   {
    "duration": 22,
    "start_time": "2022-06-01T17:28:40.785Z"
   },
   {
    "duration": 28,
    "start_time": "2022-06-01T17:28:51.205Z"
   },
   {
    "duration": 4,
    "start_time": "2022-06-01T17:28:54.761Z"
   },
   {
    "duration": 4,
    "start_time": "2022-06-01T17:30:11.634Z"
   },
   {
    "duration": 5,
    "start_time": "2022-06-01T17:30:49.077Z"
   },
   {
    "duration": 342,
    "start_time": "2022-06-01T17:31:24.794Z"
   },
   {
    "duration": 5,
    "start_time": "2022-06-01T17:32:51.583Z"
   },
   {
    "duration": 304,
    "start_time": "2022-06-01T17:32:52.651Z"
   },
   {
    "duration": 565,
    "start_time": "2022-06-01T17:33:23.811Z"
   },
   {
    "duration": 634,
    "start_time": "2022-06-01T17:34:49.801Z"
   },
   {
    "duration": 557,
    "start_time": "2022-06-01T17:35:36.057Z"
   },
   {
    "duration": 5,
    "start_time": "2022-06-01T17:47:12.675Z"
   },
   {
    "duration": 169,
    "start_time": "2022-06-01T17:47:13.632Z"
   },
   {
    "duration": 111,
    "start_time": "2022-06-01T17:47:16.482Z"
   },
   {
    "duration": 24,
    "start_time": "2022-06-01T17:47:18.426Z"
   },
   {
    "duration": 28,
    "start_time": "2022-06-01T17:47:19.487Z"
   },
   {
    "duration": 4,
    "start_time": "2022-06-01T17:47:19.973Z"
   },
   {
    "duration": 654,
    "start_time": "2022-06-01T17:47:20.505Z"
   },
   {
    "duration": 1388,
    "start_time": "2022-06-01T19:16:30.466Z"
   },
   {
    "duration": 508,
    "start_time": "2022-06-01T19:16:31.856Z"
   },
   {
    "duration": 96,
    "start_time": "2022-06-01T19:16:32.366Z"
   },
   {
    "duration": 21,
    "start_time": "2022-06-01T19:16:32.464Z"
   },
   {
    "duration": 27,
    "start_time": "2022-06-01T19:16:32.487Z"
   },
   {
    "duration": 4,
    "start_time": "2022-06-01T19:16:32.516Z"
   },
   {
    "duration": 582,
    "start_time": "2022-06-01T19:16:32.521Z"
   },
   {
    "duration": 20,
    "start_time": "2022-06-01T19:17:59.764Z"
   },
   {
    "duration": 24,
    "start_time": "2022-06-01T19:23:15.722Z"
   },
   {
    "duration": 39,
    "start_time": "2022-06-01T19:23:32.218Z"
   },
   {
    "duration": 31,
    "start_time": "2022-06-01T19:25:20.942Z"
   },
   {
    "duration": 32,
    "start_time": "2022-06-01T19:26:55.302Z"
   },
   {
    "duration": 36,
    "start_time": "2022-06-01T19:27:33.176Z"
   },
   {
    "duration": 58,
    "start_time": "2022-06-01T19:29:58.297Z"
   },
   {
    "duration": 120,
    "start_time": "2022-06-01T19:30:26.777Z"
   },
   {
    "duration": 37,
    "start_time": "2022-06-01T19:30:35.924Z"
   },
   {
    "duration": 48,
    "start_time": "2022-06-01T19:31:03.209Z"
   },
   {
    "duration": 52,
    "start_time": "2022-06-01T19:31:47.536Z"
   },
   {
    "duration": 45,
    "start_time": "2022-06-01T19:32:20.826Z"
   },
   {
    "duration": 35,
    "start_time": "2022-06-01T19:34:12.861Z"
   },
   {
    "duration": 39,
    "start_time": "2022-06-01T19:34:24.773Z"
   },
   {
    "duration": 5,
    "start_time": "2022-06-01T19:34:27.335Z"
   },
   {
    "duration": 39,
    "start_time": "2022-06-01T19:35:33.866Z"
   },
   {
    "duration": 36,
    "start_time": "2022-06-01T19:35:42.871Z"
   },
   {
    "duration": 382,
    "start_time": "2022-06-01T19:35:55.961Z"
   },
   {
    "duration": 26,
    "start_time": "2022-06-01T19:36:11.625Z"
   },
   {
    "duration": 27,
    "start_time": "2022-06-01T19:40:51.768Z"
   },
   {
    "duration": 7,
    "start_time": "2022-06-01T20:02:53.320Z"
   },
   {
    "duration": 668,
    "start_time": "2022-06-01T20:06:38.366Z"
   },
   {
    "duration": 1298,
    "start_time": "2022-06-02T16:14:15.324Z"
   },
   {
    "duration": 783,
    "start_time": "2022-06-02T16:14:16.628Z"
   },
   {
    "duration": 128,
    "start_time": "2022-06-02T16:14:17.413Z"
   },
   {
    "duration": 23,
    "start_time": "2022-06-02T16:14:17.543Z"
   },
   {
    "duration": 38,
    "start_time": "2022-06-02T16:14:17.568Z"
   },
   {
    "duration": 47,
    "start_time": "2022-06-02T16:14:17.608Z"
   },
   {
    "duration": 7,
    "start_time": "2022-06-02T16:14:17.657Z"
   },
   {
    "duration": 581,
    "start_time": "2022-06-02T16:14:17.666Z"
   },
   {
    "duration": 680,
    "start_time": "2022-06-02T16:14:18.249Z"
   },
   {
    "duration": 346,
    "start_time": "2022-06-02T16:31:36.936Z"
   },
   {
    "duration": 303,
    "start_time": "2022-06-02T16:31:52.239Z"
   },
   {
    "duration": 126,
    "start_time": "2022-06-02T16:33:39.210Z"
   },
   {
    "duration": 501,
    "start_time": "2022-06-02T16:35:35.788Z"
   },
   {
    "duration": 8,
    "start_time": "2022-06-02T16:36:43.005Z"
   },
   {
    "duration": 8,
    "start_time": "2022-06-02T17:30:08.515Z"
   },
   {
    "duration": 9,
    "start_time": "2022-06-02T17:30:12.787Z"
   },
   {
    "duration": 248,
    "start_time": "2022-06-02T17:30:12.798Z"
   },
   {
    "duration": 118,
    "start_time": "2022-06-02T17:30:13.048Z"
   },
   {
    "duration": 25,
    "start_time": "2022-06-02T17:30:13.168Z"
   },
   {
    "duration": 57,
    "start_time": "2022-06-02T17:30:13.196Z"
   },
   {
    "duration": 32,
    "start_time": "2022-06-02T17:30:13.255Z"
   },
   {
    "duration": 5,
    "start_time": "2022-06-02T17:30:13.289Z"
   },
   {
    "duration": 42,
    "start_time": "2022-06-02T17:30:13.296Z"
   },
   {
    "duration": 0,
    "start_time": "2022-06-02T17:30:13.339Z"
   },
   {
    "duration": 13,
    "start_time": "2022-06-02T17:30:35.040Z"
   },
   {
    "duration": 9,
    "start_time": "2022-06-02T17:30:52.438Z"
   },
   {
    "duration": 15,
    "start_time": "2022-06-02T17:32:20.810Z"
   },
   {
    "duration": 5,
    "start_time": "2022-06-02T17:32:27.237Z"
   },
   {
    "duration": 190,
    "start_time": "2022-06-02T17:32:27.244Z"
   },
   {
    "duration": 103,
    "start_time": "2022-06-02T17:32:27.435Z"
   },
   {
    "duration": 21,
    "start_time": "2022-06-02T17:32:27.540Z"
   },
   {
    "duration": 28,
    "start_time": "2022-06-02T17:32:27.563Z"
   },
   {
    "duration": 48,
    "start_time": "2022-06-02T17:32:27.592Z"
   },
   {
    "duration": 5,
    "start_time": "2022-06-02T17:32:27.642Z"
   },
   {
    "duration": 19,
    "start_time": "2022-06-02T17:32:27.648Z"
   },
   {
    "duration": 0,
    "start_time": "2022-06-02T17:32:27.669Z"
   },
   {
    "duration": 11,
    "start_time": "2022-06-02T17:35:31.482Z"
   },
   {
    "duration": 33,
    "start_time": "2022-06-02T17:38:03.157Z"
   },
   {
    "duration": 10,
    "start_time": "2022-06-02T17:38:08.553Z"
   },
   {
    "duration": 10,
    "start_time": "2022-06-02T17:38:26.985Z"
   },
   {
    "duration": 11,
    "start_time": "2022-06-02T17:52:23.702Z"
   },
   {
    "duration": 5,
    "start_time": "2022-06-02T17:53:14.711Z"
   },
   {
    "duration": 238,
    "start_time": "2022-06-02T17:53:14.718Z"
   },
   {
    "duration": 125,
    "start_time": "2022-06-02T17:53:14.957Z"
   },
   {
    "duration": 22,
    "start_time": "2022-06-02T17:53:15.084Z"
   },
   {
    "duration": 58,
    "start_time": "2022-06-02T17:53:15.108Z"
   },
   {
    "duration": 28,
    "start_time": "2022-06-02T17:53:15.167Z"
   },
   {
    "duration": 7,
    "start_time": "2022-06-02T17:53:15.196Z"
   },
   {
    "duration": 40,
    "start_time": "2022-06-02T17:53:15.204Z"
   },
   {
    "duration": 0,
    "start_time": "2022-06-02T17:53:15.246Z"
   },
   {
    "duration": 10,
    "start_time": "2022-06-02T18:07:00.685Z"
   },
   {
    "duration": 6,
    "start_time": "2022-06-02T18:07:26.671Z"
   },
   {
    "duration": 13,
    "start_time": "2022-06-02T18:07:50.055Z"
   },
   {
    "duration": 514,
    "start_time": "2022-06-02T18:16:41.799Z"
   },
   {
    "duration": 6,
    "start_time": "2022-06-02T18:17:58.451Z"
   },
   {
    "duration": 193,
    "start_time": "2022-06-02T18:17:58.459Z"
   },
   {
    "duration": 119,
    "start_time": "2022-06-02T18:17:58.654Z"
   },
   {
    "duration": 23,
    "start_time": "2022-06-02T18:17:58.775Z"
   },
   {
    "duration": 47,
    "start_time": "2022-06-02T18:17:58.800Z"
   },
   {
    "duration": 30,
    "start_time": "2022-06-02T18:17:58.849Z"
   },
   {
    "duration": 5,
    "start_time": "2022-06-02T18:17:58.881Z"
   },
   {
    "duration": 312,
    "start_time": "2022-06-02T18:17:58.889Z"
   },
   {
    "duration": 0,
    "start_time": "2022-06-02T18:17:59.210Z"
   },
   {
    "duration": 128,
    "start_time": "2022-06-02T18:20:22.413Z"
   },
   {
    "duration": 17,
    "start_time": "2022-06-02T18:20:55.163Z"
   },
   {
    "duration": 18,
    "start_time": "2022-06-02T18:22:20.202Z"
   },
   {
    "duration": 694,
    "start_time": "2022-06-02T18:23:09.933Z"
   },
   {
    "duration": 97,
    "start_time": "2022-06-02T18:23:50.108Z"
   },
   {
    "duration": 109,
    "start_time": "2022-06-02T18:32:52.203Z"
   },
   {
    "duration": 1130,
    "start_time": "2022-06-02T18:32:59.381Z"
   },
   {
    "duration": 1144,
    "start_time": "2022-06-02T18:33:54.710Z"
   },
   {
    "duration": 1305,
    "start_time": "2022-06-02T18:34:22.640Z"
   },
   {
    "duration": 157,
    "start_time": "2022-06-02T18:35:58.207Z"
   },
   {
    "duration": 412,
    "start_time": "2022-06-02T18:36:13.393Z"
   },
   {
    "duration": 72,
    "start_time": "2022-06-02T18:36:59.191Z"
   },
   {
    "duration": 64,
    "start_time": "2022-06-02T18:38:11.687Z"
   },
   {
    "duration": 57,
    "start_time": "2022-06-02T18:38:31.614Z"
   },
   {
    "duration": 45,
    "start_time": "2022-06-02T18:38:46.953Z"
   },
   {
    "duration": 57,
    "start_time": "2022-06-02T18:39:42.550Z"
   },
   {
    "duration": 71,
    "start_time": "2022-06-02T18:40:04.121Z"
   },
   {
    "duration": 646,
    "start_time": "2022-06-02T18:40:33.626Z"
   },
   {
    "duration": 1458,
    "start_time": "2022-06-02T18:40:53.248Z"
   },
   {
    "duration": 1360,
    "start_time": "2022-06-02T18:41:14.201Z"
   },
   {
    "duration": 23282,
    "start_time": "2022-06-02T18:41:46.768Z"
   },
   {
    "duration": 1088,
    "start_time": "2022-06-02T18:43:39.863Z"
   },
   {
    "duration": 205,
    "start_time": "2022-06-02T18:43:40.954Z"
   },
   {
    "duration": 121,
    "start_time": "2022-06-02T18:43:41.161Z"
   },
   {
    "duration": 22,
    "start_time": "2022-06-02T18:43:41.283Z"
   },
   {
    "duration": 49,
    "start_time": "2022-06-02T18:43:41.307Z"
   },
   {
    "duration": 39,
    "start_time": "2022-06-02T18:43:41.358Z"
   },
   {
    "duration": 27,
    "start_time": "2022-06-02T18:43:41.399Z"
   },
   {
    "duration": 146,
    "start_time": "2022-06-02T18:43:41.430Z"
   },
   {
    "duration": 0,
    "start_time": "2022-06-02T18:43:41.578Z"
   },
   {
    "duration": 25,
    "start_time": "2022-06-02T18:43:58.329Z"
   },
   {
    "duration": 23,
    "start_time": "2022-06-02T18:44:54.043Z"
   },
   {
    "duration": 131,
    "start_time": "2022-06-02T18:45:15.821Z"
   },
   {
    "duration": 112,
    "start_time": "2022-06-02T18:45:34.506Z"
   },
   {
    "duration": 1801,
    "start_time": "2022-06-02T18:45:40.366Z"
   },
   {
    "duration": 61,
    "start_time": "2022-06-02T18:47:39.298Z"
   },
   {
    "duration": 83,
    "start_time": "2022-06-02T18:47:44.159Z"
   },
   {
    "duration": 76,
    "start_time": "2022-06-02T18:47:58.365Z"
   },
   {
    "duration": 556,
    "start_time": "2022-06-02T18:49:49.015Z"
   },
   {
    "duration": 650,
    "start_time": "2022-06-02T18:50:41.527Z"
   },
   {
    "duration": 750,
    "start_time": "2022-06-02T18:52:20.267Z"
   },
   {
    "duration": 688,
    "start_time": "2022-06-02T18:54:28.394Z"
   },
   {
    "duration": 5,
    "start_time": "2022-06-02T18:57:02.078Z"
   },
   {
    "duration": 325,
    "start_time": "2022-06-02T18:57:06.362Z"
   },
   {
    "duration": 337,
    "start_time": "2022-06-02T18:57:52.379Z"
   },
   {
    "duration": 6,
    "start_time": "2022-06-02T18:58:00.087Z"
   },
   {
    "duration": 248,
    "start_time": "2022-06-02T18:58:00.095Z"
   },
   {
    "duration": 104,
    "start_time": "2022-06-02T18:58:00.345Z"
   },
   {
    "duration": 25,
    "start_time": "2022-06-02T18:58:00.452Z"
   },
   {
    "duration": 69,
    "start_time": "2022-06-02T18:58:00.479Z"
   },
   {
    "duration": 30,
    "start_time": "2022-06-02T18:58:00.549Z"
   },
   {
    "duration": 24,
    "start_time": "2022-06-02T18:58:00.580Z"
   },
   {
    "duration": 357,
    "start_time": "2022-06-02T18:58:00.605Z"
   },
   {
    "duration": 0,
    "start_time": "2022-06-02T18:58:00.963Z"
   },
   {
    "duration": 624,
    "start_time": "2022-06-02T18:58:09.052Z"
   },
   {
    "duration": 51206,
    "start_time": "2022-06-02T18:58:31.005Z"
   },
   {
    "duration": 1152,
    "start_time": "2022-06-02T18:59:39.007Z"
   },
   {
    "duration": 213,
    "start_time": "2022-06-02T18:59:40.161Z"
   },
   {
    "duration": 123,
    "start_time": "2022-06-02T18:59:40.375Z"
   },
   {
    "duration": 34,
    "start_time": "2022-06-02T18:59:40.500Z"
   },
   {
    "duration": 58,
    "start_time": "2022-06-02T18:59:40.536Z"
   },
   {
    "duration": 40,
    "start_time": "2022-06-02T18:59:40.595Z"
   },
   {
    "duration": 4,
    "start_time": "2022-06-02T18:59:40.643Z"
   },
   {
    "duration": 470,
    "start_time": "2022-06-02T18:59:40.649Z"
   },
   {
    "duration": 0,
    "start_time": "2022-06-02T18:59:41.121Z"
   },
   {
    "duration": 99,
    "start_time": "2022-06-02T18:59:49.299Z"
   },
   {
    "duration": 102,
    "start_time": "2022-06-02T19:01:18.462Z"
   },
   {
    "duration": 71,
    "start_time": "2022-06-02T19:01:41.689Z"
   },
   {
    "duration": 56,
    "start_time": "2022-06-02T19:01:49.763Z"
   },
   {
    "duration": 35,
    "start_time": "2022-06-02T19:02:30.219Z"
   },
   {
    "duration": 91,
    "start_time": "2022-06-02T19:03:05.052Z"
   },
   {
    "duration": 1336,
    "start_time": "2022-06-02T19:04:12.744Z"
   },
   {
    "duration": 4,
    "start_time": "2022-06-02T19:04:33.317Z"
   },
   {
    "duration": 341,
    "start_time": "2022-06-02T19:04:38.472Z"
   },
   {
    "duration": 964,
    "start_time": "2022-06-02T19:05:20.202Z"
   },
   {
    "duration": 961,
    "start_time": "2022-06-02T19:05:47.160Z"
   },
   {
    "duration": 307,
    "start_time": "2022-06-02T19:05:54.656Z"
   },
   {
    "duration": 411,
    "start_time": "2022-06-02T19:06:01.947Z"
   },
   {
    "duration": 332,
    "start_time": "2022-06-02T19:06:24.741Z"
   },
   {
    "duration": 806,
    "start_time": "2022-06-02T19:07:24.867Z"
   },
   {
    "duration": 349,
    "start_time": "2022-06-02T19:08:28.916Z"
   },
   {
    "duration": 688,
    "start_time": "2022-06-02T19:08:35.617Z"
   },
   {
    "duration": 517,
    "start_time": "2022-06-02T19:09:24.063Z"
   },
   {
    "duration": 482,
    "start_time": "2022-06-02T19:10:17.905Z"
   },
   {
    "duration": 345,
    "start_time": "2022-06-02T19:11:01.445Z"
   },
   {
    "duration": 572,
    "start_time": "2022-06-02T19:11:23.990Z"
   },
   {
    "duration": 523,
    "start_time": "2022-06-02T19:11:43.521Z"
   },
   {
    "duration": 494,
    "start_time": "2022-06-02T19:12:06.959Z"
   },
   {
    "duration": 513,
    "start_time": "2022-06-02T19:12:28.814Z"
   },
   {
    "duration": 502,
    "start_time": "2022-06-02T19:13:08.697Z"
   },
   {
    "duration": 587,
    "start_time": "2022-06-02T19:13:35.614Z"
   },
   {
    "duration": 299,
    "start_time": "2022-06-02T19:17:03.051Z"
   },
   {
    "duration": 464,
    "start_time": "2022-06-02T19:18:27.352Z"
   },
   {
    "duration": 557,
    "start_time": "2022-06-02T19:18:50.504Z"
   },
   {
    "duration": 505,
    "start_time": "2022-06-02T19:19:09.686Z"
   },
   {
    "duration": 21,
    "start_time": "2022-06-02T19:21:45.864Z"
   },
   {
    "duration": 527,
    "start_time": "2022-06-02T19:22:32.851Z"
   },
   {
    "duration": 766,
    "start_time": "2022-06-02T19:27:12.478Z"
   },
   {
    "duration": 256,
    "start_time": "2022-06-02T19:28:13.394Z"
   },
   {
    "duration": 239008,
    "start_time": "2022-06-02T19:30:22.418Z"
   },
   {
    "duration": 62,
    "start_time": "2022-06-02T19:39:09.878Z"
   },
   {
    "duration": 1303,
    "start_time": "2022-06-02T19:39:15.608Z"
   },
   {
    "duration": 657,
    "start_time": "2022-06-02T19:39:16.914Z"
   },
   {
    "duration": 114,
    "start_time": "2022-06-02T19:39:17.573Z"
   },
   {
    "duration": 21,
    "start_time": "2022-06-02T19:39:17.688Z"
   },
   {
    "duration": 39,
    "start_time": "2022-06-02T19:39:17.711Z"
   },
   {
    "duration": 31,
    "start_time": "2022-06-02T19:39:17.752Z"
   },
   {
    "duration": 6,
    "start_time": "2022-06-02T19:39:17.785Z"
   },
   {
    "duration": 567,
    "start_time": "2022-06-02T19:39:17.794Z"
   },
   {
    "duration": 516,
    "start_time": "2022-06-02T19:39:18.363Z"
   },
   {
    "duration": 590,
    "start_time": "2022-06-02T19:39:18.881Z"
   },
   {
    "duration": 497,
    "start_time": "2022-06-02T19:42:20.709Z"
   },
   {
    "duration": 4,
    "start_time": "2022-06-02T19:42:30.888Z"
   },
   {
    "duration": 205,
    "start_time": "2022-06-02T19:42:30.894Z"
   },
   {
    "duration": 108,
    "start_time": "2022-06-02T19:42:31.100Z"
   },
   {
    "duration": 35,
    "start_time": "2022-06-02T19:42:31.210Z"
   },
   {
    "duration": 33,
    "start_time": "2022-06-02T19:42:31.247Z"
   },
   {
    "duration": 41,
    "start_time": "2022-06-02T19:42:31.282Z"
   },
   {
    "duration": 12,
    "start_time": "2022-06-02T19:42:31.329Z"
   },
   {
    "duration": 410,
    "start_time": "2022-06-02T19:42:31.342Z"
   },
   {
    "duration": 544,
    "start_time": "2022-06-02T19:42:31.753Z"
   },
   {
    "duration": 285,
    "start_time": "2022-06-02T19:42:32.299Z"
   },
   {
    "duration": 42481,
    "start_time": "2022-06-02T19:42:54.391Z"
   },
   {
    "duration": 1113,
    "start_time": "2022-06-02T19:44:26.505Z"
   },
   {
    "duration": 233,
    "start_time": "2022-06-02T19:44:27.619Z"
   },
   {
    "duration": 149,
    "start_time": "2022-06-02T19:44:27.854Z"
   },
   {
    "duration": 42,
    "start_time": "2022-06-02T19:44:28.006Z"
   },
   {
    "duration": 41,
    "start_time": "2022-06-02T19:44:28.050Z"
   },
   {
    "duration": 53,
    "start_time": "2022-06-02T19:44:28.094Z"
   },
   {
    "duration": 5,
    "start_time": "2022-06-02T19:44:28.148Z"
   },
   {
    "duration": 525,
    "start_time": "2022-06-02T19:44:28.154Z"
   },
   {
    "duration": 578,
    "start_time": "2022-06-02T19:44:28.681Z"
   },
   {
    "duration": 324,
    "start_time": "2022-06-02T19:44:29.262Z"
   },
   {
    "duration": 64,
    "start_time": "2022-06-02T19:47:28.203Z"
   },
   {
    "duration": 186,
    "start_time": "2022-06-02T19:47:28.270Z"
   },
   {
    "duration": 118,
    "start_time": "2022-06-02T19:47:28.458Z"
   },
   {
    "duration": 22,
    "start_time": "2022-06-02T19:47:28.577Z"
   },
   {
    "duration": 45,
    "start_time": "2022-06-02T19:47:28.600Z"
   },
   {
    "duration": 29,
    "start_time": "2022-06-02T19:47:28.647Z"
   },
   {
    "duration": 4,
    "start_time": "2022-06-02T19:47:28.678Z"
   },
   {
    "duration": 331,
    "start_time": "2022-06-02T19:47:28.684Z"
   },
   {
    "duration": 492,
    "start_time": "2022-06-02T19:47:29.016Z"
   },
   {
    "duration": 407,
    "start_time": "2022-06-02T19:47:29.510Z"
   },
   {
    "duration": 3,
    "start_time": "2022-06-02T19:52:37.236Z"
   },
   {
    "duration": 6,
    "start_time": "2022-06-02T19:52:52.007Z"
   },
   {
    "duration": 185,
    "start_time": "2022-06-02T19:52:52.015Z"
   },
   {
    "duration": 101,
    "start_time": "2022-06-02T19:52:52.202Z"
   },
   {
    "duration": 38,
    "start_time": "2022-06-02T19:52:52.305Z"
   },
   {
    "duration": 30,
    "start_time": "2022-06-02T19:52:52.345Z"
   },
   {
    "duration": 37,
    "start_time": "2022-06-02T19:52:52.377Z"
   },
   {
    "duration": 6,
    "start_time": "2022-06-02T19:52:52.431Z"
   },
   {
    "duration": 305,
    "start_time": "2022-06-02T19:52:52.438Z"
   },
   {
    "duration": 531,
    "start_time": "2022-06-02T19:52:52.745Z"
   },
   {
    "duration": 4,
    "start_time": "2022-06-02T19:52:53.278Z"
   },
   {
    "duration": 205,
    "start_time": "2022-06-02T19:53:26.939Z"
   },
   {
    "duration": 0,
    "start_time": "2022-06-02T19:55:38.629Z"
   },
   {
    "duration": 1218,
    "start_time": "2022-06-02T19:55:49.564Z"
   },
   {
    "duration": 213,
    "start_time": "2022-06-02T19:55:50.783Z"
   },
   {
    "duration": 128,
    "start_time": "2022-06-02T19:55:50.998Z"
   },
   {
    "duration": 34,
    "start_time": "2022-06-02T19:55:51.128Z"
   },
   {
    "duration": 27,
    "start_time": "2022-06-02T19:55:51.164Z"
   },
   {
    "duration": 57,
    "start_time": "2022-06-02T19:55:51.193Z"
   },
   {
    "duration": 11,
    "start_time": "2022-06-02T19:55:51.254Z"
   },
   {
    "duration": 531,
    "start_time": "2022-06-02T19:55:51.266Z"
   },
   {
    "duration": 530,
    "start_time": "2022-06-02T19:55:51.799Z"
   },
   {
    "duration": 335,
    "start_time": "2022-06-02T19:55:52.330Z"
   },
   {
    "duration": 475,
    "start_time": "2022-06-02T20:20:55.109Z"
   },
   {
    "duration": 36,
    "start_time": "2022-06-02T20:21:32.437Z"
   },
   {
    "duration": 7,
    "start_time": "2022-06-02T20:21:45.975Z"
   },
   {
    "duration": 242,
    "start_time": "2022-06-02T20:21:45.985Z"
   },
   {
    "duration": 116,
    "start_time": "2022-06-02T20:21:46.229Z"
   },
   {
    "duration": 24,
    "start_time": "2022-06-02T20:21:46.347Z"
   },
   {
    "duration": 53,
    "start_time": "2022-06-02T20:21:46.373Z"
   },
   {
    "duration": 34,
    "start_time": "2022-06-02T20:21:46.434Z"
   },
   {
    "duration": 5,
    "start_time": "2022-06-02T20:21:46.470Z"
   },
   {
    "duration": 330,
    "start_time": "2022-06-02T20:21:46.476Z"
   },
   {
    "duration": 645,
    "start_time": "2022-06-02T20:21:46.808Z"
   },
   {
    "duration": 301,
    "start_time": "2022-06-02T20:21:47.455Z"
   },
   {
    "duration": 6,
    "start_time": "2022-06-02T20:22:03.774Z"
   },
   {
    "duration": 206,
    "start_time": "2022-06-02T20:22:03.782Z"
   },
   {
    "duration": 118,
    "start_time": "2022-06-02T20:22:03.991Z"
   },
   {
    "duration": 33,
    "start_time": "2022-06-02T20:22:04.111Z"
   },
   {
    "duration": 33,
    "start_time": "2022-06-02T20:22:04.147Z"
   },
   {
    "duration": 48,
    "start_time": "2022-06-02T20:22:04.182Z"
   },
   {
    "duration": 7,
    "start_time": "2022-06-02T20:22:04.236Z"
   },
   {
    "duration": 328,
    "start_time": "2022-06-02T20:22:04.245Z"
   },
   {
    "duration": 521,
    "start_time": "2022-06-02T20:22:04.575Z"
   },
   {
    "duration": 319,
    "start_time": "2022-06-02T20:22:05.098Z"
   },
   {
    "duration": 404,
    "start_time": "2022-06-02T20:37:02.161Z"
   },
   {
    "duration": 6,
    "start_time": "2022-06-02T20:38:00.054Z"
   },
   {
    "duration": 201,
    "start_time": "2022-06-02T20:38:00.062Z"
   },
   {
    "duration": 102,
    "start_time": "2022-06-02T20:38:00.265Z"
   },
   {
    "duration": 23,
    "start_time": "2022-06-02T20:38:00.368Z"
   },
   {
    "duration": 52,
    "start_time": "2022-06-02T20:38:00.393Z"
   },
   {
    "duration": 44,
    "start_time": "2022-06-02T20:38:00.446Z"
   },
   {
    "duration": 6,
    "start_time": "2022-06-02T20:38:00.491Z"
   },
   {
    "duration": 309,
    "start_time": "2022-06-02T20:38:00.498Z"
   },
   {
    "duration": 515,
    "start_time": "2022-06-02T20:38:00.809Z"
   },
   {
    "duration": 313,
    "start_time": "2022-06-02T20:38:01.326Z"
   },
   {
    "duration": 590,
    "start_time": "2022-06-02T20:41:57.357Z"
   },
   {
    "duration": 28,
    "start_time": "2022-06-02T20:46:44.872Z"
   },
   {
    "duration": 414,
    "start_time": "2022-06-02T21:01:24.074Z"
   },
   {
    "duration": 133,
    "start_time": "2022-06-02T21:12:02.543Z"
   },
   {
    "duration": 10,
    "start_time": "2022-06-02T21:13:26.240Z"
   },
   {
    "duration": 10,
    "start_time": "2022-06-02T21:15:13.861Z"
   },
   {
    "duration": 10,
    "start_time": "2022-06-02T21:16:40.957Z"
   },
   {
    "duration": 9,
    "start_time": "2022-06-02T21:16:50.582Z"
   },
   {
    "duration": 9,
    "start_time": "2022-06-02T21:16:57.908Z"
   },
   {
    "duration": 9,
    "start_time": "2022-06-02T21:17:24.688Z"
   },
   {
    "duration": 299,
    "start_time": "2022-06-02T21:18:46.549Z"
   },
   {
    "duration": 13,
    "start_time": "2022-06-02T21:19:57.065Z"
   },
   {
    "duration": 83,
    "start_time": "2022-06-02T21:20:44.679Z"
   },
   {
    "duration": 798,
    "start_time": "2022-06-02T21:21:16.083Z"
   },
   {
    "duration": 40,
    "start_time": "2022-06-02T21:21:48.990Z"
   },
   {
    "duration": 59,
    "start_time": "2022-06-02T21:22:11.055Z"
   },
   {
    "duration": 57,
    "start_time": "2022-06-02T21:22:28.734Z"
   },
   {
    "duration": 71,
    "start_time": "2022-06-02T21:23:24.008Z"
   },
   {
    "duration": 53,
    "start_time": "2022-06-02T21:24:09.035Z"
   },
   {
    "duration": 40,
    "start_time": "2022-06-02T21:24:32.184Z"
   },
   {
    "duration": 51,
    "start_time": "2022-06-02T21:26:07.518Z"
   },
   {
    "duration": 38,
    "start_time": "2022-06-02T21:27:05.502Z"
   },
   {
    "duration": 34,
    "start_time": "2022-06-02T21:27:37.675Z"
   },
   {
    "duration": 53,
    "start_time": "2022-06-02T21:27:48.819Z"
   },
   {
    "duration": 61,
    "start_time": "2022-06-02T21:28:08.999Z"
   },
   {
    "duration": 40,
    "start_time": "2022-06-02T21:28:29.591Z"
   },
   {
    "duration": 47,
    "start_time": "2022-06-02T21:28:34.687Z"
   },
   {
    "duration": 40,
    "start_time": "2022-06-02T21:28:43.775Z"
   },
   {
    "duration": 56,
    "start_time": "2022-06-02T21:28:52.508Z"
   },
   {
    "duration": 43,
    "start_time": "2022-06-02T21:29:03.185Z"
   },
   {
    "duration": 53,
    "start_time": "2022-06-02T21:29:11.705Z"
   },
   {
    "duration": 32,
    "start_time": "2022-06-02T21:29:52.363Z"
   },
   {
    "duration": 35,
    "start_time": "2022-06-02T21:30:13.075Z"
   },
   {
    "duration": 32,
    "start_time": "2022-06-02T21:30:27.651Z"
   },
   {
    "duration": 349,
    "start_time": "2022-06-02T21:31:50.906Z"
   },
   {
    "duration": 50,
    "start_time": "2022-06-02T21:31:58.826Z"
   },
   {
    "duration": 41,
    "start_time": "2022-06-02T21:32:30.191Z"
   },
   {
    "duration": 43,
    "start_time": "2022-06-02T21:34:17.964Z"
   },
   {
    "duration": 200,
    "start_time": "2022-06-02T21:36:41.195Z"
   },
   {
    "duration": 220,
    "start_time": "2022-06-02T21:37:03.780Z"
   },
   {
    "duration": 48,
    "start_time": "2022-06-02T21:39:42.534Z"
   },
   {
    "duration": 64,
    "start_time": "2022-06-02T21:39:56.763Z"
   },
   {
    "duration": 24,
    "start_time": "2022-06-02T21:40:18.473Z"
   },
   {
    "duration": 43,
    "start_time": "2022-06-02T21:40:33.868Z"
   },
   {
    "duration": 32,
    "start_time": "2022-06-02T21:41:23.655Z"
   },
   {
    "duration": 58,
    "start_time": "2022-06-02T21:42:30.722Z"
   },
   {
    "duration": 45,
    "start_time": "2022-06-02T21:42:51.594Z"
   },
   {
    "duration": 52,
    "start_time": "2022-06-02T21:44:14.990Z"
   },
   {
    "duration": 63,
    "start_time": "2022-06-02T21:45:27.991Z"
   },
   {
    "duration": 40,
    "start_time": "2022-06-02T21:46:04.947Z"
   },
   {
    "duration": 12,
    "start_time": "2022-06-02T21:51:50.672Z"
   },
   {
    "duration": 11,
    "start_time": "2022-06-02T21:52:34.253Z"
   },
   {
    "duration": 24,
    "start_time": "2022-06-02T21:53:55.865Z"
   },
   {
    "duration": 172,
    "start_time": "2022-06-02T21:56:08.202Z"
   },
   {
    "duration": 47,
    "start_time": "2022-06-02T21:57:18.516Z"
   },
   {
    "duration": 24,
    "start_time": "2022-06-02T21:57:47.479Z"
   },
   {
    "duration": 174,
    "start_time": "2022-06-02T22:04:33.264Z"
   },
   {
    "duration": 201,
    "start_time": "2022-06-02T22:05:00.536Z"
   },
   {
    "duration": 68,
    "start_time": "2022-06-02T22:05:12.851Z"
   },
   {
    "duration": 62,
    "start_time": "2022-06-02T22:07:25.156Z"
   },
   {
    "duration": 6,
    "start_time": "2022-06-02T22:08:00.149Z"
   },
   {
    "duration": 199,
    "start_time": "2022-06-02T22:08:00.157Z"
   },
   {
    "duration": 120,
    "start_time": "2022-06-02T22:08:00.358Z"
   },
   {
    "duration": 22,
    "start_time": "2022-06-02T22:08:00.480Z"
   },
   {
    "duration": 49,
    "start_time": "2022-06-02T22:08:00.505Z"
   },
   {
    "duration": 28,
    "start_time": "2022-06-02T22:08:00.556Z"
   },
   {
    "duration": 5,
    "start_time": "2022-06-02T22:08:00.586Z"
   },
   {
    "duration": 325,
    "start_time": "2022-06-02T22:08:00.592Z"
   },
   {
    "duration": 507,
    "start_time": "2022-06-02T22:08:00.923Z"
   },
   {
    "duration": 29,
    "start_time": "2022-06-02T22:08:01.437Z"
   },
   {
    "duration": 313,
    "start_time": "2022-06-02T22:08:01.468Z"
   },
   {
    "duration": 43,
    "start_time": "2022-06-02T22:08:01.783Z"
   },
   {
    "duration": 56,
    "start_time": "2022-06-02T22:08:01.827Z"
   },
   {
    "duration": 78,
    "start_time": "2022-06-02T22:08:01.885Z"
   },
   {
    "duration": 44,
    "start_time": "2022-06-02T22:23:09.486Z"
   },
   {
    "duration": 61,
    "start_time": "2022-06-02T22:23:40.344Z"
   },
   {
    "duration": 30,
    "start_time": "2022-06-02T22:24:45.344Z"
   },
   {
    "duration": 31,
    "start_time": "2022-06-02T22:25:24.519Z"
   },
   {
    "duration": 27,
    "start_time": "2022-06-02T22:25:32.931Z"
   },
   {
    "duration": 27,
    "start_time": "2022-06-02T22:25:41.294Z"
   },
   {
    "duration": 40,
    "start_time": "2022-06-02T22:26:16.930Z"
   },
   {
    "duration": 89,
    "start_time": "2022-06-02T22:26:28.838Z"
   },
   {
    "duration": 30,
    "start_time": "2022-06-02T22:28:19.170Z"
   },
   {
    "duration": 25,
    "start_time": "2022-06-02T22:28:28.790Z"
   },
   {
    "duration": 81,
    "start_time": "2022-06-02T22:31:12.352Z"
   },
   {
    "duration": 51,
    "start_time": "2022-06-02T22:39:47.287Z"
   },
   {
    "duration": 66,
    "start_time": "2022-06-02T22:42:09.087Z"
   },
   {
    "duration": 46,
    "start_time": "2022-06-02T22:42:51.160Z"
   },
   {
    "duration": 178,
    "start_time": "2022-06-02T22:43:12.579Z"
   },
   {
    "duration": 58,
    "start_time": "2022-06-02T22:43:58.772Z"
   },
   {
    "duration": 34,
    "start_time": "2022-06-02T22:44:41.773Z"
   },
   {
    "duration": 82,
    "start_time": "2022-06-02T22:45:45.336Z"
   },
   {
    "duration": 1190,
    "start_time": "2022-06-02T22:46:31.551Z"
   },
   {
    "duration": 598,
    "start_time": "2022-06-02T22:46:32.743Z"
   },
   {
    "duration": 102,
    "start_time": "2022-06-02T22:46:33.343Z"
   },
   {
    "duration": 20,
    "start_time": "2022-06-02T22:46:33.448Z"
   },
   {
    "duration": 27,
    "start_time": "2022-06-02T22:46:33.470Z"
   },
   {
    "duration": 54,
    "start_time": "2022-06-02T22:46:33.499Z"
   },
   {
    "duration": 4,
    "start_time": "2022-06-02T22:46:33.555Z"
   },
   {
    "duration": 483,
    "start_time": "2022-06-02T22:46:33.561Z"
   },
   {
    "duration": 466,
    "start_time": "2022-06-02T22:46:34.046Z"
   },
   {
    "duration": 41,
    "start_time": "2022-06-02T22:46:34.514Z"
   },
   {
    "duration": 268,
    "start_time": "2022-06-02T22:46:34.556Z"
   },
   {
    "duration": 35,
    "start_time": "2022-06-02T22:46:34.833Z"
   },
   {
    "duration": 54,
    "start_time": "2022-06-02T22:46:34.869Z"
   },
   {
    "duration": 52,
    "start_time": "2022-06-02T22:46:34.924Z"
   },
   {
    "duration": 96,
    "start_time": "2022-06-02T22:46:34.978Z"
   },
   {
    "duration": 63,
    "start_time": "2022-06-02T22:47:05.036Z"
   },
   {
    "duration": 116,
    "start_time": "2022-06-02T22:49:24.038Z"
   },
   {
    "duration": 26,
    "start_time": "2022-06-02T22:49:43.409Z"
   },
   {
    "duration": 27,
    "start_time": "2022-06-02T22:50:38.677Z"
   },
   {
    "duration": 46,
    "start_time": "2022-06-02T22:50:54.859Z"
   },
   {
    "duration": 49,
    "start_time": "2022-06-02T22:51:08.762Z"
   },
   {
    "duration": 47,
    "start_time": "2022-06-02T22:51:20.937Z"
   },
   {
    "duration": 11,
    "start_time": "2022-06-02T22:53:31.782Z"
   },
   {
    "duration": 74,
    "start_time": "2022-06-02T22:55:41.203Z"
   },
   {
    "duration": 107,
    "start_time": "2022-06-02T22:55:59.021Z"
   },
   {
    "duration": 69,
    "start_time": "2022-06-02T22:56:10.996Z"
   },
   {
    "duration": 82,
    "start_time": "2022-06-02T22:56:15.468Z"
   },
   {
    "duration": 1339,
    "start_time": "2022-06-03T18:36:40.980Z"
   },
   {
    "duration": 866,
    "start_time": "2022-06-03T18:36:42.322Z"
   },
   {
    "duration": 118,
    "start_time": "2022-06-03T18:36:43.190Z"
   },
   {
    "duration": 35,
    "start_time": "2022-06-03T18:36:43.311Z"
   },
   {
    "duration": 55,
    "start_time": "2022-06-03T18:36:43.348Z"
   },
   {
    "duration": 52,
    "start_time": "2022-06-03T18:36:43.404Z"
   },
   {
    "duration": 4,
    "start_time": "2022-06-03T18:36:43.458Z"
   },
   {
    "duration": 533,
    "start_time": "2022-06-03T18:36:43.464Z"
   },
   {
    "duration": 577,
    "start_time": "2022-06-03T18:36:43.999Z"
   },
   {
    "duration": 54,
    "start_time": "2022-06-03T18:36:44.578Z"
   },
   {
    "duration": 336,
    "start_time": "2022-06-03T18:36:44.634Z"
   },
   {
    "duration": 37,
    "start_time": "2022-06-03T18:36:44.971Z"
   },
   {
    "duration": 75,
    "start_time": "2022-06-03T18:36:45.010Z"
   },
   {
    "duration": 94,
    "start_time": "2022-06-03T18:36:45.087Z"
   },
   {
    "duration": 101,
    "start_time": "2022-06-03T18:44:20.776Z"
   },
   {
    "duration": 98,
    "start_time": "2022-06-03T18:45:00.390Z"
   },
   {
    "duration": 125,
    "start_time": "2022-06-03T18:51:33.577Z"
   },
   {
    "duration": 33,
    "start_time": "2022-06-03T18:52:13.138Z"
   },
   {
    "duration": 85,
    "start_time": "2022-06-03T18:52:25.761Z"
   },
   {
    "duration": 195,
    "start_time": "2022-06-03T18:53:32.111Z"
   },
   {
    "duration": 94,
    "start_time": "2022-06-03T18:55:03.687Z"
   },
   {
    "duration": 93,
    "start_time": "2022-06-03T18:55:26.945Z"
   },
   {
    "duration": 89,
    "start_time": "2022-06-03T18:55:30.895Z"
   },
   {
    "duration": 86,
    "start_time": "2022-06-03T18:56:57.531Z"
   },
   {
    "duration": 28,
    "start_time": "2022-06-03T19:48:49.403Z"
   },
   {
    "duration": 52,
    "start_time": "2022-06-03T19:49:08.657Z"
   },
   {
    "duration": 644,
    "start_time": "2022-06-03T19:51:24.617Z"
   },
   {
    "duration": 120,
    "start_time": "2022-06-03T20:04:45.808Z"
   },
   {
    "duration": 142,
    "start_time": "2022-06-03T20:06:10.686Z"
   },
   {
    "duration": 151,
    "start_time": "2022-06-03T20:06:50.791Z"
   },
   {
    "duration": 182,
    "start_time": "2022-06-03T20:06:58.154Z"
   },
   {
    "duration": 129,
    "start_time": "2022-06-03T20:07:33.080Z"
   },
   {
    "duration": 623,
    "start_time": "2022-06-03T20:07:50.095Z"
   },
   {
    "duration": 131,
    "start_time": "2022-06-03T20:08:00.245Z"
   },
   {
    "duration": 36338,
    "start_time": "2022-06-03T20:08:20.574Z"
   },
   {
    "duration": 243,
    "start_time": "2022-06-03T20:11:15.185Z"
   },
   {
    "duration": 630,
    "start_time": "2022-06-03T20:11:46.156Z"
   },
   {
    "duration": 46,
    "start_time": "2022-06-03T20:12:36.086Z"
   },
   {
    "duration": 47,
    "start_time": "2022-06-03T20:12:47.750Z"
   },
   {
    "duration": 71,
    "start_time": "2022-06-03T20:13:06.449Z"
   },
   {
    "duration": 10,
    "start_time": "2022-06-03T20:13:40.374Z"
   },
   {
    "duration": 72,
    "start_time": "2022-06-03T20:13:52.703Z"
   },
   {
    "duration": 49,
    "start_time": "2022-06-03T20:14:00.886Z"
   },
   {
    "duration": 549,
    "start_time": "2022-06-03T20:14:28.663Z"
   },
   {
    "duration": 133,
    "start_time": "2022-06-03T20:14:41.343Z"
   },
   {
    "duration": 134,
    "start_time": "2022-06-03T20:15:19.144Z"
   },
   {
    "duration": 122,
    "start_time": "2022-06-03T20:15:33.874Z"
   },
   {
    "duration": 67,
    "start_time": "2022-06-03T20:19:29.352Z"
   },
   {
    "duration": 68,
    "start_time": "2022-06-03T20:22:44.072Z"
   },
   {
    "duration": 9,
    "start_time": "2022-06-03T20:30:55.702Z"
   },
   {
    "duration": 188,
    "start_time": "2022-06-03T20:30:55.715Z"
   },
   {
    "duration": 106,
    "start_time": "2022-06-03T20:30:55.905Z"
   },
   {
    "duration": 29,
    "start_time": "2022-06-03T20:30:56.013Z"
   },
   {
    "duration": 29,
    "start_time": "2022-06-03T20:30:56.044Z"
   },
   {
    "duration": 29,
    "start_time": "2022-06-03T20:30:56.074Z"
   },
   {
    "duration": 5,
    "start_time": "2022-06-03T20:30:56.128Z"
   },
   {
    "duration": 327,
    "start_time": "2022-06-03T20:30:56.136Z"
   },
   {
    "duration": 579,
    "start_time": "2022-06-03T20:30:56.464Z"
   },
   {
    "duration": 29,
    "start_time": "2022-06-03T20:30:57.045Z"
   },
   {
    "duration": 314,
    "start_time": "2022-06-03T20:30:57.075Z"
   },
   {
    "duration": 47,
    "start_time": "2022-06-03T20:30:57.390Z"
   },
   {
    "duration": 54,
    "start_time": "2022-06-03T20:30:57.439Z"
   },
   {
    "duration": 81,
    "start_time": "2022-06-03T20:30:57.494Z"
   },
   {
    "duration": 5,
    "start_time": "2022-06-03T20:43:52.743Z"
   },
   {
    "duration": 181,
    "start_time": "2022-06-03T20:43:52.751Z"
   },
   {
    "duration": 99,
    "start_time": "2022-06-03T20:43:52.933Z"
   },
   {
    "duration": 23,
    "start_time": "2022-06-03T20:43:53.034Z"
   },
   {
    "duration": 32,
    "start_time": "2022-06-03T20:43:53.060Z"
   },
   {
    "duration": 58,
    "start_time": "2022-06-03T20:43:53.097Z"
   },
   {
    "duration": 6,
    "start_time": "2022-06-03T20:43:53.157Z"
   },
   {
    "duration": 312,
    "start_time": "2022-06-03T20:43:53.165Z"
   },
   {
    "duration": 496,
    "start_time": "2022-06-03T20:43:53.478Z"
   },
   {
    "duration": 29,
    "start_time": "2022-06-03T20:43:53.975Z"
   },
   {
    "duration": 323,
    "start_time": "2022-06-03T20:43:54.006Z"
   },
   {
    "duration": 47,
    "start_time": "2022-06-03T20:43:54.334Z"
   },
   {
    "duration": 83,
    "start_time": "2022-06-03T20:43:54.383Z"
   },
   {
    "duration": 97,
    "start_time": "2022-06-03T20:43:54.469Z"
   },
   {
    "duration": 1371,
    "start_time": "2022-06-04T08:23:30.289Z"
   },
   {
    "duration": 615,
    "start_time": "2022-06-04T08:23:31.664Z"
   },
   {
    "duration": 120,
    "start_time": "2022-06-04T08:23:32.281Z"
   },
   {
    "duration": 26,
    "start_time": "2022-06-04T08:23:32.402Z"
   },
   {
    "duration": 64,
    "start_time": "2022-06-04T08:23:32.431Z"
   },
   {
    "duration": 46,
    "start_time": "2022-06-04T08:23:32.497Z"
   },
   {
    "duration": 7,
    "start_time": "2022-06-04T08:23:32.566Z"
   },
   {
    "duration": 589,
    "start_time": "2022-06-04T08:23:32.575Z"
   },
   {
    "duration": 501,
    "start_time": "2022-06-04T08:23:33.166Z"
   },
   {
    "duration": 32,
    "start_time": "2022-06-04T08:23:33.669Z"
   },
   {
    "duration": 332,
    "start_time": "2022-06-04T08:23:33.703Z"
   },
   {
    "duration": 40,
    "start_time": "2022-06-04T08:23:34.037Z"
   },
   {
    "duration": 56,
    "start_time": "2022-06-04T08:23:34.079Z"
   },
   {
    "duration": 79,
    "start_time": "2022-06-04T08:23:34.138Z"
   },
   {
    "duration": 9,
    "start_time": "2022-06-04T08:29:10.697Z"
   },
   {
    "duration": 108,
    "start_time": "2022-06-04T08:34:03.225Z"
   },
   {
    "duration": 427,
    "start_time": "2022-06-04T08:34:22.620Z"
   },
   {
    "duration": 9,
    "start_time": "2022-06-04T08:34:45.997Z"
   },
   {
    "duration": 12,
    "start_time": "2022-06-04T09:09:21.507Z"
   },
   {
    "duration": 5,
    "start_time": "2022-06-04T09:10:34.044Z"
   },
   {
    "duration": 195,
    "start_time": "2022-06-04T09:10:34.051Z"
   },
   {
    "duration": 95,
    "start_time": "2022-06-04T09:10:34.247Z"
   },
   {
    "duration": 28,
    "start_time": "2022-06-04T09:10:34.345Z"
   },
   {
    "duration": 29,
    "start_time": "2022-06-04T09:10:34.375Z"
   },
   {
    "duration": 29,
    "start_time": "2022-06-04T09:10:34.405Z"
   },
   {
    "duration": 28,
    "start_time": "2022-06-04T09:10:34.436Z"
   },
   {
    "duration": 317,
    "start_time": "2022-06-04T09:10:34.466Z"
   },
   {
    "duration": 482,
    "start_time": "2022-06-04T09:10:34.784Z"
   },
   {
    "duration": 27,
    "start_time": "2022-06-04T09:10:35.268Z"
   },
   {
    "duration": 393,
    "start_time": "2022-06-04T09:10:35.297Z"
   },
   {
    "duration": 73,
    "start_time": "2022-06-04T09:10:35.692Z"
   },
   {
    "duration": 8,
    "start_time": "2022-06-04T09:10:35.767Z"
   },
   {
    "duration": 24,
    "start_time": "2022-06-04T09:10:35.777Z"
   },
   {
    "duration": 18,
    "start_time": "2022-06-04T09:10:35.802Z"
   },
   {
    "duration": 1508,
    "start_time": "2022-06-04T18:27:06.718Z"
   },
   {
    "duration": 1042,
    "start_time": "2022-06-04T18:27:08.229Z"
   },
   {
    "duration": 149,
    "start_time": "2022-06-04T18:27:09.273Z"
   },
   {
    "duration": 31,
    "start_time": "2022-06-04T18:27:09.425Z"
   },
   {
    "duration": 52,
    "start_time": "2022-06-04T18:27:09.459Z"
   },
   {
    "duration": 34,
    "start_time": "2022-06-04T18:27:09.518Z"
   },
   {
    "duration": 5,
    "start_time": "2022-06-04T18:27:09.554Z"
   },
   {
    "duration": 623,
    "start_time": "2022-06-04T18:27:09.560Z"
   },
   {
    "duration": 638,
    "start_time": "2022-06-04T18:27:10.185Z"
   },
   {
    "duration": 31,
    "start_time": "2022-06-04T18:27:10.825Z"
   },
   {
    "duration": 393,
    "start_time": "2022-06-04T18:27:10.858Z"
   },
   {
    "duration": 89,
    "start_time": "2022-06-04T18:27:11.254Z"
   },
   {
    "duration": 10,
    "start_time": "2022-06-04T18:27:11.345Z"
   },
   {
    "duration": 11,
    "start_time": "2022-06-04T18:27:11.358Z"
   },
   {
    "duration": 28,
    "start_time": "2022-06-04T18:27:11.390Z"
   },
   {
    "duration": 7,
    "start_time": "2022-06-04T19:13:25.223Z"
   },
   {
    "duration": 258,
    "start_time": "2022-06-04T19:13:25.235Z"
   },
   {
    "duration": 176,
    "start_time": "2022-06-04T19:13:25.495Z"
   },
   {
    "duration": 53,
    "start_time": "2022-06-04T19:13:25.674Z"
   },
   {
    "duration": 55,
    "start_time": "2022-06-04T19:13:25.728Z"
   },
   {
    "duration": 67,
    "start_time": "2022-06-04T19:13:25.786Z"
   },
   {
    "duration": 6,
    "start_time": "2022-06-04T19:13:25.855Z"
   },
   {
    "duration": 422,
    "start_time": "2022-06-04T19:13:25.863Z"
   },
   {
    "duration": 704,
    "start_time": "2022-06-04T19:13:26.298Z"
   },
   {
    "duration": 53,
    "start_time": "2022-06-04T19:13:27.004Z"
   },
   {
    "duration": 522,
    "start_time": "2022-06-04T19:13:27.059Z"
   },
   {
    "duration": 101,
    "start_time": "2022-06-04T19:13:27.582Z"
   },
   {
    "duration": 47,
    "start_time": "2022-06-04T19:13:27.684Z"
   },
   {
    "duration": 19,
    "start_time": "2022-06-04T19:13:27.735Z"
   },
   {
    "duration": 17,
    "start_time": "2022-06-04T19:13:27.756Z"
   },
   {
    "duration": 58,
    "start_time": "2022-06-04T19:33:03.354Z"
   },
   {
    "duration": 81,
    "start_time": "2022-06-04T19:33:13.280Z"
   },
   {
    "duration": 31,
    "start_time": "2022-06-04T19:33:52.149Z"
   },
   {
    "duration": 43,
    "start_time": "2022-06-04T19:34:07.235Z"
   },
   {
    "duration": 253,
    "start_time": "2022-06-04T19:34:23.312Z"
   },
   {
    "duration": 76,
    "start_time": "2022-06-04T19:35:02.684Z"
   },
   {
    "duration": 78,
    "start_time": "2022-06-04T19:35:16.020Z"
   },
   {
    "duration": 59,
    "start_time": "2022-06-04T19:35:53.458Z"
   },
   {
    "duration": 87,
    "start_time": "2022-06-04T19:36:16.396Z"
   },
   {
    "duration": 76,
    "start_time": "2022-06-04T19:36:21.764Z"
   },
   {
    "duration": 59,
    "start_time": "2022-06-04T19:36:49.946Z"
   },
   {
    "duration": 33,
    "start_time": "2022-06-04T19:37:05.756Z"
   },
   {
    "duration": 33,
    "start_time": "2022-06-04T19:46:31.044Z"
   },
   {
    "duration": 63,
    "start_time": "2022-06-04T19:46:44.452Z"
   },
   {
    "duration": 15,
    "start_time": "2022-06-04T19:48:43.666Z"
   },
   {
    "duration": 17,
    "start_time": "2022-06-04T19:48:52.198Z"
   },
   {
    "duration": 23,
    "start_time": "2022-06-04T19:49:22.237Z"
   },
   {
    "duration": 114,
    "start_time": "2022-06-04T19:49:27.150Z"
   },
   {
    "duration": 18,
    "start_time": "2022-06-04T19:49:42.447Z"
   },
   {
    "duration": 15,
    "start_time": "2022-06-04T19:49:56.095Z"
   },
   {
    "duration": 26,
    "start_time": "2022-06-04T19:50:10.011Z"
   },
   {
    "duration": 17,
    "start_time": "2022-06-04T19:50:18.867Z"
   },
   {
    "duration": 14,
    "start_time": "2022-06-04T19:50:43.112Z"
   },
   {
    "duration": 23,
    "start_time": "2022-06-04T19:52:10.608Z"
   },
   {
    "duration": 413,
    "start_time": "2022-06-04T19:52:10.633Z"
   },
   {
    "duration": 176,
    "start_time": "2022-06-04T19:52:11.048Z"
   },
   {
    "duration": 46,
    "start_time": "2022-06-04T19:52:11.230Z"
   },
   {
    "duration": 82,
    "start_time": "2022-06-04T19:52:11.279Z"
   },
   {
    "duration": 81,
    "start_time": "2022-06-04T19:52:11.367Z"
   },
   {
    "duration": 33,
    "start_time": "2022-06-04T19:52:11.450Z"
   },
   {
    "duration": 518,
    "start_time": "2022-06-04T19:52:11.485Z"
   },
   {
    "duration": 712,
    "start_time": "2022-06-04T19:52:12.010Z"
   },
   {
    "duration": 53,
    "start_time": "2022-06-04T19:52:12.731Z"
   },
   {
    "duration": 510,
    "start_time": "2022-06-04T19:52:12.786Z"
   },
   {
    "duration": 141,
    "start_time": "2022-06-04T19:52:13.298Z"
   },
   {
    "duration": 18,
    "start_time": "2022-06-04T19:52:13.441Z"
   },
   {
    "duration": 20,
    "start_time": "2022-06-04T19:52:13.463Z"
   },
   {
    "duration": 83,
    "start_time": "2022-06-04T19:52:13.485Z"
   },
   {
    "duration": 117,
    "start_time": "2022-06-04T19:56:02.520Z"
   },
   {
    "duration": 126,
    "start_time": "2022-06-04T19:56:15.181Z"
   },
   {
    "duration": 5028,
    "start_time": "2022-06-04T19:58:07.511Z"
   },
   {
    "duration": 203,
    "start_time": "2022-06-04T19:58:42.733Z"
   },
   {
    "duration": 135,
    "start_time": "2022-06-04T20:02:03.016Z"
   },
   {
    "duration": 100,
    "start_time": "2022-06-04T20:02:31.041Z"
   },
   {
    "duration": 148,
    "start_time": "2022-06-04T20:05:38.545Z"
   },
   {
    "duration": 14,
    "start_time": "2022-06-04T20:40:07.380Z"
   },
   {
    "duration": 36,
    "start_time": "2022-06-04T20:41:27.400Z"
   },
   {
    "duration": 21,
    "start_time": "2022-06-04T20:43:37.262Z"
   },
   {
    "duration": 18,
    "start_time": "2022-06-04T20:44:18.242Z"
   },
   {
    "duration": 25,
    "start_time": "2022-06-04T20:46:20.373Z"
   },
   {
    "duration": 18,
    "start_time": "2022-06-04T20:47:28.772Z"
   },
   {
    "duration": 8,
    "start_time": "2022-06-04T20:47:50.988Z"
   },
   {
    "duration": 230,
    "start_time": "2022-06-04T20:47:50.998Z"
   },
   {
    "duration": 173,
    "start_time": "2022-06-04T20:47:51.229Z"
   },
   {
    "duration": 45,
    "start_time": "2022-06-04T20:47:51.404Z"
   },
   {
    "duration": 56,
    "start_time": "2022-06-04T20:47:51.451Z"
   },
   {
    "duration": 62,
    "start_time": "2022-06-04T20:47:51.509Z"
   },
   {
    "duration": 17,
    "start_time": "2022-06-04T20:47:51.573Z"
   },
   {
    "duration": 466,
    "start_time": "2022-06-04T20:47:51.592Z"
   },
   {
    "duration": 608,
    "start_time": "2022-06-04T20:47:52.060Z"
   },
   {
    "duration": 58,
    "start_time": "2022-06-04T20:47:52.671Z"
   },
   {
    "duration": 440,
    "start_time": "2022-06-04T20:47:52.732Z"
   },
   {
    "duration": 82,
    "start_time": "2022-06-04T20:47:53.174Z"
   },
   {
    "duration": 11,
    "start_time": "2022-06-04T20:47:53.258Z"
   },
   {
    "duration": 32,
    "start_time": "2022-06-04T20:47:53.271Z"
   },
   {
    "duration": 37,
    "start_time": "2022-06-04T20:49:27.374Z"
   },
   {
    "duration": 48,
    "start_time": "2022-06-04T20:50:11.083Z"
   },
   {
    "duration": 22,
    "start_time": "2022-06-04T20:51:38.277Z"
   },
   {
    "duration": 45,
    "start_time": "2022-06-04T20:54:31.705Z"
   },
   {
    "duration": 53,
    "start_time": "2022-06-04T20:56:53.884Z"
   },
   {
    "duration": 17,
    "start_time": "2022-06-04T20:57:41.673Z"
   },
   {
    "duration": 18,
    "start_time": "2022-06-04T21:03:29.035Z"
   },
   {
    "duration": 55,
    "start_time": "2022-06-04T21:04:48.999Z"
   },
   {
    "duration": 15,
    "start_time": "2022-06-04T21:08:37.573Z"
   },
   {
    "duration": 29,
    "start_time": "2022-06-04T21:10:18.233Z"
   },
   {
    "duration": 23,
    "start_time": "2022-06-04T21:10:33.825Z"
   },
   {
    "duration": 33,
    "start_time": "2022-06-04T21:10:47.589Z"
   },
   {
    "duration": 28,
    "start_time": "2022-06-04T21:10:56.112Z"
   },
   {
    "duration": 24,
    "start_time": "2022-06-04T21:11:33.289Z"
   },
   {
    "duration": 27,
    "start_time": "2022-06-04T21:14:23.207Z"
   },
   {
    "duration": 134,
    "start_time": "2022-06-04T21:16:28.653Z"
   },
   {
    "duration": 13,
    "start_time": "2022-06-04T21:16:35.937Z"
   },
   {
    "duration": 21,
    "start_time": "2022-06-04T21:16:43.231Z"
   },
   {
    "duration": 19,
    "start_time": "2022-06-04T21:41:47.128Z"
   },
   {
    "duration": 182,
    "start_time": "2022-06-04T22:01:48.870Z"
   },
   {
    "duration": 117093,
    "start_time": "2022-06-04T22:05:03.468Z"
   },
   {
    "duration": 5,
    "start_time": "2022-06-04T22:07:13.769Z"
   },
   {
    "duration": 52714,
    "start_time": "2022-06-04T22:07:29.105Z"
   },
   {
    "duration": 0,
    "start_time": "2022-06-04T22:08:21.823Z"
   },
   {
    "duration": 305,
    "start_time": "2022-06-04T22:08:38.978Z"
   },
   {
    "duration": 5,
    "start_time": "2022-06-04T22:13:30.172Z"
   },
   {
    "duration": 44390,
    "start_time": "2022-06-04T22:13:39.411Z"
   },
   {
    "duration": 0,
    "start_time": "2022-06-04T22:14:23.807Z"
   },
   {
    "duration": 11136,
    "start_time": "2022-06-04T22:16:33.824Z"
   },
   {
    "duration": 14,
    "start_time": "2022-06-04T22:18:06.613Z"
   },
   {
    "duration": 10,
    "start_time": "2022-06-04T22:18:52.684Z"
   },
   {
    "duration": 12,
    "start_time": "2022-06-04T22:19:08.154Z"
   },
   {
    "duration": 49257,
    "start_time": "2022-06-04T22:20:59.886Z"
   },
   {
    "duration": 5,
    "start_time": "2022-06-04T22:25:05.628Z"
   },
   {
    "duration": 61856,
    "start_time": "2022-06-04T22:25:14.525Z"
   },
   {
    "duration": 5,
    "start_time": "2022-06-04T22:33:02.829Z"
   },
   {
    "duration": 11165,
    "start_time": "2022-06-04T22:33:11.949Z"
   },
   {
    "duration": 34289,
    "start_time": "2022-06-04T22:33:37.058Z"
   },
   {
    "duration": 45061,
    "start_time": "2022-06-04T22:34:18.324Z"
   },
   {
    "duration": 0,
    "start_time": "2022-06-04T22:35:03.394Z"
   },
   {
    "duration": 511,
    "start_time": "2022-06-04T22:37:35.153Z"
   },
   {
    "duration": 21,
    "start_time": "2022-06-04T22:38:03.922Z"
   },
   {
    "duration": 35,
    "start_time": "2022-06-04T22:41:14.288Z"
   },
   {
    "duration": 141,
    "start_time": "2022-06-04T22:41:25.849Z"
   },
   {
    "duration": 142,
    "start_time": "2022-06-04T22:41:43.595Z"
   },
   {
    "duration": 154,
    "start_time": "2022-06-04T22:41:51.888Z"
   },
   {
    "duration": 144,
    "start_time": "2022-06-04T22:42:12.247Z"
   },
   {
    "duration": 192,
    "start_time": "2022-06-04T22:43:10.162Z"
   },
   {
    "duration": 12,
    "start_time": "2022-06-04T22:44:26.687Z"
   },
   {
    "duration": 195,
    "start_time": "2022-06-04T22:44:31.837Z"
   },
   {
    "duration": 7,
    "start_time": "2022-06-04T22:45:26.354Z"
   },
   {
    "duration": 189,
    "start_time": "2022-06-04T22:45:30.786Z"
   },
   {
    "duration": 6,
    "start_time": "2022-06-04T22:45:55.720Z"
   },
   {
    "duration": 188,
    "start_time": "2022-06-04T22:46:00.122Z"
   },
   {
    "duration": 7,
    "start_time": "2022-06-04T22:46:12.623Z"
   },
   {
    "duration": 180,
    "start_time": "2022-06-04T22:46:16.828Z"
   },
   {
    "duration": 9,
    "start_time": "2022-06-04T22:46:34.264Z"
   },
   {
    "duration": 169,
    "start_time": "2022-06-04T22:46:37.901Z"
   },
   {
    "duration": 6,
    "start_time": "2022-06-04T22:47:14.161Z"
   },
   {
    "duration": 176,
    "start_time": "2022-06-04T22:47:17.656Z"
   },
   {
    "duration": 9,
    "start_time": "2022-06-04T22:48:04.684Z"
   },
   {
    "duration": 178,
    "start_time": "2022-06-04T22:48:08.758Z"
   },
   {
    "duration": 14,
    "start_time": "2022-06-04T22:48:32.593Z"
   },
   {
    "duration": 182,
    "start_time": "2022-06-04T22:48:35.936Z"
   },
   {
    "duration": 7,
    "start_time": "2022-06-04T22:49:01.022Z"
   },
   {
    "duration": 171,
    "start_time": "2022-06-04T22:49:04.405Z"
   },
   {
    "duration": 173,
    "start_time": "2022-06-04T22:52:57.887Z"
   },
   {
    "duration": 182,
    "start_time": "2022-06-04T22:54:21.886Z"
   },
   {
    "duration": 12,
    "start_time": "2022-06-04T22:55:13.707Z"
   },
   {
    "duration": 10,
    "start_time": "2022-06-04T22:55:55.419Z"
   },
   {
    "duration": 12,
    "start_time": "2022-06-04T22:56:32.340Z"
   },
   {
    "duration": 175,
    "start_time": "2022-06-04T22:58:11.230Z"
   },
   {
    "duration": 11,
    "start_time": "2022-06-04T22:58:52.905Z"
   },
   {
    "duration": 11,
    "start_time": "2022-06-04T22:59:38.745Z"
   },
   {
    "duration": 15,
    "start_time": "2022-06-04T23:00:04.680Z"
   },
   {
    "duration": 10,
    "start_time": "2022-06-04T23:02:04.629Z"
   },
   {
    "duration": 10,
    "start_time": "2022-06-04T23:02:14.351Z"
   },
   {
    "duration": 126,
    "start_time": "2022-06-04T23:02:40.011Z"
   },
   {
    "duration": 164,
    "start_time": "2022-06-04T23:02:46.586Z"
   },
   {
    "duration": 148,
    "start_time": "2022-06-04T23:02:56.401Z"
   },
   {
    "duration": 161,
    "start_time": "2022-06-04T23:03:05.623Z"
   },
   {
    "duration": 169,
    "start_time": "2022-06-04T23:04:59.884Z"
   },
   {
    "duration": 160,
    "start_time": "2022-06-04T23:05:27.486Z"
   },
   {
    "duration": 19,
    "start_time": "2022-06-04T23:06:20.200Z"
   },
   {
    "duration": 7,
    "start_time": "2022-06-04T23:06:42.484Z"
   },
   {
    "duration": 12,
    "start_time": "2022-06-04T23:07:59.641Z"
   },
   {
    "duration": 17,
    "start_time": "2022-06-04T23:08:24.197Z"
   },
   {
    "duration": 4,
    "start_time": "2022-06-04T23:08:54.813Z"
   },
   {
    "duration": 5,
    "start_time": "2022-06-04T23:09:07.315Z"
   },
   {
    "duration": 23,
    "start_time": "2022-06-04T23:09:41.044Z"
   },
   {
    "duration": 24,
    "start_time": "2022-06-04T23:09:54.484Z"
   },
   {
    "duration": 16,
    "start_time": "2022-06-04T23:10:21.585Z"
   },
   {
    "duration": 16,
    "start_time": "2022-06-04T23:10:43.294Z"
   },
   {
    "duration": 13,
    "start_time": "2022-06-04T23:10:51.522Z"
   },
   {
    "duration": 20,
    "start_time": "2022-06-04T23:11:35.186Z"
   },
   {
    "duration": 13,
    "start_time": "2022-06-04T23:14:09.024Z"
   },
   {
    "duration": 163,
    "start_time": "2022-06-04T23:15:12.205Z"
   },
   {
    "duration": 17,
    "start_time": "2022-06-04T23:22:07.949Z"
   },
   {
    "duration": 21,
    "start_time": "2022-06-04T23:22:28.243Z"
   },
   {
    "duration": 162,
    "start_time": "2022-06-04T23:24:20.302Z"
   },
   {
    "duration": 170,
    "start_time": "2022-06-04T23:24:49.788Z"
   },
   {
    "duration": 179,
    "start_time": "2022-06-04T23:26:07.577Z"
   },
   {
    "duration": 5,
    "start_time": "2022-06-04T23:26:41.954Z"
   },
   {
    "duration": 206,
    "start_time": "2022-06-04T23:26:41.961Z"
   },
   {
    "duration": 136,
    "start_time": "2022-06-04T23:26:42.169Z"
   },
   {
    "duration": 42,
    "start_time": "2022-06-04T23:26:42.312Z"
   },
   {
    "duration": 45,
    "start_time": "2022-06-04T23:26:42.356Z"
   },
   {
    "duration": 45,
    "start_time": "2022-06-04T23:26:42.408Z"
   },
   {
    "duration": 7,
    "start_time": "2022-06-04T23:26:42.455Z"
   },
   {
    "duration": 371,
    "start_time": "2022-06-04T23:26:42.464Z"
   },
   {
    "duration": 572,
    "start_time": "2022-06-04T23:26:42.837Z"
   },
   {
    "duration": 31,
    "start_time": "2022-06-04T23:26:43.411Z"
   },
   {
    "duration": 190,
    "start_time": "2022-06-04T23:26:43.444Z"
   },
   {
    "duration": 103,
    "start_time": "2022-06-04T23:26:43.635Z"
   },
   {
    "duration": 8,
    "start_time": "2022-06-04T23:26:43.740Z"
   },
   {
    "duration": 207,
    "start_time": "2022-06-04T23:26:43.751Z"
   },
   {
    "duration": 15,
    "start_time": "2022-06-04T23:26:43.960Z"
   },
   {
    "duration": 179,
    "start_time": "2022-06-04T23:29:21.782Z"
   },
   {
    "duration": 180,
    "start_time": "2022-06-04T23:29:40.118Z"
   },
   {
    "duration": 2239,
    "start_time": "2022-06-04T23:29:53.410Z"
   },
   {
    "duration": 182,
    "start_time": "2022-06-04T23:31:25.728Z"
   },
   {
    "duration": 19,
    "start_time": "2022-06-04T23:32:54.977Z"
   },
   {
    "duration": 187,
    "start_time": "2022-06-04T23:33:28.276Z"
   },
   {
    "duration": 158,
    "start_time": "2022-06-04T23:33:54.330Z"
   },
   {
    "duration": 171,
    "start_time": "2022-06-04T23:34:13.186Z"
   },
   {
    "duration": 165,
    "start_time": "2022-06-04T23:34:32.355Z"
   },
   {
    "duration": 166,
    "start_time": "2022-06-04T23:34:50.512Z"
   },
   {
    "duration": 11,
    "start_time": "2022-06-04T23:35:13.227Z"
   },
   {
    "duration": 160,
    "start_time": "2022-06-04T23:35:21.436Z"
   },
   {
    "duration": 174,
    "start_time": "2022-06-04T23:36:31.052Z"
   },
   {
    "duration": 169,
    "start_time": "2022-06-04T23:36:41.079Z"
   },
   {
    "duration": 156,
    "start_time": "2022-06-04T23:37:15.835Z"
   },
   {
    "duration": 173,
    "start_time": "2022-06-04T23:37:36.522Z"
   },
   {
    "duration": 4,
    "start_time": "2022-06-05T12:03:19.156Z"
   },
   {
    "duration": 187,
    "start_time": "2022-06-05T12:03:19.162Z"
   },
   {
    "duration": 96,
    "start_time": "2022-06-05T12:03:19.351Z"
   },
   {
    "duration": 21,
    "start_time": "2022-06-05T12:03:19.448Z"
   },
   {
    "duration": 36,
    "start_time": "2022-06-05T12:03:19.472Z"
   },
   {
    "duration": 51,
    "start_time": "2022-06-05T12:03:19.509Z"
   },
   {
    "duration": 7,
    "start_time": "2022-06-05T12:03:19.562Z"
   },
   {
    "duration": 295,
    "start_time": "2022-06-05T12:03:19.570Z"
   },
   {
    "duration": 484,
    "start_time": "2022-06-05T12:03:19.866Z"
   },
   {
    "duration": 26,
    "start_time": "2022-06-05T12:03:20.352Z"
   },
   {
    "duration": 261,
    "start_time": "2022-06-05T12:03:20.379Z"
   },
   {
    "duration": 63,
    "start_time": "2022-06-05T12:03:20.642Z"
   },
   {
    "duration": 8,
    "start_time": "2022-06-05T12:03:20.706Z"
   },
   {
    "duration": 153,
    "start_time": "2022-06-05T12:03:20.725Z"
   },
   {
    "duration": 15,
    "start_time": "2022-06-05T12:03:20.880Z"
   },
   {
    "duration": 161,
    "start_time": "2022-06-05T12:13:49.581Z"
   },
   {
    "duration": 168,
    "start_time": "2022-06-05T12:14:09.520Z"
   },
   {
    "duration": 163,
    "start_time": "2022-06-05T12:14:21.177Z"
   },
   {
    "duration": 11,
    "start_time": "2022-06-05T12:23:37.300Z"
   },
   {
    "duration": 163,
    "start_time": "2022-06-05T12:23:44.942Z"
   },
   {
    "duration": 1372,
    "start_time": "2022-06-05T16:48:35.756Z"
   },
   {
    "duration": 1108,
    "start_time": "2022-06-05T16:48:37.131Z"
   },
   {
    "duration": 115,
    "start_time": "2022-06-05T16:48:38.240Z"
   },
   {
    "duration": 23,
    "start_time": "2022-06-05T16:48:38.357Z"
   },
   {
    "duration": 50,
    "start_time": "2022-06-05T16:48:38.382Z"
   },
   {
    "duration": 31,
    "start_time": "2022-06-05T16:48:38.433Z"
   },
   {
    "duration": 6,
    "start_time": "2022-06-05T16:48:38.466Z"
   },
   {
    "duration": 526,
    "start_time": "2022-06-05T16:48:38.473Z"
   },
   {
    "duration": 527,
    "start_time": "2022-06-05T16:48:39.000Z"
   },
   {
    "duration": 33,
    "start_time": "2022-06-05T16:48:39.529Z"
   },
   {
    "duration": 180,
    "start_time": "2022-06-05T16:48:39.564Z"
   },
   {
    "duration": 87,
    "start_time": "2022-06-05T16:48:39.745Z"
   },
   {
    "duration": 8,
    "start_time": "2022-06-05T16:48:39.834Z"
   },
   {
    "duration": 155,
    "start_time": "2022-06-05T16:48:39.844Z"
   },
   {
    "duration": 258,
    "start_time": "2022-06-05T16:48:40.000Z"
   },
   {
    "duration": 15,
    "start_time": "2022-06-05T16:48:40.260Z"
   },
   {
    "duration": 11,
    "start_time": "2022-06-05T16:52:02.719Z"
   },
   {
    "duration": 10,
    "start_time": "2022-06-05T16:59:52.241Z"
   },
   {
    "duration": 9,
    "start_time": "2022-06-05T17:00:18.004Z"
   },
   {
    "duration": 179,
    "start_time": "2022-06-05T17:00:33.342Z"
   },
   {
    "duration": 1063,
    "start_time": "2022-06-05T17:00:57.653Z"
   },
   {
    "duration": 23,
    "start_time": "2022-06-05T17:01:27.171Z"
   },
   {
    "duration": 9,
    "start_time": "2022-06-05T17:01:52.788Z"
   },
   {
    "duration": 14,
    "start_time": "2022-06-05T17:02:49.539Z"
   },
   {
    "duration": 11,
    "start_time": "2022-06-05T17:03:05.719Z"
   },
   {
    "duration": 76,
    "start_time": "2022-06-05T17:07:15.564Z"
   },
   {
    "duration": 9,
    "start_time": "2022-06-05T17:07:35.237Z"
   },
   {
    "duration": 11,
    "start_time": "2022-06-05T17:08:05.697Z"
   },
   {
    "duration": 14,
    "start_time": "2022-06-05T17:08:50.544Z"
   },
   {
    "duration": 13,
    "start_time": "2022-06-05T17:10:13.435Z"
   },
   {
    "duration": 16,
    "start_time": "2022-06-05T17:10:54.464Z"
   },
   {
    "duration": 14,
    "start_time": "2022-06-05T17:11:02.855Z"
   },
   {
    "duration": 15,
    "start_time": "2022-06-05T17:11:18.224Z"
   },
   {
    "duration": 9,
    "start_time": "2022-06-05T17:11:37.647Z"
   },
   {
    "duration": 10,
    "start_time": "2022-06-05T17:11:44.275Z"
   },
   {
    "duration": 12,
    "start_time": "2022-06-05T17:12:09.152Z"
   },
   {
    "duration": 9,
    "start_time": "2022-06-05T17:19:14.214Z"
   },
   {
    "duration": 11,
    "start_time": "2022-06-05T17:19:17.856Z"
   },
   {
    "duration": 8,
    "start_time": "2022-06-05T17:19:22.840Z"
   },
   {
    "duration": 10,
    "start_time": "2022-06-05T17:19:25.278Z"
   },
   {
    "duration": 10,
    "start_time": "2022-06-05T17:20:39.117Z"
   },
   {
    "duration": 11,
    "start_time": "2022-06-05T17:21:47.972Z"
   },
   {
    "duration": 11,
    "start_time": "2022-06-05T17:24:33.959Z"
   },
   {
    "duration": 29,
    "start_time": "2022-06-05T17:24:48.168Z"
   },
   {
    "duration": 19,
    "start_time": "2022-06-05T17:25:00.408Z"
   },
   {
    "duration": 41,
    "start_time": "2022-06-05T17:25:18.654Z"
   },
   {
    "duration": 13,
    "start_time": "2022-06-05T17:27:34.567Z"
   },
   {
    "duration": 13,
    "start_time": "2022-06-05T17:29:04.909Z"
   },
   {
    "duration": 7,
    "start_time": "2022-06-05T17:31:23.664Z"
   },
   {
    "duration": 190,
    "start_time": "2022-06-05T17:31:23.673Z"
   },
   {
    "duration": 116,
    "start_time": "2022-06-05T17:31:23.865Z"
   },
   {
    "duration": 22,
    "start_time": "2022-06-05T17:31:23.983Z"
   },
   {
    "duration": 56,
    "start_time": "2022-06-05T17:31:24.006Z"
   },
   {
    "duration": 39,
    "start_time": "2022-06-05T17:31:24.064Z"
   },
   {
    "duration": 22,
    "start_time": "2022-06-05T17:31:24.105Z"
   },
   {
    "duration": 449,
    "start_time": "2022-06-05T17:31:24.129Z"
   },
   {
    "duration": 618,
    "start_time": "2022-06-05T17:31:24.580Z"
   },
   {
    "duration": 48,
    "start_time": "2022-06-05T17:31:25.201Z"
   },
   {
    "duration": 174,
    "start_time": "2022-06-05T17:31:25.251Z"
   },
   {
    "duration": 88,
    "start_time": "2022-06-05T17:31:25.427Z"
   },
   {
    "duration": 16,
    "start_time": "2022-06-05T17:31:25.517Z"
   },
   {
    "duration": 29,
    "start_time": "2022-06-05T17:31:25.535Z"
   },
   {
    "duration": 198,
    "start_time": "2022-06-05T17:31:25.565Z"
   },
   {
    "duration": 13,
    "start_time": "2022-06-05T17:31:25.765Z"
   },
   {
    "duration": 14,
    "start_time": "2022-06-05T17:32:25.092Z"
   },
   {
    "duration": 17,
    "start_time": "2022-06-05T17:37:57.076Z"
   },
   {
    "duration": 48,
    "start_time": "2022-06-05T17:38:17.266Z"
   },
   {
    "duration": 14,
    "start_time": "2022-06-05T17:40:07.248Z"
   },
   {
    "duration": 20,
    "start_time": "2022-06-05T17:40:43.591Z"
   },
   {
    "duration": 28,
    "start_time": "2022-06-05T17:45:07.195Z"
   },
   {
    "duration": 17,
    "start_time": "2022-06-05T17:46:33.746Z"
   },
   {
    "duration": 18,
    "start_time": "2022-06-05T17:48:18.918Z"
   },
   {
    "duration": 18,
    "start_time": "2022-06-05T17:48:40.599Z"
   },
   {
    "duration": 25,
    "start_time": "2022-06-05T17:49:19.872Z"
   },
   {
    "duration": 23,
    "start_time": "2022-06-05T17:50:04.336Z"
   },
   {
    "duration": 17,
    "start_time": "2022-06-05T17:50:11.565Z"
   },
   {
    "duration": 35,
    "start_time": "2022-06-05T17:54:31.748Z"
   },
   {
    "duration": 48,
    "start_time": "2022-06-05T17:55:07.673Z"
   },
   {
    "duration": 14,
    "start_time": "2022-06-05T17:56:38.661Z"
   },
   {
    "duration": 11,
    "start_time": "2022-06-05T17:57:47.846Z"
   },
   {
    "duration": 35,
    "start_time": "2022-06-05T17:58:14.369Z"
   },
   {
    "duration": 14,
    "start_time": "2022-06-05T17:59:37.241Z"
   },
   {
    "duration": 14,
    "start_time": "2022-06-05T17:59:47.817Z"
   },
   {
    "duration": 18,
    "start_time": "2022-06-05T18:00:08.056Z"
   },
   {
    "duration": 15,
    "start_time": "2022-06-05T18:00:49.632Z"
   },
   {
    "duration": 15,
    "start_time": "2022-06-05T18:01:46.314Z"
   },
   {
    "duration": 13,
    "start_time": "2022-06-05T18:02:04.311Z"
   },
   {
    "duration": 18,
    "start_time": "2022-06-05T18:02:22.503Z"
   },
   {
    "duration": 13,
    "start_time": "2022-06-05T18:08:43.093Z"
   },
   {
    "duration": 15,
    "start_time": "2022-06-05T18:13:18.969Z"
   },
   {
    "duration": 39,
    "start_time": "2022-06-05T18:17:26.430Z"
   },
   {
    "duration": 14,
    "start_time": "2022-06-05T18:17:35.776Z"
   },
   {
    "duration": 14,
    "start_time": "2022-06-05T18:20:18.603Z"
   },
   {
    "duration": 57,
    "start_time": "2022-06-05T18:20:45.215Z"
   },
   {
    "duration": 31,
    "start_time": "2022-06-05T18:21:28.021Z"
   },
   {
    "duration": 34,
    "start_time": "2022-06-05T18:21:34.407Z"
   },
   {
    "duration": 49,
    "start_time": "2022-06-05T18:21:44.007Z"
   },
   {
    "duration": 14,
    "start_time": "2022-06-05T18:21:56.596Z"
   },
   {
    "duration": 14,
    "start_time": "2022-06-05T18:22:26.580Z"
   },
   {
    "duration": 15,
    "start_time": "2022-06-05T18:22:43.848Z"
   },
   {
    "duration": 6,
    "start_time": "2022-06-05T18:26:07.099Z"
   },
   {
    "duration": 252,
    "start_time": "2022-06-05T18:26:07.107Z"
   },
   {
    "duration": 163,
    "start_time": "2022-06-05T18:26:07.362Z"
   },
   {
    "duration": 39,
    "start_time": "2022-06-05T18:26:07.528Z"
   },
   {
    "duration": 48,
    "start_time": "2022-06-05T18:26:07.569Z"
   },
   {
    "duration": 48,
    "start_time": "2022-06-05T18:26:07.624Z"
   },
   {
    "duration": 7,
    "start_time": "2022-06-05T18:26:07.674Z"
   },
   {
    "duration": 376,
    "start_time": "2022-06-05T18:26:07.683Z"
   },
   {
    "duration": 617,
    "start_time": "2022-06-05T18:26:08.061Z"
   },
   {
    "duration": 29,
    "start_time": "2022-06-05T18:26:08.680Z"
   },
   {
    "duration": 179,
    "start_time": "2022-06-05T18:26:08.710Z"
   },
   {
    "duration": 85,
    "start_time": "2022-06-05T18:26:08.891Z"
   },
   {
    "duration": 9,
    "start_time": "2022-06-05T18:26:08.978Z"
   },
   {
    "duration": 15,
    "start_time": "2022-06-05T18:26:08.989Z"
   },
   {
    "duration": 31,
    "start_time": "2022-06-05T18:26:09.006Z"
   },
   {
    "duration": 14,
    "start_time": "2022-06-05T18:41:30.745Z"
   },
   {
    "duration": 5,
    "start_time": "2022-06-05T18:44:03.366Z"
   },
   {
    "duration": 209,
    "start_time": "2022-06-05T18:44:03.373Z"
   },
   {
    "duration": 127,
    "start_time": "2022-06-05T18:44:03.583Z"
   },
   {
    "duration": 36,
    "start_time": "2022-06-05T18:44:03.712Z"
   },
   {
    "duration": 30,
    "start_time": "2022-06-05T18:44:03.750Z"
   },
   {
    "duration": 56,
    "start_time": "2022-06-05T18:44:03.782Z"
   },
   {
    "duration": 6,
    "start_time": "2022-06-05T18:44:03.840Z"
   },
   {
    "duration": 339,
    "start_time": "2022-06-05T18:44:03.848Z"
   },
   {
    "duration": 552,
    "start_time": "2022-06-05T18:44:04.190Z"
   },
   {
    "duration": 32,
    "start_time": "2022-06-05T18:44:04.744Z"
   },
   {
    "duration": 256,
    "start_time": "2022-06-05T18:44:04.778Z"
   },
   {
    "duration": 75,
    "start_time": "2022-06-05T18:44:05.036Z"
   },
   {
    "duration": 21,
    "start_time": "2022-06-05T18:44:05.112Z"
   },
   {
    "duration": 20,
    "start_time": "2022-06-05T18:44:05.135Z"
   },
   {
    "duration": 14,
    "start_time": "2022-06-05T18:44:05.157Z"
   },
   {
    "duration": 7,
    "start_time": "2022-06-05T18:44:05.172Z"
   },
   {
    "duration": 14,
    "start_time": "2022-06-05T18:49:06.042Z"
   },
   {
    "duration": 7,
    "start_time": "2022-06-05T18:50:34.784Z"
   },
   {
    "duration": 236,
    "start_time": "2022-06-05T18:50:37.223Z"
   },
   {
    "duration": 12,
    "start_time": "2022-06-05T18:50:43.750Z"
   },
   {
    "duration": 14,
    "start_time": "2022-06-05T18:52:18.783Z"
   },
   {
    "duration": 6,
    "start_time": "2022-06-05T18:52:40.584Z"
   },
   {
    "duration": 485,
    "start_time": "2022-06-05T18:52:41.374Z"
   },
   {
    "duration": 123,
    "start_time": "2022-06-05T18:52:43.423Z"
   },
   {
    "duration": 26,
    "start_time": "2022-06-05T18:53:44.659Z"
   },
   {
    "duration": 629,
    "start_time": "2022-06-05T18:53:49.313Z"
   },
   {
    "duration": 13,
    "start_time": "2022-06-05T18:56:52.666Z"
   },
   {
    "duration": 12,
    "start_time": "2022-06-05T18:56:57.107Z"
   },
   {
    "duration": 13,
    "start_time": "2022-06-05T18:58:34.843Z"
   },
   {
    "duration": 12,
    "start_time": "2022-06-05T19:00:31.879Z"
   },
   {
    "duration": 14,
    "start_time": "2022-06-05T19:02:24.102Z"
   },
   {
    "duration": 8,
    "start_time": "2022-06-05T19:02:43.666Z"
   },
   {
    "duration": 1016,
    "start_time": "2022-06-05T19:02:44.150Z"
   },
   {
    "duration": 123,
    "start_time": "2022-06-05T19:02:45.186Z"
   },
   {
    "duration": 8,
    "start_time": "2022-06-05T19:02:53.904Z"
   },
   {
    "duration": 229,
    "start_time": "2022-06-05T19:02:53.915Z"
   },
   {
    "duration": 116,
    "start_time": "2022-06-05T19:02:54.146Z"
   },
   {
    "duration": 22,
    "start_time": "2022-06-05T19:02:54.265Z"
   },
   {
    "duration": 68,
    "start_time": "2022-06-05T19:02:54.290Z"
   },
   {
    "duration": 33,
    "start_time": "2022-06-05T19:02:54.360Z"
   },
   {
    "duration": 6,
    "start_time": "2022-06-05T19:02:54.396Z"
   },
   {
    "duration": 607,
    "start_time": "2022-06-05T19:02:54.404Z"
   },
   {
    "duration": 667,
    "start_time": "2022-06-05T19:02:55.014Z"
   },
   {
    "duration": 30,
    "start_time": "2022-06-05T19:02:55.683Z"
   },
   {
    "duration": 200,
    "start_time": "2022-06-05T19:02:55.726Z"
   },
   {
    "duration": 98,
    "start_time": "2022-06-05T19:02:55.929Z"
   },
   {
    "duration": 22,
    "start_time": "2022-06-05T19:02:56.029Z"
   },
   {
    "duration": 23,
    "start_time": "2022-06-05T19:02:56.054Z"
   },
   {
    "duration": 17,
    "start_time": "2022-06-05T19:02:56.078Z"
   },
   {
    "duration": 37,
    "start_time": "2022-06-05T19:02:56.097Z"
   },
   {
    "duration": 13,
    "start_time": "2022-06-05T19:09:04.646Z"
   },
   {
    "duration": 6,
    "start_time": "2022-06-05T19:18:35.968Z"
   },
   {
    "duration": 60,
    "start_time": "2022-06-05T19:19:03.616Z"
   },
   {
    "duration": 47,
    "start_time": "2022-06-05T19:19:41.111Z"
   },
   {
    "duration": 168,
    "start_time": "2022-06-05T19:20:18.991Z"
   },
   {
    "duration": 8,
    "start_time": "2022-06-05T19:22:20.289Z"
   },
   {
    "duration": 308,
    "start_time": "2022-06-05T19:22:20.299Z"
   },
   {
    "duration": 166,
    "start_time": "2022-06-05T19:22:20.609Z"
   },
   {
    "duration": 29,
    "start_time": "2022-06-05T19:22:20.778Z"
   },
   {
    "duration": 50,
    "start_time": "2022-06-05T19:22:20.826Z"
   },
   {
    "duration": 60,
    "start_time": "2022-06-05T19:22:20.878Z"
   },
   {
    "duration": 8,
    "start_time": "2022-06-05T19:22:20.941Z"
   },
   {
    "duration": 493,
    "start_time": "2022-06-05T19:22:20.952Z"
   },
   {
    "duration": 640,
    "start_time": "2022-06-05T19:22:21.451Z"
   },
   {
    "duration": 61,
    "start_time": "2022-06-05T19:22:22.094Z"
   },
   {
    "duration": 208,
    "start_time": "2022-06-05T19:22:22.159Z"
   },
   {
    "duration": 104,
    "start_time": "2022-06-05T19:22:22.370Z"
   },
   {
    "duration": 66,
    "start_time": "2022-06-05T19:22:22.477Z"
   },
   {
    "duration": 22,
    "start_time": "2022-06-05T19:22:22.544Z"
   },
   {
    "duration": 27,
    "start_time": "2022-06-05T19:22:22.569Z"
   },
   {
    "duration": 34,
    "start_time": "2022-06-05T19:22:22.598Z"
   },
   {
    "duration": 163,
    "start_time": "2022-06-05T19:22:22.634Z"
   },
   {
    "duration": 116,
    "start_time": "2022-06-05T19:28:29.078Z"
   },
   {
    "duration": 179,
    "start_time": "2022-06-05T19:33:39.101Z"
   },
   {
    "duration": 53,
    "start_time": "2022-06-05T19:34:44.544Z"
   },
   {
    "duration": 129,
    "start_time": "2022-06-05T19:35:46.542Z"
   },
   {
    "duration": 6,
    "start_time": "2022-06-05T19:36:00.663Z"
   },
   {
    "duration": 192,
    "start_time": "2022-06-05T19:36:00.672Z"
   },
   {
    "duration": 111,
    "start_time": "2022-06-05T19:36:00.866Z"
   },
   {
    "duration": 23,
    "start_time": "2022-06-05T19:36:00.979Z"
   },
   {
    "duration": 62,
    "start_time": "2022-06-05T19:36:01.004Z"
   },
   {
    "duration": 39,
    "start_time": "2022-06-05T19:36:01.069Z"
   },
   {
    "duration": 24,
    "start_time": "2022-06-05T19:36:01.125Z"
   },
   {
    "duration": 447,
    "start_time": "2022-06-05T19:36:01.151Z"
   },
   {
    "duration": 579,
    "start_time": "2022-06-05T19:36:01.600Z"
   },
   {
    "duration": 29,
    "start_time": "2022-06-05T19:36:02.181Z"
   },
   {
    "duration": 170,
    "start_time": "2022-06-05T19:36:02.224Z"
   },
   {
    "duration": 83,
    "start_time": "2022-06-05T19:36:02.395Z"
   },
   {
    "duration": 35,
    "start_time": "2022-06-05T19:36:02.480Z"
   },
   {
    "duration": 19,
    "start_time": "2022-06-05T19:36:02.528Z"
   },
   {
    "duration": 18,
    "start_time": "2022-06-05T19:36:02.548Z"
   },
   {
    "duration": 31,
    "start_time": "2022-06-05T19:36:02.568Z"
   },
   {
    "duration": 151,
    "start_time": "2022-06-05T19:36:02.601Z"
   },
   {
    "duration": 323,
    "start_time": "2022-06-05T19:36:26.051Z"
   },
   {
    "duration": 130,
    "start_time": "2022-06-05T19:43:03.662Z"
   },
   {
    "duration": 336,
    "start_time": "2022-06-05T19:43:23.766Z"
   },
   {
    "duration": 199,
    "start_time": "2022-06-05T19:43:35.396Z"
   },
   {
    "duration": 218,
    "start_time": "2022-06-05T19:44:03.810Z"
   },
   {
    "duration": 167,
    "start_time": "2022-06-05T19:44:52.108Z"
   },
   {
    "duration": 150,
    "start_time": "2022-06-05T19:45:18.854Z"
   },
   {
    "duration": 279,
    "start_time": "2022-06-05T19:45:31.234Z"
   },
   {
    "duration": 139,
    "start_time": "2022-06-05T19:45:38.391Z"
   },
   {
    "duration": 131,
    "start_time": "2022-06-05T19:46:41.381Z"
   },
   {
    "duration": 136,
    "start_time": "2022-06-05T19:46:58.060Z"
   },
   {
    "duration": 170,
    "start_time": "2022-06-05T19:47:52.942Z"
   },
   {
    "duration": 156,
    "start_time": "2022-06-05T19:48:29.648Z"
   },
   {
    "duration": 126,
    "start_time": "2022-06-05T19:48:41.007Z"
   },
   {
    "duration": 145,
    "start_time": "2022-06-05T19:48:55.285Z"
   },
   {
    "duration": 117,
    "start_time": "2022-06-05T19:49:07.251Z"
   },
   {
    "duration": 167,
    "start_time": "2022-06-05T19:49:41.753Z"
   },
   {
    "duration": 135,
    "start_time": "2022-06-05T19:50:43.410Z"
   },
   {
    "duration": 165,
    "start_time": "2022-06-05T19:51:28.179Z"
   },
   {
    "duration": 133,
    "start_time": "2022-06-05T19:52:03.980Z"
   },
   {
    "duration": 304,
    "start_time": "2022-06-05T19:53:45.980Z"
   },
   {
    "duration": 583,
    "start_time": "2022-06-05T19:54:15.238Z"
   },
   {
    "duration": 371,
    "start_time": "2022-06-05T19:55:00.675Z"
   },
   {
    "duration": 140,
    "start_time": "2022-06-05T19:55:53.312Z"
   },
   {
    "duration": 119,
    "start_time": "2022-06-05T20:01:08.049Z"
   },
   {
    "duration": 125,
    "start_time": "2022-06-05T20:04:07.660Z"
   },
   {
    "duration": 116,
    "start_time": "2022-06-05T20:07:31.368Z"
   },
   {
    "duration": 140,
    "start_time": "2022-06-05T20:07:59.498Z"
   },
   {
    "duration": 150,
    "start_time": "2022-06-05T20:08:22.721Z"
   },
   {
    "duration": 129,
    "start_time": "2022-06-05T20:10:29.783Z"
   },
   {
    "duration": 41,
    "start_time": "2022-06-05T20:44:30.403Z"
   },
   {
    "duration": 35,
    "start_time": "2022-06-05T20:54:06.511Z"
   },
   {
    "duration": 68,
    "start_time": "2022-06-05T20:54:07.748Z"
   },
   {
    "duration": 37,
    "start_time": "2022-06-05T20:54:09.005Z"
   },
   {
    "duration": 10,
    "start_time": "2022-06-05T20:54:10.216Z"
   },
   {
    "duration": 576,
    "start_time": "2022-06-05T20:57:08.364Z"
   },
   {
    "duration": 10,
    "start_time": "2022-06-05T20:57:14.634Z"
   },
   {
    "duration": 389,
    "start_time": "2022-06-05T20:57:14.647Z"
   },
   {
    "duration": 108,
    "start_time": "2022-06-05T20:57:15.038Z"
   },
   {
    "duration": 24,
    "start_time": "2022-06-05T20:57:15.148Z"
   },
   {
    "duration": 30,
    "start_time": "2022-06-05T20:57:15.173Z"
   },
   {
    "duration": 47,
    "start_time": "2022-06-05T20:57:15.204Z"
   },
   {
    "duration": 5,
    "start_time": "2022-06-05T20:57:15.252Z"
   },
   {
    "duration": 341,
    "start_time": "2022-06-05T20:57:15.259Z"
   },
   {
    "duration": 543,
    "start_time": "2022-06-05T20:57:15.603Z"
   },
   {
    "duration": 29,
    "start_time": "2022-06-05T20:57:16.148Z"
   },
   {
    "duration": 282,
    "start_time": "2022-06-05T20:57:16.179Z"
   },
   {
    "duration": 115,
    "start_time": "2022-06-05T20:57:16.463Z"
   },
   {
    "duration": 32,
    "start_time": "2022-06-05T20:57:16.579Z"
   },
   {
    "duration": 622,
    "start_time": "2022-06-05T20:57:16.624Z"
   },
   {
    "duration": 0,
    "start_time": "2022-06-05T20:57:17.249Z"
   },
   {
    "duration": 0,
    "start_time": "2022-06-05T20:57:17.250Z"
   },
   {
    "duration": 0,
    "start_time": "2022-06-05T20:57:17.251Z"
   },
   {
    "duration": 0,
    "start_time": "2022-06-05T20:57:17.252Z"
   },
   {
    "duration": 0,
    "start_time": "2022-06-05T20:57:17.253Z"
   },
   {
    "duration": 0,
    "start_time": "2022-06-05T20:57:17.254Z"
   },
   {
    "duration": 195,
    "start_time": "2022-06-05T20:59:58.817Z"
   },
   {
    "duration": 450,
    "start_time": "2022-06-05T21:02:43.504Z"
   },
   {
    "duration": 90,
    "start_time": "2022-06-05T21:03:14.077Z"
   },
   {
    "duration": 29,
    "start_time": "2022-06-05T21:03:17.421Z"
   },
   {
    "duration": 558,
    "start_time": "2022-06-05T21:03:24.282Z"
   },
   {
    "duration": 14,
    "start_time": "2022-06-05T21:04:40.908Z"
   },
   {
    "duration": 14,
    "start_time": "2022-06-05T21:05:52.417Z"
   },
   {
    "duration": 28,
    "start_time": "2022-06-05T21:07:21.732Z"
   },
   {
    "duration": 8,
    "start_time": "2022-06-05T21:09:01.119Z"
   },
   {
    "duration": 241,
    "start_time": "2022-06-05T21:09:01.130Z"
   },
   {
    "duration": 120,
    "start_time": "2022-06-05T21:09:01.373Z"
   },
   {
    "duration": 34,
    "start_time": "2022-06-05T21:09:01.496Z"
   },
   {
    "duration": 65,
    "start_time": "2022-06-05T21:09:01.532Z"
   },
   {
    "duration": 47,
    "start_time": "2022-06-05T21:09:01.599Z"
   },
   {
    "duration": 6,
    "start_time": "2022-06-05T21:09:01.647Z"
   },
   {
    "duration": 378,
    "start_time": "2022-06-05T21:09:01.654Z"
   },
   {
    "duration": 510,
    "start_time": "2022-06-05T21:09:02.034Z"
   },
   {
    "duration": 31,
    "start_time": "2022-06-05T21:09:02.546Z"
   },
   {
    "duration": 176,
    "start_time": "2022-06-05T21:09:02.579Z"
   },
   {
    "duration": 86,
    "start_time": "2022-06-05T21:09:02.757Z"
   },
   {
    "duration": 30,
    "start_time": "2022-06-05T21:09:02.845Z"
   },
   {
    "duration": 29,
    "start_time": "2022-06-05T21:09:02.877Z"
   },
   {
    "duration": 28,
    "start_time": "2022-06-05T21:09:02.908Z"
   },
   {
    "duration": 75,
    "start_time": "2022-06-05T21:09:02.938Z"
   },
   {
    "duration": 77,
    "start_time": "2022-06-05T21:09:03.015Z"
   },
   {
    "duration": 69,
    "start_time": "2022-06-05T21:09:03.094Z"
   },
   {
    "duration": 11,
    "start_time": "2022-06-05T21:09:03.165Z"
   },
   {
    "duration": 18,
    "start_time": "2022-06-05T21:09:03.178Z"
   },
   {
    "duration": 24,
    "start_time": "2022-06-05T21:11:15.868Z"
   },
   {
    "duration": 19,
    "start_time": "2022-06-05T21:11:52.189Z"
   },
   {
    "duration": 16,
    "start_time": "2022-06-05T21:13:02.798Z"
   },
   {
    "duration": 32,
    "start_time": "2022-06-05T21:13:23.457Z"
   },
   {
    "duration": 20,
    "start_time": "2022-06-05T21:13:48.397Z"
   },
   {
    "duration": 31,
    "start_time": "2022-06-05T21:14:49.997Z"
   },
   {
    "duration": 14,
    "start_time": "2022-06-05T21:15:16.802Z"
   },
   {
    "duration": 18,
    "start_time": "2022-06-05T21:15:56.344Z"
   },
   {
    "duration": 23,
    "start_time": "2022-06-05T21:16:32.789Z"
   },
   {
    "duration": 16,
    "start_time": "2022-06-05T21:18:45.217Z"
   },
   {
    "duration": 17,
    "start_time": "2022-06-05T21:19:08.989Z"
   },
   {
    "duration": 10,
    "start_time": "2022-06-05T21:19:17.721Z"
   },
   {
    "duration": 805,
    "start_time": "2022-06-05T21:20:17.907Z"
   },
   {
    "duration": 16,
    "start_time": "2022-06-05T21:20:44.294Z"
   },
   {
    "duration": 18,
    "start_time": "2022-06-05T21:21:39.004Z"
   },
   {
    "duration": 35,
    "start_time": "2022-06-05T21:22:16.378Z"
   },
   {
    "duration": 10,
    "start_time": "2022-06-05T21:22:50.778Z"
   },
   {
    "duration": 225,
    "start_time": "2022-06-05T21:22:50.791Z"
   },
   {
    "duration": 128,
    "start_time": "2022-06-05T21:22:51.019Z"
   },
   {
    "duration": 43,
    "start_time": "2022-06-05T21:22:51.149Z"
   },
   {
    "duration": 74,
    "start_time": "2022-06-05T21:22:51.196Z"
   },
   {
    "duration": 61,
    "start_time": "2022-06-05T21:22:51.272Z"
   },
   {
    "duration": 7,
    "start_time": "2022-06-05T21:22:51.335Z"
   },
   {
    "duration": 544,
    "start_time": "2022-06-05T21:22:51.344Z"
   },
   {
    "duration": 682,
    "start_time": "2022-06-05T21:22:51.890Z"
   },
   {
    "duration": 31,
    "start_time": "2022-06-05T21:22:52.574Z"
   },
   {
    "duration": 199,
    "start_time": "2022-06-05T21:22:52.607Z"
   },
   {
    "duration": 87,
    "start_time": "2022-06-05T21:22:52.808Z"
   },
   {
    "duration": 49,
    "start_time": "2022-06-05T21:22:52.897Z"
   },
   {
    "duration": 15,
    "start_time": "2022-06-05T21:22:52.949Z"
   },
   {
    "duration": 33,
    "start_time": "2022-06-05T21:22:52.966Z"
   },
   {
    "duration": 0,
    "start_time": "2022-06-05T21:22:53.001Z"
   },
   {
    "duration": 0,
    "start_time": "2022-06-05T21:22:53.002Z"
   },
   {
    "duration": 0,
    "start_time": "2022-06-05T21:22:53.026Z"
   },
   {
    "duration": 0,
    "start_time": "2022-06-05T21:22:53.027Z"
   },
   {
    "duration": 0,
    "start_time": "2022-06-05T21:22:53.028Z"
   },
   {
    "duration": 67,
    "start_time": "2022-06-05T21:23:40.117Z"
   },
   {
    "duration": 9,
    "start_time": "2022-06-05T21:24:13.401Z"
   },
   {
    "duration": 219,
    "start_time": "2022-06-05T21:24:13.412Z"
   },
   {
    "duration": 117,
    "start_time": "2022-06-05T21:24:13.632Z"
   },
   {
    "duration": 26,
    "start_time": "2022-06-05T21:24:13.751Z"
   },
   {
    "duration": 55,
    "start_time": "2022-06-05T21:24:13.780Z"
   },
   {
    "duration": 45,
    "start_time": "2022-06-05T21:24:13.836Z"
   },
   {
    "duration": 11,
    "start_time": "2022-06-05T21:24:13.883Z"
   },
   {
    "duration": 378,
    "start_time": "2022-06-05T21:24:13.897Z"
   },
   {
    "duration": 704,
    "start_time": "2022-06-05T21:24:14.277Z"
   },
   {
    "duration": 59,
    "start_time": "2022-06-05T21:24:14.985Z"
   },
   {
    "duration": 207,
    "start_time": "2022-06-05T21:24:15.047Z"
   },
   {
    "duration": 97,
    "start_time": "2022-06-05T21:24:15.257Z"
   },
   {
    "duration": 36,
    "start_time": "2022-06-05T21:24:15.356Z"
   },
   {
    "duration": 36,
    "start_time": "2022-06-05T21:24:15.394Z"
   },
   {
    "duration": 26,
    "start_time": "2022-06-05T21:24:15.432Z"
   },
   {
    "duration": 41,
    "start_time": "2022-06-05T21:24:15.460Z"
   },
   {
    "duration": 76,
    "start_time": "2022-06-05T21:24:15.525Z"
   },
   {
    "duration": 61,
    "start_time": "2022-06-05T21:24:15.603Z"
   },
   {
    "duration": 13,
    "start_time": "2022-06-05T21:24:15.666Z"
   },
   {
    "duration": 9,
    "start_time": "2022-06-05T21:24:15.681Z"
   },
   {
    "duration": 14,
    "start_time": "2022-06-05T22:18:18.114Z"
   },
   {
    "duration": 69,
    "start_time": "2022-06-05T22:26:06.863Z"
   },
   {
    "duration": 69,
    "start_time": "2022-06-05T22:27:25.416Z"
   },
   {
    "duration": 73,
    "start_time": "2022-06-05T22:27:56.982Z"
   },
   {
    "duration": 70,
    "start_time": "2022-06-05T22:28:18.496Z"
   },
   {
    "duration": 71,
    "start_time": "2022-06-05T22:28:33.076Z"
   },
   {
    "duration": 11,
    "start_time": "2022-06-05T22:28:59.411Z"
   },
   {
    "duration": 10,
    "start_time": "2022-06-05T22:29:24.859Z"
   },
   {
    "duration": 10,
    "start_time": "2022-06-05T22:29:32.900Z"
   },
   {
    "duration": 77,
    "start_time": "2022-06-05T22:32:23.884Z"
   },
   {
    "duration": 403,
    "start_time": "2022-06-05T22:33:33.744Z"
   },
   {
    "duration": 426,
    "start_time": "2022-06-05T22:34:13.141Z"
   },
   {
    "duration": 70,
    "start_time": "2022-06-05T22:35:27.905Z"
   },
   {
    "duration": 70,
    "start_time": "2022-06-05T22:35:46.850Z"
   },
   {
    "duration": 73,
    "start_time": "2022-06-05T22:36:02.363Z"
   },
   {
    "duration": 456,
    "start_time": "2022-06-05T22:37:42.083Z"
   },
   {
    "duration": 68,
    "start_time": "2022-06-05T22:41:10.440Z"
   },
   {
    "duration": 9,
    "start_time": "2022-06-05T22:41:23.586Z"
   },
   {
    "duration": 68,
    "start_time": "2022-06-05T22:41:51.319Z"
   },
   {
    "duration": 14,
    "start_time": "2022-06-05T22:44:36.514Z"
   },
   {
    "duration": 72,
    "start_time": "2022-06-05T22:45:46.276Z"
   },
   {
    "duration": 29,
    "start_time": "2022-06-05T22:46:13.147Z"
   },
   {
    "duration": 14,
    "start_time": "2022-06-05T22:46:27.442Z"
   },
   {
    "duration": 5,
    "start_time": "2022-06-05T22:47:10.533Z"
   },
   {
    "duration": 176,
    "start_time": "2022-06-05T22:47:10.541Z"
   },
   {
    "duration": 101,
    "start_time": "2022-06-05T22:47:10.725Z"
   },
   {
    "duration": 24,
    "start_time": "2022-06-05T22:47:10.827Z"
   },
   {
    "duration": 29,
    "start_time": "2022-06-05T22:47:10.854Z"
   },
   {
    "duration": 57,
    "start_time": "2022-06-05T22:47:10.885Z"
   },
   {
    "duration": 5,
    "start_time": "2022-06-05T22:47:10.944Z"
   },
   {
    "duration": 410,
    "start_time": "2022-06-05T22:47:10.950Z"
   },
   {
    "duration": 492,
    "start_time": "2022-06-05T22:47:11.361Z"
   },
   {
    "duration": 29,
    "start_time": "2022-06-05T22:47:11.854Z"
   },
   {
    "duration": 164,
    "start_time": "2022-06-05T22:47:11.885Z"
   },
   {
    "duration": 74,
    "start_time": "2022-06-05T22:47:12.051Z"
   },
   {
    "duration": 28,
    "start_time": "2022-06-05T22:47:12.128Z"
   },
   {
    "duration": 13,
    "start_time": "2022-06-05T22:47:12.158Z"
   },
   {
    "duration": 15,
    "start_time": "2022-06-05T22:47:12.172Z"
   },
   {
    "duration": 63,
    "start_time": "2022-06-05T22:47:12.189Z"
   },
   {
    "duration": 31,
    "start_time": "2022-06-05T22:47:12.254Z"
   },
   {
    "duration": 80,
    "start_time": "2022-06-05T22:47:12.287Z"
   },
   {
    "duration": 9,
    "start_time": "2022-06-05T22:47:12.369Z"
   },
   {
    "duration": 1444,
    "start_time": "2022-06-06T15:51:23.098Z"
   },
   {
    "duration": 764,
    "start_time": "2022-06-06T15:51:24.545Z"
   },
   {
    "duration": 128,
    "start_time": "2022-06-06T15:51:25.311Z"
   },
   {
    "duration": 24,
    "start_time": "2022-06-06T15:51:25.441Z"
   },
   {
    "duration": 47,
    "start_time": "2022-06-06T15:51:25.468Z"
   },
   {
    "duration": 32,
    "start_time": "2022-06-06T15:51:25.516Z"
   },
   {
    "duration": 5,
    "start_time": "2022-06-06T15:51:25.550Z"
   },
   {
    "duration": 570,
    "start_time": "2022-06-06T15:51:25.556Z"
   },
   {
    "duration": 568,
    "start_time": "2022-06-06T15:51:26.128Z"
   },
   {
    "duration": 31,
    "start_time": "2022-06-06T15:51:26.697Z"
   },
   {
    "duration": 182,
    "start_time": "2022-06-06T15:51:26.729Z"
   },
   {
    "duration": 80,
    "start_time": "2022-06-06T15:51:26.913Z"
   },
   {
    "duration": 33,
    "start_time": "2022-06-06T15:51:26.994Z"
   },
   {
    "duration": 193,
    "start_time": "2022-06-06T15:51:27.030Z"
   },
   {
    "duration": 18,
    "start_time": "2022-06-06T15:51:27.224Z"
   },
   {
    "duration": 74,
    "start_time": "2022-06-06T15:51:27.243Z"
   },
   {
    "duration": 86,
    "start_time": "2022-06-06T15:51:27.319Z"
   },
   {
    "duration": 100,
    "start_time": "2022-06-06T15:51:27.407Z"
   },
   {
    "duration": 11,
    "start_time": "2022-06-06T15:51:27.510Z"
   },
   {
    "duration": 158,
    "start_time": "2022-06-06T15:58:49.387Z"
   },
   {
    "duration": 17,
    "start_time": "2022-06-06T15:59:05.385Z"
   },
   {
    "duration": 16,
    "start_time": "2022-06-06T15:59:17.236Z"
   },
   {
    "duration": 24,
    "start_time": "2022-06-06T15:59:21.361Z"
   },
   {
    "duration": 7,
    "start_time": "2022-06-06T15:59:40.641Z"
   },
   {
    "duration": 194,
    "start_time": "2022-06-06T15:59:41.710Z"
   },
   {
    "duration": 13,
    "start_time": "2022-06-06T15:59:46.229Z"
   },
   {
    "duration": 560,
    "start_time": "2022-06-06T16:02:38.821Z"
   },
   {
    "duration": 219,
    "start_time": "2022-06-06T16:02:48.139Z"
   },
   {
    "duration": 501,
    "start_time": "2022-06-06T16:02:50.783Z"
   },
   {
    "duration": 710,
    "start_time": "2022-06-06T16:03:38.293Z"
   },
   {
    "duration": 198,
    "start_time": "2022-06-06T16:03:49.902Z"
   },
   {
    "duration": 956,
    "start_time": "2022-06-06T16:03:52.675Z"
   },
   {
    "duration": 105,
    "start_time": "2022-06-06T16:04:11.853Z"
   },
   {
    "duration": 1594,
    "start_time": "2022-06-06T17:36:32.099Z"
   },
   {
    "duration": 719,
    "start_time": "2022-06-06T17:36:33.695Z"
   },
   {
    "duration": 6,
    "start_time": "2022-06-06T17:36:39.498Z"
   },
   {
    "duration": 270,
    "start_time": "2022-06-06T17:37:27.414Z"
   },
   {
    "duration": 1242,
    "start_time": "2022-06-06T17:40:04.873Z"
   },
   {
    "duration": 284,
    "start_time": "2022-06-06T17:42:33.198Z"
   },
   {
    "duration": 130,
    "start_time": "2022-06-06T17:42:36.493Z"
   },
   {
    "duration": 32,
    "start_time": "2022-06-06T17:43:01.374Z"
   },
   {
    "duration": 35,
    "start_time": "2022-06-06T17:43:39.065Z"
   },
   {
    "duration": 44,
    "start_time": "2022-06-06T17:43:45.805Z"
   },
   {
    "duration": 5,
    "start_time": "2022-06-06T17:43:49.947Z"
   },
   {
    "duration": 657,
    "start_time": "2022-06-06T17:44:05.748Z"
   },
   {
    "duration": 605,
    "start_time": "2022-06-06T17:44:28.811Z"
   },
   {
    "duration": 29,
    "start_time": "2022-06-06T17:44:36.251Z"
   },
   {
    "duration": 163,
    "start_time": "2022-06-06T17:46:31.644Z"
   },
   {
    "duration": 106,
    "start_time": "2022-06-06T17:48:49.895Z"
   },
   {
    "duration": 100,
    "start_time": "2022-06-06T17:52:26.909Z"
   },
   {
    "duration": 189,
    "start_time": "2022-06-06T17:53:03.206Z"
   },
   {
    "duration": 75,
    "start_time": "2022-06-06T17:53:18.040Z"
   },
   {
    "duration": 71,
    "start_time": "2022-06-06T17:54:05.645Z"
   },
   {
    "duration": 395,
    "start_time": "2022-06-06T17:54:45.158Z"
   },
   {
    "duration": 35,
    "start_time": "2022-06-06T17:54:58.414Z"
   },
   {
    "duration": 105,
    "start_time": "2022-06-06T18:00:46.945Z"
   },
   {
    "duration": 33,
    "start_time": "2022-06-06T18:01:10.988Z"
   },
   {
    "duration": 219,
    "start_time": "2022-06-06T18:01:29.945Z"
   },
   {
    "duration": 44,
    "start_time": "2022-06-06T18:03:11.676Z"
   },
   {
    "duration": 37,
    "start_time": "2022-06-06T18:03:15.892Z"
   },
   {
    "duration": 101,
    "start_time": "2022-06-06T18:03:56.398Z"
   },
   {
    "duration": 10,
    "start_time": "2022-06-06T18:04:15.491Z"
   },
   {
    "duration": 7,
    "start_time": "2022-06-06T18:04:36.546Z"
   },
   {
    "duration": 220,
    "start_time": "2022-06-06T18:04:36.557Z"
   },
   {
    "duration": 117,
    "start_time": "2022-06-06T18:04:36.779Z"
   },
   {
    "duration": 22,
    "start_time": "2022-06-06T18:04:36.898Z"
   },
   {
    "duration": 56,
    "start_time": "2022-06-06T18:04:36.922Z"
   },
   {
    "duration": 28,
    "start_time": "2022-06-06T18:04:36.980Z"
   },
   {
    "duration": 4,
    "start_time": "2022-06-06T18:04:37.009Z"
   },
   {
    "duration": 354,
    "start_time": "2022-06-06T18:04:37.015Z"
   },
   {
    "duration": 641,
    "start_time": "2022-06-06T18:04:37.370Z"
   },
   {
    "duration": 45,
    "start_time": "2022-06-06T18:04:38.012Z"
   },
   {
    "duration": 159,
    "start_time": "2022-06-06T18:04:38.059Z"
   },
   {
    "duration": 82,
    "start_time": "2022-06-06T18:04:38.219Z"
   },
   {
    "duration": 51,
    "start_time": "2022-06-06T18:04:38.303Z"
   },
   {
    "duration": 14,
    "start_time": "2022-06-06T18:04:38.357Z"
   },
   {
    "duration": 16,
    "start_time": "2022-06-06T18:04:38.373Z"
   },
   {
    "duration": 76,
    "start_time": "2022-06-06T18:04:38.390Z"
   },
   {
    "duration": 37,
    "start_time": "2022-06-06T18:04:38.468Z"
   },
   {
    "duration": 88,
    "start_time": "2022-06-06T18:04:38.507Z"
   },
   {
    "duration": 10,
    "start_time": "2022-06-06T18:04:38.597Z"
   },
   {
    "duration": 43,
    "start_time": "2022-06-06T18:06:14.822Z"
   },
   {
    "duration": 28,
    "start_time": "2022-06-06T18:17:17.061Z"
   },
   {
    "duration": 31,
    "start_time": "2022-06-06T18:17:28.149Z"
   },
   {
    "duration": 40,
    "start_time": "2022-06-06T18:18:11.758Z"
   },
   {
    "duration": 71,
    "start_time": "2022-06-06T18:19:41.445Z"
   },
   {
    "duration": 74,
    "start_time": "2022-06-06T18:20:28.297Z"
   },
   {
    "duration": 63,
    "start_time": "2022-06-06T18:21:19.753Z"
   },
   {
    "duration": 68,
    "start_time": "2022-06-06T18:21:26.203Z"
   },
   {
    "duration": 61,
    "start_time": "2022-06-06T18:22:15.249Z"
   },
   {
    "duration": 70,
    "start_time": "2022-06-06T18:23:44.912Z"
   },
   {
    "duration": 72,
    "start_time": "2022-06-06T18:24:18.972Z"
   },
   {
    "duration": 12,
    "start_time": "2022-06-06T18:25:40.782Z"
   },
   {
    "duration": 67,
    "start_time": "2022-06-06T18:25:58.958Z"
   },
   {
    "duration": 13,
    "start_time": "2022-06-06T18:27:00.542Z"
   },
   {
    "duration": 12,
    "start_time": "2022-06-06T18:27:21.409Z"
   },
   {
    "duration": 17,
    "start_time": "2022-06-06T18:27:31.845Z"
   },
   {
    "duration": 46,
    "start_time": "2022-06-06T18:28:05.816Z"
   },
   {
    "duration": 38,
    "start_time": "2022-06-06T18:29:00.372Z"
   },
   {
    "duration": 11,
    "start_time": "2022-06-06T18:29:36.571Z"
   },
   {
    "duration": 10,
    "start_time": "2022-06-06T18:29:44.270Z"
   },
   {
    "duration": 16,
    "start_time": "2022-06-06T18:30:07.982Z"
   },
   {
    "duration": 110,
    "start_time": "2022-06-06T18:31:45.336Z"
   },
   {
    "duration": 73,
    "start_time": "2022-06-06T18:33:57.183Z"
   },
   {
    "duration": 10,
    "start_time": "2022-06-06T18:35:46.847Z"
   },
   {
    "duration": 10,
    "start_time": "2022-06-06T18:35:57.258Z"
   },
   {
    "duration": 93,
    "start_time": "2022-06-06T18:36:09.898Z"
   },
   {
    "duration": 83,
    "start_time": "2022-06-06T18:36:31.173Z"
   },
   {
    "duration": 71,
    "start_time": "2022-06-06T18:37:05.778Z"
   },
   {
    "duration": 41,
    "start_time": "2022-06-06T18:44:58.208Z"
   },
   {
    "duration": 77,
    "start_time": "2022-06-06T18:45:13.954Z"
   },
   {
    "duration": 82,
    "start_time": "2022-06-06T18:45:50.666Z"
   },
   {
    "duration": 83,
    "start_time": "2022-06-06T18:46:15.281Z"
   },
   {
    "duration": 91,
    "start_time": "2022-06-06T18:46:32.749Z"
   },
   {
    "duration": 70,
    "start_time": "2022-06-06T18:47:01.440Z"
   },
   {
    "duration": 73,
    "start_time": "2022-06-06T18:50:46.150Z"
   },
   {
    "duration": 300,
    "start_time": "2022-06-06T18:51:57.804Z"
   },
   {
    "duration": 339,
    "start_time": "2022-06-06T18:54:04.168Z"
   },
   {
    "duration": 316,
    "start_time": "2022-06-06T18:55:13.862Z"
   },
   {
    "duration": 435,
    "start_time": "2022-06-06T18:57:14.431Z"
   },
   {
    "duration": 357,
    "start_time": "2022-06-06T18:58:00.275Z"
   },
   {
    "duration": 300,
    "start_time": "2022-06-06T18:58:19.720Z"
   },
   {
    "duration": 96,
    "start_time": "2022-06-06T18:58:36.650Z"
   },
   {
    "duration": 19,
    "start_time": "2022-06-06T18:59:20.099Z"
   },
   {
    "duration": 19,
    "start_time": "2022-06-06T18:59:47.307Z"
   },
   {
    "duration": 15,
    "start_time": "2022-06-06T18:59:55.158Z"
   },
   {
    "duration": 19,
    "start_time": "2022-06-06T19:00:02.312Z"
   },
   {
    "duration": 16,
    "start_time": "2022-06-06T19:00:18.686Z"
   },
   {
    "duration": 10,
    "start_time": "2022-06-06T19:00:37.374Z"
   },
   {
    "duration": 219,
    "start_time": "2022-06-06T19:00:37.387Z"
   },
   {
    "duration": 107,
    "start_time": "2022-06-06T19:00:37.608Z"
   },
   {
    "duration": 35,
    "start_time": "2022-06-06T19:00:37.717Z"
   },
   {
    "duration": 35,
    "start_time": "2022-06-06T19:00:37.753Z"
   },
   {
    "duration": 43,
    "start_time": "2022-06-06T19:00:37.789Z"
   },
   {
    "duration": 4,
    "start_time": "2022-06-06T19:00:37.834Z"
   },
   {
    "duration": 309,
    "start_time": "2022-06-06T19:00:37.840Z"
   },
   {
    "duration": 488,
    "start_time": "2022-06-06T19:00:38.151Z"
   },
   {
    "duration": 29,
    "start_time": "2022-06-06T19:00:38.641Z"
   },
   {
    "duration": 162,
    "start_time": "2022-06-06T19:00:38.671Z"
   },
   {
    "duration": 67,
    "start_time": "2022-06-06T19:00:38.835Z"
   },
   {
    "duration": 40,
    "start_time": "2022-06-06T19:00:38.905Z"
   },
   {
    "duration": 16,
    "start_time": "2022-06-06T19:00:38.946Z"
   },
   {
    "duration": 22,
    "start_time": "2022-06-06T19:00:38.963Z"
   },
   {
    "duration": 60,
    "start_time": "2022-06-06T19:00:38.986Z"
   },
   {
    "duration": 32,
    "start_time": "2022-06-06T19:00:39.048Z"
   },
   {
    "duration": 91,
    "start_time": "2022-06-06T19:00:39.081Z"
   },
   {
    "duration": 368,
    "start_time": "2022-06-06T19:00:39.174Z"
   },
   {
    "duration": 69,
    "start_time": "2022-06-06T19:00:56.670Z"
   },
   {
    "duration": 11,
    "start_time": "2022-06-06T19:01:00.880Z"
   },
   {
    "duration": 5,
    "start_time": "2022-06-06T19:47:11.807Z"
   },
   {
    "duration": 203,
    "start_time": "2022-06-06T19:47:11.821Z"
   },
   {
    "duration": 115,
    "start_time": "2022-06-06T19:47:12.033Z"
   },
   {
    "duration": 22,
    "start_time": "2022-06-06T19:47:12.150Z"
   },
   {
    "duration": 38,
    "start_time": "2022-06-06T19:47:12.174Z"
   },
   {
    "duration": 41,
    "start_time": "2022-06-06T19:47:12.215Z"
   },
   {
    "duration": 9,
    "start_time": "2022-06-06T19:47:12.258Z"
   },
   {
    "duration": 329,
    "start_time": "2022-06-06T19:47:12.269Z"
   },
   {
    "duration": 659,
    "start_time": "2022-06-06T19:47:12.601Z"
   },
   {
    "duration": 28,
    "start_time": "2022-06-06T19:47:13.262Z"
   },
   {
    "duration": 183,
    "start_time": "2022-06-06T19:47:13.292Z"
   },
   {
    "duration": 73,
    "start_time": "2022-06-06T19:47:13.477Z"
   },
   {
    "duration": 28,
    "start_time": "2022-06-06T19:47:13.551Z"
   },
   {
    "duration": 13,
    "start_time": "2022-06-06T19:47:13.580Z"
   },
   {
    "duration": 42,
    "start_time": "2022-06-06T19:47:13.595Z"
   },
   {
    "duration": 70,
    "start_time": "2022-06-06T19:47:13.639Z"
   },
   {
    "duration": 39,
    "start_time": "2022-06-06T19:47:13.710Z"
   },
   {
    "duration": 81,
    "start_time": "2022-06-06T19:47:13.751Z"
   },
   {
    "duration": 9,
    "start_time": "2022-06-06T19:47:13.838Z"
   },
   {
    "duration": 81,
    "start_time": "2022-06-06T19:48:20.683Z"
   },
   {
    "duration": 73,
    "start_time": "2022-06-06T19:48:37.492Z"
   },
   {
    "duration": 64,
    "start_time": "2022-06-06T19:48:47.254Z"
   },
   {
    "duration": 70,
    "start_time": "2022-06-06T19:49:07.341Z"
   },
   {
    "duration": 374,
    "start_time": "2022-06-06T19:52:30.205Z"
   },
   {
    "duration": 82,
    "start_time": "2022-06-06T19:53:22.542Z"
   },
   {
    "duration": 319,
    "start_time": "2022-06-06T19:53:37.459Z"
   },
   {
    "duration": 76,
    "start_time": "2022-06-06T19:53:46.899Z"
   },
   {
    "duration": 70,
    "start_time": "2022-06-06T19:54:17.148Z"
   },
   {
    "duration": 342,
    "start_time": "2022-06-06T19:55:30.473Z"
   },
   {
    "duration": 379,
    "start_time": "2022-06-06T19:55:44.229Z"
   },
   {
    "duration": 357,
    "start_time": "2022-06-06T19:55:57.199Z"
   },
   {
    "duration": 356,
    "start_time": "2022-06-06T19:56:35.697Z"
   },
   {
    "duration": 372,
    "start_time": "2022-06-06T19:56:53.342Z"
   },
   {
    "duration": 393,
    "start_time": "2022-06-06T19:57:01.292Z"
   },
   {
    "duration": 82,
    "start_time": "2022-06-06T20:02:36.931Z"
   },
   {
    "duration": 78,
    "start_time": "2022-06-06T20:03:40.126Z"
   },
   {
    "duration": 85,
    "start_time": "2022-06-06T20:04:01.656Z"
   },
   {
    "duration": 68,
    "start_time": "2022-06-06T20:04:25.139Z"
   },
   {
    "duration": 91,
    "start_time": "2022-06-06T20:04:34.113Z"
   },
   {
    "duration": 414,
    "start_time": "2022-06-06T20:34:09.095Z"
   },
   {
    "duration": 37,
    "start_time": "2022-06-06T20:34:34.286Z"
   },
   {
    "duration": 39,
    "start_time": "2022-06-06T20:36:09.950Z"
   },
   {
    "duration": 70,
    "start_time": "2022-06-06T20:40:45.883Z"
   },
   {
    "duration": 73,
    "start_time": "2022-06-06T20:42:13.105Z"
   },
   {
    "duration": 79,
    "start_time": "2022-06-06T20:48:59.478Z"
   },
   {
    "duration": 75,
    "start_time": "2022-06-06T20:49:10.666Z"
   },
   {
    "duration": 100,
    "start_time": "2022-06-06T20:53:08.777Z"
   },
   {
    "duration": 85,
    "start_time": "2022-06-06T20:53:53.719Z"
   },
   {
    "duration": 87,
    "start_time": "2022-06-06T20:55:08.661Z"
   },
   {
    "duration": 41,
    "start_time": "2022-06-06T20:56:35.255Z"
   },
   {
    "duration": 47,
    "start_time": "2022-06-06T20:57:02.495Z"
   },
   {
    "duration": 42,
    "start_time": "2022-06-06T21:02:58.059Z"
   },
   {
    "duration": 48,
    "start_time": "2022-06-06T21:03:46.383Z"
   },
   {
    "duration": 41,
    "start_time": "2022-06-06T21:04:41.695Z"
   },
   {
    "duration": 56,
    "start_time": "2022-06-06T21:06:32.390Z"
   },
   {
    "duration": 61,
    "start_time": "2022-06-06T21:06:58.390Z"
   },
   {
    "duration": 95,
    "start_time": "2022-06-06T21:08:09.005Z"
   },
   {
    "duration": 92,
    "start_time": "2022-06-06T21:08:26.081Z"
   },
   {
    "duration": 135,
    "start_time": "2022-06-06T21:09:27.891Z"
   },
   {
    "duration": 98,
    "start_time": "2022-06-06T21:46:36.667Z"
   },
   {
    "duration": 93,
    "start_time": "2022-06-06T21:47:55.789Z"
   },
   {
    "duration": 1080,
    "start_time": "2022-06-06T21:54:33.525Z"
   },
   {
    "duration": 353,
    "start_time": "2022-06-06T22:03:17.933Z"
   },
   {
    "duration": 21,
    "start_time": "2022-06-06T22:05:51.492Z"
   },
   {
    "duration": 27,
    "start_time": "2022-06-06T22:06:41.625Z"
   },
   {
    "duration": 20,
    "start_time": "2022-06-06T22:06:51.751Z"
   },
   {
    "duration": 20,
    "start_time": "2022-06-06T22:07:02.695Z"
   },
   {
    "duration": 28,
    "start_time": "2022-06-06T22:07:36.308Z"
   },
   {
    "duration": 43,
    "start_time": "2022-06-06T22:07:50.399Z"
   },
   {
    "duration": 28,
    "start_time": "2022-06-06T22:08:41.387Z"
   },
   {
    "duration": 340,
    "start_time": "2022-06-06T22:09:20.927Z"
   },
   {
    "duration": 325,
    "start_time": "2022-06-06T22:09:45.701Z"
   },
   {
    "duration": 357,
    "start_time": "2022-06-06T22:24:05.207Z"
   },
   {
    "duration": 23,
    "start_time": "2022-06-06T22:25:30.071Z"
   },
   {
    "duration": 250,
    "start_time": "2022-06-06T22:26:02.894Z"
   },
   {
    "duration": 314,
    "start_time": "2022-06-06T22:26:39.825Z"
   },
   {
    "duration": 322,
    "start_time": "2022-06-06T22:44:18.242Z"
   },
   {
    "duration": 302,
    "start_time": "2022-06-06T22:48:40.970Z"
   },
   {
    "duration": 298,
    "start_time": "2022-06-06T22:48:57.506Z"
   },
   {
    "duration": 6,
    "start_time": "2022-06-06T22:49:19.815Z"
   },
   {
    "duration": 6,
    "start_time": "2022-06-06T22:49:58.297Z"
   },
   {
    "duration": 331,
    "start_time": "2022-06-06T22:50:34.714Z"
   },
   {
    "duration": 293,
    "start_time": "2022-06-06T22:50:57.233Z"
   },
   {
    "duration": 18,
    "start_time": "2022-06-06T22:51:23.401Z"
   },
   {
    "duration": 7,
    "start_time": "2022-06-06T22:55:01.276Z"
   },
   {
    "duration": 9,
    "start_time": "2022-06-06T22:56:55.507Z"
   },
   {
    "duration": 6,
    "start_time": "2022-06-06T22:57:15.165Z"
   },
   {
    "duration": 19,
    "start_time": "2022-06-06T23:11:27.550Z"
   },
   {
    "duration": 10,
    "start_time": "2022-06-06T23:12:46.697Z"
   },
   {
    "duration": 9,
    "start_time": "2022-06-06T23:13:20.654Z"
   },
   {
    "duration": 31,
    "start_time": "2022-06-06T23:19:20.274Z"
   },
   {
    "duration": 52,
    "start_time": "2022-06-06T23:28:21.625Z"
   },
   {
    "duration": 49,
    "start_time": "2022-06-06T23:29:19.597Z"
   },
   {
    "duration": 161,
    "start_time": "2022-06-06T23:29:58.166Z"
   },
   {
    "duration": 15,
    "start_time": "2022-06-06T23:30:32.183Z"
   },
   {
    "duration": 12,
    "start_time": "2022-06-06T23:31:09.806Z"
   },
   {
    "duration": 15,
    "start_time": "2022-06-06T23:33:22.518Z"
   },
   {
    "duration": 25,
    "start_time": "2022-06-06T23:42:28.008Z"
   },
   {
    "duration": 1336,
    "start_time": "2022-06-07T03:28:28.523Z"
   },
   {
    "duration": 563,
    "start_time": "2022-06-07T03:28:29.861Z"
   },
   {
    "duration": 112,
    "start_time": "2022-06-07T03:28:30.425Z"
   },
   {
    "duration": 25,
    "start_time": "2022-06-07T03:28:30.539Z"
   },
   {
    "duration": 36,
    "start_time": "2022-06-07T03:28:30.566Z"
   },
   {
    "duration": 29,
    "start_time": "2022-06-07T03:28:30.603Z"
   },
   {
    "duration": 4,
    "start_time": "2022-06-07T03:28:30.634Z"
   },
   {
    "duration": 481,
    "start_time": "2022-06-07T03:28:30.658Z"
   },
   {
    "duration": 479,
    "start_time": "2022-06-07T03:28:31.141Z"
   },
   {
    "duration": 38,
    "start_time": "2022-06-07T03:28:31.622Z"
   },
   {
    "duration": 154,
    "start_time": "2022-06-07T03:28:31.661Z"
   },
   {
    "duration": 76,
    "start_time": "2022-06-07T03:28:31.817Z"
   },
   {
    "duration": 27,
    "start_time": "2022-06-07T03:28:31.895Z"
   },
   {
    "duration": 181,
    "start_time": "2022-06-07T03:28:31.924Z"
   },
   {
    "duration": 15,
    "start_time": "2022-06-07T03:28:32.106Z"
   },
   {
    "duration": 57,
    "start_time": "2022-06-07T03:28:32.123Z"
   },
   {
    "duration": 178,
    "start_time": "2022-06-07T03:28:32.182Z"
   },
   {
    "duration": 31,
    "start_time": "2022-06-07T03:28:32.362Z"
   },
   {
    "duration": 87,
    "start_time": "2022-06-07T03:28:32.395Z"
   },
   {
    "duration": 138,
    "start_time": "2022-06-07T03:28:32.484Z"
   },
   {
    "duration": 0,
    "start_time": "2022-06-07T03:28:32.624Z"
   },
   {
    "duration": 25,
    "start_time": "2022-06-07T03:29:06.039Z"
   },
   {
    "duration": 1325,
    "start_time": "2022-06-07T15:25:29.729Z"
   },
   {
    "duration": 746,
    "start_time": "2022-06-07T15:25:31.057Z"
   },
   {
    "duration": 130,
    "start_time": "2022-06-07T15:25:31.805Z"
   },
   {
    "duration": 30,
    "start_time": "2022-06-07T15:25:31.937Z"
   },
   {
    "duration": 25,
    "start_time": "2022-06-07T15:25:31.969Z"
   },
   {
    "duration": 25,
    "start_time": "2022-06-07T15:25:31.996Z"
   },
   {
    "duration": 7,
    "start_time": "2022-06-07T15:25:32.050Z"
   },
   {
    "duration": 508,
    "start_time": "2022-06-07T15:25:32.058Z"
   },
   {
    "duration": 479,
    "start_time": "2022-06-07T15:25:32.568Z"
   },
   {
    "duration": 24,
    "start_time": "2022-06-07T15:25:33.050Z"
   },
   {
    "duration": 157,
    "start_time": "2022-06-07T15:25:33.076Z"
   },
   {
    "duration": 72,
    "start_time": "2022-06-07T15:25:33.234Z"
   },
   {
    "duration": 42,
    "start_time": "2022-06-07T15:25:33.308Z"
   },
   {
    "duration": 142,
    "start_time": "2022-06-07T15:25:33.352Z"
   },
   {
    "duration": 18,
    "start_time": "2022-06-07T15:25:33.496Z"
   },
   {
    "duration": 72,
    "start_time": "2022-06-07T15:25:33.515Z"
   },
   {
    "duration": 199,
    "start_time": "2022-06-07T15:25:33.589Z"
   },
   {
    "duration": 30,
    "start_time": "2022-06-07T15:25:33.790Z"
   },
   {
    "duration": 82,
    "start_time": "2022-06-07T15:25:33.822Z"
   },
   {
    "duration": 138,
    "start_time": "2022-06-07T15:25:33.905Z"
   },
   {
    "duration": 0,
    "start_time": "2022-06-07T15:25:34.045Z"
   },
   {
    "duration": 9,
    "start_time": "2022-06-07T15:25:59.059Z"
   },
   {
    "duration": 8,
    "start_time": "2022-06-07T15:43:16.680Z"
   },
   {
    "duration": 195,
    "start_time": "2022-06-07T15:43:16.691Z"
   },
   {
    "duration": 100,
    "start_time": "2022-06-07T15:43:16.888Z"
   },
   {
    "duration": 19,
    "start_time": "2022-06-07T15:43:16.989Z"
   },
   {
    "duration": 40,
    "start_time": "2022-06-07T15:43:17.010Z"
   },
   {
    "duration": 24,
    "start_time": "2022-06-07T15:43:17.051Z"
   },
   {
    "duration": 15,
    "start_time": "2022-06-07T15:43:17.077Z"
   },
   {
    "duration": 315,
    "start_time": "2022-06-07T15:43:17.093Z"
   },
   {
    "duration": 547,
    "start_time": "2022-06-07T15:43:17.409Z"
   },
   {
    "duration": 24,
    "start_time": "2022-06-07T15:43:17.958Z"
   },
   {
    "duration": 165,
    "start_time": "2022-06-07T15:43:17.985Z"
   },
   {
    "duration": 63,
    "start_time": "2022-06-07T15:43:18.152Z"
   },
   {
    "duration": 41,
    "start_time": "2022-06-07T15:43:18.216Z"
   },
   {
    "duration": 13,
    "start_time": "2022-06-07T15:43:18.259Z"
   },
   {
    "duration": 16,
    "start_time": "2022-06-07T15:43:18.274Z"
   },
   {
    "duration": 58,
    "start_time": "2022-06-07T15:43:18.291Z"
   },
   {
    "duration": 123,
    "start_time": "2022-06-07T15:43:18.350Z"
   },
   {
    "duration": 32,
    "start_time": "2022-06-07T15:43:18.474Z"
   },
   {
    "duration": 89,
    "start_time": "2022-06-07T15:43:18.507Z"
   },
   {
    "duration": 10,
    "start_time": "2022-06-07T15:43:18.598Z"
   },
   {
    "duration": 5,
    "start_time": "2022-06-07T15:55:27.714Z"
   },
   {
    "duration": 164,
    "start_time": "2022-06-07T15:55:30.051Z"
   },
   {
    "duration": 204,
    "start_time": "2022-06-07T15:58:26.376Z"
   },
   {
    "duration": 213,
    "start_time": "2022-06-07T15:58:44.377Z"
   },
   {
    "duration": 181,
    "start_time": "2022-06-07T15:59:54.906Z"
   },
   {
    "duration": 171,
    "start_time": "2022-06-07T16:00:02.722Z"
   },
   {
    "duration": 225,
    "start_time": "2022-06-07T16:00:17.932Z"
   },
   {
    "duration": 172,
    "start_time": "2022-06-07T16:01:02.372Z"
   },
   {
    "duration": 62,
    "start_time": "2022-06-07T16:05:40.904Z"
   },
   {
    "duration": 535,
    "start_time": "2022-06-07T16:07:01.167Z"
   },
   {
    "duration": 72,
    "start_time": "2022-06-07T16:07:53.408Z"
   },
   {
    "duration": 51,
    "start_time": "2022-06-07T16:08:02.790Z"
   },
   {
    "duration": 512,
    "start_time": "2022-06-07T16:08:23.976Z"
   },
   {
    "duration": 7,
    "start_time": "2022-06-07T16:08:36.906Z"
   },
   {
    "duration": 168,
    "start_time": "2022-06-07T16:08:37.614Z"
   },
   {
    "duration": 91,
    "start_time": "2022-06-07T16:08:41.173Z"
   },
   {
    "duration": 25,
    "start_time": "2022-06-07T16:08:45.031Z"
   },
   {
    "duration": 82,
    "start_time": "2022-06-07T16:08:47.070Z"
   },
   {
    "duration": 62,
    "start_time": "2022-06-07T16:09:35.308Z"
   },
   {
    "duration": 35,
    "start_time": "2022-06-07T16:09:46.387Z"
   },
   {
    "duration": 13,
    "start_time": "2022-06-07T16:09:57.329Z"
   },
   {
    "duration": 75,
    "start_time": "2022-06-07T16:10:23.496Z"
   },
   {
    "duration": 72,
    "start_time": "2022-06-07T16:11:09.068Z"
   },
   {
    "duration": 158,
    "start_time": "2022-06-07T16:12:12.552Z"
   },
   {
    "duration": 81,
    "start_time": "2022-06-07T16:13:16.363Z"
   },
   {
    "duration": 87,
    "start_time": "2022-06-07T16:13:31.777Z"
   },
   {
    "duration": 5,
    "start_time": "2022-06-07T16:13:38.172Z"
   },
   {
    "duration": 190,
    "start_time": "2022-06-07T16:13:38.665Z"
   },
   {
    "duration": 114,
    "start_time": "2022-06-07T16:13:42.511Z"
   },
   {
    "duration": 29,
    "start_time": "2022-06-07T16:13:46.138Z"
   },
   {
    "duration": 74,
    "start_time": "2022-06-07T16:13:47.204Z"
   },
   {
    "duration": 150,
    "start_time": "2022-06-07T16:17:25.665Z"
   },
   {
    "duration": 92,
    "start_time": "2022-06-07T16:17:29.291Z"
   },
   {
    "duration": 18,
    "start_time": "2022-06-07T16:17:30.955Z"
   },
   {
    "duration": 67,
    "start_time": "2022-06-07T16:17:32.076Z"
   },
   {
    "duration": 60,
    "start_time": "2022-06-07T16:17:34.687Z"
   },
   {
    "duration": 127,
    "start_time": "2022-06-07T16:18:08.127Z"
   },
   {
    "duration": 36,
    "start_time": "2022-06-07T16:20:00.977Z"
   },
   {
    "duration": 27,
    "start_time": "2022-06-07T16:20:10.911Z"
   },
   {
    "duration": 6,
    "start_time": "2022-06-07T16:21:11.161Z"
   },
   {
    "duration": 25,
    "start_time": "2022-06-07T16:23:37.816Z"
   },
   {
    "duration": 5,
    "start_time": "2022-06-07T16:29:04.610Z"
   },
   {
    "duration": 25,
    "start_time": "2022-06-07T16:35:55.497Z"
   },
   {
    "duration": 4,
    "start_time": "2022-06-07T16:37:04.499Z"
   },
   {
    "duration": 280,
    "start_time": "2022-06-07T16:37:06.179Z"
   },
   {
    "duration": 5,
    "start_time": "2022-06-07T16:37:29.545Z"
   },
   {
    "duration": 276,
    "start_time": "2022-06-07T16:37:31.397Z"
   },
   {
    "duration": 5,
    "start_time": "2022-06-07T16:42:54.637Z"
   },
   {
    "duration": 4,
    "start_time": "2022-06-07T16:43:01.638Z"
   },
   {
    "duration": 358,
    "start_time": "2022-06-07T16:43:03.393Z"
   },
   {
    "duration": 5,
    "start_time": "2022-06-07T16:43:45.633Z"
   },
   {
    "duration": 601,
    "start_time": "2022-06-07T16:43:46.603Z"
   },
   {
    "duration": 5,
    "start_time": "2022-06-07T16:44:05.207Z"
   },
   {
    "duration": 352,
    "start_time": "2022-06-07T16:44:05.908Z"
   },
   {
    "duration": 5,
    "start_time": "2022-06-07T16:56:25.195Z"
   },
   {
    "duration": 366,
    "start_time": "2022-06-07T16:56:26.224Z"
   },
   {
    "duration": 552,
    "start_time": "2022-06-07T16:56:33.186Z"
   },
   {
    "duration": 24,
    "start_time": "2022-06-07T16:57:19.526Z"
   },
   {
    "duration": 159,
    "start_time": "2022-06-07T16:58:45.991Z"
   },
   {
    "duration": 152,
    "start_time": "2022-06-07T16:59:25.456Z"
   },
   {
    "duration": 147,
    "start_time": "2022-06-07T16:59:41.354Z"
   },
   {
    "duration": 156,
    "start_time": "2022-06-07T17:00:34.455Z"
   },
   {
    "duration": 158,
    "start_time": "2022-06-07T17:00:49.807Z"
   },
   {
    "duration": 595,
    "start_time": "2022-06-07T17:03:34.197Z"
   },
   {
    "duration": 0,
    "start_time": "2022-06-07T17:03:34.794Z"
   },
   {
    "duration": 67,
    "start_time": "2022-06-07T17:03:35.187Z"
   },
   {
    "duration": 168,
    "start_time": "2022-06-07T17:03:46.010Z"
   },
   {
    "duration": 97,
    "start_time": "2022-06-07T17:03:48.318Z"
   },
   {
    "duration": 18,
    "start_time": "2022-06-07T17:03:49.567Z"
   },
   {
    "duration": 76,
    "start_time": "2022-06-07T17:03:50.212Z"
   },
   {
    "duration": 79,
    "start_time": "2022-06-07T17:03:52.555Z"
   },
   {
    "duration": 186,
    "start_time": "2022-06-07T17:03:54.703Z"
   },
   {
    "duration": 26,
    "start_time": "2022-06-07T17:05:44.297Z"
   },
   {
    "duration": 6,
    "start_time": "2022-06-07T17:06:02.929Z"
   },
   {
    "duration": 135,
    "start_time": "2022-06-07T17:06:06.426Z"
   },
   {
    "duration": 414,
    "start_time": "2022-06-07T17:06:07.286Z"
   },
   {
    "duration": 552,
    "start_time": "2022-06-07T17:06:10.430Z"
   },
   {
    "duration": 22,
    "start_time": "2022-06-07T17:06:19.114Z"
   },
   {
    "duration": 144,
    "start_time": "2022-06-07T17:15:09.310Z"
   },
   {
    "duration": 67,
    "start_time": "2022-06-07T17:15:50.046Z"
   },
   {
    "duration": 82,
    "start_time": "2022-06-07T17:17:32.882Z"
   },
   {
    "duration": 12,
    "start_time": "2022-06-07T17:19:20.118Z"
   },
   {
    "duration": 14,
    "start_time": "2022-06-07T17:20:11.691Z"
   },
   {
    "duration": 5,
    "start_time": "2022-06-07T17:20:48.844Z"
   },
   {
    "duration": 15,
    "start_time": "2022-06-07T17:20:54.945Z"
   },
   {
    "duration": 13,
    "start_time": "2022-06-07T17:21:26.217Z"
   },
   {
    "duration": 13,
    "start_time": "2022-06-07T17:22:01.286Z"
   },
   {
    "duration": 12,
    "start_time": "2022-06-07T17:22:33.461Z"
   },
   {
    "duration": 6,
    "start_time": "2022-06-07T17:22:53.839Z"
   },
   {
    "duration": 12,
    "start_time": "2022-06-07T17:22:59.018Z"
   },
   {
    "duration": 11,
    "start_time": "2022-06-07T17:23:13.072Z"
   },
   {
    "duration": 12,
    "start_time": "2022-06-07T17:23:33.695Z"
   },
   {
    "duration": 14,
    "start_time": "2022-06-07T17:23:40.994Z"
   },
   {
    "duration": 14,
    "start_time": "2022-06-07T17:45:14.654Z"
   },
   {
    "duration": 35,
    "start_time": "2022-06-07T17:59:10.994Z"
   },
   {
    "duration": 160,
    "start_time": "2022-06-07T18:04:29.626Z"
   },
   {
    "duration": 172,
    "start_time": "2022-06-07T18:05:49.342Z"
   },
   {
    "duration": 185,
    "start_time": "2022-06-07T18:08:40.571Z"
   },
   {
    "duration": 250,
    "start_time": "2022-06-07T18:11:45.481Z"
   },
   {
    "duration": 159,
    "start_time": "2022-06-07T18:12:02.558Z"
   },
   {
    "duration": 189,
    "start_time": "2022-06-07T18:13:37.901Z"
   },
   {
    "duration": 35,
    "start_time": "2022-06-07T18:14:04.808Z"
   },
   {
    "duration": 38,
    "start_time": "2022-06-07T18:20:47.712Z"
   },
   {
    "duration": 12,
    "start_time": "2022-06-07T18:23:45.502Z"
   },
   {
    "duration": 68,
    "start_time": "2022-06-07T18:25:37.951Z"
   },
   {
    "duration": 94,
    "start_time": "2022-06-07T18:26:34.107Z"
   },
   {
    "duration": 107,
    "start_time": "2022-06-07T18:29:37.237Z"
   },
   {
    "duration": 99,
    "start_time": "2022-06-07T18:30:00.056Z"
   },
   {
    "duration": 91,
    "start_time": "2022-06-07T18:30:35.681Z"
   },
   {
    "duration": 90,
    "start_time": "2022-06-07T18:31:22.878Z"
   },
   {
    "duration": 90,
    "start_time": "2022-06-07T18:31:31.397Z"
   },
   {
    "duration": 92,
    "start_time": "2022-06-07T18:31:46.454Z"
   },
   {
    "duration": 98,
    "start_time": "2022-06-07T18:34:39.665Z"
   },
   {
    "duration": 94,
    "start_time": "2022-06-07T18:37:20.749Z"
   },
   {
    "duration": 32,
    "start_time": "2022-06-07T18:41:43.383Z"
   },
   {
    "duration": 32,
    "start_time": "2022-06-07T18:42:01.339Z"
   },
   {
    "duration": 42,
    "start_time": "2022-06-07T18:42:13.245Z"
   },
   {
    "duration": 32,
    "start_time": "2022-06-07T18:42:40.897Z"
   },
   {
    "duration": 32,
    "start_time": "2022-06-07T18:44:59.070Z"
   },
   {
    "duration": 32,
    "start_time": "2022-06-07T18:45:42.406Z"
   },
   {
    "duration": 34,
    "start_time": "2022-06-07T18:46:36.086Z"
   },
   {
    "duration": 33,
    "start_time": "2022-06-07T18:46:52.665Z"
   },
   {
    "duration": 33,
    "start_time": "2022-06-07T18:47:26.013Z"
   },
   {
    "duration": 114,
    "start_time": "2022-06-07T18:48:17.330Z"
   },
   {
    "duration": 6,
    "start_time": "2022-06-07T18:55:28.010Z"
   },
   {
    "duration": 13,
    "start_time": "2022-06-07T18:55:30.803Z"
   },
   {
    "duration": 7,
    "start_time": "2022-06-07T18:58:58.360Z"
   },
   {
    "duration": 11,
    "start_time": "2022-06-07T18:59:00.214Z"
   },
   {
    "duration": 7,
    "start_time": "2022-06-07T19:02:03.924Z"
   },
   {
    "duration": 13,
    "start_time": "2022-06-07T19:02:05.964Z"
   },
   {
    "duration": 8,
    "start_time": "2022-06-07T19:10:45.428Z"
   },
   {
    "duration": 14,
    "start_time": "2022-06-07T19:10:47.640Z"
   },
   {
    "duration": 8,
    "start_time": "2022-06-07T19:12:06.045Z"
   },
   {
    "duration": 14,
    "start_time": "2022-06-07T19:12:11.602Z"
   },
   {
    "duration": 16,
    "start_time": "2022-06-07T19:12:13.108Z"
   },
   {
    "duration": 11,
    "start_time": "2022-06-07T19:17:36.795Z"
   },
   {
    "duration": 12,
    "start_time": "2022-06-07T19:18:00.518Z"
   },
   {
    "duration": 12,
    "start_time": "2022-06-07T19:18:09.787Z"
   },
   {
    "duration": 9,
    "start_time": "2022-06-07T19:25:27.087Z"
   },
   {
    "duration": 12,
    "start_time": "2022-06-07T19:25:46.526Z"
   },
   {
    "duration": 10,
    "start_time": "2022-06-07T19:26:11.146Z"
   },
   {
    "duration": 12,
    "start_time": "2022-06-07T19:26:30.678Z"
   },
   {
    "duration": 15,
    "start_time": "2022-06-07T19:26:43.104Z"
   },
   {
    "duration": 3,
    "start_time": "2022-06-07T19:28:30.425Z"
   },
   {
    "duration": 12,
    "start_time": "2022-06-07T19:28:57.589Z"
   },
   {
    "duration": 72,
    "start_time": "2022-06-07T19:44:24.764Z"
   },
   {
    "duration": 65,
    "start_time": "2022-06-07T19:46:08.415Z"
   },
   {
    "duration": 74,
    "start_time": "2022-06-07T19:46:22.426Z"
   },
   {
    "duration": 74,
    "start_time": "2022-06-07T19:49:35.462Z"
   },
   {
    "duration": 112,
    "start_time": "2022-06-07T19:50:19.898Z"
   },
   {
    "duration": 71,
    "start_time": "2022-06-07T19:51:30.449Z"
   },
   {
    "duration": 507,
    "start_time": "2022-06-07T19:51:48.471Z"
   },
   {
    "duration": 27,
    "start_time": "2022-06-07T19:52:06.020Z"
   },
   {
    "duration": 74,
    "start_time": "2022-06-07T19:52:26.354Z"
   },
   {
    "duration": 102,
    "start_time": "2022-06-07T19:53:48.309Z"
   },
   {
    "duration": 74,
    "start_time": "2022-06-07T19:54:00.963Z"
   },
   {
    "duration": 79,
    "start_time": "2022-06-07T19:54:10.374Z"
   },
   {
    "duration": 38,
    "start_time": "2022-06-07T19:54:43.531Z"
   },
   {
    "duration": 49,
    "start_time": "2022-06-07T19:55:13.834Z"
   },
   {
    "duration": 36,
    "start_time": "2022-06-07T19:55:24.378Z"
   },
   {
    "duration": 48,
    "start_time": "2022-06-07T19:56:38.321Z"
   },
   {
    "duration": 103,
    "start_time": "2022-06-07T19:57:07.088Z"
   },
   {
    "duration": 34,
    "start_time": "2022-06-07T19:59:14.092Z"
   },
   {
    "duration": 78,
    "start_time": "2022-06-07T20:00:31.975Z"
   },
   {
    "duration": 39,
    "start_time": "2022-06-07T20:00:53.813Z"
   },
   {
    "duration": 76,
    "start_time": "2022-06-07T20:01:19.389Z"
   },
   {
    "duration": 527,
    "start_time": "2022-06-07T20:02:48.816Z"
   },
   {
    "duration": 3669,
    "start_time": "2022-06-07T20:03:08.509Z"
   },
   {
    "duration": 493,
    "start_time": "2022-06-07T20:11:57.929Z"
   },
   {
    "duration": 77,
    "start_time": "2022-06-07T20:12:45.989Z"
   },
   {
    "duration": 69,
    "start_time": "2022-06-07T20:13:49.953Z"
   },
   {
    "duration": 63,
    "start_time": "2022-06-07T20:14:15.222Z"
   },
   {
    "duration": 71,
    "start_time": "2022-06-07T20:14:37.332Z"
   },
   {
    "duration": 92,
    "start_time": "2022-06-07T20:15:46.236Z"
   },
   {
    "duration": 161,
    "start_time": "2022-06-07T20:15:57.926Z"
   },
   {
    "duration": 162,
    "start_time": "2022-06-07T20:16:17.842Z"
   },
   {
    "duration": 203,
    "start_time": "2022-06-07T20:16:27.616Z"
   },
   {
    "duration": 188,
    "start_time": "2022-06-07T20:18:33.686Z"
   },
   {
    "duration": 192,
    "start_time": "2022-06-07T20:19:04.694Z"
   },
   {
    "duration": 79,
    "start_time": "2022-06-07T20:20:40.815Z"
   },
   {
    "duration": 72,
    "start_time": "2022-06-07T20:20:54.850Z"
   },
   {
    "duration": 35491,
    "start_time": "2022-06-07T20:21:15.091Z"
   },
   {
    "duration": 73,
    "start_time": "2022-06-07T20:23:07.948Z"
   },
   {
    "duration": 76,
    "start_time": "2022-06-07T20:23:32.782Z"
   },
   {
    "duration": 63,
    "start_time": "2022-06-07T20:25:55.615Z"
   },
   {
    "duration": 76,
    "start_time": "2022-06-07T20:28:22.231Z"
   },
   {
    "duration": 99,
    "start_time": "2022-06-07T20:30:43.522Z"
   },
   {
    "duration": 69,
    "start_time": "2022-06-07T20:31:11.170Z"
   },
   {
    "duration": 90,
    "start_time": "2022-06-07T20:32:13.344Z"
   },
   {
    "duration": 12,
    "start_time": "2022-06-07T20:32:18.373Z"
   },
   {
    "duration": 478,
    "start_time": "2022-06-07T20:32:32.849Z"
   },
   {
    "duration": 6,
    "start_time": "2022-06-07T20:33:41.774Z"
   },
   {
    "duration": 160,
    "start_time": "2022-06-07T20:33:41.782Z"
   },
   {
    "duration": 98,
    "start_time": "2022-06-07T20:33:41.944Z"
   },
   {
    "duration": 34,
    "start_time": "2022-06-07T20:33:42.044Z"
   },
   {
    "duration": 75,
    "start_time": "2022-06-07T20:33:42.080Z"
   },
   {
    "duration": 62,
    "start_time": "2022-06-07T20:33:42.157Z"
   },
   {
    "duration": 174,
    "start_time": "2022-06-07T20:33:42.221Z"
   },
   {
    "duration": 26,
    "start_time": "2022-06-07T20:33:42.396Z"
   },
   {
    "duration": 19,
    "start_time": "2022-06-07T20:33:42.425Z"
   },
   {
    "duration": 5,
    "start_time": "2022-06-07T20:33:42.445Z"
   },
   {
    "duration": 391,
    "start_time": "2022-06-07T20:33:42.452Z"
   },
   {
    "duration": 530,
    "start_time": "2022-06-07T20:33:42.844Z"
   },
   {
    "duration": 26,
    "start_time": "2022-06-07T20:33:43.376Z"
   },
   {
    "duration": 171,
    "start_time": "2022-06-07T20:33:43.404Z"
   },
   {
    "duration": 77,
    "start_time": "2022-06-07T20:33:43.577Z"
   },
   {
    "duration": 105,
    "start_time": "2022-06-07T20:33:43.656Z"
   },
   {
    "duration": 112,
    "start_time": "2022-06-07T20:33:43.762Z"
   },
   {
    "duration": 452,
    "start_time": "2022-06-07T20:33:43.875Z"
   },
   {
    "duration": 0,
    "start_time": "2022-06-07T20:33:44.328Z"
   },
   {
    "duration": 0,
    "start_time": "2022-06-07T20:33:44.330Z"
   },
   {
    "duration": 0,
    "start_time": "2022-06-07T20:33:44.331Z"
   },
   {
    "duration": 0,
    "start_time": "2022-06-07T20:33:44.332Z"
   },
   {
    "duration": 0,
    "start_time": "2022-06-07T20:33:44.333Z"
   },
   {
    "duration": 0,
    "start_time": "2022-06-07T20:33:44.334Z"
   },
   {
    "duration": 0,
    "start_time": "2022-06-07T20:33:44.335Z"
   },
   {
    "duration": 0,
    "start_time": "2022-06-07T20:33:44.336Z"
   },
   {
    "duration": 0,
    "start_time": "2022-06-07T20:33:44.337Z"
   },
   {
    "duration": 0,
    "start_time": "2022-06-07T20:33:44.338Z"
   },
   {
    "duration": 14,
    "start_time": "2022-06-07T20:35:31.160Z"
   },
   {
    "duration": 5,
    "start_time": "2022-06-07T20:35:44.395Z"
   },
   {
    "duration": 170,
    "start_time": "2022-06-07T20:35:44.402Z"
   },
   {
    "duration": 98,
    "start_time": "2022-06-07T20:35:44.573Z"
   },
   {
    "duration": 20,
    "start_time": "2022-06-07T20:35:44.672Z"
   },
   {
    "duration": 91,
    "start_time": "2022-06-07T20:35:44.695Z"
   },
   {
    "duration": 78,
    "start_time": "2022-06-07T20:35:44.788Z"
   },
   {
    "duration": 172,
    "start_time": "2022-06-07T20:35:44.869Z"
   },
   {
    "duration": 26,
    "start_time": "2022-06-07T20:35:45.043Z"
   },
   {
    "duration": 6,
    "start_time": "2022-06-07T20:35:45.070Z"
   },
   {
    "duration": 5,
    "start_time": "2022-06-07T20:35:45.077Z"
   },
   {
    "duration": 390,
    "start_time": "2022-06-07T20:35:45.083Z"
   },
   {
    "duration": 529,
    "start_time": "2022-06-07T20:35:45.475Z"
   },
   {
    "duration": 25,
    "start_time": "2022-06-07T20:35:46.006Z"
   },
   {
    "duration": 162,
    "start_time": "2022-06-07T20:35:46.051Z"
   },
   {
    "duration": 71,
    "start_time": "2022-06-07T20:35:46.215Z"
   },
   {
    "duration": 113,
    "start_time": "2022-06-07T20:35:46.287Z"
   },
   {
    "duration": 13,
    "start_time": "2022-06-07T20:35:46.402Z"
   },
   {
    "duration": 26,
    "start_time": "2022-06-07T20:35:46.416Z"
   },
   {
    "duration": 39,
    "start_time": "2022-06-07T20:35:46.444Z"
   },
   {
    "duration": 57,
    "start_time": "2022-06-07T20:35:46.485Z"
   },
   {
    "duration": 111,
    "start_time": "2022-06-07T20:35:46.544Z"
   },
   {
    "duration": 8,
    "start_time": "2022-06-07T20:35:46.657Z"
   },
   {
    "duration": 17,
    "start_time": "2022-06-07T20:35:46.666Z"
   },
   {
    "duration": 98,
    "start_time": "2022-06-07T20:35:46.685Z"
   },
   {
    "duration": 15,
    "start_time": "2022-06-07T20:35:46.784Z"
   },
   {
    "duration": 16,
    "start_time": "2022-06-07T20:35:46.801Z"
   },
   {
    "duration": 20,
    "start_time": "2022-06-07T20:35:46.841Z"
   },
   {
    "duration": 171,
    "start_time": "2022-06-07T20:35:46.864Z"
   },
   {
    "duration": 7,
    "start_time": "2022-06-07T20:43:21.787Z"
   },
   {
    "duration": 385,
    "start_time": "2022-06-07T20:43:23.508Z"
   },
   {
    "duration": 660,
    "start_time": "2022-06-07T20:43:30.670Z"
   },
   {
    "duration": 105,
    "start_time": "2022-06-07T21:00:24.577Z"
   },
   {
    "duration": 105,
    "start_time": "2022-06-07T21:01:47.815Z"
   },
   {
    "duration": 114,
    "start_time": "2022-06-07T21:03:10.501Z"
   },
   {
    "duration": 107,
    "start_time": "2022-06-07T21:03:37.677Z"
   },
   {
    "duration": 28,
    "start_time": "2022-06-07T21:17:13.973Z"
   },
   {
    "duration": 29,
    "start_time": "2022-06-07T21:17:28.197Z"
   },
   {
    "duration": 29,
    "start_time": "2022-06-07T21:19:17.886Z"
   },
   {
    "duration": 29,
    "start_time": "2022-06-07T21:20:02.170Z"
   },
   {
    "duration": 28,
    "start_time": "2022-06-07T21:21:26.395Z"
   },
   {
    "duration": 19,
    "start_time": "2022-06-07T21:21:36.784Z"
   },
   {
    "duration": 29,
    "start_time": "2022-06-07T21:21:43.236Z"
   },
   {
    "duration": 15,
    "start_time": "2022-06-07T21:22:02.897Z"
   },
   {
    "duration": 14,
    "start_time": "2022-06-07T21:22:12.776Z"
   },
   {
    "duration": 22,
    "start_time": "2022-06-07T21:24:44.256Z"
   },
   {
    "duration": 484,
    "start_time": "2022-06-07T21:26:56.057Z"
   },
   {
    "duration": 7,
    "start_time": "2022-06-07T21:27:12.586Z"
   },
   {
    "duration": 205,
    "start_time": "2022-06-07T21:27:12.595Z"
   },
   {
    "duration": 106,
    "start_time": "2022-06-07T21:27:12.802Z"
   },
   {
    "duration": 36,
    "start_time": "2022-06-07T21:27:12.910Z"
   },
   {
    "duration": 87,
    "start_time": "2022-06-07T21:27:12.948Z"
   },
   {
    "duration": 84,
    "start_time": "2022-06-07T21:27:13.036Z"
   },
   {
    "duration": 203,
    "start_time": "2022-06-07T21:27:13.122Z"
   },
   {
    "duration": 38,
    "start_time": "2022-06-07T21:27:13.326Z"
   },
   {
    "duration": 17,
    "start_time": "2022-06-07T21:27:13.365Z"
   },
   {
    "duration": 8,
    "start_time": "2022-06-07T21:27:13.384Z"
   },
   {
    "duration": 494,
    "start_time": "2022-06-07T21:27:13.393Z"
   },
   {
    "duration": 695,
    "start_time": "2022-06-07T21:27:13.889Z"
   },
   {
    "duration": 27,
    "start_time": "2022-06-07T21:27:14.586Z"
   },
   {
    "duration": 199,
    "start_time": "2022-06-07T21:27:14.615Z"
   },
   {
    "duration": 89,
    "start_time": "2022-06-07T21:27:14.816Z"
   },
   {
    "duration": 126,
    "start_time": "2022-06-07T21:27:14.907Z"
   },
   {
    "duration": 160,
    "start_time": "2022-06-07T21:27:15.034Z"
   },
   {
    "duration": 19,
    "start_time": "2022-06-07T21:27:15.196Z"
   },
   {
    "duration": 67,
    "start_time": "2022-06-07T21:27:15.217Z"
   },
   {
    "duration": 35,
    "start_time": "2022-06-07T21:27:15.286Z"
   },
   {
    "duration": 149,
    "start_time": "2022-06-07T21:27:15.323Z"
   },
   {
    "duration": 10,
    "start_time": "2022-06-07T21:27:15.476Z"
   },
   {
    "duration": 18,
    "start_time": "2022-06-07T21:27:15.488Z"
   },
   {
    "duration": 94,
    "start_time": "2022-06-07T21:27:15.508Z"
   },
   {
    "duration": 13,
    "start_time": "2022-06-07T21:27:15.604Z"
   },
   {
    "duration": 34,
    "start_time": "2022-06-07T21:27:15.619Z"
   },
   {
    "duration": 20,
    "start_time": "2022-06-07T21:27:15.655Z"
   },
   {
    "duration": 143,
    "start_time": "2022-06-07T21:27:15.677Z"
   },
   {
    "duration": 24,
    "start_time": "2022-06-07T21:33:19.020Z"
   },
   {
    "duration": 14,
    "start_time": "2022-06-07T21:34:42.696Z"
   },
   {
    "duration": 13,
    "start_time": "2022-06-07T21:35:03.854Z"
   },
   {
    "duration": 14,
    "start_time": "2022-06-07T21:36:00.426Z"
   },
   {
    "duration": 13,
    "start_time": "2022-06-07T21:42:41.526Z"
   },
   {
    "duration": 13,
    "start_time": "2022-06-07T21:43:13.153Z"
   },
   {
    "duration": 15,
    "start_time": "2022-06-07T21:44:59.674Z"
   },
   {
    "duration": 41,
    "start_time": "2022-06-07T22:05:20.553Z"
   },
   {
    "duration": 102,
    "start_time": "2022-06-07T22:05:38.118Z"
   },
   {
    "duration": 103,
    "start_time": "2022-06-07T22:05:50.462Z"
   },
   {
    "duration": 104,
    "start_time": "2022-06-07T22:06:42.998Z"
   },
   {
    "duration": 114,
    "start_time": "2022-06-07T22:07:00.077Z"
   },
   {
    "duration": 103,
    "start_time": "2022-06-07T22:10:45.908Z"
   },
   {
    "duration": 105,
    "start_time": "2022-06-07T22:11:16.262Z"
   },
   {
    "duration": 98,
    "start_time": "2022-06-07T22:12:37.095Z"
   },
   {
    "duration": 96,
    "start_time": "2022-06-07T22:12:54.321Z"
   },
   {
    "duration": 108,
    "start_time": "2022-06-07T22:13:22.518Z"
   },
   {
    "duration": 100,
    "start_time": "2022-06-07T22:13:29.163Z"
   },
   {
    "duration": 5,
    "start_time": "2022-06-07T22:41:48.455Z"
   },
   {
    "duration": 175,
    "start_time": "2022-06-07T22:41:48.462Z"
   },
   {
    "duration": 92,
    "start_time": "2022-06-07T22:41:48.642Z"
   },
   {
    "duration": 24,
    "start_time": "2022-06-07T22:41:48.742Z"
   },
   {
    "duration": 86,
    "start_time": "2022-06-07T22:41:48.768Z"
   },
   {
    "duration": 69,
    "start_time": "2022-06-07T22:41:48.855Z"
   },
   {
    "duration": 174,
    "start_time": "2022-06-07T22:41:48.926Z"
   },
   {
    "duration": 25,
    "start_time": "2022-06-07T22:41:49.102Z"
   },
   {
    "duration": 7,
    "start_time": "2022-06-07T22:41:49.143Z"
   },
   {
    "duration": 13,
    "start_time": "2022-06-07T22:41:49.151Z"
   },
   {
    "duration": 395,
    "start_time": "2022-06-07T22:41:49.165Z"
   },
   {
    "duration": 570,
    "start_time": "2022-06-07T22:41:49.561Z"
   },
   {
    "duration": 31,
    "start_time": "2022-06-07T22:41:50.133Z"
   },
   {
    "duration": 164,
    "start_time": "2022-06-07T22:41:50.167Z"
   },
   {
    "duration": 74,
    "start_time": "2022-06-07T22:41:50.332Z"
   },
   {
    "duration": 105,
    "start_time": "2022-06-07T22:41:50.407Z"
   },
   {
    "duration": 13,
    "start_time": "2022-06-07T22:41:50.514Z"
   },
   {
    "duration": 28,
    "start_time": "2022-06-07T22:41:50.528Z"
   },
   {
    "duration": 38,
    "start_time": "2022-06-07T22:41:50.559Z"
   },
   {
    "duration": 58,
    "start_time": "2022-06-07T22:41:50.599Z"
   },
   {
    "duration": 67,
    "start_time": "2022-06-07T22:41:50.659Z"
   },
   {
    "duration": 128,
    "start_time": "2022-06-07T22:41:50.741Z"
   },
   {
    "duration": 108,
    "start_time": "2022-06-07T22:41:50.871Z"
   },
   {
    "duration": 7,
    "start_time": "2022-06-07T22:41:50.981Z"
   },
   {
    "duration": 16,
    "start_time": "2022-06-07T22:41:50.990Z"
   },
   {
    "duration": 34,
    "start_time": "2022-06-07T22:41:51.008Z"
   },
   {
    "duration": 14,
    "start_time": "2022-06-07T22:41:51.043Z"
   },
   {
    "duration": 14,
    "start_time": "2022-06-07T22:41:51.059Z"
   },
   {
    "duration": 1144,
    "start_time": "2022-06-08T15:58:23.281Z"
   },
   {
    "duration": 684,
    "start_time": "2022-06-08T15:58:24.427Z"
   },
   {
    "duration": 85,
    "start_time": "2022-06-08T15:58:25.112Z"
   },
   {
    "duration": 17,
    "start_time": "2022-06-08T15:58:25.198Z"
   },
   {
    "duration": 87,
    "start_time": "2022-06-08T15:58:25.217Z"
   },
   {
    "duration": 76,
    "start_time": "2022-06-08T15:58:25.305Z"
   },
   {
    "duration": 161,
    "start_time": "2022-06-08T15:58:25.382Z"
   },
   {
    "duration": 33,
    "start_time": "2022-06-08T15:58:25.545Z"
   },
   {
    "duration": 6,
    "start_time": "2022-06-08T15:58:25.579Z"
   },
   {
    "duration": 7,
    "start_time": "2022-06-08T15:58:25.586Z"
   },
   {
    "duration": 437,
    "start_time": "2022-06-08T15:58:25.594Z"
   },
   {
    "duration": 464,
    "start_time": "2022-06-08T15:58:26.033Z"
   },
   {
    "duration": 23,
    "start_time": "2022-06-08T15:58:26.499Z"
   },
   {
    "duration": 141,
    "start_time": "2022-06-08T15:58:26.525Z"
   },
   {
    "duration": 66,
    "start_time": "2022-06-08T15:58:26.668Z"
   },
   {
    "duration": 89,
    "start_time": "2022-06-08T15:58:26.736Z"
   },
   {
    "duration": 185,
    "start_time": "2022-06-08T15:58:26.826Z"
   },
   {
    "duration": 18,
    "start_time": "2022-06-08T15:58:27.012Z"
   },
   {
    "duration": 77,
    "start_time": "2022-06-08T15:58:27.031Z"
   },
   {
    "duration": 79,
    "start_time": "2022-06-08T15:58:27.109Z"
   },
   {
    "duration": 62,
    "start_time": "2022-06-08T15:58:27.189Z"
   },
   {
    "duration": 146,
    "start_time": "2022-06-08T15:58:27.253Z"
   },
   {
    "duration": 117,
    "start_time": "2022-06-08T15:58:27.400Z"
   },
   {
    "duration": 6,
    "start_time": "2022-06-08T15:58:27.519Z"
   },
   {
    "duration": 15,
    "start_time": "2022-06-08T15:58:27.526Z"
   },
   {
    "duration": 10,
    "start_time": "2022-06-08T15:58:27.542Z"
   },
   {
    "duration": 37,
    "start_time": "2022-06-08T15:58:27.553Z"
   },
   {
    "duration": 13,
    "start_time": "2022-06-08T15:58:27.592Z"
   },
   {
    "duration": 352,
    "start_time": "2022-06-08T16:13:16.368Z"
   },
   {
    "duration": 136,
    "start_time": "2022-06-08T16:15:19.891Z"
   },
   {
    "duration": 38,
    "start_time": "2022-06-08T16:18:21.877Z"
   },
   {
    "duration": 268,
    "start_time": "2022-06-08T16:20:32.647Z"
   },
   {
    "duration": 6,
    "start_time": "2022-06-08T16:21:07.611Z"
   },
   {
    "duration": 547,
    "start_time": "2022-06-08T16:21:07.619Z"
   },
   {
    "duration": 131,
    "start_time": "2022-06-08T16:21:08.168Z"
   },
   {
    "duration": 29,
    "start_time": "2022-06-08T16:21:08.300Z"
   },
   {
    "duration": 284,
    "start_time": "2022-06-08T16:21:08.332Z"
   },
   {
    "duration": 34,
    "start_time": "2022-06-08T16:21:08.618Z"
   },
   {
    "duration": 42,
    "start_time": "2022-06-08T16:21:08.654Z"
   },
   {
    "duration": 6,
    "start_time": "2022-06-08T16:21:08.698Z"
   },
   {
    "duration": 18,
    "start_time": "2022-06-08T16:21:08.705Z"
   },
   {
    "duration": 372,
    "start_time": "2022-06-08T16:21:08.725Z"
   },
   {
    "duration": 712,
    "start_time": "2022-06-08T16:21:09.098Z"
   },
   {
    "duration": 31,
    "start_time": "2022-06-08T16:21:09.812Z"
   },
   {
    "duration": 178,
    "start_time": "2022-06-08T16:21:09.845Z"
   },
   {
    "duration": 72,
    "start_time": "2022-06-08T16:21:10.025Z"
   },
   {
    "duration": 107,
    "start_time": "2022-06-08T16:21:10.098Z"
   },
   {
    "duration": 16,
    "start_time": "2022-06-08T16:21:10.206Z"
   },
   {
    "duration": 25,
    "start_time": "2022-06-08T16:21:10.224Z"
   },
   {
    "duration": 43,
    "start_time": "2022-06-08T16:21:10.250Z"
   },
   {
    "duration": 65,
    "start_time": "2022-06-08T16:21:10.295Z"
   },
   {
    "duration": 126,
    "start_time": "2022-06-08T16:21:10.361Z"
   },
   {
    "duration": 104,
    "start_time": "2022-06-08T16:21:10.488Z"
   },
   {
    "duration": 9,
    "start_time": "2022-06-08T16:21:10.594Z"
   },
   {
    "duration": 39,
    "start_time": "2022-06-08T16:21:10.604Z"
   },
   {
    "duration": 32,
    "start_time": "2022-06-08T16:21:10.644Z"
   },
   {
    "duration": 35,
    "start_time": "2022-06-08T16:21:10.678Z"
   },
   {
    "duration": 28,
    "start_time": "2022-06-08T16:21:10.714Z"
   },
   {
    "duration": 252,
    "start_time": "2022-06-08T16:22:14.486Z"
   },
   {
    "duration": 5,
    "start_time": "2022-06-08T16:22:32.360Z"
   },
   {
    "duration": 203,
    "start_time": "2022-06-08T16:22:32.367Z"
   },
   {
    "duration": 86,
    "start_time": "2022-06-08T16:22:32.572Z"
   },
   {
    "duration": 31,
    "start_time": "2022-06-08T16:22:32.660Z"
   },
   {
    "duration": 248,
    "start_time": "2022-06-08T16:22:32.692Z"
   },
   {
    "duration": 50,
    "start_time": "2022-06-08T16:22:32.941Z"
   },
   {
    "duration": 23,
    "start_time": "2022-06-08T16:22:32.992Z"
   },
   {
    "duration": 5,
    "start_time": "2022-06-08T16:22:33.017Z"
   },
   {
    "duration": 4,
    "start_time": "2022-06-08T16:22:33.023Z"
   },
   {
    "duration": 343,
    "start_time": "2022-06-08T16:22:33.029Z"
   },
   {
    "duration": 471,
    "start_time": "2022-06-08T16:22:33.374Z"
   },
   {
    "duration": 20,
    "start_time": "2022-06-08T16:22:33.847Z"
   },
   {
    "duration": 142,
    "start_time": "2022-06-08T16:22:33.868Z"
   },
   {
    "duration": 74,
    "start_time": "2022-06-08T16:22:34.011Z"
   },
   {
    "duration": 80,
    "start_time": "2022-06-08T16:22:34.086Z"
   },
   {
    "duration": 23,
    "start_time": "2022-06-08T16:22:34.168Z"
   },
   {
    "duration": 13,
    "start_time": "2022-06-08T16:22:34.192Z"
   },
   {
    "duration": 30,
    "start_time": "2022-06-08T16:22:34.206Z"
   },
   {
    "duration": 79,
    "start_time": "2022-06-08T16:22:34.238Z"
   },
   {
    "duration": 99,
    "start_time": "2022-06-08T16:22:34.319Z"
   },
   {
    "duration": 96,
    "start_time": "2022-06-08T16:22:34.420Z"
   },
   {
    "duration": 6,
    "start_time": "2022-06-08T16:22:34.518Z"
   },
   {
    "duration": 22,
    "start_time": "2022-06-08T16:22:34.525Z"
   },
   {
    "duration": 10,
    "start_time": "2022-06-08T16:22:34.548Z"
   },
   {
    "duration": 32,
    "start_time": "2022-06-08T16:22:34.559Z"
   },
   {
    "duration": 12,
    "start_time": "2022-06-08T16:22:34.592Z"
   },
   {
    "duration": 7,
    "start_time": "2022-06-08T16:25:50.638Z"
   },
   {
    "duration": 211,
    "start_time": "2022-06-08T16:25:50.647Z"
   },
   {
    "duration": 118,
    "start_time": "2022-06-08T16:25:50.860Z"
   },
   {
    "duration": 29,
    "start_time": "2022-06-08T16:25:50.983Z"
   },
   {
    "duration": 196,
    "start_time": "2022-06-08T16:25:51.014Z"
   },
   {
    "duration": 163,
    "start_time": "2022-06-08T16:25:51.212Z"
   },
   {
    "duration": 50,
    "start_time": "2022-06-08T16:25:51.377Z"
   },
   {
    "duration": 32,
    "start_time": "2022-06-08T16:25:51.429Z"
   },
   {
    "duration": 23,
    "start_time": "2022-06-08T16:25:51.463Z"
   },
   {
    "duration": 21,
    "start_time": "2022-06-08T16:25:51.490Z"
   },
   {
    "duration": 537,
    "start_time": "2022-06-08T16:25:51.513Z"
   },
   {
    "duration": 585,
    "start_time": "2022-06-08T16:25:52.054Z"
   },
   {
    "duration": 48,
    "start_time": "2022-06-08T16:25:52.641Z"
   },
   {
    "duration": 161,
    "start_time": "2022-06-08T16:25:52.693Z"
   },
   {
    "duration": 86,
    "start_time": "2022-06-08T16:25:52.856Z"
   },
   {
    "duration": 124,
    "start_time": "2022-06-08T16:25:52.945Z"
   },
   {
    "duration": 27,
    "start_time": "2022-06-08T16:25:53.071Z"
   },
   {
    "duration": 25,
    "start_time": "2022-06-08T16:25:53.100Z"
   },
   {
    "duration": 34,
    "start_time": "2022-06-08T16:25:53.129Z"
   },
   {
    "duration": 89,
    "start_time": "2022-06-08T16:25:53.165Z"
   },
   {
    "duration": 122,
    "start_time": "2022-06-08T16:25:53.257Z"
   },
   {
    "duration": 108,
    "start_time": "2022-06-08T16:25:53.380Z"
   },
   {
    "duration": 9,
    "start_time": "2022-06-08T16:25:53.489Z"
   },
   {
    "duration": 36,
    "start_time": "2022-06-08T16:25:53.500Z"
   },
   {
    "duration": 24,
    "start_time": "2022-06-08T16:25:53.539Z"
   },
   {
    "duration": 28,
    "start_time": "2022-06-08T16:25:53.565Z"
   },
   {
    "duration": 32,
    "start_time": "2022-06-08T16:25:53.595Z"
   },
   {
    "duration": 23,
    "start_time": "2022-06-08T16:27:42.609Z"
   },
   {
    "duration": 162,
    "start_time": "2022-06-08T16:33:48.443Z"
   },
   {
    "duration": 87,
    "start_time": "2022-06-08T16:33:55.727Z"
   },
   {
    "duration": 103,
    "start_time": "2022-06-08T16:36:03.019Z"
   },
   {
    "duration": 260,
    "start_time": "2022-06-08T16:36:22.244Z"
   },
   {
    "duration": 151,
    "start_time": "2022-06-08T16:38:14.850Z"
   },
   {
    "duration": 644,
    "start_time": "2022-06-08T16:38:54.461Z"
   },
   {
    "duration": 782,
    "start_time": "2022-06-08T16:39:01.165Z"
   },
   {
    "duration": 558,
    "start_time": "2022-06-08T16:39:37.909Z"
   },
   {
    "duration": 640,
    "start_time": "2022-06-08T16:39:45.501Z"
   },
   {
    "duration": 78,
    "start_time": "2022-06-08T16:39:53.913Z"
   },
   {
    "duration": 45,
    "start_time": "2022-06-08T16:41:03.313Z"
   },
   {
    "duration": 140,
    "start_time": "2022-06-08T17:10:02.097Z"
   },
   {
    "duration": 33,
    "start_time": "2022-06-08T17:10:03.436Z"
   },
   {
    "duration": 23,
    "start_time": "2022-06-08T17:10:04.737Z"
   },
   {
    "duration": 8,
    "start_time": "2022-06-08T17:10:17.841Z"
   },
   {
    "duration": 171,
    "start_time": "2022-06-08T17:10:17.851Z"
   },
   {
    "duration": 97,
    "start_time": "2022-06-08T17:10:18.024Z"
   },
   {
    "duration": 145,
    "start_time": "2022-06-08T17:10:18.123Z"
   },
   {
    "duration": 71,
    "start_time": "2022-06-08T17:10:18.278Z"
   },
   {
    "duration": 143,
    "start_time": "2022-06-08T17:10:18.350Z"
   },
   {
    "duration": 41,
    "start_time": "2022-06-08T17:10:18.499Z"
   },
   {
    "duration": 22,
    "start_time": "2022-06-08T17:10:18.541Z"
   },
   {
    "duration": 41,
    "start_time": "2022-06-08T17:10:18.565Z"
   },
   {
    "duration": 5,
    "start_time": "2022-06-08T17:10:18.608Z"
   },
   {
    "duration": 5,
    "start_time": "2022-06-08T17:10:18.614Z"
   },
   {
    "duration": 350,
    "start_time": "2022-06-08T17:10:18.620Z"
   },
   {
    "duration": 521,
    "start_time": "2022-06-08T17:10:18.971Z"
   },
   {
    "duration": 37,
    "start_time": "2022-06-08T17:10:19.498Z"
   },
   {
    "duration": 262,
    "start_time": "2022-06-08T17:10:19.537Z"
   },
   {
    "duration": 60,
    "start_time": "2022-06-08T17:10:19.800Z"
   },
   {
    "duration": 97,
    "start_time": "2022-06-08T17:10:19.861Z"
   },
   {
    "duration": 25,
    "start_time": "2022-06-08T17:10:19.960Z"
   },
   {
    "duration": 15,
    "start_time": "2022-06-08T17:10:19.990Z"
   },
   {
    "duration": 49,
    "start_time": "2022-06-08T17:10:20.007Z"
   },
   {
    "duration": 85,
    "start_time": "2022-06-08T17:10:20.058Z"
   },
   {
    "duration": 116,
    "start_time": "2022-06-08T17:10:20.145Z"
   },
   {
    "duration": 105,
    "start_time": "2022-06-08T17:10:20.262Z"
   },
   {
    "duration": 9,
    "start_time": "2022-06-08T17:10:20.384Z"
   },
   {
    "duration": 26,
    "start_time": "2022-06-08T17:10:20.394Z"
   },
   {
    "duration": 9,
    "start_time": "2022-06-08T17:10:20.422Z"
   },
   {
    "duration": 10,
    "start_time": "2022-06-08T17:10:20.432Z"
   },
   {
    "duration": 13,
    "start_time": "2022-06-08T17:10:20.444Z"
   },
   {
    "duration": 474,
    "start_time": "2022-06-08T17:42:03.696Z"
   },
   {
    "duration": 119,
    "start_time": "2022-06-08T17:46:38.331Z"
   },
   {
    "duration": 114,
    "start_time": "2022-06-08T17:48:21.873Z"
   },
   {
    "duration": 125,
    "start_time": "2022-06-08T17:48:41.139Z"
   },
   {
    "duration": 135,
    "start_time": "2022-06-08T17:51:18.821Z"
   },
   {
    "duration": 166,
    "start_time": "2022-06-08T17:53:48.184Z"
   },
   {
    "duration": 252,
    "start_time": "2022-06-08T17:54:27.056Z"
   },
   {
    "duration": 195,
    "start_time": "2022-06-08T17:55:27.630Z"
   },
   {
    "duration": 27,
    "start_time": "2022-06-08T17:56:06.327Z"
   },
   {
    "duration": 224,
    "start_time": "2022-06-08T17:56:12.891Z"
   },
   {
    "duration": 10,
    "start_time": "2022-06-08T17:59:07.524Z"
   },
   {
    "duration": 199,
    "start_time": "2022-06-08T17:59:17.039Z"
   },
   {
    "duration": 163,
    "start_time": "2022-06-08T17:59:54.111Z"
   },
   {
    "duration": 148,
    "start_time": "2022-06-08T18:00:31.383Z"
   },
   {
    "duration": 211,
    "start_time": "2022-06-08T18:01:42.467Z"
   },
   {
    "duration": 165,
    "start_time": "2022-06-08T18:03:47.694Z"
   },
   {
    "duration": 5,
    "start_time": "2022-06-08T18:14:51.006Z"
   },
   {
    "duration": 139,
    "start_time": "2022-06-08T18:14:57.124Z"
   },
   {
    "duration": 4,
    "start_time": "2022-06-08T18:15:20.313Z"
   },
   {
    "duration": 156,
    "start_time": "2022-06-08T18:15:24.626Z"
   },
   {
    "duration": 27,
    "start_time": "2022-06-08T18:35:39.903Z"
   },
   {
    "duration": 6,
    "start_time": "2022-06-08T18:38:22.757Z"
   },
   {
    "duration": 441,
    "start_time": "2022-06-08T18:38:22.765Z"
   },
   {
    "duration": 109,
    "start_time": "2022-06-08T18:38:23.208Z"
   },
   {
    "duration": 214,
    "start_time": "2022-06-08T18:38:23.319Z"
   },
   {
    "duration": 81,
    "start_time": "2022-06-08T18:38:23.536Z"
   },
   {
    "duration": 169,
    "start_time": "2022-06-08T18:38:23.619Z"
   },
   {
    "duration": 40,
    "start_time": "2022-06-08T18:38:23.789Z"
   },
   {
    "duration": 28,
    "start_time": "2022-06-08T18:38:23.831Z"
   },
   {
    "duration": 25,
    "start_time": "2022-06-08T18:38:23.861Z"
   },
   {
    "duration": 11,
    "start_time": "2022-06-08T18:38:23.888Z"
   },
   {
    "duration": 400,
    "start_time": "2022-06-08T18:38:23.909Z"
   },
   {
    "duration": 615,
    "start_time": "2022-06-08T18:38:24.315Z"
   },
   {
    "duration": 23,
    "start_time": "2022-06-08T18:38:24.932Z"
   },
   {
    "duration": 175,
    "start_time": "2022-06-08T18:38:24.957Z"
   },
   {
    "duration": 40,
    "start_time": "2022-06-08T18:38:25.133Z"
   },
   {
    "duration": 95,
    "start_time": "2022-06-08T18:38:25.182Z"
   },
   {
    "duration": 130,
    "start_time": "2022-06-08T18:38:25.282Z"
   },
   {
    "duration": 15,
    "start_time": "2022-06-08T18:38:25.417Z"
   },
   {
    "duration": 19,
    "start_time": "2022-06-08T18:38:25.433Z"
   },
   {
    "duration": 51,
    "start_time": "2022-06-08T18:38:25.454Z"
   },
   {
    "duration": 83,
    "start_time": "2022-06-08T18:38:25.506Z"
   },
   {
    "duration": 121,
    "start_time": "2022-06-08T18:38:25.593Z"
   },
   {
    "duration": 106,
    "start_time": "2022-06-08T18:38:25.719Z"
   },
   {
    "duration": 7,
    "start_time": "2022-06-08T18:38:25.826Z"
   },
   {
    "duration": 21,
    "start_time": "2022-06-08T18:38:25.834Z"
   },
   {
    "duration": 24,
    "start_time": "2022-06-08T18:38:25.856Z"
   },
   {
    "duration": 13,
    "start_time": "2022-06-08T18:38:25.887Z"
   },
   {
    "duration": 33,
    "start_time": "2022-06-08T18:38:25.901Z"
   },
   {
    "duration": 1625,
    "start_time": "2022-06-08T19:50:25.653Z"
   },
   {
    "duration": 680,
    "start_time": "2022-06-08T19:50:27.281Z"
   },
   {
    "duration": 122,
    "start_time": "2022-06-08T19:50:27.963Z"
   },
   {
    "duration": 256,
    "start_time": "2022-06-08T19:50:28.087Z"
   },
   {
    "duration": 122,
    "start_time": "2022-06-08T19:50:28.346Z"
   },
   {
    "duration": 182,
    "start_time": "2022-06-08T19:50:28.469Z"
   },
   {
    "duration": 61,
    "start_time": "2022-06-08T19:50:28.653Z"
   },
   {
    "duration": 31,
    "start_time": "2022-06-08T19:50:28.717Z"
   },
   {
    "duration": 21,
    "start_time": "2022-06-08T19:50:28.751Z"
   },
   {
    "duration": 36,
    "start_time": "2022-06-08T19:50:28.775Z"
   },
   {
    "duration": 624,
    "start_time": "2022-06-08T19:50:28.813Z"
   },
   {
    "duration": 703,
    "start_time": "2022-06-08T19:50:29.439Z"
   },
   {
    "duration": 37,
    "start_time": "2022-06-08T19:50:30.145Z"
   },
   {
    "duration": 237,
    "start_time": "2022-06-08T19:50:30.185Z"
   },
   {
    "duration": 51,
    "start_time": "2022-06-08T19:50:30.424Z"
   },
   {
    "duration": 109,
    "start_time": "2022-06-08T19:50:30.477Z"
   },
   {
    "duration": 113,
    "start_time": "2022-06-08T19:50:30.589Z"
   },
   {
    "duration": 258,
    "start_time": "2022-06-08T19:50:30.705Z"
   },
   {
    "duration": 17,
    "start_time": "2022-06-08T19:50:30.964Z"
   },
   {
    "duration": 104,
    "start_time": "2022-06-08T19:50:30.983Z"
   },
   {
    "duration": 109,
    "start_time": "2022-06-08T19:50:31.090Z"
   },
   {
    "duration": 130,
    "start_time": "2022-06-08T19:50:31.201Z"
   },
   {
    "duration": 151,
    "start_time": "2022-06-08T19:50:31.333Z"
   },
   {
    "duration": 7,
    "start_time": "2022-06-08T19:50:31.485Z"
   },
   {
    "duration": 22,
    "start_time": "2022-06-08T19:50:31.494Z"
   },
   {
    "duration": 13,
    "start_time": "2022-06-08T19:50:31.517Z"
   },
   {
    "duration": 34,
    "start_time": "2022-06-08T19:50:31.532Z"
   },
   {
    "duration": 14,
    "start_time": "2022-06-08T19:50:31.568Z"
   },
   {
    "duration": 297,
    "start_time": "2022-06-08T19:55:01.687Z"
   },
   {
    "duration": 90,
    "start_time": "2022-06-08T19:56:37.738Z"
   },
   {
    "duration": 422,
    "start_time": "2022-06-08T20:05:33.932Z"
   },
   {
    "duration": 138,
    "start_time": "2022-06-08T20:06:12.836Z"
   },
   {
    "duration": 33,
    "start_time": "2022-06-08T20:07:54.841Z"
   },
   {
    "duration": 74,
    "start_time": "2022-06-08T20:08:15.950Z"
   },
   {
    "duration": 57,
    "start_time": "2022-06-08T20:08:47.121Z"
   },
   {
    "duration": 48,
    "start_time": "2022-06-08T20:11:03.489Z"
   },
   {
    "duration": 10,
    "start_time": "2022-06-08T20:21:22.240Z"
   },
   {
    "duration": 17,
    "start_time": "2022-06-08T20:26:10.327Z"
   },
   {
    "duration": 14,
    "start_time": "2022-06-08T20:28:47.583Z"
   },
   {
    "duration": 23,
    "start_time": "2022-06-08T20:28:50.173Z"
   },
   {
    "duration": 7,
    "start_time": "2022-06-08T20:29:47.790Z"
   },
   {
    "duration": 11,
    "start_time": "2022-06-08T20:29:50.615Z"
   },
   {
    "duration": 13,
    "start_time": "2022-06-08T20:29:52.612Z"
   },
   {
    "duration": 16,
    "start_time": "2022-06-08T20:38:23.618Z"
   },
   {
    "duration": 127,
    "start_time": "2022-06-08T20:41:21.065Z"
   },
   {
    "duration": 39,
    "start_time": "2022-06-08T20:46:42.385Z"
   },
   {
    "duration": 116,
    "start_time": "2022-06-08T20:47:32.043Z"
   },
   {
    "duration": 54,
    "start_time": "2022-06-08T20:47:42.445Z"
   },
   {
    "duration": 59,
    "start_time": "2022-06-08T20:48:45.014Z"
   },
   {
    "duration": 31,
    "start_time": "2022-06-08T20:48:52.531Z"
   },
   {
    "duration": 33,
    "start_time": "2022-06-08T20:49:00.433Z"
   },
   {
    "duration": 40,
    "start_time": "2022-06-08T20:49:21.493Z"
   },
   {
    "duration": 10548,
    "start_time": "2022-06-08T20:49:32.857Z"
   },
   {
    "duration": 29,
    "start_time": "2022-06-08T20:50:06.635Z"
   },
   {
    "duration": 30,
    "start_time": "2022-06-08T20:50:26.482Z"
   },
   {
    "duration": 41,
    "start_time": "2022-06-08T20:50:52.617Z"
   },
   {
    "duration": 50,
    "start_time": "2022-06-08T20:51:13.963Z"
   },
   {
    "duration": 33,
    "start_time": "2022-06-08T20:51:40.787Z"
   },
   {
    "duration": 31,
    "start_time": "2022-06-08T20:51:57.815Z"
   },
   {
    "duration": 42,
    "start_time": "2022-06-08T20:52:06.457Z"
   },
   {
    "duration": 58,
    "start_time": "2022-06-08T20:52:24.538Z"
   },
   {
    "duration": 54,
    "start_time": "2022-06-08T21:01:57.287Z"
   },
   {
    "duration": 58,
    "start_time": "2022-06-08T21:02:20.734Z"
   },
   {
    "duration": 50,
    "start_time": "2022-06-08T21:02:39.485Z"
   },
   {
    "duration": 33,
    "start_time": "2022-06-08T21:05:03.740Z"
   },
   {
    "duration": 57,
    "start_time": "2022-06-08T21:05:32.589Z"
   },
   {
    "duration": 65,
    "start_time": "2022-06-08T21:05:52.684Z"
   },
   {
    "duration": 91,
    "start_time": "2022-06-08T21:06:07.070Z"
   },
   {
    "duration": 91,
    "start_time": "2022-06-08T21:06:36.367Z"
   },
   {
    "duration": 80,
    "start_time": "2022-06-08T21:07:07.060Z"
   },
   {
    "duration": 175,
    "start_time": "2022-06-08T21:18:30.319Z"
   },
   {
    "duration": 8,
    "start_time": "2022-06-08T21:26:21.113Z"
   },
   {
    "duration": 215,
    "start_time": "2022-06-08T21:26:21.124Z"
   },
   {
    "duration": 173,
    "start_time": "2022-06-08T21:26:21.342Z"
   },
   {
    "duration": 182,
    "start_time": "2022-06-08T21:26:21.517Z"
   },
   {
    "duration": 85,
    "start_time": "2022-06-08T21:26:21.702Z"
   },
   {
    "duration": 168,
    "start_time": "2022-06-08T21:26:21.789Z"
   },
   {
    "duration": 46,
    "start_time": "2022-06-08T21:26:21.959Z"
   },
   {
    "duration": 30,
    "start_time": "2022-06-08T21:26:22.007Z"
   },
   {
    "duration": 7,
    "start_time": "2022-06-08T21:26:22.038Z"
   },
   {
    "duration": 11,
    "start_time": "2022-06-08T21:26:22.070Z"
   },
   {
    "duration": 426,
    "start_time": "2022-06-08T21:26:22.083Z"
   },
   {
    "duration": 716,
    "start_time": "2022-06-08T21:26:22.512Z"
   },
   {
    "duration": 57,
    "start_time": "2022-06-08T21:26:23.230Z"
   },
   {
    "duration": 169,
    "start_time": "2022-06-08T21:26:23.290Z"
   },
   {
    "duration": 42,
    "start_time": "2022-06-08T21:26:23.460Z"
   },
   {
    "duration": 105,
    "start_time": "2022-06-08T21:26:23.504Z"
   },
   {
    "duration": 124,
    "start_time": "2022-06-08T21:26:23.611Z"
   },
   {
    "duration": 50,
    "start_time": "2022-06-08T21:26:23.737Z"
   },
   {
    "duration": 19,
    "start_time": "2022-06-08T21:26:23.788Z"
   },
   {
    "duration": 20,
    "start_time": "2022-06-08T21:26:23.808Z"
   },
   {
    "duration": 0,
    "start_time": "2022-06-08T21:26:23.830Z"
   },
   {
    "duration": 0,
    "start_time": "2022-06-08T21:26:23.831Z"
   },
   {
    "duration": 0,
    "start_time": "2022-06-08T21:26:23.833Z"
   },
   {
    "duration": 0,
    "start_time": "2022-06-08T21:26:23.835Z"
   },
   {
    "duration": 0,
    "start_time": "2022-06-08T21:26:23.836Z"
   },
   {
    "duration": 0,
    "start_time": "2022-06-08T21:26:23.838Z"
   },
   {
    "duration": 0,
    "start_time": "2022-06-08T21:26:23.839Z"
   },
   {
    "duration": 1,
    "start_time": "2022-06-08T21:26:23.840Z"
   },
   {
    "duration": 0,
    "start_time": "2022-06-08T21:26:23.842Z"
   },
   {
    "duration": 6,
    "start_time": "2022-06-08T21:26:53.582Z"
   },
   {
    "duration": 211,
    "start_time": "2022-06-08T21:26:53.590Z"
   },
   {
    "duration": 107,
    "start_time": "2022-06-08T21:26:53.803Z"
   },
   {
    "duration": 173,
    "start_time": "2022-06-08T21:26:53.912Z"
   },
   {
    "duration": 65,
    "start_time": "2022-06-08T21:26:54.088Z"
   },
   {
    "duration": 166,
    "start_time": "2022-06-08T21:26:54.155Z"
   },
   {
    "duration": 46,
    "start_time": "2022-06-08T21:26:54.323Z"
   },
   {
    "duration": 38,
    "start_time": "2022-06-08T21:26:54.372Z"
   },
   {
    "duration": 5,
    "start_time": "2022-06-08T21:26:54.412Z"
   },
   {
    "duration": 6,
    "start_time": "2022-06-08T21:26:54.419Z"
   },
   {
    "duration": 441,
    "start_time": "2022-06-08T21:26:54.427Z"
   },
   {
    "duration": 640,
    "start_time": "2022-06-08T21:26:54.873Z"
   },
   {
    "duration": 38,
    "start_time": "2022-06-08T21:26:55.515Z"
   },
   {
    "duration": 194,
    "start_time": "2022-06-08T21:26:55.566Z"
   },
   {
    "duration": 42,
    "start_time": "2022-06-08T21:26:55.762Z"
   },
   {
    "duration": 114,
    "start_time": "2022-06-08T21:26:55.806Z"
   },
   {
    "duration": 114,
    "start_time": "2022-06-08T21:26:55.923Z"
   },
   {
    "duration": 153,
    "start_time": "2022-06-08T21:26:56.039Z"
   },
   {
    "duration": 14,
    "start_time": "2022-06-08T21:26:56.194Z"
   },
   {
    "duration": 67,
    "start_time": "2022-06-08T21:26:56.210Z"
   },
   {
    "duration": 112,
    "start_time": "2022-06-08T21:26:56.283Z"
   },
   {
    "duration": 7,
    "start_time": "2022-06-08T21:26:56.397Z"
   },
   {
    "duration": 19,
    "start_time": "2022-06-08T21:26:56.405Z"
   },
   {
    "duration": 74,
    "start_time": "2022-06-08T21:26:56.425Z"
   },
   {
    "duration": 149,
    "start_time": "2022-06-08T21:26:56.501Z"
   },
   {
    "duration": 24,
    "start_time": "2022-06-08T21:26:56.652Z"
   },
   {
    "duration": 29,
    "start_time": "2022-06-08T21:26:56.677Z"
   },
   {
    "duration": 16,
    "start_time": "2022-06-08T21:26:56.708Z"
   },
   {
    "duration": 172,
    "start_time": "2022-06-08T21:28:34.511Z"
   },
   {
    "duration": 132,
    "start_time": "2022-06-08T21:30:41.384Z"
   },
   {
    "duration": 7,
    "start_time": "2022-06-08T21:34:15.383Z"
   },
   {
    "duration": 211,
    "start_time": "2022-06-08T21:34:15.392Z"
   },
   {
    "duration": 110,
    "start_time": "2022-06-08T21:34:15.604Z"
   },
   {
    "duration": 196,
    "start_time": "2022-06-08T21:34:15.716Z"
   },
   {
    "duration": 81,
    "start_time": "2022-06-08T21:34:15.915Z"
   },
   {
    "duration": 151,
    "start_time": "2022-06-08T21:34:15.998Z"
   },
   {
    "duration": 52,
    "start_time": "2022-06-08T21:34:16.151Z"
   },
   {
    "duration": 66,
    "start_time": "2022-06-08T21:34:16.205Z"
   },
   {
    "duration": 10,
    "start_time": "2022-06-08T21:34:16.274Z"
   },
   {
    "duration": 7,
    "start_time": "2022-06-08T21:34:16.286Z"
   },
   {
    "duration": 462,
    "start_time": "2022-06-08T21:34:16.295Z"
   },
   {
    "duration": 604,
    "start_time": "2022-06-08T21:34:16.759Z"
   },
   {
    "duration": 39,
    "start_time": "2022-06-08T21:34:17.366Z"
   },
   {
    "duration": 191,
    "start_time": "2022-06-08T21:34:17.410Z"
   },
   {
    "duration": 32,
    "start_time": "2022-06-08T21:34:17.603Z"
   },
   {
    "duration": 118,
    "start_time": "2022-06-08T21:34:17.637Z"
   },
   {
    "duration": 122,
    "start_time": "2022-06-08T21:34:17.756Z"
   },
   {
    "duration": 31,
    "start_time": "2022-06-08T21:34:17.879Z"
   },
   {
    "duration": 15,
    "start_time": "2022-06-08T21:34:17.912Z"
   },
   {
    "duration": 66,
    "start_time": "2022-06-08T21:34:17.929Z"
   },
   {
    "duration": 118,
    "start_time": "2022-06-08T21:34:17.997Z"
   },
   {
    "duration": 10,
    "start_time": "2022-06-08T21:34:18.117Z"
   },
   {
    "duration": 19,
    "start_time": "2022-06-08T21:34:18.129Z"
   },
   {
    "duration": 80,
    "start_time": "2022-06-08T21:34:18.170Z"
   },
   {
    "duration": 161,
    "start_time": "2022-06-08T21:34:18.252Z"
   },
   {
    "duration": 13,
    "start_time": "2022-06-08T21:34:18.416Z"
   },
   {
    "duration": 38,
    "start_time": "2022-06-08T21:34:18.431Z"
   },
   {
    "duration": 17,
    "start_time": "2022-06-08T21:34:18.472Z"
   },
   {
    "duration": 120,
    "start_time": "2022-06-08T21:59:09.894Z"
   },
   {
    "duration": 140,
    "start_time": "2022-06-08T22:00:00.983Z"
   },
   {
    "duration": 121,
    "start_time": "2022-06-08T22:00:48.660Z"
   },
   {
    "duration": 122,
    "start_time": "2022-06-08T22:01:12.209Z"
   },
   {
    "duration": 101,
    "start_time": "2022-06-08T22:01:47.314Z"
   },
   {
    "duration": 110,
    "start_time": "2022-06-08T22:02:03.545Z"
   },
   {
    "duration": 6,
    "start_time": "2022-06-08T22:02:05.408Z"
   },
   {
    "duration": 17,
    "start_time": "2022-06-08T22:03:08.757Z"
   },
   {
    "duration": 11,
    "start_time": "2022-06-08T22:03:10.619Z"
   },
   {
    "duration": 58,
    "start_time": "2022-06-08T22:03:16.153Z"
   },
   {
    "duration": 11,
    "start_time": "2022-06-08T22:03:38.650Z"
   },
   {
    "duration": 61,
    "start_time": "2022-06-08T22:03:47.118Z"
   },
   {
    "duration": 6,
    "start_time": "2022-06-08T23:29:50.400Z"
   },
   {
    "duration": 209,
    "start_time": "2022-06-08T23:29:50.408Z"
   },
   {
    "duration": 106,
    "start_time": "2022-06-08T23:29:50.619Z"
   },
   {
    "duration": 179,
    "start_time": "2022-06-08T23:29:50.727Z"
   },
   {
    "duration": 79,
    "start_time": "2022-06-08T23:29:50.909Z"
   },
   {
    "duration": 198,
    "start_time": "2022-06-08T23:29:50.990Z"
   },
   {
    "duration": 46,
    "start_time": "2022-06-08T23:29:51.190Z"
   },
   {
    "duration": 50,
    "start_time": "2022-06-08T23:29:51.239Z"
   },
   {
    "duration": 10,
    "start_time": "2022-06-08T23:29:51.291Z"
   },
   {
    "duration": 10,
    "start_time": "2022-06-08T23:29:51.303Z"
   },
   {
    "duration": 475,
    "start_time": "2022-06-08T23:29:51.316Z"
   },
   {
    "duration": 790,
    "start_time": "2022-06-08T23:29:51.793Z"
   },
   {
    "duration": 30,
    "start_time": "2022-06-08T23:29:52.585Z"
   },
   {
    "duration": 178,
    "start_time": "2022-06-08T23:29:52.617Z"
   },
   {
    "duration": 35,
    "start_time": "2022-06-08T23:29:52.798Z"
   },
   {
    "duration": 104,
    "start_time": "2022-06-08T23:29:52.835Z"
   },
   {
    "duration": 137,
    "start_time": "2022-06-08T23:29:52.942Z"
   },
   {
    "duration": 27,
    "start_time": "2022-06-08T23:29:53.081Z"
   },
   {
    "duration": 15,
    "start_time": "2022-06-08T23:29:53.111Z"
   },
   {
    "duration": 119,
    "start_time": "2022-06-08T23:29:53.128Z"
   },
   {
    "duration": 33,
    "start_time": "2022-06-08T23:29:53.249Z"
   },
   {
    "duration": 15,
    "start_time": "2022-06-08T23:29:53.283Z"
   },
   {
    "duration": 49,
    "start_time": "2022-06-08T23:29:53.300Z"
   },
   {
    "duration": 139,
    "start_time": "2022-06-08T23:29:53.351Z"
   },
   {
    "duration": 11,
    "start_time": "2022-06-08T23:29:53.492Z"
   },
   {
    "duration": 12,
    "start_time": "2022-06-08T23:29:53.505Z"
   },
   {
    "duration": 12,
    "start_time": "2022-06-08T23:29:53.519Z"
   },
   {
    "duration": 5,
    "start_time": "2022-06-08T23:37:32.606Z"
   },
   {
    "duration": 197,
    "start_time": "2022-06-08T23:37:32.613Z"
   },
   {
    "duration": 106,
    "start_time": "2022-06-08T23:37:32.812Z"
   },
   {
    "duration": 173,
    "start_time": "2022-06-08T23:37:32.921Z"
   },
   {
    "duration": 79,
    "start_time": "2022-06-08T23:37:33.095Z"
   },
   {
    "duration": 147,
    "start_time": "2022-06-08T23:37:33.182Z"
   },
   {
    "duration": 49,
    "start_time": "2022-06-08T23:37:33.331Z"
   },
   {
    "duration": 31,
    "start_time": "2022-06-08T23:37:33.382Z"
   },
   {
    "duration": 6,
    "start_time": "2022-06-08T23:37:33.416Z"
   },
   {
    "duration": 6,
    "start_time": "2022-06-08T23:37:33.424Z"
   },
   {
    "duration": 418,
    "start_time": "2022-06-08T23:37:33.431Z"
   },
   {
    "duration": 589,
    "start_time": "2022-06-08T23:37:33.850Z"
   },
   {
    "duration": 39,
    "start_time": "2022-06-08T23:37:34.440Z"
   },
   {
    "duration": 152,
    "start_time": "2022-06-08T23:37:34.483Z"
   },
   {
    "duration": 48,
    "start_time": "2022-06-08T23:37:34.637Z"
   },
   {
    "duration": 86,
    "start_time": "2022-06-08T23:37:34.687Z"
   },
   {
    "duration": 104,
    "start_time": "2022-06-08T23:37:34.778Z"
   },
   {
    "duration": 28,
    "start_time": "2022-06-08T23:37:34.884Z"
   },
   {
    "duration": 15,
    "start_time": "2022-06-08T23:37:34.913Z"
   },
   {
    "duration": 143,
    "start_time": "2022-06-08T23:37:34.930Z"
   },
   {
    "duration": 17,
    "start_time": "2022-06-08T23:37:35.076Z"
   },
   {
    "duration": 19,
    "start_time": "2022-06-08T23:37:35.095Z"
   },
   {
    "duration": 92,
    "start_time": "2022-06-08T23:37:35.116Z"
   },
   {
    "duration": 130,
    "start_time": "2022-06-08T23:37:35.212Z"
   },
   {
    "duration": 26,
    "start_time": "2022-06-08T23:37:35.343Z"
   },
   {
    "duration": 18,
    "start_time": "2022-06-08T23:37:35.382Z"
   },
   {
    "duration": 17,
    "start_time": "2022-06-08T23:37:35.401Z"
   },
   {
    "duration": 1549,
    "start_time": "2022-06-09T05:35:38.303Z"
   },
   {
    "duration": 607,
    "start_time": "2022-06-09T05:35:39.854Z"
   },
   {
    "duration": 109,
    "start_time": "2022-06-09T05:35:40.463Z"
   },
   {
    "duration": 216,
    "start_time": "2022-06-09T05:35:40.574Z"
   },
   {
    "duration": 84,
    "start_time": "2022-06-09T05:35:40.792Z"
   },
   {
    "duration": 179,
    "start_time": "2022-06-09T05:35:40.878Z"
   },
   {
    "duration": 40,
    "start_time": "2022-06-09T05:35:41.059Z"
   },
   {
    "duration": 42,
    "start_time": "2022-06-09T05:35:41.101Z"
   },
   {
    "duration": 8,
    "start_time": "2022-06-09T05:35:41.145Z"
   },
   {
    "duration": 7,
    "start_time": "2022-06-09T05:35:41.156Z"
   },
   {
    "duration": 479,
    "start_time": "2022-06-09T05:35:41.165Z"
   },
   {
    "duration": 589,
    "start_time": "2022-06-09T05:35:41.647Z"
   },
   {
    "duration": 33,
    "start_time": "2022-06-09T05:35:42.238Z"
   },
   {
    "duration": 176,
    "start_time": "2022-06-09T05:35:42.273Z"
   },
   {
    "duration": 47,
    "start_time": "2022-06-09T05:35:42.452Z"
   },
   {
    "duration": 102,
    "start_time": "2022-06-09T05:35:42.501Z"
   },
   {
    "duration": 123,
    "start_time": "2022-06-09T05:35:42.605Z"
   },
   {
    "duration": 539,
    "start_time": "2022-06-09T05:35:42.730Z"
   },
   {
    "duration": 20,
    "start_time": "2022-06-09T05:35:43.271Z"
   },
   {
    "duration": 234,
    "start_time": "2022-06-09T05:35:43.293Z"
   },
   {
    "duration": 16,
    "start_time": "2022-06-09T05:35:43.530Z"
   },
   {
    "duration": 22,
    "start_time": "2022-06-09T05:35:43.549Z"
   },
   {
    "duration": 99,
    "start_time": "2022-06-09T05:35:43.573Z"
   },
   {
    "duration": 133,
    "start_time": "2022-06-09T05:35:43.675Z"
   },
   {
    "duration": 27,
    "start_time": "2022-06-09T05:35:43.811Z"
   },
   {
    "duration": 26,
    "start_time": "2022-06-09T05:35:43.840Z"
   },
   {
    "duration": 55,
    "start_time": "2022-06-09T05:35:43.868Z"
   }
  ],
  "kernelspec": {
   "display_name": "Python 3 (ipykernel)",
   "language": "python",
   "name": "python3"
  },
  "language_info": {
   "codemirror_mode": {
    "name": "ipython",
    "version": 3
   },
   "file_extension": ".py",
   "mimetype": "text/x-python",
   "name": "python",
   "nbconvert_exporter": "python",
   "pygments_lexer": "ipython3",
   "version": "3.9.7"
  },
  "toc": {
   "base_numbering": 1,
   "nav_menu": {},
   "number_sections": true,
   "sideBar": true,
   "skip_h1_title": true,
   "title_cell": "Содержание:",
   "title_sidebar": "Contents",
   "toc_cell": false,
   "toc_position": {
    "height": "calc(100% - 180px)",
    "left": "10px",
    "top": "150px",
    "width": "278.344px"
   },
   "toc_section_display": true,
   "toc_window_display": true
  }
 },
 "nbformat": 4,
 "nbformat_minor": 2
}
