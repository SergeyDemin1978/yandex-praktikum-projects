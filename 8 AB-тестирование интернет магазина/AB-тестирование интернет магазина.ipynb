{
 "cells": [
  {
   "cell_type": "markdown",
   "metadata": {},
   "source": [
    "# A/B-тестирование интернет магазина."
   ]
  },
  {
   "cell_type": "markdown",
   "metadata": {},
   "source": [
    "*Вы — аналитик крупного интернет-магазина. Вместе с отделом маркетинга вы подготовили список гипотез для увеличения выручки.*\n",
    "\n",
    "**Исходные данные:** \n",
    "- датасет с параметрами по девяти гипотезам;\n",
    "- два датасета с параметрами групп тестирования.\n",
    "\n",
    "**Задание:** \n",
    "- Приоритизируйте гипотезы, \n",
    "- запустите A/B-тест и \n",
    "- проанализируйте результаты."
   ]
  },
  {
   "cell_type": "markdown",
   "metadata": {
    "toc": true
   },
   "source": [
    "<h1>Содержание:<span class=\"tocSkip\"></span></h1>\n",
    "<div class=\"toc\"><ul class=\"toc-item\"><li><span><a href=\"#Изучение-данных.\" data-toc-modified-id=\"Изучение-данных.-1\"><span class=\"toc-item-num\">1&nbsp;&nbsp;</span>Изучение данных.</a></span><ul class=\"toc-item\"><li><span><a href=\"#Вывод.\" data-toc-modified-id=\"Вывод.-1.1\"><span class=\"toc-item-num\">1.1&nbsp;&nbsp;</span>Вывод.</a></span></li></ul></li><li><span><a href=\"#Приоритизация-гипотез.\" data-toc-modified-id=\"Приоритизация-гипотез.-2\"><span class=\"toc-item-num\">2&nbsp;&nbsp;</span>Приоритизация гипотез.</a></span><ul class=\"toc-item\"><li><span><a href=\"#Применим-фреймворк-ICE.\" data-toc-modified-id=\"Применим-фреймворк-ICE.-2.1\"><span class=\"toc-item-num\">2.1&nbsp;&nbsp;</span>Применим фреймворк ICE.</a></span></li><li><span><a href=\"#Применим-фреймворк-RICE.\" data-toc-modified-id=\"Применим-фреймворк-RICE.-2.2\"><span class=\"toc-item-num\">2.2&nbsp;&nbsp;</span>Применим фреймворк RICE.</a></span></li><li><span><a href=\"#Вывод.\" data-toc-modified-id=\"Вывод.-2.3\"><span class=\"toc-item-num\">2.3&nbsp;&nbsp;</span>Вывод.</a></span></li></ul></li><li><span><a href=\"#Анализ-A/B-теста.\" data-toc-modified-id=\"Анализ-A/B-теста.-3\"><span class=\"toc-item-num\">3&nbsp;&nbsp;</span>Анализ A/B-теста.</a></span><ul class=\"toc-item\"><li><span><a href=\"#Построим-график-кумулятивной-выручки-по-группам.\" data-toc-modified-id=\"Построим-график-кумулятивной-выручки-по-группам.-3.1\"><span class=\"toc-item-num\">3.1&nbsp;&nbsp;</span>Построим график кумулятивной выручки по группам.</a></span></li><li><span><a href=\"#Построим-график-кумулятивного-среднего-чека-по-группам.\" data-toc-modified-id=\"Построим-график-кумулятивного-среднего-чека-по-группам.-3.2\"><span class=\"toc-item-num\">3.2&nbsp;&nbsp;</span>Построим график кумулятивного среднего чека по группам.</a></span></li><li><span><a href=\"#Построим-график-относительного-изменения-кумулятивного-среднего-чека-группы-B-к-группе-A.\" data-toc-modified-id=\"Построим-график-относительного-изменения-кумулятивного-среднего-чека-группы-B-к-группе-A.-3.3\"><span class=\"toc-item-num\">3.3&nbsp;&nbsp;</span>Построим график относительного изменения кумулятивного среднего чека группы B к группе A.</a></span></li><li><span><a href=\"#Построим-график-кумулятивной-конверсии-по-группам.\" data-toc-modified-id=\"Построим-график-кумулятивной-конверсии-по-группам.-3.4\"><span class=\"toc-item-num\">3.4&nbsp;&nbsp;</span>Построим график кумулятивной конверсии по группам.</a></span></li><li><span><a href=\"#Построим-график-относительного-изменения-кумулятивной-конверсии-группы-B-к-группе-A.\" data-toc-modified-id=\"Построим-график-относительного-изменения-кумулятивной-конверсии-группы-B-к-группе-A.-3.5\"><span class=\"toc-item-num\">3.5&nbsp;&nbsp;</span>Построим график относительного изменения кумулятивной конверсии группы B к группе A.</a></span></li><li><span><a href=\"#Построим-точечный-график-количества-заказов-по-пользователям.\" data-toc-modified-id=\"Построим-точечный-график-количества-заказов-по-пользователям.-3.6\"><span class=\"toc-item-num\">3.6&nbsp;&nbsp;</span>Построим точечный график количества заказов по пользователям.</a></span></li><li><span><a href=\"#Посчитаем-95-й-и-99-й-перцентили-количества-заказов-на-пользователя.\" data-toc-modified-id=\"Посчитаем-95-й-и-99-й-перцентили-количества-заказов-на-пользователя.-3.7\"><span class=\"toc-item-num\">3.7&nbsp;&nbsp;</span>Посчитаем 95-й и 99-й перцентили количества заказов на пользователя.</a></span></li><li><span><a href=\"#Оценим-стоимость-заказов.\" data-toc-modified-id=\"Оценим-стоимость-заказов.-3.8\"><span class=\"toc-item-num\">3.8&nbsp;&nbsp;</span>Оценим стоимость заказов.</a></span></li><li><span><a href=\"#Посчитаем-95-й-и-99-й-перцентили-стоимости-заказов.-Выберим-границу-для-определения-аномальных-заказов.\" data-toc-modified-id=\"Посчитаем-95-й-и-99-й-перцентили-стоимости-заказов.-Выберим-границу-для-определения-аномальных-заказов.-3.9\"><span class=\"toc-item-num\">3.9&nbsp;&nbsp;</span>Посчитаем 95-й и 99-й перцентили стоимости заказов. Выберим границу для определения аномальных заказов.</a></span></li><li><span><a href=\"#Посчитаем-статистическую-значимость-различий-в-конверсии-между-группами-по-«сырым»-данным.\" data-toc-modified-id=\"Посчитаем-статистическую-значимость-различий-в-конверсии-между-группами-по-«сырым»-данным.-3.10\"><span class=\"toc-item-num\">3.10&nbsp;&nbsp;</span>Посчитаем статистическую значимость различий в конверсии между группами по «сырым» данным.</a></span></li><li><span><a href=\"#Посчитаем-статистическую-значимость-различий-в-среднем-чеке-заказа-между-группами-по-«сырым»-данным.\" data-toc-modified-id=\"Посчитаем-статистическую-значимость-различий-в-среднем-чеке-заказа-между-группами-по-«сырым»-данным.-3.11\"><span class=\"toc-item-num\">3.11&nbsp;&nbsp;</span>Посчитаем статистическую значимость различий в среднем чеке заказа между группами по «сырым» данным.</a></span></li><li><span><a href=\"#Посчитаем-статистическую-значимость-различий-в-конверсии-между-группами-по-«очищенным»-данным.\" data-toc-modified-id=\"Посчитаем-статистическую-значимость-различий-в-конверсии-между-группами-по-«очищенным»-данным.-3.12\"><span class=\"toc-item-num\">3.12&nbsp;&nbsp;</span>Посчитаем статистическую значимость различий в конверсии между группами по «очищенным» данным.</a></span></li><li><span><a href=\"#Посчитаем-статистическую-значимость-различий-в-среднем-чеке-заказа-между-группами-по-«очищенным»-данным.\" data-toc-modified-id=\"Посчитаем-статистическую-значимость-различий-в-среднем-чеке-заказа-между-группами-по-«очищенным»-данным.-3.13\"><span class=\"toc-item-num\">3.13&nbsp;&nbsp;</span>Посчитаем статистическую значимость различий в среднем чеке заказа между группами по «очищенным» данным.</a></span></li><li><span><a href=\"#Примим-решение-по-результатам-теста.\" data-toc-modified-id=\"Примим-решение-по-результатам-теста.-3.14\"><span class=\"toc-item-num\">3.14&nbsp;&nbsp;</span>Примим решение по результатам теста.</a></span></li></ul></li><li><span><a href=\"#Общий-вывод.\" data-toc-modified-id=\"Общий-вывод.-4\"><span class=\"toc-item-num\">4&nbsp;&nbsp;</span>Общий вывод.</a></span></li></ul></div>"
   ]
  },
  {
   "cell_type": "markdown",
   "metadata": {},
   "source": [
    "## Изучение данных."
   ]
  },
  {
   "cell_type": "code",
   "execution_count": 1,
   "metadata": {},
   "outputs": [],
   "source": [
    "# импортируем библиотеки\n",
    "import pandas as pd\n",
    "import numpy as np\n",
    "from scipy import stats\n",
    "%matplotlib inline\n",
    "import matplotlib.pyplot as plt\n",
    "from pandas.plotting import register_matplotlib_converters\n",
    "register_matplotlib_converters() # регистрация форматеров и конвертеров pandas в matplotlib\n",
    "import datetime as dt\n",
    "from IPython.display import display"
   ]
  },
  {
   "cell_type": "code",
   "execution_count": 2,
   "metadata": {
    "scrolled": false
   },
   "outputs": [
    {
     "name": "stdout",
     "output_type": "stream",
     "text": [
      "<class 'pandas.core.frame.DataFrame'>\n",
      "RangeIndex: 9 entries, 0 to 8\n",
      "Data columns (total 5 columns):\n",
      " #   Column      Non-Null Count  Dtype \n",
      "---  ------      --------------  ----- \n",
      " 0   Hypothesis  9 non-null      object\n",
      " 1   Reach       9 non-null      int64 \n",
      " 2   Impact      9 non-null      int64 \n",
      " 3   Confidence  9 non-null      int64 \n",
      " 4   Efforts     9 non-null      int64 \n",
      "dtypes: int64(4), object(1)\n",
      "memory usage: 488.0+ bytes\n",
      "\n",
      "<class 'pandas.core.frame.DataFrame'>\n",
      "RangeIndex: 1197 entries, 0 to 1196\n",
      "Data columns (total 5 columns):\n",
      " #   Column         Non-Null Count  Dtype \n",
      "---  ------         --------------  ----- \n",
      " 0   transactionId  1197 non-null   int64 \n",
      " 1   visitorId      1197 non-null   int64 \n",
      " 2   date           1197 non-null   object\n",
      " 3   revenue        1197 non-null   int64 \n",
      " 4   group          1197 non-null   object\n",
      "dtypes: int64(3), object(2)\n",
      "memory usage: 46.9+ KB\n",
      "\n",
      "<class 'pandas.core.frame.DataFrame'>\n",
      "RangeIndex: 62 entries, 0 to 61\n",
      "Data columns (total 3 columns):\n",
      " #   Column    Non-Null Count  Dtype \n",
      "---  ------    --------------  ----- \n",
      " 0   date      62 non-null     object\n",
      " 1   group     62 non-null     object\n",
      " 2   visitors  62 non-null     int64 \n",
      "dtypes: int64(1), object(2)\n",
      "memory usage: 1.6+ KB\n"
     ]
    }
   ],
   "source": [
    "# прочтём датафрейм\n",
    "df1 = pd.read_csv('hypothesis.csv')\n",
    "df2 = pd.read_csv('orders.csv')\n",
    "df3 = pd.read_csv('visitors.csv')\n",
    "\n",
    "# создадим копии датафрейма\n",
    "hypothesis = df1.copy()\n",
    "orders = df2.copy()\n",
    "visitors = df3.copy()\n",
    "\n",
    "# установим максимальную ширину столбца для таблиц\n",
    "pd.set_option('max_colwidth', 110)\n",
    "\n",
    "# выведем общую информацию датафрейма на экран\n",
    "hypothesis.info()\n",
    "print()\n",
    "orders.info()\n",
    "print()\n",
    "visitors.info()"
   ]
  },
  {
   "cell_type": "markdown",
   "metadata": {},
   "source": [
    "### Вывод.\n",
    "- *Датафрейм 'hypothesis' имеет 5 колонок (названия колонок в верхнем регистре) по 9 строк (по числу гипотез).*\n",
    "- *Датафрейм 'orders' имеет 5 колонок (названия колонок частично в верхнем регистре) по 1197 строк.*\n",
    "- *Датафрейм 'visitors' имеет 3 колонки по 62 строки.*"
   ]
  },
  {
   "cell_type": "code",
   "execution_count": 3,
   "metadata": {},
   "outputs": [
    {
     "data": {
      "text/html": [
       "<div>\n",
       "<style scoped>\n",
       "    .dataframe tbody tr th:only-of-type {\n",
       "        vertical-align: middle;\n",
       "    }\n",
       "\n",
       "    .dataframe tbody tr th {\n",
       "        vertical-align: top;\n",
       "    }\n",
       "\n",
       "    .dataframe thead th {\n",
       "        text-align: right;\n",
       "    }\n",
       "</style>\n",
       "<table border=\"1\" class=\"dataframe\">\n",
       "  <thead>\n",
       "    <tr style=\"text-align: right;\">\n",
       "      <th></th>\n",
       "      <th>hypothesis</th>\n",
       "      <th>reach</th>\n",
       "      <th>impact</th>\n",
       "      <th>confidence</th>\n",
       "      <th>efforts</th>\n",
       "    </tr>\n",
       "  </thead>\n",
       "  <tbody>\n",
       "    <tr>\n",
       "      <th>0</th>\n",
       "      <td>Добавить два новых канала привлечения трафика, что позволит привлекать на 30% больше пользователей</td>\n",
       "      <td>3</td>\n",
       "      <td>10</td>\n",
       "      <td>8</td>\n",
       "      <td>6</td>\n",
       "    </tr>\n",
       "    <tr>\n",
       "      <th>1</th>\n",
       "      <td>Запустить собственную службу доставки, что сократит срок доставки заказов</td>\n",
       "      <td>2</td>\n",
       "      <td>5</td>\n",
       "      <td>4</td>\n",
       "      <td>10</td>\n",
       "    </tr>\n",
       "    <tr>\n",
       "      <th>2</th>\n",
       "      <td>Добавить блоки рекомендаций товаров на сайт интернет магазина, чтобы повысить конверсию и средний чек заказа</td>\n",
       "      <td>8</td>\n",
       "      <td>3</td>\n",
       "      <td>7</td>\n",
       "      <td>3</td>\n",
       "    </tr>\n",
       "    <tr>\n",
       "      <th>3</th>\n",
       "      <td>Изменить структура категорий, что увеличит конверсию, т.к. пользователи быстрее найдут нужный товар</td>\n",
       "      <td>8</td>\n",
       "      <td>3</td>\n",
       "      <td>3</td>\n",
       "      <td>8</td>\n",
       "    </tr>\n",
       "    <tr>\n",
       "      <th>4</th>\n",
       "      <td>Изменить цвет фона главной страницы, чтобы увеличить вовлеченность пользователей</td>\n",
       "      <td>3</td>\n",
       "      <td>1</td>\n",
       "      <td>1</td>\n",
       "      <td>1</td>\n",
       "    </tr>\n",
       "    <tr>\n",
       "      <th>5</th>\n",
       "      <td>Добавить страницу отзывов клиентов о магазине, что позволит увеличить количество заказов</td>\n",
       "      <td>3</td>\n",
       "      <td>2</td>\n",
       "      <td>2</td>\n",
       "      <td>3</td>\n",
       "    </tr>\n",
       "    <tr>\n",
       "      <th>6</th>\n",
       "      <td>Показать на главной странице баннеры с актуальными акциями и распродажами, чтобы увеличить конверсию</td>\n",
       "      <td>5</td>\n",
       "      <td>3</td>\n",
       "      <td>8</td>\n",
       "      <td>3</td>\n",
       "    </tr>\n",
       "    <tr>\n",
       "      <th>7</th>\n",
       "      <td>Добавить форму подписки на все основные страницы, чтобы собрать базу клиентов для email-рассылок</td>\n",
       "      <td>10</td>\n",
       "      <td>7</td>\n",
       "      <td>8</td>\n",
       "      <td>5</td>\n",
       "    </tr>\n",
       "    <tr>\n",
       "      <th>8</th>\n",
       "      <td>Запустить акцию, дающую скидку на товар в день рождения</td>\n",
       "      <td>1</td>\n",
       "      <td>9</td>\n",
       "      <td>9</td>\n",
       "      <td>5</td>\n",
       "    </tr>\n",
       "  </tbody>\n",
       "</table>\n",
       "</div>"
      ],
      "text/plain": [
       "                                                                                                     hypothesis  \\\n",
       "0            Добавить два новых канала привлечения трафика, что позволит привлекать на 30% больше пользователей   \n",
       "1                                     Запустить собственную службу доставки, что сократит срок доставки заказов   \n",
       "2  Добавить блоки рекомендаций товаров на сайт интернет магазина, чтобы повысить конверсию и средний чек заказа   \n",
       "3           Изменить структура категорий, что увеличит конверсию, т.к. пользователи быстрее найдут нужный товар   \n",
       "4                              Изменить цвет фона главной страницы, чтобы увеличить вовлеченность пользователей   \n",
       "5                      Добавить страницу отзывов клиентов о магазине, что позволит увеличить количество заказов   \n",
       "6          Показать на главной странице баннеры с актуальными акциями и распродажами, чтобы увеличить конверсию   \n",
       "7              Добавить форму подписки на все основные страницы, чтобы собрать базу клиентов для email-рассылок   \n",
       "8                                                       Запустить акцию, дающую скидку на товар в день рождения   \n",
       "\n",
       "   reach  impact  confidence  efforts  \n",
       "0      3      10           8        6  \n",
       "1      2       5           4       10  \n",
       "2      8       3           7        3  \n",
       "3      8       3           3        8  \n",
       "4      3       1           1        1  \n",
       "5      3       2           2        3  \n",
       "6      5       3           8        3  \n",
       "7     10       7           8        5  \n",
       "8      1       9           9        5  "
      ]
     },
     "metadata": {},
     "output_type": "display_data"
    },
    {
     "name": "stdout",
     "output_type": "stream",
     "text": [
      "\n"
     ]
    },
    {
     "data": {
      "text/html": [
       "<div>\n",
       "<style scoped>\n",
       "    .dataframe tbody tr th:only-of-type {\n",
       "        vertical-align: middle;\n",
       "    }\n",
       "\n",
       "    .dataframe tbody tr th {\n",
       "        vertical-align: top;\n",
       "    }\n",
       "\n",
       "    .dataframe thead th {\n",
       "        text-align: right;\n",
       "    }\n",
       "</style>\n",
       "<table border=\"1\" class=\"dataframe\">\n",
       "  <thead>\n",
       "    <tr style=\"text-align: right;\">\n",
       "      <th></th>\n",
       "      <th>transaction_id</th>\n",
       "      <th>visitor_id</th>\n",
       "      <th>date</th>\n",
       "      <th>revenue</th>\n",
       "      <th>group</th>\n",
       "    </tr>\n",
       "  </thead>\n",
       "  <tbody>\n",
       "    <tr>\n",
       "      <th>0</th>\n",
       "      <td>3667963787</td>\n",
       "      <td>3312258926</td>\n",
       "      <td>2019-08-15</td>\n",
       "      <td>1650</td>\n",
       "      <td>B</td>\n",
       "    </tr>\n",
       "    <tr>\n",
       "      <th>1</th>\n",
       "      <td>2804400009</td>\n",
       "      <td>3642806036</td>\n",
       "      <td>2019-08-15</td>\n",
       "      <td>730</td>\n",
       "      <td>B</td>\n",
       "    </tr>\n",
       "    <tr>\n",
       "      <th>2</th>\n",
       "      <td>2961555356</td>\n",
       "      <td>4069496402</td>\n",
       "      <td>2019-08-15</td>\n",
       "      <td>400</td>\n",
       "      <td>A</td>\n",
       "    </tr>\n",
       "    <tr>\n",
       "      <th>3</th>\n",
       "      <td>3797467345</td>\n",
       "      <td>1196621759</td>\n",
       "      <td>2019-08-15</td>\n",
       "      <td>9759</td>\n",
       "      <td>B</td>\n",
       "    </tr>\n",
       "    <tr>\n",
       "      <th>4</th>\n",
       "      <td>2282983706</td>\n",
       "      <td>2322279887</td>\n",
       "      <td>2019-08-15</td>\n",
       "      <td>2308</td>\n",
       "      <td>B</td>\n",
       "    </tr>\n",
       "  </tbody>\n",
       "</table>\n",
       "</div>"
      ],
      "text/plain": [
       "   transaction_id  visitor_id       date  revenue group\n",
       "0      3667963787  3312258926 2019-08-15     1650     B\n",
       "1      2804400009  3642806036 2019-08-15      730     B\n",
       "2      2961555356  4069496402 2019-08-15      400     A\n",
       "3      3797467345  1196621759 2019-08-15     9759     B\n",
       "4      2282983706  2322279887 2019-08-15     2308     B"
      ]
     },
     "metadata": {},
     "output_type": "display_data"
    },
    {
     "name": "stdout",
     "output_type": "stream",
     "text": [
      "\n"
     ]
    },
    {
     "data": {
      "text/html": [
       "<div>\n",
       "<style scoped>\n",
       "    .dataframe tbody tr th:only-of-type {\n",
       "        vertical-align: middle;\n",
       "    }\n",
       "\n",
       "    .dataframe tbody tr th {\n",
       "        vertical-align: top;\n",
       "    }\n",
       "\n",
       "    .dataframe thead th {\n",
       "        text-align: right;\n",
       "    }\n",
       "</style>\n",
       "<table border=\"1\" class=\"dataframe\">\n",
       "  <thead>\n",
       "    <tr style=\"text-align: right;\">\n",
       "      <th></th>\n",
       "      <th>date</th>\n",
       "      <th>group</th>\n",
       "      <th>visitors</th>\n",
       "    </tr>\n",
       "  </thead>\n",
       "  <tbody>\n",
       "    <tr>\n",
       "      <th>0</th>\n",
       "      <td>2019-08-01</td>\n",
       "      <td>A</td>\n",
       "      <td>719</td>\n",
       "    </tr>\n",
       "    <tr>\n",
       "      <th>1</th>\n",
       "      <td>2019-08-02</td>\n",
       "      <td>A</td>\n",
       "      <td>619</td>\n",
       "    </tr>\n",
       "    <tr>\n",
       "      <th>2</th>\n",
       "      <td>2019-08-03</td>\n",
       "      <td>A</td>\n",
       "      <td>507</td>\n",
       "    </tr>\n",
       "    <tr>\n",
       "      <th>3</th>\n",
       "      <td>2019-08-04</td>\n",
       "      <td>A</td>\n",
       "      <td>717</td>\n",
       "    </tr>\n",
       "    <tr>\n",
       "      <th>4</th>\n",
       "      <td>2019-08-05</td>\n",
       "      <td>A</td>\n",
       "      <td>756</td>\n",
       "    </tr>\n",
       "  </tbody>\n",
       "</table>\n",
       "</div>"
      ],
      "text/plain": [
       "        date group  visitors\n",
       "0 2019-08-01     A       719\n",
       "1 2019-08-02     A       619\n",
       "2 2019-08-03     A       507\n",
       "3 2019-08-04     A       717\n",
       "4 2019-08-05     A       756"
      ]
     },
     "metadata": {},
     "output_type": "display_data"
    }
   ],
   "source": [
    "# приведём названия колонок датафрейма 'hypothesis' к нижнему регистру, методом str.lower()\n",
    "# приведём названия колонок датафрейма 'orders' к нижнему регистру, используем нижнее подчёркивание как разделитель\n",
    "hypothesis = hypothesis.rename(columns=str.lower)\n",
    "orders.columns = orders.columns.str.replace(\"Id\", \"_Id\").str.lower()\n",
    "\n",
    "# приведём колонки 'date' к типу 'datetime'\n",
    "orders['date'] = pd.to_datetime(orders['date'])\n",
    "visitors['date'] = pd.to_datetime(visitors['date'])\n",
    "\n",
    "display(hypothesis)\n",
    "print()\n",
    "display(orders.head())\n",
    "print()\n",
    "display(visitors.head())"
   ]
  },
  {
   "cell_type": "markdown",
   "metadata": {},
   "source": [
    "Проверим данные на наличие пропусков, уникальных значений, дубликатов."
   ]
  },
  {
   "cell_type": "code",
   "execution_count": 4,
   "metadata": {},
   "outputs": [
    {
     "data": {
      "text/plain": [
       "hypothesis    0\n",
       "reach         0\n",
       "impact        0\n",
       "confidence    0\n",
       "efforts       0\n",
       "dtype: int64"
      ]
     },
     "metadata": {},
     "output_type": "display_data"
    },
    {
     "data": {
      "text/plain": [
       "transaction_id    0\n",
       "visitor_id        0\n",
       "date              0\n",
       "revenue           0\n",
       "group             0\n",
       "dtype: int64"
      ]
     },
     "metadata": {},
     "output_type": "display_data"
    },
    {
     "data": {
      "text/plain": [
       "date        0\n",
       "group       0\n",
       "visitors    0\n",
       "dtype: int64"
      ]
     },
     "metadata": {},
     "output_type": "display_data"
    }
   ],
   "source": [
    "# подсчитаем пропуски в датафрймах\n",
    "display(hypothesis.isna().sum())\n",
    "display(orders.isna().sum())\n",
    "display(visitors.isna().sum())"
   ]
  },
  {
   "cell_type": "code",
   "execution_count": 5,
   "metadata": {},
   "outputs": [
    {
     "data": {
      "text/plain": [
       "1031"
      ]
     },
     "metadata": {},
     "output_type": "display_data"
    }
   ],
   "source": [
    "# подсчитаем колличество уникальных значений колонки 'visitor_id' в датафрйме 'orders'\n",
    "display(len(orders['visitor_id'].unique()))"
   ]
  },
  {
   "cell_type": "markdown",
   "metadata": {},
   "source": [
    "*В колонке 'visitor_id' **1031** уникальный пользователь, хотя общее количество строк - **1197**. Это может говорить нам о том, что один пользователь находится в двух группах тестирования одновременно или о том, что один пользователь совершил несколько заказов.*"
   ]
  },
  {
   "cell_type": "code",
   "execution_count": 6,
   "metadata": {},
   "outputs": [
    {
     "data": {
      "text/plain": [
       "group    58\n",
       "dtype: int64"
      ]
     },
     "metadata": {},
     "output_type": "display_data"
    }
   ],
   "source": [
    "# проверим данные на наличие пересекающихся пользователей в группах\n",
    "display(orders.groupby('visitor_id').agg({ 'group': 'nunique'}).query('group == 2').count())"
   ]
  },
  {
   "cell_type": "markdown",
   "metadata": {},
   "source": [
    "*Обнаружено **58** пользователей находящихся в обеих группах, удалим их.*"
   ]
  },
  {
   "cell_type": "code",
   "execution_count": 7,
   "metadata": {},
   "outputs": [],
   "source": [
    "# удалим пользователей находящихся в обеих группах\n",
    "filter_group = orders.groupby('visitor_id').agg({ 'group': 'nunique'}).query('group == 2').reset_index()['visitor_id']\n",
    "orders = orders.query('visitor_id not in @filter_group')"
   ]
  },
  {
   "cell_type": "markdown",
   "metadata": {},
   "source": [
    "## Приоритизация гипотез."
   ]
  },
  {
   "cell_type": "markdown",
   "metadata": {},
   "source": [
    "Чтобы получить максимально ожидаемое улучшение ключевых метрик бизнеса, сформулированные гипотезы нужно приоритизировать. Для этого используем фреймворки: ICE и RICE.\n",
    "- Формула для вычисления ICE\n",
    "$$ICE = \\frac{Impact * Confidence}{Efforts}$$\n",
    "- Формула для вычисления RICE\n",
    "$$RICE = \\frac{Rearch * Impact * Confidence}{Efforts}$$"
   ]
  },
  {
   "cell_type": "markdown",
   "metadata": {},
   "source": [
    "### Применим фреймворк ICE."
   ]
  },
  {
   "cell_type": "code",
   "execution_count": 8,
   "metadata": {},
   "outputs": [
    {
     "data": {
      "text/html": [
       "<style type=\"text/css\">\n",
       "#T_4bb16_row0_col1 {\n",
       "  width: 10em;\n",
       "  height: 80%;\n",
       "  background: linear-gradient(90deg,#d65f5f 100.0%, transparent 100.0%);\n",
       "}\n",
       "#T_4bb16_row1_col1 {\n",
       "  width: 10em;\n",
       "  height: 80%;\n",
       "  background: linear-gradient(90deg,#d65f5f 81.1%, transparent 81.1%);\n",
       "}\n",
       "#T_4bb16_row2_col1 {\n",
       "  width: 10em;\n",
       "  height: 80%;\n",
       "  background: linear-gradient(90deg,#d65f5f 67.1%, transparent 67.1%);\n",
       "}\n",
       "#T_4bb16_row3_col1 {\n",
       "  width: 10em;\n",
       "  height: 80%;\n",
       "  background: linear-gradient(90deg,#d65f5f 46.1%, transparent 46.1%);\n",
       "}\n",
       "#T_4bb16_row4_col1 {\n",
       "  width: 10em;\n",
       "  height: 80%;\n",
       "  background: linear-gradient(90deg,#d65f5f 39.5%, transparent 39.5%);\n",
       "}\n",
       "#T_4bb16_row5_col1 {\n",
       "  width: 10em;\n",
       "  height: 80%;\n",
       "  background: linear-gradient(90deg,#d65f5f 6.6%, transparent 6.6%);\n",
       "}\n",
       "#T_4bb16_row6_col1 {\n",
       "  width: 10em;\n",
       "  height: 80%;\n",
       "  background: linear-gradient(90deg,#d65f5f 2.2%, transparent 2.2%);\n",
       "}\n",
       "#T_4bb16_row7_col1 {\n",
       "  width: 10em;\n",
       "  height: 80%;\n",
       "  background: linear-gradient(90deg,#d65f5f 0.8%, transparent 0.8%);\n",
       "}\n",
       "#T_4bb16_row8_col1 {\n",
       "  width: 10em;\n",
       "  height: 80%;\n",
       "}\n",
       "</style>\n",
       "<table id=\"T_4bb16_\">\n",
       "  <thead>\n",
       "    <tr>\n",
       "      <th class=\"blank level0\" >&nbsp;</th>\n",
       "      <th class=\"col_heading level0 col0\" >hypothesis</th>\n",
       "      <th class=\"col_heading level0 col1\" >ICE</th>\n",
       "    </tr>\n",
       "  </thead>\n",
       "  <tbody>\n",
       "    <tr>\n",
       "      <th id=\"T_4bb16_level0_row0\" class=\"row_heading level0 row0\" >8</th>\n",
       "      <td id=\"T_4bb16_row0_col0\" class=\"data row0 col0\" >Запустить акцию, дающую скидку на товар в день рождения</td>\n",
       "      <td id=\"T_4bb16_row0_col1\" class=\"data row0 col1\" >16.200000</td>\n",
       "    </tr>\n",
       "    <tr>\n",
       "      <th id=\"T_4bb16_level0_row1\" class=\"row_heading level0 row1\" >0</th>\n",
       "      <td id=\"T_4bb16_row1_col0\" class=\"data row1 col0\" >Добавить два новых канала привлечения трафика, что позволит привлекать на 30% больше пользователей</td>\n",
       "      <td id=\"T_4bb16_row1_col1\" class=\"data row1 col1\" >13.330000</td>\n",
       "    </tr>\n",
       "    <tr>\n",
       "      <th id=\"T_4bb16_level0_row2\" class=\"row_heading level0 row2\" >7</th>\n",
       "      <td id=\"T_4bb16_row2_col0\" class=\"data row2 col0\" >Добавить форму подписки на все основные страницы, чтобы собрать базу клиентов для email-рассылок</td>\n",
       "      <td id=\"T_4bb16_row2_col1\" class=\"data row2 col1\" >11.200000</td>\n",
       "    </tr>\n",
       "    <tr>\n",
       "      <th id=\"T_4bb16_level0_row3\" class=\"row_heading level0 row3\" >6</th>\n",
       "      <td id=\"T_4bb16_row3_col0\" class=\"data row3 col0\" >Показать на главной странице баннеры с актуальными акциями и распродажами, чтобы увеличить конверсию</td>\n",
       "      <td id=\"T_4bb16_row3_col1\" class=\"data row3 col1\" >8.000000</td>\n",
       "    </tr>\n",
       "    <tr>\n",
       "      <th id=\"T_4bb16_level0_row4\" class=\"row_heading level0 row4\" >2</th>\n",
       "      <td id=\"T_4bb16_row4_col0\" class=\"data row4 col0\" >Добавить блоки рекомендаций товаров на сайт интернет магазина, чтобы повысить конверсию и средний чек заказа</td>\n",
       "      <td id=\"T_4bb16_row4_col1\" class=\"data row4 col1\" >7.000000</td>\n",
       "    </tr>\n",
       "    <tr>\n",
       "      <th id=\"T_4bb16_level0_row5\" class=\"row_heading level0 row5\" >1</th>\n",
       "      <td id=\"T_4bb16_row5_col0\" class=\"data row5 col0\" >Запустить собственную службу доставки, что сократит срок доставки заказов</td>\n",
       "      <td id=\"T_4bb16_row5_col1\" class=\"data row5 col1\" >2.000000</td>\n",
       "    </tr>\n",
       "    <tr>\n",
       "      <th id=\"T_4bb16_level0_row6\" class=\"row_heading level0 row6\" >5</th>\n",
       "      <td id=\"T_4bb16_row6_col0\" class=\"data row6 col0\" >Добавить страницу отзывов клиентов о магазине, что позволит увеличить количество заказов</td>\n",
       "      <td id=\"T_4bb16_row6_col1\" class=\"data row6 col1\" >1.330000</td>\n",
       "    </tr>\n",
       "    <tr>\n",
       "      <th id=\"T_4bb16_level0_row7\" class=\"row_heading level0 row7\" >3</th>\n",
       "      <td id=\"T_4bb16_row7_col0\" class=\"data row7 col0\" >Изменить структура категорий, что увеличит конверсию, т.к. пользователи быстрее найдут нужный товар</td>\n",
       "      <td id=\"T_4bb16_row7_col1\" class=\"data row7 col1\" >1.120000</td>\n",
       "    </tr>\n",
       "    <tr>\n",
       "      <th id=\"T_4bb16_level0_row8\" class=\"row_heading level0 row8\" >4</th>\n",
       "      <td id=\"T_4bb16_row8_col0\" class=\"data row8 col0\" >Изменить цвет фона главной страницы, чтобы увеличить вовлеченность пользователей</td>\n",
       "      <td id=\"T_4bb16_row8_col1\" class=\"data row8 col1\" >1.000000</td>\n",
       "    </tr>\n",
       "  </tbody>\n",
       "</table>\n"
      ],
      "text/plain": [
       "<pandas.io.formats.style.Styler at 0x1e1e286c8b0>"
      ]
     },
     "metadata": {},
     "output_type": "display_data"
    }
   ],
   "source": [
    "# применим фреймворк ICE для приоритизации гипотез, отсортируем их по убыванию приоритета\n",
    "hypothesis['ICE'] = (hypothesis['impact'] * hypothesis['confidence']) / hypothesis['efforts']\n",
    "display(hypothesis[['hypothesis', 'ICE']].sort_values(by='ICE', ascending=False).round(2)\n",
    "        .style.bar(subset=['ICE'], color='#d65f5f'))"
   ]
  },
  {
   "cell_type": "markdown",
   "metadata": {},
   "source": [
    "*Самые перспективные гипотезы по 'ICE' с индексами: **8, 0, 7**.*"
   ]
  },
  {
   "cell_type": "markdown",
   "metadata": {},
   "source": [
    "### Применим фреймворк RICE."
   ]
  },
  {
   "cell_type": "code",
   "execution_count": 9,
   "metadata": {},
   "outputs": [
    {
     "data": {
      "text/html": [
       "<style type=\"text/css\">\n",
       "#T_d048d_row0_col1 {\n",
       "  width: 10em;\n",
       "  height: 80%;\n",
       "  background: linear-gradient(90deg,#d65f5f 100.0%, transparent 100.0%);\n",
       "}\n",
       "#T_d048d_row1_col1 {\n",
       "  width: 10em;\n",
       "  height: 80%;\n",
       "  background: linear-gradient(90deg,#d65f5f 48.6%, transparent 48.6%);\n",
       "}\n",
       "#T_d048d_row2_col1, #T_d048d_row3_col1 {\n",
       "  width: 10em;\n",
       "  height: 80%;\n",
       "  background: linear-gradient(90deg,#d65f5f 33.9%, transparent 33.9%);\n",
       "}\n",
       "#T_d048d_row4_col1 {\n",
       "  width: 10em;\n",
       "  height: 80%;\n",
       "  background: linear-gradient(90deg,#d65f5f 12.1%, transparent 12.1%);\n",
       "}\n",
       "#T_d048d_row5_col1 {\n",
       "  width: 10em;\n",
       "  height: 80%;\n",
       "  background: linear-gradient(90deg,#d65f5f 5.5%, transparent 5.5%);\n",
       "}\n",
       "#T_d048d_row6_col1, #T_d048d_row7_col1 {\n",
       "  width: 10em;\n",
       "  height: 80%;\n",
       "  background: linear-gradient(90deg,#d65f5f 0.9%, transparent 0.9%);\n",
       "}\n",
       "#T_d048d_row8_col1 {\n",
       "  width: 10em;\n",
       "  height: 80%;\n",
       "}\n",
       "</style>\n",
       "<table id=\"T_d048d_\">\n",
       "  <thead>\n",
       "    <tr>\n",
       "      <th class=\"blank level0\" >&nbsp;</th>\n",
       "      <th class=\"col_heading level0 col0\" >hypothesis</th>\n",
       "      <th class=\"col_heading level0 col1\" >RICE</th>\n",
       "    </tr>\n",
       "  </thead>\n",
       "  <tbody>\n",
       "    <tr>\n",
       "      <th id=\"T_d048d_level0_row0\" class=\"row_heading level0 row0\" >7</th>\n",
       "      <td id=\"T_d048d_row0_col0\" class=\"data row0 col0\" >Добавить форму подписки на все основные страницы, чтобы собрать базу клиентов для email-рассылок</td>\n",
       "      <td id=\"T_d048d_row0_col1\" class=\"data row0 col1\" >112.000000</td>\n",
       "    </tr>\n",
       "    <tr>\n",
       "      <th id=\"T_d048d_level0_row1\" class=\"row_heading level0 row1\" >2</th>\n",
       "      <td id=\"T_d048d_row1_col0\" class=\"data row1 col0\" >Добавить блоки рекомендаций товаров на сайт интернет магазина, чтобы повысить конверсию и средний чек заказа</td>\n",
       "      <td id=\"T_d048d_row1_col1\" class=\"data row1 col1\" >56.000000</td>\n",
       "    </tr>\n",
       "    <tr>\n",
       "      <th id=\"T_d048d_level0_row2\" class=\"row_heading level0 row2\" >0</th>\n",
       "      <td id=\"T_d048d_row2_col0\" class=\"data row2 col0\" >Добавить два новых канала привлечения трафика, что позволит привлекать на 30% больше пользователей</td>\n",
       "      <td id=\"T_d048d_row2_col1\" class=\"data row2 col1\" >40.000000</td>\n",
       "    </tr>\n",
       "    <tr>\n",
       "      <th id=\"T_d048d_level0_row3\" class=\"row_heading level0 row3\" >6</th>\n",
       "      <td id=\"T_d048d_row3_col0\" class=\"data row3 col0\" >Показать на главной странице баннеры с актуальными акциями и распродажами, чтобы увеличить конверсию</td>\n",
       "      <td id=\"T_d048d_row3_col1\" class=\"data row3 col1\" >40.000000</td>\n",
       "    </tr>\n",
       "    <tr>\n",
       "      <th id=\"T_d048d_level0_row4\" class=\"row_heading level0 row4\" >8</th>\n",
       "      <td id=\"T_d048d_row4_col0\" class=\"data row4 col0\" >Запустить акцию, дающую скидку на товар в день рождения</td>\n",
       "      <td id=\"T_d048d_row4_col1\" class=\"data row4 col1\" >16.200000</td>\n",
       "    </tr>\n",
       "    <tr>\n",
       "      <th id=\"T_d048d_level0_row5\" class=\"row_heading level0 row5\" >3</th>\n",
       "      <td id=\"T_d048d_row5_col0\" class=\"data row5 col0\" >Изменить структура категорий, что увеличит конверсию, т.к. пользователи быстрее найдут нужный товар</td>\n",
       "      <td id=\"T_d048d_row5_col1\" class=\"data row5 col1\" >9.000000</td>\n",
       "    </tr>\n",
       "    <tr>\n",
       "      <th id=\"T_d048d_level0_row6\" class=\"row_heading level0 row6\" >1</th>\n",
       "      <td id=\"T_d048d_row6_col0\" class=\"data row6 col0\" >Запустить собственную службу доставки, что сократит срок доставки заказов</td>\n",
       "      <td id=\"T_d048d_row6_col1\" class=\"data row6 col1\" >4.000000</td>\n",
       "    </tr>\n",
       "    <tr>\n",
       "      <th id=\"T_d048d_level0_row7\" class=\"row_heading level0 row7\" >5</th>\n",
       "      <td id=\"T_d048d_row7_col0\" class=\"data row7 col0\" >Добавить страницу отзывов клиентов о магазине, что позволит увеличить количество заказов</td>\n",
       "      <td id=\"T_d048d_row7_col1\" class=\"data row7 col1\" >4.000000</td>\n",
       "    </tr>\n",
       "    <tr>\n",
       "      <th id=\"T_d048d_level0_row8\" class=\"row_heading level0 row8\" >4</th>\n",
       "      <td id=\"T_d048d_row8_col0\" class=\"data row8 col0\" >Изменить цвет фона главной страницы, чтобы увеличить вовлеченность пользователей</td>\n",
       "      <td id=\"T_d048d_row8_col1\" class=\"data row8 col1\" >3.000000</td>\n",
       "    </tr>\n",
       "  </tbody>\n",
       "</table>\n"
      ],
      "text/plain": [
       "<pandas.io.formats.style.Styler at 0x1e1e2a0f1f0>"
      ]
     },
     "metadata": {},
     "output_type": "display_data"
    }
   ],
   "source": [
    "# применим фреймворк RICE для приоритизации гипотез, отсортируем их по убыванию приоритета\n",
    "hypothesis['RICE'] = (hypothesis['reach'] * hypothesis['impact'] * hypothesis['confidence']) / hypothesis['efforts']\n",
    "display(hypothesis[['hypothesis', 'RICE']].sort_values(by='RICE', ascending=False)\n",
    "        .style.bar(subset=['RICE'], color='#d65f5f'))"
   ]
  },
  {
   "cell_type": "markdown",
   "metadata": {},
   "source": [
    "*Самые перспективные гипотезы по 'RICE' с индексами: **7, 2, 0**.*"
   ]
  },
  {
   "cell_type": "markdown",
   "metadata": {},
   "source": [
    "Составим Топ-самых перспективных гипотез."
   ]
  },
  {
   "cell_type": "code",
   "execution_count": 10,
   "metadata": {},
   "outputs": [
    {
     "data": {
      "text/html": [
       "<style type=\"text/css\">\n",
       "#T_467d9_row0_col5, #T_467d9_row0_col6 {\n",
       "  width: 10em;\n",
       "  height: 80%;\n",
       "}\n",
       "#T_467d9_row1_col5 {\n",
       "  width: 10em;\n",
       "  height: 80%;\n",
       "  background: linear-gradient(90deg,#d65f5f 0.8%, transparent 0.8%);\n",
       "}\n",
       "#T_467d9_row1_col6 {\n",
       "  width: 10em;\n",
       "  height: 80%;\n",
       "  background: linear-gradient(90deg,#d65f5f 5.5%, transparent 5.5%);\n",
       "}\n",
       "#T_467d9_row2_col5 {\n",
       "  width: 10em;\n",
       "  height: 80%;\n",
       "  background: linear-gradient(90deg,#d65f5f 2.2%, transparent 2.2%);\n",
       "}\n",
       "#T_467d9_row2_col6, #T_467d9_row3_col6 {\n",
       "  width: 10em;\n",
       "  height: 80%;\n",
       "  background: linear-gradient(90deg,#d65f5f 0.9%, transparent 0.9%);\n",
       "}\n",
       "#T_467d9_row3_col5 {\n",
       "  width: 10em;\n",
       "  height: 80%;\n",
       "  background: linear-gradient(90deg,#d65f5f 6.6%, transparent 6.6%);\n",
       "}\n",
       "#T_467d9_row4_col5 {\n",
       "  width: 10em;\n",
       "  height: 80%;\n",
       "  background: linear-gradient(90deg,#d65f5f 39.5%, transparent 39.5%);\n",
       "}\n",
       "#T_467d9_row4_col6 {\n",
       "  width: 10em;\n",
       "  height: 80%;\n",
       "  background: linear-gradient(90deg,#d65f5f 48.6%, transparent 48.6%);\n",
       "}\n",
       "#T_467d9_row5_col5 {\n",
       "  width: 10em;\n",
       "  height: 80%;\n",
       "  background: linear-gradient(90deg,#d65f5f 46.1%, transparent 46.1%);\n",
       "}\n",
       "#T_467d9_row5_col6, #T_467d9_row7_col6 {\n",
       "  width: 10em;\n",
       "  height: 80%;\n",
       "  background: linear-gradient(90deg,#d65f5f 33.9%, transparent 33.9%);\n",
       "}\n",
       "#T_467d9_row6_col5 {\n",
       "  width: 10em;\n",
       "  height: 80%;\n",
       "  background: linear-gradient(90deg,#d65f5f 67.1%, transparent 67.1%);\n",
       "}\n",
       "#T_467d9_row6_col6, #T_467d9_row8_col5 {\n",
       "  width: 10em;\n",
       "  height: 80%;\n",
       "  background: linear-gradient(90deg,#d65f5f 100.0%, transparent 100.0%);\n",
       "}\n",
       "#T_467d9_row7_col5 {\n",
       "  width: 10em;\n",
       "  height: 80%;\n",
       "  background: linear-gradient(90deg,#d65f5f 81.1%, transparent 81.1%);\n",
       "}\n",
       "#T_467d9_row8_col6 {\n",
       "  width: 10em;\n",
       "  height: 80%;\n",
       "  background: linear-gradient(90deg,#d65f5f 12.1%, transparent 12.1%);\n",
       "}\n",
       "</style>\n",
       "<table id=\"T_467d9_\">\n",
       "  <thead>\n",
       "    <tr>\n",
       "      <th class=\"blank level0\" >&nbsp;</th>\n",
       "      <th class=\"col_heading level0 col0\" >hypothesis</th>\n",
       "      <th class=\"col_heading level0 col1\" >reach</th>\n",
       "      <th class=\"col_heading level0 col2\" >impact</th>\n",
       "      <th class=\"col_heading level0 col3\" >confidence</th>\n",
       "      <th class=\"col_heading level0 col4\" >efforts</th>\n",
       "      <th class=\"col_heading level0 col5\" >ICE</th>\n",
       "      <th class=\"col_heading level0 col6\" >RICE</th>\n",
       "    </tr>\n",
       "  </thead>\n",
       "  <tbody>\n",
       "    <tr>\n",
       "      <th id=\"T_467d9_level0_row0\" class=\"row_heading level0 row0\" >4</th>\n",
       "      <td id=\"T_467d9_row0_col0\" class=\"data row0 col0\" >Изменить цвет фона главной страницы, чтобы увеличить вовлеченность пользователей</td>\n",
       "      <td id=\"T_467d9_row0_col1\" class=\"data row0 col1\" >3</td>\n",
       "      <td id=\"T_467d9_row0_col2\" class=\"data row0 col2\" >1</td>\n",
       "      <td id=\"T_467d9_row0_col3\" class=\"data row0 col3\" >1</td>\n",
       "      <td id=\"T_467d9_row0_col4\" class=\"data row0 col4\" >1</td>\n",
       "      <td id=\"T_467d9_row0_col5\" class=\"data row0 col5\" >1.000000</td>\n",
       "      <td id=\"T_467d9_row0_col6\" class=\"data row0 col6\" >3.000000</td>\n",
       "    </tr>\n",
       "    <tr>\n",
       "      <th id=\"T_467d9_level0_row1\" class=\"row_heading level0 row1\" >3</th>\n",
       "      <td id=\"T_467d9_row1_col0\" class=\"data row1 col0\" >Изменить структура категорий, что увеличит конверсию, т.к. пользователи быстрее найдут нужный товар</td>\n",
       "      <td id=\"T_467d9_row1_col1\" class=\"data row1 col1\" >8</td>\n",
       "      <td id=\"T_467d9_row1_col2\" class=\"data row1 col2\" >3</td>\n",
       "      <td id=\"T_467d9_row1_col3\" class=\"data row1 col3\" >3</td>\n",
       "      <td id=\"T_467d9_row1_col4\" class=\"data row1 col4\" >8</td>\n",
       "      <td id=\"T_467d9_row1_col5\" class=\"data row1 col5\" >1.120000</td>\n",
       "      <td id=\"T_467d9_row1_col6\" class=\"data row1 col6\" >9.000000</td>\n",
       "    </tr>\n",
       "    <tr>\n",
       "      <th id=\"T_467d9_level0_row2\" class=\"row_heading level0 row2\" >5</th>\n",
       "      <td id=\"T_467d9_row2_col0\" class=\"data row2 col0\" >Добавить страницу отзывов клиентов о магазине, что позволит увеличить количество заказов</td>\n",
       "      <td id=\"T_467d9_row2_col1\" class=\"data row2 col1\" >3</td>\n",
       "      <td id=\"T_467d9_row2_col2\" class=\"data row2 col2\" >2</td>\n",
       "      <td id=\"T_467d9_row2_col3\" class=\"data row2 col3\" >2</td>\n",
       "      <td id=\"T_467d9_row2_col4\" class=\"data row2 col4\" >3</td>\n",
       "      <td id=\"T_467d9_row2_col5\" class=\"data row2 col5\" >1.330000</td>\n",
       "      <td id=\"T_467d9_row2_col6\" class=\"data row2 col6\" >4.000000</td>\n",
       "    </tr>\n",
       "    <tr>\n",
       "      <th id=\"T_467d9_level0_row3\" class=\"row_heading level0 row3\" >1</th>\n",
       "      <td id=\"T_467d9_row3_col0\" class=\"data row3 col0\" >Запустить собственную службу доставки, что сократит срок доставки заказов</td>\n",
       "      <td id=\"T_467d9_row3_col1\" class=\"data row3 col1\" >2</td>\n",
       "      <td id=\"T_467d9_row3_col2\" class=\"data row3 col2\" >5</td>\n",
       "      <td id=\"T_467d9_row3_col3\" class=\"data row3 col3\" >4</td>\n",
       "      <td id=\"T_467d9_row3_col4\" class=\"data row3 col4\" >10</td>\n",
       "      <td id=\"T_467d9_row3_col5\" class=\"data row3 col5\" >2.000000</td>\n",
       "      <td id=\"T_467d9_row3_col6\" class=\"data row3 col6\" >4.000000</td>\n",
       "    </tr>\n",
       "    <tr>\n",
       "      <th id=\"T_467d9_level0_row4\" class=\"row_heading level0 row4\" >2</th>\n",
       "      <td id=\"T_467d9_row4_col0\" class=\"data row4 col0\" >Добавить блоки рекомендаций товаров на сайт интернет магазина, чтобы повысить конверсию и средний чек заказа</td>\n",
       "      <td id=\"T_467d9_row4_col1\" class=\"data row4 col1\" >8</td>\n",
       "      <td id=\"T_467d9_row4_col2\" class=\"data row4 col2\" >3</td>\n",
       "      <td id=\"T_467d9_row4_col3\" class=\"data row4 col3\" >7</td>\n",
       "      <td id=\"T_467d9_row4_col4\" class=\"data row4 col4\" >3</td>\n",
       "      <td id=\"T_467d9_row4_col5\" class=\"data row4 col5\" >7.000000</td>\n",
       "      <td id=\"T_467d9_row4_col6\" class=\"data row4 col6\" >56.000000</td>\n",
       "    </tr>\n",
       "    <tr>\n",
       "      <th id=\"T_467d9_level0_row5\" class=\"row_heading level0 row5\" >6</th>\n",
       "      <td id=\"T_467d9_row5_col0\" class=\"data row5 col0\" >Показать на главной странице баннеры с актуальными акциями и распродажами, чтобы увеличить конверсию</td>\n",
       "      <td id=\"T_467d9_row5_col1\" class=\"data row5 col1\" >5</td>\n",
       "      <td id=\"T_467d9_row5_col2\" class=\"data row5 col2\" >3</td>\n",
       "      <td id=\"T_467d9_row5_col3\" class=\"data row5 col3\" >8</td>\n",
       "      <td id=\"T_467d9_row5_col4\" class=\"data row5 col4\" >3</td>\n",
       "      <td id=\"T_467d9_row5_col5\" class=\"data row5 col5\" >8.000000</td>\n",
       "      <td id=\"T_467d9_row5_col6\" class=\"data row5 col6\" >40.000000</td>\n",
       "    </tr>\n",
       "    <tr>\n",
       "      <th id=\"T_467d9_level0_row6\" class=\"row_heading level0 row6\" >7</th>\n",
       "      <td id=\"T_467d9_row6_col0\" class=\"data row6 col0\" >Добавить форму подписки на все основные страницы, чтобы собрать базу клиентов для email-рассылок</td>\n",
       "      <td id=\"T_467d9_row6_col1\" class=\"data row6 col1\" >10</td>\n",
       "      <td id=\"T_467d9_row6_col2\" class=\"data row6 col2\" >7</td>\n",
       "      <td id=\"T_467d9_row6_col3\" class=\"data row6 col3\" >8</td>\n",
       "      <td id=\"T_467d9_row6_col4\" class=\"data row6 col4\" >5</td>\n",
       "      <td id=\"T_467d9_row6_col5\" class=\"data row6 col5\" >11.200000</td>\n",
       "      <td id=\"T_467d9_row6_col6\" class=\"data row6 col6\" >112.000000</td>\n",
       "    </tr>\n",
       "    <tr>\n",
       "      <th id=\"T_467d9_level0_row7\" class=\"row_heading level0 row7\" >0</th>\n",
       "      <td id=\"T_467d9_row7_col0\" class=\"data row7 col0\" >Добавить два новых канала привлечения трафика, что позволит привлекать на 30% больше пользователей</td>\n",
       "      <td id=\"T_467d9_row7_col1\" class=\"data row7 col1\" >3</td>\n",
       "      <td id=\"T_467d9_row7_col2\" class=\"data row7 col2\" >10</td>\n",
       "      <td id=\"T_467d9_row7_col3\" class=\"data row7 col3\" >8</td>\n",
       "      <td id=\"T_467d9_row7_col4\" class=\"data row7 col4\" >6</td>\n",
       "      <td id=\"T_467d9_row7_col5\" class=\"data row7 col5\" >13.330000</td>\n",
       "      <td id=\"T_467d9_row7_col6\" class=\"data row7 col6\" >40.000000</td>\n",
       "    </tr>\n",
       "    <tr>\n",
       "      <th id=\"T_467d9_level0_row8\" class=\"row_heading level0 row8\" >8</th>\n",
       "      <td id=\"T_467d9_row8_col0\" class=\"data row8 col0\" >Запустить акцию, дающую скидку на товар в день рождения</td>\n",
       "      <td id=\"T_467d9_row8_col1\" class=\"data row8 col1\" >1</td>\n",
       "      <td id=\"T_467d9_row8_col2\" class=\"data row8 col2\" >9</td>\n",
       "      <td id=\"T_467d9_row8_col3\" class=\"data row8 col3\" >9</td>\n",
       "      <td id=\"T_467d9_row8_col4\" class=\"data row8 col4\" >5</td>\n",
       "      <td id=\"T_467d9_row8_col5\" class=\"data row8 col5\" >16.200000</td>\n",
       "      <td id=\"T_467d9_row8_col6\" class=\"data row8 col6\" >16.200000</td>\n",
       "    </tr>\n",
       "  </tbody>\n",
       "</table>\n"
      ],
      "text/plain": [
       "<pandas.io.formats.style.Styler at 0x1e1e289b7f0>"
      ]
     },
     "metadata": {},
     "output_type": "display_data"
    }
   ],
   "source": [
    "# топ наибольших значений по двум фреймворкам\n",
    "display(hypothesis.sort_values(['ICE', 'RICE'], ascending=[True, False]).round(2)\n",
    "        .style.bar(subset=['ICE', 'RICE'], color='#d65f5f'))"
   ]
  },
  {
   "cell_type": "markdown",
   "metadata": {},
   "source": [
    "### Вывод."
   ]
  },
  {
   "cell_type": "markdown",
   "metadata": {},
   "source": [
    "При применении фреймворка ICE в лидеры выбились три гипотезы: **8, 0, 7**. При применении фреймворка RICE на первом месте уже гипотеза под номером **7**. Это стало возможным благодаря параметру 'Reach' (охват пользователей) равному **10**, в то время как у других гипотез он меньше. Таким образом, по результатам двух тестов, мы выбираем гипотезу с индексом **7**, по которой и будем делать A/B-тест. Если тест закончитя неудачей, мы продолжим тестирование по гипотезе с индексом **0**."
   ]
  },
  {
   "cell_type": "markdown",
   "metadata": {},
   "source": [
    "## Анализ A/B-теста."
   ]
  },
  {
   "cell_type": "markdown",
   "metadata": {},
   "source": [
    "В нашем распоряжении находятся два датасета 'orders.csv' и 'visitors.csv' с данными A/B-тестирования гипотезы номер **7**, проанализируем A/B-тест."
   ]
  },
  {
   "cell_type": "markdown",
   "metadata": {},
   "source": [
    "### Построим график кумулятивной выручки по группам."
   ]
  },
  {
   "cell_type": "code",
   "execution_count": 11,
   "metadata": {},
   "outputs": [
    {
     "data": {
      "text/html": [
       "<div>\n",
       "<style scoped>\n",
       "    .dataframe tbody tr th:only-of-type {\n",
       "        vertical-align: middle;\n",
       "    }\n",
       "\n",
       "    .dataframe tbody tr th {\n",
       "        vertical-align: top;\n",
       "    }\n",
       "\n",
       "    .dataframe thead th {\n",
       "        text-align: right;\n",
       "    }\n",
       "</style>\n",
       "<table border=\"1\" class=\"dataframe\">\n",
       "  <thead>\n",
       "    <tr style=\"text-align: right;\">\n",
       "      <th></th>\n",
       "      <th>date</th>\n",
       "      <th>group</th>\n",
       "      <th>orders</th>\n",
       "      <th>buyers</th>\n",
       "      <th>revenue</th>\n",
       "      <th>visitors</th>\n",
       "    </tr>\n",
       "  </thead>\n",
       "  <tbody>\n",
       "    <tr>\n",
       "      <th>0</th>\n",
       "      <td>2019-08-01</td>\n",
       "      <td>A</td>\n",
       "      <td>23</td>\n",
       "      <td>19</td>\n",
       "      <td>142779</td>\n",
       "      <td>719</td>\n",
       "    </tr>\n",
       "    <tr>\n",
       "      <th>1</th>\n",
       "      <td>2019-08-01</td>\n",
       "      <td>B</td>\n",
       "      <td>17</td>\n",
       "      <td>17</td>\n",
       "      <td>59758</td>\n",
       "      <td>713</td>\n",
       "    </tr>\n",
       "    <tr>\n",
       "      <th>2</th>\n",
       "      <td>2019-08-02</td>\n",
       "      <td>A</td>\n",
       "      <td>42</td>\n",
       "      <td>36</td>\n",
       "      <td>234381</td>\n",
       "      <td>1338</td>\n",
       "    </tr>\n",
       "    <tr>\n",
       "      <th>3</th>\n",
       "      <td>2019-08-02</td>\n",
       "      <td>B</td>\n",
       "      <td>40</td>\n",
       "      <td>39</td>\n",
       "      <td>221801</td>\n",
       "      <td>1294</td>\n",
       "    </tr>\n",
       "    <tr>\n",
       "      <th>4</th>\n",
       "      <td>2019-08-03</td>\n",
       "      <td>A</td>\n",
       "      <td>66</td>\n",
       "      <td>60</td>\n",
       "      <td>346854</td>\n",
       "      <td>1845</td>\n",
       "    </tr>\n",
       "  </tbody>\n",
       "</table>\n",
       "</div>"
      ],
      "text/plain": [
       "        date group  orders  buyers  revenue  visitors\n",
       "0 2019-08-01     A      23      19   142779       719\n",
       "1 2019-08-01     B      17      17    59758       713\n",
       "2 2019-08-02     A      42      36   234381      1338\n",
       "3 2019-08-02     B      40      39   221801      1294\n",
       "4 2019-08-03     A      66      60   346854      1845"
      ]
     },
     "metadata": {},
     "output_type": "display_data"
    }
   ],
   "source": [
    "# создадим массив уникальных пар значений дат и групп теста, удалим дубликаты если они есть\n",
    "datesGroups = orders[['date','group']].drop_duplicates()\n",
    "\n",
    "# получим, агрегированные кумулятивные по дням, данные о заказах\n",
    "ordersAggregated = datesGroups.apply(\n",
    "    lambda x: orders[np.logical_and(orders['date'] <= x['date'], orders['group'] == x['group'])].agg({\n",
    "        'date': 'max',\n",
    "        'group': 'max',\n",
    "        'transaction_id': pd.Series.nunique,\n",
    "        'visitor_id': pd.Series.nunique,\n",
    "        'revenue': 'sum'}), axis=1).sort_values(by=['date','group'])\n",
    "\n",
    "# получим, агрегированные кумулятивные по дням данные, о посетителях интернет-магазина\n",
    "visitorsAggregated = datesGroups.apply(\n",
    "    lambda x: visitors[np.logical_and(visitors['date'] <= x['date'], visitors['group'] == x['group'])].agg({\n",
    "        'date': 'max', \n",
    "        'group': 'max', \n",
    "        'visitors': 'sum'}), axis=1).sort_values(by=['date','group'])\n",
    "\n",
    "# объединим кумулятивные данные в одной таблице и переименуем столбцы\n",
    "cumulativeData = ordersAggregated.merge(visitorsAggregated, left_on=['date', 'group'], right_on=['date', 'group'])\n",
    "cumulativeData.columns = ['date', 'group', 'orders', 'buyers', 'revenue', 'visitors']\n",
    "\n",
    "display(cumulativeData.head())"
   ]
  },
  {
   "cell_type": "code",
   "execution_count": 12,
   "metadata": {},
   "outputs": [
    {
     "data": {
      "image/png": "[encoded data removed]",
      "text/plain": [
       "<Figure size 1080x432 with 1 Axes>"
      ]
     },
     "metadata": {
      "needs_background": "light"
     },
     "output_type": "display_data"
    }
   ],
   "source": [
    "# датафрейм с кумулятивным количеством заказов и кумулятивной выручкой по дням в группах А и B\n",
    "cumulativeRevenueA = cumulativeData[cumulativeData['group']=='A'][['date','revenue', 'orders']]\n",
    "cumulativeRevenueB = cumulativeData[cumulativeData['group']=='B'][['date','revenue', 'orders']]\n",
    "\n",
    "# построим график выручки групп А и B\n",
    "plt.figure(figsize=(15, 6))\n",
    "plt.plot(cumulativeRevenueA['date'], cumulativeRevenueA['revenue'], label='группа A')\n",
    "plt.plot(cumulativeRevenueB['date'], cumulativeRevenueB['revenue'], label='группа B')\n",
    "plt.title('График кумулятивной выручки по группам.')\n",
    "plt.xlabel('Дата проведения теста.')\n",
    "plt.ylabel('Выручка, руб.')\n",
    "plt.legend()\n",
    "plt.show()"
   ]
  },
  {
   "cell_type": "markdown",
   "metadata": {},
   "source": [
    "*Выручка контрольной группы A почти равномерно увеличивается в течение всего теста.\n",
    "График выручки тестовой группы B, в точке между **2019-08-17** и **2019-08-21** резко вырос. Это может сигнализировать о всплесках числа заказов, либо о появлении очень дорогих заказов в выборке.*"
   ]
  },
  {
   "cell_type": "markdown",
   "metadata": {},
   "source": [
    "### Построим график кумулятивного среднего чека по группам."
   ]
  },
  {
   "cell_type": "code",
   "execution_count": 13,
   "metadata": {},
   "outputs": [
    {
     "data": {
      "image/png": "[encoded data removed]",
      "text/plain": [
       "<Figure size 1080x432 with 1 Axes>"
      ]
     },
     "metadata": {
      "needs_background": "light"
     },
     "output_type": "display_data"
    }
   ],
   "source": [
    "# разделим кумулятивную выручку на кумулятивное число заказов и построим графики среднего чека по группам\n",
    "plt.figure(figsize=(15, 6))\n",
    "plt.plot(cumulativeRevenueA['date'], cumulativeRevenueA['revenue']/cumulativeRevenueA['orders'], label='группа A')\n",
    "plt.plot(cumulativeRevenueB['date'], cumulativeRevenueB['revenue']/cumulativeRevenueB['orders'], label='группа B')\n",
    "plt.title('График кумулятивного среднего чека по группам.')\n",
    "plt.xlabel('Дата проведения теста.')\n",
    "plt.ylabel('Средний чек, руб.')\n",
    "plt.legend()\n",
    "plt.show()"
   ]
  },
  {
   "cell_type": "markdown",
   "metadata": {},
   "source": [
    "*График кумулятивного среднего чека отчасти повторяет график кумулятивной выручки, но имеет больше резких перепадов. В точке между **2019-08-17** и **2019-08-21** средний чек также резко растёт, но потом начинает плавно снижаться и выравнивается. Резкий рост графика группы B может говорить о всплесках числа заказов, либо о появлении очень дорогих заказов в выборке. Плавное снижение возможно, связано с уменьшением стоимости покупок или их количества.*"
   ]
  },
  {
   "cell_type": "markdown",
   "metadata": {},
   "source": [
    "### Построим график относительного изменения кумулятивного среднего чека группы B к группе A."
   ]
  },
  {
   "cell_type": "code",
   "execution_count": 14,
   "metadata": {},
   "outputs": [
    {
     "data": {
      "image/png": "[encoded data removed]",
      "text/plain": [
       "<Figure size 1080x432 with 1 Axes>"
      ]
     },
     "metadata": {
      "needs_background": "light"
     },
     "output_type": "display_data"
    }
   ],
   "source": [
    "# собирём данные кумулятивной выручки по группам в одном датафрейме\n",
    "mergedCumulativeRevenue = cumulativeRevenueA.merge(\n",
    "    cumulativeRevenueB, left_on='date', right_on='date', how='left', suffixes=['A', 'B'])\n",
    "\n",
    "# поcтроим график отношения средних чеков\n",
    "plt.figure(figsize=(15, 6))\n",
    "plt.plot(mergedCumulativeRevenue['date'], \n",
    "         (mergedCumulativeRevenue['revenueB'] / mergedCumulativeRevenue['ordersB']) / \n",
    "         (mergedCumulativeRevenue['revenueA'] / mergedCumulativeRevenue['ordersA']) - 1, \n",
    "         label=\"Относительное изменение кумулятивного среднего чека группы B \\nотносительно группы A\",\n",
    "        )\n",
    "plt.axhline(y=0, color='black', linestyle='--')\n",
    "plt.title('График относительного изменения кумулятивного среднего чека.')\n",
    "plt.xlabel('Дата проведения теста.')\n",
    "plt.ylabel('Относительное изменение \\n среднего чека.')\n",
    "plt.legend()\n",
    "plt.show()"
   ]
  },
  {
   "cell_type": "markdown",
   "metadata": {},
   "source": [
    "*В нескольких точках график различия между сегментами резко меняется, это может свидетельствовать о крупных заказах и выбросах. В конце периода исследования, график выходит на плато.*"
   ]
  },
  {
   "cell_type": "markdown",
   "metadata": {},
   "source": [
    "### Построим график кумулятивной конверсии по группам."
   ]
  },
  {
   "cell_type": "code",
   "execution_count": 15,
   "metadata": {},
   "outputs": [
    {
     "name": "stdout",
     "output_type": "stream",
     "text": [
      "Начало проведения исследования: 2019-08-01\n",
      "Конец проведения исследования: 2019-08-31\n"
     ]
    }
   ],
   "source": [
    "# находим начало и конец проведения исследования\n",
    "min_dt = visitors['date'].min()\n",
    "max_dt = visitors['date'].max()\n",
    "\n",
    "print(f'Начало проведения исследования: {min_dt:%Y-%m-%d}')\n",
    "print(f'Конец проведения исследования: {max_dt:%Y-%m-%d}')"
   ]
  },
  {
   "cell_type": "markdown",
   "metadata": {},
   "source": [
    "*Начало и конец графиков совпадает с вычисленными началом и концом проведения исследования.*"
   ]
  },
  {
   "cell_type": "code",
   "execution_count": 16,
   "metadata": {},
   "outputs": [
    {
     "data": {
      "image/png": "[encoded data removed]",
      "text/plain": [
       "<Figure size 1080x432 with 1 Axes>"
      ]
     },
     "metadata": {
      "needs_background": "light"
     },
     "output_type": "display_data"
    }
   ],
   "source": [
    "# считаем кумулятивную конверсию\n",
    "cumulativeData['conversion'] = cumulativeData['orders'] / cumulativeData['visitors']\n",
    "\n",
    "# отделяем данные по группам A и B\n",
    "cumulativeDataA = cumulativeData[cumulativeData['group'] == 'A']\n",
    "cumulativeDataB = cumulativeData[cumulativeData['group'] == 'B']\n",
    "\n",
    "# поcтроим график кумулятивной конверсии\n",
    "plt.figure(figsize=(15, 6))\n",
    "plt.plot(cumulativeDataA['date'], cumulativeDataA['conversion'], label = 'группа A')\n",
    "plt.plot(cumulativeDataB['date'], cumulativeDataB['conversion'], label = 'группа B')\n",
    "plt.axis([dt.datetime(2019, 8, 1), dt.datetime(2019, 8, 31), 0, 0.05])\n",
    "plt.title('График кумулятивной конверсии по группам.')\n",
    "plt.xlabel('Дата проведения теста.')\n",
    "plt.ylabel('Кумулятивная конверсия по группам.')\n",
    "plt.legend()\n",
    "plt.show()"
   ]
  },
  {
   "cell_type": "markdown",
   "metadata": {},
   "source": [
    "*График симметричный, имеет линейную форму. Начиная с **2019-08-06** кумулятивная конверсия группы B стабильно превышает кумулятивную конверсию группы A.*"
   ]
  },
  {
   "cell_type": "markdown",
   "metadata": {},
   "source": [
    "### Построим график относительного изменения кумулятивной конверсии группы B к группе A."
   ]
  },
  {
   "cell_type": "code",
   "execution_count": 17,
   "metadata": {},
   "outputs": [
    {
     "data": {
      "image/png": "[encoded data removed]",
      "text/plain": [
       "<Figure size 1080x432 with 1 Axes>"
      ]
     },
     "metadata": {
      "needs_background": "light"
     },
     "output_type": "display_data"
    }
   ],
   "source": [
    "# собирём данные кумулятивной конверсии по группам в одном датафрейме\n",
    "mergedCumulativeConversions = cumulativeDataA[['date','conversion']].merge(\n",
    "    cumulativeDataB[['date','conversion']], left_on='date', right_on='date', how='left', suffixes=['A', 'B'])\n",
    "\n",
    "# построим график относительного изменения кумулятивной конверсии\n",
    "plt.figure(figsize=(15, 6))\n",
    "plt.plot(mergedCumulativeConversions['date'], \n",
    "         mergedCumulativeConversions['conversionB'] / mergedCumulativeConversions['conversionA'] - 1, \n",
    "         label=\"Относительный прирост конверсии группы B \\nотносительно группы A\",\n",
    "        )\n",
    "plt.axhline(y=0, color='black', linestyle='--')\n",
    "plt.axhline(y=0.2, color='grey', linestyle='--')\n",
    "plt.axis([\"2019-08-01\", '2019-08-31', -0.5, 0.5])\n",
    "plt.title('График относительного изменения кумулятивной конверсии.')\n",
    "plt.xlabel('Дата проведения теста.')\n",
    "plt.ylabel('Относительное изменение \\nкумулятивной конверсии.')\n",
    "plt.legend()\n",
    "plt.show()"
   ]
  },
  {
   "cell_type": "markdown",
   "metadata": {},
   "source": [
    "*В начале теста кумулятивная конверсия группы B отставала от группы A, затем после **2019-08-06**, вышла вперёд. Относительный прирост конверсии группы B относительно группы A составил примерно **10%**. Но выводы делать рано, сперва нужно проанализировать аномалии, возможно, они изменят картину.*"
   ]
  },
  {
   "cell_type": "markdown",
   "metadata": {},
   "source": [
    "### Построим точечный график количества заказов по пользователям."
   ]
  },
  {
   "cell_type": "code",
   "execution_count": 18,
   "metadata": {
    "scrolled": false
   },
   "outputs": [
    {
     "data": {
      "text/html": [
       "<div>\n",
       "<style scoped>\n",
       "    .dataframe tbody tr th:only-of-type {\n",
       "        vertical-align: middle;\n",
       "    }\n",
       "\n",
       "    .dataframe tbody tr th {\n",
       "        vertical-align: top;\n",
       "    }\n",
       "\n",
       "    .dataframe thead th {\n",
       "        text-align: right;\n",
       "    }\n",
       "</style>\n",
       "<table border=\"1\" class=\"dataframe\">\n",
       "  <thead>\n",
       "    <tr style=\"text-align: right;\">\n",
       "      <th></th>\n",
       "      <th>visitor_id</th>\n",
       "      <th>orders</th>\n",
       "    </tr>\n",
       "  </thead>\n",
       "  <tbody>\n",
       "    <tr>\n",
       "      <th>908</th>\n",
       "      <td>3967698036</td>\n",
       "      <td>3</td>\n",
       "    </tr>\n",
       "    <tr>\n",
       "      <th>55</th>\n",
       "      <td>249864742</td>\n",
       "      <td>3</td>\n",
       "    </tr>\n",
       "    <tr>\n",
       "      <th>478</th>\n",
       "      <td>2108163459</td>\n",
       "      <td>3</td>\n",
       "    </tr>\n",
       "    <tr>\n",
       "      <th>687</th>\n",
       "      <td>2988190573</td>\n",
       "      <td>3</td>\n",
       "    </tr>\n",
       "    <tr>\n",
       "      <th>890</th>\n",
       "      <td>3908431265</td>\n",
       "      <td>3</td>\n",
       "    </tr>\n",
       "  </tbody>\n",
       "</table>\n",
       "</div>"
      ],
      "text/plain": [
       "     visitor_id  orders\n",
       "908  3967698036       3\n",
       "55    249864742       3\n",
       "478  2108163459       3\n",
       "687  2988190573       3\n",
       "890  3908431265       3"
      ]
     },
     "metadata": {},
     "output_type": "display_data"
    },
    {
     "data": {
      "image/png": "[encoded data removed]",
      "text/plain": [
       "<Figure size 1080x432 with 1 Axes>"
      ]
     },
     "metadata": {
      "needs_background": "light"
     },
     "output_type": "display_data"
    }
   ],
   "source": [
    "# сгруппируем данные пользователя по заказам\n",
    "ordersByUsers = (orders.groupby('visitor_id', as_index=False).agg({'transaction_id': 'nunique'}))\n",
    "ordersByUsers.columns = ['visitor_id', 'orders']\n",
    "\n",
    "display(ordersByUsers.sort_values(by='orders', ascending=False).head())\n",
    "\n",
    "# построим график количества заказов по пользователям\n",
    "plt.figure(figsize=(15, 6))\n",
    "x_values = pd.Series(range(0, len(ordersByUsers))) # серия из чисел от 0 до количества наблюдений в ordersByUsers\n",
    "plt.scatter(x_values, ordersByUsers['orders'], label='заказы')\n",
    "plt.title('График количества заказов по пользователям.')\n",
    "plt.xlabel('Количество пользователей.')\n",
    "plt.ylabel('Количество заказов.')\n",
    "plt.legend()\n",
    "plt.show()"
   ]
  },
  {
   "cell_type": "markdown",
   "metadata": {},
   "source": [
    "*Пользователей, заказавших более двух раз, мало. Они вполне могут быть аномальными. По графику можно выбрать границу аномальных пользователей, однако принято отсеивать от 1% до 5% наблюдений с крайними значениями. Для этого считают 95-й и 99-й перцентили.*"
   ]
  },
  {
   "cell_type": "markdown",
   "metadata": {},
   "source": [
    "### Посчитаем 95-й и 99-й перцентили количества заказов на пользователя."
   ]
  },
  {
   "cell_type": "code",
   "execution_count": 19,
   "metadata": {},
   "outputs": [
    {
     "name": "stdout",
     "output_type": "stream",
     "text": [
      "95-й и 99-й перцентили количества заказов на пользователя: [1. 2.]\n"
     ]
    }
   ],
   "source": [
    "print(f'95-й и 99-й перцентили количества заказов на пользователя:', np.percentile(ordersByUsers['orders'], [95, 99]))"
   ]
  },
  {
   "cell_type": "markdown",
   "metadata": {},
   "source": [
    " *Выберем границу для определения аномальных пользователей в **1** заказ.*"
   ]
  },
  {
   "cell_type": "markdown",
   "metadata": {},
   "source": [
    "### Оценим стоимость заказов."
   ]
  },
  {
   "cell_type": "code",
   "execution_count": 20,
   "metadata": {
    "scrolled": false
   },
   "outputs": [
    {
     "data": {
      "image/png": "[encoded data removed]",
      "text/plain": [
       "<Figure size 1080x432 with 1 Axes>"
      ]
     },
     "metadata": {
      "needs_background": "light"
     },
     "output_type": "display_data"
    }
   ],
   "source": [
    "# построим точечный график стоимостей заказов\n",
    "plt.figure(figsize=(15, 6))\n",
    "x_values = pd.Series(range(0, len(orders['revenue'])))\n",
    "plt.scatter(x_values, orders['revenue'], label='заказы')\n",
    "plt.title('График стоимостей заказов.')\n",
    "plt.xlabel('Количество заказов.')\n",
    "plt.ylabel('Стоимость заказов, млн.руб.')\n",
    "plt.legend()\n",
    "plt.show()"
   ]
  },
  {
   "cell_type": "markdown",
   "metadata": {},
   "source": [
    "*Как мы и предпологали, среди заказов есть немного дорогих заказов. Выберем границу для определения аномальных заказов методом перцентилей.*"
   ]
  },
  {
   "cell_type": "markdown",
   "metadata": {},
   "source": [
    "### Посчитаем 95-й и 99-й перцентили стоимости заказов. Выберим границу для определения аномальных заказов."
   ]
  },
  {
   "cell_type": "code",
   "execution_count": 21,
   "metadata": {},
   "outputs": [
    {
     "name": "stdout",
     "output_type": "stream",
     "text": [
      "95-й и 99-й перцентили стоимости заказов на пользователя: [26785. 53904.]\n"
     ]
    }
   ],
   "source": [
    "print(f'95-й и 99-й перцентили стоимости заказов на пользователя:', np.percentile(orders['revenue'], [95, 99]))"
   ]
  },
  {
   "cell_type": "markdown",
   "metadata": {},
   "source": [
    "*Не более 5% заказов дороже **26785** рублей и не более 1% дороже **53904** рубля.*"
   ]
  },
  {
   "cell_type": "markdown",
   "metadata": {},
   "source": [
    "### Посчитаем статистическую значимость различий в конверсии между группами по «сырым» данным."
   ]
  },
  {
   "cell_type": "code",
   "execution_count": 22,
   "metadata": {
    "scrolled": false
   },
   "outputs": [
    {
     "data": {
      "text/html": [
       "<div>\n",
       "<style scoped>\n",
       "    .dataframe tbody tr th:only-of-type {\n",
       "        vertical-align: middle;\n",
       "    }\n",
       "\n",
       "    .dataframe tbody tr th {\n",
       "        vertical-align: top;\n",
       "    }\n",
       "\n",
       "    .dataframe thead th {\n",
       "        text-align: right;\n",
       "    }\n",
       "</style>\n",
       "<table border=\"1\" class=\"dataframe\">\n",
       "  <thead>\n",
       "    <tr style=\"text-align: right;\">\n",
       "      <th></th>\n",
       "      <th>0</th>\n",
       "      <th>1</th>\n",
       "      <th>2</th>\n",
       "      <th>3</th>\n",
       "      <th>4</th>\n",
       "    </tr>\n",
       "  </thead>\n",
       "  <tbody>\n",
       "    <tr>\n",
       "      <th>date</th>\n",
       "      <td>2019-08-01 00:00:00</td>\n",
       "      <td>2019-08-02 00:00:00</td>\n",
       "      <td>2019-08-03 00:00:00</td>\n",
       "      <td>2019-08-04 00:00:00</td>\n",
       "      <td>2019-08-05 00:00:00</td>\n",
       "    </tr>\n",
       "    <tr>\n",
       "      <th>ordersPerDateA</th>\n",
       "      <td>23</td>\n",
       "      <td>19</td>\n",
       "      <td>24</td>\n",
       "      <td>11</td>\n",
       "      <td>22</td>\n",
       "    </tr>\n",
       "    <tr>\n",
       "      <th>revenuePerDateA</th>\n",
       "      <td>142779</td>\n",
       "      <td>91602</td>\n",
       "      <td>112473</td>\n",
       "      <td>41176</td>\n",
       "      <td>86383</td>\n",
       "    </tr>\n",
       "    <tr>\n",
       "      <th>ordersPerDateB</th>\n",
       "      <td>17</td>\n",
       "      <td>23</td>\n",
       "      <td>14</td>\n",
       "      <td>14</td>\n",
       "      <td>21</td>\n",
       "    </tr>\n",
       "    <tr>\n",
       "      <th>revenuePerDateB</th>\n",
       "      <td>59758</td>\n",
       "      <td>162043</td>\n",
       "      <td>67049</td>\n",
       "      <td>96890</td>\n",
       "      <td>89908</td>\n",
       "    </tr>\n",
       "    <tr>\n",
       "      <th>ordersCummulativeA</th>\n",
       "      <td>23</td>\n",
       "      <td>42</td>\n",
       "      <td>66</td>\n",
       "      <td>77</td>\n",
       "      <td>99</td>\n",
       "    </tr>\n",
       "    <tr>\n",
       "      <th>revenueCummulativeA</th>\n",
       "      <td>142779</td>\n",
       "      <td>234381</td>\n",
       "      <td>346854</td>\n",
       "      <td>388030</td>\n",
       "      <td>474413</td>\n",
       "    </tr>\n",
       "    <tr>\n",
       "      <th>ordersCummulativeB</th>\n",
       "      <td>17</td>\n",
       "      <td>40</td>\n",
       "      <td>54</td>\n",
       "      <td>68</td>\n",
       "      <td>89</td>\n",
       "    </tr>\n",
       "    <tr>\n",
       "      <th>revenueCummulativeB</th>\n",
       "      <td>59758</td>\n",
       "      <td>221801</td>\n",
       "      <td>288850</td>\n",
       "      <td>385740</td>\n",
       "      <td>475648</td>\n",
       "    </tr>\n",
       "    <tr>\n",
       "      <th>visitorsPerDateA</th>\n",
       "      <td>719</td>\n",
       "      <td>619</td>\n",
       "      <td>507</td>\n",
       "      <td>717</td>\n",
       "      <td>756</td>\n",
       "    </tr>\n",
       "    <tr>\n",
       "      <th>visitorsPerDateB</th>\n",
       "      <td>713</td>\n",
       "      <td>581</td>\n",
       "      <td>509</td>\n",
       "      <td>770</td>\n",
       "      <td>707</td>\n",
       "    </tr>\n",
       "    <tr>\n",
       "      <th>visitorsCummulativeA</th>\n",
       "      <td>719</td>\n",
       "      <td>1338</td>\n",
       "      <td>1845</td>\n",
       "      <td>2562</td>\n",
       "      <td>3318</td>\n",
       "    </tr>\n",
       "    <tr>\n",
       "      <th>visitorsCummulativeB</th>\n",
       "      <td>713</td>\n",
       "      <td>1294</td>\n",
       "      <td>1803</td>\n",
       "      <td>2573</td>\n",
       "      <td>3280</td>\n",
       "    </tr>\n",
       "  </tbody>\n",
       "</table>\n",
       "</div>"
      ],
      "text/plain": [
       "                                        0                    1  \\\n",
       "date                  2019-08-01 00:00:00  2019-08-02 00:00:00   \n",
       "ordersPerDateA                         23                   19   \n",
       "revenuePerDateA                    142779                91602   \n",
       "ordersPerDateB                         17                   23   \n",
       "revenuePerDateB                     59758               162043   \n",
       "ordersCummulativeA                     23                   42   \n",
       "revenueCummulativeA                142779               234381   \n",
       "ordersCummulativeB                     17                   40   \n",
       "revenueCummulativeB                 59758               221801   \n",
       "visitorsPerDateA                      719                  619   \n",
       "visitorsPerDateB                      713                  581   \n",
       "visitorsCummulativeA                  719                 1338   \n",
       "visitorsCummulativeB                  713                 1294   \n",
       "\n",
       "                                        2                    3  \\\n",
       "date                  2019-08-03 00:00:00  2019-08-04 00:00:00   \n",
       "ordersPerDateA                         24                   11   \n",
       "revenuePerDateA                    112473                41176   \n",
       "ordersPerDateB                         14                   14   \n",
       "revenuePerDateB                     67049                96890   \n",
       "ordersCummulativeA                     66                   77   \n",
       "revenueCummulativeA                346854               388030   \n",
       "ordersCummulativeB                     54                   68   \n",
       "revenueCummulativeB                288850               385740   \n",
       "visitorsPerDateA                      507                  717   \n",
       "visitorsPerDateB                      509                  770   \n",
       "visitorsCummulativeA                 1845                 2562   \n",
       "visitorsCummulativeB                 1803                 2573   \n",
       "\n",
       "                                        4  \n",
       "date                  2019-08-05 00:00:00  \n",
       "ordersPerDateA                         22  \n",
       "revenuePerDateA                     86383  \n",
       "ordersPerDateB                         21  \n",
       "revenuePerDateB                     89908  \n",
       "ordersCummulativeA                     99  \n",
       "revenueCummulativeA                474413  \n",
       "ordersCummulativeB                     89  \n",
       "revenueCummulativeB                475648  \n",
       "visitorsPerDateA                      756  \n",
       "visitorsPerDateB                      707  \n",
       "visitorsCummulativeA                 3318  \n",
       "visitorsCummulativeB                 3280  "
      ]
     },
     "metadata": {},
     "output_type": "display_data"
    }
   ],
   "source": [
    "# подготовим «сырые» данные, составим таблицу\n",
    "visitorsADaily = visitors[visitors['group'] == 'A'][['date', 'visitors']]\n",
    "visitorsADaily.columns = ['date', 'visitorsPerDateA']\n",
    "\n",
    "visitorsACummulative = visitorsADaily.apply(\n",
    "    lambda x: visitorsADaily[visitorsADaily['date'] <= x['date']].agg({\n",
    "        'date': 'max', \n",
    "        'visitorsPerDateA': 'sum'}), \n",
    "    axis=1,\n",
    ")\n",
    "visitorsACummulative.columns = ['date', 'visitorsCummulativeA']\n",
    "\n",
    "visitorsBDaily = visitors[visitors['group'] == 'B'][['date', 'visitors']]\n",
    "visitorsBDaily.columns = ['date', 'visitorsPerDateB']\n",
    "\n",
    "visitorsBCummulative = visitorsBDaily.apply(\n",
    "    lambda x: visitorsBDaily[visitorsBDaily['date'] <= x['date']].agg({\n",
    "        'date': 'max', \n",
    "        'visitorsPerDateB': 'sum'}), \n",
    "    axis=1,\n",
    ")\n",
    "visitorsBCummulative.columns = ['date', 'visitorsCummulativeB']\n",
    "\n",
    "\n",
    "ordersADaily = (orders[orders['group'] == 'A'][['date', 'transaction_id', 'visitor_id', 'revenue']]\n",
    "    .groupby('date', as_index=False)\n",
    "    .agg({'transaction_id': pd.Series.nunique, 'revenue': 'sum'})\n",
    ")\n",
    "ordersADaily.columns = ['date', 'ordersPerDateA', 'revenuePerDateA']\n",
    "\n",
    "ordersACummulative = ordersADaily.apply(\n",
    "    lambda x: ordersADaily[ordersADaily['date'] <= x['date']].agg({\n",
    "        'date': 'max', \n",
    "        'ordersPerDateA': 'sum', \n",
    "        'revenuePerDateA': 'sum'}), \n",
    "    axis=1,\n",
    ").sort_values(by=['date'])\n",
    "\n",
    "ordersACummulative.columns = ['date', 'ordersCummulativeA', 'revenueCummulativeA']\n",
    "\n",
    "ordersBDaily = (orders[orders['group'] == 'B'][['date', 'transaction_id', 'visitor_id', 'revenue']]\n",
    "    .groupby('date', as_index=False)\n",
    "    .agg({'transaction_id': pd.Series.nunique, 'revenue': 'sum'})\n",
    ")\n",
    "\n",
    "ordersBDaily.columns = ['date', 'ordersPerDateB', 'revenuePerDateB']\n",
    "\n",
    "ordersBCummulative = ordersBDaily.apply(\n",
    "    lambda x: ordersBDaily[ordersBDaily['date'] <= x['date']].agg({\n",
    "        'date': 'max', \n",
    "        'ordersPerDateB': 'sum', \n",
    "        'revenuePerDateB': 'sum'}), \n",
    "    axis=1,\n",
    ").sort_values(by=['date'])\n",
    "\n",
    "ordersBCummulative.columns = ['date', 'ordersCummulativeB', 'revenueCummulativeB']\n",
    "\n",
    "data = (ordersADaily\n",
    "        .merge(ordersBDaily, left_on='date', right_on='date', how='left')\n",
    "        .merge(ordersACummulative, left_on='date', right_on='date', how='left')\n",
    "        .merge(ordersBCummulative, left_on='date', right_on='date', how='left')\n",
    "        .merge(visitorsADaily, left_on='date', right_on='date', how='left')\n",
    "        .merge(visitorsBDaily, left_on='date', right_on='date', how='left')\n",
    "        .merge(visitorsACummulative, left_on='date', right_on='date', how='left')\n",
    "        .merge(visitorsBCummulative, left_on='date', right_on='date', how='left')\n",
    ")\n",
    "\n",
    "display(data.head().T)"
   ]
  },
  {
   "cell_type": "markdown",
   "metadata": {},
   "source": [
    "<i>Наименования столбцов:\n",
    "- **date** — дата;\n",
    "- **ordersPerDateA** — количество заказов в выбранную дату в группе A;\n",
    "- **revenuePerDateA** — суммарная выручка в выбранную дату в группе A;\n",
    "- **ordersPerDateB** — количество заказов в выбранную дату в группе B;\n",
    "- **revenuePerDateB** — суммарная выручка в выбранную дату в группе B;\n",
    "- **ordersCummulativeA** — суммарное число заказов до выбранной даты включительно в группе A;\n",
    "- **revenueCummulativeA** — суммарная выручка до выбранной даты включительно в группе A;\n",
    "- **ordersCummulativeB** — суммарное количество заказов до выбранной даты включительно в группе B;\n",
    "- **revenueCummulativeB** — суммарная выручка до выбранной даты включительно в группе B;\n",
    "- **visitorsPerDateA** — количество пользователей в выбранную дату в группе A;\n",
    "- **visitorsPerDateB** — количество пользователей в выбранную дату в группе B;\n",
    "- **visitorsCummulativeA** — количество пользователей до выбранной даты включительно в группе A;\n",
    "- **visitorsCummulativeB** — количество пользователей до выбранной даты включительно в группе B.</i>"
   ]
  },
  {
   "cell_type": "markdown",
   "metadata": {},
   "source": [
    "Для дальнейшего исследования, мы должны проверить выборки на нормальность распределения, для этого применим тест Шапиро-Уилка."
   ]
  },
  {
   "cell_type": "code",
   "execution_count": 23,
   "metadata": {
    "scrolled": false
   },
   "outputs": [
    {
     "name": "stdout",
     "output_type": "stream",
     "text": [
      "Statistics=0.368, p-value=0.000\n",
      "Отклонить гипотезу о нормальности\n"
     ]
    }
   ],
   "source": [
    "# тест Шапиро-Уилка\n",
    "stat, p = stats.shapiro(data['revenuePerDateB'])\n",
    "print('Statistics=%.3f, p-value=%.3f' % (stat, p))\n",
    "\n",
    "alpha = .05\n",
    "if p > alpha:\n",
    "    print('Принять гипотезу о нормальности')\n",
    "else:\n",
    "    print('Отклонить гипотезу о нормальности')"
   ]
  },
  {
   "cell_type": "markdown",
   "metadata": {},
   "source": [
    "*По итогам теста Шапиро-Уилка, мы отклонили гипотезу о нормальности выборки - данные в выборке распрелелены ненормально. Поэтому для дальнейшего тестирования мы выберем тест Манна-Уитни.*"
   ]
  },
  {
   "cell_type": "markdown",
   "metadata": {},
   "source": [
    "Подготовим выборки к проверке критерием Манна-Уитни."
   ]
  },
  {
   "cell_type": "code",
   "execution_count": 24,
   "metadata": {},
   "outputs": [],
   "source": [
    "# создадим переменные ordersByUsersA и ordersByUsersB со столбцами 'visitor_id', 'orders', \n",
    "# где для пользователей, совершивших хотя бы 1 заказ, будет указано число заказов\n",
    "ordersByUsersA = (orders[orders['group'] == 'A'].groupby('visitor_id', as_index=False)\n",
    "                  .agg({'transaction_id': pd.Series.nunique})\n",
    "                 )\n",
    "ordersByUsersA.columns = ['visitor_id', 'orders']\n",
    "\n",
    "ordersByUsersB = (orders[orders['group'] == 'B'].groupby('visitor_id', as_index=False)\n",
    "                  .agg({'transaction_id': pd.Series.nunique})\n",
    "                 )\n",
    "ordersByUsersB.columns = ['visitor_id', 'orders']\n",
    "\n",
    "# объявим переменные sampleA и sampleB, в которых пользователям с заказами будет соответствовать число заказов пользователя,\n",
    "# а пользователям без заказов — нули.\n",
    "sampleA = pd.concat([ordersByUsersA['orders'], pd.Series(0, index=np.arange(\n",
    "    data['visitorsPerDateA'].sum() - len(ordersByUsersA['orders'])), name='orders')], \n",
    "                    axis=0,\n",
    "                   )\n",
    "sampleB = pd.concat([ordersByUsersB['orders'], pd.Series(0, index=np.arange(\n",
    "                data['visitorsPerDateB'].sum() - len(ordersByUsersB['orders'])), name='orders')], \n",
    "                    axis=0,\n",
    "                   )"
   ]
  },
  {
   "cell_type": "markdown",
   "metadata": {},
   "source": [
    "- Посчитаем статистическую значимость различия конверсии между группами по «сырым» данным — без удаления аномальных пользователей. Применим тест Манна-Уитни.\n",
    "- Сформулируем гипотезы. Нулевая: различий в конверсии между группами нет. Альтернативная: различия в конверсии между группами есть. Критический уровень статистической значимости установим в **5%**, если p-value окажется меньше него - отвегнем гипотезу."
   ]
  },
  {
   "cell_type": "code",
   "execution_count": 25,
   "metadata": {},
   "outputs": [
    {
     "name": "stdout",
     "output_type": "stream",
     "text": [
      "P-value:  0.011\n",
      "Отвергаем нулевую гипотезу\n",
      "Относительный прирост конверсии группы B по «сырым» данным: 0.160\n"
     ]
    }
   ],
   "source": [
    "# критический уровень статистической значимости\n",
    "# если p-value окажется меньше него - отвегнем гипотезу\n",
    "alpha = .05\n",
    "\n",
    "# применим статистический критерий Манна-Уитни к полученным выборкам\n",
    "results = stats.mannwhitneyu(sampleA, sampleB, alternative='two-sided')[1]\n",
    "print('P-value: ', results.round(3))\n",
    "\n",
    "if results < alpha:\n",
    "    print('Отвергаем нулевую гипотезу')\n",
    "else:\n",
    "    print('Не получилось отвергнуть нулевую гипотезу')\n",
    "\n",
    "print('Относительный прирост конверсии группы B по «сырым» данным: {0:.3f}'.format(sampleB.mean() / sampleA.mean() - 1))"
   ]
  },
  {
   "cell_type": "markdown",
   "metadata": {},
   "source": [
    "*P-value значительно меньше 0.05 - мы отвергаем нулевую гипотезу. По анализу «сырых» данных видно, что в конверсии между группами есть статистически значимые различия. Относительный прирост конверсии группы B к конверсии группы A равен **16%**.*"
   ]
  },
  {
   "cell_type": "markdown",
   "metadata": {},
   "source": [
    "### Посчитаем статистическую значимость различий в среднем чеке заказа между группами по «сырым» данным."
   ]
  },
  {
   "cell_type": "markdown",
   "metadata": {},
   "source": [
    "- Посчитаем статистическую значимость различий в среднем чеке между группами по «сырым» данным — без удаления аномальных пользователей. Применим тест Манна-Уитни.\n",
    "- Нулевая гипотеза: различий в среднем чеке между группами нет. Альтернативная гипотеза: различия в среднем чеке между группами есть. Критический уровень статистической значимости установим в 5%, если p-value окажется меньше него - отвегнем гипотезу."
   ]
  },
  {
   "cell_type": "code",
   "execution_count": 26,
   "metadata": {},
   "outputs": [
    {
     "name": "stdout",
     "output_type": "stream",
     "text": [
      "P-value:  0.829\n",
      "Не получилось отвергнуть нулевую гипотезу\n",
      "Относительные различия в среднем чеке между группами по «сырым» данным: 0.287\n"
     ]
    }
   ],
   "source": [
    "# критический уровень статистической значимости\n",
    "# если p-value окажется меньше него - отвегнем гипотезу\n",
    "alpha = .05\n",
    "\n",
    "# применим статистический критерий Манна-Уитни к полученным выборкам\n",
    "results = stats.mannwhitneyu(orders[orders['group'] == 'A']['revenue'], \n",
    "                             orders[orders['group'] == 'B']['revenue'], \n",
    "                             alternative='two-sided')[1]\n",
    "print('P-value: ', results.round(3))\n",
    "\n",
    "if results < alpha:\n",
    "    print('Отвергаем нулевую гипотезу')\n",
    "else:\n",
    "    print('Не получилось отвергнуть нулевую гипотезу')\n",
    "\n",
    "print('Относительные различия в среднем чеке между группами по «сырым» данным: {0:.3f}'\n",
    "      .format(orders[orders['group'] == 'B']['revenue'].mean() / orders[orders['group'] == 'A']['revenue'].mean()-1)\n",
    "     ) "
   ]
  },
  {
   "cell_type": "markdown",
   "metadata": {},
   "source": [
    "*P-value значительно больше 0.05 - мы не можем отвергнуть нулевую гипотезу. Значит, в среднем чеке нет различий. \n",
    "Относительные различия в среднем чеке группы B выше среднего чека группы A на **28.7%**.*"
   ]
  },
  {
   "cell_type": "markdown",
   "metadata": {},
   "source": [
    "### Посчитаем статистическую значимость различий в конверсии между группами по «очищенным» данным."
   ]
  },
  {
   "cell_type": "markdown",
   "metadata": {},
   "source": [
    "- 95-й и 99-й перцентили количества заказов на пользователя: **1** и **2**\n",
    "- 95-й и 99-й перцентили стоимости заказов на пользователя: **26785** и **53904** рублей.\n",
    "\n",
    "Примем за аномальных пользователей тех, кто совершил больше **1** заказа или совершил заказ дороже **26785** рублей. Так мы уберём 5% пользователей с наибольшим числом заказов и от 1% до 5% пользователей с дорогими заказами. Сделаем срезы пользователей с числом заказов больше **1** - 'usersWithManyOrders' и пользователей, совершивших заказы дороже **26785** - 'usersWithExpensiveOrders'. Объединим их в таблице 'abnormalUsers'."
   ]
  },
  {
   "cell_type": "code",
   "execution_count": 27,
   "metadata": {},
   "outputs": [
    {
     "name": "stdout",
     "output_type": "stream",
     "text": [
      "Список аномальных пользователей:\n",
      "1099    148427295\n",
      "928     204675465\n",
      "33      249864742\n",
      "684     358944393\n",
      "648     382846391\n",
      "Name: visitor_id, dtype: int64\n",
      "\n",
      "Всего аномальных пользователей: 55\n"
     ]
    }
   ],
   "source": [
    "# срезы пользователей с числом заказов больше 2\n",
    "usersWithManyOrders = pd.concat(\n",
    "    [ordersByUsersA[ordersByUsersA['orders'] > 2]['visitor_id'], \n",
    "     ordersByUsersB[ordersByUsersB['orders'] > 2]['visitor_id']],\n",
    "    axis=0,\n",
    ")\n",
    "# срезы пользователей совершивших заказы дороже 28000 рублей\n",
    "usersWithExpensiveOrders = orders[orders['revenue'] > 28000]['visitor_id']\n",
    "\n",
    "# объединим данные\n",
    "abnormalUsers = (\n",
    "    pd.concat([usersWithManyOrders, usersWithExpensiveOrders], axis=0)\n",
    "    .drop_duplicates()\n",
    "    .sort_values()\n",
    ")\n",
    "\n",
    "print(f'Список аномальных пользователей:')\n",
    "print(abnormalUsers.head())\n",
    "print()\n",
    "print(f'Всего аномальных пользователей:', abnormalUsers.shape[0]) "
   ]
  },
  {
   "cell_type": "markdown",
   "metadata": {},
   "source": [
    "*У нас получилось, что 5% пользователей с самыми дорогими покупками и 5% пользователей совершивших более 1 заказа составляют **55** человек или **4.6%** от общего количества человек (1197) принимающих участие в тестировании.*"
   ]
  },
  {
   "cell_type": "markdown",
   "metadata": {},
   "source": [
    "Узнаем, как аномальные пользователи повлияли на результаты теста.\n",
    "- Посчитаем статистическую значимость различий в конверсии между группами теста по очищенным данным. Применим тест Манна-Уитни.\n",
    "- Сформулируем гипотезы. Нулевая: различий в конверсии между группами нет. Альтернативная: различия в конверсии между группами есть. Критический уровень статистической значимости установим в **5%**, если p-value окажется меньше него - отвегнем гипотезу."
   ]
  },
  {
   "cell_type": "code",
   "execution_count": 28,
   "metadata": {},
   "outputs": [
    {
     "name": "stdout",
     "output_type": "stream",
     "text": [
      "P-value:  0.009\n",
      "Отвергаем нулевую гипотезу\n",
      "Относительный прирост конверсии группы B по «очищенным» данным: 0.189\n"
     ]
    }
   ],
   "source": [
    "# подготовим выборки количества заказов по пользователям, по группам теста\n",
    "sampleAFiltered = pd.concat(\n",
    "    [ordersByUsersA[np.logical_not(ordersByUsersA['visitor_id'].isin(abnormalUsers))]['orders'],\n",
    "     pd.Series(0, index=np.arange(data['visitorsPerDateA'].sum() - len(ordersByUsersA['orders'])), name='orders')], axis=0)\n",
    "\n",
    "sampleBFiltered = pd.concat(\n",
    "    [ordersByUsersB[np.logical_not(ordersByUsersB['visitor_id'].isin(abnormalUsers))]['orders'], \n",
    "     pd.Series(0, index=np.arange(data['visitorsPerDateB'].sum() - len(ordersByUsersB['orders'])), name='orders')], axis=0)\n",
    "\n",
    "# критический уровень статистической значимости\n",
    "# если p-value окажется меньше него - отвегнем гипотезу\n",
    "alpha = .05\n",
    "\n",
    "# применим статистический критерий Манна-Уитни к полученным выборкам\n",
    "results = stats.mannwhitneyu(sampleAFiltered, sampleBFiltered, alternative='two-sided')[1]\n",
    "print('P-value: ', results.round(3))\n",
    "\n",
    "if results < alpha:\n",
    "    print('Отвергаем нулевую гипотезу')\n",
    "else:\n",
    "    print('Не получилось отвергнуть нулевую гипотезу')\n",
    "    \n",
    "print('Относительный прирост конверсии группы B по «очищенным» данным: {0:.3f}'\n",
    "      .format(sampleBFiltered.mean() / sampleAFiltered.mean() - 1)) "
   ]
  },
  {
   "cell_type": "markdown",
   "metadata": {},
   "source": [
    "- *P-value значительно меньше 0.05, потому нулевую гипотезу отвергаем: различия в конверсии между группами есть.*\n",
    "- *Статистическая значимость различий в конверсии по «очищенным» данным снизилась с **0.011** до **0.009**.*\n",
    "- *Относительные различия в конверсии между группами по «очищенным» данным увеличилась с **16%** до **18.9%**.*"
   ]
  },
  {
   "cell_type": "markdown",
   "metadata": {},
   "source": [
    "### Посчитаем статистическую значимость различий в среднем чеке заказа между группами по «очищенным» данным."
   ]
  },
  {
   "cell_type": "markdown",
   "metadata": {},
   "source": [
    "- Посчитаем статистическую значимость различий в среднем чеке между группами очищенным данным. Применим тест Манна-Уитни.\n",
    "- Нулевая гипотеза: различий в среднем чеке между группами нет. Альтернативная гипотеза: различия в среднем чеке между группами есть. Критический уровень статистической значимости установим в 5%, если p-value окажется меньше него - отвегнем гипотезу."
   ]
  },
  {
   "cell_type": "code",
   "execution_count": 29,
   "metadata": {},
   "outputs": [
    {
     "name": "stdout",
     "output_type": "stream",
     "text": [
      "P-value:  0.762\n",
      "Не получилось отвергнуть нулевую гипотезу\n",
      "Относительные различия в среднем чеке между группами по «очищенным» данным: -0.022\n"
     ]
    }
   ],
   "source": [
    "# критический уровень статистической значимости\n",
    "# если p-value окажется меньше него - отвегнем гипотезу\n",
    "alpha = .05\n",
    "\n",
    "results = stats.mannwhitneyu(\n",
    "    orders[np.logical_and(orders['group'] == 'A', \n",
    "                          np.logical_not(orders['visitor_id'].isin(abnormalUsers)))]['revenue'],\n",
    "    orders[np.logical_and(orders['group'] == 'B', \n",
    "                          np.logical_not(orders['visitor_id'].isin(abnormalUsers)))]['revenue'])[1]\n",
    "\n",
    "print('P-value: ', results.round(3))\n",
    "\n",
    "if results < alpha:\n",
    "    print('Отвергаем нулевую гипотезу')\n",
    "else:\n",
    "    print('Не получилось отвергнуть нулевую гипотезу')\n",
    "\n",
    "print('Относительные различия в среднем чеке между группами по «очищенным» данным: {0:.3f}'\n",
    "      .format(orders[np.logical_and(orders['group'] == 'B',\n",
    "                                    np.logical_not(orders['visitor_id'].isin(abnormalUsers)))]['revenue'].mean() / \n",
    "              orders[np.logical_and(orders['group'] == 'A',\n",
    "                                    np.logical_not(orders['visitor_id'].isin(abnormalUsers)))]['revenue'].mean() - 1)\n",
    ")"
   ]
  },
  {
   "cell_type": "markdown",
   "metadata": {},
   "source": [
    "- *P-value значительно больше 0.05. Значит, нельзя отвергать нулевую гипотезу и считать, что в среднем чеке есть различия.*\n",
    "- *Статистическая значимость различий в среднем чеке по «очищенным» данным сократились с **0.829** до **0.762**.*\n",
    "- *Относительные различия в среднем чеке между группами по «очищенным» данным сократились с **28.7%** до **2.2%** в пользу группы A. Таким образом различий в среднем чеке между группами по «очищенным» данным нет.*\n",
    "\n",
    "*Общие выводы по результатам теста не изменились, но мы видим как сильно аномалии повлияли на результаты A/B-теста.*"
   ]
  },
  {
   "cell_type": "markdown",
   "metadata": {},
   "source": [
    "### Примим решение по результатам теста."
   ]
  },
  {
   "cell_type": "markdown",
   "metadata": {},
   "source": [
    "Результаты теста:\n",
    "- Нет статистически значимого различия по конверсии между группами ни по «сырым», ни по данным после фильтрации аномалий;\n",
    "- Нет статистически значимого различия по среднему чеку между группами ни по «сырым», ни по данным после фильтрации аномалий;\n",
    "- График относительного изменения кумулятивной конверсии группы B к группе A показывает, что результаты группы B лучше группы A и нет тенденции к ухудшению;\n",
    "- График относительного изменения кумулятивного среднего чека группы B к группе A сильно колеблется вследствии аномалий, делать из этого графика определённые выводы нельзя;\n",
    "- Различия в среднем чеке между группами по «очищенным» данным составляют **2.2%**, то есть их практически нет.\n",
    "\n",
    "*Исходя из обнаруженных фактов, тест следует остановить, зафиксировать победу группы B.*"
   ]
  },
  {
   "cell_type": "markdown",
   "metadata": {},
   "source": [
    "## Общий вывод."
   ]
  },
  {
   "cell_type": "markdown",
   "metadata": {},
   "source": [
    "По результатам теста мы признаём победу группы B. Гипотезу под индексом **7**: «Добавить форму подписки на все основные страницы, чтобы собрать базу клиентов для email-рассылок», мы можем признать успешной."
   ]
  }
 ],
 "metadata": {
  "ExecuteTimeLog": [
   {
    "duration": 1750,
    "start_time": "2022-05-06T20:00:34.133Z"
   },
   {
    "duration": 75,
    "start_time": "2022-05-06T20:00:52.578Z"
   },
   {
    "duration": 71,
    "start_time": "2022-05-06T20:01:11.399Z"
   },
   {
    "duration": 71,
    "start_time": "2022-05-06T20:01:49.315Z"
   },
   {
    "duration": 77,
    "start_time": "2022-05-06T20:03:11.068Z"
   },
   {
    "duration": 6,
    "start_time": "2022-05-06T20:12:08.367Z"
   },
   {
    "duration": 76,
    "start_time": "2022-05-06T20:12:10.001Z"
   },
   {
    "duration": 66,
    "start_time": "2022-05-06T20:13:13.022Z"
   },
   {
    "duration": 67,
    "start_time": "2022-05-06T20:21:51.723Z"
   },
   {
    "duration": 13,
    "start_time": "2022-05-06T20:22:01.699Z"
   },
   {
    "duration": 16,
    "start_time": "2022-05-06T20:22:09.592Z"
   },
   {
    "duration": 13,
    "start_time": "2022-05-06T20:23:56.014Z"
   },
   {
    "duration": 13,
    "start_time": "2022-05-06T20:30:37.814Z"
   },
   {
    "duration": 57,
    "start_time": "2022-05-07T18:18:32.211Z"
   },
   {
    "duration": 1418,
    "start_time": "2022-05-07T18:18:46.188Z"
   },
   {
    "duration": 142,
    "start_time": "2022-05-07T18:18:48.677Z"
   },
   {
    "duration": 79,
    "start_time": "2022-05-07T18:19:30.537Z"
   },
   {
    "duration": 11,
    "start_time": "2022-05-07T18:20:28.409Z"
   },
   {
    "duration": 5,
    "start_time": "2022-05-07T18:40:01.176Z"
   },
   {
    "duration": 554,
    "start_time": "2022-05-07T18:40:02.725Z"
   },
   {
    "duration": 68,
    "start_time": "2022-05-07T18:40:21.695Z"
   },
   {
    "duration": 9,
    "start_time": "2022-05-07T18:40:28.800Z"
   },
   {
    "duration": 15,
    "start_time": "2022-05-07T18:40:45.541Z"
   },
   {
    "duration": 12,
    "start_time": "2022-05-07T18:41:02.453Z"
   },
   {
    "duration": 676,
    "start_time": "2022-05-07T18:41:23.321Z"
   },
   {
    "duration": 601,
    "start_time": "2022-05-07T18:42:58.994Z"
   },
   {
    "duration": 612,
    "start_time": "2022-05-07T18:43:37.027Z"
   },
   {
    "duration": 571,
    "start_time": "2022-05-07T18:45:24.475Z"
   },
   {
    "duration": 602,
    "start_time": "2022-05-07T18:45:40.643Z"
   },
   {
    "duration": 573,
    "start_time": "2022-05-07T18:49:06.253Z"
   },
   {
    "duration": 50,
    "start_time": "2022-05-07T18:55:37.788Z"
   },
   {
    "duration": 672,
    "start_time": "2022-05-07T19:02:02.425Z"
   },
   {
    "duration": 6,
    "start_time": "2022-05-07T19:06:17.698Z"
   },
   {
    "duration": 70,
    "start_time": "2022-05-07T19:06:17.707Z"
   },
   {
    "duration": 8,
    "start_time": "2022-05-07T19:06:17.779Z"
   },
   {
    "duration": 11,
    "start_time": "2022-05-07T19:06:17.869Z"
   },
   {
    "duration": 18,
    "start_time": "2022-05-07T19:06:17.882Z"
   },
   {
    "duration": 719,
    "start_time": "2022-05-07T19:06:17.902Z"
   },
   {
    "duration": 644,
    "start_time": "2022-05-07T19:10:38.032Z"
   },
   {
    "duration": 5,
    "start_time": "2022-05-07T19:10:47.351Z"
   },
   {
    "duration": 79,
    "start_time": "2022-05-07T19:10:47.359Z"
   },
   {
    "duration": 12,
    "start_time": "2022-05-07T19:10:47.440Z"
   },
   {
    "duration": 23,
    "start_time": "2022-05-07T19:10:47.454Z"
   },
   {
    "duration": 19,
    "start_time": "2022-05-07T19:10:47.479Z"
   },
   {
    "duration": 946,
    "start_time": "2022-05-07T19:10:47.500Z"
   },
   {
    "duration": 646,
    "start_time": "2022-05-07T19:11:10.498Z"
   },
   {
    "duration": 5,
    "start_time": "2022-05-07T19:11:25.656Z"
   },
   {
    "duration": 75,
    "start_time": "2022-05-07T19:11:25.664Z"
   },
   {
    "duration": 13,
    "start_time": "2022-05-07T19:11:25.741Z"
   },
   {
    "duration": 11,
    "start_time": "2022-05-07T19:11:25.757Z"
   },
   {
    "duration": 17,
    "start_time": "2022-05-07T19:11:25.770Z"
   },
   {
    "duration": 518,
    "start_time": "2022-05-07T19:11:25.788Z"
   },
   {
    "duration": 543,
    "start_time": "2022-05-07T19:18:13.494Z"
   },
   {
    "duration": 704,
    "start_time": "2022-05-07T19:18:25.240Z"
   },
   {
    "duration": 596,
    "start_time": "2022-05-07T19:18:36.788Z"
   },
   {
    "duration": 560,
    "start_time": "2022-05-07T19:19:46.421Z"
   },
   {
    "duration": 631,
    "start_time": "2022-05-07T19:34:04.743Z"
   },
   {
    "duration": 5,
    "start_time": "2022-05-07T19:34:15.077Z"
   },
   {
    "duration": 76,
    "start_time": "2022-05-07T19:34:15.085Z"
   },
   {
    "duration": 8,
    "start_time": "2022-05-07T19:34:15.163Z"
   },
   {
    "duration": 26,
    "start_time": "2022-05-07T19:34:15.173Z"
   },
   {
    "duration": 24,
    "start_time": "2022-05-07T19:34:15.201Z"
   },
   {
    "duration": 46,
    "start_time": "2022-05-07T19:34:15.227Z"
   },
   {
    "duration": 656,
    "start_time": "2022-05-07T19:36:02.358Z"
   },
   {
    "duration": 584,
    "start_time": "2022-05-07T19:36:50.187Z"
   },
   {
    "duration": 585,
    "start_time": "2022-05-07T19:46:53.401Z"
   },
   {
    "duration": 576,
    "start_time": "2022-05-07T19:51:10.757Z"
   },
   {
    "duration": 21,
    "start_time": "2022-05-07T19:52:58.248Z"
   },
   {
    "duration": 571,
    "start_time": "2022-05-07T19:58:34.770Z"
   },
   {
    "duration": 570,
    "start_time": "2022-05-07T19:58:54.164Z"
   },
   {
    "duration": 6,
    "start_time": "2022-05-07T19:59:00.011Z"
   },
   {
    "duration": 93,
    "start_time": "2022-05-07T19:59:00.020Z"
   },
   {
    "duration": 11,
    "start_time": "2022-05-07T19:59:00.116Z"
   },
   {
    "duration": 13,
    "start_time": "2022-05-07T19:59:00.129Z"
   },
   {
    "duration": 14,
    "start_time": "2022-05-07T19:59:00.144Z"
   },
   {
    "duration": 810,
    "start_time": "2022-05-07T19:59:00.160Z"
   },
   {
    "duration": 550,
    "start_time": "2022-05-07T20:02:37.118Z"
   },
   {
    "duration": 4,
    "start_time": "2022-05-07T20:02:41.424Z"
   },
   {
    "duration": 83,
    "start_time": "2022-05-07T20:02:41.431Z"
   },
   {
    "duration": 10,
    "start_time": "2022-05-07T20:02:41.517Z"
   },
   {
    "duration": 13,
    "start_time": "2022-05-07T20:02:41.530Z"
   },
   {
    "duration": 20,
    "start_time": "2022-05-07T20:02:41.545Z"
   },
   {
    "duration": 719,
    "start_time": "2022-05-07T20:02:41.567Z"
   },
   {
    "duration": 6,
    "start_time": "2022-05-07T20:02:58.528Z"
   },
   {
    "duration": 89,
    "start_time": "2022-05-07T20:02:58.536Z"
   },
   {
    "duration": 12,
    "start_time": "2022-05-07T20:02:58.627Z"
   },
   {
    "duration": 10,
    "start_time": "2022-05-07T20:02:58.641Z"
   },
   {
    "duration": 13,
    "start_time": "2022-05-07T20:02:58.652Z"
   },
   {
    "duration": 497,
    "start_time": "2022-05-07T20:02:58.666Z"
   },
   {
    "duration": 135,
    "start_time": "2022-05-07T20:11:21.012Z"
   },
   {
    "duration": 593,
    "start_time": "2022-05-07T20:13:03.810Z"
   },
   {
    "duration": 5,
    "start_time": "2022-05-07T20:13:14.131Z"
   },
   {
    "duration": 76,
    "start_time": "2022-05-07T20:13:14.139Z"
   },
   {
    "duration": 10,
    "start_time": "2022-05-07T20:13:14.218Z"
   },
   {
    "duration": 13,
    "start_time": "2022-05-07T20:13:14.230Z"
   },
   {
    "duration": 15,
    "start_time": "2022-05-07T20:13:14.247Z"
   },
   {
    "duration": 19,
    "start_time": "2022-05-07T20:13:14.264Z"
   },
   {
    "duration": 507,
    "start_time": "2022-05-07T20:13:14.284Z"
   },
   {
    "duration": 573,
    "start_time": "2022-05-07T20:13:29.881Z"
   },
   {
    "duration": 492,
    "start_time": "2022-05-07T20:13:52.643Z"
   },
   {
    "duration": 6,
    "start_time": "2022-05-07T20:39:00.304Z"
   },
   {
    "duration": 89,
    "start_time": "2022-05-07T20:39:00.312Z"
   },
   {
    "duration": 8,
    "start_time": "2022-05-07T20:39:00.402Z"
   },
   {
    "duration": 30,
    "start_time": "2022-05-07T20:39:00.412Z"
   },
   {
    "duration": 43,
    "start_time": "2022-05-07T20:39:00.443Z"
   },
   {
    "duration": 39,
    "start_time": "2022-05-07T20:39:00.488Z"
   },
   {
    "duration": 514,
    "start_time": "2022-05-07T20:39:00.528Z"
   },
   {
    "duration": 860,
    "start_time": "2022-05-07T20:39:01.044Z"
   },
   {
    "duration": 615,
    "start_time": "2022-05-07T20:44:03.558Z"
   },
   {
    "duration": 30,
    "start_time": "2022-05-07T20:49:07.138Z"
   },
   {
    "duration": 6,
    "start_time": "2022-05-07T20:49:11.440Z"
   },
   {
    "duration": 83,
    "start_time": "2022-05-07T20:49:11.448Z"
   },
   {
    "duration": 8,
    "start_time": "2022-05-07T20:49:11.532Z"
   },
   {
    "duration": 21,
    "start_time": "2022-05-07T20:49:11.542Z"
   },
   {
    "duration": 17,
    "start_time": "2022-05-07T20:49:11.565Z"
   },
   {
    "duration": 25,
    "start_time": "2022-05-07T20:49:11.584Z"
   },
   {
    "duration": 512,
    "start_time": "2022-05-07T20:49:11.611Z"
   },
   {
    "duration": 654,
    "start_time": "2022-05-07T20:49:12.125Z"
   },
   {
    "duration": 616,
    "start_time": "2022-05-07T20:49:45.130Z"
   },
   {
    "duration": 5,
    "start_time": "2022-05-07T20:51:28.061Z"
   },
   {
    "duration": 72,
    "start_time": "2022-05-07T20:51:28.067Z"
   },
   {
    "duration": 8,
    "start_time": "2022-05-07T20:51:28.140Z"
   },
   {
    "duration": 10,
    "start_time": "2022-05-07T20:51:28.151Z"
   },
   {
    "duration": 12,
    "start_time": "2022-05-07T20:51:28.163Z"
   },
   {
    "duration": 20,
    "start_time": "2022-05-07T20:51:28.176Z"
   },
   {
    "duration": 491,
    "start_time": "2022-05-07T20:51:28.198Z"
   },
   {
    "duration": 690,
    "start_time": "2022-05-07T20:51:28.691Z"
   },
   {
    "duration": 502,
    "start_time": "2022-05-07T21:00:21.923Z"
   },
   {
    "duration": 311,
    "start_time": "2022-05-07T21:04:07.386Z"
   },
   {
    "duration": 298,
    "start_time": "2022-05-07T21:04:10.410Z"
   },
   {
    "duration": 346,
    "start_time": "2022-05-07T21:04:31.250Z"
   },
   {
    "duration": 272,
    "start_time": "2022-05-07T21:05:53.264Z"
   },
   {
    "duration": 186,
    "start_time": "2022-05-07T21:06:55.108Z"
   },
   {
    "duration": 298,
    "start_time": "2022-05-07T21:08:15.668Z"
   },
   {
    "duration": 195,
    "start_time": "2022-05-07T21:12:22.137Z"
   },
   {
    "duration": 12,
    "start_time": "2022-05-07T21:16:12.675Z"
   },
   {
    "duration": 6,
    "start_time": "2022-05-07T21:16:35.131Z"
   },
   {
    "duration": 253,
    "start_time": "2022-05-07T21:17:16.492Z"
   },
   {
    "duration": 5,
    "start_time": "2022-05-07T21:19:19.918Z"
   },
   {
    "duration": 188,
    "start_time": "2022-05-07T21:19:24.399Z"
   },
   {
    "duration": 312,
    "start_time": "2022-05-07T21:30:52.927Z"
   },
   {
    "duration": 15,
    "start_time": "2022-05-07T21:36:14.115Z"
   },
   {
    "duration": 242,
    "start_time": "2022-05-07T21:37:54.953Z"
   },
   {
    "duration": 133,
    "start_time": "2022-05-07T21:38:42.633Z"
   },
   {
    "duration": 146,
    "start_time": "2022-05-07T21:40:03.079Z"
   },
   {
    "duration": 128,
    "start_time": "2022-05-07T21:40:16.196Z"
   },
   {
    "duration": 135,
    "start_time": "2022-05-07T21:43:56.152Z"
   },
   {
    "duration": 135,
    "start_time": "2022-05-07T21:44:11.908Z"
   },
   {
    "duration": 130,
    "start_time": "2022-05-07T21:44:34.711Z"
   },
   {
    "duration": 5,
    "start_time": "2022-05-07T21:45:08.316Z"
   },
   {
    "duration": 4,
    "start_time": "2022-05-07T21:45:22.699Z"
   },
   {
    "duration": 5,
    "start_time": "2022-05-07T21:46:20.281Z"
   },
   {
    "duration": 8,
    "start_time": "2022-05-07T21:48:02.957Z"
   },
   {
    "duration": 5,
    "start_time": "2022-05-07T21:48:17.738Z"
   },
   {
    "duration": 5,
    "start_time": "2022-05-07T21:49:12.579Z"
   },
   {
    "duration": 4,
    "start_time": "2022-05-07T21:49:32.641Z"
   },
   {
    "duration": 140,
    "start_time": "2022-05-07T21:54:07.279Z"
   },
   {
    "duration": 5,
    "start_time": "2022-05-07T21:56:05.242Z"
   },
   {
    "duration": 5,
    "start_time": "2022-05-07T21:57:47.877Z"
   },
   {
    "duration": 188,
    "start_time": "2022-05-07T21:58:18.624Z"
   },
   {
    "duration": 2414,
    "start_time": "2022-05-07T22:01:54.462Z"
   },
   {
    "duration": 6,
    "start_time": "2022-05-07T22:02:27.125Z"
   },
   {
    "duration": 143,
    "start_time": "2022-05-07T22:06:28.133Z"
   },
   {
    "duration": 147,
    "start_time": "2022-05-07T22:07:12.327Z"
   },
   {
    "duration": 148,
    "start_time": "2022-05-07T22:07:38.171Z"
   },
   {
    "duration": 110,
    "start_time": "2022-05-07T22:13:12.565Z"
   },
   {
    "duration": 333,
    "start_time": "2022-05-07T22:17:18.646Z"
   },
   {
    "duration": 349,
    "start_time": "2022-05-07T22:18:16.168Z"
   },
   {
    "duration": 358,
    "start_time": "2022-05-07T22:25:49.948Z"
   },
   {
    "duration": 361,
    "start_time": "2022-05-07T22:30:40.212Z"
   },
   {
    "duration": 1383,
    "start_time": "2022-05-08T15:18:30.125Z"
   },
   {
    "duration": 117,
    "start_time": "2022-05-08T15:18:31.510Z"
   },
   {
    "duration": 10,
    "start_time": "2022-05-08T15:18:31.629Z"
   },
   {
    "duration": 35,
    "start_time": "2022-05-08T15:18:31.641Z"
   },
   {
    "duration": 24,
    "start_time": "2022-05-08T15:18:31.678Z"
   },
   {
    "duration": 34,
    "start_time": "2022-05-08T15:18:31.703Z"
   },
   {
    "duration": 324,
    "start_time": "2022-05-08T15:18:31.738Z"
   },
   {
    "duration": 307,
    "start_time": "2022-05-08T15:18:32.064Z"
   },
   {
    "duration": 221,
    "start_time": "2022-05-08T15:18:32.372Z"
   },
   {
    "duration": 373,
    "start_time": "2022-05-08T15:18:32.596Z"
   },
   {
    "duration": 5,
    "start_time": "2022-05-08T15:18:32.970Z"
   },
   {
    "duration": 206,
    "start_time": "2022-05-08T15:18:32.976Z"
   },
   {
    "duration": 336,
    "start_time": "2022-05-08T15:18:33.184Z"
   },
   {
    "duration": 144,
    "start_time": "2022-05-08T15:18:33.522Z"
   },
   {
    "duration": 5,
    "start_time": "2022-05-08T15:18:33.667Z"
   },
   {
    "duration": 179,
    "start_time": "2022-05-08T15:18:33.673Z"
   },
   {
    "duration": 4,
    "start_time": "2022-05-08T15:18:33.854Z"
   },
   {
    "duration": 402,
    "start_time": "2022-05-08T15:18:33.860Z"
   },
   {
    "duration": 240,
    "start_time": "2022-05-08T15:23:42.773Z"
   },
   {
    "duration": 229,
    "start_time": "2022-05-08T15:24:02.795Z"
   },
   {
    "duration": 175,
    "start_time": "2022-05-08T15:25:13.610Z"
   },
   {
    "duration": 160,
    "start_time": "2022-05-08T15:33:36.641Z"
   },
   {
    "duration": 101,
    "start_time": "2022-05-08T15:51:31.130Z"
   },
   {
    "duration": 155,
    "start_time": "2022-05-08T15:52:24.290Z"
   },
   {
    "duration": 5,
    "start_time": "2022-05-08T15:55:10.562Z"
   },
   {
    "duration": 100,
    "start_time": "2022-05-08T15:55:10.569Z"
   },
   {
    "duration": 9,
    "start_time": "2022-05-08T15:55:10.671Z"
   },
   {
    "duration": 11,
    "start_time": "2022-05-08T15:55:10.682Z"
   },
   {
    "duration": 37,
    "start_time": "2022-05-08T15:55:10.695Z"
   },
   {
    "duration": 20,
    "start_time": "2022-05-08T15:55:10.734Z"
   },
   {
    "duration": 405,
    "start_time": "2022-05-08T15:55:10.756Z"
   },
   {
    "duration": 221,
    "start_time": "2022-05-08T15:55:11.163Z"
   },
   {
    "duration": 212,
    "start_time": "2022-05-08T15:55:11.386Z"
   },
   {
    "duration": 334,
    "start_time": "2022-05-08T15:55:11.600Z"
   },
   {
    "duration": 5,
    "start_time": "2022-05-08T15:55:11.936Z"
   },
   {
    "duration": 196,
    "start_time": "2022-05-08T15:55:11.943Z"
   },
   {
    "duration": 304,
    "start_time": "2022-05-08T15:55:12.141Z"
   },
   {
    "duration": 151,
    "start_time": "2022-05-08T15:55:12.448Z"
   },
   {
    "duration": 5,
    "start_time": "2022-05-08T15:55:12.601Z"
   },
   {
    "duration": 171,
    "start_time": "2022-05-08T15:55:12.608Z"
   },
   {
    "duration": 6,
    "start_time": "2022-05-08T15:55:12.781Z"
   },
   {
    "duration": 268,
    "start_time": "2022-05-08T15:55:12.789Z"
   },
   {
    "duration": 181,
    "start_time": "2022-05-08T15:55:13.059Z"
   },
   {
    "duration": 805,
    "start_time": "2022-05-08T15:56:07.237Z"
   },
   {
    "duration": 227,
    "start_time": "2022-05-08T15:56:51.476Z"
   },
   {
    "duration": 182,
    "start_time": "2022-05-08T16:04:03.070Z"
   },
   {
    "duration": 159,
    "start_time": "2022-05-08T16:08:55.919Z"
   },
   {
    "duration": 170,
    "start_time": "2022-05-08T16:09:04.896Z"
   },
   {
    "duration": 12,
    "start_time": "2022-05-08T16:09:14.490Z"
   },
   {
    "duration": 148,
    "start_time": "2022-05-08T16:17:15.632Z"
   },
   {
    "duration": 24,
    "start_time": "2022-05-08T16:23:25.789Z"
   },
   {
    "duration": 12,
    "start_time": "2022-05-08T16:29:20.355Z"
   },
   {
    "duration": 144,
    "start_time": "2022-05-08T16:50:21.670Z"
   },
   {
    "duration": 111,
    "start_time": "2022-05-08T16:56:18.489Z"
   },
   {
    "duration": 102,
    "start_time": "2022-05-08T17:00:22.583Z"
   },
   {
    "duration": 216,
    "start_time": "2022-05-08T17:01:45.391Z"
   },
   {
    "duration": 121,
    "start_time": "2022-05-08T17:02:55.767Z"
   },
   {
    "duration": 111,
    "start_time": "2022-05-08T17:03:59.667Z"
   },
   {
    "duration": 134,
    "start_time": "2022-05-08T17:05:30.587Z"
   },
   {
    "duration": 134,
    "start_time": "2022-05-08T17:05:50.930Z"
   },
   {
    "duration": 3097,
    "start_time": "2022-05-08T17:09:31.335Z"
   },
   {
    "duration": 3135,
    "start_time": "2022-05-08T17:11:16.583Z"
   },
   {
    "duration": 116,
    "start_time": "2022-05-08T17:11:33.889Z"
   },
   {
    "duration": 10,
    "start_time": "2022-05-08T17:12:36.045Z"
   },
   {
    "duration": 9,
    "start_time": "2022-05-08T17:14:55.914Z"
   },
   {
    "duration": 10,
    "start_time": "2022-05-08T17:17:12.959Z"
   },
   {
    "duration": 187,
    "start_time": "2022-05-08T17:17:59.368Z"
   },
   {
    "duration": 191,
    "start_time": "2022-05-08T17:18:54.792Z"
   },
   {
    "duration": 201,
    "start_time": "2022-05-08T17:21:01.882Z"
   },
   {
    "duration": 191,
    "start_time": "2022-05-08T17:21:22.434Z"
   },
   {
    "duration": 9,
    "start_time": "2022-05-08T17:21:27.591Z"
   },
   {
    "duration": 10,
    "start_time": "2022-05-08T17:21:55.758Z"
   },
   {
    "duration": 10,
    "start_time": "2022-05-08T17:22:27.691Z"
   },
   {
    "duration": 18,
    "start_time": "2022-05-08T17:36:14.410Z"
   },
   {
    "duration": 29,
    "start_time": "2022-05-08T17:36:28.180Z"
   },
   {
    "duration": 25,
    "start_time": "2022-05-08T17:40:14.607Z"
   },
   {
    "duration": 29,
    "start_time": "2022-05-08T17:44:07.971Z"
   },
   {
    "duration": 14,
    "start_time": "2022-05-08T17:52:06.166Z"
   },
   {
    "duration": 15,
    "start_time": "2022-05-08T17:52:18.430Z"
   },
   {
    "duration": 24,
    "start_time": "2022-05-08T18:40:40.414Z"
   },
   {
    "duration": 11,
    "start_time": "2022-05-08T18:41:34.893Z"
   },
   {
    "duration": 27,
    "start_time": "2022-05-08T18:42:29.350Z"
   },
   {
    "duration": 14,
    "start_time": "2022-05-08T18:45:05.307Z"
   },
   {
    "duration": 787,
    "start_time": "2022-05-08T18:57:20.839Z"
   },
   {
    "duration": 5,
    "start_time": "2022-05-08T18:57:25.290Z"
   },
   {
    "duration": 108,
    "start_time": "2022-05-08T18:57:25.297Z"
   },
   {
    "duration": 8,
    "start_time": "2022-05-08T18:57:25.407Z"
   },
   {
    "duration": 15,
    "start_time": "2022-05-08T18:57:25.418Z"
   },
   {
    "duration": 14,
    "start_time": "2022-05-08T18:57:25.435Z"
   },
   {
    "duration": 29,
    "start_time": "2022-05-08T18:57:25.451Z"
   },
   {
    "duration": 5,
    "start_time": "2022-05-08T18:57:37.010Z"
   },
   {
    "duration": 96,
    "start_time": "2022-05-08T18:57:37.018Z"
   },
   {
    "duration": 8,
    "start_time": "2022-05-08T18:57:37.115Z"
   },
   {
    "duration": 9,
    "start_time": "2022-05-08T18:57:37.125Z"
   },
   {
    "duration": 12,
    "start_time": "2022-05-08T18:57:37.136Z"
   },
   {
    "duration": 24,
    "start_time": "2022-05-08T18:57:47.895Z"
   },
   {
    "duration": 323,
    "start_time": "2022-05-08T18:58:05.818Z"
   },
   {
    "duration": 5,
    "start_time": "2022-05-08T19:04:47.659Z"
   },
   {
    "duration": 109,
    "start_time": "2022-05-08T19:04:47.666Z"
   },
   {
    "duration": 8,
    "start_time": "2022-05-08T19:04:47.777Z"
   },
   {
    "duration": 4,
    "start_time": "2022-05-08T19:04:47.788Z"
   },
   {
    "duration": 18,
    "start_time": "2022-05-08T19:04:47.794Z"
   },
   {
    "duration": 15,
    "start_time": "2022-05-08T19:04:47.814Z"
   },
   {
    "duration": 25,
    "start_time": "2022-05-08T19:04:47.832Z"
   },
   {
    "duration": 319,
    "start_time": "2022-05-08T19:04:47.858Z"
   },
   {
    "duration": 207,
    "start_time": "2022-05-08T19:04:48.179Z"
   },
   {
    "duration": 183,
    "start_time": "2022-05-08T19:04:48.389Z"
   },
   {
    "duration": 304,
    "start_time": "2022-05-08T19:04:48.574Z"
   },
   {
    "duration": 6,
    "start_time": "2022-05-08T19:04:48.880Z"
   },
   {
    "duration": 178,
    "start_time": "2022-05-08T19:04:48.888Z"
   },
   {
    "duration": 372,
    "start_time": "2022-05-08T19:04:49.068Z"
   },
   {
    "duration": 133,
    "start_time": "2022-05-08T19:04:49.442Z"
   },
   {
    "duration": 5,
    "start_time": "2022-05-08T19:04:49.577Z"
   },
   {
    "duration": 154,
    "start_time": "2022-05-08T19:04:49.583Z"
   },
   {
    "duration": 4,
    "start_time": "2022-05-08T19:04:49.739Z"
   },
   {
    "duration": 227,
    "start_time": "2022-05-08T19:04:49.745Z"
   },
   {
    "duration": 140,
    "start_time": "2022-05-08T19:04:49.974Z"
   },
   {
    "duration": 28,
    "start_time": "2022-05-08T19:04:50.116Z"
   },
   {
    "duration": 12,
    "start_time": "2022-05-08T19:04:50.147Z"
   },
   {
    "duration": 12,
    "start_time": "2022-05-08T19:04:50.162Z"
   },
   {
    "duration": 58,
    "start_time": "2022-05-08T19:04:50.176Z"
   },
   {
    "duration": 15,
    "start_time": "2022-05-08T19:04:50.235Z"
   },
   {
    "duration": 305,
    "start_time": "2022-05-08T19:06:12.120Z"
   },
   {
    "duration": 221,
    "start_time": "2022-05-08T19:08:31.356Z"
   },
   {
    "duration": 97,
    "start_time": "2022-05-08T19:11:08.114Z"
   },
   {
    "duration": 203,
    "start_time": "2022-05-08T19:11:18.727Z"
   },
   {
    "duration": 199,
    "start_time": "2022-05-08T19:14:49.633Z"
   },
   {
    "duration": 15,
    "start_time": "2022-05-08T19:20:02.352Z"
   },
   {
    "duration": 185,
    "start_time": "2022-05-08T19:21:26.533Z"
   },
   {
    "duration": 194,
    "start_time": "2022-05-08T19:21:53.631Z"
   },
   {
    "duration": 200,
    "start_time": "2022-05-08T19:23:34.177Z"
   },
   {
    "duration": 17,
    "start_time": "2022-05-08T19:24:16.175Z"
   },
   {
    "duration": 205,
    "start_time": "2022-05-08T19:24:47.817Z"
   },
   {
    "duration": 21,
    "start_time": "2022-05-08T19:25:04.207Z"
   },
   {
    "duration": 18,
    "start_time": "2022-05-08T19:25:26.921Z"
   },
   {
    "duration": 198,
    "start_time": "2022-05-08T19:26:04.840Z"
   },
   {
    "duration": 309,
    "start_time": "2022-05-08T19:27:56.764Z"
   },
   {
    "duration": 203,
    "start_time": "2022-05-08T19:28:10.654Z"
   },
   {
    "duration": 190,
    "start_time": "2022-05-08T19:38:52.735Z"
   },
   {
    "duration": 185,
    "start_time": "2022-05-08T19:39:04.600Z"
   },
   {
    "duration": 372,
    "start_time": "2022-05-08T19:39:21.037Z"
   },
   {
    "duration": 185,
    "start_time": "2022-05-08T19:39:39.351Z"
   },
   {
    "duration": 191,
    "start_time": "2022-05-08T19:40:00.491Z"
   },
   {
    "duration": 206,
    "start_time": "2022-05-08T19:40:16.681Z"
   },
   {
    "duration": 210,
    "start_time": "2022-05-08T19:40:25.520Z"
   },
   {
    "duration": 180,
    "start_time": "2022-05-08T19:40:32.592Z"
   },
   {
    "duration": 10,
    "start_time": "2022-05-08T19:48:51.480Z"
   },
   {
    "duration": 20,
    "start_time": "2022-05-08T19:49:20.160Z"
   },
   {
    "duration": 22,
    "start_time": "2022-05-08T19:50:51.903Z"
   },
   {
    "duration": 17,
    "start_time": "2022-05-08T19:58:03.402Z"
   },
   {
    "duration": 11,
    "start_time": "2022-05-08T19:58:35.807Z"
   },
   {
    "duration": 13,
    "start_time": "2022-05-08T20:00:53.515Z"
   },
   {
    "duration": 99,
    "start_time": "2022-05-08T20:02:09.658Z"
   },
   {
    "duration": 99,
    "start_time": "2022-05-08T20:03:08.412Z"
   },
   {
    "duration": 101,
    "start_time": "2022-05-08T20:03:30.142Z"
   },
   {
    "duration": 1234,
    "start_time": "2022-05-08T20:04:09.887Z"
   },
   {
    "duration": 105,
    "start_time": "2022-05-08T20:04:11.124Z"
   },
   {
    "duration": 19,
    "start_time": "2022-05-08T20:04:11.230Z"
   },
   {
    "duration": 12,
    "start_time": "2022-05-08T20:04:11.251Z"
   },
   {
    "duration": 11,
    "start_time": "2022-05-08T20:04:11.264Z"
   },
   {
    "duration": 53,
    "start_time": "2022-05-08T20:04:11.276Z"
   },
   {
    "duration": 130,
    "start_time": "2022-05-08T20:04:11.331Z"
   },
   {
    "duration": 0,
    "start_time": "2022-05-08T20:04:11.464Z"
   },
   {
    "duration": 0,
    "start_time": "2022-05-08T20:04:11.465Z"
   },
   {
    "duration": 0,
    "start_time": "2022-05-08T20:04:11.466Z"
   },
   {
    "duration": 0,
    "start_time": "2022-05-08T20:04:11.467Z"
   },
   {
    "duration": 0,
    "start_time": "2022-05-08T20:04:11.467Z"
   },
   {
    "duration": 0,
    "start_time": "2022-05-08T20:04:11.468Z"
   },
   {
    "duration": 0,
    "start_time": "2022-05-08T20:04:11.469Z"
   },
   {
    "duration": 0,
    "start_time": "2022-05-08T20:04:11.470Z"
   },
   {
    "duration": 0,
    "start_time": "2022-05-08T20:04:11.471Z"
   },
   {
    "duration": 0,
    "start_time": "2022-05-08T20:04:11.472Z"
   },
   {
    "duration": 0,
    "start_time": "2022-05-08T20:04:11.473Z"
   },
   {
    "duration": 0,
    "start_time": "2022-05-08T20:04:11.474Z"
   },
   {
    "duration": 0,
    "start_time": "2022-05-08T20:04:11.476Z"
   },
   {
    "duration": 0,
    "start_time": "2022-05-08T20:04:11.476Z"
   },
   {
    "duration": 0,
    "start_time": "2022-05-08T20:04:11.478Z"
   },
   {
    "duration": 0,
    "start_time": "2022-05-08T20:04:11.479Z"
   },
   {
    "duration": 0,
    "start_time": "2022-05-08T20:04:11.480Z"
   },
   {
    "duration": 328,
    "start_time": "2022-05-08T20:05:12.863Z"
   },
   {
    "duration": 5,
    "start_time": "2022-05-08T20:05:19.439Z"
   },
   {
    "duration": 100,
    "start_time": "2022-05-08T20:05:19.446Z"
   },
   {
    "duration": 24,
    "start_time": "2022-05-08T20:05:19.547Z"
   },
   {
    "duration": 13,
    "start_time": "2022-05-08T20:05:19.573Z"
   },
   {
    "duration": 41,
    "start_time": "2022-05-08T20:05:19.589Z"
   },
   {
    "duration": 23,
    "start_time": "2022-05-08T20:05:19.632Z"
   },
   {
    "duration": 330,
    "start_time": "2022-05-08T20:05:19.657Z"
   },
   {
    "duration": 290,
    "start_time": "2022-05-08T20:05:19.989Z"
   },
   {
    "duration": 208,
    "start_time": "2022-05-08T20:05:20.281Z"
   },
   {
    "duration": 349,
    "start_time": "2022-05-08T20:05:20.491Z"
   },
   {
    "duration": 5,
    "start_time": "2022-05-08T20:05:20.842Z"
   },
   {
    "duration": 197,
    "start_time": "2022-05-08T20:05:20.849Z"
   },
   {
    "duration": 290,
    "start_time": "2022-05-08T20:05:21.048Z"
   },
   {
    "duration": 16,
    "start_time": "2022-05-08T20:05:21.341Z"
   },
   {
    "duration": 0,
    "start_time": "2022-05-08T20:05:21.359Z"
   },
   {
    "duration": 0,
    "start_time": "2022-05-08T20:05:21.361Z"
   },
   {
    "duration": 0,
    "start_time": "2022-05-08T20:05:21.361Z"
   },
   {
    "duration": 0,
    "start_time": "2022-05-08T20:05:21.362Z"
   },
   {
    "duration": 0,
    "start_time": "2022-05-08T20:05:21.363Z"
   },
   {
    "duration": 0,
    "start_time": "2022-05-08T20:05:21.364Z"
   },
   {
    "duration": 0,
    "start_time": "2022-05-08T20:05:21.366Z"
   },
   {
    "duration": 0,
    "start_time": "2022-05-08T20:05:21.367Z"
   },
   {
    "duration": 0,
    "start_time": "2022-05-08T20:05:21.368Z"
   },
   {
    "duration": 0,
    "start_time": "2022-05-08T20:05:21.369Z"
   },
   {
    "duration": 252,
    "start_time": "2022-05-08T20:06:14.627Z"
   },
   {
    "duration": 5,
    "start_time": "2022-05-08T20:06:30.322Z"
   },
   {
    "duration": 110,
    "start_time": "2022-05-08T20:06:30.329Z"
   },
   {
    "duration": 18,
    "start_time": "2022-05-08T20:06:30.441Z"
   },
   {
    "duration": 10,
    "start_time": "2022-05-08T20:06:30.462Z"
   },
   {
    "duration": 25,
    "start_time": "2022-05-08T20:06:30.474Z"
   },
   {
    "duration": 37,
    "start_time": "2022-05-08T20:06:30.501Z"
   },
   {
    "duration": 310,
    "start_time": "2022-05-08T20:06:30.539Z"
   },
   {
    "duration": 204,
    "start_time": "2022-05-08T20:06:30.851Z"
   },
   {
    "duration": 196,
    "start_time": "2022-05-08T20:06:31.057Z"
   },
   {
    "duration": 389,
    "start_time": "2022-05-08T20:06:31.256Z"
   },
   {
    "duration": 5,
    "start_time": "2022-05-08T20:06:31.647Z"
   },
   {
    "duration": 182,
    "start_time": "2022-05-08T20:06:31.653Z"
   },
   {
    "duration": 301,
    "start_time": "2022-05-08T20:06:31.837Z"
   },
   {
    "duration": 129,
    "start_time": "2022-05-08T20:06:32.139Z"
   },
   {
    "duration": 5,
    "start_time": "2022-05-08T20:06:32.270Z"
   },
   {
    "duration": 147,
    "start_time": "2022-05-08T20:06:32.277Z"
   },
   {
    "duration": 6,
    "start_time": "2022-05-08T20:06:32.426Z"
   },
   {
    "duration": 235,
    "start_time": "2022-05-08T20:06:32.434Z"
   },
   {
    "duration": 16,
    "start_time": "2022-05-08T20:06:32.672Z"
   },
   {
    "duration": 0,
    "start_time": "2022-05-08T20:06:32.690Z"
   },
   {
    "duration": 0,
    "start_time": "2022-05-08T20:06:32.691Z"
   },
   {
    "duration": 0,
    "start_time": "2022-05-08T20:06:32.693Z"
   },
   {
    "duration": 0,
    "start_time": "2022-05-08T20:06:32.694Z"
   },
   {
    "duration": 0,
    "start_time": "2022-05-08T20:06:32.696Z"
   },
   {
    "duration": 6,
    "start_time": "2022-05-08T20:07:00.007Z"
   },
   {
    "duration": 106,
    "start_time": "2022-05-08T20:07:00.015Z"
   },
   {
    "duration": 18,
    "start_time": "2022-05-08T20:07:00.123Z"
   },
   {
    "duration": 13,
    "start_time": "2022-05-08T20:07:00.143Z"
   },
   {
    "duration": 13,
    "start_time": "2022-05-08T20:07:00.158Z"
   },
   {
    "duration": 52,
    "start_time": "2022-05-08T20:07:00.172Z"
   },
   {
    "duration": 328,
    "start_time": "2022-05-08T20:07:00.225Z"
   },
   {
    "duration": 205,
    "start_time": "2022-05-08T20:07:00.555Z"
   },
   {
    "duration": 187,
    "start_time": "2022-05-08T20:07:00.762Z"
   },
   {
    "duration": 283,
    "start_time": "2022-05-08T20:07:00.952Z"
   },
   {
    "duration": 5,
    "start_time": "2022-05-08T20:07:01.236Z"
   },
   {
    "duration": 188,
    "start_time": "2022-05-08T20:07:01.243Z"
   },
   {
    "duration": 292,
    "start_time": "2022-05-08T20:07:01.433Z"
   },
   {
    "duration": 202,
    "start_time": "2022-05-08T20:07:01.727Z"
   },
   {
    "duration": 5,
    "start_time": "2022-05-08T20:07:01.931Z"
   },
   {
    "duration": 154,
    "start_time": "2022-05-08T20:07:01.938Z"
   },
   {
    "duration": 5,
    "start_time": "2022-05-08T20:07:02.094Z"
   },
   {
    "duration": 251,
    "start_time": "2022-05-08T20:07:02.100Z"
   },
   {
    "duration": 151,
    "start_time": "2022-05-08T20:07:02.353Z"
   },
   {
    "duration": 32,
    "start_time": "2022-05-08T20:07:02.506Z"
   },
   {
    "duration": 10,
    "start_time": "2022-05-08T20:07:02.540Z"
   },
   {
    "duration": 11,
    "start_time": "2022-05-08T20:07:02.552Z"
   },
   {
    "duration": 58,
    "start_time": "2022-05-08T20:07:02.565Z"
   },
   {
    "duration": 13,
    "start_time": "2022-05-08T20:07:02.625Z"
   },
   {
    "duration": 15,
    "start_time": "2022-05-08T20:10:00.048Z"
   },
   {
    "duration": 228,
    "start_time": "2022-05-08T20:15:34.337Z"
   },
   {
    "duration": 140,
    "start_time": "2022-05-08T20:16:18.017Z"
   },
   {
    "duration": 130,
    "start_time": "2022-05-08T20:16:36.768Z"
   },
   {
    "duration": 127,
    "start_time": "2022-05-08T20:16:54.276Z"
   },
   {
    "duration": 313,
    "start_time": "2022-05-08T20:22:51.194Z"
   },
   {
    "duration": 300,
    "start_time": "2022-05-08T20:23:29.441Z"
   },
   {
    "duration": 298,
    "start_time": "2022-05-08T20:26:28.280Z"
   },
   {
    "duration": 306,
    "start_time": "2022-05-08T20:26:50.077Z"
   },
   {
    "duration": 192,
    "start_time": "2022-05-08T20:27:24.122Z"
   },
   {
    "duration": 172,
    "start_time": "2022-05-08T20:29:27.052Z"
   },
   {
    "duration": 244,
    "start_time": "2022-05-08T20:32:06.249Z"
   },
   {
    "duration": 150,
    "start_time": "2022-05-08T20:32:36.374Z"
   },
   {
    "duration": 238,
    "start_time": "2022-05-08T20:33:12.950Z"
   },
   {
    "duration": 227,
    "start_time": "2022-05-08T20:33:45.856Z"
   },
   {
    "duration": 229,
    "start_time": "2022-05-08T20:34:14.610Z"
   },
   {
    "duration": 158,
    "start_time": "2022-05-08T20:36:48.628Z"
   },
   {
    "duration": 25,
    "start_time": "2022-05-08T20:36:50.994Z"
   },
   {
    "duration": 18,
    "start_time": "2022-05-08T20:45:36.789Z"
   },
   {
    "duration": 99,
    "start_time": "2022-05-08T20:48:17.100Z"
   },
   {
    "duration": 173,
    "start_time": "2022-05-08T21:29:08.247Z"
   },
   {
    "duration": 201,
    "start_time": "2022-05-08T21:31:25.917Z"
   },
   {
    "duration": 31,
    "start_time": "2022-05-08T21:32:21.383Z"
   },
   {
    "duration": 23,
    "start_time": "2022-05-08T21:34:34.870Z"
   },
   {
    "duration": 1329,
    "start_time": "2022-05-09T17:53:15.158Z"
   },
   {
    "duration": 114,
    "start_time": "2022-05-09T17:53:16.489Z"
   },
   {
    "duration": 29,
    "start_time": "2022-05-09T17:53:16.605Z"
   },
   {
    "duration": 11,
    "start_time": "2022-05-09T17:53:16.637Z"
   },
   {
    "duration": 9,
    "start_time": "2022-05-09T17:53:16.649Z"
   },
   {
    "duration": 22,
    "start_time": "2022-05-09T17:53:16.659Z"
   },
   {
    "duration": 325,
    "start_time": "2022-05-09T17:53:16.682Z"
   },
   {
    "duration": 344,
    "start_time": "2022-05-09T17:53:17.009Z"
   },
   {
    "duration": 258,
    "start_time": "2022-05-09T17:53:17.354Z"
   },
   {
    "duration": 424,
    "start_time": "2022-05-09T17:53:17.616Z"
   },
   {
    "duration": 5,
    "start_time": "2022-05-09T17:53:18.042Z"
   },
   {
    "duration": 201,
    "start_time": "2022-05-09T17:53:18.048Z"
   },
   {
    "duration": 283,
    "start_time": "2022-05-09T17:53:18.250Z"
   },
   {
    "duration": 178,
    "start_time": "2022-05-09T17:53:18.535Z"
   },
   {
    "duration": 9,
    "start_time": "2022-05-09T17:53:18.717Z"
   },
   {
    "duration": 238,
    "start_time": "2022-05-09T17:53:18.728Z"
   },
   {
    "duration": 5,
    "start_time": "2022-05-09T17:53:18.968Z"
   },
   {
    "duration": 277,
    "start_time": "2022-05-09T17:53:18.975Z"
   },
   {
    "duration": 246,
    "start_time": "2022-05-09T17:53:19.264Z"
   },
   {
    "duration": 40,
    "start_time": "2022-05-09T17:53:19.512Z"
   },
   {
    "duration": 9,
    "start_time": "2022-05-09T17:53:19.554Z"
   },
   {
    "duration": 10,
    "start_time": "2022-05-09T17:53:19.564Z"
   },
   {
    "duration": 76,
    "start_time": "2022-05-09T17:53:19.576Z"
   },
   {
    "duration": 13,
    "start_time": "2022-05-09T17:53:19.654Z"
   },
   {
    "duration": 5,
    "start_time": "2022-05-09T18:32:14.593Z"
   },
   {
    "duration": 127,
    "start_time": "2022-05-09T18:32:14.601Z"
   },
   {
    "duration": 19,
    "start_time": "2022-05-09T18:32:14.730Z"
   },
   {
    "duration": 9,
    "start_time": "2022-05-09T18:32:14.750Z"
   },
   {
    "duration": 11,
    "start_time": "2022-05-09T18:32:14.761Z"
   },
   {
    "duration": 331,
    "start_time": "2022-05-09T18:32:14.773Z"
   },
   {
    "duration": 196,
    "start_time": "2022-05-09T18:32:15.112Z"
   },
   {
    "duration": 259,
    "start_time": "2022-05-09T18:32:15.310Z"
   },
   {
    "duration": 346,
    "start_time": "2022-05-09T18:32:15.571Z"
   },
   {
    "duration": 5,
    "start_time": "2022-05-09T18:32:15.919Z"
   },
   {
    "duration": 191,
    "start_time": "2022-05-09T18:32:15.926Z"
   },
   {
    "duration": 281,
    "start_time": "2022-05-09T18:32:16.119Z"
   },
   {
    "duration": 164,
    "start_time": "2022-05-09T18:32:16.402Z"
   },
   {
    "duration": 4,
    "start_time": "2022-05-09T18:32:16.569Z"
   },
   {
    "duration": 171,
    "start_time": "2022-05-09T18:32:16.575Z"
   },
   {
    "duration": 4,
    "start_time": "2022-05-09T18:32:16.748Z"
   },
   {
    "duration": 226,
    "start_time": "2022-05-09T18:32:16.753Z"
   },
   {
    "duration": 168,
    "start_time": "2022-05-09T18:32:16.981Z"
   },
   {
    "duration": 22,
    "start_time": "2022-05-09T18:32:17.151Z"
   },
   {
    "duration": 30,
    "start_time": "2022-05-09T18:32:17.174Z"
   },
   {
    "duration": 13,
    "start_time": "2022-05-09T18:32:17.207Z"
   },
   {
    "duration": 32,
    "start_time": "2022-05-09T18:32:17.222Z"
   },
   {
    "duration": 13,
    "start_time": "2022-05-09T18:32:17.255Z"
   },
   {
    "duration": 234,
    "start_time": "2022-05-09T18:33:05.855Z"
   },
   {
    "duration": 316,
    "start_time": "2022-05-09T18:33:28.436Z"
   },
   {
    "duration": 5,
    "start_time": "2022-05-09T18:35:10.019Z"
   },
   {
    "duration": 355,
    "start_time": "2022-05-09T18:35:56.619Z"
   },
   {
    "duration": 286,
    "start_time": "2022-05-09T18:36:04.344Z"
   },
   {
    "duration": 5,
    "start_time": "2022-05-09T18:37:07.064Z"
   },
   {
    "duration": 203,
    "start_time": "2022-05-09T18:37:59.644Z"
   },
   {
    "duration": 6,
    "start_time": "2022-05-09T18:38:49.646Z"
   },
   {
    "duration": 53,
    "start_time": "2022-05-09T18:40:28.067Z"
   },
   {
    "duration": 902,
    "start_time": "2022-05-09T18:42:20.243Z"
   },
   {
    "duration": 7,
    "start_time": "2022-05-09T18:42:28.310Z"
   },
   {
    "duration": 116,
    "start_time": "2022-05-09T18:42:28.319Z"
   },
   {
    "duration": 82,
    "start_time": "2022-05-09T18:42:28.437Z"
   },
   {
    "duration": 12,
    "start_time": "2022-05-09T18:42:28.522Z"
   },
   {
    "duration": 10,
    "start_time": "2022-05-09T18:42:28.536Z"
   },
   {
    "duration": 316,
    "start_time": "2022-05-09T18:42:28.547Z"
   },
   {
    "duration": 203,
    "start_time": "2022-05-09T18:42:28.864Z"
   },
   {
    "duration": 192,
    "start_time": "2022-05-09T18:42:29.068Z"
   },
   {
    "duration": 332,
    "start_time": "2022-05-09T18:42:29.262Z"
   },
   {
    "duration": 14,
    "start_time": "2022-05-09T18:42:29.601Z"
   },
   {
    "duration": 249,
    "start_time": "2022-05-09T18:42:29.621Z"
   },
   {
    "duration": 497,
    "start_time": "2022-05-09T18:42:29.871Z"
   },
   {
    "duration": 162,
    "start_time": "2022-05-09T18:42:30.370Z"
   },
   {
    "duration": 4,
    "start_time": "2022-05-09T18:42:30.534Z"
   },
   {
    "duration": 256,
    "start_time": "2022-05-09T18:42:30.540Z"
   },
   {
    "duration": 8,
    "start_time": "2022-05-09T18:42:30.799Z"
   },
   {
    "duration": 327,
    "start_time": "2022-05-09T18:42:30.810Z"
   },
   {
    "duration": 149,
    "start_time": "2022-05-09T18:42:31.138Z"
   },
   {
    "duration": 35,
    "start_time": "2022-05-09T18:42:31.289Z"
   },
   {
    "duration": 10,
    "start_time": "2022-05-09T18:42:31.325Z"
   },
   {
    "duration": 10,
    "start_time": "2022-05-09T18:42:31.337Z"
   },
   {
    "duration": 28,
    "start_time": "2022-05-09T18:42:31.349Z"
   },
   {
    "duration": 27,
    "start_time": "2022-05-09T18:42:31.400Z"
   },
   {
    "duration": 3232,
    "start_time": "2022-05-09T18:43:42.578Z"
   },
   {
    "duration": 48,
    "start_time": "2022-05-09T18:44:26.891Z"
   },
   {
    "duration": 11,
    "start_time": "2022-05-09T18:47:43.184Z"
   },
   {
    "duration": 28,
    "start_time": "2022-05-09T18:48:26.586Z"
   },
   {
    "duration": 93,
    "start_time": "2022-05-09T18:48:50.867Z"
   },
   {
    "duration": 8,
    "start_time": "2022-05-09T18:50:14.598Z"
   },
   {
    "duration": 105,
    "start_time": "2022-05-09T18:50:14.608Z"
   },
   {
    "duration": 21,
    "start_time": "2022-05-09T18:50:14.724Z"
   },
   {
    "duration": 11,
    "start_time": "2022-05-09T18:50:14.747Z"
   },
   {
    "duration": 11,
    "start_time": "2022-05-09T18:50:14.760Z"
   },
   {
    "duration": 467,
    "start_time": "2022-05-09T18:50:14.773Z"
   },
   {
    "duration": 199,
    "start_time": "2022-05-09T18:50:15.242Z"
   },
   {
    "duration": 203,
    "start_time": "2022-05-09T18:50:15.443Z"
   },
   {
    "duration": 298,
    "start_time": "2022-05-09T18:50:15.648Z"
   },
   {
    "duration": 4,
    "start_time": "2022-05-09T18:50:15.948Z"
   },
   {
    "duration": 193,
    "start_time": "2022-05-09T18:50:15.954Z"
   },
   {
    "duration": 301,
    "start_time": "2022-05-09T18:50:16.149Z"
   },
   {
    "duration": 155,
    "start_time": "2022-05-09T18:50:16.451Z"
   },
   {
    "duration": 10,
    "start_time": "2022-05-09T18:50:16.609Z"
   },
   {
    "duration": 170,
    "start_time": "2022-05-09T18:50:16.620Z"
   },
   {
    "duration": 7,
    "start_time": "2022-05-09T18:50:16.792Z"
   },
   {
    "duration": 329,
    "start_time": "2022-05-09T18:50:16.802Z"
   },
   {
    "duration": 197,
    "start_time": "2022-05-09T18:50:17.133Z"
   },
   {
    "duration": 23,
    "start_time": "2022-05-09T18:50:17.332Z"
   },
   {
    "duration": 11,
    "start_time": "2022-05-09T18:50:17.357Z"
   },
   {
    "duration": 37,
    "start_time": "2022-05-09T18:50:17.370Z"
   },
   {
    "duration": 43,
    "start_time": "2022-05-09T18:50:17.418Z"
   },
   {
    "duration": 14,
    "start_time": "2022-05-09T18:50:17.463Z"
   },
   {
    "duration": 17,
    "start_time": "2022-05-09T18:55:55.827Z"
   },
   {
    "duration": 17,
    "start_time": "2022-05-09T18:56:22.212Z"
   },
   {
    "duration": 28,
    "start_time": "2022-05-09T19:40:12.664Z"
   },
   {
    "duration": 30,
    "start_time": "2022-05-09T19:54:24.137Z"
   },
   {
    "duration": 29,
    "start_time": "2022-05-09T19:55:11.067Z"
   },
   {
    "duration": 5,
    "start_time": "2022-05-09T19:55:25.651Z"
   },
   {
    "duration": 87,
    "start_time": "2022-05-09T19:55:25.657Z"
   },
   {
    "duration": 19,
    "start_time": "2022-05-09T19:55:25.746Z"
   },
   {
    "duration": 15,
    "start_time": "2022-05-09T19:55:25.767Z"
   },
   {
    "duration": 34,
    "start_time": "2022-05-09T19:55:25.784Z"
   },
   {
    "duration": 305,
    "start_time": "2022-05-09T19:55:25.820Z"
   },
   {
    "duration": 197,
    "start_time": "2022-05-09T19:55:26.127Z"
   },
   {
    "duration": 186,
    "start_time": "2022-05-09T19:55:26.325Z"
   },
   {
    "duration": 312,
    "start_time": "2022-05-09T19:55:26.514Z"
   },
   {
    "duration": 5,
    "start_time": "2022-05-09T19:55:26.829Z"
   },
   {
    "duration": 285,
    "start_time": "2022-05-09T19:55:26.835Z"
   },
   {
    "duration": 306,
    "start_time": "2022-05-09T19:55:27.121Z"
   },
   {
    "duration": 161,
    "start_time": "2022-05-09T19:55:27.428Z"
   },
   {
    "duration": 11,
    "start_time": "2022-05-09T19:55:27.590Z"
   },
   {
    "duration": 169,
    "start_time": "2022-05-09T19:55:27.604Z"
   },
   {
    "duration": 4,
    "start_time": "2022-05-09T19:55:27.775Z"
   },
   {
    "duration": 223,
    "start_time": "2022-05-09T19:55:27.780Z"
   },
   {
    "duration": 156,
    "start_time": "2022-05-09T19:55:28.012Z"
   },
   {
    "duration": 21,
    "start_time": "2022-05-09T19:55:28.170Z"
   },
   {
    "duration": 20,
    "start_time": "2022-05-09T19:55:28.192Z"
   },
   {
    "duration": 15,
    "start_time": "2022-05-09T19:55:28.214Z"
   },
   {
    "duration": 26,
    "start_time": "2022-05-09T19:55:28.231Z"
   },
   {
    "duration": 48,
    "start_time": "2022-05-09T19:55:28.259Z"
   },
   {
    "duration": 13,
    "start_time": "2022-05-09T21:00:34.983Z"
   },
   {
    "duration": 4,
    "start_time": "2022-05-09T21:01:23.632Z"
   },
   {
    "duration": 254,
    "start_time": "2022-05-09T21:01:34.068Z"
   },
   {
    "duration": 223,
    "start_time": "2022-05-09T21:02:34.656Z"
   },
   {
    "duration": 306,
    "start_time": "2022-05-09T21:02:46.060Z"
   },
   {
    "duration": 316,
    "start_time": "2022-05-09T21:03:40.159Z"
   },
   {
    "duration": 237,
    "start_time": "2022-05-09T21:03:59.583Z"
   },
   {
    "duration": 253,
    "start_time": "2022-05-09T21:04:33.373Z"
   },
   {
    "duration": 254,
    "start_time": "2022-05-09T21:04:54.453Z"
   },
   {
    "duration": 276,
    "start_time": "2022-05-09T21:05:19.884Z"
   },
   {
    "duration": 256,
    "start_time": "2022-05-09T21:05:35.286Z"
   },
   {
    "duration": 314,
    "start_time": "2022-05-09T21:06:42.820Z"
   },
   {
    "duration": 321,
    "start_time": "2022-05-09T21:07:05.169Z"
   },
   {
    "duration": 266,
    "start_time": "2022-05-09T21:07:16.974Z"
   },
   {
    "duration": 256,
    "start_time": "2022-05-09T21:07:26.249Z"
   },
   {
    "duration": 251,
    "start_time": "2022-05-09T21:07:35.634Z"
   },
   {
    "duration": 250,
    "start_time": "2022-05-09T21:09:06.310Z"
   },
   {
    "duration": 343,
    "start_time": "2022-05-09T21:09:17.776Z"
   },
   {
    "duration": 244,
    "start_time": "2022-05-09T21:32:31.633Z"
   },
   {
    "duration": 12,
    "start_time": "2022-05-09T22:03:59.818Z"
   },
   {
    "duration": 211,
    "start_time": "2022-05-09T22:04:31.745Z"
   },
   {
    "duration": 192,
    "start_time": "2022-05-09T22:04:51.686Z"
   },
   {
    "duration": 228,
    "start_time": "2022-05-09T22:05:02.047Z"
   },
   {
    "duration": 21,
    "start_time": "2022-05-09T22:05:27.133Z"
   },
   {
    "duration": 8,
    "start_time": "2022-05-09T22:05:42.233Z"
   },
   {
    "duration": 11,
    "start_time": "2022-05-09T22:06:15.370Z"
   },
   {
    "duration": 9,
    "start_time": "2022-05-09T22:06:26.588Z"
   },
   {
    "duration": 10,
    "start_time": "2022-05-09T22:06:47.272Z"
   },
   {
    "duration": 5,
    "start_time": "2022-05-09T22:07:00.088Z"
   },
   {
    "duration": 109,
    "start_time": "2022-05-09T22:07:00.095Z"
   },
   {
    "duration": 29,
    "start_time": "2022-05-09T22:07:00.211Z"
   },
   {
    "duration": 13,
    "start_time": "2022-05-09T22:07:00.243Z"
   },
   {
    "duration": 12,
    "start_time": "2022-05-09T22:07:00.258Z"
   },
   {
    "duration": 312,
    "start_time": "2022-05-09T22:07:00.271Z"
   },
   {
    "duration": 212,
    "start_time": "2022-05-09T22:07:00.585Z"
   },
   {
    "duration": 191,
    "start_time": "2022-05-09T22:07:00.800Z"
   },
   {
    "duration": 403,
    "start_time": "2022-05-09T22:07:01.003Z"
   },
   {
    "duration": 6,
    "start_time": "2022-05-09T22:07:01.409Z"
   },
   {
    "duration": 182,
    "start_time": "2022-05-09T22:07:01.420Z"
   },
   {
    "duration": 319,
    "start_time": "2022-05-09T22:07:01.605Z"
   },
   {
    "duration": 248,
    "start_time": "2022-05-09T22:07:01.926Z"
   },
   {
    "duration": 5,
    "start_time": "2022-05-09T22:07:02.175Z"
   },
   {
    "duration": 267,
    "start_time": "2022-05-09T22:07:02.181Z"
   },
   {
    "duration": 4,
    "start_time": "2022-05-09T22:07:02.451Z"
   },
   {
    "duration": 237,
    "start_time": "2022-05-09T22:07:02.457Z"
   },
   {
    "duration": 150,
    "start_time": "2022-05-09T22:07:02.696Z"
   },
   {
    "duration": 21,
    "start_time": "2022-05-09T22:07:02.848Z"
   },
   {
    "duration": 11,
    "start_time": "2022-05-09T22:07:02.870Z"
   },
   {
    "duration": 28,
    "start_time": "2022-05-09T22:07:02.883Z"
   },
   {
    "duration": 38,
    "start_time": "2022-05-09T22:07:02.913Z"
   },
   {
    "duration": 14,
    "start_time": "2022-05-09T22:07:02.952Z"
   },
   {
    "duration": 1472,
    "start_time": "2022-05-10T14:10:13.801Z"
   },
   {
    "duration": 62,
    "start_time": "2022-05-10T14:10:15.275Z"
   },
   {
    "duration": 37,
    "start_time": "2022-05-10T14:10:15.339Z"
   },
   {
    "duration": 19,
    "start_time": "2022-05-10T14:10:15.378Z"
   },
   {
    "duration": 12,
    "start_time": "2022-05-10T14:10:15.400Z"
   },
   {
    "duration": 399,
    "start_time": "2022-05-10T14:10:15.414Z"
   },
   {
    "duration": 351,
    "start_time": "2022-05-10T14:10:15.815Z"
   },
   {
    "duration": 237,
    "start_time": "2022-05-10T14:10:16.169Z"
   },
   {
    "duration": 369,
    "start_time": "2022-05-10T14:10:16.408Z"
   },
   {
    "duration": 4,
    "start_time": "2022-05-10T14:10:16.779Z"
   },
   {
    "duration": 202,
    "start_time": "2022-05-10T14:10:16.785Z"
   },
   {
    "duration": 318,
    "start_time": "2022-05-10T14:10:16.989Z"
   },
   {
    "duration": 228,
    "start_time": "2022-05-10T14:10:17.308Z"
   },
   {
    "duration": 4,
    "start_time": "2022-05-10T14:10:17.539Z"
   },
   {
    "duration": 199,
    "start_time": "2022-05-10T14:10:17.545Z"
   },
   {
    "duration": 5,
    "start_time": "2022-05-10T14:10:17.746Z"
   },
   {
    "duration": 252,
    "start_time": "2022-05-10T14:10:17.753Z"
   },
   {
    "duration": 176,
    "start_time": "2022-05-10T14:10:18.007Z"
   },
   {
    "duration": 30,
    "start_time": "2022-05-10T14:10:18.185Z"
   },
   {
    "duration": 22,
    "start_time": "2022-05-10T14:10:18.216Z"
   },
   {
    "duration": 24,
    "start_time": "2022-05-10T14:10:18.240Z"
   },
   {
    "duration": 41,
    "start_time": "2022-05-10T14:10:18.266Z"
   },
   {
    "duration": 23,
    "start_time": "2022-05-10T14:10:18.309Z"
   },
   {
    "duration": 12,
    "start_time": "2022-05-10T14:41:42.609Z"
   },
   {
    "duration": 243,
    "start_time": "2022-05-10T16:34:42.052Z"
   },
   {
    "duration": 3794,
    "start_time": "2022-05-10T16:48:25.556Z"
   },
   {
    "duration": 6,
    "start_time": "2022-05-10T16:49:08.125Z"
   },
   {
    "duration": 115,
    "start_time": "2022-05-10T17:43:57.688Z"
   },
   {
    "duration": 34,
    "start_time": "2022-05-10T17:44:30.616Z"
   },
   {
    "duration": 27,
    "start_time": "2022-05-10T17:45:09.105Z"
   },
   {
    "duration": 28,
    "start_time": "2022-05-10T17:45:44.748Z"
   },
   {
    "duration": 43,
    "start_time": "2022-05-10T17:46:27.469Z"
   },
   {
    "duration": 30,
    "start_time": "2022-05-10T17:46:46.921Z"
   },
   {
    "duration": 5,
    "start_time": "2022-05-10T17:47:22.450Z"
   },
   {
    "duration": 61,
    "start_time": "2022-05-10T17:47:22.457Z"
   },
   {
    "duration": 27,
    "start_time": "2022-05-10T17:47:22.520Z"
   },
   {
    "duration": 12,
    "start_time": "2022-05-10T17:47:22.549Z"
   },
   {
    "duration": 30,
    "start_time": "2022-05-10T17:47:22.563Z"
   },
   {
    "duration": 326,
    "start_time": "2022-05-10T17:47:22.595Z"
   },
   {
    "duration": 220,
    "start_time": "2022-05-10T17:47:22.923Z"
   },
   {
    "duration": 213,
    "start_time": "2022-05-10T17:47:23.145Z"
   },
   {
    "duration": 344,
    "start_time": "2022-05-10T17:47:23.360Z"
   },
   {
    "duration": 5,
    "start_time": "2022-05-10T17:47:23.706Z"
   },
   {
    "duration": 200,
    "start_time": "2022-05-10T17:47:23.713Z"
   },
   {
    "duration": 327,
    "start_time": "2022-05-10T17:47:23.915Z"
   },
   {
    "duration": 232,
    "start_time": "2022-05-10T17:47:24.244Z"
   },
   {
    "duration": 4,
    "start_time": "2022-05-10T17:47:24.479Z"
   },
   {
    "duration": 178,
    "start_time": "2022-05-10T17:47:24.485Z"
   },
   {
    "duration": 6,
    "start_time": "2022-05-10T17:47:24.664Z"
   },
   {
    "duration": 374,
    "start_time": "2022-05-10T17:47:24.672Z"
   },
   {
    "duration": 287,
    "start_time": "2022-05-10T17:47:25.049Z"
   },
   {
    "duration": 44,
    "start_time": "2022-05-10T17:47:25.338Z"
   },
   {
    "duration": 16,
    "start_time": "2022-05-10T17:47:25.384Z"
   },
   {
    "duration": 21,
    "start_time": "2022-05-10T17:47:25.402Z"
   },
   {
    "duration": 60,
    "start_time": "2022-05-10T17:47:25.427Z"
   },
   {
    "duration": 17,
    "start_time": "2022-05-10T17:47:25.489Z"
   },
   {
    "duration": 47,
    "start_time": "2022-05-10T17:47:47.831Z"
   },
   {
    "duration": 35,
    "start_time": "2022-05-10T17:47:53.637Z"
   },
   {
    "duration": 20,
    "start_time": "2022-05-10T17:52:44.224Z"
   },
   {
    "duration": 20,
    "start_time": "2022-05-10T17:53:15.821Z"
   },
   {
    "duration": 94,
    "start_time": "2022-05-10T17:55:54.128Z"
   },
   {
    "duration": 91,
    "start_time": "2022-05-10T17:58:06.056Z"
   },
   {
    "duration": 95,
    "start_time": "2022-05-10T17:58:16.628Z"
   },
   {
    "duration": 94,
    "start_time": "2022-05-10T17:58:42.360Z"
   },
   {
    "duration": 94,
    "start_time": "2022-05-10T17:59:03.673Z"
   },
   {
    "duration": 30,
    "start_time": "2022-05-10T17:59:39.687Z"
   },
   {
    "duration": 95,
    "start_time": "2022-05-10T18:00:23.610Z"
   },
   {
    "duration": 1524,
    "start_time": "2022-05-10T18:01:21.216Z"
   },
   {
    "duration": 67,
    "start_time": "2022-05-10T18:01:22.743Z"
   },
   {
    "duration": 38,
    "start_time": "2022-05-10T18:01:22.812Z"
   },
   {
    "duration": 14,
    "start_time": "2022-05-10T18:01:22.853Z"
   },
   {
    "duration": 12,
    "start_time": "2022-05-10T18:01:22.868Z"
   },
   {
    "duration": 331,
    "start_time": "2022-05-10T18:01:22.882Z"
   },
   {
    "duration": 292,
    "start_time": "2022-05-10T18:01:23.215Z"
   },
   {
    "duration": 207,
    "start_time": "2022-05-10T18:01:23.509Z"
   },
   {
    "duration": 355,
    "start_time": "2022-05-10T18:01:23.718Z"
   },
   {
    "duration": 5,
    "start_time": "2022-05-10T18:01:24.077Z"
   },
   {
    "duration": 233,
    "start_time": "2022-05-10T18:01:24.083Z"
   },
   {
    "duration": 326,
    "start_time": "2022-05-10T18:01:24.318Z"
   },
   {
    "duration": 218,
    "start_time": "2022-05-10T18:01:24.645Z"
   },
   {
    "duration": 5,
    "start_time": "2022-05-10T18:01:24.865Z"
   },
   {
    "duration": 187,
    "start_time": "2022-05-10T18:01:24.872Z"
   },
   {
    "duration": 5,
    "start_time": "2022-05-10T18:01:25.060Z"
   },
   {
    "duration": 230,
    "start_time": "2022-05-10T18:01:25.067Z"
   },
   {
    "duration": 155,
    "start_time": "2022-05-10T18:01:25.299Z"
   },
   {
    "duration": 26,
    "start_time": "2022-05-10T18:01:25.457Z"
   },
   {
    "duration": 11,
    "start_time": "2022-05-10T18:01:25.484Z"
   },
   {
    "duration": 11,
    "start_time": "2022-05-10T18:01:25.497Z"
   },
   {
    "duration": 58,
    "start_time": "2022-05-10T18:01:25.509Z"
   },
   {
    "duration": 15,
    "start_time": "2022-05-10T18:01:25.569Z"
   },
   {
    "duration": 29,
    "start_time": "2022-05-10T18:02:01.992Z"
   },
   {
    "duration": 152,
    "start_time": "2022-05-10T18:09:18.569Z"
   },
   {
    "duration": 236,
    "start_time": "2022-05-10T18:09:40.675Z"
   },
   {
    "duration": 8,
    "start_time": "2022-05-10T18:09:51.688Z"
   },
   {
    "duration": 64,
    "start_time": "2022-05-10T18:09:51.698Z"
   },
   {
    "duration": 24,
    "start_time": "2022-05-10T18:09:51.764Z"
   },
   {
    "duration": 13,
    "start_time": "2022-05-10T18:09:51.790Z"
   },
   {
    "duration": 14,
    "start_time": "2022-05-10T18:09:51.806Z"
   },
   {
    "duration": 379,
    "start_time": "2022-05-10T18:09:51.822Z"
   },
   {
    "duration": 237,
    "start_time": "2022-05-10T18:09:52.203Z"
   },
   {
    "duration": 231,
    "start_time": "2022-05-10T18:09:52.443Z"
   },
   {
    "duration": 318,
    "start_time": "2022-05-10T18:09:52.677Z"
   },
   {
    "duration": 5,
    "start_time": "2022-05-10T18:09:52.997Z"
   },
   {
    "duration": 232,
    "start_time": "2022-05-10T18:09:53.005Z"
   },
   {
    "duration": 447,
    "start_time": "2022-05-10T18:09:53.240Z"
   },
   {
    "duration": 198,
    "start_time": "2022-05-10T18:09:53.688Z"
   },
   {
    "duration": 5,
    "start_time": "2022-05-10T18:09:53.889Z"
   },
   {
    "duration": 345,
    "start_time": "2022-05-10T18:09:53.896Z"
   },
   {
    "duration": 17,
    "start_time": "2022-05-10T18:09:54.244Z"
   },
   {
    "duration": 425,
    "start_time": "2022-05-10T18:09:54.264Z"
   },
   {
    "duration": 208,
    "start_time": "2022-05-10T18:09:54.692Z"
   },
   {
    "duration": 31,
    "start_time": "2022-05-10T18:09:54.902Z"
   },
   {
    "duration": 26,
    "start_time": "2022-05-10T18:09:54.936Z"
   },
   {
    "duration": 25,
    "start_time": "2022-05-10T18:09:54.964Z"
   },
   {
    "duration": 49,
    "start_time": "2022-05-10T18:09:54.991Z"
   },
   {
    "duration": 26,
    "start_time": "2022-05-10T18:09:55.043Z"
   },
   {
    "duration": 2298,
    "start_time": "2022-05-10T18:10:36.400Z"
   },
   {
    "duration": 33,
    "start_time": "2022-05-10T18:11:08.049Z"
   },
   {
    "duration": 2320,
    "start_time": "2022-05-10T18:11:32.704Z"
   },
   {
    "duration": 26,
    "start_time": "2022-05-10T18:12:06.580Z"
   },
   {
    "duration": 131,
    "start_time": "2022-05-10T18:12:25.220Z"
   },
   {
    "duration": 25,
    "start_time": "2022-05-10T18:12:44.004Z"
   },
   {
    "duration": 30,
    "start_time": "2022-05-10T18:13:02.815Z"
   },
   {
    "duration": 33,
    "start_time": "2022-05-10T18:13:10.830Z"
   },
   {
    "duration": 27,
    "start_time": "2022-05-10T18:14:08.226Z"
   },
   {
    "duration": 2176,
    "start_time": "2022-05-10T18:14:39.818Z"
   },
   {
    "duration": 16,
    "start_time": "2022-05-10T18:15:02.798Z"
   },
   {
    "duration": 30,
    "start_time": "2022-05-10T18:24:32.726Z"
   },
   {
    "duration": 28,
    "start_time": "2022-05-10T18:24:47.695Z"
   },
   {
    "duration": 28,
    "start_time": "2022-05-10T18:24:59.229Z"
   },
   {
    "duration": 2089,
    "start_time": "2022-05-10T18:25:26.271Z"
   },
   {
    "duration": 30,
    "start_time": "2022-05-10T18:25:46.582Z"
   },
   {
    "duration": 21,
    "start_time": "2022-05-10T18:26:40.067Z"
   },
   {
    "duration": 30,
    "start_time": "2022-05-10T18:27:34.794Z"
   },
   {
    "duration": 41,
    "start_time": "2022-05-10T19:09:59.936Z"
   },
   {
    "duration": 5,
    "start_time": "2022-05-10T19:13:06.296Z"
   },
   {
    "duration": 29,
    "start_time": "2022-05-10T19:13:13.245Z"
   },
   {
    "duration": 23,
    "start_time": "2022-05-10T19:13:43.389Z"
   },
   {
    "duration": 11,
    "start_time": "2022-05-10T19:17:19.886Z"
   },
   {
    "duration": 22,
    "start_time": "2022-05-10T19:19:38.047Z"
   },
   {
    "duration": 23,
    "start_time": "2022-05-10T19:21:46.963Z"
   },
   {
    "duration": 23,
    "start_time": "2022-05-10T19:23:48.574Z"
   },
   {
    "duration": 5,
    "start_time": "2022-05-10T19:57:51.847Z"
   },
   {
    "duration": 72,
    "start_time": "2022-05-10T19:57:51.854Z"
   },
   {
    "duration": 23,
    "start_time": "2022-05-10T19:57:51.928Z"
   },
   {
    "duration": 13,
    "start_time": "2022-05-10T19:57:51.953Z"
   },
   {
    "duration": 15,
    "start_time": "2022-05-10T19:57:51.967Z"
   },
   {
    "duration": 399,
    "start_time": "2022-05-10T19:57:52.027Z"
   },
   {
    "duration": 213,
    "start_time": "2022-05-10T19:57:52.428Z"
   },
   {
    "duration": 302,
    "start_time": "2022-05-10T19:57:52.643Z"
   },
   {
    "duration": 345,
    "start_time": "2022-05-10T19:57:52.947Z"
   },
   {
    "duration": 4,
    "start_time": "2022-05-10T19:57:53.295Z"
   },
   {
    "duration": 186,
    "start_time": "2022-05-10T19:57:53.300Z"
   },
   {
    "duration": 301,
    "start_time": "2022-05-10T19:57:53.488Z"
   },
   {
    "duration": 178,
    "start_time": "2022-05-10T19:57:53.791Z"
   },
   {
    "duration": 4,
    "start_time": "2022-05-10T19:57:53.971Z"
   },
   {
    "duration": 184,
    "start_time": "2022-05-10T19:57:53.977Z"
   },
   {
    "duration": 4,
    "start_time": "2022-05-10T19:57:54.163Z"
   },
   {
    "duration": 236,
    "start_time": "2022-05-10T19:57:54.169Z"
   },
   {
    "duration": 131,
    "start_time": "2022-05-10T19:57:54.407Z"
   },
   {
    "duration": 38,
    "start_time": "2022-05-10T19:57:54.542Z"
   },
   {
    "duration": 12,
    "start_time": "2022-05-10T19:57:54.582Z"
   },
   {
    "duration": 33,
    "start_time": "2022-05-10T19:57:54.595Z"
   },
   {
    "duration": 51,
    "start_time": "2022-05-10T19:57:54.630Z"
   },
   {
    "duration": 19,
    "start_time": "2022-05-10T19:57:54.683Z"
   },
   {
    "duration": 1105,
    "start_time": "2022-05-10T20:16:35.173Z"
   },
   {
    "duration": 52,
    "start_time": "2022-05-10T20:16:36.281Z"
   },
   {
    "duration": 26,
    "start_time": "2022-05-10T20:16:36.335Z"
   },
   {
    "duration": 27,
    "start_time": "2022-05-10T20:16:36.363Z"
   },
   {
    "duration": 19,
    "start_time": "2022-05-10T20:16:36.391Z"
   },
   {
    "duration": 325,
    "start_time": "2022-05-10T20:16:36.412Z"
   },
   {
    "duration": 284,
    "start_time": "2022-05-10T20:16:36.739Z"
   },
   {
    "duration": 198,
    "start_time": "2022-05-10T20:16:37.024Z"
   },
   {
    "duration": 339,
    "start_time": "2022-05-10T20:16:37.224Z"
   },
   {
    "duration": 5,
    "start_time": "2022-05-10T20:16:37.565Z"
   },
   {
    "duration": 191,
    "start_time": "2022-05-10T20:16:37.571Z"
   },
   {
    "duration": 291,
    "start_time": "2022-05-10T20:16:37.763Z"
   },
   {
    "duration": 168,
    "start_time": "2022-05-10T20:16:38.056Z"
   },
   {
    "duration": 4,
    "start_time": "2022-05-10T20:16:38.226Z"
   },
   {
    "duration": 166,
    "start_time": "2022-05-10T20:16:38.231Z"
   },
   {
    "duration": 4,
    "start_time": "2022-05-10T20:16:38.399Z"
   },
   {
    "duration": 230,
    "start_time": "2022-05-10T20:16:38.405Z"
   },
   {
    "duration": 163,
    "start_time": "2022-05-10T20:16:38.637Z"
   },
   {
    "duration": 23,
    "start_time": "2022-05-10T20:16:38.802Z"
   },
   {
    "duration": 37,
    "start_time": "2022-05-10T20:16:38.826Z"
   },
   {
    "duration": 35,
    "start_time": "2022-05-10T20:16:38.865Z"
   },
   {
    "duration": 45,
    "start_time": "2022-05-10T20:16:38.901Z"
   },
   {
    "duration": 17,
    "start_time": "2022-05-10T20:16:38.948Z"
   },
   {
    "duration": 1281,
    "start_time": "2022-05-12T07:35:55.847Z"
   },
   {
    "duration": 66,
    "start_time": "2022-05-12T07:35:57.130Z"
   },
   {
    "duration": 28,
    "start_time": "2022-05-12T07:35:57.197Z"
   },
   {
    "duration": 13,
    "start_time": "2022-05-12T07:35:57.226Z"
   },
   {
    "duration": 11,
    "start_time": "2022-05-12T07:35:57.241Z"
   },
   {
    "duration": 322,
    "start_time": "2022-05-12T07:35:57.254Z"
   },
   {
    "duration": 286,
    "start_time": "2022-05-12T07:35:57.577Z"
   },
   {
    "duration": 201,
    "start_time": "2022-05-12T07:35:57.865Z"
   },
   {
    "duration": 382,
    "start_time": "2022-05-12T07:35:58.068Z"
   },
   {
    "duration": 5,
    "start_time": "2022-05-12T07:35:58.452Z"
   },
   {
    "duration": 191,
    "start_time": "2022-05-12T07:35:58.458Z"
   },
   {
    "duration": 330,
    "start_time": "2022-05-12T07:35:58.651Z"
   },
   {
    "duration": 167,
    "start_time": "2022-05-12T07:35:58.982Z"
   },
   {
    "duration": 5,
    "start_time": "2022-05-12T07:35:59.151Z"
   },
   {
    "duration": 183,
    "start_time": "2022-05-12T07:35:59.158Z"
   },
   {
    "duration": 4,
    "start_time": "2022-05-12T07:35:59.343Z"
   },
   {
    "duration": 240,
    "start_time": "2022-05-12T07:35:59.349Z"
   },
   {
    "duration": 158,
    "start_time": "2022-05-12T07:35:59.591Z"
   },
   {
    "duration": 24,
    "start_time": "2022-05-12T07:35:59.751Z"
   },
   {
    "duration": 20,
    "start_time": "2022-05-12T07:35:59.776Z"
   },
   {
    "duration": 16,
    "start_time": "2022-05-12T07:35:59.798Z"
   },
   {
    "duration": 29,
    "start_time": "2022-05-12T07:35:59.816Z"
   },
   {
    "duration": 14,
    "start_time": "2022-05-12T07:35:59.847Z"
   },
   {
    "duration": 53,
    "start_time": "2022-05-12T17:45:08.769Z"
   },
   {
    "duration": 1286,
    "start_time": "2022-05-12T17:45:15.946Z"
   },
   {
    "duration": 58,
    "start_time": "2022-05-12T17:45:17.406Z"
   },
   {
    "duration": 27,
    "start_time": "2022-05-12T17:45:24.725Z"
   },
   {
    "duration": 12,
    "start_time": "2022-05-12T17:45:32.201Z"
   },
   {
    "duration": 11,
    "start_time": "2022-05-12T17:46:47.939Z"
   },
   {
    "duration": 9,
    "start_time": "2022-05-12T17:49:06.017Z"
   },
   {
    "duration": 12,
    "start_time": "2022-05-12T17:51:50.956Z"
   },
   {
    "duration": 6,
    "start_time": "2022-05-12T17:52:38.684Z"
   },
   {
    "duration": 1937,
    "start_time": "2022-05-12T17:54:24.966Z"
   },
   {
    "duration": 9,
    "start_time": "2022-05-12T17:54:50.747Z"
   },
   {
    "duration": 14,
    "start_time": "2022-05-12T17:57:59.910Z"
   },
   {
    "duration": 7,
    "start_time": "2022-05-12T18:11:55.321Z"
   },
   {
    "duration": 63,
    "start_time": "2022-05-12T18:11:55.330Z"
   },
   {
    "duration": 31,
    "start_time": "2022-05-12T18:11:55.395Z"
   },
   {
    "duration": 15,
    "start_time": "2022-05-12T18:11:55.443Z"
   },
   {
    "duration": 32,
    "start_time": "2022-05-12T18:11:55.460Z"
   },
   {
    "duration": 15,
    "start_time": "2022-05-12T18:11:55.564Z"
   },
   {
    "duration": 12,
    "start_time": "2022-05-12T18:11:55.581Z"
   },
   {
    "duration": 379,
    "start_time": "2022-05-12T18:11:55.595Z"
   },
   {
    "duration": 141,
    "start_time": "2022-05-12T18:11:55.987Z"
   },
   {
    "duration": 0,
    "start_time": "2022-05-12T18:11:56.130Z"
   },
   {
    "duration": 0,
    "start_time": "2022-05-12T18:11:56.131Z"
   },
   {
    "duration": 0,
    "start_time": "2022-05-12T18:11:56.133Z"
   },
   {
    "duration": 0,
    "start_time": "2022-05-12T18:11:56.134Z"
   },
   {
    "duration": 0,
    "start_time": "2022-05-12T18:11:56.135Z"
   },
   {
    "duration": 0,
    "start_time": "2022-05-12T18:11:56.136Z"
   },
   {
    "duration": 0,
    "start_time": "2022-05-12T18:11:56.137Z"
   },
   {
    "duration": 0,
    "start_time": "2022-05-12T18:11:56.139Z"
   },
   {
    "duration": 0,
    "start_time": "2022-05-12T18:11:56.140Z"
   },
   {
    "duration": 0,
    "start_time": "2022-05-12T18:11:56.141Z"
   },
   {
    "duration": 0,
    "start_time": "2022-05-12T18:11:56.142Z"
   },
   {
    "duration": 0,
    "start_time": "2022-05-12T18:11:56.144Z"
   },
   {
    "duration": 0,
    "start_time": "2022-05-12T18:11:56.145Z"
   },
   {
    "duration": 0,
    "start_time": "2022-05-12T18:11:56.147Z"
   },
   {
    "duration": 0,
    "start_time": "2022-05-12T18:11:56.148Z"
   },
   {
    "duration": 0,
    "start_time": "2022-05-12T18:11:56.149Z"
   },
   {
    "duration": 317,
    "start_time": "2022-05-12T18:13:05.237Z"
   },
   {
    "duration": 210,
    "start_time": "2022-05-12T18:13:46.913Z"
   },
   {
    "duration": 235,
    "start_time": "2022-05-12T18:14:06.484Z"
   },
   {
    "duration": 5,
    "start_time": "2022-05-12T18:14:16.774Z"
   },
   {
    "duration": 76,
    "start_time": "2022-05-12T18:14:16.781Z"
   },
   {
    "duration": 23,
    "start_time": "2022-05-12T18:14:16.859Z"
   },
   {
    "duration": 31,
    "start_time": "2022-05-12T18:14:16.884Z"
   },
   {
    "duration": 10,
    "start_time": "2022-05-12T18:14:16.917Z"
   },
   {
    "duration": 11,
    "start_time": "2022-05-12T18:14:16.929Z"
   },
   {
    "duration": 15,
    "start_time": "2022-05-12T18:14:16.942Z"
   },
   {
    "duration": 321,
    "start_time": "2022-05-12T18:14:16.959Z"
   },
   {
    "duration": 239,
    "start_time": "2022-05-12T18:14:17.283Z"
   },
   {
    "duration": 215,
    "start_time": "2022-05-12T18:14:17.524Z"
   },
   {
    "duration": 406,
    "start_time": "2022-05-12T18:14:17.741Z"
   },
   {
    "duration": 5,
    "start_time": "2022-05-12T18:14:18.148Z"
   },
   {
    "duration": 208,
    "start_time": "2022-05-12T18:14:18.155Z"
   },
   {
    "duration": 443,
    "start_time": "2022-05-12T18:14:18.365Z"
   },
   {
    "duration": 191,
    "start_time": "2022-05-12T18:14:18.810Z"
   },
   {
    "duration": 6,
    "start_time": "2022-05-12T18:14:19.003Z"
   },
   {
    "duration": 197,
    "start_time": "2022-05-12T18:14:19.011Z"
   },
   {
    "duration": 4,
    "start_time": "2022-05-12T18:14:19.210Z"
   },
   {
    "duration": 226,
    "start_time": "2022-05-12T18:14:19.215Z"
   },
   {
    "duration": 167,
    "start_time": "2022-05-12T18:14:19.442Z"
   },
   {
    "duration": 32,
    "start_time": "2022-05-12T18:14:19.610Z"
   },
   {
    "duration": 10,
    "start_time": "2022-05-12T18:14:19.644Z"
   },
   {
    "duration": 41,
    "start_time": "2022-05-12T18:14:19.655Z"
   },
   {
    "duration": 47,
    "start_time": "2022-05-12T18:14:19.700Z"
   },
   {
    "duration": 14,
    "start_time": "2022-05-12T18:14:19.748Z"
   },
   {
    "duration": 239,
    "start_time": "2022-05-12T18:15:22.541Z"
   },
   {
    "duration": 332,
    "start_time": "2022-05-12T18:17:45.533Z"
   },
   {
    "duration": 342,
    "start_time": "2022-05-12T18:18:09.314Z"
   },
   {
    "duration": 371,
    "start_time": "2022-05-12T18:18:35.170Z"
   },
   {
    "duration": 348,
    "start_time": "2022-05-12T18:18:51.503Z"
   },
   {
    "duration": 348,
    "start_time": "2022-05-12T18:18:58.929Z"
   },
   {
    "duration": 229,
    "start_time": "2022-05-12T18:21:26.154Z"
   },
   {
    "duration": 424,
    "start_time": "2022-05-12T18:23:44.654Z"
   },
   {
    "duration": 316,
    "start_time": "2022-05-12T18:24:09.051Z"
   },
   {
    "duration": 214,
    "start_time": "2022-05-12T18:27:07.110Z"
   },
   {
    "duration": 212,
    "start_time": "2022-05-12T18:29:07.922Z"
   },
   {
    "duration": 18,
    "start_time": "2022-05-12T18:46:46.029Z"
   },
   {
    "duration": 13,
    "start_time": "2022-05-12T18:48:19.872Z"
   },
   {
    "duration": 4,
    "start_time": "2022-05-12T18:48:44.962Z"
   },
   {
    "duration": 10,
    "start_time": "2022-05-12T19:06:40.071Z"
   },
   {
    "duration": 6,
    "start_time": "2022-05-12T19:06:44.710Z"
   },
   {
    "duration": 74,
    "start_time": "2022-05-12T19:06:44.719Z"
   },
   {
    "duration": 33,
    "start_time": "2022-05-12T19:06:44.797Z"
   },
   {
    "duration": 13,
    "start_time": "2022-05-12T19:06:44.833Z"
   },
   {
    "duration": 6,
    "start_time": "2022-05-12T19:06:44.848Z"
   },
   {
    "duration": 68,
    "start_time": "2022-05-12T19:06:44.856Z"
   },
   {
    "duration": 15,
    "start_time": "2022-05-12T19:06:44.927Z"
   },
   {
    "duration": 16,
    "start_time": "2022-05-12T19:06:44.946Z"
   },
   {
    "duration": 37,
    "start_time": "2022-05-12T19:06:44.964Z"
   },
   {
    "duration": 317,
    "start_time": "2022-05-12T19:06:45.004Z"
   },
   {
    "duration": 241,
    "start_time": "2022-05-12T19:06:45.323Z"
   },
   {
    "duration": 261,
    "start_time": "2022-05-12T19:06:45.566Z"
   },
   {
    "duration": 360,
    "start_time": "2022-05-12T19:06:45.829Z"
   },
   {
    "duration": 7,
    "start_time": "2022-05-12T19:06:46.192Z"
   },
   {
    "duration": 225,
    "start_time": "2022-05-12T19:06:46.203Z"
   },
   {
    "duration": 310,
    "start_time": "2022-05-12T19:06:46.430Z"
   },
   {
    "duration": 218,
    "start_time": "2022-05-12T19:06:46.743Z"
   },
   {
    "duration": 4,
    "start_time": "2022-05-12T19:06:46.963Z"
   },
   {
    "duration": 297,
    "start_time": "2022-05-12T19:06:46.969Z"
   },
   {
    "duration": 5,
    "start_time": "2022-05-12T19:06:47.268Z"
   },
   {
    "duration": 235,
    "start_time": "2022-05-12T19:06:47.275Z"
   },
   {
    "duration": 167,
    "start_time": "2022-05-12T19:06:47.512Z"
   },
   {
    "duration": 35,
    "start_time": "2022-05-12T19:06:47.681Z"
   },
   {
    "duration": 10,
    "start_time": "2022-05-12T19:06:47.718Z"
   },
   {
    "duration": 12,
    "start_time": "2022-05-12T19:06:47.730Z"
   },
   {
    "duration": 70,
    "start_time": "2022-05-12T19:06:47.744Z"
   },
   {
    "duration": 13,
    "start_time": "2022-05-12T19:06:47.816Z"
   },
   {
    "duration": 17,
    "start_time": "2022-05-12T19:14:23.441Z"
   },
   {
    "duration": 23,
    "start_time": "2022-05-12T19:15:25.986Z"
   },
   {
    "duration": 28,
    "start_time": "2022-05-12T19:22:02.529Z"
   },
   {
    "duration": 152,
    "start_time": "2022-05-12T19:23:13.141Z"
   },
   {
    "duration": 142,
    "start_time": "2022-05-12T19:23:26.254Z"
   },
   {
    "duration": 65,
    "start_time": "2022-05-12T19:23:31.554Z"
   },
   {
    "duration": 189,
    "start_time": "2022-05-12T19:23:43.692Z"
   },
   {
    "duration": 56,
    "start_time": "2022-05-12T19:23:50.189Z"
   },
   {
    "duration": 43,
    "start_time": "2022-05-12T19:24:06.239Z"
   },
   {
    "duration": 8,
    "start_time": "2022-05-12T19:24:26.939Z"
   },
   {
    "duration": 167,
    "start_time": "2022-05-12T19:24:26.950Z"
   },
   {
    "duration": 63,
    "start_time": "2022-05-12T19:24:27.120Z"
   },
   {
    "duration": 33,
    "start_time": "2022-05-12T19:24:27.186Z"
   },
   {
    "duration": 55,
    "start_time": "2022-05-12T19:24:27.223Z"
   },
   {
    "duration": 21,
    "start_time": "2022-05-12T19:24:27.280Z"
   },
   {
    "duration": 136,
    "start_time": "2022-05-12T19:24:27.303Z"
   },
   {
    "duration": 67,
    "start_time": "2022-05-12T19:24:27.441Z"
   },
   {
    "duration": 72,
    "start_time": "2022-05-12T19:24:27.510Z"
   },
   {
    "duration": 628,
    "start_time": "2022-05-12T19:24:27.585Z"
   },
   {
    "duration": 371,
    "start_time": "2022-05-12T19:24:28.216Z"
   },
   {
    "duration": 371,
    "start_time": "2022-05-12T19:24:28.594Z"
   },
   {
    "duration": 532,
    "start_time": "2022-05-12T19:24:28.971Z"
   },
   {
    "duration": 9,
    "start_time": "2022-05-12T19:24:29.511Z"
   },
   {
    "duration": 464,
    "start_time": "2022-05-12T19:24:29.526Z"
   },
   {
    "duration": 498,
    "start_time": "2022-05-12T19:24:29.993Z"
   },
   {
    "duration": 318,
    "start_time": "2022-05-12T19:24:30.500Z"
   },
   {
    "duration": 13,
    "start_time": "2022-05-12T19:24:30.827Z"
   },
   {
    "duration": 356,
    "start_time": "2022-05-12T19:24:30.857Z"
   },
   {
    "duration": 10,
    "start_time": "2022-05-12T19:24:31.218Z"
   },
   {
    "duration": 376,
    "start_time": "2022-05-12T19:24:31.233Z"
   },
   {
    "duration": 189,
    "start_time": "2022-05-12T19:24:31.616Z"
   },
   {
    "duration": 42,
    "start_time": "2022-05-12T19:24:31.812Z"
   },
   {
    "duration": 78,
    "start_time": "2022-05-12T19:24:31.861Z"
   },
   {
    "duration": 42,
    "start_time": "2022-05-12T19:24:31.945Z"
   },
   {
    "duration": 129,
    "start_time": "2022-05-12T19:24:31.990Z"
   },
   {
    "duration": 24,
    "start_time": "2022-05-12T19:24:32.122Z"
   },
   {
    "duration": 13,
    "start_time": "2022-05-12T19:28:56.154Z"
   },
   {
    "duration": 18,
    "start_time": "2022-05-12T19:29:09.034Z"
   },
   {
    "duration": 34,
    "start_time": "2022-05-12T19:30:12.950Z"
   },
   {
    "duration": 25,
    "start_time": "2022-05-12T19:31:25.118Z"
   },
   {
    "duration": 17,
    "start_time": "2022-05-12T19:32:44.138Z"
   },
   {
    "duration": 88,
    "start_time": "2022-05-12T19:33:01.414Z"
   },
   {
    "duration": 33,
    "start_time": "2022-05-12T19:33:06.165Z"
   },
   {
    "duration": 21,
    "start_time": "2022-05-12T19:33:15.017Z"
   },
   {
    "duration": 14,
    "start_time": "2022-05-12T19:33:26.655Z"
   },
   {
    "duration": 19,
    "start_time": "2022-05-12T19:33:30.612Z"
   },
   {
    "duration": 20,
    "start_time": "2022-05-12T19:33:32.231Z"
   },
   {
    "duration": 20,
    "start_time": "2022-05-12T19:42:09.166Z"
   },
   {
    "duration": 153,
    "start_time": "2022-05-12T19:48:58.123Z"
   },
   {
    "duration": 31,
    "start_time": "2022-05-12T19:50:42.439Z"
   },
   {
    "duration": 422,
    "start_time": "2022-05-12T19:50:59.762Z"
   },
   {
    "duration": 123,
    "start_time": "2022-05-12T19:56:47.054Z"
   },
   {
    "duration": 36,
    "start_time": "2022-05-12T19:57:33.167Z"
   },
   {
    "duration": 23,
    "start_time": "2022-05-12T19:58:04.907Z"
   },
   {
    "duration": 106,
    "start_time": "2022-05-12T19:58:38.817Z"
   },
   {
    "duration": 41,
    "start_time": "2022-05-12T19:58:43.357Z"
   },
   {
    "duration": 17,
    "start_time": "2022-05-12T19:58:59.715Z"
   },
   {
    "duration": 18,
    "start_time": "2022-05-12T19:59:02.315Z"
   },
   {
    "duration": 15,
    "start_time": "2022-05-12T19:59:07.349Z"
   },
   {
    "duration": 17,
    "start_time": "2022-05-12T19:59:10.255Z"
   },
   {
    "duration": 18,
    "start_time": "2022-05-12T20:00:11.528Z"
   },
   {
    "duration": 22,
    "start_time": "2022-05-12T20:02:45.316Z"
   },
   {
    "duration": 18,
    "start_time": "2022-05-12T20:02:58.729Z"
   },
   {
    "duration": 27,
    "start_time": "2022-05-12T20:03:30.156Z"
   },
   {
    "duration": 20,
    "start_time": "2022-05-12T20:03:40.415Z"
   },
   {
    "duration": 8,
    "start_time": "2022-05-12T20:13:28.108Z"
   },
   {
    "duration": 65,
    "start_time": "2022-05-12T20:13:28.118Z"
   },
   {
    "duration": 33,
    "start_time": "2022-05-12T20:13:28.185Z"
   },
   {
    "duration": 21,
    "start_time": "2022-05-12T20:13:28.220Z"
   },
   {
    "duration": 6,
    "start_time": "2022-05-12T20:13:28.244Z"
   },
   {
    "duration": 13,
    "start_time": "2022-05-12T20:13:28.253Z"
   },
   {
    "duration": 35,
    "start_time": "2022-05-12T20:13:28.268Z"
   },
   {
    "duration": 138,
    "start_time": "2022-05-12T20:13:28.306Z"
   },
   {
    "duration": 16,
    "start_time": "2022-05-12T20:13:28.445Z"
   },
   {
    "duration": 33,
    "start_time": "2022-05-12T20:13:28.463Z"
   },
   {
    "duration": 327,
    "start_time": "2022-05-12T20:13:28.500Z"
   },
   {
    "duration": 259,
    "start_time": "2022-05-12T20:13:28.829Z"
   },
   {
    "duration": 255,
    "start_time": "2022-05-12T20:13:29.090Z"
   },
   {
    "duration": 338,
    "start_time": "2022-05-12T20:13:29.346Z"
   },
   {
    "duration": 10,
    "start_time": "2022-05-12T20:13:29.686Z"
   },
   {
    "duration": 287,
    "start_time": "2022-05-12T20:13:29.698Z"
   },
   {
    "duration": 420,
    "start_time": "2022-05-12T20:13:29.988Z"
   },
   {
    "duration": 258,
    "start_time": "2022-05-12T20:13:30.411Z"
   },
   {
    "duration": 6,
    "start_time": "2022-05-12T20:13:30.671Z"
   },
   {
    "duration": 270,
    "start_time": "2022-05-12T20:13:30.689Z"
   },
   {
    "duration": 5,
    "start_time": "2022-05-12T20:13:30.962Z"
   },
   {
    "duration": 294,
    "start_time": "2022-05-12T20:13:30.968Z"
   },
   {
    "duration": 196,
    "start_time": "2022-05-12T20:13:31.264Z"
   },
   {
    "duration": 38,
    "start_time": "2022-05-12T20:13:31.462Z"
   },
   {
    "duration": 17,
    "start_time": "2022-05-12T20:13:31.502Z"
   },
   {
    "duration": 34,
    "start_time": "2022-05-12T20:13:31.522Z"
   },
   {
    "duration": 27,
    "start_time": "2022-05-12T20:13:31.558Z"
   },
   {
    "duration": 26,
    "start_time": "2022-05-12T20:13:31.592Z"
   },
   {
    "duration": 39,
    "start_time": "2022-05-12T20:19:15.777Z"
   },
   {
    "duration": 39,
    "start_time": "2022-05-12T20:19:43.183Z"
   },
   {
    "duration": 41,
    "start_time": "2022-05-12T20:20:29.324Z"
   },
   {
    "duration": 43,
    "start_time": "2022-05-12T20:20:49.819Z"
   },
   {
    "duration": 37,
    "start_time": "2022-05-12T20:26:07.029Z"
   },
   {
    "duration": 16,
    "start_time": "2022-05-12T20:27:16.366Z"
   },
   {
    "duration": 15,
    "start_time": "2022-05-12T20:28:06.030Z"
   },
   {
    "duration": 31,
    "start_time": "2022-05-12T20:28:33.314Z"
   },
   {
    "duration": 18,
    "start_time": "2022-05-12T20:28:41.242Z"
   },
   {
    "duration": 36,
    "start_time": "2022-05-12T20:28:52.311Z"
   },
   {
    "duration": 197,
    "start_time": "2022-05-12T20:40:44.225Z"
   },
   {
    "duration": 40,
    "start_time": "2022-05-12T20:50:58.566Z"
   },
   {
    "duration": 14,
    "start_time": "2022-05-12T20:57:56.330Z"
   },
   {
    "duration": 15,
    "start_time": "2022-05-12T20:58:17.570Z"
   },
   {
    "duration": 16,
    "start_time": "2022-05-12T20:59:04.523Z"
   },
   {
    "duration": 28,
    "start_time": "2022-05-12T21:03:42.740Z"
   },
   {
    "duration": 10,
    "start_time": "2022-05-12T21:07:55.272Z"
   },
   {
    "duration": 23,
    "start_time": "2022-05-12T21:08:36.403Z"
   },
   {
    "duration": 13,
    "start_time": "2022-05-12T21:10:05.521Z"
   },
   {
    "duration": 13,
    "start_time": "2022-05-12T21:30:12.957Z"
   },
   {
    "duration": 17,
    "start_time": "2022-05-12T21:30:32.382Z"
   },
   {
    "duration": 17,
    "start_time": "2022-05-12T21:30:59.380Z"
   },
   {
    "duration": 8,
    "start_time": "2022-05-12T21:35:17.627Z"
   },
   {
    "duration": 147,
    "start_time": "2022-05-12T21:36:50.776Z"
   },
   {
    "duration": 5,
    "start_time": "2022-05-12T21:44:45.216Z"
   },
   {
    "duration": 4,
    "start_time": "2022-05-12T21:50:32.912Z"
   },
   {
    "duration": 4,
    "start_time": "2022-05-12T21:52:05.024Z"
   },
   {
    "duration": 5,
    "start_time": "2022-05-12T22:03:30.340Z"
   },
   {
    "duration": 30,
    "start_time": "2022-05-12T22:06:16.813Z"
   },
   {
    "duration": 23,
    "start_time": "2022-05-12T22:07:26.942Z"
   },
   {
    "duration": 11,
    "start_time": "2022-05-12T22:10:46.419Z"
   },
   {
    "duration": 1086,
    "start_time": "2022-05-12T22:29:02.319Z"
   },
   {
    "duration": 57,
    "start_time": "2022-05-12T22:29:03.407Z"
   },
   {
    "duration": 25,
    "start_time": "2022-05-12T22:29:03.465Z"
   },
   {
    "duration": 11,
    "start_time": "2022-05-12T22:29:03.492Z"
   },
   {
    "duration": 6,
    "start_time": "2022-05-12T22:29:03.504Z"
   },
   {
    "duration": 16,
    "start_time": "2022-05-12T22:29:03.512Z"
   },
   {
    "duration": 9,
    "start_time": "2022-05-12T22:29:03.530Z"
   },
   {
    "duration": 77,
    "start_time": "2022-05-12T22:29:03.541Z"
   },
   {
    "duration": 12,
    "start_time": "2022-05-12T22:29:03.620Z"
   },
   {
    "duration": 18,
    "start_time": "2022-05-12T22:29:03.634Z"
   },
   {
    "duration": 295,
    "start_time": "2022-05-12T22:29:03.654Z"
   },
   {
    "duration": 286,
    "start_time": "2022-05-12T22:29:03.951Z"
   },
   {
    "duration": 217,
    "start_time": "2022-05-12T22:29:04.239Z"
   },
   {
    "duration": 353,
    "start_time": "2022-05-12T22:29:04.458Z"
   },
   {
    "duration": 4,
    "start_time": "2022-05-12T22:29:04.813Z"
   },
   {
    "duration": 210,
    "start_time": "2022-05-12T22:29:04.819Z"
   },
   {
    "duration": 285,
    "start_time": "2022-05-12T22:29:05.030Z"
   },
   {
    "duration": 204,
    "start_time": "2022-05-12T22:29:05.317Z"
   },
   {
    "duration": 5,
    "start_time": "2022-05-12T22:29:05.523Z"
   },
   {
    "duration": 191,
    "start_time": "2022-05-12T22:29:05.530Z"
   },
   {
    "duration": 5,
    "start_time": "2022-05-12T22:29:05.723Z"
   },
   {
    "duration": 221,
    "start_time": "2022-05-12T22:29:05.729Z"
   },
   {
    "duration": 4,
    "start_time": "2022-05-12T22:29:05.951Z"
   },
   {
    "duration": 120,
    "start_time": "2022-05-12T22:29:05.957Z"
   },
   {
    "duration": 26,
    "start_time": "2022-05-12T22:29:06.087Z"
   },
   {
    "duration": 10,
    "start_time": "2022-05-12T22:29:06.115Z"
   },
   {
    "duration": 12,
    "start_time": "2022-05-12T22:29:06.126Z"
   },
   {
    "duration": 52,
    "start_time": "2022-05-12T22:29:06.139Z"
   },
   {
    "duration": 15,
    "start_time": "2022-05-12T22:29:06.193Z"
   },
   {
    "duration": 63,
    "start_time": "2022-05-12T22:44:15.041Z"
   },
   {
    "duration": 1285,
    "start_time": "2022-05-12T23:17:13.643Z"
   },
   {
    "duration": 58,
    "start_time": "2022-05-12T23:17:14.930Z"
   },
   {
    "duration": 35,
    "start_time": "2022-05-12T23:17:14.989Z"
   },
   {
    "duration": 12,
    "start_time": "2022-05-12T23:17:15.027Z"
   },
   {
    "duration": 6,
    "start_time": "2022-05-12T23:17:15.041Z"
   },
   {
    "duration": 46,
    "start_time": "2022-05-12T23:17:15.049Z"
   },
   {
    "duration": 10,
    "start_time": "2022-05-12T23:17:15.097Z"
   },
   {
    "duration": 48,
    "start_time": "2022-05-12T23:17:15.109Z"
   },
   {
    "duration": 37,
    "start_time": "2022-05-12T23:17:15.158Z"
   },
   {
    "duration": 16,
    "start_time": "2022-05-12T23:17:15.198Z"
   },
   {
    "duration": 290,
    "start_time": "2022-05-12T23:17:15.215Z"
   },
   {
    "duration": 299,
    "start_time": "2022-05-12T23:17:15.507Z"
   },
   {
    "duration": 216,
    "start_time": "2022-05-12T23:17:15.808Z"
   },
   {
    "duration": 435,
    "start_time": "2022-05-12T23:17:16.026Z"
   },
   {
    "duration": 5,
    "start_time": "2022-05-12T23:17:16.462Z"
   },
   {
    "duration": 216,
    "start_time": "2022-05-12T23:17:16.468Z"
   },
   {
    "duration": 337,
    "start_time": "2022-05-12T23:17:16.688Z"
   },
   {
    "duration": 200,
    "start_time": "2022-05-12T23:17:17.027Z"
   },
   {
    "duration": 5,
    "start_time": "2022-05-12T23:17:17.228Z"
   },
   {
    "duration": 196,
    "start_time": "2022-05-12T23:17:17.235Z"
   },
   {
    "duration": 4,
    "start_time": "2022-05-12T23:17:17.433Z"
   },
   {
    "duration": 226,
    "start_time": "2022-05-12T23:17:17.439Z"
   },
   {
    "duration": 4,
    "start_time": "2022-05-12T23:17:17.667Z"
   },
   {
    "duration": 142,
    "start_time": "2022-05-12T23:17:17.687Z"
   },
   {
    "duration": 22,
    "start_time": "2022-05-12T23:17:17.831Z"
   },
   {
    "duration": 11,
    "start_time": "2022-05-12T23:17:17.855Z"
   },
   {
    "duration": 27,
    "start_time": "2022-05-12T23:17:17.868Z"
   },
   {
    "duration": 31,
    "start_time": "2022-05-12T23:17:17.898Z"
   },
   {
    "duration": 13,
    "start_time": "2022-05-12T23:17:17.931Z"
   },
   {
    "duration": 1457,
    "start_time": "2022-05-13T09:07:52.256Z"
   },
   {
    "duration": 141,
    "start_time": "2022-05-13T09:07:53.715Z"
   },
   {
    "duration": 49,
    "start_time": "2022-05-13T09:07:53.858Z"
   },
   {
    "duration": 23,
    "start_time": "2022-05-13T09:07:53.910Z"
   },
   {
    "duration": 7,
    "start_time": "2022-05-13T09:07:53.938Z"
   },
   {
    "duration": 19,
    "start_time": "2022-05-13T09:07:53.982Z"
   },
   {
    "duration": 16,
    "start_time": "2022-05-13T09:07:54.004Z"
   },
   {
    "duration": 113,
    "start_time": "2022-05-13T09:07:54.023Z"
   },
   {
    "duration": 20,
    "start_time": "2022-05-13T09:07:54.139Z"
   },
   {
    "duration": 46,
    "start_time": "2022-05-13T09:07:54.161Z"
   },
   {
    "duration": 508,
    "start_time": "2022-05-13T09:07:54.210Z"
   },
   {
    "duration": 493,
    "start_time": "2022-05-13T09:07:54.720Z"
   },
   {
    "duration": 360,
    "start_time": "2022-05-13T09:07:55.215Z"
   },
   {
    "duration": 463,
    "start_time": "2022-05-13T09:07:55.583Z"
   },
   {
    "duration": 6,
    "start_time": "2022-05-13T09:07:56.049Z"
   },
   {
    "duration": 365,
    "start_time": "2022-05-13T09:07:56.058Z"
   },
   {
    "duration": 770,
    "start_time": "2022-05-13T09:07:56.425Z"
   },
   {
    "duration": 342,
    "start_time": "2022-05-13T09:07:57.198Z"
   },
   {
    "duration": 6,
    "start_time": "2022-05-13T09:07:57.543Z"
   },
   {
    "duration": 322,
    "start_time": "2022-05-13T09:07:57.552Z"
   },
   {
    "duration": 10,
    "start_time": "2022-05-13T09:07:57.876Z"
   },
   {
    "duration": 393,
    "start_time": "2022-05-13T09:07:57.888Z"
   },
   {
    "duration": 7,
    "start_time": "2022-05-13T09:07:58.283Z"
   },
   {
    "duration": 289,
    "start_time": "2022-05-13T09:07:58.292Z"
   },
   {
    "duration": 31,
    "start_time": "2022-05-13T09:07:58.584Z"
   },
   {
    "duration": 15,
    "start_time": "2022-05-13T09:07:58.617Z"
   },
   {
    "duration": 13,
    "start_time": "2022-05-13T09:07:58.635Z"
   },
   {
    "duration": 39,
    "start_time": "2022-05-13T09:07:58.682Z"
   },
   {
    "duration": 20,
    "start_time": "2022-05-13T09:07:58.723Z"
   }
  ],
  "kernelspec": {
   "display_name": "Python 3 (ipykernel)",
   "language": "python",
   "name": "python3"
  },
  "language_info": {
   "codemirror_mode": {
    "name": "ipython",
    "version": 3
   },
   "file_extension": ".py",
   "mimetype": "text/x-python",
   "name": "python",
   "nbconvert_exporter": "python",
   "pygments_lexer": "ipython3",
   "version": "3.9.7"
  },
  "toc": {
   "base_numbering": 1,
   "nav_menu": {},
   "number_sections": true,
   "sideBar": true,
   "skip_h1_title": true,
   "title_cell": "Содержание:",
   "title_sidebar": "Содержание:",
   "toc_cell": true,
   "toc_position": {
    "height": "calc(100% - 180px)",
    "left": "10px",
    "top": "150px",
    "width": "325.391px"
   },
   "toc_section_display": true,
   "toc_window_display": true
  }
 },
 "nbformat": 4,
 "nbformat_minor": 2
}
